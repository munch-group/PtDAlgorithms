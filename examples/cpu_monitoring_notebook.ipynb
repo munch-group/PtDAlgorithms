{
 "cells": [
  {
   "cell_type": "markdown",
   "id": "intro",
   "metadata": {},
   "source": [
    "# CPU Monitoring in Jupyter Notebooks\n",
    "\n",
    "This notebook demonstrates how to use PtDAlgorithms' CPU monitoring features in Jupyter.\n",
    "\n",
    "## Features\n",
    "\n",
    "- **Cell Magic `%%usage`**: Monitor CPU during cell execution\n",
    "- **Context Manager**: Use `with CPUMonitor()` for explicit control\n",
    "- **Auto-width**: Automatically fits notebook width\n",
    "- **Per-core bars**: Beautiful widget-based progress bars\n",
    "- **SLURM-aware**: Detects allocated nodes and CPUs\n",
    "- **Summary stats**: Shows mean/min/max usage after completion"
   ]
  },
  {
   "cell_type": "code",
   "execution_count": null,
   "id": "imports",
   "metadata": {},
   "outputs": [],
   "source": [
    "import time\n",
    "import numpy as np\n",
    "import ptdalgorithms as pta\n",
    "\n",
    "print(\"PtDAlgorithms CPU Monitoring Loaded!\")\n",
    "print(\"Available features:\")\n",
    "print(\"  - %%usage cell magic (auto-registered)\")\n",
    "print(\"  - CPUMonitor context manager\")\n",
    "print(\"  - monitor_cpu decorator\")"
   ]
  },
  {
   "cell_type": "markdown",
   "id": "example1-header",
   "metadata": {},
   "source": [
    "## Example 1: Using `%%usage` Cell Magic\n",
    "\n",
    "The easiest way to monitor CPU usage is with the `%%usage` cell magic.\n",
    "Simply add `%%usage` at the top of any cell!"
   ]
  },
  {
   "cell_type": "code",
   "execution_count": null,
   "id": "example1",
   "metadata": {},
   "outputs": [],
   "source": [
    "%%usage\n",
    "\n",
    "# Simulate some computation\n",
    "print(\"Running computation...\")\n",
    "for i in range(5):\n",
    "    x = sum(range(10_000_000))\n",
    "    time.sleep(0.5)\n",
    "print(\"Done!\")"
   ]
  },
  {
   "cell_type": "markdown",
   "id": "example2-header",
   "metadata": {},
   "source": [
    "## Example 2: Custom Width and Update Interval\n",
    "\n",
    "You can customize the display width and update frequency:"
   ]
  },
  {
   "cell_type": "code",
   "execution_count": null,
   "id": "example2",
   "metadata": {},
   "outputs": [],
   "source": [
    "%%usage --width 100 --interval 0.25\n",
    "\n",
    "# More frequent updates (4 times per second)\n",
    "print(\"Running with custom settings...\")\n",
    "for i in range(10):\n",
    "    x = sum(range(5_000_000))\n",
    "    time.sleep(0.3)\n",
    "print(\"Complete!\")"
   ]
  },
  {
   "cell_type": "markdown",
   "id": "example3-header",
   "metadata": {},
   "source": [
    "## Example 3: Context Manager\n",
    "\n",
    "For more control, use the `CPUMonitor` context manager:"
   ]
  },
  {
   "cell_type": "code",
   "execution_count": null,
   "id": "example3",
   "metadata": {},
   "outputs": [],
   "source": [
    "print(\"Using context manager...\")\n",
    "\n",
    "with pta.CPUMonitor(update_interval=0.5):\n",
    "    # Your computation here\n",
    "    for i in range(5):\n",
    "        result = np.linalg.eigvals(np.random.randn(500, 500))\n",
    "        time.sleep(0.5)\n",
    "\n",
    "print(\"Monitoring complete!\")"
   ]
  },
  {
   "cell_type": "markdown",
   "id": "example4-header",
   "metadata": {},
   "source": [
    "## Example 4: NumPy Operations\n",
    "\n",
    "Monitor CPU usage during real computational work:"
   ]
  },
  {
   "cell_type": "code",
   "execution_count": null,
   "id": "example4",
   "metadata": {},
   "outputs": [],
   "source": [
    "%%usage\n",
    "\n",
    "# Matrix operations\n",
    "n = 2000\n",
    "print(f\"Creating {n}x{n} matrices...\")\n",
    "A = np.random.randn(n, n)\n",
    "B = np.random.randn(n, n)\n",
    "\n",
    "print(\"Matrix multiplication...\")\n",
    "C = np.dot(A, B)\n",
    "\n",
    "print(\"Computing eigenvalues...\")\n",
    "eigenvalues = np.linalg.eigvals(C[:500, :500])\n",
    "\n",
    "print(f\"Computed {len(eigenvalues)} eigenvalues\")"
   ]
  },
  {
   "cell_type": "markdown",
   "id": "example5-header",
   "metadata": {},
   "source": [
    "## Example 5: PtDAlgorithms Graph Operations\n",
    "\n",
    "Monitor CPU usage during phase-type distribution computations:"
   ]
  },
  {
   "cell_type": "code",
   "execution_count": null,
   "id": "example5",
   "metadata": {},
   "outputs": [],
   "source": [
    "# Create a phase-type distribution\n",
    "g = pta.Graph(1)\n",
    "start = g.starting_vertex()\n",
    "\n",
    "# Create vertices\n",
    "v0 = g.find_or_create_vertex([0])\n",
    "v1 = g.find_or_create_vertex([1])\n",
    "v2 = g.find_or_create_vertex([2])\n",
    "\n",
    "# Add transitions\n",
    "start.add_edge(v0, 1.0)\n",
    "v0.add_edge(v1, 2.0)\n",
    "v1.add_edge(v2, 1.5)\n",
    "\n",
    "g.normalize()\n",
    "\n",
    "print(f\"Created graph with {g.vertices_length()} vertices\")"
   ]
  },
  {
   "cell_type": "code",
   "execution_count": null,
   "id": "example5-compute",
   "metadata": {},
   "outputs": [],
   "source": [
    "%%usage\n",
    "\n",
    "# Evaluate PDF with monitoring\n",
    "print(\"Evaluating PDF at 50,000 time points...\")\n",
    "times = np.linspace(0.1, 10.0, 50_000)\n",
    "pdf_values = g.pdf_batch(times)\n",
    "\n",
    "print(f\"PDF computed!\")\n",
    "print(f\"  Max value: {np.max(pdf_values):.4f}\")\n",
    "print(f\"  Mean value: {np.mean(pdf_values):.4f}\")"
   ]
  },
  {
   "cell_type": "markdown",
   "id": "example6-header",
   "metadata": {},
   "source": [
    "## Example 6: Parallel Computation with JAX\n",
    "\n",
    "If JAX is available, monitor parallel computations:"
   ]
  },
  {
   "cell_type": "code",
   "execution_count": null,
   "id": "example6",
   "metadata": {},
   "outputs": [],
   "source": [
    "try:\n",
    "    # Initialize parallel configuration\n",
    "    config = pta.init_parallel()\n",
    "    print(f\"Parallel config: {config.device_count} devices, strategy={config.strategy}\")\n",
    "except Exception as e:\n",
    "    print(f\"Could not initialize parallel config: {e}\")"
   ]
  },
  {
   "cell_type": "code",
   "execution_count": null,
   "id": "example6-compute",
   "metadata": {},
   "outputs": [],
   "source": [
    "%%usage\n",
    "\n",
    "# Run computation with monitoring\n",
    "print(\"Running parallel computation...\")\n",
    "times_large = np.linspace(0.1, 10.0, 100_000)\n",
    "\n",
    "try:\n",
    "    pdf_large = g.pdf_batch(times_large)\n",
    "    print(f\"Computed {len(pdf_large)} PDF values\")\n",
    "except Exception as e:\n",
    "    print(f\"Computation failed: {e}\")"
   ]
  },
  {
   "cell_type": "markdown",
   "id": "example7-header",
   "metadata": {},
   "source": [
    "## Example 7: Multiple Operations\n",
    "\n",
    "Monitor a sequence of different operations:"
   ]
  },
  {
   "cell_type": "code",
   "execution_count": null,
   "id": "example7",
   "metadata": {},
   "outputs": [],
   "source": [
    "%%usage\n",
    "\n",
    "print(\"Phase 1: Matrix creation\")\n",
    "X = np.random.randn(1000, 1000)\n",
    "time.sleep(0.5)\n",
    "\n",
    "print(\"Phase 2: Matrix multiplication\")\n",
    "Y = X @ X.T\n",
    "time.sleep(0.5)\n",
    "\n",
    "print(\"Phase 3: Eigenvalue computation\")\n",
    "eigs = np.linalg.eigvals(Y[:300, :300])\n",
    "time.sleep(0.5)\n",
    "\n",
    "print(\"Phase 4: SVD\")\n",
    "U, s, Vh = np.linalg.svd(Y[:300, :300])\n",
    "\n",
    "print(\"All phases complete!\")"
   ]
  },
  {
   "cell_type": "markdown",
   "id": "summary",
   "metadata": {},
   "source": [
    "## Summary\n",
    "\n",
    "### Key Features\n",
    "\n",
    "- **Easy to use**: Just add `%%usage` to any cell\n",
    "- **Auto-width**: Automatically fits notebook layout\n",
    "- **Per-core monitoring**: See individual CPU core usage\n",
    "- **Live updates**: Bars update in real-time during execution\n",
    "- **Summary statistics**: Mean, min, max, and CPU-seconds\n",
    "- **SLURM support**: Works on single-node and multi-node SLURM jobs\n",
    "\n",
    "### Cell Magic Options\n",
    "\n",
    "```python\n",
    "%%usage                           # Default settings\n",
    "%%usage --width 120               # Custom width\n",
    "%%usage --interval 0.25           # Faster updates\n",
    "%%usage --width 100 --interval 1.0  # Both custom\n",
    "```\n",
    "\n",
    "### Context Manager\n",
    "\n",
    "```python\n",
    "with pta.CPUMonitor():                           # Default\n",
    "with pta.CPUMonitor(width=120):                  # Custom width\n",
    "with pta.CPUMonitor(update_interval=0.25):       # Faster updates\n",
    "with pta.CPUMonitor(show_summary=False):         # No summary\n",
    "```\n",
    "\n",
    "### SLURM Usage\n",
    "\n",
    "The monitor automatically detects SLURM environment and shows:\n",
    "- All allocated nodes\n",
    "- CPUs per node\n",
    "- Per-core usage for each node\n",
    "- Summary statistics per node\n",
    "\n",
    "Example SLURM script:\n",
    "```bash\n",
    "#!/bin/bash\n",
    "#SBATCH --nodes=2\n",
    "#SBATCH --cpus-per-task=8\n",
    "#SBATCH --time=1:00:00\n",
    "\n",
    "# Jupyter will show 2 nodes × 8 CPUs each\n",
    "jupyter notebook cpu_monitoring_notebook.ipynb\n",
    "```"
   ]
  }
 ],
 "metadata": {
  "kernelspec": {
   "display_name": "Python 3",
   "language": "python",
   "name": "python3"
  },
  "language_info": {
   "codemirror_mode": {
    "name": "ipython",
    "version": 3
   },
   "file_extension": ".py",
   "mimetype": "text/x-python",
   "name": "python",
   "nbconvert_exporter": "python",
   "pygments_lexer": "ipython3",
   "version": "3.11.0"
  }
 },
 "nbformat": 4,
 "nbformat_minor": 5
}
