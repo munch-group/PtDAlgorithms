{
 "cells": [
  {
   "cell_type": "raw",
   "id": "48503a99-565b-44cf-bc8d-79ecc081b7e8",
   "metadata": {
    "vscode": {
     "languageId": "raw"
    }
   },
   "source": [
    "---\n",
    "title: Epochs\n",
    "---"
   ]
  },
  {
   "cell_type": "code",
   "execution_count": null,
   "id": "5f2ca1d7-e89a-490a-876d-8d44e51cb67b",
   "metadata": {},
   "outputs": [],
   "source": []
  },
  {
   "cell_type": "markdown",
   "id": "000b3445-d453-4d27-9c49-c97544a5bca3",
   "metadata": {},
   "source": []
  },
  {
   "cell_type": "markdown",
   "id": "56970991-4d00-4879-96a0-5132ba66828b",
   "metadata": {},
   "source": [
    "::: {.callout-caution }\n",
    "## This pages is under construction\n",
    "\n",
    ":::"
   ]
  }
 ],
 "metadata": {
  "kernelspec": {
   "display_name": "ptd",
   "language": "python",
   "name": "python3"
  },
  "language_info": {
   "codemirror_mode": {
    "name": "ipython",
    "version": 3
   },
   "file_extension": ".py",
   "mimetype": "text/x-python",
   "name": "python",
   "nbconvert_exporter": "python",
   "pygments_lexer": "ipython3",
   "version": "3.11.9"
  }
 },
 "nbformat": 4,
 "nbformat_minor": 5
}
