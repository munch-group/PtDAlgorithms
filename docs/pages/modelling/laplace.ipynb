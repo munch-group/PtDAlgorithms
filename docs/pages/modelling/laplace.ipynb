{
 "cells": [
  {
   "cell_type": "raw",
   "id": "a0172295-3d7a-458b-82c1-222179fa2fb9",
   "metadata": {
    "vscode": {
     "languageId": "raw"
    }
   },
   "source": [
    "---\n",
    "title: Laplace transform\n",
    "---"
   ]
  },
  {
   "cell_type": "markdown",
   "id": "db02238d-36fe-4ab0-81d7-38c546bc57ec",
   "metadata": {},
   "source": [
    "## Generate laplace graph"
   ]
  },
  {
   "cell_type": "raw",
   "id": "fd160239",
   "metadata": {},
   "source": []
  },
  {
   "cell_type": "markdown",
   "id": "ba086b60-8b56-429b-a072-6cc6735b75ce",
   "metadata": {},
   "source": []
  },
  {
   "cell_type": "markdown",
   "id": "63e7bfce-8c0f-471c-a8b4-12e50e63545b",
   "metadata": {},
   "source": [
    "::: {.callout-caution }\n",
    "## These pages are under construction\n",
    "\n",
    ":::"
   ]
  },
  {
   "cell_type": "markdown",
   "id": "b4e1c9eb",
   "metadata": {},
   "source": []
  }
 ],
 "metadata": {
  "kernelspec": {
   "display_name": "ptd",
   "language": "python",
   "name": "python3"
  },
  "language_info": {
   "codemirror_mode": {
    "name": "ipython",
    "version": 3
   },
   "file_extension": ".py",
   "mimetype": "text/x-python",
   "name": "python",
   "nbconvert_exporter": "python",
   "pygments_lexer": "ipython3",
   "version": "3.11.9"
  }
 },
 "nbformat": 4,
 "nbformat_minor": 5
}
