{
 "cells": [
  {
   "cell_type": "raw",
   "id": "346c71d4-73d8-40b0-be3f-87abc7a76e88",
   "metadata": {},
   "source": [
    "---\n",
    "title: State lumping\n",
    "---"
   ]
  },
  {
   "cell_type": "code",
   "execution_count": null,
   "id": "ac60b30e-6976-41ad-8f6c-6e06bbdce6a6",
   "metadata": {},
   "outputs": [],
   "source": []
  },
  {
   "cell_type": "markdown",
   "id": "eec1e917-c0a7-475a-b324-579410a3eecc",
   "metadata": {},
   "source": [
    "::: {.callout-caution }\n",
    "## This pages is under construction\n",
    "\n",
    ":::"
   ]
  },
  {
   "cell_type": "code",
   "execution_count": null,
   "id": "33274999-3e7a-4db7-9161-1676589d791c",
   "metadata": {},
   "outputs": [],
   "source": []
  }
 ],
 "metadata": {
  "kernelspec": {
   "display_name": "Python 3 (ipykernel)",
   "language": "python",
   "name": "python3"
  },
  "language_info": {
   "codemirror_mode": {
    "name": "ipython",
    "version": 3
   },
   "file_extension": ".py",
   "mimetype": "text/x-python",
   "name": "python",
   "nbconvert_exporter": "python",
   "pygments_lexer": "ipython3",
   "version": "3.11.9"
  }
 },
 "nbformat": 4,
 "nbformat_minor": 5
}
