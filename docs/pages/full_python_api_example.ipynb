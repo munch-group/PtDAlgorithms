{
 "cells": [
  {
   "cell_type": "markdown",
   "metadata": {},
   "source": [
    "# Full Python API example of ptdalgorithms\n",
    "This notebook will describe almost all functions of the ptdalgorithms Python package. The core functionality is implemented in C, with a binding layer to Python through C++ and pybind11. Except for the specified construction code of the state space, most code will be almost equally fast to invoking the C api directly (maybe twice as slow). The package is based on graph algorithms published in (...), and is many orders of magnitude faster than matrix-based equations which are usually applied. We do not recommend using the C++ api directly.\n",
    "\n",
    "We will show how to install the package and construct a state space through the Python api. We will then show how to compute the moments (expectation, variance) through the ptdalgorithms package, and how to compute the distribution functions. This means that you can make discrete and continuous phase-type distributions, compute their moments, distribution functions, sample from them, compute rewards and multivariate distributions, and time inhomogenous distributions.\n",
    "\n",
    "We will also show how easy it is to create the state-space in C and return it to Python, to make large graphs!"
   ]
  },
  {
   "cell_type": "code",
   "execution_count": 1,
   "metadata": {
    "execution": {
     "iopub.execute_input": "2025-03-05T20:33:54.900408Z",
     "iopub.status.busy": "2025-03-05T20:33:54.900086Z",
     "iopub.status.idle": "2025-03-05T20:33:54.924032Z",
     "shell.execute_reply": "2025-03-05T20:33:54.923490Z"
    }
   },
   "outputs": [],
   "source": [
    "%load_ext autoreload\n",
    "%autoreload 2"
   ]
  },
  {
   "cell_type": "markdown",
   "metadata": {},
   "source": [
    "## Installing the ptdalgorithms library"
   ]
  },
  {
   "cell_type": "markdown",
   "metadata": {},
   "source": [
    "Using conda (recommended):\n",
    "\n",
    "```txt\n",
    "conda install -c conda-forge -c munch-group ptdalgorithms\n",
    "```"
   ]
  },
  {
   "cell_type": "markdown",
   "metadata": {},
   "source": [
    "Using pip:\n",
    "\n",
    "```txt\n",
    "pip install ptdalgorithms\n",
    "```"
   ]
  },
  {
   "cell_type": "code",
   "execution_count": 2,
   "metadata": {
    "execution": {
     "iopub.execute_input": "2025-03-05T20:33:54.927346Z",
     "iopub.status.busy": "2025-03-05T20:33:54.927180Z",
     "iopub.status.idle": "2025-03-05T20:33:56.007962Z",
     "shell.execute_reply": "2025-03-05T20:33:56.007692Z"
    }
   },
   "outputs": [],
   "source": [
    "import pandas as pd\n",
    "import numpy as np\n",
    "np.random.seed(42)\n",
    "import matplotlib.pyplot as plt\n",
    "import seaborn as sns\n",
    "\n",
    "# plt.style.use('dark_background')\n",
    "# import matplotlib\n",
    "# matplotlib.rcParams['axes.facecolor'] = '#1F1F1F'\n",
    "# matplotlib.rcParams['figure.facecolor'] = '#1F1F1F'\n",
    "\n",
    "\n",
    "#%matplotlib widget\n",
    "\n",
    "%config InlineBackend.figure_format = 'retina'\n",
    "\n",
    "import ptdalgorithms as ptd"
   ]
  },
  {
   "cell_type": "markdown",
   "metadata": {},
   "source": [
    "# State-space construction"
   ]
  },
  {
   "cell_type": "code",
   "execution_count": 3,
   "metadata": {
    "execution": {
     "iopub.execute_input": "2025-03-05T20:33:56.009746Z",
     "iopub.status.busy": "2025-03-05T20:33:56.009637Z",
     "iopub.status.idle": "2025-03-05T20:33:56.021988Z",
     "shell.execute_reply": "2025-03-05T20:33:56.021761Z"
    }
   },
   "outputs": [],
   "source": [
    "def c(*args):\n",
    "    elem = []\n",
    "    for arg in args:\n",
    "        if hasattr(arg, '__len__') and len(arg) > 1:\n",
    "            elem.extend(arg)\n",
    "        else:\n",
    "            elem.append(arg)\n",
    "    return np.array(elem)"
   ]
  },
  {
   "cell_type": "code",
   "execution_count": 4,
   "metadata": {
    "execution": {
     "iopub.execute_input": "2025-03-05T20:33:56.023533Z",
     "iopub.status.busy": "2025-03-05T20:33:56.023448Z",
     "iopub.status.idle": "2025-03-05T20:33:56.035105Z",
     "shell.execute_reply": "2025-03-05T20:33:56.034872Z"
    }
   },
   "outputs": [],
   "source": [
    "def print_states(vertex):\n",
    "    print(vertex.state())\n",
    "    for edge in vertex.edges():\n",
    "        print(\" \", edge.weight() , \"->\", edge.to().state())    "
   ]
  },
  {
   "cell_type": "markdown",
   "metadata": {},
   "source": [
    "This phase-type distribution models the time until all rabits have died We can find the expectation, variance, moments"
   ]
  },
  {
   "cell_type": "code",
   "execution_count": 5,
   "metadata": {
    "execution": {
     "iopub.execute_input": "2025-03-05T20:33:56.036761Z",
     "iopub.status.busy": "2025-03-05T20:33:56.036681Z",
     "iopub.status.idle": "2025-03-05T20:33:56.050096Z",
     "shell.execute_reply": "2025-03-05T20:33:56.049852Z"
    }
   },
   "outputs": [],
   "source": [
    "def construct_rabbit_graph(nr_rabbits, flood_left, flood_right):\n",
    "    \n",
    "    # we represent the vector as two integers, the number of \n",
    "    # rabbits on the left and right island\n",
    "    state_vector_length = 2\n",
    "    graph = ptd.Graph(state_vector_length)\n",
    "    \n",
    "    # the initial state is the only starting state, with probability 1\n",
    "    initial_state = [nr_rabbits, 0]\n",
    "    vertex = graph.find_or_create_vertex(initial_state)\n",
    "    graph.starting_vertex().add_edge(vertex, 1)\n",
    "    \n",
    "    index = 1\n",
    "    # iterate over all unvisited vertices\n",
    "    while index < graph.vertices_length():\n",
    "        vertex = graph.vertex_at(index)\n",
    "        state = vertex.state()\n",
    "        \n",
    "        if state[0] > 0:\n",
    "            # rabbit jump left to right\n",
    "            child_state = [state[0] - 1, state[1] + 1]\n",
    "            vertex.add_edge(\n",
    "                graph.find_or_create_vertex(child_state),\n",
    "                weight=1\n",
    "            )\n",
    "            # left island flooding\n",
    "            child_state = [0, state[1]]\n",
    "            vertex.add_edge(\n",
    "                graph.find_or_create_vertex(child_state), \n",
    "                weight=flood_left\n",
    "            )\n",
    "        if state[1] > 0:   \n",
    "            child_state = [state[0] + 1, state[1] - 1]\n",
    "            vertex.add_edge(\n",
    "                graph.find_or_create_vertex(child_state),\n",
    "                weight=1\n",
    "            )\n",
    "            # right island flooding\n",
    "            child_state = [state[0], 0]\n",
    "            vertex.add_edge(\n",
    "                graph.find_or_create_vertex(child_state), \n",
    "                weight=flood_right\n",
    "            )\n",
    "    \n",
    "        index += 1\n",
    "    return graph"
   ]
  },
  {
   "cell_type": "code",
   "execution_count": 6,
   "metadata": {
    "execution": {
     "iopub.execute_input": "2025-03-05T20:33:56.051592Z",
     "iopub.status.busy": "2025-03-05T20:33:56.051513Z",
     "iopub.status.idle": "2025-03-05T20:33:56.064632Z",
     "shell.execute_reply": "2025-03-05T20:33:56.064403Z"
    }
   },
   "outputs": [
    {
     "data": {
      "text/plain": [
       "array([[0, 0],\n",
       "       [2, 0],\n",
       "       [1, 1],\n",
       "       [0, 0],\n",
       "       [0, 2],\n",
       "       [0, 1],\n",
       "       [1, 0]], dtype=int32)"
      ]
     },
     "execution_count": 6,
     "metadata": {},
     "output_type": "execute_result"
    }
   ],
   "source": [
    "graph = construct_rabbit_graph(2, 2, 4)        \n",
    "graph.states()"
   ]
  },
  {
   "cell_type": "markdown",
   "metadata": {},
   "source": [
    "You can plot the graph for visual inspection:"
   ]
  },
  {
   "cell_type": "code",
   "execution_count": 7,
   "metadata": {
    "execution": {
     "iopub.execute_input": "2025-03-05T20:33:56.083468Z",
     "iopub.status.busy": "2025-03-05T20:33:56.083339Z",
     "iopub.status.idle": "2025-03-05T20:33:56.164580Z",
     "shell.execute_reply": "2025-03-05T20:33:56.164233Z"
    }
   },
   "outputs": [
    {
     "data": {
      "image/svg+xml": [
       "<?xml version=\"1.0\" encoding=\"UTF-8\" standalone=\"no\"?>\n",
       "<!DOCTYPE svg PUBLIC \"-//W3C//DTD SVG 1.1//EN\"\n",
       " \"http://www.w3.org/Graphics/SVG/1.1/DTD/svg11.dtd\">\n",
       "<!-- Generated by graphviz version 12.0.0 (0)\n",
       " -->\n",
       "<!-- Pages: 1 -->\n",
       "<svg width=\"504pt\" height=\"257pt\"\n",
       " viewBox=\"0.00 0.00 504.00 256.78\" xmlns=\"http://www.w3.org/2000/svg\" xmlns:xlink=\"http://www.w3.org/1999/xlink\">\n",
       "<g id=\"graph0\" class=\"graph\" transform=\"scale(0.666667 0.666667) rotate(0) translate(36 349.18)\">\n",
       "<!-- 0 -->\n",
       "<g id=\"node1\" class=\"node\">\n",
       "<title>0</title>\n",
       "<ellipse fill=\"#eeeeee\" stroke=\"black\" cx=\"27\" cy=\"-187.18\" rx=\"27\" ry=\"18\"/>\n",
       "<text text-anchor=\"middle\" x=\"27\" y=\"-182.15\" font-family=\"Helvetica,Arial,sans-serif\" font-size=\"12.00\">S</text>\n",
       "</g>\n",
       "<!-- 1 -->\n",
       "<g id=\"node2\" class=\"node\">\n",
       "<title>1</title>\n",
       "<ellipse fill=\"white\" stroke=\"black\" cx=\"153\" cy=\"-187.18\" rx=\"27\" ry=\"18\"/>\n",
       "<text text-anchor=\"middle\" x=\"153\" y=\"-182.15\" font-family=\"Helvetica,Arial,sans-serif\" font-size=\"12.00\">2,0</text>\n",
       "</g>\n",
       "<!-- 0&#45;&gt;1 -->\n",
       "<g id=\"edge1\" class=\"edge\">\n",
       "<title>0&#45;&gt;1</title>\n",
       "<path fill=\"none\" stroke=\"black\" d=\"M54.3,-187.18C71.72,-187.18 94.86,-187.18 114.24,-187.18\"/>\n",
       "<polygon fill=\"black\" stroke=\"black\" points=\"114.23,-190.68 124.23,-187.18 114.23,-183.68 114.23,-190.68\"/>\n",
       "<text text-anchor=\"middle\" x=\"78.26\" y=\"-175.78\" font-family=\"Helvetica,Arial,sans-serif\" font-size=\"12.00\">1.00</text>\n",
       "</g>\n",
       "<!-- 2 -->\n",
       "<g id=\"node3\" class=\"node\">\n",
       "<title>2</title>\n",
       "<ellipse fill=\"white\" stroke=\"black\" cx=\"279\" cy=\"-187.18\" rx=\"27\" ry=\"18\"/>\n",
       "<text text-anchor=\"middle\" x=\"279\" y=\"-182.15\" font-family=\"Helvetica,Arial,sans-serif\" font-size=\"12.00\">1,1</text>\n",
       "</g>\n",
       "<!-- 1&#45;&gt;2 -->\n",
       "<g id=\"edge2\" class=\"edge\">\n",
       "<title>1&#45;&gt;2</title>\n",
       "<path fill=\"none\" stroke=\"black\" d=\"M165.44,-170.72C186.11,-158.41 229.98,-156.88 256.43,-166.12\"/>\n",
       "<polygon fill=\"black\" stroke=\"black\" points=\"254.66,-169.16 265.21,-170.11 257.55,-162.79 254.66,-169.16\"/>\n",
       "<text text-anchor=\"middle\" x=\"204.28\" y=\"-148.78\" font-family=\"Helvetica,Arial,sans-serif\" font-size=\"12.00\">1.00</text>\n",
       "</g>\n",
       "<!-- 3 -->\n",
       "<g id=\"node4\" class=\"node\">\n",
       "<title>3</title>\n",
       "<ellipse fill=\"#eeeeee\" stroke=\"black\" cx=\"657\" cy=\"-123.18\" rx=\"27\" ry=\"18\"/>\n",
       "<text text-anchor=\"middle\" x=\"657\" y=\"-118.15\" font-family=\"Helvetica,Arial,sans-serif\" font-size=\"12.00\">0,0</text>\n",
       "</g>\n",
       "<!-- 1&#45;&gt;3 -->\n",
       "<g id=\"edge3\" class=\"edge\">\n",
       "<title>1&#45;&gt;3</title>\n",
       "<path fill=\"none\" stroke=\"black\" d=\"M171.7,-173.94C221.03,-138.01 365.57,-39.09 504,-6.18 527.35,-0.63 536.25,3.98 558,-6.18 597.39,-24.56 626.54,-67.43 642.4,-95.85\"/>\n",
       "<polygon fill=\"black\" stroke=\"black\" points=\"639.29,-97.46 647.1,-104.62 645.46,-94.15 639.29,-97.46\"/>\n",
       "<text text-anchor=\"middle\" x=\"358.1\" y=\"-43.75\" font-family=\"Helvetica,Arial,sans-serif\" font-size=\"12.00\">2.00</text>\n",
       "</g>\n",
       "<!-- 2&#45;&gt;1 -->\n",
       "<g id=\"edge6\" class=\"edge\">\n",
       "<title>2&#45;&gt;1</title>\n",
       "<path fill=\"none\" stroke=\"black\" d=\"M266.58,-203.61C245.94,-215.93 202.07,-217.48 175.6,-208.25\"/>\n",
       "<polygon fill=\"black\" stroke=\"black\" points=\"177.37,-205.21 166.82,-204.26 174.48,-211.58 177.37,-205.21\"/>\n",
       "<text text-anchor=\"middle\" x=\"204.51\" y=\"-202.78\" font-family=\"Helvetica,Arial,sans-serif\" font-size=\"12.00\">1.00</text>\n",
       "</g>\n",
       "<!-- 4 -->\n",
       "<g id=\"node5\" class=\"node\">\n",
       "<title>4</title>\n",
       "<ellipse fill=\"white\" stroke=\"black\" cx=\"405\" cy=\"-295.18\" rx=\"27\" ry=\"18\"/>\n",
       "<text text-anchor=\"middle\" x=\"405\" y=\"-290.15\" font-family=\"Helvetica,Arial,sans-serif\" font-size=\"12.00\">0,2</text>\n",
       "</g>\n",
       "<!-- 2&#45;&gt;4 -->\n",
       "<g id=\"edge4\" class=\"edge\">\n",
       "<title>2&#45;&gt;4</title>\n",
       "<path fill=\"none\" stroke=\"black\" d=\"M306.3,-187.54C332.75,-203.1 372.36,-239.53 392.03,-267.99\"/>\n",
       "<polygon fill=\"black\" stroke=\"black\" points=\"389.02,-269.78 397.3,-276.4 394.95,-266.06 389.02,-269.78\"/>\n",
       "<text text-anchor=\"middle\" x=\"345.19\" y=\"-216.38\" font-family=\"Helvetica,Arial,sans-serif\" font-size=\"12.00\">1.00</text>\n",
       "</g>\n",
       "<!-- 5 -->\n",
       "<g id=\"node6\" class=\"node\">\n",
       "<title>5</title>\n",
       "<ellipse fill=\"white\" stroke=\"black\" cx=\"405\" cy=\"-187.18\" rx=\"27\" ry=\"18\"/>\n",
       "<text text-anchor=\"middle\" x=\"405\" y=\"-182.15\" font-family=\"Helvetica,Arial,sans-serif\" font-size=\"12.00\">0,1</text>\n",
       "</g>\n",
       "<!-- 2&#45;&gt;5 -->\n",
       "<g id=\"edge5\" class=\"edge\">\n",
       "<title>2&#45;&gt;5</title>\n",
       "<path fill=\"none\" stroke=\"black\" d=\"M306.3,-187.18C323.72,-187.18 346.86,-187.18 366.24,-187.18\"/>\n",
       "<polygon fill=\"black\" stroke=\"black\" points=\"366.23,-190.68 376.23,-187.18 366.23,-183.68 366.23,-190.68\"/>\n",
       "<text text-anchor=\"middle\" x=\"330.26\" y=\"-175.78\" font-family=\"Helvetica,Arial,sans-serif\" font-size=\"12.00\">2.00</text>\n",
       "</g>\n",
       "<!-- 6 -->\n",
       "<g id=\"node7\" class=\"node\">\n",
       "<title>6</title>\n",
       "<ellipse fill=\"white\" stroke=\"black\" cx=\"531\" cy=\"-60.18\" rx=\"27\" ry=\"18\"/>\n",
       "<text text-anchor=\"middle\" x=\"531\" y=\"-55.15\" font-family=\"Helvetica,Arial,sans-serif\" font-size=\"12.00\">1,0</text>\n",
       "</g>\n",
       "<!-- 2&#45;&gt;6 -->\n",
       "<g id=\"edge7\" class=\"edge\">\n",
       "<title>2&#45;&gt;6</title>\n",
       "<path fill=\"none\" stroke=\"black\" d=\"M300.09,-175.67C319.78,-164.51 350.71,-147.23 378,-133.18 418.97,-112.07 467.04,-89.31 497.98,-74.92\"/>\n",
       "<polygon fill=\"black\" stroke=\"black\" points=\"499.19,-78.21 506.79,-70.83 496.25,-71.86 499.19,-78.21\"/>\n",
       "<text text-anchor=\"middle\" x=\"391.52\" y=\"-109.04\" font-family=\"Helvetica,Arial,sans-serif\" font-size=\"12.00\">4.00</text>\n",
       "</g>\n",
       "<!-- 4&#45;&gt;2 -->\n",
       "<g id=\"edge8\" class=\"edge\">\n",
       "<title>4&#45;&gt;2</title>\n",
       "<path fill=\"none\" stroke=\"black\" d=\"M377.51,-294.7C351.1,-279.1 311.71,-242.86 292.05,-214.49\"/>\n",
       "<polygon fill=\"black\" stroke=\"black\" points=\"295.07,-212.71 286.79,-206.11 289.15,-216.43 295.07,-212.71\"/>\n",
       "<text text-anchor=\"middle\" x=\"315.54\" y=\"-243.15\" font-family=\"Helvetica,Arial,sans-serif\" font-size=\"12.00\">1.00</text>\n",
       "</g>\n",
       "<!-- 4&#45;&gt;3 -->\n",
       "<g id=\"edge9\" class=\"edge\">\n",
       "<title>4&#45;&gt;3</title>\n",
       "<path fill=\"none\" stroke=\"black\" d=\"M427.77,-284.87C458.1,-270.11 514.26,-241.27 558,-210.18 585.5,-190.63 614.02,-164.54 633.16,-146.04\"/>\n",
       "<polygon fill=\"black\" stroke=\"black\" points=\"635.46,-148.68 640.17,-139.18 630.57,-143.67 635.46,-148.68\"/>\n",
       "<text text-anchor=\"middle\" x=\"546.39\" y=\"-198.77\" font-family=\"Helvetica,Arial,sans-serif\" font-size=\"12.00\">4.00</text>\n",
       "</g>\n",
       "<!-- 5&#45;&gt;3 -->\n",
       "<g id=\"edge11\" class=\"edge\">\n",
       "<title>5&#45;&gt;3</title>\n",
       "<path fill=\"none\" stroke=\"black\" d=\"M430.43,-180.92C474.86,-169.55 569.07,-145.43 620.56,-132.25\"/>\n",
       "<polygon fill=\"black\" stroke=\"black\" points=\"621.19,-135.7 630.01,-129.83 619.45,-128.92 621.19,-135.7\"/>\n",
       "<text text-anchor=\"middle\" x=\"519.14\" y=\"-143.84\" font-family=\"Helvetica,Arial,sans-serif\" font-size=\"12.00\">4.00</text>\n",
       "</g>\n",
       "<!-- 5&#45;&gt;6 -->\n",
       "<g id=\"edge10\" class=\"edge\">\n",
       "<title>5&#45;&gt;6</title>\n",
       "<path fill=\"none\" stroke=\"black\" d=\"M411.65,-169.26C426.25,-140.3 466.14,-95.33 495.59,-70.95\"/>\n",
       "<polygon fill=\"black\" stroke=\"black\" points=\"497.45,-73.94 503.17,-65.02 493.14,-68.43 497.45,-73.94\"/>\n",
       "<text text-anchor=\"middle\" x=\"441.57\" y=\"-101.14\" font-family=\"Helvetica,Arial,sans-serif\" font-size=\"12.00\">1.00</text>\n",
       "</g>\n",
       "<!-- 6&#45;&gt;3 -->\n",
       "<g id=\"edge13\" class=\"edge\">\n",
       "<title>6&#45;&gt;3</title>\n",
       "<path fill=\"none\" stroke=\"black\" d=\"M553.03,-70.86C572.72,-80.86 602.38,-95.93 624.81,-107.33\"/>\n",
       "<polygon fill=\"black\" stroke=\"black\" points=\"623.01,-110.34 633.51,-111.75 626.18,-104.1 623.01,-110.34\"/>\n",
       "<text text-anchor=\"middle\" x=\"582.23\" y=\"-80.2\" font-family=\"Helvetica,Arial,sans-serif\" font-size=\"12.00\">2.00</text>\n",
       "</g>\n",
       "<!-- 6&#45;&gt;5 -->\n",
       "<g id=\"edge12\" class=\"edge\">\n",
       "<title>6&#45;&gt;5</title>\n",
       "<path fill=\"none\" stroke=\"black\" d=\"M524.5,-77.78C510.05,-106.7 470.04,-151.85 440.49,-176.34\"/>\n",
       "<polygon fill=\"black\" stroke=\"black\" points=\"438.59,-173.37 432.88,-182.3 442.91,-178.88 438.59,-173.37\"/>\n",
       "<text text-anchor=\"middle\" x=\"471.38\" y=\"-123.19\" font-family=\"Helvetica,Arial,sans-serif\" font-size=\"12.00\">1.00</text>\n",
       "</g>\n",
       "</g>\n",
       "</svg>\n"
      ],
      "text/plain": [
       "<graphviz.dot.Digraph at 0x162672010>"
      ]
     },
     "execution_count": 7,
     "metadata": {},
     "output_type": "execute_result"
    }
   ],
   "source": [
    "graph.plot()"
   ]
  },
  {
   "cell_type": "markdown",
   "metadata": {},
   "source": [
    "and group, states by some property, by supplying a lambda function for the `subgraphfun` keyword argument:"
   ]
  },
  {
   "cell_type": "code",
   "execution_count": 8,
   "metadata": {
    "execution": {
     "iopub.execute_input": "2025-03-05T20:33:56.166293Z",
     "iopub.status.busy": "2025-03-05T20:33:56.166201Z",
     "iopub.status.idle": "2025-03-05T20:33:56.244370Z",
     "shell.execute_reply": "2025-03-05T20:33:56.244034Z"
    }
   },
   "outputs": [
    {
     "data": {
      "image/svg+xml": [
       "<?xml version=\"1.0\" encoding=\"UTF-8\" standalone=\"no\"?>\n",
       "<!DOCTYPE svg PUBLIC \"-//W3C//DTD SVG 1.1//EN\"\n",
       " \"http://www.w3.org/Graphics/SVG/1.1/DTD/svg11.dtd\">\n",
       "<!-- Generated by graphviz version 12.0.0 (0)\n",
       " -->\n",
       "<!-- Pages: 1 -->\n",
       "<svg width=\"504pt\" height=\"366pt\"\n",
       " viewBox=\"0.00 0.00 504.00 365.93\" xmlns=\"http://www.w3.org/2000/svg\" xmlns:xlink=\"http://www.w3.org/1999/xlink\">\n",
       "<g id=\"graph0\" class=\"graph\" transform=\"scale(0.965517 0.965517) rotate(0) translate(36 343)\">\n",
       "<g id=\"clust1\" class=\"cluster\">\n",
       "<title>cluster_#rabbits: 2</title>\n",
       "<polygon fill=\"whitesmoke\" stroke=\"whitesmoke\" points=\"118,-8 118,-299 197,-299 197,-8 118,-8\"/>\n",
       "<text text-anchor=\"middle\" x=\"157.5\" y=\"-281.7\" font-family=\"Helvetica,Arial,sans-serif\" font-size=\"14.00\">#rabbits: 2</text>\n",
       "</g>\n",
       "<g id=\"clust2\" class=\"cluster\">\n",
       "<title>cluster_#rabbits: 1</title>\n",
       "<polygon fill=\"whitesmoke\" stroke=\"whitesmoke\" points=\"253,-62 253,-245 332,-245 332,-62 253,-62\"/>\n",
       "<text text-anchor=\"middle\" x=\"292.5\" y=\"-227.7\" font-family=\"Helvetica,Arial,sans-serif\" font-size=\"14.00\">#rabbits: 1</text>\n",
       "</g>\n",
       "<!-- 0 -->\n",
       "<g id=\"node1\" class=\"node\">\n",
       "<title>0</title>\n",
       "<ellipse fill=\"#eeeeee\" stroke=\"black\" cx=\"27\" cy=\"-250\" rx=\"27\" ry=\"18\"/>\n",
       "<text text-anchor=\"middle\" x=\"27\" y=\"-244.97\" font-family=\"Helvetica,Arial,sans-serif\" font-size=\"12.00\">S</text>\n",
       "</g>\n",
       "<!-- 1 -->\n",
       "<g id=\"node2\" class=\"node\">\n",
       "<title>1</title>\n",
       "<ellipse fill=\"white\" stroke=\"black\" cx=\"157\" cy=\"-250\" rx=\"27\" ry=\"18\"/>\n",
       "<text text-anchor=\"middle\" x=\"157\" y=\"-244.97\" font-family=\"Helvetica,Arial,sans-serif\" font-size=\"12.00\">2,0</text>\n",
       "</g>\n",
       "<!-- 0&#45;&gt;1 -->\n",
       "<g id=\"edge1\" class=\"edge\">\n",
       "<title>0&#45;&gt;1</title>\n",
       "<path fill=\"none\" stroke=\"black\" d=\"M54.21,-250C72.76,-250 97.91,-250 118.57,-250\"/>\n",
       "<polygon fill=\"black\" stroke=\"black\" points=\"118.31,-253.5 128.31,-250 118.31,-246.5 118.31,-253.5\"/>\n",
       "<text text-anchor=\"middle\" x=\"80.29\" y=\"-238.6\" font-family=\"Helvetica,Arial,sans-serif\" font-size=\"12.00\">1.00</text>\n",
       "</g>\n",
       "<!-- 2 -->\n",
       "<g id=\"node3\" class=\"node\">\n",
       "<title>2</title>\n",
       "<ellipse fill=\"white\" stroke=\"black\" cx=\"157\" cy=\"-142\" rx=\"27\" ry=\"18\"/>\n",
       "<text text-anchor=\"middle\" x=\"157\" y=\"-136.97\" font-family=\"Helvetica,Arial,sans-serif\" font-size=\"12.00\">1,1</text>\n",
       "</g>\n",
       "<!-- 1&#45;&gt;2 -->\n",
       "<g id=\"edge2\" class=\"edge\">\n",
       "<title>1&#45;&gt;2</title>\n",
       "<path fill=\"none\" stroke=\"black\" d=\"M167.6,-233.27C178.64,-211.96 180.2,-190.65 172.31,-169.34\"/>\n",
       "<polygon fill=\"black\" stroke=\"black\" points=\"175.54,-167.98 168.29,-160.26 169.14,-170.82 175.54,-167.98\"/>\n",
       "<text text-anchor=\"middle\" x=\"165.62\" y=\"-184.91\" font-family=\"Helvetica,Arial,sans-serif\" font-size=\"12.00\">1.00</text>\n",
       "</g>\n",
       "<!-- 3 -->\n",
       "<g id=\"node4\" class=\"node\">\n",
       "<title>3</title>\n",
       "<ellipse fill=\"#eeeeee\" stroke=\"black\" cx=\"423\" cy=\"-142\" rx=\"27\" ry=\"18\"/>\n",
       "<text text-anchor=\"middle\" x=\"423\" y=\"-136.97\" font-family=\"Helvetica,Arial,sans-serif\" font-size=\"12.00\">0,0</text>\n",
       "</g>\n",
       "<!-- 1&#45;&gt;3 -->\n",
       "<g id=\"edge3\" class=\"edge\">\n",
       "<title>1&#45;&gt;3</title>\n",
       "<path fill=\"none\" stroke=\"black\" d=\"M180.86,-258.84C215.57,-270.74 282.74,-287.75 332,-263 370.58,-243.61 396.81,-198.98 410.58,-169.68\"/>\n",
       "<polygon fill=\"black\" stroke=\"black\" points=\"413.73,-171.23 414.63,-160.67 407.34,-168.36 413.73,-171.23\"/>\n",
       "<text text-anchor=\"middle\" x=\"320.4\" y=\"-251.59\" font-family=\"Helvetica,Arial,sans-serif\" font-size=\"12.00\">2.00</text>\n",
       "</g>\n",
       "<!-- 2&#45;&gt;1 -->\n",
       "<g id=\"edge6\" class=\"edge\">\n",
       "<title>2&#45;&gt;1</title>\n",
       "<path fill=\"none\" stroke=\"black\" d=\"M146.32,-158.88C135.33,-180.19 133.81,-201.5 141.74,-222.81\"/>\n",
       "<polygon fill=\"black\" stroke=\"black\" points=\"138.52,-224.17 145.78,-231.89 144.91,-221.33 138.52,-224.17\"/>\n",
       "<text text-anchor=\"middle\" x=\"125.13\" y=\"-184.44\" font-family=\"Helvetica,Arial,sans-serif\" font-size=\"12.00\">1.00</text>\n",
       "</g>\n",
       "<!-- 4 -->\n",
       "<g id=\"node5\" class=\"node\">\n",
       "<title>4</title>\n",
       "<ellipse fill=\"white\" stroke=\"black\" cx=\"157\" cy=\"-34\" rx=\"27\" ry=\"18\"/>\n",
       "<text text-anchor=\"middle\" x=\"157\" y=\"-28.98\" font-family=\"Helvetica,Arial,sans-serif\" font-size=\"12.00\">0,2</text>\n",
       "</g>\n",
       "<!-- 2&#45;&gt;4 -->\n",
       "<g id=\"edge4\" class=\"edge\">\n",
       "<title>2&#45;&gt;4</title>\n",
       "<path fill=\"none\" stroke=\"black\" d=\"M167.6,-125.27C178.64,-103.96 180.2,-82.65 172.31,-61.34\"/>\n",
       "<polygon fill=\"black\" stroke=\"black\" points=\"175.54,-59.98 168.29,-52.26 169.14,-62.82 175.54,-59.98\"/>\n",
       "<text text-anchor=\"middle\" x=\"165.62\" y=\"-76.91\" font-family=\"Helvetica,Arial,sans-serif\" font-size=\"12.00\">1.00</text>\n",
       "</g>\n",
       "<!-- 5 -->\n",
       "<g id=\"node6\" class=\"node\">\n",
       "<title>5</title>\n",
       "<ellipse fill=\"white\" stroke=\"black\" cx=\"292\" cy=\"-88\" rx=\"27\" ry=\"18\"/>\n",
       "<text text-anchor=\"middle\" x=\"292\" y=\"-82.97\" font-family=\"Helvetica,Arial,sans-serif\" font-size=\"12.00\">0,1</text>\n",
       "</g>\n",
       "<!-- 2&#45;&gt;5 -->\n",
       "<g id=\"edge5\" class=\"edge\">\n",
       "<title>2&#45;&gt;5</title>\n",
       "<path fill=\"none\" stroke=\"black\" d=\"M180.56,-132.84C201.77,-124.23 233.77,-111.24 257.88,-101.45\"/>\n",
       "<polygon fill=\"black\" stroke=\"black\" points=\"258.98,-104.78 266.93,-97.77 256.34,-98.29 258.98,-104.78\"/>\n",
       "<text text-anchor=\"middle\" x=\"212.93\" y=\"-103.58\" font-family=\"Helvetica,Arial,sans-serif\" font-size=\"12.00\">2.00</text>\n",
       "</g>\n",
       "<!-- 6 -->\n",
       "<g id=\"node7\" class=\"node\">\n",
       "<title>6</title>\n",
       "<ellipse fill=\"white\" stroke=\"black\" cx=\"292\" cy=\"-196\" rx=\"27\" ry=\"18\"/>\n",
       "<text text-anchor=\"middle\" x=\"292\" y=\"-190.97\" font-family=\"Helvetica,Arial,sans-serif\" font-size=\"12.00\">1,0</text>\n",
       "</g>\n",
       "<!-- 2&#45;&gt;6 -->\n",
       "<g id=\"edge7\" class=\"edge\">\n",
       "<title>2&#45;&gt;6</title>\n",
       "<path fill=\"none\" stroke=\"black\" d=\"M180.56,-151.16C201.77,-159.77 233.77,-172.76 257.88,-182.55\"/>\n",
       "<polygon fill=\"black\" stroke=\"black\" points=\"256.34,-185.71 266.93,-186.23 258.98,-179.22 256.34,-185.71\"/>\n",
       "<text text-anchor=\"middle\" x=\"212.93\" y=\"-157.62\" font-family=\"Helvetica,Arial,sans-serif\" font-size=\"12.00\">4.00</text>\n",
       "</g>\n",
       "<!-- 4&#45;&gt;2 -->\n",
       "<g id=\"edge8\" class=\"edge\">\n",
       "<title>4&#45;&gt;2</title>\n",
       "<path fill=\"none\" stroke=\"black\" d=\"M146.32,-50.88C135.33,-72.19 133.81,-93.5 141.74,-114.81\"/>\n",
       "<polygon fill=\"black\" stroke=\"black\" points=\"138.52,-116.17 145.78,-123.89 144.91,-113.33 138.52,-116.17\"/>\n",
       "<text text-anchor=\"middle\" x=\"125.13\" y=\"-76.44\" font-family=\"Helvetica,Arial,sans-serif\" font-size=\"12.00\">1.00</text>\n",
       "</g>\n",
       "<!-- 4&#45;&gt;3 -->\n",
       "<g id=\"edge9\" class=\"edge\">\n",
       "<title>4&#45;&gt;3</title>\n",
       "<path fill=\"none\" stroke=\"black\" d=\"M183.66,-29.72C218.95,-25.06 283.61,-21.06 332,-44 364.51,-59.41 390.78,-92.34 406.36,-115.78\"/>\n",
       "<polygon fill=\"black\" stroke=\"black\" points=\"403.21,-117.35 411.56,-123.88 409.11,-113.57 403.21,-117.35\"/>\n",
       "<text text-anchor=\"middle\" x=\"320.39\" y=\"-32.61\" font-family=\"Helvetica,Arial,sans-serif\" font-size=\"12.00\">4.00</text>\n",
       "</g>\n",
       "<!-- 5&#45;&gt;3 -->\n",
       "<g id=\"edge11\" class=\"edge\">\n",
       "<title>5&#45;&gt;3</title>\n",
       "<path fill=\"none\" stroke=\"black\" d=\"M315.47,-97.41C335.91,-105.96 366.32,-118.69 389.43,-128.37\"/>\n",
       "<polygon fill=\"black\" stroke=\"black\" points=\"387.82,-131.48 398.39,-132.12 390.52,-125.03 387.82,-131.48\"/>\n",
       "<text text-anchor=\"middle\" x=\"345.96\" y=\"-103.63\" font-family=\"Helvetica,Arial,sans-serif\" font-size=\"12.00\">4.00</text>\n",
       "</g>\n",
       "<!-- 5&#45;&gt;6 -->\n",
       "<g id=\"edge10\" class=\"edge\">\n",
       "<title>5&#45;&gt;6</title>\n",
       "<path fill=\"none\" stroke=\"black\" d=\"M302.68,-104.88C313.67,-126.19 315.19,-147.5 307.26,-168.81\"/>\n",
       "<polygon fill=\"black\" stroke=\"black\" points=\"304.09,-167.33 303.22,-177.89 310.48,-170.17 304.09,-167.33\"/>\n",
       "<text text-anchor=\"middle\" x=\"300.62\" y=\"-130.44\" font-family=\"Helvetica,Arial,sans-serif\" font-size=\"12.00\">1.00</text>\n",
       "</g>\n",
       "<!-- 6&#45;&gt;3 -->\n",
       "<g id=\"edge13\" class=\"edge\">\n",
       "<title>6&#45;&gt;3</title>\n",
       "<path fill=\"none\" stroke=\"black\" d=\"M315.47,-186.59C335.91,-178.04 366.32,-165.31 389.43,-155.63\"/>\n",
       "<polygon fill=\"black\" stroke=\"black\" points=\"390.52,-158.97 398.39,-151.88 387.82,-152.52 390.52,-158.97\"/>\n",
       "<text text-anchor=\"middle\" x=\"345.96\" y=\"-157.57\" font-family=\"Helvetica,Arial,sans-serif\" font-size=\"12.00\">2.00</text>\n",
       "</g>\n",
       "<!-- 6&#45;&gt;5 -->\n",
       "<g id=\"edge12\" class=\"edge\">\n",
       "<title>6&#45;&gt;5</title>\n",
       "<path fill=\"none\" stroke=\"black\" d=\"M281.4,-179.27C270.36,-157.96 268.8,-136.65 276.69,-115.34\"/>\n",
       "<polygon fill=\"black\" stroke=\"black\" points=\"279.86,-116.82 280.71,-106.26 273.46,-113.98 279.86,-116.82\"/>\n",
       "<text text-anchor=\"middle\" x=\"260.13\" y=\"-130.91\" font-family=\"Helvetica,Arial,sans-serif\" font-size=\"12.00\">1.00</text>\n",
       "</g>\n",
       "</g>\n",
       "</svg>\n"
      ],
      "text/plain": [
       "<graphviz.dot.Digraph at 0x1626fc890>"
      ]
     },
     "execution_count": 8,
     "metadata": {},
     "output_type": "execute_result"
    }
   ],
   "source": [
    "graph.plot(subgraphfun=lambda state: f\"#rabbits: {sum(state)}\")"
   ]
  },
  {
   "cell_type": "markdown",
   "metadata": {},
   "source": [
    "In an abbreviated version using the aliases `ae` and `focv` for `add_edge` and `find_and_create_vertex`"
   ]
  },
  {
   "cell_type": "code",
   "execution_count": 9,
   "metadata": {
    "execution": {
     "iopub.execute_input": "2025-03-05T20:33:56.246071Z",
     "iopub.status.busy": "2025-03-05T20:33:56.245989Z",
     "iopub.status.idle": "2025-03-05T20:33:56.261585Z",
     "shell.execute_reply": "2025-03-05T20:33:56.261359Z"
    }
   },
   "outputs": [],
   "source": [
    "nr_rabbits, flood_left, flood_right = 2, 2, 4\n",
    "\n",
    "graph = ptd.Graph(2)\n",
    "graph.starting_vertex().add_edge(graph.focv(c(nr_rabbits, 0)), 1)\n",
    "i = 1\n",
    "while i < graph.vertices_length():\n",
    "    v = graph.vertex_at(i)\n",
    "    st = v.state()\n",
    "    if st[0] > 0:\n",
    "        v.ae(graph.focv([st[0]-1, st[1]+1]), 1)\n",
    "        v.ae(graph.focv([0, st[1]]), flood_left)\n",
    "    if st[1] > 0:   \n",
    "        v.ae(graph.focv([st[0]+1, st[1]-1]), 1)\n",
    "        v.ae(graph.focv([st[0], 0]), flood_right)\n",
    "    i += 1\n",
    "    \n",
    "#graph.states()"
   ]
  },
  {
   "cell_type": "markdown",
   "metadata": {},
   "source": [
    "You can skip some of the boilerplate code by passing a callback function and an initial state to `Graph`. The call back function has the signature `callback(List[int]) -> List[Dict]`. It takes a list argument specifying a state and returns a list of dictionaries each specifying a child state and an edge weight: `{'state': [0, 1], 'weight': 0.4}`. This approach is slower and is intended mainly for speed up model development and exploration, and to reduce the amount of code needed to represent many models.\n",
    "\n",
    "To create a callback function, just think of rules of your model and ask yourself: \"Given some state, what are the allowed transitions to other states and with what rates to these transititons occur?\". Make a small dictionary for each such transition with the child state and rate (weight) and return them as a list. Here is an example. If the current state is \"two rabbits on the left island\" (`[2, 0]`), the reachable states are: \"one rabbit on each island\" (`[1, 1]`) if one rabbit jumps and and \"no rabbits\" (`[0, 0]`) if the island is flodded. The callback function should in that case produce the mapping:\n",
    "\n",
    "```python\n",
    "[2, 0] -> [{'state': [1, 1], 'weight': 1, }, {'state': [0, 0], 'weight': flood_left}]\n",
    "```\n",
    "\n",
    "Here is what the callback function looks like for the rabbit model:"
   ]
  },
  {
   "cell_type": "code",
   "execution_count": 10,
   "metadata": {
    "execution": {
     "iopub.execute_input": "2025-03-05T20:33:56.263094Z",
     "iopub.status.busy": "2025-03-05T20:33:56.263007Z",
     "iopub.status.idle": "2025-03-05T20:33:56.275224Z",
     "shell.execute_reply": "2025-03-05T20:33:56.274908Z"
    }
   },
   "outputs": [],
   "source": [
    "def rabbit_islands(state):\n",
    "    children = []\n",
    "    if state[0] > 0:\n",
    "        children.append({'state': [state[0]-1, state[1]+1], 'weight': 1})\n",
    "        children.append({'state': [0,          state[1]  ], 'weight': flood_left})\n",
    "    if state[1] > 0:   \n",
    "        children.append({'state': [state[0]+1, state[1]-1], 'weight': 1})\n",
    "        children.append({'state': [state[0],   0         ], 'weight': flood_right})\n",
    "    return children\n",
    "\n",
    "initial_state = [nr_rabbits, 0]    "
   ]
  },
  {
   "cell_type": "markdown",
   "metadata": {},
   "source": [
    "Notice that the usual scoping rules apply to the callback functions: the variables defined outside the function `flood_left` and `flood_right` are accessible to the function as for any Python function."
   ]
  },
  {
   "cell_type": "code",
   "execution_count": 11,
   "metadata": {
    "execution": {
     "iopub.execute_input": "2025-03-05T20:33:56.276925Z",
     "iopub.status.busy": "2025-03-05T20:33:56.276837Z",
     "iopub.status.idle": "2025-03-05T20:33:56.353212Z",
     "shell.execute_reply": "2025-03-05T20:33:56.352850Z"
    }
   },
   "outputs": [
    {
     "data": {
      "image/svg+xml": [
       "<?xml version=\"1.0\" encoding=\"UTF-8\" standalone=\"no\"?>\n",
       "<!DOCTYPE svg PUBLIC \"-//W3C//DTD SVG 1.1//EN\"\n",
       " \"http://www.w3.org/Graphics/SVG/1.1/DTD/svg11.dtd\">\n",
       "<!-- Generated by graphviz version 12.0.0 (0)\n",
       " -->\n",
       "<!-- Pages: 1 -->\n",
       "<svg width=\"504pt\" height=\"257pt\"\n",
       " viewBox=\"0.00 0.00 504.00 256.78\" xmlns=\"http://www.w3.org/2000/svg\" xmlns:xlink=\"http://www.w3.org/1999/xlink\">\n",
       "<g id=\"graph0\" class=\"graph\" transform=\"scale(0.666667 0.666667) rotate(0) translate(36 349.18)\">\n",
       "<!-- 0 -->\n",
       "<g id=\"node1\" class=\"node\">\n",
       "<title>0</title>\n",
       "<ellipse fill=\"#eeeeee\" stroke=\"black\" cx=\"27\" cy=\"-187.18\" rx=\"27\" ry=\"18\"/>\n",
       "<text text-anchor=\"middle\" x=\"27\" y=\"-182.15\" font-family=\"Helvetica,Arial,sans-serif\" font-size=\"12.00\">S</text>\n",
       "</g>\n",
       "<!-- 1 -->\n",
       "<g id=\"node2\" class=\"node\">\n",
       "<title>1</title>\n",
       "<ellipse fill=\"white\" stroke=\"black\" cx=\"153\" cy=\"-187.18\" rx=\"27\" ry=\"18\"/>\n",
       "<text text-anchor=\"middle\" x=\"153\" y=\"-182.15\" font-family=\"Helvetica,Arial,sans-serif\" font-size=\"12.00\">2,0</text>\n",
       "</g>\n",
       "<!-- 0&#45;&gt;1 -->\n",
       "<g id=\"edge1\" class=\"edge\">\n",
       "<title>0&#45;&gt;1</title>\n",
       "<path fill=\"none\" stroke=\"black\" d=\"M54.3,-187.18C71.72,-187.18 94.86,-187.18 114.24,-187.18\"/>\n",
       "<polygon fill=\"black\" stroke=\"black\" points=\"114.23,-190.68 124.23,-187.18 114.23,-183.68 114.23,-190.68\"/>\n",
       "<text text-anchor=\"middle\" x=\"78.26\" y=\"-175.78\" font-family=\"Helvetica,Arial,sans-serif\" font-size=\"12.00\">1.00</text>\n",
       "</g>\n",
       "<!-- 2 -->\n",
       "<g id=\"node3\" class=\"node\">\n",
       "<title>2</title>\n",
       "<ellipse fill=\"white\" stroke=\"black\" cx=\"279\" cy=\"-187.18\" rx=\"27\" ry=\"18\"/>\n",
       "<text text-anchor=\"middle\" x=\"279\" y=\"-182.15\" font-family=\"Helvetica,Arial,sans-serif\" font-size=\"12.00\">1,1</text>\n",
       "</g>\n",
       "<!-- 1&#45;&gt;2 -->\n",
       "<g id=\"edge2\" class=\"edge\">\n",
       "<title>1&#45;&gt;2</title>\n",
       "<path fill=\"none\" stroke=\"black\" d=\"M165.44,-170.72C186.11,-158.41 229.98,-156.88 256.43,-166.12\"/>\n",
       "<polygon fill=\"black\" stroke=\"black\" points=\"254.66,-169.16 265.21,-170.11 257.55,-162.79 254.66,-169.16\"/>\n",
       "<text text-anchor=\"middle\" x=\"204.28\" y=\"-148.78\" font-family=\"Helvetica,Arial,sans-serif\" font-size=\"12.00\">1.00</text>\n",
       "</g>\n",
       "<!-- 3 -->\n",
       "<g id=\"node4\" class=\"node\">\n",
       "<title>3</title>\n",
       "<ellipse fill=\"#eeeeee\" stroke=\"black\" cx=\"657\" cy=\"-123.18\" rx=\"27\" ry=\"18\"/>\n",
       "<text text-anchor=\"middle\" x=\"657\" y=\"-118.15\" font-family=\"Helvetica,Arial,sans-serif\" font-size=\"12.00\">0,0</text>\n",
       "</g>\n",
       "<!-- 1&#45;&gt;3 -->\n",
       "<g id=\"edge3\" class=\"edge\">\n",
       "<title>1&#45;&gt;3</title>\n",
       "<path fill=\"none\" stroke=\"black\" d=\"M171.7,-173.94C221.03,-138.01 365.57,-39.09 504,-6.18 527.35,-0.63 536.25,3.98 558,-6.18 597.39,-24.56 626.54,-67.43 642.4,-95.85\"/>\n",
       "<polygon fill=\"black\" stroke=\"black\" points=\"639.29,-97.46 647.1,-104.62 645.46,-94.15 639.29,-97.46\"/>\n",
       "<text text-anchor=\"middle\" x=\"358.1\" y=\"-43.75\" font-family=\"Helvetica,Arial,sans-serif\" font-size=\"12.00\">2.00</text>\n",
       "</g>\n",
       "<!-- 2&#45;&gt;1 -->\n",
       "<g id=\"edge6\" class=\"edge\">\n",
       "<title>2&#45;&gt;1</title>\n",
       "<path fill=\"none\" stroke=\"black\" d=\"M266.58,-203.61C245.94,-215.93 202.07,-217.48 175.6,-208.25\"/>\n",
       "<polygon fill=\"black\" stroke=\"black\" points=\"177.37,-205.21 166.82,-204.26 174.48,-211.58 177.37,-205.21\"/>\n",
       "<text text-anchor=\"middle\" x=\"204.51\" y=\"-202.78\" font-family=\"Helvetica,Arial,sans-serif\" font-size=\"12.00\">1.00</text>\n",
       "</g>\n",
       "<!-- 4 -->\n",
       "<g id=\"node5\" class=\"node\">\n",
       "<title>4</title>\n",
       "<ellipse fill=\"white\" stroke=\"black\" cx=\"405\" cy=\"-295.18\" rx=\"27\" ry=\"18\"/>\n",
       "<text text-anchor=\"middle\" x=\"405\" y=\"-290.15\" font-family=\"Helvetica,Arial,sans-serif\" font-size=\"12.00\">0,2</text>\n",
       "</g>\n",
       "<!-- 2&#45;&gt;4 -->\n",
       "<g id=\"edge4\" class=\"edge\">\n",
       "<title>2&#45;&gt;4</title>\n",
       "<path fill=\"none\" stroke=\"black\" d=\"M306.3,-187.54C332.75,-203.1 372.36,-239.53 392.03,-267.99\"/>\n",
       "<polygon fill=\"black\" stroke=\"black\" points=\"389.02,-269.78 397.3,-276.4 394.95,-266.06 389.02,-269.78\"/>\n",
       "<text text-anchor=\"middle\" x=\"345.19\" y=\"-216.38\" font-family=\"Helvetica,Arial,sans-serif\" font-size=\"12.00\">1.00</text>\n",
       "</g>\n",
       "<!-- 5 -->\n",
       "<g id=\"node6\" class=\"node\">\n",
       "<title>5</title>\n",
       "<ellipse fill=\"white\" stroke=\"black\" cx=\"405\" cy=\"-187.18\" rx=\"27\" ry=\"18\"/>\n",
       "<text text-anchor=\"middle\" x=\"405\" y=\"-182.15\" font-family=\"Helvetica,Arial,sans-serif\" font-size=\"12.00\">0,1</text>\n",
       "</g>\n",
       "<!-- 2&#45;&gt;5 -->\n",
       "<g id=\"edge5\" class=\"edge\">\n",
       "<title>2&#45;&gt;5</title>\n",
       "<path fill=\"none\" stroke=\"black\" d=\"M306.3,-187.18C323.72,-187.18 346.86,-187.18 366.24,-187.18\"/>\n",
       "<polygon fill=\"black\" stroke=\"black\" points=\"366.23,-190.68 376.23,-187.18 366.23,-183.68 366.23,-190.68\"/>\n",
       "<text text-anchor=\"middle\" x=\"330.26\" y=\"-175.78\" font-family=\"Helvetica,Arial,sans-serif\" font-size=\"12.00\">2.00</text>\n",
       "</g>\n",
       "<!-- 6 -->\n",
       "<g id=\"node7\" class=\"node\">\n",
       "<title>6</title>\n",
       "<ellipse fill=\"white\" stroke=\"black\" cx=\"531\" cy=\"-60.18\" rx=\"27\" ry=\"18\"/>\n",
       "<text text-anchor=\"middle\" x=\"531\" y=\"-55.15\" font-family=\"Helvetica,Arial,sans-serif\" font-size=\"12.00\">1,0</text>\n",
       "</g>\n",
       "<!-- 2&#45;&gt;6 -->\n",
       "<g id=\"edge7\" class=\"edge\">\n",
       "<title>2&#45;&gt;6</title>\n",
       "<path fill=\"none\" stroke=\"black\" d=\"M300.09,-175.67C319.78,-164.51 350.71,-147.23 378,-133.18 418.97,-112.07 467.04,-89.31 497.98,-74.92\"/>\n",
       "<polygon fill=\"black\" stroke=\"black\" points=\"499.19,-78.21 506.79,-70.83 496.25,-71.86 499.19,-78.21\"/>\n",
       "<text text-anchor=\"middle\" x=\"391.52\" y=\"-109.04\" font-family=\"Helvetica,Arial,sans-serif\" font-size=\"12.00\">4.00</text>\n",
       "</g>\n",
       "<!-- 4&#45;&gt;2 -->\n",
       "<g id=\"edge8\" class=\"edge\">\n",
       "<title>4&#45;&gt;2</title>\n",
       "<path fill=\"none\" stroke=\"black\" d=\"M377.51,-294.7C351.1,-279.1 311.71,-242.86 292.05,-214.49\"/>\n",
       "<polygon fill=\"black\" stroke=\"black\" points=\"295.07,-212.71 286.79,-206.11 289.15,-216.43 295.07,-212.71\"/>\n",
       "<text text-anchor=\"middle\" x=\"315.54\" y=\"-243.15\" font-family=\"Helvetica,Arial,sans-serif\" font-size=\"12.00\">1.00</text>\n",
       "</g>\n",
       "<!-- 4&#45;&gt;3 -->\n",
       "<g id=\"edge9\" class=\"edge\">\n",
       "<title>4&#45;&gt;3</title>\n",
       "<path fill=\"none\" stroke=\"black\" d=\"M427.77,-284.87C458.1,-270.11 514.26,-241.27 558,-210.18 585.5,-190.63 614.02,-164.54 633.16,-146.04\"/>\n",
       "<polygon fill=\"black\" stroke=\"black\" points=\"635.46,-148.68 640.17,-139.18 630.57,-143.67 635.46,-148.68\"/>\n",
       "<text text-anchor=\"middle\" x=\"546.39\" y=\"-198.77\" font-family=\"Helvetica,Arial,sans-serif\" font-size=\"12.00\">4.00</text>\n",
       "</g>\n",
       "<!-- 5&#45;&gt;3 -->\n",
       "<g id=\"edge11\" class=\"edge\">\n",
       "<title>5&#45;&gt;3</title>\n",
       "<path fill=\"none\" stroke=\"black\" d=\"M430.43,-180.92C474.86,-169.55 569.07,-145.43 620.56,-132.25\"/>\n",
       "<polygon fill=\"black\" stroke=\"black\" points=\"621.19,-135.7 630.01,-129.83 619.45,-128.92 621.19,-135.7\"/>\n",
       "<text text-anchor=\"middle\" x=\"519.14\" y=\"-143.84\" font-family=\"Helvetica,Arial,sans-serif\" font-size=\"12.00\">4.00</text>\n",
       "</g>\n",
       "<!-- 5&#45;&gt;6 -->\n",
       "<g id=\"edge10\" class=\"edge\">\n",
       "<title>5&#45;&gt;6</title>\n",
       "<path fill=\"none\" stroke=\"black\" d=\"M411.65,-169.26C426.25,-140.3 466.14,-95.33 495.59,-70.95\"/>\n",
       "<polygon fill=\"black\" stroke=\"black\" points=\"497.45,-73.94 503.17,-65.02 493.14,-68.43 497.45,-73.94\"/>\n",
       "<text text-anchor=\"middle\" x=\"441.57\" y=\"-101.14\" font-family=\"Helvetica,Arial,sans-serif\" font-size=\"12.00\">1.00</text>\n",
       "</g>\n",
       "<!-- 6&#45;&gt;3 -->\n",
       "<g id=\"edge13\" class=\"edge\">\n",
       "<title>6&#45;&gt;3</title>\n",
       "<path fill=\"none\" stroke=\"black\" d=\"M553.03,-70.86C572.72,-80.86 602.38,-95.93 624.81,-107.33\"/>\n",
       "<polygon fill=\"black\" stroke=\"black\" points=\"623.01,-110.34 633.51,-111.75 626.18,-104.1 623.01,-110.34\"/>\n",
       "<text text-anchor=\"middle\" x=\"582.23\" y=\"-80.2\" font-family=\"Helvetica,Arial,sans-serif\" font-size=\"12.00\">2.00</text>\n",
       "</g>\n",
       "<!-- 6&#45;&gt;5 -->\n",
       "<g id=\"edge12\" class=\"edge\">\n",
       "<title>6&#45;&gt;5</title>\n",
       "<path fill=\"none\" stroke=\"black\" d=\"M524.5,-77.78C510.05,-106.7 470.04,-151.85 440.49,-176.34\"/>\n",
       "<polygon fill=\"black\" stroke=\"black\" points=\"438.59,-173.37 432.88,-182.3 442.91,-178.88 438.59,-173.37\"/>\n",
       "<text text-anchor=\"middle\" x=\"471.38\" y=\"-123.19\" font-family=\"Helvetica,Arial,sans-serif\" font-size=\"12.00\">1.00</text>\n",
       "</g>\n",
       "</g>\n",
       "</svg>\n"
      ],
      "text/plain": [
       "<graphviz.dot.Digraph at 0x1628e5e90>"
      ]
     },
     "execution_count": 11,
     "metadata": {},
     "output_type": "execute_result"
    }
   ],
   "source": [
    "graph = ptd.Graph(callback=rabbit_islands,\n",
    "                  initial=initial_state,\n",
    "                  trans_as_dict=True)\n",
    "graph.plot()"
   ]
  },
  {
   "cell_type": "markdown",
   "metadata": {},
   "source": [
    "Notice `trans_as_dict=True` keyword argument above. To play more nicely with boradcasting this is `False` by default. Returning a list of (state, rate) tuples is the default callback signature:"
   ]
  },
  {
   "cell_type": "code",
   "execution_count": 12,
   "metadata": {
    "execution": {
     "iopub.execute_input": "2025-03-05T20:33:56.354928Z",
     "iopub.status.busy": "2025-03-05T20:33:56.354838Z",
     "iopub.status.idle": "2025-03-05T20:33:56.472462Z",
     "shell.execute_reply": "2025-03-05T20:33:56.472033Z"
    }
   },
   "outputs": [
    {
     "data": {
      "image/svg+xml": [
       "<?xml version=\"1.0\" encoding=\"UTF-8\" standalone=\"no\"?>\n",
       "<!DOCTYPE svg PUBLIC \"-//W3C//DTD SVG 1.1//EN\"\n",
       " \"http://www.w3.org/Graphics/SVG/1.1/DTD/svg11.dtd\">\n",
       "<!-- Generated by graphviz version 12.0.0 (0)\n",
       " -->\n",
       "<!-- Pages: 1 -->\n",
       "<svg width=\"504pt\" height=\"257pt\"\n",
       " viewBox=\"0.00 0.00 504.00 256.78\" xmlns=\"http://www.w3.org/2000/svg\" xmlns:xlink=\"http://www.w3.org/1999/xlink\">\n",
       "<g id=\"graph0\" class=\"graph\" transform=\"scale(0.666667 0.666667) rotate(0) translate(36 349.18)\">\n",
       "<!-- 0 -->\n",
       "<g id=\"node1\" class=\"node\">\n",
       "<title>0</title>\n",
       "<ellipse fill=\"#eeeeee\" stroke=\"black\" cx=\"27\" cy=\"-187.18\" rx=\"27\" ry=\"18\"/>\n",
       "<text text-anchor=\"middle\" x=\"27\" y=\"-182.15\" font-family=\"Helvetica,Arial,sans-serif\" font-size=\"12.00\">S</text>\n",
       "</g>\n",
       "<!-- 1 -->\n",
       "<g id=\"node2\" class=\"node\">\n",
       "<title>1</title>\n",
       "<ellipse fill=\"white\" stroke=\"black\" cx=\"153\" cy=\"-187.18\" rx=\"27\" ry=\"18\"/>\n",
       "<text text-anchor=\"middle\" x=\"153\" y=\"-182.15\" font-family=\"Helvetica,Arial,sans-serif\" font-size=\"12.00\">2,0</text>\n",
       "</g>\n",
       "<!-- 0&#45;&gt;1 -->\n",
       "<g id=\"edge1\" class=\"edge\">\n",
       "<title>0&#45;&gt;1</title>\n",
       "<path fill=\"none\" stroke=\"black\" d=\"M54.3,-187.18C71.72,-187.18 94.86,-187.18 114.24,-187.18\"/>\n",
       "<polygon fill=\"black\" stroke=\"black\" points=\"114.23,-190.68 124.23,-187.18 114.23,-183.68 114.23,-190.68\"/>\n",
       "<text text-anchor=\"middle\" x=\"78.26\" y=\"-175.78\" font-family=\"Helvetica,Arial,sans-serif\" font-size=\"12.00\">1.00</text>\n",
       "</g>\n",
       "<!-- 2 -->\n",
       "<g id=\"node3\" class=\"node\">\n",
       "<title>2</title>\n",
       "<ellipse fill=\"white\" stroke=\"black\" cx=\"279\" cy=\"-187.18\" rx=\"27\" ry=\"18\"/>\n",
       "<text text-anchor=\"middle\" x=\"279\" y=\"-182.15\" font-family=\"Helvetica,Arial,sans-serif\" font-size=\"12.00\">1,1</text>\n",
       "</g>\n",
       "<!-- 1&#45;&gt;2 -->\n",
       "<g id=\"edge2\" class=\"edge\">\n",
       "<title>1&#45;&gt;2</title>\n",
       "<path fill=\"none\" stroke=\"black\" d=\"M165.44,-170.72C186.11,-158.41 229.98,-156.88 256.43,-166.12\"/>\n",
       "<polygon fill=\"black\" stroke=\"black\" points=\"254.66,-169.16 265.21,-170.11 257.55,-162.79 254.66,-169.16\"/>\n",
       "<text text-anchor=\"middle\" x=\"204.28\" y=\"-148.78\" font-family=\"Helvetica,Arial,sans-serif\" font-size=\"12.00\">1.00</text>\n",
       "</g>\n",
       "<!-- 3 -->\n",
       "<g id=\"node4\" class=\"node\">\n",
       "<title>3</title>\n",
       "<ellipse fill=\"#eeeeee\" stroke=\"black\" cx=\"657\" cy=\"-123.18\" rx=\"27\" ry=\"18\"/>\n",
       "<text text-anchor=\"middle\" x=\"657\" y=\"-118.15\" font-family=\"Helvetica,Arial,sans-serif\" font-size=\"12.00\">0,0</text>\n",
       "</g>\n",
       "<!-- 1&#45;&gt;3 -->\n",
       "<g id=\"edge3\" class=\"edge\">\n",
       "<title>1&#45;&gt;3</title>\n",
       "<path fill=\"none\" stroke=\"black\" d=\"M171.7,-173.94C221.03,-138.01 365.57,-39.09 504,-6.18 527.35,-0.63 536.25,3.98 558,-6.18 597.39,-24.56 626.54,-67.43 642.4,-95.85\"/>\n",
       "<polygon fill=\"black\" stroke=\"black\" points=\"639.29,-97.46 647.1,-104.62 645.46,-94.15 639.29,-97.46\"/>\n",
       "<text text-anchor=\"middle\" x=\"358.1\" y=\"-43.75\" font-family=\"Helvetica,Arial,sans-serif\" font-size=\"12.00\">2.00</text>\n",
       "</g>\n",
       "<!-- 2&#45;&gt;1 -->\n",
       "<g id=\"edge6\" class=\"edge\">\n",
       "<title>2&#45;&gt;1</title>\n",
       "<path fill=\"none\" stroke=\"black\" d=\"M266.58,-203.61C245.94,-215.93 202.07,-217.48 175.6,-208.25\"/>\n",
       "<polygon fill=\"black\" stroke=\"black\" points=\"177.37,-205.21 166.82,-204.26 174.48,-211.58 177.37,-205.21\"/>\n",
       "<text text-anchor=\"middle\" x=\"204.51\" y=\"-202.78\" font-family=\"Helvetica,Arial,sans-serif\" font-size=\"12.00\">1.00</text>\n",
       "</g>\n",
       "<!-- 4 -->\n",
       "<g id=\"node5\" class=\"node\">\n",
       "<title>4</title>\n",
       "<ellipse fill=\"white\" stroke=\"black\" cx=\"405\" cy=\"-295.18\" rx=\"27\" ry=\"18\"/>\n",
       "<text text-anchor=\"middle\" x=\"405\" y=\"-290.15\" font-family=\"Helvetica,Arial,sans-serif\" font-size=\"12.00\">0,2</text>\n",
       "</g>\n",
       "<!-- 2&#45;&gt;4 -->\n",
       "<g id=\"edge4\" class=\"edge\">\n",
       "<title>2&#45;&gt;4</title>\n",
       "<path fill=\"none\" stroke=\"black\" d=\"M306.3,-187.54C332.75,-203.1 372.36,-239.53 392.03,-267.99\"/>\n",
       "<polygon fill=\"black\" stroke=\"black\" points=\"389.02,-269.78 397.3,-276.4 394.95,-266.06 389.02,-269.78\"/>\n",
       "<text text-anchor=\"middle\" x=\"345.19\" y=\"-216.38\" font-family=\"Helvetica,Arial,sans-serif\" font-size=\"12.00\">1.00</text>\n",
       "</g>\n",
       "<!-- 5 -->\n",
       "<g id=\"node6\" class=\"node\">\n",
       "<title>5</title>\n",
       "<ellipse fill=\"white\" stroke=\"black\" cx=\"405\" cy=\"-187.18\" rx=\"27\" ry=\"18\"/>\n",
       "<text text-anchor=\"middle\" x=\"405\" y=\"-182.15\" font-family=\"Helvetica,Arial,sans-serif\" font-size=\"12.00\">0,1</text>\n",
       "</g>\n",
       "<!-- 2&#45;&gt;5 -->\n",
       "<g id=\"edge5\" class=\"edge\">\n",
       "<title>2&#45;&gt;5</title>\n",
       "<path fill=\"none\" stroke=\"black\" d=\"M306.3,-187.18C323.72,-187.18 346.86,-187.18 366.24,-187.18\"/>\n",
       "<polygon fill=\"black\" stroke=\"black\" points=\"366.23,-190.68 376.23,-187.18 366.23,-183.68 366.23,-190.68\"/>\n",
       "<text text-anchor=\"middle\" x=\"330.26\" y=\"-175.78\" font-family=\"Helvetica,Arial,sans-serif\" font-size=\"12.00\">2.00</text>\n",
       "</g>\n",
       "<!-- 6 -->\n",
       "<g id=\"node7\" class=\"node\">\n",
       "<title>6</title>\n",
       "<ellipse fill=\"white\" stroke=\"black\" cx=\"531\" cy=\"-60.18\" rx=\"27\" ry=\"18\"/>\n",
       "<text text-anchor=\"middle\" x=\"531\" y=\"-55.15\" font-family=\"Helvetica,Arial,sans-serif\" font-size=\"12.00\">1,0</text>\n",
       "</g>\n",
       "<!-- 2&#45;&gt;6 -->\n",
       "<g id=\"edge7\" class=\"edge\">\n",
       "<title>2&#45;&gt;6</title>\n",
       "<path fill=\"none\" stroke=\"black\" d=\"M300.09,-175.67C319.78,-164.51 350.71,-147.23 378,-133.18 418.97,-112.07 467.04,-89.31 497.98,-74.92\"/>\n",
       "<polygon fill=\"black\" stroke=\"black\" points=\"499.19,-78.21 506.79,-70.83 496.25,-71.86 499.19,-78.21\"/>\n",
       "<text text-anchor=\"middle\" x=\"391.52\" y=\"-109.04\" font-family=\"Helvetica,Arial,sans-serif\" font-size=\"12.00\">4.00</text>\n",
       "</g>\n",
       "<!-- 4&#45;&gt;2 -->\n",
       "<g id=\"edge8\" class=\"edge\">\n",
       "<title>4&#45;&gt;2</title>\n",
       "<path fill=\"none\" stroke=\"black\" d=\"M377.51,-294.7C351.1,-279.1 311.71,-242.86 292.05,-214.49\"/>\n",
       "<polygon fill=\"black\" stroke=\"black\" points=\"295.07,-212.71 286.79,-206.11 289.15,-216.43 295.07,-212.71\"/>\n",
       "<text text-anchor=\"middle\" x=\"315.54\" y=\"-243.15\" font-family=\"Helvetica,Arial,sans-serif\" font-size=\"12.00\">1.00</text>\n",
       "</g>\n",
       "<!-- 4&#45;&gt;3 -->\n",
       "<g id=\"edge9\" class=\"edge\">\n",
       "<title>4&#45;&gt;3</title>\n",
       "<path fill=\"none\" stroke=\"black\" d=\"M427.77,-284.87C458.1,-270.11 514.26,-241.27 558,-210.18 585.5,-190.63 614.02,-164.54 633.16,-146.04\"/>\n",
       "<polygon fill=\"black\" stroke=\"black\" points=\"635.46,-148.68 640.17,-139.18 630.57,-143.67 635.46,-148.68\"/>\n",
       "<text text-anchor=\"middle\" x=\"546.39\" y=\"-198.77\" font-family=\"Helvetica,Arial,sans-serif\" font-size=\"12.00\">4.00</text>\n",
       "</g>\n",
       "<!-- 5&#45;&gt;3 -->\n",
       "<g id=\"edge11\" class=\"edge\">\n",
       "<title>5&#45;&gt;3</title>\n",
       "<path fill=\"none\" stroke=\"black\" d=\"M430.43,-180.92C474.86,-169.55 569.07,-145.43 620.56,-132.25\"/>\n",
       "<polygon fill=\"black\" stroke=\"black\" points=\"621.19,-135.7 630.01,-129.83 619.45,-128.92 621.19,-135.7\"/>\n",
       "<text text-anchor=\"middle\" x=\"519.14\" y=\"-143.84\" font-family=\"Helvetica,Arial,sans-serif\" font-size=\"12.00\">4.00</text>\n",
       "</g>\n",
       "<!-- 5&#45;&gt;6 -->\n",
       "<g id=\"edge10\" class=\"edge\">\n",
       "<title>5&#45;&gt;6</title>\n",
       "<path fill=\"none\" stroke=\"black\" d=\"M411.65,-169.26C426.25,-140.3 466.14,-95.33 495.59,-70.95\"/>\n",
       "<polygon fill=\"black\" stroke=\"black\" points=\"497.45,-73.94 503.17,-65.02 493.14,-68.43 497.45,-73.94\"/>\n",
       "<text text-anchor=\"middle\" x=\"441.57\" y=\"-101.14\" font-family=\"Helvetica,Arial,sans-serif\" font-size=\"12.00\">1.00</text>\n",
       "</g>\n",
       "<!-- 6&#45;&gt;3 -->\n",
       "<g id=\"edge13\" class=\"edge\">\n",
       "<title>6&#45;&gt;3</title>\n",
       "<path fill=\"none\" stroke=\"black\" d=\"M553.03,-70.86C572.72,-80.86 602.38,-95.93 624.81,-107.33\"/>\n",
       "<polygon fill=\"black\" stroke=\"black\" points=\"623.01,-110.34 633.51,-111.75 626.18,-104.1 623.01,-110.34\"/>\n",
       "<text text-anchor=\"middle\" x=\"582.23\" y=\"-80.2\" font-family=\"Helvetica,Arial,sans-serif\" font-size=\"12.00\">2.00</text>\n",
       "</g>\n",
       "<!-- 6&#45;&gt;5 -->\n",
       "<g id=\"edge12\" class=\"edge\">\n",
       "<title>6&#45;&gt;5</title>\n",
       "<path fill=\"none\" stroke=\"black\" d=\"M524.5,-77.78C510.05,-106.7 470.04,-151.85 440.49,-176.34\"/>\n",
       "<polygon fill=\"black\" stroke=\"black\" points=\"438.59,-173.37 432.88,-182.3 442.91,-178.88 438.59,-173.37\"/>\n",
       "<text text-anchor=\"middle\" x=\"471.38\" y=\"-123.19\" font-family=\"Helvetica,Arial,sans-serif\" font-size=\"12.00\">1.00</text>\n",
       "</g>\n",
       "</g>\n",
       "</svg>\n"
      ],
      "text/plain": [
       "<graphviz.dot.Digraph at 0x1628f2250>"
      ]
     },
     "execution_count": 12,
     "metadata": {},
     "output_type": "execute_result"
    }
   ],
   "source": [
    "def rabbit_islands(state):\n",
    "    children = []\n",
    "    if state[0] > 0:\n",
    "        children.append(([state[0]-1, state[1]+1], 1))\n",
    "        children.append(([0,          state[1]  ], flood_left))\n",
    "    if state[1] > 0:   \n",
    "        children.append(([state[0]+1, state[1]-1], 1))\n",
    "        children.append(([state[0],   0         ], flood_right))\n",
    "    return children\n",
    "\n",
    "initial_state = [nr_rabbits, 0]  \n",
    "\n",
    "graph = ptd.Graph(callback=rabbit_islands,\n",
    "                  initial=initial_state\n",
    "                 )\n",
    "graph.plot()"
   ]
  },
  {
   "cell_type": "markdown",
   "metadata": {},
   "source": [
    "## Continuous phase-type distribution"
   ]
  },
  {
   "cell_type": "markdown",
   "metadata": {},
   "source": [
    "We can now construct the graphs by the function. The flooding rates are set to 2 and 4"
   ]
  },
  {
   "cell_type": "code",
   "execution_count": 13,
   "metadata": {
    "execution": {
     "iopub.execute_input": "2025-03-05T20:33:56.474162Z",
     "iopub.status.busy": "2025-03-05T20:33:56.474072Z",
     "iopub.status.idle": "2025-03-05T20:33:56.488415Z",
     "shell.execute_reply": "2025-03-05T20:33:56.488168Z"
    }
   },
   "outputs": [],
   "source": [
    "graph = construct_rabbit_graph(2, 2, 4)"
   ]
  },
  {
   "cell_type": "markdown",
   "metadata": {},
   "source": [
    "Get the number of vertices in the graph:"
   ]
  },
  {
   "cell_type": "code",
   "execution_count": 14,
   "metadata": {
    "execution": {
     "iopub.execute_input": "2025-03-05T20:33:56.490070Z",
     "iopub.status.busy": "2025-03-05T20:33:56.489988Z",
     "iopub.status.idle": "2025-03-05T20:33:56.502498Z",
     "shell.execute_reply": "2025-03-05T20:33:56.502225Z"
    }
   },
   "outputs": [
    {
     "data": {
      "text/plain": [
       "7"
      ]
     },
     "execution_count": 14,
     "metadata": {},
     "output_type": "execute_result"
    }
   ],
   "source": [
    "graph.vertices_length()"
   ]
  },
  {
   "cell_type": "markdown",
   "metadata": {},
   "source": [
    "as well as integer vector states that those vertices represent:"
   ]
  },
  {
   "cell_type": "code",
   "execution_count": 15,
   "metadata": {
    "execution": {
     "iopub.execute_input": "2025-03-05T20:33:56.504203Z",
     "iopub.status.busy": "2025-03-05T20:33:56.504090Z",
     "iopub.status.idle": "2025-03-05T20:33:56.517394Z",
     "shell.execute_reply": "2025-03-05T20:33:56.517131Z"
    }
   },
   "outputs": [
    {
     "data": {
      "text/plain": [
       "array([[0, 0],\n",
       "       [2, 0],\n",
       "       [1, 1],\n",
       "       [0, 0],\n",
       "       [0, 2],\n",
       "       [0, 1],\n",
       "       [1, 0]], dtype=int32)"
      ]
     },
     "execution_count": 15,
     "metadata": {},
     "output_type": "execute_result"
    }
   ],
   "source": [
    "M = graph.states()\n",
    "M"
   ]
  },
  {
   "cell_type": "markdown",
   "metadata": {},
   "source": [
    "(or nicely as a dataframe):"
   ]
  },
  {
   "cell_type": "code",
   "execution_count": 16,
   "metadata": {
    "execution": {
     "iopub.execute_input": "2025-03-05T20:33:56.518958Z",
     "iopub.status.busy": "2025-03-05T20:33:56.518859Z",
     "iopub.status.idle": "2025-03-05T20:33:56.562672Z",
     "shell.execute_reply": "2025-03-05T20:33:56.562409Z"
    }
   },
   "outputs": [
    {
     "data": {
      "text/html": [
       "<style type=\"text/css\">\n",
       "</style>\n",
       "<table id=\"T_b0279\">\n",
       "  <thead>\n",
       "    <tr>\n",
       "      <th id=\"T_b0279_level0_col0\" class=\"col_heading level0 col0\" >Rabbits left</th>\n",
       "      <th id=\"T_b0279_level0_col1\" class=\"col_heading level0 col1\" >Rabbits right</th>\n",
       "    </tr>\n",
       "  </thead>\n",
       "  <tbody>\n",
       "    <tr>\n",
       "      <td id=\"T_b0279_row0_col0\" class=\"data row0 col0\" >0</td>\n",
       "      <td id=\"T_b0279_row0_col1\" class=\"data row0 col1\" >0</td>\n",
       "    </tr>\n",
       "    <tr>\n",
       "      <td id=\"T_b0279_row1_col0\" class=\"data row1 col0\" >2</td>\n",
       "      <td id=\"T_b0279_row1_col1\" class=\"data row1 col1\" >0</td>\n",
       "    </tr>\n",
       "    <tr>\n",
       "      <td id=\"T_b0279_row2_col0\" class=\"data row2 col0\" >1</td>\n",
       "      <td id=\"T_b0279_row2_col1\" class=\"data row2 col1\" >1</td>\n",
       "    </tr>\n",
       "    <tr>\n",
       "      <td id=\"T_b0279_row3_col0\" class=\"data row3 col0\" >0</td>\n",
       "      <td id=\"T_b0279_row3_col1\" class=\"data row3 col1\" >0</td>\n",
       "    </tr>\n",
       "    <tr>\n",
       "      <td id=\"T_b0279_row4_col0\" class=\"data row4 col0\" >0</td>\n",
       "      <td id=\"T_b0279_row4_col1\" class=\"data row4 col1\" >2</td>\n",
       "    </tr>\n",
       "    <tr>\n",
       "      <td id=\"T_b0279_row5_col0\" class=\"data row5 col0\" >0</td>\n",
       "      <td id=\"T_b0279_row5_col1\" class=\"data row5 col1\" >1</td>\n",
       "    </tr>\n",
       "    <tr>\n",
       "      <td id=\"T_b0279_row6_col0\" class=\"data row6 col0\" >1</td>\n",
       "      <td id=\"T_b0279_row6_col1\" class=\"data row6 col1\" >0</td>\n",
       "    </tr>\n",
       "  </tbody>\n",
       "</table>\n"
      ],
      "text/plain": [
       "<pandas.io.formats.style.Styler at 0x15795de50>"
      ]
     },
     "execution_count": 16,
     "metadata": {},
     "output_type": "execute_result"
    }
   ],
   "source": [
    "pd.DataFrame(M, columns=[\"Rabbits left\", \"Rabbits right\"]).style.hide()"
   ]
  },
  {
   "cell_type": "markdown",
   "metadata": {},
   "source": [
    "This phase-type distribution models the time until all rabits have died. For convenience, we can get its expectation and variance like this:"
   ]
  },
  {
   "cell_type": "code",
   "execution_count": 17,
   "metadata": {
    "execution": {
     "iopub.execute_input": "2025-03-05T20:33:56.564180Z",
     "iopub.status.busy": "2025-03-05T20:33:56.564055Z",
     "iopub.status.idle": "2025-03-05T20:33:56.580865Z",
     "shell.execute_reply": "2025-03-05T20:33:56.580634Z"
    }
   },
   "outputs": [
    {
     "name": "stderr",
     "output_type": "stream",
     "text": [
      "INFO: building reward compute graph...\n"
     ]
    },
    {
     "data": {
      "text/plain": [
       "0.5038265306122448"
      ]
     },
     "execution_count": 17,
     "metadata": {},
     "output_type": "execute_result"
    }
   ],
   "source": [
    "graph.expectation()"
   ]
  },
  {
   "cell_type": "code",
   "execution_count": 18,
   "metadata": {
    "execution": {
     "iopub.execute_input": "2025-03-05T20:33:56.582212Z",
     "iopub.status.busy": "2025-03-05T20:33:56.582104Z",
     "iopub.status.idle": "2025-03-05T20:33:56.595362Z",
     "shell.execute_reply": "2025-03-05T20:33:56.595129Z"
    }
   },
   "outputs": [
    {
     "data": {
      "text/plain": [
       "0.2264567497917534"
      ]
     },
     "execution_count": 18,
     "metadata": {},
     "output_type": "execute_result"
    }
   ],
   "source": [
    "graph.variance()"
   ]
  },
  {
   "cell_type": "markdown",
   "metadata": {},
   "source": [
    "But if you want you can get any number of moments like this (here three):"
   ]
  },
  {
   "cell_type": "code",
   "execution_count": 19,
   "metadata": {
    "execution": {
     "iopub.execute_input": "2025-03-05T20:33:56.596783Z",
     "iopub.status.busy": "2025-03-05T20:33:56.596672Z",
     "iopub.status.idle": "2025-03-05T20:33:56.609017Z",
     "shell.execute_reply": "2025-03-05T20:33:56.608766Z"
    }
   },
   "outputs": [
    {
     "data": {
      "text/plain": [
       "[0.5038265306122448, 0.48029792274052463, 0.6559101757731152]"
      ]
     },
     "execution_count": 19,
     "metadata": {},
     "output_type": "execute_result"
    }
   ],
   "source": [
    "graph.moments(3)"
   ]
  },
  {
   "cell_type": "markdown",
   "metadata": {},
   "source": [
    "We can find the expected waiting time given that we start in any of the states, not just the starting state:        "
   ]
  },
  {
   "cell_type": "code",
   "execution_count": 20,
   "metadata": {
    "execution": {
     "iopub.execute_input": "2025-03-05T20:33:56.610427Z",
     "iopub.status.busy": "2025-03-05T20:33:56.610352Z",
     "iopub.status.idle": "2025-03-05T20:33:56.625295Z",
     "shell.execute_reply": "2025-03-05T20:33:56.624893Z"
    }
   },
   "outputs": [
    {
     "data": {
      "text/plain": [
       "[0.5038265306122448,\n",
       " 0.5038265306122448,\n",
       " 0.5114795918367346,\n",
       " 0.0,\n",
       " 0.30229591836734687,\n",
       " 0.28571428571428564,\n",
       " 0.4285714285714285]"
      ]
     },
     "execution_count": 20,
     "metadata": {},
     "output_type": "execute_result"
    }
   ],
   "source": [
    "graph.expected_waiting_time()"
   ]
  },
  {
   "cell_type": "markdown",
   "metadata": {},
   "source": [
    "If needed for downstream analysis, matrix-based representation of the phase-type distribution can be extracted. Note that the indices in this representatoin do *not* correspond to vertex indicies in the graph."
   ]
  },
  {
   "cell_type": "markdown",
   "metadata": {},
   "source": [
    "# this makes the kernel die..."
   ]
  },
  {
   "cell_type": "code",
   "execution_count": 21,
   "metadata": {
    "execution": {
     "iopub.execute_input": "2025-03-05T20:33:56.627108Z",
     "iopub.status.busy": "2025-03-05T20:33:56.626989Z",
     "iopub.status.idle": "2025-03-05T20:33:56.640865Z",
     "shell.execute_reply": "2025-03-05T20:33:56.640542Z"
    }
   },
   "outputs": [],
   "source": [
    "# graph.as_matrices()"
   ]
  },
  {
   "cell_type": "markdown",
   "metadata": {},
   "source": [
    "We can get the CDF and PDF. The distribution methods reuse cached computations and recompute only if the graph changes. Compare the running times for the first and second call to the function:"
   ]
  },
  {
   "cell_type": "code",
   "execution_count": 22,
   "metadata": {
    "execution": {
     "iopub.execute_input": "2025-03-05T20:33:56.643098Z",
     "iopub.status.busy": "2025-03-05T20:33:56.642731Z",
     "iopub.status.idle": "2025-03-05T20:33:56.656774Z",
     "shell.execute_reply": "2025-03-05T20:33:56.656509Z"
    }
   },
   "outputs": [],
   "source": [
    "time = np.arange(0, 4, 0.001)"
   ]
  },
  {
   "cell_type": "code",
   "execution_count": 23,
   "metadata": {
    "execution": {
     "iopub.execute_input": "2025-03-05T20:33:56.658429Z",
     "iopub.status.busy": "2025-03-05T20:33:56.658334Z",
     "iopub.status.idle": "2025-03-05T20:33:56.671439Z",
     "shell.execute_reply": "2025-03-05T20:33:56.671190Z"
    }
   },
   "outputs": [
    {
     "name": "stdout",
     "output_type": "stream",
     "text": [
      "CPU times: user 309 μs, sys: 3 μs, total: 312 μs\n",
      "Wall time: 315 μs\n"
     ]
    }
   ],
   "source": [
    "%%time\n",
    "cdf = graph.cdf(time)"
   ]
  },
  {
   "cell_type": "code",
   "execution_count": 24,
   "metadata": {
    "execution": {
     "iopub.execute_input": "2025-03-05T20:33:56.672803Z",
     "iopub.status.busy": "2025-03-05T20:33:56.672713Z",
     "iopub.status.idle": "2025-03-05T20:33:56.685138Z",
     "shell.execute_reply": "2025-03-05T20:33:56.684883Z"
    }
   },
   "outputs": [
    {
     "name": "stdout",
     "output_type": "stream",
     "text": [
      "CPU times: user 34 μs, sys: 0 ns, total: 34 μs\n",
      "Wall time: 35.8 μs\n"
     ]
    }
   ],
   "source": [
    "%%time\n",
    "cdf = graph.cdf(time)"
   ]
  },
  {
   "cell_type": "code",
   "execution_count": 25,
   "metadata": {
    "execution": {
     "iopub.execute_input": "2025-03-05T20:33:56.686429Z",
     "iopub.status.busy": "2025-03-05T20:33:56.686334Z",
     "iopub.status.idle": "2025-03-05T20:33:56.697637Z",
     "shell.execute_reply": "2025-03-05T20:33:56.697405Z"
    }
   },
   "outputs": [
    {
     "name": "stdout",
     "output_type": "stream",
     "text": [
      "CPU times: user 32 μs, sys: 0 ns, total: 32 μs\n",
      "Wall time: 34.1 μs\n"
     ]
    }
   ],
   "source": [
    "%%time\n",
    "pdf = graph.pdf(time)"
   ]
  },
  {
   "cell_type": "markdown",
   "metadata": {},
   "source": [
    "PDF and CDF of distribution. Observe the long tails!"
   ]
  },
  {
   "cell_type": "code",
   "execution_count": 26,
   "metadata": {
    "execution": {
     "iopub.execute_input": "2025-03-05T20:33:56.698956Z",
     "iopub.status.busy": "2025-03-05T20:33:56.698870Z",
     "iopub.status.idle": "2025-03-05T20:33:56.858125Z",
     "shell.execute_reply": "2025-03-05T20:33:56.857859Z"
    }
   },
   "outputs": [
    {
     "data": {
      "image/png": "[encoded data removed]",
      "text/plain": [
       "<Figure size 800x300 with 2 Axes>"
      ]
     },
     "metadata": {
      "image/png": {
       "height": 296,
       "width": 671
      }
     },
     "output_type": "display_data"
    }
   ],
   "source": [
    "fig, (ax1, ax2) = plt.subplots(1, 2, figsize=(8, 3))\n",
    "ax1.plot(time, pdf)\n",
    "ax1.set_title(\"PDF\")\n",
    "ax1.set_ylim(bottom=0)\n",
    "ax2.plot(time, cdf)\n",
    "ax2.set_title(\"CDF\")\n",
    "ax2.set_ylim(bottom=0)\n",
    "sns.despine()\n"
   ]
  },
  {
   "cell_type": "markdown",
   "metadata": {},
   "source": [
    "## Rewards"
   ]
  },
  {
   "cell_type": "markdown",
   "metadata": {},
   "source": [
    "We can add rewards which are based on the number of rabbits on the second island."
   ]
  },
  {
   "cell_type": "code",
   "execution_count": 27,
   "metadata": {
    "execution": {
     "iopub.execute_input": "2025-03-05T20:33:56.859848Z",
     "iopub.status.busy": "2025-03-05T20:33:56.859734Z",
     "iopub.status.idle": "2025-03-05T20:33:56.875708Z",
     "shell.execute_reply": "2025-03-05T20:33:56.875350Z"
    }
   },
   "outputs": [],
   "source": [
    "rewards = graph.states()[:, 1]"
   ]
  },
  {
   "cell_type": "markdown",
   "metadata": {},
   "source": [
    "Can also be computed like this:"
   ]
  },
  {
   "cell_type": "code",
   "execution_count": 28,
   "metadata": {
    "execution": {
     "iopub.execute_input": "2025-03-05T20:33:56.877471Z",
     "iopub.status.busy": "2025-03-05T20:33:56.877368Z",
     "iopub.status.idle": "2025-03-05T20:33:56.891662Z",
     "shell.execute_reply": "2025-03-05T20:33:56.891382Z"
    }
   },
   "outputs": [],
   "source": [
    "rewards = np.array([graph.vertex_at(i).state()[1] for i in range(graph.vertices_length())])"
   ]
  },
  {
   "cell_type": "markdown",
   "metadata": {},
   "source": [
    "Adding these rewards, the phase-type distribution now represent the total accumulated time that any rabbits spends on the right island."
   ]
  },
  {
   "cell_type": "markdown",
   "metadata": {},
   "source": [
    "Using rewards to the moment functions etc. is much faster than changing the graph."
   ]
  },
  {
   "cell_type": "markdown",
   "metadata": {},
   "source": [
    "The expectation and variance are now:"
   ]
  },
  {
   "cell_type": "code",
   "execution_count": 29,
   "metadata": {
    "execution": {
     "iopub.execute_input": "2025-03-05T20:33:56.893491Z",
     "iopub.status.busy": "2025-03-05T20:33:56.893393Z",
     "iopub.status.idle": "2025-03-05T20:33:56.907227Z",
     "shell.execute_reply": "2025-03-05T20:33:56.906960Z"
    }
   },
   "outputs": [
    {
     "data": {
      "text/plain": [
       "(0.09438775510204081, 0.04634787588504789)"
      ]
     },
     "execution_count": 29,
     "metadata": {},
     "output_type": "execute_result"
    }
   ],
   "source": [
    "graph.expectation(rewards), graph.variance(rewards)"
   ]
  },
  {
   "cell_type": "markdown",
   "metadata": {},
   "source": [
    "Using rewards to the moment functions etc. is much faster than actually changing the graph, but sometimes we might want to be interested in reward transforming the phase-type distribution, giving us the full distribution of accumulated rewards. For example if we want the pdf/cdf."
   ]
  },
  {
   "cell_type": "code",
   "execution_count": 30,
   "metadata": {
    "execution": {
     "iopub.execute_input": "2025-03-05T20:33:56.908783Z",
     "iopub.status.busy": "2025-03-05T20:33:56.908685Z",
     "iopub.status.idle": "2025-03-05T20:33:56.921520Z",
     "shell.execute_reply": "2025-03-05T20:33:56.921219Z"
    }
   },
   "outputs": [],
   "source": [
    "right_graph = graph.reward_transform(rewards)"
   ]
  },
  {
   "cell_type": "markdown",
   "metadata": {},
   "source": [
    "Now we get the expectation and variance from before without adding any rewards:"
   ]
  },
  {
   "cell_type": "code",
   "execution_count": 31,
   "metadata": {
    "execution": {
     "iopub.execute_input": "2025-03-05T20:33:56.923249Z",
     "iopub.status.busy": "2025-03-05T20:33:56.923168Z",
     "iopub.status.idle": "2025-03-05T20:33:56.935713Z",
     "shell.execute_reply": "2025-03-05T20:33:56.935463Z"
    }
   },
   "outputs": [
    {
     "name": "stderr",
     "output_type": "stream",
     "text": [
      "INFO: building reward compute graph...\n"
     ]
    },
    {
     "data": {
      "text/plain": [
       "(0.09438775510204081, 0.04634787588504791)"
      ]
     },
     "execution_count": 31,
     "metadata": {},
     "output_type": "execute_result"
    }
   ],
   "source": [
    "right_graph.expectation(), right_graph.variance()"
   ]
  },
  {
   "cell_type": "markdown",
   "metadata": {},
   "source": [
    "We can find the distribution function for the the total accumulate time spent by any rabbit on an island. We show here the PDF and CDF"
   ]
  },
  {
   "cell_type": "code",
   "execution_count": 32,
   "metadata": {
    "execution": {
     "iopub.execute_input": "2025-03-05T20:33:56.937304Z",
     "iopub.status.busy": "2025-03-05T20:33:56.937207Z",
     "iopub.status.idle": "2025-03-05T20:33:56.950252Z",
     "shell.execute_reply": "2025-03-05T20:33:56.949958Z"
    }
   },
   "outputs": [],
   "source": [
    "accumulated_rewards = np.arange(0, 2, 0.01)\n",
    "\n",
    "pdf = right_graph.pdf(accumulated_rewards)\n",
    "cdf = right_graph.cdf(accumulated_rewards)"
   ]
  },
  {
   "cell_type": "markdown",
   "metadata": {},
   "source": [
    "PDF and CDF of distribution. Notice how we have a \"defect\" i.e. a probability of obtaining no rewards:"
   ]
  },
  {
   "cell_type": "code",
   "execution_count": 33,
   "metadata": {
    "execution": {
     "iopub.execute_input": "2025-03-05T20:33:56.951917Z",
     "iopub.status.busy": "2025-03-05T20:33:56.951824Z",
     "iopub.status.idle": "2025-03-05T20:33:56.964662Z",
     "shell.execute_reply": "2025-03-05T20:33:56.964449Z"
    },
    "tags": []
   },
   "outputs": [
    {
     "data": {
      "text/plain": [
       "0.6666666666666666"
      ]
     },
     "execution_count": 33,
     "metadata": {},
     "output_type": "execute_result"
    }
   ],
   "source": [
    "right_graph.defect()"
   ]
  },
  {
   "cell_type": "markdown",
   "metadata": {},
   "source": [
    "The defect is shown with a dotted line below. Remember to always consider this defect."
   ]
  },
  {
   "cell_type": "code",
   "execution_count": 34,
   "metadata": {
    "execution": {
     "iopub.execute_input": "2025-03-05T20:33:56.966085Z",
     "iopub.status.busy": "2025-03-05T20:33:56.966007Z",
     "iopub.status.idle": "2025-03-05T20:33:57.060722Z",
     "shell.execute_reply": "2025-03-05T20:33:57.060468Z"
    }
   },
   "outputs": [
    {
     "data": {
      "image/png": "[encoded data removed]",
      "text/plain": [
       "<Figure size 800x300 with 2 Axes>"
      ]
     },
     "metadata": {
      "image/png": {
       "height": 296,
       "width": 671
      }
     },
     "output_type": "display_data"
    }
   ],
   "source": [
    "fig, (ax1, ax2) = plt.subplots(1, 2, figsize=(8, 3), sharey=True)\n",
    "ax1.plot(accumulated_rewards, pdf)\n",
    "ax1.set_title(\"PDF\")\n",
    "ax1.set_ylim(bottom=0)\n",
    "ax2.plot(accumulated_rewards, cdf)\n",
    "ax2.set_title(\"CDF\")\n",
    "ax2.set_ylim(bottom=0)\n",
    "ax2.axhline(y=right_graph.defect(), linestyle='dotted', color='black')\n",
    "sns.despine()"
   ]
  },
  {
   "cell_type": "markdown",
   "metadata": {},
   "source": [
    "There are also utility methods to get the stop probability i.e. probabilities of occupying each state at time t. "
   ]
  },
  {
   "cell_type": "code",
   "execution_count": 35,
   "metadata": {
    "execution": {
     "iopub.execute_input": "2025-03-05T20:33:57.062444Z",
     "iopub.status.busy": "2025-03-05T20:33:57.062331Z",
     "iopub.status.idle": "2025-03-05T20:33:57.076037Z",
     "shell.execute_reply": "2025-03-05T20:33:57.075813Z"
    }
   },
   "outputs": [
    {
     "data": {
      "text/plain": [
       "[0.0,\n",
       " 0.5561531639166896,\n",
       " 0.07040541534825098,\n",
       " 0.0,\n",
       " 0.007095725804629082,\n",
       " 0.016348108066650276,\n",
       " 0.03374890558205247]"
      ]
     },
     "execution_count": 35,
     "metadata": {},
     "output_type": "execute_result"
    }
   ],
   "source": [
    "graph.stop_probability(0.2)"
   ]
  },
  {
   "cell_type": "markdown",
   "metadata": {},
   "source": [
    "We can use that to compute the expected number of rabbits across time:"
   ]
  },
  {
   "cell_type": "code",
   "execution_count": 36,
   "metadata": {
    "execution": {
     "iopub.execute_input": "2025-03-05T20:33:57.077533Z",
     "iopub.status.busy": "2025-03-05T20:33:57.077453Z",
     "iopub.status.idle": "2025-03-05T20:33:57.134318Z",
     "shell.execute_reply": "2025-03-05T20:33:57.134060Z"
    }
   },
   "outputs": [
    {
     "data": {
      "image/png": "[encoded data removed]",
      "text/plain": [
       "<Figure size 400x300 with 1 Axes>"
      ]
     },
     "metadata": {
      "image/png": {
       "height": 294,
       "width": 385
      }
     },
     "output_type": "display_data"
    }
   ],
   "source": [
    "times = np.arange(0, 2, 0.05)\n",
    "expected_rabbits_left = [\n",
    "    np.sum(graph.stop_probability(i) \n",
    "           * np.sum(graph.states(), axis=1)) \n",
    "    for i in times\n",
    "    ]\n",
    "\n",
    "fig, ax = plt.subplots(1, 1, figsize=(4, 3))\n",
    "ax.plot(times, expected_rabbits_left)\n",
    "ax.set_xlabel('time')\n",
    "ax.set_ylabel(\"Expected nr rabbits\")\n",
    "sns.despine()\n"
   ]
  },
  {
   "cell_type": "markdown",
   "metadata": {},
   "source": [
    "We can also get the accumulated visiting time of a particular state. E.g. the total time before time t=0.5 where there was a rabbit on the right island:"
   ]
  },
  {
   "cell_type": "code",
   "execution_count": 37,
   "metadata": {
    "execution": {
     "iopub.execute_input": "2025-03-05T20:33:57.135917Z",
     "iopub.status.busy": "2025-03-05T20:33:57.135819Z",
     "iopub.status.idle": "2025-03-05T20:33:57.153042Z",
     "shell.execute_reply": "2025-03-05T20:33:57.152757Z"
    }
   },
   "outputs": [
    {
     "data": {
      "text/plain": [
       "np.float64(0.04053231796047568)"
      ]
     },
     "execution_count": 37,
     "metadata": {},
     "output_type": "execute_result"
    }
   ],
   "source": [
    "rewards = (graph.states()[:,1]>0).astype(int)\n",
    "np.sum(graph.accumulated_visiting_time(time=0.5) * rewards)"
   ]
  },
  {
   "cell_type": "code",
   "execution_count": 38,
   "metadata": {
    "execution": {
     "iopub.execute_input": "2025-03-05T20:33:57.154732Z",
     "iopub.status.busy": "2025-03-05T20:33:57.154599Z",
     "iopub.status.idle": "2025-03-05T20:33:57.168854Z",
     "shell.execute_reply": "2025-03-05T20:33:57.168453Z"
    }
   },
   "outputs": [
    {
     "data": {
      "text/plain": [
       "[0.0, 0.5038265306122448, 0.0, 0.0, 0.0, 0.0, 0.0]"
      ]
     },
     "execution_count": 38,
     "metadata": {},
     "output_type": "execute_result"
    }
   ],
   "source": [
    "graph.expected_residence_time()"
   ]
  },
  {
   "cell_type": "markdown",
   "metadata": {},
   "source": [
    "# Random sampling"
   ]
  },
  {
   "cell_type": "markdown",
   "metadata": {},
   "source": [
    "The library includes functions to do random sampling. These are useful to also validate the computations"
   ]
  },
  {
   "cell_type": "code",
   "execution_count": 39,
   "metadata": {
    "execution": {
     "iopub.execute_input": "2025-03-05T20:33:57.170645Z",
     "iopub.status.busy": "2025-03-05T20:33:57.170542Z",
     "iopub.status.idle": "2025-03-05T20:33:57.183895Z",
     "shell.execute_reply": "2025-03-05T20:33:57.183634Z"
    }
   },
   "outputs": [
    {
     "data": {
      "text/plain": [
       "[0.30390544192090957,\n",
       " 0.020477213998531155,\n",
       " 0.13019196755993087,\n",
       " 0.17178606952608544,\n",
       " 0.4674379039508838]"
      ]
     },
     "execution_count": 39,
     "metadata": {},
     "output_type": "execute_result"
    }
   ],
   "source": [
    "graph.sample(5)"
   ]
  },
  {
   "cell_type": "code",
   "execution_count": 40,
   "metadata": {
    "execution": {
     "iopub.execute_input": "2025-03-05T20:33:57.185419Z",
     "iopub.status.busy": "2025-03-05T20:33:57.185260Z",
     "iopub.status.idle": "2025-03-05T20:33:58.150456Z",
     "shell.execute_reply": "2025-03-05T20:33:58.150127Z"
    }
   },
   "outputs": [
    {
     "data": {
      "image/png": "[encoded data removed]",
      "text/plain": [
       "<Figure size 400x300 with 1 Axes>"
      ]
     },
     "metadata": {
      "image/png": {
       "height": 274,
       "width": 372
      }
     },
     "output_type": "display_data"
    }
   ],
   "source": [
    "fig, ax = plt.subplots(figsize=(4, 3))\n",
    "samples = graph.sample(1000000)\n",
    "\n",
    "ax.hist(samples, bins=50, density=True, label='Samples')\n",
    "x = np.arange(0, 2, 0.05)\n",
    "\n",
    "ax.plot(x, [graph.pdf(t) for t in x], label='PDF')\n",
    "\n",
    "ax.set_xlim(0, 2)\n",
    "ax.legend()\n",
    "sns.despine()"
   ]
  },
  {
   "cell_type": "markdown",
   "metadata": {},
   "source": [
    "You can produce the moments from sampling if needed. Compare to the sampled and exact second moments:"
   ]
  },
  {
   "cell_type": "code",
   "execution_count": 41,
   "metadata": {
    "execution": {
     "iopub.execute_input": "2025-03-05T20:33:58.152494Z",
     "iopub.status.busy": "2025-03-05T20:33:58.152364Z",
     "iopub.status.idle": "2025-03-05T20:33:58.274588Z",
     "shell.execute_reply": "2025-03-05T20:33:58.274327Z"
    }
   },
   "outputs": [
    {
     "data": {
      "text/plain": [
       "(np.float64(0.48061225409880987), 0.48029792274052463)"
      ]
     },
     "execution_count": 41,
     "metadata": {},
     "output_type": "execute_result"
    }
   ],
   "source": [
    "np.sum(np.array(graph.sample(1000000))**2)/1000000, graph.moments(2)[1]"
   ]
  },
  {
   "cell_type": "code",
   "execution_count": 42,
   "metadata": {
    "execution": {
     "iopub.execute_input": "2025-03-05T20:33:58.276248Z",
     "iopub.status.busy": "2025-03-05T20:33:58.276144Z",
     "iopub.status.idle": "2025-03-05T20:33:58.412756Z",
     "shell.execute_reply": "2025-03-05T20:33:58.412504Z"
    }
   },
   "outputs": [
    {
     "data": {
      "text/plain": [
       "(np.float64(0.05488849178063228), 0.05525692419825073)"
      ]
     },
     "execution_count": 42,
     "metadata": {},
     "output_type": "execute_result"
    }
   ],
   "source": [
    "rewards = graph.states()[:,1]\n",
    "np.sum(np.array(graph.sample(1000000, rewards))**2)/1000000, graph.moments(2, rewards)[1]"
   ]
  },
  {
   "cell_type": "markdown",
   "metadata": {},
   "source": [
    "Reward-transforming first and then computing without rewards achieves the same thing:"
   ]
  },
  {
   "cell_type": "code",
   "execution_count": 43,
   "metadata": {
    "execution": {
     "iopub.execute_input": "2025-03-05T20:33:58.414313Z",
     "iopub.status.busy": "2025-03-05T20:33:58.414209Z",
     "iopub.status.idle": "2025-03-05T20:33:58.507792Z",
     "shell.execute_reply": "2025-03-05T20:33:58.507516Z"
    }
   },
   "outputs": [
    {
     "name": "stderr",
     "output_type": "stream",
     "text": [
      "INFO: building reward compute graph...\n"
     ]
    },
    {
     "data": {
      "text/plain": [
       "(np.float64(0.05522018538977551), 0.055256924198250734)"
      ]
     },
     "execution_count": 43,
     "metadata": {},
     "output_type": "execute_result"
    }
   ],
   "source": [
    "revtr_graph = graph.reward_transform(rewards)\n",
    "np.sum(np.array(revtr_graph.sample(1000000))**2)/1000000, revtr_graph.moments(2)[1]"
   ]
  },
  {
   "cell_type": "markdown",
   "metadata": {},
   "source": [
    "## Discrete phase-type distributions"
   ]
  },
  {
   "cell_type": "markdown",
   "metadata": {},
   "source": [
    "We can also work with discrete phase-type distributions. This is the number of jumps in a Markov Chain before absorption. We will model that any rabbit can find a carrot at each time with rate 0.1 and see how many carrots the rabbits will have found. We could of course just make a new state-space creation function, but we can also manipulate existing."
   ]
  },
  {
   "cell_type": "code",
   "execution_count": 44,
   "metadata": {
    "execution": {
     "iopub.execute_input": "2025-03-05T20:33:58.509425Z",
     "iopub.status.busy": "2025-03-05T20:33:58.509326Z",
     "iopub.status.idle": "2025-03-05T20:33:58.523123Z",
     "shell.execute_reply": "2025-03-05T20:33:58.522870Z"
    }
   },
   "outputs": [],
   "source": [
    "carrot_graph = graph.clone()\n",
    "vlength = carrot_graph.vertices_length()\n",
    "carrot_vertices = np.repeat(False, vlength*2)\n",
    "\n",
    "\n",
    "for i in range(vlength):\n",
    "    vertex = carrot_graph.vertex_at(i)\n",
    "    rabbits = sum(vertex.state())\n",
    "    \n",
    "    if rabbits > 0:\n",
    "        obtained_carrot_vertex = carrot_graph.create_vertex([0])\n",
    "        # Go directly back to the state we came from\n",
    "        obtained_carrot_vertex.add_edge(vertex, 1)\n",
    "        # Rate of finding carrot\n",
    "        vertex.add_edge(obtained_carrot_vertex, rabbits * 0.1)\n",
    "        carrot_vertices[obtained_carrot_vertex.index()] = True\n"
   ]
  },
  {
   "cell_type": "code",
   "execution_count": 45,
   "metadata": {
    "execution": {
     "iopub.execute_input": "2025-03-05T20:33:58.524722Z",
     "iopub.status.busy": "2025-03-05T20:33:58.524643Z",
     "iopub.status.idle": "2025-03-05T20:33:58.540078Z",
     "shell.execute_reply": "2025-03-05T20:33:58.539847Z"
    }
   },
   "outputs": [
    {
     "name": "stdout",
     "output_type": "stream",
     "text": [
      "This is the discrete state space as a sub-transition matrix:\n"
     ]
    }
   ],
   "source": [
    "\n",
    "\n",
    "\n",
    "vlength = carrot_graph.vertices_length()\n",
    "carrot_vertices = np.repeat(False, vlength*2)\n",
    "\n",
    "for i in range(vlength):\n",
    "    vertex = carrot_graph.vertex_at(i)\n",
    "    rabbits = sum(vertex.state())\n",
    "    \n",
    "    if rabbits > 0:\n",
    "        obtained_carrot_vertex = carrot_graph.create_vertex([0])\n",
    "        # Go directly back to the state we came from\n",
    "        obtained_carrot_vertex.add_edge(vertex, 1)\n",
    "        # Rate of finding carrot\n",
    "        vertex.add_edge(obtained_carrot_vertex, rabbits * 0.1)\n",
    "        carrot_vertices[obtained_carrot_vertex.index()] = True\n",
    "\n",
    "carrot_vertices = carrot_vertices[np.arange(carrot_graph.vertices_length())]\n",
    "\n",
    "# We now want to make the graph discrete. We do this by 'normalizing' the edges\n",
    "# This is imply scaling the vertices such that the total out-going rate is 1\n",
    "# As it is now the probability of transitions\n",
    "weights_were_multiplied_with = carrot_graph.normalize()\n",
    "\n",
    "print(\"This is the discrete state space as a sub-transition matrix:\")\n",
    "#carrot_graph.as_matrices()"
   ]
  },
  {
   "cell_type": "code",
   "execution_count": 46,
   "metadata": {
    "execution": {
     "iopub.execute_input": "2025-03-05T20:33:58.541470Z",
     "iopub.status.busy": "2025-03-05T20:33:58.541387Z",
     "iopub.status.idle": "2025-03-05T20:33:58.553160Z",
     "shell.execute_reply": "2025-03-05T20:33:58.552921Z"
    }
   },
   "outputs": [
    {
     "name": "stdout",
     "output_type": "stream",
     "text": [
      "0 [0, 0] [1-(2,0)]\n",
      "1 [2, 0] [0.294118-(1,1), 0.588235-(0,0), 0.0588235-(0,0), 0.0588235-(0,0)]\n",
      "2 [1, 1] [0.119048-(0,2), 0.238095-(0,1), 0.119048-(2,0), 0.47619-(1,0), 0.0238095-(0,0), 0.0238095-(0,0)]\n",
      "3 [0, 0] []\n",
      "4 [0, 2] [0.185185-(1,1), 0.740741-(0,0), 0.037037-(0,0), 0.037037-(0,0)]\n",
      "5 [0, 1] [0.192308-(1,0), 0.769231-(0,0), 0.0192308-(0,0), 0.0192308-(0,0)]\n",
      "6 [1, 0] [0.3125-(0,1), 0.625-(0,0), 0.03125-(0,0), 0.03125-(0,0)]\n",
      "7 [0, 0] [1-(2,0)]\n",
      "8 [0, 0] [1-(1,1)]\n",
      "9 [0, 0] [1-(0,2)]\n",
      "10 [0, 0] [1-(0,1)]\n",
      "11 [0, 0] [1-(1,0)]\n",
      "12 [0, 0] [1-(2,0)]\n",
      "13 [0, 0] [1-(1,1)]\n",
      "14 [0, 0] [1-(0,2)]\n",
      "15 [0, 0] [1-(0,1)]\n",
      "16 [0, 0] [1-(1,0)]\n"
     ]
    }
   ],
   "source": [
    "for vertex in carrot_graph.vertices():\n",
    "    print(vertex.index(),vertex.state(), vertex.edges())"
   ]
  },
  {
   "cell_type": "code",
   "execution_count": 47,
   "metadata": {
    "execution": {
     "iopub.execute_input": "2025-03-05T20:33:58.554519Z",
     "iopub.status.busy": "2025-03-05T20:33:58.554434Z",
     "iopub.status.idle": "2025-03-05T20:33:58.566494Z",
     "shell.execute_reply": "2025-03-05T20:33:58.566256Z"
    }
   },
   "outputs": [
    {
     "name": "stdout",
     "output_type": "stream",
     "text": [
      "(0,0)\n",
      "   1-(2,0)\n",
      "(2,0)\n",
      "   0.294118-(1,1)\n",
      "   0.588235-(0,0)\n",
      "   0.0588235-(0,0)\n",
      "   0.0588235-(0,0)\n",
      "(1,1)\n",
      "   0.119048-(0,2)\n",
      "   0.238095-(0,1)\n",
      "   0.119048-(2,0)\n",
      "   0.47619-(1,0)\n",
      "   0.0238095-(0,0)\n",
      "   0.0238095-(0,0)\n",
      "(0,0)\n",
      "(0,2)\n",
      "   0.185185-(1,1)\n",
      "   0.740741-(0,0)\n",
      "   0.037037-(0,0)\n",
      "   0.037037-(0,0)\n",
      "(0,1)\n",
      "   0.192308-(1,0)\n",
      "   0.769231-(0,0)\n",
      "   0.0192308-(0,0)\n",
      "   0.0192308-(0,0)\n",
      "(1,0)\n",
      "   0.3125-(0,1)\n",
      "   0.625-(0,0)\n",
      "   0.03125-(0,0)\n",
      "   0.03125-(0,0)\n",
      "(0,0)\n",
      "   1-(2,0)\n",
      "(0,0)\n",
      "   1-(1,1)\n",
      "(0,0)\n",
      "   1-(0,2)\n",
      "(0,0)\n",
      "   1-(0,1)\n",
      "(0,0)\n",
      "   1-(1,0)\n",
      "(0,0)\n",
      "   1-(2,0)\n",
      "(0,0)\n",
      "   1-(1,1)\n",
      "(0,0)\n",
      "   1-(0,2)\n",
      "(0,0)\n",
      "   1-(0,1)\n",
      "(0,0)\n",
      "   1-(1,0)\n"
     ]
    }
   ],
   "source": [
    "for vertex in carrot_graph.vertices():\n",
    "    print(vertex)\n",
    "    for edge in vertex.edges():\n",
    "        print(\"  \", edge)"
   ]
  },
  {
   "cell_type": "code",
   "execution_count": 48,
   "metadata": {
    "execution": {
     "iopub.execute_input": "2025-03-05T20:33:58.567922Z",
     "iopub.status.busy": "2025-03-05T20:33:58.567825Z",
     "iopub.status.idle": "2025-03-05T20:33:58.579077Z",
     "shell.execute_reply": "2025-03-05T20:33:58.578838Z"
    }
   },
   "outputs": [
    {
     "data": {
      "text/plain": [
       "array([0, 0, 0, 0, 0, 0, 0, 0, 0, 0, 0, 0, 1, 1, 1, 1, 1])"
      ]
     },
     "execution_count": 48,
     "metadata": {},
     "output_type": "execute_result"
    }
   ],
   "source": [
    "carrot_vertices.astype(int)"
   ]
  },
  {
   "cell_type": "markdown",
   "metadata": {},
   "source": [
    "We now want to find the expected number of eaten carrots. We set the reward such that the carrot vertex has a reward of '1'.\n"
   ]
  },
  {
   "cell_type": "code",
   "execution_count": 49,
   "metadata": {
    "execution": {
     "iopub.execute_input": "2025-03-05T20:33:58.580575Z",
     "iopub.status.busy": "2025-03-05T20:33:58.580472Z",
     "iopub.status.idle": "2025-03-05T20:33:58.593650Z",
     "shell.execute_reply": "2025-03-05T20:33:58.593377Z"
    }
   },
   "outputs": [
    {
     "name": "stderr",
     "output_type": "stream",
     "text": [
      "INFO: building reward compute graph...\n"
     ]
    },
    {
     "data": {
      "text/plain": [
       "0.09056122448979592"
      ]
     },
     "execution_count": 49,
     "metadata": {},
     "output_type": "execute_result"
    }
   ],
   "source": [
    "rewards = carrot_vertices.astype(int)\n",
    "carrot_graph.expectation_discrete(rewards)\n"
   ]
  },
  {
   "cell_type": "markdown",
   "metadata": {},
   "source": [
    "We can verify that the number of carrots correspond to scaling the continuous graph:"
   ]
  },
  {
   "cell_type": "code",
   "execution_count": 50,
   "metadata": {
    "execution": {
     "iopub.execute_input": "2025-03-05T20:33:58.595219Z",
     "iopub.status.busy": "2025-03-05T20:33:58.595116Z",
     "iopub.status.idle": "2025-03-05T20:33:58.608482Z",
     "shell.execute_reply": "2025-03-05T20:33:58.608190Z"
    }
   },
   "outputs": [
    {
     "data": {
      "text/plain": [
       "0.09056122448979591"
      ]
     },
     "execution_count": 50,
     "metadata": {},
     "output_type": "execute_result"
    }
   ],
   "source": [
    "graph.expectation(graph.states().sum(axis=1)) * 0.1"
   ]
  },
  {
   "cell_type": "markdown",
   "metadata": {},
   "source": [
    "Of course we cannot do this for other moments:"
   ]
  },
  {
   "cell_type": "code",
   "execution_count": 51,
   "metadata": {
    "execution": {
     "iopub.execute_input": "2025-03-05T20:33:58.610189Z",
     "iopub.status.busy": "2025-03-05T20:33:58.610075Z",
     "iopub.status.idle": "2025-03-05T20:33:58.625045Z",
     "shell.execute_reply": "2025-03-05T20:33:58.624781Z"
    }
   },
   "outputs": [
    {
     "data": {
      "text/plain": [
       "0.09723142700957937"
      ]
     },
     "execution_count": 51,
     "metadata": {},
     "output_type": "execute_result"
    }
   ],
   "source": [
    "carrot_graph.variance_discrete(rewards)"
   ]
  },
  {
   "cell_type": "markdown",
   "metadata": {},
   "source": [
    "Verified by sampling:"
   ]
  },
  {
   "cell_type": "code",
   "execution_count": 52,
   "metadata": {
    "execution": {
     "iopub.execute_input": "2025-03-05T20:33:58.626524Z",
     "iopub.status.busy": "2025-03-05T20:33:58.626446Z",
     "iopub.status.idle": "2025-03-05T20:33:58.719452Z",
     "shell.execute_reply": "2025-03-05T20:33:58.719175Z"
    }
   },
   "outputs": [
    {
     "data": {
      "text/plain": [
       "np.float64(0.097734344375)"
      ]
     },
     "execution_count": 52,
     "metadata": {},
     "output_type": "execute_result"
    }
   ],
   "source": [
    "samples = carrot_graph.sample_discrete(1000000, rewards)\n",
    "samples = np.array(samples)\n",
    "np.sum(samples**2) / 1000000 - ((np.sum(samples)) / 1000000)**2"
   ]
  },
  {
   "cell_type": "code",
   "execution_count": 53,
   "metadata": {
    "execution": {
     "iopub.execute_input": "2025-03-05T20:33:58.720930Z",
     "iopub.status.busy": "2025-03-05T20:33:58.720820Z",
     "iopub.status.idle": "2025-03-05T20:33:58.733648Z",
     "shell.execute_reply": "2025-03-05T20:33:58.733407Z"
    }
   },
   "outputs": [],
   "source": [
    "# We can find the distribution function for the the total number of carrots found\n",
    "carrots = np.arange(10)\n",
    "# Notice that with this reward transformation the graph is no longer sparse, as all paths through\n",
    "# the graph are represented!!\n",
    "found_carrots_graph  = carrot_graph.reward_transform_discrete(rewards)\n",
    "pmf = found_carrots_graph.pmf_discrete(carrots)\n",
    "cdf = found_carrots_graph.cdf_discrete(carrots)\n"
   ]
  },
  {
   "cell_type": "code",
   "execution_count": 54,
   "metadata": {
    "execution": {
     "iopub.execute_input": "2025-03-05T20:33:58.735094Z",
     "iopub.status.busy": "2025-03-05T20:33:58.735018Z",
     "iopub.status.idle": "2025-03-05T20:33:58.831763Z",
     "shell.execute_reply": "2025-03-05T20:33:58.831525Z"
    }
   },
   "outputs": [
    {
     "data": {
      "image/png": "[encoded data removed]",
      "text/plain": [
       "<Figure size 800x300 with 2 Axes>"
      ]
     },
     "metadata": {
      "image/png": {
       "height": 315,
       "width": 671
      }
     },
     "output_type": "display_data"
    }
   ],
   "source": [
    "fig, (ax1, ax2) = plt.subplots(1, 2, figsize=(8, 3), sharey=True)\n",
    "x = np.arange(0, 10, 1)\n",
    "ax1.plot(x, pmf)\n",
    "ax1.set_title(\"PDF\")\n",
    "ax1.set_xlabel('Total number of carrots found')\n",
    "# ax1.set_ylim(bottom=0)\n",
    "ax2.plot(x, cdf)\n",
    "ax2.set_title(\"CDF\")\n",
    "# ax2.set_ylim(bottom=0)\n",
    "ax2.set_xlabel('Total number of carrots found')\n",
    "ax2.axhline(y=right_graph.defect(), linestyle='dotted', color='black')\n",
    "sns.despine()"
   ]
  },
  {
   "cell_type": "markdown",
   "metadata": {},
   "source": [
    "# Multivariate phase-type distributions"
   ]
  },
  {
   "cell_type": "markdown",
   "metadata": {},
   "source": [
    "Instead of a univariate reward, we can have the distribution earn a \n",
    "*vector* of rewards for each time unit spent at a vertex.\n",
    "We will continue with the rabbit example. We will now show the relationship\n",
    "between total time spent by any rabbit on either of the two islands."
   ]
  },
  {
   "cell_type": "code",
   "execution_count": 55,
   "metadata": {
    "execution": {
     "iopub.execute_input": "2025-03-05T20:33:58.833308Z",
     "iopub.status.busy": "2025-03-05T20:33:58.833199Z",
     "iopub.status.idle": "2025-03-05T20:33:58.847299Z",
     "shell.execute_reply": "2025-03-05T20:33:58.847087Z"
    }
   },
   "outputs": [
    {
     "data": {
      "text/plain": [
       "array([0, 0, 1, 0, 2, 1, 0], dtype=int32)"
      ]
     },
     "execution_count": 55,
     "metadata": {},
     "output_type": "execute_result"
    }
   ],
   "source": [
    "states = graph.states()\n",
    "states[:, 1]"
   ]
  },
  {
   "cell_type": "code",
   "execution_count": 56,
   "metadata": {
    "execution": {
     "iopub.execute_input": "2025-03-05T20:33:58.848664Z",
     "iopub.status.busy": "2025-03-05T20:33:58.848587Z",
     "iopub.status.idle": "2025-03-05T20:33:58.860658Z",
     "shell.execute_reply": "2025-03-05T20:33:58.860421Z"
    }
   },
   "outputs": [
    {
     "data": {
      "text/plain": [
       "0.030003774468971296"
      ]
     },
     "execution_count": 56,
     "metadata": {},
     "output_type": "execute_result"
    }
   ],
   "source": [
    "states = graph.states()\n",
    "graph.covariance(states[:,0], states[:,1])"
   ]
  },
  {
   "cell_type": "code",
   "execution_count": 57,
   "metadata": {
    "execution": {
     "iopub.execute_input": "2025-03-05T20:33:58.862058Z",
     "iopub.status.busy": "2025-03-05T20:33:58.861950Z",
     "iopub.status.idle": "2025-03-05T20:33:58.895226Z",
     "shell.execute_reply": "2025-03-05T20:33:58.894977Z"
    }
   },
   "outputs": [
    {
     "data": {
      "text/plain": [
       "np.float64(0.030695764915293106)"
      ]
     },
     "execution_count": 57,
     "metadata": {},
     "output_type": "execute_result"
    }
   ],
   "source": [
    "\n",
    "simulations = graph.sample_multivariate(100000, graph.states())\n",
    "simulated_cov = sum(simulations[0,:]*simulations[1,:])/100000 - \\\n",
    "                    sum(simulations[0,:])/100000*sum(simulations[1,:])/100000\n",
    "simulated_cov"
   ]
  },
  {
   "cell_type": "markdown",
   "metadata": {},
   "source": [
    "The api also supports multivariate *discrete* phase-type distributions. We show the covariance between carrots found on either island."
   ]
  },
  {
   "cell_type": "code",
   "execution_count": 58,
   "metadata": {
    "execution": {
     "iopub.execute_input": "2025-03-05T20:33:58.896748Z",
     "iopub.status.busy": "2025-03-05T20:33:58.896663Z",
     "iopub.status.idle": "2025-03-05T20:33:58.909112Z",
     "shell.execute_reply": "2025-03-05T20:33:58.908872Z"
    }
   },
   "outputs": [],
   "source": [
    "\n",
    "mdph_carrot_graph = graph.clone()\n",
    "\n",
    "vlength = mdph_carrot_graph.vertices_length()\n",
    "carrot_vertices_left = np.repeat(False, vlength*2)\n",
    "carrot_vertices_right = np.repeat(False, vlength*2)\n",
    "\n",
    "\n",
    "for i in range(vlength):\n",
    "    vertex = mdph_carrot_graph.vertex_at(i)\n",
    "    rabbits = vertex.state()\n",
    "    \n",
    "    if rabbits[0] > 0:\n",
    "        obtained_carrot_vertex = mdph_carrot_graph.create_vertex([0])\n",
    "        # Go directly back to the state we came from\n",
    "        obtained_carrot_vertex.add_edge(vertex, 1)\n",
    "        # Rate of finding carrot\n",
    "        vertex.add_edge(obtained_carrot_vertex, rabbits[0] * 0.1)\n",
    "        carrot_vertices_left[obtained_carrot_vertex.index()] = True\n",
    "    \n",
    "    if rabbits[1] > 0:\n",
    "        obtained_carrot_vertex = mdph_carrot_graph.create_vertex([0])\n",
    "        # Go directly back to the state we came from\n",
    "        obtained_carrot_vertex.add_edge(vertex, 1)\n",
    "        # Rate of finding carrot\n",
    "        vertex.add_edge(obtained_carrot_vertex, rabbits[1] * 0.1)\n",
    "        carrot_vertices_right[obtained_carrot_vertex.index()] = True\n"
   ]
  },
  {
   "cell_type": "markdown",
   "metadata": {},
   "source": [
    "Covariance:"
   ]
  },
  {
   "cell_type": "code",
   "execution_count": 59,
   "metadata": {
    "execution": {
     "iopub.execute_input": "2025-03-05T20:33:58.910634Z",
     "iopub.status.busy": "2025-03-05T20:33:58.910558Z",
     "iopub.status.idle": "2025-03-05T20:33:58.922001Z",
     "shell.execute_reply": "2025-03-05T20:33:58.921790Z"
    }
   },
   "outputs": [
    {
     "name": "stderr",
     "output_type": "stream",
     "text": [
      "INFO: building reward compute graph...\n"
     ]
    },
    {
     "data": {
      "text/plain": [
       "-0.0005338270512286547"
      ]
     },
     "execution_count": 59,
     "metadata": {},
     "output_type": "execute_result"
    }
   ],
   "source": [
    "\n",
    "carrot_vertices_left = carrot_vertices_left[0:mdph_carrot_graph.vertices_length()]\n",
    "carrot_vertices_right = carrot_vertices_right[0:mdph_carrot_graph.vertices_length()]\n",
    "mdph_carrot_graph.normalize()\n",
    "rewards = np.column_stack((carrot_vertices_left, carrot_vertices_right)).astype(int)\n",
    "mdph_carrot_graph.covariance_discrete(rewards[:,0], rewards[:,1])\n"
   ]
  },
  {
   "cell_type": "markdown",
   "metadata": {},
   "source": [
    "Sampled covariance:"
   ]
  },
  {
   "cell_type": "code",
   "execution_count": 60,
   "metadata": {
    "execution": {
     "iopub.execute_input": "2025-03-05T20:33:58.923382Z",
     "iopub.status.busy": "2025-03-05T20:33:58.923301Z",
     "iopub.status.idle": "2025-03-05T20:33:58.991485Z",
     "shell.execute_reply": "2025-03-05T20:33:58.991222Z"
    }
   },
   "outputs": [
    {
     "data": {
      "text/plain": [
       "np.float64(0.030695764915293106)"
      ]
     },
     "execution_count": 60,
     "metadata": {},
     "output_type": "execute_result"
    }
   ],
   "source": [
    "\n",
    "simulations = mdph_carrot_graph.sample_multivariate_discrete(1000000, rewards)\n",
    "simulated_cov <- np.sum(simulations[0,:]*simulations[1,:])/1000000 - \\\n",
    "                    np.sum(simulations[0,:])/1000000*np.sum(simulations[1,:])/1000000\n",
    "simulated_cov"
   ]
  },
  {
   "cell_type": "markdown",
   "metadata": {},
   "source": [
    "## Parameterized edges"
   ]
  },
  {
   "cell_type": "markdown",
   "metadata": {},
   "source": [
    "We can *parameterize* the edges to easily update the weights of the edge\n",
    "\n",
    "We do this by assigning a *state* to the *edge*.\n",
    "\n",
    "We will now also say that the rate of rabbits jumping is proportional to the\n",
    "number of rabbits on the island.\n",
    "\n",
    "Our state is [rabbits able to jump, left flooding, right flooding]\n"
   ]
  },
  {
   "cell_type": "code",
   "execution_count": 61,
   "metadata": {
    "execution": {
     "iopub.execute_input": "2025-03-05T20:33:58.993087Z",
     "iopub.status.busy": "2025-03-05T20:33:58.992990Z",
     "iopub.status.idle": "2025-03-05T20:33:59.008101Z",
     "shell.execute_reply": "2025-03-05T20:33:59.007854Z"
    }
   },
   "outputs": [],
   "source": [
    "\n",
    "def construct_rabbit_graph_params(nr_rabbits):\n",
    "    # We represent the vector as two integers, the number of rabbits on the left and right island\n",
    "    state_vector_length = 2\n",
    "    graph = ptd.Graph(state_vector_length)\n",
    "    initial_state = [nr_rabbits, 0]\n",
    "    # The initial state is the only starting state, with 100% starting probability\n",
    "    graph.starting_vertex().add_edge(\n",
    "      graph.find_or_create_vertex(initial_state),\n",
    "      1\n",
    "    )\n",
    "    index = 1\n",
    "    # Iterate over all unvisited vertices\n",
    "    while index < graph.vertices_length():\n",
    "      vertex = graph.vertex_at(index)\n",
    "      state = vertex.state()\n",
    "      if state[0] > 0:\n",
    "        # Rabbit jump left to right\n",
    "        child_state = [state[0] - 1, state[1] + 1]\n",
    "        vertex.add_edge_parameterized(\n",
    "          graph.find_or_create_vertex(child_state),\n",
    "          0,\n",
    "          [state[0],0,0]\n",
    "        )\n",
    "        # Left island flooding\n",
    "        child_state = c(0, state[1])\n",
    "        vertex.add_edge_parameterized(\n",
    "          graph.find_or_create_vertex(child_state),\n",
    "          0,\n",
    "          [0,1,0]\n",
    "        )\n",
    "      if state[1] > 0:\n",
    "        # Rabbit jump right to left\n",
    "        child_state = [state[0] + 1, state[1] - 1]\n",
    "        vertex.add_edge_parameterized(\n",
    "          graph.find_or_create_vertex(child_state),\n",
    "          0, \n",
    "          [state[1],0,0]\n",
    "        )\n",
    "        # Right island flooding with rate of 4\n",
    "        child_state = [state[0], 0]\n",
    "        vertex.add_edge_parameterized(\n",
    "          graph.find_or_create_vertex(child_state),\n",
    "          0,\n",
    "          [0,0,1]\n",
    "        )\n",
    "      index = index + 1\n",
    "\n",
    "    return(graph)"
   ]
  },
  {
   "cell_type": "markdown",
   "metadata": {},
   "source": [
    "The parameterized edges have what ever weight is assigned to them,\n",
    "and the state does not by itself mean anything."
   ]
  },
  {
   "cell_type": "code",
   "execution_count": 62,
   "metadata": {
    "execution": {
     "iopub.execute_input": "2025-03-05T20:33:59.009582Z",
     "iopub.status.busy": "2025-03-05T20:33:59.009510Z",
     "iopub.status.idle": "2025-03-05T20:33:59.021192Z",
     "shell.execute_reply": "2025-03-05T20:33:59.020974Z"
    }
   },
   "outputs": [],
   "source": [
    "param_graph = construct_rabbit_graph_params(2)"
   ]
  },
  {
   "cell_type": "markdown",
   "metadata": {},
   "source": [
    "\n",
    "If we let the edge have a state, this gives us an easy way of changing the weights\n",
    "based on some model parameters. In this case, it is the rate of jumping\n",
    "left rate of flooding and right rate of flooding.\n",
    "\n",
    "The update simply takes the inner product of the state vector and\n",
    "the model parameters, e.g. if the state is x1, x2 and the parameters are p1, p2, then\n",
    "the weight of the edge becomed x1*p1+x2*p2"
   ]
  },
  {
   "cell_type": "code",
   "execution_count": 63,
   "metadata": {
    "execution": {
     "iopub.execute_input": "2025-03-05T20:33:59.022605Z",
     "iopub.status.busy": "2025-03-05T20:33:59.022531Z",
     "iopub.status.idle": "2025-03-05T20:33:59.035213Z",
     "shell.execute_reply": "2025-03-05T20:33:59.034994Z"
    }
   },
   "outputs": [
    {
     "name": "stdout",
     "output_type": "stream",
     "text": [
      "Expectation (1,2,4): 0.5083056478405314\n",
      "Expectation (1,2,4): 0.49565217391304334\n",
      "Expectation (1,2,4): 0.30000000000000004\n",
      "Expectation (1,2,4): 0.22709632268736477\n",
      "Expectation (1,2,4): 0.17719439369563442\n"
     ]
    },
    {
     "name": "stderr",
     "output_type": "stream",
     "text": [
      "INFO: building reward compute graph...\n",
      "INFO: building reward compute graph...\n",
      "INFO: building reward compute graph...\n",
      "INFO: building reward compute graph...\n",
      "INFO: building reward compute graph...\n"
     ]
    }
   ],
   "source": [
    "param_graph.update_parameterized_weights([1, 2, 4])\n",
    "print(\"Expectation (1,2,4):\", param_graph.expectation())\n",
    "\n",
    "param_graph.update_parameterized_weights([2, 2, 4])\n",
    "print(\"Expectation (1,2,4):\", param_graph.expectation())\n",
    "\n",
    "param_graph.update_parameterized_weights([2, 4, 4])\n",
    "print(\"Expectation (1,2,4):\", param_graph.expectation())\n",
    "\n",
    "param_graph.update_parameterized_weights([2, 4, 18])\n",
    "print(\"Expectation (1,2,4):\", param_graph.expectation())\n",
    "\n",
    "param_graph.update_parameterized_weights([8, 4, 18])\n",
    "print(\"Expectation (1,2,4):\", param_graph.expectation())"
   ]
  },
  {
   "cell_type": "markdown",
   "metadata": {},
   "source": [
    "Note that the moment graph *has* to be recalculated after updating weights"
   ]
  },
  {
   "cell_type": "code",
   "execution_count": 64,
   "metadata": {
    "execution": {
     "iopub.execute_input": "2025-03-05T20:33:59.036633Z",
     "iopub.status.busy": "2025-03-05T20:33:59.036553Z",
     "iopub.status.idle": "2025-03-05T20:33:59.048574Z",
     "shell.execute_reply": "2025-03-05T20:33:59.048340Z"
    }
   },
   "outputs": [],
   "source": [
    "param_graph.update_parameterized_weights([1, 2, 4])\n",
    "#param_graph.as_matrices()\n",
    "      \n",
    "param_graph.update_parameterized_weights([8, 4, 18])\n",
    "#param_graph.as_matrices()"
   ]
  },
  {
   "cell_type": "markdown",
   "metadata": {},
   "source": [
    "## Time inhomogeneity"
   ]
  },
  {
   "cell_type": "markdown",
   "metadata": {},
   "source": [
    "If the weights change over time - or new edges are added!\n",
    "\n",
    "Then the distribution is time inhomogeneous. The api also\n",
    "supports such distributions, but in limited manner.\n",
    "\n",
    "Like the pph, dph, etc. functions, it is a (very good) approximation based\n",
    "on very small steps. If the rates change dramatically, set the granularity\n",
    "as an argument to the functions!! E.g. set it to a high enough value.\n",
    "\n",
    "If we pick a time far into the future, we can integrate under the pdf to find the expectation!"
   ]
  },
  {
   "cell_type": "markdown",
   "metadata": {},
   "source": [
    "Integrating over accumulated visiting time:"
   ]
  },
  {
   "cell_type": "code",
   "execution_count": 65,
   "metadata": {
    "execution": {
     "iopub.execute_input": "2025-03-05T20:33:59.050154Z",
     "iopub.status.busy": "2025-03-05T20:33:59.050076Z",
     "iopub.status.idle": "2025-03-05T20:33:59.064819Z",
     "shell.execute_reply": "2025-03-05T20:33:59.064564Z"
    }
   },
   "outputs": [
    {
     "data": {
      "text/plain": [
       "0.5038265306014538"
      ]
     },
     "execution_count": 65,
     "metadata": {},
     "output_type": "execute_result"
    }
   ],
   "source": [
    "sum(graph.accumulated_visiting_time(10))"
   ]
  },
  {
   "cell_type": "markdown",
   "metadata": {},
   "source": [
    "The first moment (expectation):"
   ]
  },
  {
   "cell_type": "code",
   "execution_count": 66,
   "metadata": {
    "execution": {
     "iopub.execute_input": "2025-03-05T20:33:59.066280Z",
     "iopub.status.busy": "2025-03-05T20:33:59.066203Z",
     "iopub.status.idle": "2025-03-05T20:33:59.078909Z",
     "shell.execute_reply": "2025-03-05T20:33:59.078667Z"
    }
   },
   "outputs": [
    {
     "data": {
      "text/plain": [
       "0.5038265306122448"
      ]
     },
     "execution_count": 66,
     "metadata": {},
     "output_type": "execute_result"
    }
   ],
   "source": [
    "graph.expectation()"
   ]
  },
  {
   "cell_type": "markdown",
   "metadata": {},
   "source": [
    "Say at a certain point in time, the flooding starts!\n",
    "\n",
    "In the beginning, there is *no* flooding"
   ]
  },
  {
   "cell_type": "code",
   "execution_count": 67,
   "metadata": {
    "execution": {
     "iopub.execute_input": "2025-03-05T20:33:59.080250Z",
     "iopub.status.busy": "2025-03-05T20:33:59.080175Z",
     "iopub.status.idle": "2025-03-05T20:33:59.091920Z",
     "shell.execute_reply": "2025-03-05T20:33:59.091702Z"
    }
   },
   "outputs": [],
   "source": [
    "param_graph.update_parameterized_weights([1, 0, 0])"
   ]
  },
  {
   "cell_type": "markdown",
   "metadata": {},
   "source": [
    "\n",
    "We can build a context to step over the distribution.\n",
    "Weights can be freely changed and edges added in such a context\n"
   ]
  },
  {
   "cell_type": "code",
   "execution_count": 68,
   "metadata": {
    "execution": {
     "iopub.execute_input": "2025-03-05T20:33:59.093471Z",
     "iopub.status.busy": "2025-03-05T20:33:59.093402Z",
     "iopub.status.idle": "2025-03-05T20:33:59.105167Z",
     "shell.execute_reply": "2025-03-05T20:33:59.104931Z"
    }
   },
   "outputs": [],
   "source": [
    "# import ptdalgorithms as ptd\n",
    "# import numpy as np\n",
    "\n",
    "# def c(*args):\n",
    "#     elem = []\n",
    "#     for arg in args:\n",
    "#         if hasattr(arg, '__len__') and len(arg) > 1:\n",
    "#             elem.extend(arg)\n",
    "#         else:\n",
    "#             elem.append(arg)\n",
    "#     return np.array(elem)\n",
    "\n",
    "\n",
    "# nr_rabbits, flood_left, flood_right = 2, 2, 4\n",
    "\n",
    "# # we represent the vector as two integers, the number of \n",
    "# # rabbits on the left and right island\n",
    "# state_vector_length = 2\n",
    "# graph = ptd.Graph(state_vector_length)\n",
    "\n",
    "# # the initial state is the only starting state, with probability 1\n",
    "# initial_state = c(nr_rabbits, 0)\n",
    "# vertex = graph.find_or_create_vertex(initial_state)\n",
    "# graph.starting_vertex().add_edge(vertex, 1)\n",
    "\n",
    "# index = 1\n",
    "# # iterate over all unvisited vertices\n",
    "# while index < graph.vertices_length():\n",
    "#     vertex = graph.vertex_at(index)\n",
    "#     state = vertex.state()\n",
    "    \n",
    "#     if state[0] > 0:\n",
    "#         # rabbit jump left to right\n",
    "#         child_state = c(state[0] - 1, state[1] + 1)\n",
    "#         vertex.add_edge(\n",
    "#             graph.find_or_create_vertex(child_state),\n",
    "#             weight=1\n",
    "#         )\n",
    "#         # left island flooding\n",
    "#         child_state = c(0, state[1])\n",
    "#         vertex.add_edge(\n",
    "#             graph.find_or_create_vertex(child_state), \n",
    "#             weight=flood_left\n",
    "#         )\n",
    "#     if state[1] > 0:   \n",
    "#         child_state = c(state[0] + 1, state[1] - 1)\n",
    "#         vertex.add_edge(\n",
    "#             graph.find_or_create_vertex(child_state),\n",
    "#             weight=1\n",
    "#         )\n",
    "#         # right island flooding\n",
    "#         child_state = c(state[0], 0)\n",
    "#         vertex.add_edge(\n",
    "#             graph.find_or_create_vertex(child_state), \n",
    "#             weight=flood_right\n",
    "#         )\n",
    "\n",
    "#     index += 1\n",
    "    \n",
    "# # graph.plot(nodesep=1, ranksep=0.1)"
   ]
  },
  {
   "cell_type": "code",
   "execution_count": 69,
   "metadata": {
    "execution": {
     "iopub.execute_input": "2025-03-05T20:33:59.106587Z",
     "iopub.status.busy": "2025-03-05T20:33:59.106508Z",
     "iopub.status.idle": "2025-03-05T20:33:59.117600Z",
     "shell.execute_reply": "2025-03-05T20:33:59.117374Z"
    }
   },
   "outputs": [],
   "source": [
    "\n",
    "# ctx = graph.distribution_context()\n",
    "# cdfs = []\n",
    "# times = []\n",
    "\n",
    "# # while ctx.time() < 1.5:\n",
    "# while ctx.cdf() < 0.999:\n",
    "\n",
    "#     cdfs.append(ctx.cdf())\n",
    "#     times.append(ctx.time())\n",
    "#     param_graph.update_parameterized_weights(\n",
    "#         [1,\n",
    "#         ctx.time() - 1.5, \n",
    "#         2 * ctx.time() - 1.5\n",
    "#         ]\n",
    "#     )\n",
    "#     ctx.step()"
   ]
  },
  {
   "cell_type": "markdown",
   "metadata": {},
   "source": [
    "It increases by every time step. Time until all rabbits are dead. Flooding increases linearly after 1.5 time units:"
   ]
  },
  {
   "cell_type": "code",
   "execution_count": 70,
   "metadata": {
    "execution": {
     "iopub.execute_input": "2025-03-05T20:33:59.119023Z",
     "iopub.status.busy": "2025-03-05T20:33:59.118943Z",
     "iopub.status.idle": "2025-03-05T20:33:59.181719Z",
     "shell.execute_reply": "2025-03-05T20:33:59.181473Z"
    }
   },
   "outputs": [
    {
     "data": {
      "image/png": "[encoded data removed]",
      "text/plain": [
       "<Figure size 400x300 with 1 Axes>"
      ]
     },
     "metadata": {
      "image/png": {
       "height": 274,
       "width": 361
      }
     },
     "output_type": "display_data"
    }
   ],
   "source": [
    "param_graph.update_parameterized_weights([1, 0, 0])\n",
    "\n",
    "ctx = param_graph.distribution_context()\n",
    "cdfs = []\n",
    "times = []\n",
    "\n",
    "while ctx.time() < 1.5:\n",
    "    cdfs.append(ctx.cdf())\n",
    "    times.append(ctx.time())\n",
    "    ctx.step()\n",
    "\n",
    "#param_graph.update_parameterized_weights([1, 1, 1])\n",
    "\n",
    "# at time 1.5, the flooding starts!\n",
    "while ctx.cdf() < 0.999:\n",
    "    cdfs.append(ctx.cdf())\n",
    "    times.append(ctx.time())\n",
    "    param_graph.update_parameterized_weights(\n",
    "        [1,\n",
    "        ctx.time() - 1.5, \n",
    "        2 * ctx.time() - 1.5\n",
    "        ]\n",
    "    )\n",
    "    ctx.step()\n",
    "\n",
    "fig, ax = plt.subplots(1, 1, figsize=(4, 3))\n",
    "ax.plot(times, cdfs)\n",
    "sns.despine()"
   ]
  },
  {
   "cell_type": "markdown",
   "metadata": {},
   "source": [
    "If we pick a time far into the future, we can integrate under it to find the expectation. This means that we can scale by a reward, and thereby find the marginal expectation."
   ]
  },
  {
   "cell_type": "markdown",
   "metadata": {},
   "source": [
    "Summing over accumulated visiting time (with reward):"
   ]
  },
  {
   "cell_type": "code",
   "execution_count": 71,
   "metadata": {
    "execution": {
     "iopub.execute_input": "2025-03-05T20:33:59.183382Z",
     "iopub.status.busy": "2025-03-05T20:33:59.183278Z",
     "iopub.status.idle": "2025-03-05T20:33:59.196904Z",
     "shell.execute_reply": "2025-03-05T20:33:59.196661Z"
    }
   },
   "outputs": [
    {
     "data": {
      "text/plain": [
       "np.float64(0.09438775509887067)"
      ]
     },
     "execution_count": 71,
     "metadata": {},
     "output_type": "execute_result"
    }
   ],
   "source": [
    "np.sum(graph.accumulated_visiting_time(10)*graph.states()[:,1])"
   ]
  },
  {
   "cell_type": "markdown",
   "metadata": {},
   "source": [
    "The first moment (expectation) (with reward):"
   ]
  },
  {
   "cell_type": "code",
   "execution_count": 72,
   "metadata": {
    "execution": {
     "iopub.execute_input": "2025-03-05T20:33:59.198281Z",
     "iopub.status.busy": "2025-03-05T20:33:59.198197Z",
     "iopub.status.idle": "2025-03-05T20:33:59.209963Z",
     "shell.execute_reply": "2025-03-05T20:33:59.209717Z"
    }
   },
   "outputs": [
    {
     "data": {
      "text/plain": [
       "0.09438775510204081"
      ]
     },
     "execution_count": 72,
     "metadata": {},
     "output_type": "execute_result"
    }
   ],
   "source": [
    "graph.expectation(graph.states()[:,1])"
   ]
  },
  {
   "cell_type": "markdown",
   "metadata": {},
   "source": [
    "But if the time is *not* far into the future, we get the expectation up to a certain point in time."
   ]
  },
  {
   "cell_type": "markdown",
   "metadata": {},
   "source": [
    "Expectation (rewarded) when truncating at 0.05 time:          "
   ]
  },
  {
   "cell_type": "code",
   "execution_count": 73,
   "metadata": {
    "execution": {
     "iopub.execute_input": "2025-03-05T20:33:59.211362Z",
     "iopub.status.busy": "2025-03-05T20:33:59.211284Z",
     "iopub.status.idle": "2025-03-05T20:33:59.223188Z",
     "shell.execute_reply": "2025-03-05T20:33:59.222976Z"
    }
   },
   "outputs": [
    {
     "data": {
      "text/plain": [
       "np.float64(0.0011713234985744549)"
      ]
     },
     "execution_count": 73,
     "metadata": {},
     "output_type": "execute_result"
    }
   ],
   "source": [
    "np.sum(graph.accumulated_visiting_time(0.05)*graph.states()[:,1])"
   ]
  },
  {
   "cell_type": "markdown",
   "metadata": {},
   "source": [
    "Untruncated expectation:"
   ]
  },
  {
   "cell_type": "code",
   "execution_count": 74,
   "metadata": {
    "execution": {
     "iopub.execute_input": "2025-03-05T20:33:59.224572Z",
     "iopub.status.busy": "2025-03-05T20:33:59.224500Z",
     "iopub.status.idle": "2025-03-05T20:33:59.236142Z",
     "shell.execute_reply": "2025-03-05T20:33:59.235930Z"
    }
   },
   "outputs": [
    {
     "data": {
      "text/plain": [
       "0.09438775510204081"
      ]
     },
     "execution_count": 74,
     "metadata": {},
     "output_type": "execute_result"
    }
   ],
   "source": [
    "graph.expectation(graph.states()[:,1])"
   ]
  },
  {
   "cell_type": "markdown",
   "metadata": {},
   "source": [
    "Expectation (rewarded) when *starting* at 0.05 time:          "
   ]
  },
  {
   "cell_type": "code",
   "execution_count": 75,
   "metadata": {
    "execution": {
     "iopub.execute_input": "2025-03-05T20:33:59.237590Z",
     "iopub.status.busy": "2025-03-05T20:33:59.237510Z",
     "iopub.status.idle": "2025-03-05T20:33:59.248964Z",
     "shell.execute_reply": "2025-03-05T20:33:59.248716Z"
    }
   },
   "outputs": [
    {
     "data": {
      "text/plain": [
       "[0.09438775510204081,\n",
       " 0.09438775510204081,\n",
       " 0.28316326530612246,\n",
       " 0.0,\n",
       " 0.4566326530612244,\n",
       " 0.21428571428571422,\n",
       " 0.0714285714285714]"
      ]
     },
     "execution_count": 75,
     "metadata": {},
     "output_type": "execute_result"
    }
   ],
   "source": [
    "graph.expected_waiting_time(graph.states()[:,1])"
   ]
  },
  {
   "cell_type": "code",
   "execution_count": 76,
   "metadata": {
    "execution": {
     "iopub.execute_input": "2025-03-05T20:33:59.250315Z",
     "iopub.status.busy": "2025-03-05T20:33:59.250242Z",
     "iopub.status.idle": "2025-03-05T20:33:59.262344Z",
     "shell.execute_reply": "2025-03-05T20:33:59.262134Z"
    }
   },
   "outputs": [
    {
     "data": {
      "text/plain": [
       "np.float64(0.09325811466426455)"
      ]
     },
     "execution_count": 76,
     "metadata": {},
     "output_type": "execute_result"
    }
   ],
   "source": [
    "np.sum(graph.stop_probability(0.05)*np.array(graph.expected_waiting_time(graph.states()[:,1])))"
   ]
  },
  {
   "cell_type": "markdown",
   "metadata": {},
   "source": [
    "Subtracting these gives the *same* value:          "
   ]
  },
  {
   "cell_type": "code",
   "execution_count": 77,
   "metadata": {
    "execution": {
     "iopub.execute_input": "2025-03-05T20:33:59.263673Z",
     "iopub.status.busy": "2025-03-05T20:33:59.263596Z",
     "iopub.status.idle": "2025-03-05T20:33:59.275348Z",
     "shell.execute_reply": "2025-03-05T20:33:59.275106Z"
    }
   },
   "outputs": [
    {
     "data": {
      "text/plain": [
       "np.float64(0.0011296404377762609)"
      ]
     },
     "execution_count": 77,
     "metadata": {},
     "output_type": "execute_result"
    }
   ],
   "source": [
    "(graph.expectation(graph.states()[:,1]) \\\n",
    "     - np.sum(graph.stop_probability(0.05) \\\n",
    "              * np.array(graph.expected_waiting_time(graph.states()[:,1])))\n",
    ")"
   ]
  },
  {
   "cell_type": "markdown",
   "metadata": {},
   "source": [
    "We can increase granularity for better performance:"
   ]
  },
  {
   "cell_type": "code",
   "execution_count": 78,
   "metadata": {
    "execution": {
     "iopub.execute_input": "2025-03-05T20:33:59.276715Z",
     "iopub.status.busy": "2025-03-05T20:33:59.276633Z",
     "iopub.status.idle": "2025-03-05T20:33:59.290855Z",
     "shell.execute_reply": "2025-03-05T20:33:59.290650Z"
    }
   },
   "outputs": [
    {
     "data": {
      "text/plain": [
       "np.float64(0.0011138317897953385)"
      ]
     },
     "execution_count": 78,
     "metadata": {},
     "output_type": "execute_result"
    }
   ],
   "source": [
    "np.sum(graph.accumulated_visiting_time(0.05, granularity=1000000)*graph.states()[:,1])"
   ]
  },
  {
   "cell_type": "markdown",
   "metadata": {},
   "source": [
    "```c\n",
    "// cppimport\n",
    "#include <pybind11/pybind11.h>\n",
    "#include <ptdalgorithms.h>\n",
    "\n",
    "namespace py = pybind11;\n",
    "\n",
    "using namespace pybind11::literals; // to bring in the `_a` literal\n",
    "\n",
    "/* Basic C libraries */\n",
    "#include \"stdint.h\"\n",
    "#include \"stdlib.h\"\n",
    "\n",
    "/* ----------------- Don't change the code above! ----------------- */\n",
    "\n",
    "\n",
    "ptdalgorithms::Graph build(int starting_rabbits, float flooding_left, float flooding_right) {\n",
    "\n",
    "    // using namespace ptdalgorithms;\n",
    "\n",
    "    /* Same state size (left_rabbits, right_rabbits) */\n",
    "    size_t state_size = 2;\n",
    "\n",
    "    /* Create the graph structure */\n",
    "    struct ptd_graph *graph = ptd_graph_create(state_size);\n",
    "\n",
    "    /* We must crease the lookup tree as well! */\n",
    "    struct ptd_avl_tree *avl_tree = ptd_avl_tree_create(state_size);\n",
    "\n",
    "    /* Allocate the initial state, which means create an \"array\" of two values */\n",
    "    int *initial_state = (int*)calloc(graph->state_length, sizeof(*initial_state));\n",
    "\n",
    "    /* A \"buffer\" that allows us to manipulate the new child.\n",
    "     * We need to 'free' this manually.\n",
    "     */\n",
    "    int *child_state = (int*)calloc(graph->state_length, sizeof(*initial_state));\n",
    "    initial_state[0] = starting_rabbits;\n",
    "\n",
    "    /* Add the starting edge, just like in the R api */\n",
    "    ptd_graph_add_edge(\n",
    "            graph->starting_vertex,\n",
    "            ptd_find_or_create_vertex(graph, avl_tree, initial_state),\n",
    "            1\n",
    "    );\n",
    "\n",
    "    /* Visit all vertices once */\n",
    "    for (size_t k = 1; k < graph->vertices_length; k++) {\n",
    "        struct ptd_vertex *vertex = graph->vertices[k];\n",
    "        int *state = vertex->state;\n",
    "\n",
    "        if (state[0] > 0) {\n",
    "            // Rabbit jump left to right\n",
    "\n",
    "            /* We use memcpy to copy the state into the child buffer!\n",
    "             * As C or most other languages will *not* clone by default\n",
    "             */\n",
    "            memcpy(child_state, vertex->state, graph->state_length * sizeof(int));\n",
    "            child_state[0] -= 1;\n",
    "            child_state[1] += 1;\n",
    "\n",
    "            /* ptd_find_or_create_vertex will *clone* the child_state\n",
    "             * so no worries there!\n",
    "             */\n",
    "            ptd_graph_add_edge(\n",
    "                    vertex,\n",
    "                    ptd_find_or_create_vertex(graph, avl_tree, child_state),\n",
    "                    1\n",
    "            );\n",
    "\n",
    "            memcpy(child_state, vertex->state, graph->state_length * sizeof(int));\n",
    "            child_state[0] = 0;\n",
    "            ptd_graph_add_edge(\n",
    "                    vertex,\n",
    "                    ptd_find_or_create_vertex(graph, avl_tree, child_state),\n",
    "                    flooding_left\n",
    "            );\n",
    "        }\n",
    "\n",
    "        if (state[1] > 0) {\n",
    "            // Rabbit jump right to left\n",
    "            memcpy(child_state, vertex->state, graph->state_length * sizeof(int));\n",
    "            child_state[1] -= 1;\n",
    "            child_state[0] += 1;\n",
    "            ptd_graph_add_edge(\n",
    "                    vertex,\n",
    "                    ptd_find_or_create_vertex(graph, avl_tree, child_state),\n",
    "                    1\n",
    "            );\n",
    "\n",
    "            memcpy(child_state, vertex->state, graph->state_length * sizeof(int));\n",
    "            child_state[1] = 0;\n",
    "            ptd_graph_add_edge(\n",
    "                    vertex,\n",
    "                    ptd_find_or_create_vertex(graph, avl_tree, child_state),\n",
    "                    flooding_right\n",
    "            );\n",
    "        }\n",
    "    }\n",
    "\n",
    "    /* Manually free the allocated buffer memory */\n",
    "    free(child_state);\n",
    "\n",
    "    /*\n",
    "     * This is the first time we use the C++ api to\n",
    "     * bind the allocated graph to a C++ instance.\n",
    "     * Only few methods should be used...\n",
    "     * It has memory management by destructure, so no need\n",
    "     * to manually free when done using.\n",
    "     */\n",
    "    ptdalgorithms::Graph *result = new ptdalgorithms::Graph(graph, avl_tree);\n",
    "\n",
    "    /*\n",
    "     * Use Rcpp to make this C++ instance visible to R. This is the\n",
    "     * exact same type returned by `create_graph` in the R api,\n",
    "     * which is why we need to make sure the cloned code is identical\n",
    "     * to the currently installed R library (ptdalgorithms).\n",
    "     */\n",
    "    return *result;\n",
    "}\n",
    "\n",
    "\n",
    "/* NB: Change module name below to match the name of this file (without the suffix) */\n",
    "\n",
    "PYBIND11_MODULE(rabbit_state_space, m) {\n",
    "\n",
    "        m.def(\"build\", &build);\n",
    "}\n",
    "\n",
    "/*\n",
    "<%\n",
    "setup_pybind11(cfg)\n",
    "%>\n",
    "*/\n",
    "```"
   ]
  },
  {
   "cell_type": "code",
   "execution_count": null,
   "metadata": {},
   "outputs": [],
   "source": [
    "import ptdalgorithms\n",
    "import cppimport.import_hook\n",
    "import rabbit_state_space #This will pause for a moment to compile the module\n",
    "graph = ptdalgorithms.Graph(rabbit_state_space.build(2, 2, 4))\n",
    "graph.plot()"
   ]
  }
 ],
 "metadata": {
  "kernelspec": {
   "display_name": "Python 3 (ipykernel)",
   "language": "python",
   "name": "python3"
  },
  "language_info": {
   "codemirror_mode": {
    "name": "ipython",
    "version": 3
   },
   "file_extension": ".py",
   "mimetype": "text/x-python",
   "name": "python",
   "nbconvert_exporter": "python",
   "pygments_lexer": "ipython3",
   "version": "3.11.9"
  }
 },
 "nbformat": 4,
 "nbformat_minor": 4
}
