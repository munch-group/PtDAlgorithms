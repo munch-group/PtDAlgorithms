{
 "cells": [
  {
   "cell_type": "raw",
   "metadata": {},
   "source": [
    "---\n",
    "title: State space\n",
    "---"
   ]
  },
  {
   "cell_type": "code",
   "execution_count": 1,
   "metadata": {},
   "outputs": [],
   "source": [
    "#| echo: false\n",
    "\n",
    "%config InlineBackend.figure_format = 'retina'"
   ]
  },
  {
   "cell_type": "markdown",
   "metadata": {},
   "source": [
    "The state-space is built as a graph using an simple API and take up very little space compared to a matrix representation. It handles millions of vertices (states) and edges (transitions) and is munch faster than the traditional matrix-based computation relying on (sparse) matrix inversion and exponentiation. "
   ]
  },
  {
   "cell_type": "markdown",
   "metadata": {},
   "source": [
    "Consider this model: Rabbits jump between two islands at a rate of one. The two islands are flooded at rates 2 and 4 drowning all rabbits on the flooded island. The end (absorbing) is when no more rabbits are left."
   ]
  },
  {
   "cell_type": "markdown",
   "metadata": {},
   "source": [
    "::: {#rabbit-island-model }\n",
    "\n",
    "![](images/rabbits.png){width=\"50%\"}\n",
    "\n",
    "Rabbit island model.\n",
    ":::"
   ]
  },
  {
   "cell_type": "markdown",
   "metadata": {},
   "source": [
    "In **ptdalgorithms**, each state is represented by a sequence of integers. To represent states in the rabbit model, we only need two such integer to represent the number of rabbits on the left and right islands. Laid out as in the above picture, the states are:\n",
    "\n",
    "```\n",
    "[2, 0]    [0, 1]\n",
    "\n",
    "[1, 1]    [0, 0]\n",
    "\n",
    "[0, 2]    [1, 0]\n",
    "```"
   ]
  },
  {
   "cell_type": "markdown",
   "metadata": {},
   "source": [
    "To skip some of the boilerplate you can pass a callback function and an initial state to [Graph](`ptdalgorithms.Graph`). The callback function must take as the only argument a list of int representing a state, and return: a list of tuples that each represent reachable child state and the associated transition rate. To create a callback function, just think of rules of your model and ask yourself: \n",
    "\n",
    "> Given some specific state, what are the allowed transitions to other states and at what rates to these transititons occur?"
   ]
  },
  {
   "cell_type": "markdown",
   "metadata": {},
   "source": [
    "Here is an example for our rabbit model: If the current state is \"two rabbits on the left island\" (`[2, 0]`), the reachable states are: \"one rabbit on each island\" (`[1, 1]`) if one rabbit jumps and and \"no rabbits\" (`[0, 0]`) if the island is flodded. So if the callback function is called like this: \n",
    "\n",
    "```python\n",
    "rabbit_model([2, 0])\n",
    "```\n",
    "\n",
    "it should return\n",
    "\n",
    "```python\n",
    "[([1, 1], 1), ([0, 0], 2)]\n",
    "```\n",
    "\n",
    "Together, the callback and initial state fully specifies the model. Here is what they look like for the rabbit model:"
   ]
  },
  {
   "cell_type": "code",
   "execution_count": 10,
   "metadata": {},
   "outputs": [],
   "source": [
    "nr_rabbits, flood_left, flood_right = 2, 2, 4\n",
    "\n",
    "def rabbit_islands(state):\n",
    "    nr_left, nr_right = state\n",
    "    reachable = []\n",
    "    if state[0] > 0:\n",
    "        reachable.append(([nr_left-1, nr_right+1], 1))\n",
    "        reachable.append(([0,         nr_right  ], flood_left))\n",
    "    if state[1] > 0:   \n",
    "        reachable.append(([nr_left+1, nr_right-1], 1))\n",
    "        reachable.append(([nr_left,   0         ], flood_right))\n",
    "    return reachable\n",
    "\n",
    "initial_state = [nr_rabbits, 0]  "
   ]
  },
  {
   "cell_type": "markdown",
   "metadata": {},
   "source": [
    "::: {.column-margin}\n",
    "\n",
    "![If you know the coalescent, [this](coalescent_showcase.ipynb) introduction may be more motivating](images/coalescent.png)\n",
    "\n",
    ":::"
   ]
  },
  {
   "cell_type": "markdown",
   "metadata": {},
   "source": [
    "To then build the state space all you need to do is:"
   ]
  },
  {
   "cell_type": "code",
   "execution_count": 11,
   "metadata": {},
   "outputs": [],
   "source": [
    "import ptdalgorithms as ptd\n",
    "\n",
    "graph = ptd.Graph(callback=rabbit_islands, initial=initial_state)"
   ]
  },
  {
   "cell_type": "markdown",
   "metadata": {},
   "source": [
    "Plot it to make sure it looks as expected. The gray `S` state is the \"starting state\" immediately transiting one or more model states where the model is allowed to begin. In the rabbit model, `S` goes to state `2,0` with probability 1 because the model can only begin there. The end (absorbing) state `0,0` is also colored gray."
   ]
  },
  {
   "cell_type": "code",
   "execution_count": 13,
   "metadata": {},
   "outputs": [
    {
     "data": {
      "image/svg+xml": [
       "<?xml version=\"1.0\" encoding=\"UTF-8\" standalone=\"no\"?>\n",
       "<!DOCTYPE svg PUBLIC \"-//W3C//DTD SVG 1.1//EN\"\n",
       " \"http://www.w3.org/Graphics/SVG/1.1/DTD/svg11.dtd\">\n",
       "<!-- Generated by graphviz version 12.0.0 (0)\n",
       " -->\n",
       "<!-- Pages: 1 -->\n",
       "<svg width=\"504pt\" height=\"257pt\"\n",
       " viewBox=\"0.00 0.00 504.00 256.78\" xmlns=\"http://www.w3.org/2000/svg\" xmlns:xlink=\"http://www.w3.org/1999/xlink\">\n",
       "<g id=\"graph0\" class=\"graph\" transform=\"scale(0.666667 0.666667) rotate(0) translate(36 349.18)\">\n",
       "<!-- 0 -->\n",
       "<g id=\"node1\" class=\"node\">\n",
       "<title>0</title>\n",
       "<ellipse fill=\"#eeeeee\" stroke=\"black\" cx=\"27\" cy=\"-187.18\" rx=\"27\" ry=\"18\"/>\n",
       "<text text-anchor=\"middle\" x=\"27\" y=\"-182.15\" font-family=\"Helvetica,Arial,sans-serif\" font-size=\"12.00\">S</text>\n",
       "</g>\n",
       "<!-- 1 -->\n",
       "<g id=\"node2\" class=\"node\">\n",
       "<title>1</title>\n",
       "<ellipse fill=\"white\" stroke=\"black\" cx=\"153\" cy=\"-187.18\" rx=\"27\" ry=\"18\"/>\n",
       "<text text-anchor=\"middle\" x=\"153\" y=\"-182.15\" font-family=\"Helvetica,Arial,sans-serif\" font-size=\"12.00\">2,0</text>\n",
       "</g>\n",
       "<!-- 0&#45;&gt;1 -->\n",
       "<g id=\"edge1\" class=\"edge\">\n",
       "<title>0&#45;&gt;1</title>\n",
       "<path fill=\"none\" stroke=\"black\" d=\"M54.3,-187.18C71.72,-187.18 94.86,-187.18 114.24,-187.18\"/>\n",
       "<polygon fill=\"black\" stroke=\"black\" points=\"114.23,-190.68 124.23,-187.18 114.23,-183.68 114.23,-190.68\"/>\n",
       "<text text-anchor=\"middle\" x=\"78.26\" y=\"-175.78\" font-family=\"Helvetica,Arial,sans-serif\" font-size=\"12.00\">1.00</text>\n",
       "</g>\n",
       "<!-- 2 -->\n",
       "<g id=\"node3\" class=\"node\">\n",
       "<title>2</title>\n",
       "<ellipse fill=\"white\" stroke=\"black\" cx=\"279\" cy=\"-187.18\" rx=\"27\" ry=\"18\"/>\n",
       "<text text-anchor=\"middle\" x=\"279\" y=\"-182.15\" font-family=\"Helvetica,Arial,sans-serif\" font-size=\"12.00\">1,1</text>\n",
       "</g>\n",
       "<!-- 1&#45;&gt;2 -->\n",
       "<g id=\"edge2\" class=\"edge\">\n",
       "<title>1&#45;&gt;2</title>\n",
       "<path fill=\"none\" stroke=\"black\" d=\"M165.44,-170.72C186.11,-158.41 229.98,-156.88 256.43,-166.12\"/>\n",
       "<polygon fill=\"black\" stroke=\"black\" points=\"254.66,-169.16 265.21,-170.11 257.55,-162.79 254.66,-169.16\"/>\n",
       "<text text-anchor=\"middle\" x=\"204.28\" y=\"-148.78\" font-family=\"Helvetica,Arial,sans-serif\" font-size=\"12.00\">1.00</text>\n",
       "</g>\n",
       "<!-- 3 -->\n",
       "<g id=\"node4\" class=\"node\">\n",
       "<title>3</title>\n",
       "<ellipse fill=\"#eeeeee\" stroke=\"black\" cx=\"657\" cy=\"-123.18\" rx=\"27\" ry=\"18\"/>\n",
       "<text text-anchor=\"middle\" x=\"657\" y=\"-118.15\" font-family=\"Helvetica,Arial,sans-serif\" font-size=\"12.00\">0,0</text>\n",
       "</g>\n",
       "<!-- 1&#45;&gt;3 -->\n",
       "<g id=\"edge3\" class=\"edge\">\n",
       "<title>1&#45;&gt;3</title>\n",
       "<path fill=\"none\" stroke=\"black\" d=\"M171.7,-173.94C221.03,-138.01 365.57,-39.09 504,-6.18 527.35,-0.63 536.25,3.98 558,-6.18 597.39,-24.56 626.54,-67.43 642.4,-95.85\"/>\n",
       "<polygon fill=\"black\" stroke=\"black\" points=\"639.29,-97.46 647.1,-104.62 645.46,-94.15 639.29,-97.46\"/>\n",
       "<text text-anchor=\"middle\" x=\"358.1\" y=\"-43.75\" font-family=\"Helvetica,Arial,sans-serif\" font-size=\"12.00\">2.00</text>\n",
       "</g>\n",
       "<!-- 2&#45;&gt;1 -->\n",
       "<g id=\"edge6\" class=\"edge\">\n",
       "<title>2&#45;&gt;1</title>\n",
       "<path fill=\"none\" stroke=\"black\" d=\"M266.58,-203.61C245.94,-215.93 202.07,-217.48 175.6,-208.25\"/>\n",
       "<polygon fill=\"black\" stroke=\"black\" points=\"177.37,-205.21 166.82,-204.26 174.48,-211.58 177.37,-205.21\"/>\n",
       "<text text-anchor=\"middle\" x=\"204.51\" y=\"-202.78\" font-family=\"Helvetica,Arial,sans-serif\" font-size=\"12.00\">1.00</text>\n",
       "</g>\n",
       "<!-- 4 -->\n",
       "<g id=\"node5\" class=\"node\">\n",
       "<title>4</title>\n",
       "<ellipse fill=\"white\" stroke=\"black\" cx=\"405\" cy=\"-295.18\" rx=\"27\" ry=\"18\"/>\n",
       "<text text-anchor=\"middle\" x=\"405\" y=\"-290.15\" font-family=\"Helvetica,Arial,sans-serif\" font-size=\"12.00\">0,2</text>\n",
       "</g>\n",
       "<!-- 2&#45;&gt;4 -->\n",
       "<g id=\"edge4\" class=\"edge\">\n",
       "<title>2&#45;&gt;4</title>\n",
       "<path fill=\"none\" stroke=\"black\" d=\"M306.3,-187.54C332.75,-203.1 372.36,-239.53 392.03,-267.99\"/>\n",
       "<polygon fill=\"black\" stroke=\"black\" points=\"389.02,-269.78 397.3,-276.4 394.95,-266.06 389.02,-269.78\"/>\n",
       "<text text-anchor=\"middle\" x=\"345.19\" y=\"-216.38\" font-family=\"Helvetica,Arial,sans-serif\" font-size=\"12.00\">1.00</text>\n",
       "</g>\n",
       "<!-- 5 -->\n",
       "<g id=\"node6\" class=\"node\">\n",
       "<title>5</title>\n",
       "<ellipse fill=\"white\" stroke=\"black\" cx=\"405\" cy=\"-187.18\" rx=\"27\" ry=\"18\"/>\n",
       "<text text-anchor=\"middle\" x=\"405\" y=\"-182.15\" font-family=\"Helvetica,Arial,sans-serif\" font-size=\"12.00\">0,1</text>\n",
       "</g>\n",
       "<!-- 2&#45;&gt;5 -->\n",
       "<g id=\"edge5\" class=\"edge\">\n",
       "<title>2&#45;&gt;5</title>\n",
       "<path fill=\"none\" stroke=\"black\" d=\"M306.3,-187.18C323.72,-187.18 346.86,-187.18 366.24,-187.18\"/>\n",
       "<polygon fill=\"black\" stroke=\"black\" points=\"366.23,-190.68 376.23,-187.18 366.23,-183.68 366.23,-190.68\"/>\n",
       "<text text-anchor=\"middle\" x=\"330.26\" y=\"-175.78\" font-family=\"Helvetica,Arial,sans-serif\" font-size=\"12.00\">2.00</text>\n",
       "</g>\n",
       "<!-- 6 -->\n",
       "<g id=\"node7\" class=\"node\">\n",
       "<title>6</title>\n",
       "<ellipse fill=\"white\" stroke=\"black\" cx=\"531\" cy=\"-60.18\" rx=\"27\" ry=\"18\"/>\n",
       "<text text-anchor=\"middle\" x=\"531\" y=\"-55.15\" font-family=\"Helvetica,Arial,sans-serif\" font-size=\"12.00\">1,0</text>\n",
       "</g>\n",
       "<!-- 2&#45;&gt;6 -->\n",
       "<g id=\"edge7\" class=\"edge\">\n",
       "<title>2&#45;&gt;6</title>\n",
       "<path fill=\"none\" stroke=\"black\" d=\"M300.09,-175.67C319.78,-164.51 350.71,-147.23 378,-133.18 418.97,-112.07 467.04,-89.31 497.98,-74.92\"/>\n",
       "<polygon fill=\"black\" stroke=\"black\" points=\"499.19,-78.21 506.79,-70.83 496.25,-71.86 499.19,-78.21\"/>\n",
       "<text text-anchor=\"middle\" x=\"391.52\" y=\"-109.04\" font-family=\"Helvetica,Arial,sans-serif\" font-size=\"12.00\">4.00</text>\n",
       "</g>\n",
       "<!-- 4&#45;&gt;2 -->\n",
       "<g id=\"edge8\" class=\"edge\">\n",
       "<title>4&#45;&gt;2</title>\n",
       "<path fill=\"none\" stroke=\"black\" d=\"M377.51,-294.7C351.1,-279.1 311.71,-242.86 292.05,-214.49\"/>\n",
       "<polygon fill=\"black\" stroke=\"black\" points=\"295.07,-212.71 286.79,-206.11 289.15,-216.43 295.07,-212.71\"/>\n",
       "<text text-anchor=\"middle\" x=\"315.54\" y=\"-243.15\" font-family=\"Helvetica,Arial,sans-serif\" font-size=\"12.00\">1.00</text>\n",
       "</g>\n",
       "<!-- 4&#45;&gt;3 -->\n",
       "<g id=\"edge9\" class=\"edge\">\n",
       "<title>4&#45;&gt;3</title>\n",
       "<path fill=\"none\" stroke=\"black\" d=\"M427.77,-284.87C458.1,-270.11 514.26,-241.27 558,-210.18 585.5,-190.63 614.02,-164.54 633.16,-146.04\"/>\n",
       "<polygon fill=\"black\" stroke=\"black\" points=\"635.46,-148.68 640.17,-139.18 630.57,-143.67 635.46,-148.68\"/>\n",
       "<text text-anchor=\"middle\" x=\"546.39\" y=\"-198.77\" font-family=\"Helvetica,Arial,sans-serif\" font-size=\"12.00\">4.00</text>\n",
       "</g>\n",
       "<!-- 5&#45;&gt;3 -->\n",
       "<g id=\"edge11\" class=\"edge\">\n",
       "<title>5&#45;&gt;3</title>\n",
       "<path fill=\"none\" stroke=\"black\" d=\"M430.43,-180.92C474.86,-169.55 569.07,-145.43 620.56,-132.25\"/>\n",
       "<polygon fill=\"black\" stroke=\"black\" points=\"621.19,-135.7 630.01,-129.83 619.45,-128.92 621.19,-135.7\"/>\n",
       "<text text-anchor=\"middle\" x=\"519.14\" y=\"-143.84\" font-family=\"Helvetica,Arial,sans-serif\" font-size=\"12.00\">4.00</text>\n",
       "</g>\n",
       "<!-- 5&#45;&gt;6 -->\n",
       "<g id=\"edge10\" class=\"edge\">\n",
       "<title>5&#45;&gt;6</title>\n",
       "<path fill=\"none\" stroke=\"black\" d=\"M411.65,-169.26C426.25,-140.3 466.14,-95.33 495.59,-70.95\"/>\n",
       "<polygon fill=\"black\" stroke=\"black\" points=\"497.45,-73.94 503.17,-65.02 493.14,-68.43 497.45,-73.94\"/>\n",
       "<text text-anchor=\"middle\" x=\"441.57\" y=\"-101.14\" font-family=\"Helvetica,Arial,sans-serif\" font-size=\"12.00\">1.00</text>\n",
       "</g>\n",
       "<!-- 6&#45;&gt;3 -->\n",
       "<g id=\"edge13\" class=\"edge\">\n",
       "<title>6&#45;&gt;3</title>\n",
       "<path fill=\"none\" stroke=\"black\" d=\"M553.03,-70.86C572.72,-80.86 602.38,-95.93 624.81,-107.33\"/>\n",
       "<polygon fill=\"black\" stroke=\"black\" points=\"623.01,-110.34 633.51,-111.75 626.18,-104.1 623.01,-110.34\"/>\n",
       "<text text-anchor=\"middle\" x=\"582.23\" y=\"-80.2\" font-family=\"Helvetica,Arial,sans-serif\" font-size=\"12.00\">2.00</text>\n",
       "</g>\n",
       "<!-- 6&#45;&gt;5 -->\n",
       "<g id=\"edge12\" class=\"edge\">\n",
       "<title>6&#45;&gt;5</title>\n",
       "<path fill=\"none\" stroke=\"black\" d=\"M524.5,-77.78C510.05,-106.7 470.04,-151.85 440.49,-176.34\"/>\n",
       "<polygon fill=\"black\" stroke=\"black\" points=\"438.59,-173.37 432.88,-182.3 442.91,-178.88 438.59,-173.37\"/>\n",
       "<text text-anchor=\"middle\" x=\"471.38\" y=\"-123.19\" font-family=\"Helvetica,Arial,sans-serif\" font-size=\"12.00\">1.00</text>\n",
       "</g>\n",
       "</g>\n",
       "</svg>\n"
      ],
      "text/plain": [
       "<graphviz.dot.Digraph at 0x104664990>"
      ]
     },
     "execution_count": 13,
     "metadata": {},
     "output_type": "execute_result"
    }
   ],
   "source": [
    "graph.plot()"
   ]
  },
  {
   "cell_type": "markdown",
   "metadata": {},
   "source": [
    "## Off to the races\n",
    "\n",
    "Now the world is at your command. To scratch the surfance you can compute the expected time to rabbit extinction:"
   ]
  },
  {
   "cell_type": "code",
   "execution_count": 15,
   "metadata": {},
   "outputs": [
    {
     "data": {
      "text/plain": [
       "0.5038265306122448"
      ]
     },
     "execution_count": 15,
     "metadata": {},
     "output_type": "execute_result"
    }
   ],
   "source": [
    "graph.expectation()"
   ]
  },
  {
   "attachments": {},
   "cell_type": "markdown",
   "metadata": {},
   "source": [
    "but there is so much more you can do to explore your rabbit model. For a full exposé of the API using the rabbit example see [the full python API example](../examples/rabbits_full_api_example.ipynb)."
   ]
  },
  {
   "cell_type": "markdown",
   "metadata": {},
   "source": []
  },
  {
   "cell_type": "markdown",
   "metadata": {},
   "source": [
    "::: {.callout-caution }\n",
    "## This pages is under construction\n",
    "\n",
    ":::"
   ]
  },
  {
   "cell_type": "markdown",
   "metadata": {},
   "source": [
    "\n",
    "\n",
    "## Learning more\n",
    "\n",
    "- See [Python API walk through](../examples/rabbits_full_api_example.ipynb) for a full example of the Python API.\n",
    "- See [R API walk through](../examples/full_r_api_example.ipynb) for a full example of the R API.\n",
    "\n",
    "## Citing ptdalgorithms\n",
    "\n",
    "[Graph-based algorithms for phase-type distributions, Statistics and Computing (2022)](https://doi.org/10.1007/s11222-022-10174-3)\n",
    "\n"
   ]
  },
  {
   "cell_type": "markdown",
   "metadata": {},
   "source": []
  }
 ],
 "metadata": {
  "kernelspec": {
   "display_name": "base",
   "language": "python",
   "name": "python3"
  },
  "language_info": {
   "codemirror_mode": {
    "name": "ipython",
    "version": 3
   },
   "file_extension": ".py",
   "mimetype": "text/x-python",
   "name": "python",
   "nbconvert_exporter": "python",
   "pygments_lexer": "ipython3",
   "version": "3.11.9"
  }
 },
 "nbformat": 4,
 "nbformat_minor": 4
}
