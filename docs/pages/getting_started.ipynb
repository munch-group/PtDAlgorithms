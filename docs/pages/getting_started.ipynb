{
 "cells": [
  {
   "cell_type": "raw",
   "id": "13730ce1-d79a-4857-8368-9de669de1165",
   "metadata": {},
   "source": [
    "---\n",
    "title: Getting started\n",
    "aliases:\n",
    "  - ../index.html\n",
    "---"
   ]
  },
  {
   "cell_type": "markdown",
   "id": "efc5691e-4b1e-42c7-9349-ca78a254e041",
   "metadata": {},
   "source": [
    "The **ptdalgorithms** library provides fast and scalable algorithms for constructing and computing properties of phase-type distributions with support for both continuous and discrete, unrewarded and rewarded, univariate and multivariate distributions. For sparse models, it can be orders of magnitude faster. The code is written in C, but exposes an interface to both C, R and Python through a C++ layer. \n",
    "\n",
    "The library computes moments (e.g. expectation, variance, covariance), distribution functions (pdf, cdf, pmf), laplace transform, and Markov chain stopping time probabilities. Although phase-type distributions are time-homogeneous, the library also computes moments and univariate distributions for epoch-wise time-inhomogeneous models as well as full joint probability distributions.\n",
    "\n",
    "<!-- The user iteratively builds the the state-space using a simple API. The state-space can be imported from and exported to a matrix representation allowing the library to seamlessly embed into matrix based workflows. -->\n",
    "\n",
    "## Installation\n",
    "\n",
    "```bash\n",
    "conda install -c munch-group -c conda-forge ptdalgorithms\n",
    "```\n",
    "\n",
    "## Quickstart\n",
    "\n"
   ]
  },
  {
   "cell_type": "markdown",
   "id": "1d53ecdf-fe97-403e-945a-8fc071925c87",
   "metadata": {},
   "source": []
  },
  {
   "cell_type": "markdown",
   "id": "4f7215e8-9a35-4330-954b-fc3f168e9203",
   "metadata": {},
   "source": [
    "::: {.callout-caution }\n",
    "## This pages is under construction\n",
    "\n",
    ":::"
   ]
  }
 ],
 "metadata": {
  "kernelspec": {
   "display_name": "ptd",
   "language": "python",
   "name": "python3"
  },
  "language_info": {
   "codemirror_mode": {
    "name": "ipython",
    "version": 3
   },
   "file_extension": ".py",
   "mimetype": "text/x-python",
   "name": "python",
   "nbconvert_exporter": "python",
   "pygments_lexer": "ipython3",
   "version": "3.11.9"
  }
 },
 "nbformat": 4,
 "nbformat_minor": 5
}
