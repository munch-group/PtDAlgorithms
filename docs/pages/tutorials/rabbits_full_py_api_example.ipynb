{
 "cells": [
  {
   "cell_type": "markdown",
   "metadata": {
    "vscode": {
     "languageId": "raw"
    }
   },
   "source": [
    "---\n",
    "title: Rabbits Islands - Full API\n",
    "---"
   ]
  },
  {
   "cell_type": "markdown",
   "metadata": {},
   "source": [
    "{{< include _intro.qmd >}}"
   ]
  },
  {
   "cell_type": "code",
   "execution_count": 1,
   "metadata": {},
   "outputs": [],
   "source": [
    "# %load_ext autoreload\n",
    "# %autoreload 2"
   ]
  },
  {
   "cell_type": "code",
   "execution_count": 2,
   "metadata": {},
   "outputs": [],
   "source": [
    "import pandas as pd\n",
    "import numpy as np\n",
    "np.random.seed(42)\n",
    "import matplotlib.pyplot as plt\n",
    "import seaborn as sns\n",
    "from ptdalgorithms import Graph, set_theme\n",
    "%config InlineBackend.figure_format = 'retina'\n",
    "# plt.style.use('dark_background')\n",
    "# import matplotlib\n",
    "# matplotlib.rcParams['axes.facecolor'] = '#1F1F1F'\n",
    "# matplotlib.rcParams['figure.facecolor'] = '#1F1F1F'\n",
    "\n",
    "#plt.rcParams.update({'figure.facecolor': '#1F1F1F', 'axes.facecolor': '#1F1F1F'})\n",
    "set_theme('light')"
   ]
  },
  {
   "cell_type": "markdown",
   "metadata": {},
   "source": [
    "# State-space construction"
   ]
  },
  {
   "cell_type": "code",
   "execution_count": 3,
   "metadata": {},
   "outputs": [],
   "source": [
    "def c(*args):\n",
    "    elem = []\n",
    "    for arg in args:\n",
    "        if hasattr(arg, '__len__') and len(arg) > 1:\n",
    "            elem.extend(arg)\n",
    "        else:\n",
    "            elem.append(arg)\n",
    "    return np.array(elem)"
   ]
  },
  {
   "cell_type": "code",
   "execution_count": 4,
   "metadata": {},
   "outputs": [],
   "source": [
    "def print_states(vertex):\n",
    "    print(vertex.state())\n",
    "    for edge in vertex.edges():\n",
    "        print(\" \", edge.weight() , \"->\", edge.to().state())    "
   ]
  },
  {
   "cell_type": "markdown",
   "metadata": {},
   "source": [
    "This phase-type distribution models the time until all rabits have died We can find the expectation, variance, moments"
   ]
  },
  {
   "cell_type": "code",
   "execution_count": 5,
   "metadata": {},
   "outputs": [],
   "source": [
    "def construct_rabbit_graph(nr_rabbits, flood_left, flood_right):\n",
    "    \n",
    "    # we represent the vector as two integers, the number of \n",
    "    # rabbits on the left and right island\n",
    "    state_vector_length = 2\n",
    "    graph = Graph(state_vector_length)\n",
    "    \n",
    "    # the initial state is the only starting state, with probability 1\n",
    "    initial_state = [nr_rabbits, 0]\n",
    "    vertex = graph.find_or_create_vertex(initial_state)\n",
    "    graph.starting_vertex().add_edge(vertex, 1)\n",
    "    \n",
    "    index = 1\n",
    "    # iterate over all unvisited vertices\n",
    "    while index < graph.vertices_length():\n",
    "        vertex = graph.vertex_at(index)\n",
    "        state = vertex.state()\n",
    "        \n",
    "        if state[0] > 0:\n",
    "            # rabbit jump left to right\n",
    "            child_state = [state[0] - 1, state[1] + 1]\n",
    "            vertex.add_edge(\n",
    "                graph.find_or_create_vertex(child_state),\n",
    "                weight=1\n",
    "            )\n",
    "            # left island flooding\n",
    "            child_state = [0, state[1]]\n",
    "            vertex.add_edge(\n",
    "                graph.find_or_create_vertex(child_state), \n",
    "                weight=flood_left\n",
    "            )\n",
    "        if state[1] > 0:   \n",
    "            child_state = [state[0] + 1, state[1] - 1]\n",
    "            vertex.add_edge(\n",
    "                graph.find_or_create_vertex(child_state),\n",
    "                weight=1\n",
    "            )\n",
    "            # right island flooding\n",
    "            child_state = [state[0], 0]\n",
    "            vertex.add_edge(\n",
    "                graph.find_or_create_vertex(child_state), \n",
    "                weight=flood_right\n",
    "            )\n",
    "    \n",
    "        index += 1\n",
    "    return graph"
   ]
  },
  {
   "cell_type": "code",
   "execution_count": 6,
   "metadata": {},
   "outputs": [
    {
     "data": {
      "text/plain": [
       "array([[0, 0],\n",
       "       [2, 0],\n",
       "       [1, 1],\n",
       "       [0, 0],\n",
       "       [0, 2],\n",
       "       [0, 1],\n",
       "       [1, 0]], dtype=int32)"
      ]
     },
     "execution_count": 6,
     "metadata": {},
     "output_type": "execute_result"
    }
   ],
   "source": [
    "graph = construct_rabbit_graph(2, 2, 4)        \n",
    "graph.states()"
   ]
  },
  {
   "cell_type": "markdown",
   "metadata": {},
   "source": [
    "You can plot the graph for visual inspection:"
   ]
  },
  {
   "cell_type": "code",
   "execution_count": 7,
   "metadata": {},
   "outputs": [
    {
     "data": {
      "image/svg+xml": [
       "<?xml version=\"1.0\" encoding=\"UTF-8\" standalone=\"no\"?>\n",
       "<!DOCTYPE svg PUBLIC \"-//W3C//DTD SVG 1.1//EN\"\n",
       " \"http://www.w3.org/Graphics/SVG/1.1/DTD/svg11.dtd\">\n",
       "<!-- Generated by graphviz version 13.1.2 (0)\n",
       " -->\n",
       "<!-- Pages: 1 -->\n",
       "<svg width=\"504pt\" height=\"257pt\"\n",
       " viewBox=\"0.00 0.00 504.00 257.00\" xmlns=\"http://www.w3.org/2000/svg\" xmlns:xlink=\"http://www.w3.org/1999/xlink\">\n",
       "<g id=\"graph0\" class=\"graph\" transform=\"scale(0.666667 0.666667) rotate(0) translate(36 349.18)\">\n",
       "<!-- 0 -->\n",
       "<g id=\"node1\" class=\"node\">\n",
       "<title>0</title>\n",
       "<ellipse fill=\"#eeeeee\" stroke=\"black\" cx=\"27\" cy=\"-187.18\" rx=\"27\" ry=\"18\"/>\n",
       "<text xml:space=\"preserve\" text-anchor=\"middle\" x=\"27\" y=\"-182.15\" font-family=\"Helvetica,Arial,sans-serif\" font-size=\"12.00\">S</text>\n",
       "</g>\n",
       "<!-- 1 -->\n",
       "<g id=\"node2\" class=\"node\">\n",
       "<title>1</title>\n",
       "<ellipse fill=\"#eeeeee\" stroke=\"black\" cx=\"153\" cy=\"-187.18\" rx=\"27\" ry=\"18\"/>\n",
       "<text xml:space=\"preserve\" text-anchor=\"middle\" x=\"153\" y=\"-182.15\" font-family=\"Helvetica,Arial,sans-serif\" font-size=\"12.00\">2,0</text>\n",
       "</g>\n",
       "<!-- 0&#45;&gt;1 -->\n",
       "<g id=\"edge1\" class=\"edge\">\n",
       "<title>0&#45;&gt;1</title>\n",
       "<path fill=\"none\" stroke=\"#b41c46\" d=\"M54.3,-187.18C71.72,-187.18 94.86,-187.18 114.24,-187.18\"/>\n",
       "<polygon fill=\"#b41c46\" stroke=\"#b41c46\" points=\"114.23,-190.68 124.23,-187.18 114.23,-183.68 114.23,-190.68\"/>\n",
       "<text xml:space=\"preserve\" text-anchor=\"middle\" x=\"78.26\" y=\"-175.78\" font-family=\"Helvetica,Arial,sans-serif\" font-size=\"12.00\" fill=\"#b41c46\">1.00</text>\n",
       "</g>\n",
       "<!-- 2 -->\n",
       "<g id=\"node3\" class=\"node\">\n",
       "<title>2</title>\n",
       "<ellipse fill=\"#eeeeee\" stroke=\"black\" cx=\"279\" cy=\"-187.18\" rx=\"27\" ry=\"18\"/>\n",
       "<text xml:space=\"preserve\" text-anchor=\"middle\" x=\"279\" y=\"-182.15\" font-family=\"Helvetica,Arial,sans-serif\" font-size=\"12.00\">1,1</text>\n",
       "</g>\n",
       "<!-- 1&#45;&gt;2 -->\n",
       "<g id=\"edge2\" class=\"edge\">\n",
       "<title>1&#45;&gt;2</title>\n",
       "<path fill=\"none\" stroke=\"#85511a\" d=\"M165.44,-170.72C186.11,-158.41 229.98,-156.88 256.43,-166.12\"/>\n",
       "<polygon fill=\"#85511a\" stroke=\"#85511a\" points=\"254.66,-169.16 265.21,-170.11 257.55,-162.79 254.66,-169.16\"/>\n",
       "<text xml:space=\"preserve\" text-anchor=\"middle\" x=\"204.28\" y=\"-148.78\" font-family=\"Helvetica,Arial,sans-serif\" font-size=\"12.00\" fill=\"#85511a\">1.00</text>\n",
       "</g>\n",
       "<!-- 3 -->\n",
       "<g id=\"node4\" class=\"node\">\n",
       "<title>3</title>\n",
       "<ellipse fill=\"#eeeeee\" stroke=\"black\" cx=\"657\" cy=\"-123.18\" rx=\"27\" ry=\"18\"/>\n",
       "<text xml:space=\"preserve\" text-anchor=\"middle\" x=\"657\" y=\"-118.15\" font-family=\"Helvetica,Arial,sans-serif\" font-size=\"12.00\">0,0</text>\n",
       "</g>\n",
       "<!-- 1&#45;&gt;3 -->\n",
       "<g id=\"edge3\" class=\"edge\">\n",
       "<title>1&#45;&gt;3</title>\n",
       "<path fill=\"none\" stroke=\"#685e1a\" d=\"M171.7,-173.94C221.03,-138.01 365.57,-39.09 504,-6.18 527.35,-0.63 536.25,3.98 558,-6.18 597.39,-24.56 626.54,-67.43 642.4,-95.85\"/>\n",
       "<polygon fill=\"#685e1a\" stroke=\"#685e1a\" points=\"639.29,-97.46 647.1,-104.62 645.46,-94.15 639.29,-97.46\"/>\n",
       "<text xml:space=\"preserve\" text-anchor=\"middle\" x=\"358.1\" y=\"-43.75\" font-family=\"Helvetica,Arial,sans-serif\" font-size=\"12.00\" fill=\"#685e1a\">2.00</text>\n",
       "</g>\n",
       "<!-- 2&#45;&gt;1 -->\n",
       "<g id=\"edge6\" class=\"edge\">\n",
       "<title>2&#45;&gt;1</title>\n",
       "<path fill=\"none\" stroke=\"#1d6862\" d=\"M266.58,-203.61C245.94,-215.93 202.07,-217.48 175.6,-208.25\"/>\n",
       "<polygon fill=\"#1d6862\" stroke=\"#1d6862\" points=\"177.37,-205.21 166.82,-204.26 174.48,-211.58 177.37,-205.21\"/>\n",
       "<text xml:space=\"preserve\" text-anchor=\"middle\" x=\"204.51\" y=\"-202.78\" font-family=\"Helvetica,Arial,sans-serif\" font-size=\"12.00\" fill=\"#1d6862\">1.00</text>\n",
       "</g>\n",
       "<!-- 4 -->\n",
       "<g id=\"node5\" class=\"node\">\n",
       "<title>4</title>\n",
       "<ellipse fill=\"#eeeeee\" stroke=\"black\" cx=\"405\" cy=\"-295.18\" rx=\"27\" ry=\"18\"/>\n",
       "<text xml:space=\"preserve\" text-anchor=\"middle\" x=\"405\" y=\"-290.15\" font-family=\"Helvetica,Arial,sans-serif\" font-size=\"12.00\">0,2</text>\n",
       "</g>\n",
       "<!-- 2&#45;&gt;4 -->\n",
       "<g id=\"edge4\" class=\"edge\">\n",
       "<title>2&#45;&gt;4</title>\n",
       "<path fill=\"none\" stroke=\"#46671a\" d=\"M306.3,-187.54C332.75,-203.1 372.36,-239.53 392.03,-267.99\"/>\n",
       "<polygon fill=\"#46671a\" stroke=\"#46671a\" points=\"389.02,-269.78 397.3,-276.4 394.95,-266.06 389.02,-269.78\"/>\n",
       "<text xml:space=\"preserve\" text-anchor=\"middle\" x=\"345.19\" y=\"-216.38\" font-family=\"Helvetica,Arial,sans-serif\" font-size=\"12.00\" fill=\"#46671a\">1.00</text>\n",
       "</g>\n",
       "<!-- 5 -->\n",
       "<g id=\"node6\" class=\"node\">\n",
       "<title>5</title>\n",
       "<ellipse fill=\"#eeeeee\" stroke=\"black\" cx=\"405\" cy=\"-187.18\" rx=\"27\" ry=\"18\"/>\n",
       "<text xml:space=\"preserve\" text-anchor=\"middle\" x=\"405\" y=\"-182.15\" font-family=\"Helvetica,Arial,sans-serif\" font-size=\"12.00\">0,1</text>\n",
       "</g>\n",
       "<!-- 2&#45;&gt;5 -->\n",
       "<g id=\"edge5\" class=\"edge\">\n",
       "<title>2&#45;&gt;5</title>\n",
       "<path fill=\"none\" stroke=\"#1b6a48\" d=\"M306.3,-187.18C323.72,-187.18 346.86,-187.18 366.24,-187.18\"/>\n",
       "<polygon fill=\"#1b6a48\" stroke=\"#1b6a48\" points=\"366.23,-190.68 376.23,-187.18 366.23,-183.68 366.23,-190.68\"/>\n",
       "<text xml:space=\"preserve\" text-anchor=\"middle\" x=\"330.26\" y=\"-175.78\" font-family=\"Helvetica,Arial,sans-serif\" font-size=\"12.00\" fill=\"#1b6a48\">2.00</text>\n",
       "</g>\n",
       "<!-- 6 -->\n",
       "<g id=\"node7\" class=\"node\">\n",
       "<title>6</title>\n",
       "<ellipse fill=\"#eeeeee\" stroke=\"black\" cx=\"531\" cy=\"-60.18\" rx=\"27\" ry=\"18\"/>\n",
       "<text xml:space=\"preserve\" text-anchor=\"middle\" x=\"531\" y=\"-55.15\" font-family=\"Helvetica,Arial,sans-serif\" font-size=\"12.00\">1,0</text>\n",
       "</g>\n",
       "<!-- 2&#45;&gt;6 -->\n",
       "<g id=\"edge7\" class=\"edge\">\n",
       "<title>2&#45;&gt;6</title>\n",
       "<path fill=\"none\" stroke=\"#1e6577\" d=\"M300.09,-175.67C319.78,-164.51 350.71,-147.23 378,-133.18 418.97,-112.07 467.04,-89.31 497.98,-74.92\"/>\n",
       "<polygon fill=\"#1e6577\" stroke=\"#1e6577\" points=\"499.19,-78.21 506.79,-70.83 496.25,-71.86 499.19,-78.21\"/>\n",
       "<text xml:space=\"preserve\" text-anchor=\"middle\" x=\"391.52\" y=\"-109.04\" font-family=\"Helvetica,Arial,sans-serif\" font-size=\"12.00\" fill=\"#1e6577\">4.00</text>\n",
       "</g>\n",
       "<!-- 4&#45;&gt;2 -->\n",
       "<g id=\"edge8\" class=\"edge\">\n",
       "<title>4&#45;&gt;2</title>\n",
       "<path fill=\"none\" stroke=\"#235cad\" d=\"M377.51,-294.7C351.1,-279.1 311.71,-242.86 292.05,-214.49\"/>\n",
       "<polygon fill=\"#235cad\" stroke=\"#235cad\" points=\"295.07,-212.71 286.79,-206.11 289.15,-216.43 295.07,-212.71\"/>\n",
       "<text xml:space=\"preserve\" text-anchor=\"middle\" x=\"315.54\" y=\"-243.15\" font-family=\"Helvetica,Arial,sans-serif\" font-size=\"12.00\" fill=\"#235cad\">1.00</text>\n",
       "</g>\n",
       "<!-- 4&#45;&gt;3 -->\n",
       "<g id=\"edge9\" class=\"edge\">\n",
       "<title>4&#45;&gt;3</title>\n",
       "<path fill=\"none\" stroke=\"#9225ba\" d=\"M427.77,-284.87C458.1,-270.11 514.26,-241.27 558,-210.18 585.5,-190.63 614.02,-164.54 633.16,-146.04\"/>\n",
       "<polygon fill=\"#9225ba\" stroke=\"#9225ba\" points=\"635.46,-148.68 640.17,-139.18 630.57,-143.67 635.46,-148.68\"/>\n",
       "<text xml:space=\"preserve\" text-anchor=\"middle\" x=\"546.39\" y=\"-198.77\" font-family=\"Helvetica,Arial,sans-serif\" font-size=\"12.00\" fill=\"#9225ba\">4.00</text>\n",
       "</g>\n",
       "<!-- 5&#45;&gt;3 -->\n",
       "<g id=\"edge11\" class=\"edge\">\n",
       "<title>5&#45;&gt;3</title>\n",
       "<path fill=\"none\" stroke=\"#b41c46\" d=\"M430.43,-180.92C474.86,-169.55 569.07,-145.43 620.56,-132.25\"/>\n",
       "<polygon fill=\"#b41c46\" stroke=\"#b41c46\" points=\"621.19,-135.7 630.01,-129.83 619.45,-128.92 621.19,-135.7\"/>\n",
       "<text xml:space=\"preserve\" text-anchor=\"middle\" x=\"519.14\" y=\"-143.84\" font-family=\"Helvetica,Arial,sans-serif\" font-size=\"12.00\" fill=\"#b41c46\">4.00</text>\n",
       "</g>\n",
       "<!-- 5&#45;&gt;6 -->\n",
       "<g id=\"edge10\" class=\"edge\">\n",
       "<title>5&#45;&gt;6</title>\n",
       "<path fill=\"none\" stroke=\"#a72086\" d=\"M411.65,-169.26C426.25,-140.3 466.14,-95.33 495.59,-70.95\"/>\n",
       "<polygon fill=\"#a72086\" stroke=\"#a72086\" points=\"497.45,-73.94 503.17,-65.02 493.14,-68.43 497.45,-73.94\"/>\n",
       "<text xml:space=\"preserve\" text-anchor=\"middle\" x=\"441.57\" y=\"-101.14\" font-family=\"Helvetica,Arial,sans-serif\" font-size=\"12.00\" fill=\"#a72086\">1.00</text>\n",
       "</g>\n",
       "<!-- 6&#45;&gt;3 -->\n",
       "<g id=\"edge13\" class=\"edge\">\n",
       "<title>6&#45;&gt;3</title>\n",
       "<path fill=\"none\" stroke=\"#685e1a\" d=\"M553.03,-70.86C572.72,-80.86 602.38,-95.93 624.81,-107.33\"/>\n",
       "<polygon fill=\"#685e1a\" stroke=\"#685e1a\" points=\"623.01,-110.34 633.51,-111.75 626.18,-104.1 623.01,-110.34\"/>\n",
       "<text xml:space=\"preserve\" text-anchor=\"middle\" x=\"582.23\" y=\"-80.2\" font-family=\"Helvetica,Arial,sans-serif\" font-size=\"12.00\" fill=\"#685e1a\">2.00</text>\n",
       "</g>\n",
       "<!-- 6&#45;&gt;5 -->\n",
       "<g id=\"edge12\" class=\"edge\">\n",
       "<title>6&#45;&gt;5</title>\n",
       "<path fill=\"none\" stroke=\"#85511a\" d=\"M524.5,-77.78C510.05,-106.7 470.04,-151.85 440.49,-176.34\"/>\n",
       "<polygon fill=\"#85511a\" stroke=\"#85511a\" points=\"438.59,-173.37 432.88,-182.3 442.91,-178.88 438.59,-173.37\"/>\n",
       "<text xml:space=\"preserve\" text-anchor=\"middle\" x=\"471.38\" y=\"-123.19\" font-family=\"Helvetica,Arial,sans-serif\" font-size=\"12.00\" fill=\"#85511a\">1.00</text>\n",
       "</g>\n",
       "</g>\n",
       "</svg>\n"
      ],
      "text/plain": [
       "<graphviz.graphs.Digraph at 0x309e9c590>"
      ]
     },
     "execution_count": 7,
     "metadata": {},
     "output_type": "execute_result"
    }
   ],
   "source": [
    "graph.plot()"
   ]
  },
  {
   "cell_type": "markdown",
   "metadata": {},
   "source": [
    "and group, states by some property, by supplying a lambda function for the `subgraphfun` keyword argument:"
   ]
  },
  {
   "cell_type": "code",
   "execution_count": 8,
   "metadata": {},
   "outputs": [
    {
     "data": {
      "image/svg+xml": [
       "<?xml version=\"1.0\" encoding=\"UTF-8\" standalone=\"no\"?>\n",
       "<!DOCTYPE svg PUBLIC \"-//W3C//DTD SVG 1.1//EN\"\n",
       " \"http://www.w3.org/Graphics/SVG/1.1/DTD/svg11.dtd\">\n",
       "<!-- Generated by graphviz version 13.1.2 (0)\n",
       " -->\n",
       "<!-- Pages: 1 -->\n",
       "<svg width=\"504pt\" height=\"366pt\"\n",
       " viewBox=\"0.00 0.00 504.00 366.00\" xmlns=\"http://www.w3.org/2000/svg\" xmlns:xlink=\"http://www.w3.org/1999/xlink\">\n",
       "<g id=\"graph0\" class=\"graph\" transform=\"scale(0.965517 0.965517) rotate(0) translate(36 343)\">\n",
       "<g id=\"clust1\" class=\"cluster\">\n",
       "<title>cluster_#rabbits: 2</title>\n",
       "<polygon fill=\"whitesmoke\" stroke=\"whitesmoke\" points=\"118,-8 118,-299 197,-299 197,-8 118,-8\"/>\n",
       "<text xml:space=\"preserve\" text-anchor=\"middle\" x=\"157.5\" y=\"-281.7\" font-family=\"Helvetica,Arial,sans-serif\" font-size=\"14.00\">#rabbits: 2</text>\n",
       "</g>\n",
       "<g id=\"clust2\" class=\"cluster\">\n",
       "<title>cluster_#rabbits: 1</title>\n",
       "<polygon fill=\"whitesmoke\" stroke=\"whitesmoke\" points=\"253,-62 253,-245 332,-245 332,-62 253,-62\"/>\n",
       "<text xml:space=\"preserve\" text-anchor=\"middle\" x=\"292.5\" y=\"-227.7\" font-family=\"Helvetica,Arial,sans-serif\" font-size=\"14.00\">#rabbits: 1</text>\n",
       "</g>\n",
       "<!-- 0 -->\n",
       "<g id=\"node1\" class=\"node\">\n",
       "<title>0</title>\n",
       "<ellipse fill=\"#eeeeee\" stroke=\"black\" cx=\"27\" cy=\"-250\" rx=\"27\" ry=\"18\"/>\n",
       "<text xml:space=\"preserve\" text-anchor=\"middle\" x=\"27\" y=\"-244.97\" font-family=\"Helvetica,Arial,sans-serif\" font-size=\"12.00\">S</text>\n",
       "</g>\n",
       "<!-- 1 -->\n",
       "<g id=\"node2\" class=\"node\">\n",
       "<title>1</title>\n",
       "<ellipse fill=\"#eeeeee\" stroke=\"black\" cx=\"157\" cy=\"-250\" rx=\"27\" ry=\"18\"/>\n",
       "<text xml:space=\"preserve\" text-anchor=\"middle\" x=\"157\" y=\"-244.97\" font-family=\"Helvetica,Arial,sans-serif\" font-size=\"12.00\">2,0</text>\n",
       "</g>\n",
       "<!-- 0&#45;&gt;1 -->\n",
       "<g id=\"edge1\" class=\"edge\">\n",
       "<title>0&#45;&gt;1</title>\n",
       "<path fill=\"none\" stroke=\"#b41c46\" d=\"M54.21,-250C72.76,-250 97.91,-250 118.57,-250\"/>\n",
       "<polygon fill=\"#b41c46\" stroke=\"#b41c46\" points=\"118.31,-253.5 128.31,-250 118.31,-246.5 118.31,-253.5\"/>\n",
       "<text xml:space=\"preserve\" text-anchor=\"middle\" x=\"80.29\" y=\"-238.6\" font-family=\"Helvetica,Arial,sans-serif\" font-size=\"12.00\" fill=\"#b41c46\">1.00</text>\n",
       "</g>\n",
       "<!-- 2 -->\n",
       "<g id=\"node3\" class=\"node\">\n",
       "<title>2</title>\n",
       "<ellipse fill=\"#eeeeee\" stroke=\"black\" cx=\"157\" cy=\"-142\" rx=\"27\" ry=\"18\"/>\n",
       "<text xml:space=\"preserve\" text-anchor=\"middle\" x=\"157\" y=\"-136.97\" font-family=\"Helvetica,Arial,sans-serif\" font-size=\"12.00\">1,1</text>\n",
       "</g>\n",
       "<!-- 1&#45;&gt;2 -->\n",
       "<g id=\"edge2\" class=\"edge\">\n",
       "<title>1&#45;&gt;2</title>\n",
       "<path fill=\"none\" stroke=\"#85511a\" d=\"M167.6,-233.27C178.64,-211.96 180.2,-190.65 172.31,-169.34\"/>\n",
       "<polygon fill=\"#85511a\" stroke=\"#85511a\" points=\"175.54,-167.98 168.29,-160.26 169.14,-170.82 175.54,-167.98\"/>\n",
       "<text xml:space=\"preserve\" text-anchor=\"middle\" x=\"165.62\" y=\"-184.91\" font-family=\"Helvetica,Arial,sans-serif\" font-size=\"12.00\" fill=\"#85511a\">1.00</text>\n",
       "</g>\n",
       "<!-- 3 -->\n",
       "<g id=\"node4\" class=\"node\">\n",
       "<title>3</title>\n",
       "<ellipse fill=\"#eeeeee\" stroke=\"black\" cx=\"423\" cy=\"-142\" rx=\"27\" ry=\"18\"/>\n",
       "<text xml:space=\"preserve\" text-anchor=\"middle\" x=\"423\" y=\"-136.97\" font-family=\"Helvetica,Arial,sans-serif\" font-size=\"12.00\">0,0</text>\n",
       "</g>\n",
       "<!-- 1&#45;&gt;3 -->\n",
       "<g id=\"edge3\" class=\"edge\">\n",
       "<title>1&#45;&gt;3</title>\n",
       "<path fill=\"none\" stroke=\"#685e1a\" d=\"M180.86,-258.84C215.57,-270.74 282.74,-287.75 332,-263 370.58,-243.61 396.81,-198.98 410.58,-169.68\"/>\n",
       "<polygon fill=\"#685e1a\" stroke=\"#685e1a\" points=\"413.73,-171.23 414.63,-160.67 407.34,-168.36 413.73,-171.23\"/>\n",
       "<text xml:space=\"preserve\" text-anchor=\"middle\" x=\"320.4\" y=\"-251.59\" font-family=\"Helvetica,Arial,sans-serif\" font-size=\"12.00\" fill=\"#685e1a\">2.00</text>\n",
       "</g>\n",
       "<!-- 2&#45;&gt;1 -->\n",
       "<g id=\"edge6\" class=\"edge\">\n",
       "<title>2&#45;&gt;1</title>\n",
       "<path fill=\"none\" stroke=\"#1d6862\" d=\"M146.32,-158.88C135.33,-180.19 133.81,-201.5 141.74,-222.81\"/>\n",
       "<polygon fill=\"#1d6862\" stroke=\"#1d6862\" points=\"138.52,-224.17 145.78,-231.89 144.91,-221.33 138.52,-224.17\"/>\n",
       "<text xml:space=\"preserve\" text-anchor=\"middle\" x=\"125.13\" y=\"-184.44\" font-family=\"Helvetica,Arial,sans-serif\" font-size=\"12.00\" fill=\"#1d6862\">1.00</text>\n",
       "</g>\n",
       "<!-- 4 -->\n",
       "<g id=\"node5\" class=\"node\">\n",
       "<title>4</title>\n",
       "<ellipse fill=\"#eeeeee\" stroke=\"black\" cx=\"157\" cy=\"-34\" rx=\"27\" ry=\"18\"/>\n",
       "<text xml:space=\"preserve\" text-anchor=\"middle\" x=\"157\" y=\"-28.98\" font-family=\"Helvetica,Arial,sans-serif\" font-size=\"12.00\">0,2</text>\n",
       "</g>\n",
       "<!-- 2&#45;&gt;4 -->\n",
       "<g id=\"edge4\" class=\"edge\">\n",
       "<title>2&#45;&gt;4</title>\n",
       "<path fill=\"none\" stroke=\"#46671a\" d=\"M167.6,-125.27C178.64,-103.96 180.2,-82.65 172.31,-61.34\"/>\n",
       "<polygon fill=\"#46671a\" stroke=\"#46671a\" points=\"175.54,-59.98 168.29,-52.26 169.14,-62.82 175.54,-59.98\"/>\n",
       "<text xml:space=\"preserve\" text-anchor=\"middle\" x=\"165.62\" y=\"-76.91\" font-family=\"Helvetica,Arial,sans-serif\" font-size=\"12.00\" fill=\"#46671a\">1.00</text>\n",
       "</g>\n",
       "<!-- 5 -->\n",
       "<g id=\"node6\" class=\"node\">\n",
       "<title>5</title>\n",
       "<ellipse fill=\"#eeeeee\" stroke=\"black\" cx=\"292\" cy=\"-88\" rx=\"27\" ry=\"18\"/>\n",
       "<text xml:space=\"preserve\" text-anchor=\"middle\" x=\"292\" y=\"-82.97\" font-family=\"Helvetica,Arial,sans-serif\" font-size=\"12.00\">0,1</text>\n",
       "</g>\n",
       "<!-- 2&#45;&gt;5 -->\n",
       "<g id=\"edge5\" class=\"edge\">\n",
       "<title>2&#45;&gt;5</title>\n",
       "<path fill=\"none\" stroke=\"#1b6a48\" d=\"M180.56,-132.84C201.77,-124.23 233.77,-111.24 257.88,-101.45\"/>\n",
       "<polygon fill=\"#1b6a48\" stroke=\"#1b6a48\" points=\"258.98,-104.78 266.93,-97.77 256.34,-98.29 258.98,-104.78\"/>\n",
       "<text xml:space=\"preserve\" text-anchor=\"middle\" x=\"212.93\" y=\"-103.58\" font-family=\"Helvetica,Arial,sans-serif\" font-size=\"12.00\" fill=\"#1b6a48\">2.00</text>\n",
       "</g>\n",
       "<!-- 6 -->\n",
       "<g id=\"node7\" class=\"node\">\n",
       "<title>6</title>\n",
       "<ellipse fill=\"#eeeeee\" stroke=\"black\" cx=\"292\" cy=\"-196\" rx=\"27\" ry=\"18\"/>\n",
       "<text xml:space=\"preserve\" text-anchor=\"middle\" x=\"292\" y=\"-190.97\" font-family=\"Helvetica,Arial,sans-serif\" font-size=\"12.00\">1,0</text>\n",
       "</g>\n",
       "<!-- 2&#45;&gt;6 -->\n",
       "<g id=\"edge7\" class=\"edge\">\n",
       "<title>2&#45;&gt;6</title>\n",
       "<path fill=\"none\" stroke=\"#1e6577\" d=\"M180.56,-151.16C201.77,-159.77 233.77,-172.76 257.88,-182.55\"/>\n",
       "<polygon fill=\"#1e6577\" stroke=\"#1e6577\" points=\"256.34,-185.71 266.93,-186.23 258.98,-179.22 256.34,-185.71\"/>\n",
       "<text xml:space=\"preserve\" text-anchor=\"middle\" x=\"212.93\" y=\"-157.62\" font-family=\"Helvetica,Arial,sans-serif\" font-size=\"12.00\" fill=\"#1e6577\">4.00</text>\n",
       "</g>\n",
       "<!-- 4&#45;&gt;2 -->\n",
       "<g id=\"edge8\" class=\"edge\">\n",
       "<title>4&#45;&gt;2</title>\n",
       "<path fill=\"none\" stroke=\"#235cad\" d=\"M146.32,-50.88C135.33,-72.19 133.81,-93.5 141.74,-114.81\"/>\n",
       "<polygon fill=\"#235cad\" stroke=\"#235cad\" points=\"138.52,-116.17 145.78,-123.89 144.91,-113.33 138.52,-116.17\"/>\n",
       "<text xml:space=\"preserve\" text-anchor=\"middle\" x=\"125.13\" y=\"-76.44\" font-family=\"Helvetica,Arial,sans-serif\" font-size=\"12.00\" fill=\"#235cad\">1.00</text>\n",
       "</g>\n",
       "<!-- 4&#45;&gt;3 -->\n",
       "<g id=\"edge9\" class=\"edge\">\n",
       "<title>4&#45;&gt;3</title>\n",
       "<path fill=\"none\" stroke=\"#9225ba\" d=\"M183.66,-29.72C218.95,-25.06 283.61,-21.06 332,-44 364.51,-59.41 390.78,-92.34 406.36,-115.78\"/>\n",
       "<polygon fill=\"#9225ba\" stroke=\"#9225ba\" points=\"403.21,-117.35 411.56,-123.88 409.11,-113.57 403.21,-117.35\"/>\n",
       "<text xml:space=\"preserve\" text-anchor=\"middle\" x=\"320.39\" y=\"-32.61\" font-family=\"Helvetica,Arial,sans-serif\" font-size=\"12.00\" fill=\"#9225ba\">4.00</text>\n",
       "</g>\n",
       "<!-- 5&#45;&gt;3 -->\n",
       "<g id=\"edge11\" class=\"edge\">\n",
       "<title>5&#45;&gt;3</title>\n",
       "<path fill=\"none\" stroke=\"#b41c46\" d=\"M315.47,-97.41C335.91,-105.96 366.32,-118.69 389.43,-128.37\"/>\n",
       "<polygon fill=\"#b41c46\" stroke=\"#b41c46\" points=\"387.82,-131.48 398.39,-132.12 390.52,-125.03 387.82,-131.48\"/>\n",
       "<text xml:space=\"preserve\" text-anchor=\"middle\" x=\"345.96\" y=\"-103.63\" font-family=\"Helvetica,Arial,sans-serif\" font-size=\"12.00\" fill=\"#b41c46\">4.00</text>\n",
       "</g>\n",
       "<!-- 5&#45;&gt;6 -->\n",
       "<g id=\"edge10\" class=\"edge\">\n",
       "<title>5&#45;&gt;6</title>\n",
       "<path fill=\"none\" stroke=\"#a72086\" d=\"M302.68,-104.88C313.67,-126.19 315.19,-147.5 307.26,-168.81\"/>\n",
       "<polygon fill=\"#a72086\" stroke=\"#a72086\" points=\"304.09,-167.33 303.22,-177.89 310.48,-170.17 304.09,-167.33\"/>\n",
       "<text xml:space=\"preserve\" text-anchor=\"middle\" x=\"300.62\" y=\"-130.44\" font-family=\"Helvetica,Arial,sans-serif\" font-size=\"12.00\" fill=\"#a72086\">1.00</text>\n",
       "</g>\n",
       "<!-- 6&#45;&gt;3 -->\n",
       "<g id=\"edge13\" class=\"edge\">\n",
       "<title>6&#45;&gt;3</title>\n",
       "<path fill=\"none\" stroke=\"#685e1a\" d=\"M315.47,-186.59C335.91,-178.04 366.32,-165.31 389.43,-155.63\"/>\n",
       "<polygon fill=\"#685e1a\" stroke=\"#685e1a\" points=\"390.52,-158.97 398.39,-151.88 387.82,-152.52 390.52,-158.97\"/>\n",
       "<text xml:space=\"preserve\" text-anchor=\"middle\" x=\"345.96\" y=\"-157.57\" font-family=\"Helvetica,Arial,sans-serif\" font-size=\"12.00\" fill=\"#685e1a\">2.00</text>\n",
       "</g>\n",
       "<!-- 6&#45;&gt;5 -->\n",
       "<g id=\"edge12\" class=\"edge\">\n",
       "<title>6&#45;&gt;5</title>\n",
       "<path fill=\"none\" stroke=\"#85511a\" d=\"M281.4,-179.27C270.36,-157.96 268.8,-136.65 276.69,-115.34\"/>\n",
       "<polygon fill=\"#85511a\" stroke=\"#85511a\" points=\"279.86,-116.82 280.71,-106.26 273.46,-113.98 279.86,-116.82\"/>\n",
       "<text xml:space=\"preserve\" text-anchor=\"middle\" x=\"260.13\" y=\"-130.91\" font-family=\"Helvetica,Arial,sans-serif\" font-size=\"12.00\" fill=\"#85511a\">1.00</text>\n",
       "</g>\n",
       "</g>\n",
       "</svg>\n"
      ],
      "text/plain": [
       "<graphviz.graphs.Digraph at 0x309e6d1d0>"
      ]
     },
     "execution_count": 8,
     "metadata": {},
     "output_type": "execute_result"
    }
   ],
   "source": [
    "graph.plot(subgraphfun=lambda state: f\"#rabbits: {sum(state)}\")"
   ]
  },
  {
   "cell_type": "markdown",
   "metadata": {},
   "source": [
    "In an abbreviated version using the aliases `ae` and `focv` for `add_edge` and `find_and_create_vertex`"
   ]
  },
  {
   "cell_type": "code",
   "execution_count": 9,
   "metadata": {},
   "outputs": [],
   "source": [
    "nr_rabbits, flood_left, flood_right = 2, 2, 4\n",
    "\n",
    "graph = Graph(2)\n",
    "graph.starting_vertex().add_edge(graph.focv(c(nr_rabbits, 0)), 1)\n",
    "i = 1\n",
    "while i < graph.vertices_length():\n",
    "    v = graph.vertex_at(i)\n",
    "    st = v.state()\n",
    "    if st[0] > 0:\n",
    "        v.ae(graph.focv([st[0]-1, st[1]+1]), 1)\n",
    "        v.ae(graph.focv([0, st[1]]), flood_left)\n",
    "    if st[1] > 0:   \n",
    "        v.ae(graph.focv([st[0]+1, st[1]-1]), 1)\n",
    "        v.ae(graph.focv([st[0], 0]), flood_right)\n",
    "    i += 1\n",
    "    \n",
    "#graph.states()"
   ]
  },
  {
   "cell_type": "markdown",
   "metadata": {},
   "source": [
    "You can skip some of the boilerplate code by passing a callback function and an initial state to `Graph`. The call back function has the signature `callback(List[int]) -> List[Dict]`. It takes a list argument specifying a state and returns a list of dictionaries each specifying a child state and an edge weight: `{'state': [0, 1], 'weight': 0.4}`. This approach is slower and is intended mainly for speed up model development and exploration, and to reduce the amount of code needed to represent many models.\n",
    "\n",
    "To create a callback function, just think of rules of your model and ask yourself: \"Given some state, what are the allowed transitions to other states and with what rates to these transititons occur?\". Make a small dictionary for each such transition with the child state and rate (weight) and return them as a list. Here is an example. If the current state is \"two rabbits on the left island\" (`[2, 0]`), the reachable states are: \"one rabbit on each island\" (`[1, 1]`) if one rabbit jumps and and \"no rabbits\" (`[0, 0]`) if the island is flodded. The callback function should in that case produce the mapping:\n",
    "\n",
    "```python\n",
    "[2, 0] -> [{'state': [1, 1], 'weight': 1, }, {'state': [0, 0], 'weight': flood_left}]\n",
    "```\n",
    "\n",
    "Here is what the callback function looks like for the rabbit model:"
   ]
  },
  {
   "cell_type": "code",
   "execution_count": 10,
   "metadata": {},
   "outputs": [],
   "source": [
    "def rabbit_islands(state):\n",
    "    children = []\n",
    "    if state[0] > 0:\n",
    "        children.append({'state': [state[0]-1, state[1]+1], 'weight': 1})\n",
    "        children.append({'state': [0,          state[1]  ], 'weight': flood_left})\n",
    "    if state[1] > 0:   \n",
    "        children.append({'state': [state[0]+1, state[1]-1], 'weight': 1})\n",
    "        children.append({'state': [state[0],   0         ], 'weight': flood_right})\n",
    "    return children\n",
    "\n",
    "initial_state = [nr_rabbits, 0]    "
   ]
  },
  {
   "cell_type": "markdown",
   "metadata": {},
   "source": [
    "Notice that the usual scoping rules apply to the callback functions: the variables defined outside the function `flood_left` and `flood_right` are accessible to the function as for any Python function."
   ]
  },
  {
   "cell_type": "markdown",
   "metadata": {},
   "source": [
    "## Matrix interface"
   ]
  },
  {
   "cell_type": "markdown",
   "metadata": {},
   "source": [
    "To allow imbedding in a matrix based workflow, a matrix-based representation of the phase-type distribution can be extracted from the graph. Note that the indices in the matrix representation do not correspond to vertex indices in the graph."
   ]
  },
  {
   "cell_type": "code",
   "execution_count": 11,
   "metadata": {},
   "outputs": [
    {
     "name": "stdout",
     "output_type": "stream",
     "text": [
      "Initial probability vector:\n",
      "[0. 0. 1. 0. 0.]\n",
      "Subintensity matrix:\n",
      "[[-5.  1.  0.  0.  0.]\n",
      " [ 1. -8.  1.  4.  2.]\n",
      " [ 0.  1. -3.  0.  0.]\n",
      " [ 0.  0.  0. -3.  1.]\n",
      " [ 0.  0.  0.  1. -5.]]\n",
      "States:\n",
      "[[0 2]\n",
      " [1 1]\n",
      " [2 0]\n",
      " [1 0]\n",
      " [0 1]]\n",
      "Indicies:\n",
      "[5 3 2 7 6]\n"
     ]
    }
   ],
   "source": [
    "mats = graph.as_matrices()\n",
    "print(\"Initial probability vector:\")\n",
    "print(mats.ipv)\n",
    "print(\"Subintensity matrix:\")\n",
    "print(mats.sim)\n",
    "print(\"States:\")\n",
    "print(mats.states)\n",
    "print(\"Indicies:\")\n",
    "print(mats.indices)\n"
   ]
  },
  {
   "cell_type": "markdown",
   "metadata": {},
   "source": [
    "Although computationally inefficient, the graph can also be constructed from an initial probability vector and a subintensity matrix:"
   ]
  },
  {
   "cell_type": "code",
   "execution_count": 12,
   "metadata": {},
   "outputs": [
    {
     "data": {
      "image/svg+xml": [
       "<?xml version=\"1.0\" encoding=\"UTF-8\" standalone=\"no\"?>\n",
       "<!DOCTYPE svg PUBLIC \"-//W3C//DTD SVG 1.1//EN\"\n",
       " \"http://www.w3.org/Graphics/SVG/1.1/DTD/svg11.dtd\">\n",
       "<!-- Generated by graphviz version 13.1.2 (0)\n",
       " -->\n",
       "<!-- Pages: 1 -->\n",
       "<svg width=\"504pt\" height=\"229pt\"\n",
       " viewBox=\"0.00 0.00 504.00 229.00\" xmlns=\"http://www.w3.org/2000/svg\" xmlns:xlink=\"http://www.w3.org/1999/xlink\">\n",
       "<g id=\"graph0\" class=\"graph\" transform=\"scale(0.666667 0.666667) rotate(0) translate(36 307.2)\">\n",
       "<!-- 0 -->\n",
       "<g id=\"node1\" class=\"node\">\n",
       "<title>0</title>\n",
       "<ellipse fill=\"#eeeeee\" stroke=\"black\" cx=\"27\" cy=\"-184.74\" rx=\"27\" ry=\"18\"/>\n",
       "<text xml:space=\"preserve\" text-anchor=\"middle\" x=\"27\" y=\"-179.72\" font-family=\"Helvetica,Arial,sans-serif\" font-size=\"12.00\">S</text>\n",
       "</g>\n",
       "<!-- 3 -->\n",
       "<g id=\"node2\" class=\"node\">\n",
       "<title>3</title>\n",
       "<ellipse fill=\"#eeeeee\" stroke=\"black\" cx=\"153\" cy=\"-184.74\" rx=\"27\" ry=\"18\"/>\n",
       "<text xml:space=\"preserve\" text-anchor=\"middle\" x=\"153\" y=\"-179.72\" font-family=\"Helvetica,Arial,sans-serif\" font-size=\"12.00\">2,0</text>\n",
       "</g>\n",
       "<!-- 0&#45;&gt;3 -->\n",
       "<g id=\"edge1\" class=\"edge\">\n",
       "<title>0&#45;&gt;3</title>\n",
       "<path fill=\"none\" stroke=\"#b41c46\" d=\"M54.3,-184.74C71.72,-184.74 94.86,-184.74 114.24,-184.74\"/>\n",
       "<polygon fill=\"#b41c46\" stroke=\"#b41c46\" points=\"114.23,-188.24 124.23,-184.74 114.23,-181.24 114.23,-188.24\"/>\n",
       "<text xml:space=\"preserve\" text-anchor=\"middle\" x=\"78.26\" y=\"-173.34\" font-family=\"Helvetica,Arial,sans-serif\" font-size=\"12.00\" fill=\"#b41c46\">1.00</text>\n",
       "</g>\n",
       "<!-- 2 -->\n",
       "<g id=\"node4\" class=\"node\">\n",
       "<title>2</title>\n",
       "<ellipse fill=\"#eeeeee\" stroke=\"black\" cx=\"279\" cy=\"-130.74\" rx=\"27\" ry=\"18\"/>\n",
       "<text xml:space=\"preserve\" text-anchor=\"middle\" x=\"279\" y=\"-125.72\" font-family=\"Helvetica,Arial,sans-serif\" font-size=\"12.00\">1,1</text>\n",
       "</g>\n",
       "<!-- 3&#45;&gt;2 -->\n",
       "<g id=\"edge8\" class=\"edge\">\n",
       "<title>3&#45;&gt;2</title>\n",
       "<path fill=\"none\" stroke=\"#235cad\" d=\"M161.76,-167.42C178.37,-147.2 218.16,-126.57 246.56,-120.59\"/>\n",
       "<polygon fill=\"#235cad\" stroke=\"#235cad\" points=\"247.03,-124.06 256.43,-119.18 246.04,-117.13 247.03,-124.06\"/>\n",
       "<text xml:space=\"preserve\" text-anchor=\"middle\" x=\"194.39\" y=\"-124.01\" font-family=\"Helvetica,Arial,sans-serif\" font-size=\"12.00\" fill=\"#235cad\">1.00</text>\n",
       "</g>\n",
       "<!-- 6 -->\n",
       "<g id=\"node5\" class=\"node\">\n",
       "<title>6</title>\n",
       "<ellipse fill=\"#eeeeee\" stroke=\"black\" cx=\"657\" cy=\"-129.74\" rx=\"27\" ry=\"18\"/>\n",
       "<text xml:space=\"preserve\" text-anchor=\"middle\" x=\"657\" y=\"-124.72\" font-family=\"Helvetica,Arial,sans-serif\" font-size=\"12.00\">0,0</text>\n",
       "</g>\n",
       "<!-- 3&#45;&gt;6 -->\n",
       "<g id=\"edge9\" class=\"edge\">\n",
       "<title>3&#45;&gt;6</title>\n",
       "<path fill=\"none\" stroke=\"#9225ba\" d=\"M174.49,-195.8C235.88,-227.32 422.41,-311.39 558,-247.74 597.72,-229.1 626.91,-185.57 642.67,-156.92\"/>\n",
       "<polygon fill=\"#9225ba\" stroke=\"#9225ba\" points=\"645.57,-158.92 647.15,-148.45 639.38,-155.65 645.57,-158.92\"/>\n",
       "<text xml:space=\"preserve\" text-anchor=\"middle\" x=\"389.07\" y=\"-257.07\" font-family=\"Helvetica,Arial,sans-serif\" font-size=\"12.00\" fill=\"#9225ba\">2.00</text>\n",
       "</g>\n",
       "<!-- 1 -->\n",
       "<g id=\"node3\" class=\"node\">\n",
       "<title>1</title>\n",
       "<ellipse fill=\"#eeeeee\" stroke=\"black\" cx=\"153\" cy=\"-76.74\" rx=\"27\" ry=\"18\"/>\n",
       "<text xml:space=\"preserve\" text-anchor=\"middle\" x=\"153\" y=\"-71.72\" font-family=\"Helvetica,Arial,sans-serif\" font-size=\"12.00\">0,2</text>\n",
       "</g>\n",
       "<!-- 1&#45;&gt;2 -->\n",
       "<g id=\"edge2\" class=\"edge\">\n",
       "<title>1&#45;&gt;2</title>\n",
       "<path fill=\"none\" stroke=\"#85511a\" d=\"M174.2,-64.98C198.92,-66.54 240.23,-85.19 262.55,-105.45\"/>\n",
       "<polygon fill=\"#85511a\" stroke=\"#85511a\" points=\"259.85,-107.69 269.31,-112.47 264.9,-102.83 259.85,-107.69\"/>\n",
       "<text xml:space=\"preserve\" text-anchor=\"middle\" x=\"214.46\" y=\"-70.05\" font-family=\"Helvetica,Arial,sans-serif\" font-size=\"12.00\" fill=\"#85511a\">1.00</text>\n",
       "</g>\n",
       "<!-- 1&#45;&gt;6 -->\n",
       "<g id=\"edge3\" class=\"edge\">\n",
       "<title>1&#45;&gt;6</title>\n",
       "<path fill=\"none\" stroke=\"#685e1a\" d=\"M174.58,-65.49C220.69,-41.73 335.77,9.65 432,-12.74 509.18,-30.7 588.95,-81.56 629.24,-109.95\"/>\n",
       "<polygon fill=\"#685e1a\" stroke=\"#685e1a\" points=\"626.98,-112.64 637.15,-115.61 631.05,-106.94 626.98,-112.64\"/>\n",
       "<text xml:space=\"preserve\" text-anchor=\"middle\" x=\"420.4\" y=\"-1.35\" font-family=\"Helvetica,Arial,sans-serif\" font-size=\"12.00\" fill=\"#685e1a\">4.00</text>\n",
       "</g>\n",
       "<!-- 2&#45;&gt;3 -->\n",
       "<g id=\"edge5\" class=\"edge\">\n",
       "<title>2&#45;&gt;3</title>\n",
       "<path fill=\"none\" stroke=\"#1b6a48\" d=\"M270.36,-147.93C253.77,-168.24 213.69,-189.01 185.22,-194.94\"/>\n",
       "<polygon fill=\"#1b6a48\" stroke=\"#1b6a48\" points=\"185.1,-191.42 175.7,-196.3 186.09,-198.35 185.1,-191.42\"/>\n",
       "<text xml:space=\"preserve\" text-anchor=\"middle\" x=\"214.32\" y=\"-168.7\" font-family=\"Helvetica,Arial,sans-serif\" font-size=\"12.00\" fill=\"#1b6a48\">1.00</text>\n",
       "</g>\n",
       "<!-- 2&#45;&gt;1 -->\n",
       "<g id=\"edge4\" class=\"edge\">\n",
       "<title>2&#45;&gt;1</title>\n",
       "<path fill=\"none\" stroke=\"#46671a\" d=\"M257.93,-142.52C233.28,-141.01 191.99,-122.41 169.59,-102.18\"/>\n",
       "<polygon fill=\"#46671a\" stroke=\"#46671a\" points=\"172.28,-99.91 162.81,-95.16 167.24,-104.78 172.28,-99.91\"/>\n",
       "<text xml:space=\"preserve\" text-anchor=\"middle\" x=\"217.74\" y=\"-114.73\" font-family=\"Helvetica,Arial,sans-serif\" font-size=\"12.00\" fill=\"#46671a\">1.00</text>\n",
       "</g>\n",
       "<!-- 4 -->\n",
       "<g id=\"node6\" class=\"node\">\n",
       "<title>4</title>\n",
       "<ellipse fill=\"#eeeeee\" stroke=\"black\" cx=\"405\" cy=\"-66.74\" rx=\"27\" ry=\"18\"/>\n",
       "<text xml:space=\"preserve\" text-anchor=\"middle\" x=\"405\" y=\"-61.72\" font-family=\"Helvetica,Arial,sans-serif\" font-size=\"12.00\">1,0</text>\n",
       "</g>\n",
       "<!-- 2&#45;&gt;4 -->\n",
       "<g id=\"edge6\" class=\"edge\">\n",
       "<title>2&#45;&gt;4</title>\n",
       "<path fill=\"none\" stroke=\"#1d6862\" d=\"M301.03,-119.89C320.72,-109.73 350.38,-94.42 372.81,-82.84\"/>\n",
       "<polygon fill=\"#1d6862\" stroke=\"#1d6862\" points=\"374.24,-86.04 381.52,-78.35 371.03,-79.82 374.24,-86.04\"/>\n",
       "<text xml:space=\"preserve\" text-anchor=\"middle\" x=\"330.23\" y=\"-87.42\" font-family=\"Helvetica,Arial,sans-serif\" font-size=\"12.00\" fill=\"#1d6862\">4.00</text>\n",
       "</g>\n",
       "<!-- 5 -->\n",
       "<g id=\"node7\" class=\"node\">\n",
       "<title>5</title>\n",
       "<ellipse fill=\"#eeeeee\" stroke=\"black\" cx=\"531\" cy=\"-193.74\" rx=\"27\" ry=\"18\"/>\n",
       "<text xml:space=\"preserve\" text-anchor=\"middle\" x=\"531\" y=\"-188.72\" font-family=\"Helvetica,Arial,sans-serif\" font-size=\"12.00\">0,1</text>\n",
       "</g>\n",
       "<!-- 2&#45;&gt;5 -->\n",
       "<g id=\"edge7\" class=\"edge\">\n",
       "<title>2&#45;&gt;5</title>\n",
       "<path fill=\"none\" stroke=\"#1e6577\" d=\"M304.43,-136.9C348.86,-148.1 443.07,-171.84 494.56,-184.81\"/>\n",
       "<polygon fill=\"#1e6577\" stroke=\"#1e6577\" points=\"493.45,-188.14 504.01,-187.19 495.17,-181.36 493.45,-188.14\"/>\n",
       "<text xml:space=\"preserve\" text-anchor=\"middle\" x=\"393.14\" y=\"-150.79\" font-family=\"Helvetica,Arial,sans-serif\" font-size=\"12.00\" fill=\"#1e6577\">2.00</text>\n",
       "</g>\n",
       "<!-- 4&#45;&gt;6 -->\n",
       "<g id=\"edge11\" class=\"edge\">\n",
       "<title>4&#45;&gt;6</title>\n",
       "<path fill=\"none\" stroke=\"#b41c46\" d=\"M430.43,-72.9C474.86,-84.1 569.07,-107.84 620.56,-120.81\"/>\n",
       "<polygon fill=\"#b41c46\" stroke=\"#b41c46\" points=\"619.45,-124.14 630.01,-123.19 621.17,-117.36 619.45,-124.14\"/>\n",
       "<text xml:space=\"preserve\" text-anchor=\"middle\" x=\"519.14\" y=\"-86.79\" font-family=\"Helvetica,Arial,sans-serif\" font-size=\"12.00\" fill=\"#b41c46\">2.00</text>\n",
       "</g>\n",
       "<!-- 4&#45;&gt;5 -->\n",
       "<g id=\"edge10\" class=\"edge\">\n",
       "<title>4&#45;&gt;5</title>\n",
       "<path fill=\"none\" stroke=\"#a72086\" d=\"M431.69,-70.69C458.58,-90.42 499.52,-134.42 518.99,-166.27\"/>\n",
       "<polygon fill=\"#a72086\" stroke=\"#a72086\" points=\"515.83,-167.8 523.77,-174.82 521.94,-164.38 515.83,-167.8\"/>\n",
       "<text xml:space=\"preserve\" text-anchor=\"middle\" x=\"471.35\" y=\"-107.89\" font-family=\"Helvetica,Arial,sans-serif\" font-size=\"12.00\" fill=\"#a72086\">1.00</text>\n",
       "</g>\n",
       "<!-- 5&#45;&gt;6 -->\n",
       "<g id=\"edge13\" class=\"edge\">\n",
       "<title>5&#45;&gt;6</title>\n",
       "<path fill=\"none\" stroke=\"#685e1a\" d=\"M553.03,-182.89C572.72,-172.73 602.38,-157.42 624.81,-145.84\"/>\n",
       "<polygon fill=\"#685e1a\" stroke=\"#685e1a\" points=\"626.24,-149.04 633.52,-141.35 623.03,-142.82 626.24,-149.04\"/>\n",
       "<text xml:space=\"preserve\" text-anchor=\"middle\" x=\"582.23\" y=\"-150.42\" font-family=\"Helvetica,Arial,sans-serif\" font-size=\"12.00\" fill=\"#685e1a\">4.00</text>\n",
       "</g>\n",
       "<!-- 5&#45;&gt;4 -->\n",
       "<g id=\"edge12\" class=\"edge\">\n",
       "<title>5&#45;&gt;4</title>\n",
       "<path fill=\"none\" stroke=\"#85511a\" d=\"M504.36,-189.84C477.56,-170.19 436.76,-126.38 417.21,-94.53\"/>\n",
       "<polygon fill=\"#85511a\" stroke=\"#85511a\" points=\"420.35,-92.98 412.39,-85.98 414.25,-96.41 420.35,-92.98\"/>\n",
       "<text xml:space=\"preserve\" text-anchor=\"middle\" x=\"441.6\" y=\"-130.02\" font-family=\"Helvetica,Arial,sans-serif\" font-size=\"12.00\" fill=\"#85511a\">1.00</text>\n",
       "</g>\n",
       "</g>\n",
       "</svg>\n"
      ],
      "text/plain": [
       "<graphviz.graphs.Digraph at 0x12a39c050>"
      ]
     },
     "execution_count": 12,
     "metadata": {},
     "output_type": "execute_result"
    }
   ],
   "source": [
    "graph = Graph.from_matrices(mats.ipv, mats.sim, mats.states)\n",
    "graph.plot()"
   ]
  },
  {
   "cell_type": "markdown",
   "metadata": {},
   "source": [
    "If the state argument is not provided, matrix indices are used as matrix states:"
   ]
  },
  {
   "cell_type": "code",
   "execution_count": 13,
   "metadata": {},
   "outputs": [
    {
     "data": {
      "image/svg+xml": [
       "<?xml version=\"1.0\" encoding=\"UTF-8\" standalone=\"no\"?>\n",
       "<!DOCTYPE svg PUBLIC \"-//W3C//DTD SVG 1.1//EN\"\n",
       " \"http://www.w3.org/Graphics/SVG/1.1/DTD/svg11.dtd\">\n",
       "<!-- Generated by graphviz version 13.1.2 (0)\n",
       " -->\n",
       "<!-- Pages: 1 -->\n",
       "<svg width=\"504pt\" height=\"229pt\"\n",
       " viewBox=\"0.00 0.00 504.00 229.00\" xmlns=\"http://www.w3.org/2000/svg\" xmlns:xlink=\"http://www.w3.org/1999/xlink\">\n",
       "<g id=\"graph0\" class=\"graph\" transform=\"scale(0.666667 0.666667) rotate(0) translate(36 307.2)\">\n",
       "<!-- 0 -->\n",
       "<g id=\"node1\" class=\"node\">\n",
       "<title>0</title>\n",
       "<ellipse fill=\"#eeeeee\" stroke=\"black\" cx=\"27\" cy=\"-184.74\" rx=\"27\" ry=\"18\"/>\n",
       "<text xml:space=\"preserve\" text-anchor=\"middle\" x=\"27\" y=\"-179.72\" font-family=\"Helvetica,Arial,sans-serif\" font-size=\"12.00\">S</text>\n",
       "</g>\n",
       "<!-- 3 -->\n",
       "<g id=\"node2\" class=\"node\">\n",
       "<title>3</title>\n",
       "<ellipse fill=\"#eeeeee\" stroke=\"black\" cx=\"153\" cy=\"-184.74\" rx=\"27\" ry=\"18\"/>\n",
       "<text xml:space=\"preserve\" text-anchor=\"middle\" x=\"153\" y=\"-179.72\" font-family=\"Helvetica,Arial,sans-serif\" font-size=\"12.00\">2</text>\n",
       "</g>\n",
       "<!-- 0&#45;&gt;3 -->\n",
       "<g id=\"edge1\" class=\"edge\">\n",
       "<title>0&#45;&gt;3</title>\n",
       "<path fill=\"none\" stroke=\"#b41c46\" d=\"M54.3,-184.74C71.72,-184.74 94.86,-184.74 114.24,-184.74\"/>\n",
       "<polygon fill=\"#b41c46\" stroke=\"#b41c46\" points=\"114.23,-188.24 124.23,-184.74 114.23,-181.24 114.23,-188.24\"/>\n",
       "<text xml:space=\"preserve\" text-anchor=\"middle\" x=\"78.26\" y=\"-173.34\" font-family=\"Helvetica,Arial,sans-serif\" font-size=\"12.00\" fill=\"#b41c46\">1.00</text>\n",
       "</g>\n",
       "<!-- 2 -->\n",
       "<g id=\"node4\" class=\"node\">\n",
       "<title>2</title>\n",
       "<ellipse fill=\"#eeeeee\" stroke=\"black\" cx=\"279\" cy=\"-130.74\" rx=\"27\" ry=\"18\"/>\n",
       "<text xml:space=\"preserve\" text-anchor=\"middle\" x=\"279\" y=\"-125.72\" font-family=\"Helvetica,Arial,sans-serif\" font-size=\"12.00\">1</text>\n",
       "</g>\n",
       "<!-- 3&#45;&gt;2 -->\n",
       "<g id=\"edge8\" class=\"edge\">\n",
       "<title>3&#45;&gt;2</title>\n",
       "<path fill=\"none\" stroke=\"#235cad\" d=\"M161.76,-167.42C178.37,-147.2 218.16,-126.57 246.56,-120.59\"/>\n",
       "<polygon fill=\"#235cad\" stroke=\"#235cad\" points=\"247.03,-124.06 256.43,-119.18 246.04,-117.13 247.03,-124.06\"/>\n",
       "<text xml:space=\"preserve\" text-anchor=\"middle\" x=\"194.39\" y=\"-124.01\" font-family=\"Helvetica,Arial,sans-serif\" font-size=\"12.00\" fill=\"#235cad\">1.00</text>\n",
       "</g>\n",
       "<!-- 6 -->\n",
       "<g id=\"node5\" class=\"node\">\n",
       "<title>6</title>\n",
       "<ellipse fill=\"#eeeeee\" stroke=\"black\" cx=\"657\" cy=\"-129.74\" rx=\"27\" ry=\"18\"/>\n",
       "<text xml:space=\"preserve\" text-anchor=\"middle\" x=\"657\" y=\"-124.72\" font-family=\"Helvetica,Arial,sans-serif\" font-size=\"12.00\">5</text>\n",
       "</g>\n",
       "<!-- 3&#45;&gt;6 -->\n",
       "<g id=\"edge9\" class=\"edge\">\n",
       "<title>3&#45;&gt;6</title>\n",
       "<path fill=\"none\" stroke=\"#9225ba\" d=\"M174.49,-195.8C235.88,-227.32 422.41,-311.39 558,-247.74 597.72,-229.1 626.91,-185.57 642.67,-156.92\"/>\n",
       "<polygon fill=\"#9225ba\" stroke=\"#9225ba\" points=\"645.57,-158.92 647.15,-148.45 639.38,-155.65 645.57,-158.92\"/>\n",
       "<text xml:space=\"preserve\" text-anchor=\"middle\" x=\"389.07\" y=\"-257.07\" font-family=\"Helvetica,Arial,sans-serif\" font-size=\"12.00\" fill=\"#9225ba\">2.00</text>\n",
       "</g>\n",
       "<!-- 1 -->\n",
       "<g id=\"node3\" class=\"node\">\n",
       "<title>1</title>\n",
       "<ellipse fill=\"#eeeeee\" stroke=\"black\" cx=\"153\" cy=\"-76.74\" rx=\"27\" ry=\"18\"/>\n",
       "<text xml:space=\"preserve\" text-anchor=\"middle\" x=\"153\" y=\"-71.72\" font-family=\"Helvetica,Arial,sans-serif\" font-size=\"12.00\">0</text>\n",
       "</g>\n",
       "<!-- 1&#45;&gt;2 -->\n",
       "<g id=\"edge2\" class=\"edge\">\n",
       "<title>1&#45;&gt;2</title>\n",
       "<path fill=\"none\" stroke=\"#85511a\" d=\"M174.2,-64.98C198.92,-66.54 240.23,-85.19 262.55,-105.45\"/>\n",
       "<polygon fill=\"#85511a\" stroke=\"#85511a\" points=\"259.85,-107.69 269.31,-112.47 264.9,-102.83 259.85,-107.69\"/>\n",
       "<text xml:space=\"preserve\" text-anchor=\"middle\" x=\"214.46\" y=\"-70.05\" font-family=\"Helvetica,Arial,sans-serif\" font-size=\"12.00\" fill=\"#85511a\">1.00</text>\n",
       "</g>\n",
       "<!-- 1&#45;&gt;6 -->\n",
       "<g id=\"edge3\" class=\"edge\">\n",
       "<title>1&#45;&gt;6</title>\n",
       "<path fill=\"none\" stroke=\"#685e1a\" d=\"M174.58,-65.49C220.69,-41.73 335.77,9.65 432,-12.74 509.18,-30.7 588.95,-81.56 629.24,-109.95\"/>\n",
       "<polygon fill=\"#685e1a\" stroke=\"#685e1a\" points=\"626.98,-112.64 637.15,-115.61 631.05,-106.94 626.98,-112.64\"/>\n",
       "<text xml:space=\"preserve\" text-anchor=\"middle\" x=\"420.4\" y=\"-1.35\" font-family=\"Helvetica,Arial,sans-serif\" font-size=\"12.00\" fill=\"#685e1a\">4.00</text>\n",
       "</g>\n",
       "<!-- 2&#45;&gt;3 -->\n",
       "<g id=\"edge5\" class=\"edge\">\n",
       "<title>2&#45;&gt;3</title>\n",
       "<path fill=\"none\" stroke=\"#1b6a48\" d=\"M270.36,-147.93C253.77,-168.24 213.69,-189.01 185.22,-194.94\"/>\n",
       "<polygon fill=\"#1b6a48\" stroke=\"#1b6a48\" points=\"185.1,-191.42 175.7,-196.3 186.09,-198.35 185.1,-191.42\"/>\n",
       "<text xml:space=\"preserve\" text-anchor=\"middle\" x=\"214.32\" y=\"-168.7\" font-family=\"Helvetica,Arial,sans-serif\" font-size=\"12.00\" fill=\"#1b6a48\">1.00</text>\n",
       "</g>\n",
       "<!-- 2&#45;&gt;1 -->\n",
       "<g id=\"edge4\" class=\"edge\">\n",
       "<title>2&#45;&gt;1</title>\n",
       "<path fill=\"none\" stroke=\"#46671a\" d=\"M257.93,-142.52C233.28,-141.01 191.99,-122.41 169.59,-102.18\"/>\n",
       "<polygon fill=\"#46671a\" stroke=\"#46671a\" points=\"172.28,-99.91 162.81,-95.16 167.24,-104.78 172.28,-99.91\"/>\n",
       "<text xml:space=\"preserve\" text-anchor=\"middle\" x=\"217.74\" y=\"-114.73\" font-family=\"Helvetica,Arial,sans-serif\" font-size=\"12.00\" fill=\"#46671a\">1.00</text>\n",
       "</g>\n",
       "<!-- 4 -->\n",
       "<g id=\"node6\" class=\"node\">\n",
       "<title>4</title>\n",
       "<ellipse fill=\"#eeeeee\" stroke=\"black\" cx=\"405\" cy=\"-66.74\" rx=\"27\" ry=\"18\"/>\n",
       "<text xml:space=\"preserve\" text-anchor=\"middle\" x=\"405\" y=\"-61.72\" font-family=\"Helvetica,Arial,sans-serif\" font-size=\"12.00\">3</text>\n",
       "</g>\n",
       "<!-- 2&#45;&gt;4 -->\n",
       "<g id=\"edge6\" class=\"edge\">\n",
       "<title>2&#45;&gt;4</title>\n",
       "<path fill=\"none\" stroke=\"#1d6862\" d=\"M301.03,-119.89C320.72,-109.73 350.38,-94.42 372.81,-82.84\"/>\n",
       "<polygon fill=\"#1d6862\" stroke=\"#1d6862\" points=\"374.24,-86.04 381.52,-78.35 371.03,-79.82 374.24,-86.04\"/>\n",
       "<text xml:space=\"preserve\" text-anchor=\"middle\" x=\"330.23\" y=\"-87.42\" font-family=\"Helvetica,Arial,sans-serif\" font-size=\"12.00\" fill=\"#1d6862\">4.00</text>\n",
       "</g>\n",
       "<!-- 5 -->\n",
       "<g id=\"node7\" class=\"node\">\n",
       "<title>5</title>\n",
       "<ellipse fill=\"#eeeeee\" stroke=\"black\" cx=\"531\" cy=\"-193.74\" rx=\"27\" ry=\"18\"/>\n",
       "<text xml:space=\"preserve\" text-anchor=\"middle\" x=\"531\" y=\"-188.72\" font-family=\"Helvetica,Arial,sans-serif\" font-size=\"12.00\">4</text>\n",
       "</g>\n",
       "<!-- 2&#45;&gt;5 -->\n",
       "<g id=\"edge7\" class=\"edge\">\n",
       "<title>2&#45;&gt;5</title>\n",
       "<path fill=\"none\" stroke=\"#1e6577\" d=\"M304.43,-136.9C348.86,-148.1 443.07,-171.84 494.56,-184.81\"/>\n",
       "<polygon fill=\"#1e6577\" stroke=\"#1e6577\" points=\"493.45,-188.14 504.01,-187.19 495.17,-181.36 493.45,-188.14\"/>\n",
       "<text xml:space=\"preserve\" text-anchor=\"middle\" x=\"393.14\" y=\"-150.79\" font-family=\"Helvetica,Arial,sans-serif\" font-size=\"12.00\" fill=\"#1e6577\">2.00</text>\n",
       "</g>\n",
       "<!-- 4&#45;&gt;6 -->\n",
       "<g id=\"edge11\" class=\"edge\">\n",
       "<title>4&#45;&gt;6</title>\n",
       "<path fill=\"none\" stroke=\"#b41c46\" d=\"M430.43,-72.9C474.86,-84.1 569.07,-107.84 620.56,-120.81\"/>\n",
       "<polygon fill=\"#b41c46\" stroke=\"#b41c46\" points=\"619.45,-124.14 630.01,-123.19 621.17,-117.36 619.45,-124.14\"/>\n",
       "<text xml:space=\"preserve\" text-anchor=\"middle\" x=\"519.14\" y=\"-86.79\" font-family=\"Helvetica,Arial,sans-serif\" font-size=\"12.00\" fill=\"#b41c46\">2.00</text>\n",
       "</g>\n",
       "<!-- 4&#45;&gt;5 -->\n",
       "<g id=\"edge10\" class=\"edge\">\n",
       "<title>4&#45;&gt;5</title>\n",
       "<path fill=\"none\" stroke=\"#a72086\" d=\"M431.69,-70.69C458.58,-90.42 499.52,-134.42 518.99,-166.27\"/>\n",
       "<polygon fill=\"#a72086\" stroke=\"#a72086\" points=\"515.83,-167.8 523.77,-174.82 521.94,-164.38 515.83,-167.8\"/>\n",
       "<text xml:space=\"preserve\" text-anchor=\"middle\" x=\"471.35\" y=\"-107.89\" font-family=\"Helvetica,Arial,sans-serif\" font-size=\"12.00\" fill=\"#a72086\">1.00</text>\n",
       "</g>\n",
       "<!-- 5&#45;&gt;6 -->\n",
       "<g id=\"edge13\" class=\"edge\">\n",
       "<title>5&#45;&gt;6</title>\n",
       "<path fill=\"none\" stroke=\"#685e1a\" d=\"M553.03,-182.89C572.72,-172.73 602.38,-157.42 624.81,-145.84\"/>\n",
       "<polygon fill=\"#685e1a\" stroke=\"#685e1a\" points=\"626.24,-149.04 633.52,-141.35 623.03,-142.82 626.24,-149.04\"/>\n",
       "<text xml:space=\"preserve\" text-anchor=\"middle\" x=\"582.23\" y=\"-150.42\" font-family=\"Helvetica,Arial,sans-serif\" font-size=\"12.00\" fill=\"#685e1a\">4.00</text>\n",
       "</g>\n",
       "<!-- 5&#45;&gt;4 -->\n",
       "<g id=\"edge12\" class=\"edge\">\n",
       "<title>5&#45;&gt;4</title>\n",
       "<path fill=\"none\" stroke=\"#85511a\" d=\"M504.36,-189.84C477.56,-170.19 436.76,-126.38 417.21,-94.53\"/>\n",
       "<polygon fill=\"#85511a\" stroke=\"#85511a\" points=\"420.35,-92.98 412.39,-85.98 414.25,-96.41 420.35,-92.98\"/>\n",
       "<text xml:space=\"preserve\" text-anchor=\"middle\" x=\"441.6\" y=\"-130.02\" font-family=\"Helvetica,Arial,sans-serif\" font-size=\"12.00\" fill=\"#85511a\">1.00</text>\n",
       "</g>\n",
       "</g>\n",
       "</svg>\n"
      ],
      "text/plain": [
       "<graphviz.graphs.Digraph at 0x309e657f0>"
      ]
     },
     "execution_count": 13,
     "metadata": {},
     "output_type": "execute_result"
    }
   ],
   "source": [
    "graph = Graph.from_matrices(mats.ipv, mats.sim)\n",
    "graph.plot()"
   ]
  },
  {
   "cell_type": "markdown",
   "metadata": {},
   "source": [
    "## Continuous phase-type distribution"
   ]
  },
  {
   "cell_type": "code",
   "execution_count": null,
   "metadata": {},
   "outputs": [],
   "source": []
  },
  {
   "cell_type": "markdown",
   "metadata": {},
   "source": [
    "We can now construct the graphs by the function. The flooding rates are set to 2 and 4"
   ]
  },
  {
   "cell_type": "code",
   "execution_count": 14,
   "metadata": {},
   "outputs": [],
   "source": [
    "graph = construct_rabbit_graph(2, 2, 4)"
   ]
  },
  {
   "cell_type": "markdown",
   "metadata": {},
   "source": [
    "Get the number of vertices in the graph:"
   ]
  },
  {
   "cell_type": "code",
   "execution_count": 15,
   "metadata": {},
   "outputs": [
    {
     "data": {
      "text/plain": [
       "7"
      ]
     },
     "execution_count": 15,
     "metadata": {},
     "output_type": "execute_result"
    }
   ],
   "source": [
    "graph.vertices_length()"
   ]
  },
  {
   "cell_type": "markdown",
   "metadata": {},
   "source": [
    "as well as integer vector states that those vertices represent:"
   ]
  },
  {
   "cell_type": "code",
   "execution_count": 16,
   "metadata": {},
   "outputs": [
    {
     "data": {
      "text/plain": [
       "array([[0, 0],\n",
       "       [2, 0],\n",
       "       [1, 1],\n",
       "       [0, 0],\n",
       "       [0, 2],\n",
       "       [0, 1],\n",
       "       [1, 0]], dtype=int32)"
      ]
     },
     "execution_count": 16,
     "metadata": {},
     "output_type": "execute_result"
    }
   ],
   "source": [
    "M = graph.states()\n",
    "M"
   ]
  },
  {
   "cell_type": "markdown",
   "metadata": {},
   "source": [
    "(or nicely as a dataframe):"
   ]
  },
  {
   "cell_type": "code",
   "execution_count": 17,
   "metadata": {},
   "outputs": [
    {
     "data": {
      "text/html": [
       "<div>\n",
       "<style scoped>\n",
       "    .dataframe tbody tr th:only-of-type {\n",
       "        vertical-align: middle;\n",
       "    }\n",
       "\n",
       "    .dataframe tbody tr th {\n",
       "        vertical-align: top;\n",
       "    }\n",
       "\n",
       "    .dataframe thead th {\n",
       "        text-align: right;\n",
       "    }\n",
       "</style>\n",
       "<table border=\"1\" class=\"dataframe\">\n",
       "  <thead>\n",
       "    <tr style=\"text-align: right;\">\n",
       "      <th></th>\n",
       "      <th>Rabbits left</th>\n",
       "      <th>Rabbits right</th>\n",
       "    </tr>\n",
       "  </thead>\n",
       "  <tbody>\n",
       "    <tr>\n",
       "      <th>0</th>\n",
       "      <td>0</td>\n",
       "      <td>0</td>\n",
       "    </tr>\n",
       "    <tr>\n",
       "      <th>1</th>\n",
       "      <td>2</td>\n",
       "      <td>0</td>\n",
       "    </tr>\n",
       "    <tr>\n",
       "      <th>2</th>\n",
       "      <td>1</td>\n",
       "      <td>1</td>\n",
       "    </tr>\n",
       "    <tr>\n",
       "      <th>3</th>\n",
       "      <td>0</td>\n",
       "      <td>0</td>\n",
       "    </tr>\n",
       "    <tr>\n",
       "      <th>4</th>\n",
       "      <td>0</td>\n",
       "      <td>2</td>\n",
       "    </tr>\n",
       "    <tr>\n",
       "      <th>5</th>\n",
       "      <td>0</td>\n",
       "      <td>1</td>\n",
       "    </tr>\n",
       "    <tr>\n",
       "      <th>6</th>\n",
       "      <td>1</td>\n",
       "      <td>0</td>\n",
       "    </tr>\n",
       "  </tbody>\n",
       "</table>\n",
       "</div>"
      ],
      "text/plain": [
       "   Rabbits left  Rabbits right\n",
       "0             0              0\n",
       "1             2              0\n",
       "2             1              1\n",
       "3             0              0\n",
       "4             0              2\n",
       "5             0              1\n",
       "6             1              0"
      ]
     },
     "execution_count": 17,
     "metadata": {},
     "output_type": "execute_result"
    }
   ],
   "source": [
    "pd.DataFrame(M, columns=[\"Rabbits left\", \"Rabbits right\"])#.style.hide()"
   ]
  },
  {
   "cell_type": "markdown",
   "metadata": {},
   "source": [
    "This phase-type distribution models the time until all rabits have died. For convenience, we can get its expectation and variance like this:"
   ]
  },
  {
   "cell_type": "code",
   "execution_count": 18,
   "metadata": {},
   "outputs": [
    {
     "name": "stderr",
     "output_type": "stream",
     "text": [
      "INFO: building reward compute graph...\n"
     ]
    },
    {
     "data": {
      "text/plain": [
       "0.5038265306122448"
      ]
     },
     "execution_count": 18,
     "metadata": {},
     "output_type": "execute_result"
    }
   ],
   "source": [
    "graph.expectation()"
   ]
  },
  {
   "cell_type": "code",
   "execution_count": 19,
   "metadata": {},
   "outputs": [
    {
     "data": {
      "text/plain": [
       "0.2264567497917534"
      ]
     },
     "execution_count": 19,
     "metadata": {},
     "output_type": "execute_result"
    }
   ],
   "source": [
    "graph.variance()"
   ]
  },
  {
   "cell_type": "markdown",
   "metadata": {},
   "source": [
    "But if you want you can get any number of moments like this (here three):"
   ]
  },
  {
   "cell_type": "code",
   "execution_count": 20,
   "metadata": {},
   "outputs": [
    {
     "data": {
      "text/plain": [
       "[0.5038265306122448, 0.48029792274052463, 0.6559101757731152]"
      ]
     },
     "execution_count": 20,
     "metadata": {},
     "output_type": "execute_result"
    }
   ],
   "source": [
    "graph.moments(3)"
   ]
  },
  {
   "cell_type": "markdown",
   "metadata": {},
   "source": [
    "We can find the expected waiting time given that we start in any of the states, not just the starting state:        "
   ]
  },
  {
   "cell_type": "code",
   "execution_count": 21,
   "metadata": {},
   "outputs": [
    {
     "data": {
      "text/plain": [
       "[0.5038265306122448,\n",
       " 0.5038265306122448,\n",
       " 0.5114795918367346,\n",
       " 0.0,\n",
       " 0.30229591836734687,\n",
       " 0.28571428571428564,\n",
       " 0.4285714285714285]"
      ]
     },
     "execution_count": 21,
     "metadata": {},
     "output_type": "execute_result"
    }
   ],
   "source": [
    "graph.expected_waiting_time()"
   ]
  },
  {
   "cell_type": "code",
   "execution_count": null,
   "metadata": {},
   "outputs": [],
   "source": []
  },
  {
   "cell_type": "markdown",
   "metadata": {},
   "source": [
    "We can get the CDF and PDF. The distribution methods reuse cached computations and recompute only if the graph changes. Compare the running times for the first and second call to the function:"
   ]
  },
  {
   "cell_type": "code",
   "execution_count": 22,
   "metadata": {},
   "outputs": [],
   "source": [
    "time = np.arange(0, 4, 0.001)"
   ]
  },
  {
   "cell_type": "code",
   "execution_count": 23,
   "metadata": {},
   "outputs": [
    {
     "name": "stdout",
     "output_type": "stream",
     "text": [
      "CPU times: user 370 μs, sys: 28 μs, total: 398 μs\n",
      "Wall time: 400 μs\n"
     ]
    }
   ],
   "source": [
    "%%time\n",
    "cdf = graph.cdf(time)"
   ]
  },
  {
   "cell_type": "code",
   "execution_count": 24,
   "metadata": {},
   "outputs": [
    {
     "name": "stdout",
     "output_type": "stream",
     "text": [
      "CPU times: user 46 μs, sys: 17 μs, total: 63 μs\n",
      "Wall time: 62 μs\n"
     ]
    }
   ],
   "source": [
    "%%time\n",
    "cdf = graph.cdf(time)"
   ]
  },
  {
   "cell_type": "code",
   "execution_count": 25,
   "metadata": {},
   "outputs": [
    {
     "name": "stdout",
     "output_type": "stream",
     "text": [
      "CPU times: user 46 μs, sys: 19 μs, total: 65 μs\n",
      "Wall time: 61 μs\n"
     ]
    }
   ],
   "source": [
    "%%time\n",
    "pdf = graph.pdf(time)"
   ]
  },
  {
   "cell_type": "markdown",
   "metadata": {},
   "source": [
    "PDF and CDF of distribution. Observe the long tails!"
   ]
  },
  {
   "cell_type": "code",
   "execution_count": 26,
   "metadata": {},
   "outputs": [
    {
     "data": {
      "image/png": "[encoded data removed]",
      "text/plain": [
       "<Figure size 800x300 with 2 Axes>"
      ]
     },
     "metadata": {
      "image/png": {
       "height": 296,
       "width": 671
      }
     },
     "output_type": "display_data"
    }
   ],
   "source": [
    "fig, (ax1, ax2) = plt.subplots(1, 2, figsize=(8, 3))\n",
    "ax1.plot(time, pdf)\n",
    "ax1.set_title(\"PDF\")\n",
    "ax1.set_ylim(bottom=0)\n",
    "ax2.plot(time, cdf)\n",
    "ax2.set_title(\"CDF\")\n",
    "ax2.set_ylim(bottom=0)\n",
    "sns.despine()\n"
   ]
  },
  {
   "cell_type": "markdown",
   "metadata": {},
   "source": [
    "## Rewards"
   ]
  },
  {
   "cell_type": "markdown",
   "metadata": {},
   "source": [
    "We can add rewards which are based on the number of rabbits on the second island."
   ]
  },
  {
   "cell_type": "code",
   "execution_count": 27,
   "metadata": {},
   "outputs": [],
   "source": [
    "rewards = graph.states()[:, 1]"
   ]
  },
  {
   "cell_type": "markdown",
   "metadata": {},
   "source": [
    "Can also be computed like this:"
   ]
  },
  {
   "cell_type": "code",
   "execution_count": 28,
   "metadata": {},
   "outputs": [],
   "source": [
    "rewards = np.array([graph.vertex_at(i).state()[1] for i in range(graph.vertices_length())])"
   ]
  },
  {
   "cell_type": "markdown",
   "metadata": {},
   "source": [
    "Adding these rewards, the phase-type distribution now represent the total accumulated time that any rabbits spends on the right island."
   ]
  },
  {
   "cell_type": "markdown",
   "metadata": {},
   "source": [
    "Using rewards to the moment functions etc. is much faster than changing the graph."
   ]
  },
  {
   "cell_type": "markdown",
   "metadata": {},
   "source": [
    "The expectation and variance are now:"
   ]
  },
  {
   "cell_type": "code",
   "execution_count": 29,
   "metadata": {},
   "outputs": [
    {
     "data": {
      "text/plain": [
       "(0.09438775510204081, 0.04634787588504788)"
      ]
     },
     "execution_count": 29,
     "metadata": {},
     "output_type": "execute_result"
    }
   ],
   "source": [
    "graph.expectation(rewards), graph.variance(rewards)"
   ]
  },
  {
   "cell_type": "markdown",
   "metadata": {},
   "source": [
    "Using rewards to the moment functions etc. is much faster than actually changing the graph, but sometimes we might want to be interested in reward transforming the phase-type distribution, giving us the full distribution of accumulated rewards. For example if we want the pdf/cdf."
   ]
  },
  {
   "cell_type": "code",
   "execution_count": 30,
   "metadata": {},
   "outputs": [],
   "source": [
    "right_graph = graph.reward_transform(rewards)"
   ]
  },
  {
   "cell_type": "markdown",
   "metadata": {},
   "source": [
    "Now we get the expectation and variance from before without adding any rewards:"
   ]
  },
  {
   "cell_type": "code",
   "execution_count": 31,
   "metadata": {},
   "outputs": [
    {
     "name": "stderr",
     "output_type": "stream",
     "text": [
      "INFO: building reward compute graph...\n"
     ]
    },
    {
     "data": {
      "text/plain": [
       "(0.09438775510204078, 0.046347875885047865)"
      ]
     },
     "execution_count": 31,
     "metadata": {},
     "output_type": "execute_result"
    }
   ],
   "source": [
    "right_graph.expectation(), right_graph.variance()"
   ]
  },
  {
   "cell_type": "markdown",
   "metadata": {},
   "source": [
    "We can find the distribution function for the the total accumulate time spent by any rabbit on an island. We show here the PDF and CDF"
   ]
  },
  {
   "cell_type": "code",
   "execution_count": 32,
   "metadata": {},
   "outputs": [],
   "source": [
    "accumulated_rewards = np.arange(0, 2, 0.01)\n",
    "\n",
    "pdf = right_graph.pdf(accumulated_rewards)\n",
    "cdf = right_graph.cdf(accumulated_rewards)"
   ]
  },
  {
   "cell_type": "markdown",
   "metadata": {},
   "source": [
    "PDF and CDF of distribution. Notice how we have a \"defect\" i.e. a probability of obtaining no rewards:"
   ]
  },
  {
   "cell_type": "code",
   "execution_count": 33,
   "metadata": {
    "tags": []
   },
   "outputs": [
    {
     "data": {
      "text/plain": [
       "0.6666666666666666"
      ]
     },
     "execution_count": 33,
     "metadata": {},
     "output_type": "execute_result"
    }
   ],
   "source": [
    "right_graph.defect()"
   ]
  },
  {
   "cell_type": "markdown",
   "metadata": {},
   "source": [
    "The defect is shown with a dotted line below. Remember to always consider this defect."
   ]
  },
  {
   "cell_type": "code",
   "execution_count": 34,
   "metadata": {},
   "outputs": [
    {
     "data": {
      "image/png": "[encoded data removed]",
      "text/plain": [
       "<Figure size 800x300 with 2 Axes>"
      ]
     },
     "metadata": {
      "image/png": {
       "height": 296,
       "width": 671
      }
     },
     "output_type": "display_data"
    }
   ],
   "source": [
    "fig, (ax1, ax2) = plt.subplots(1, 2, figsize=(8, 3), sharey=True)\n",
    "ax1.plot(accumulated_rewards, pdf)\n",
    "ax1.set_title(\"PDF\")\n",
    "ax1.set_ylim(bottom=0)\n",
    "ax2.plot(accumulated_rewards, cdf)\n",
    "ax2.set_title(\"CDF\")\n",
    "ax2.set_ylim(bottom=0)\n",
    "ax2.axhline(y=right_graph.defect(), linestyle='dotted', color='black')\n",
    "sns.despine()"
   ]
  },
  {
   "cell_type": "markdown",
   "metadata": {},
   "source": [
    "There are also utility methods to get the stop probability i.e. probabilities of occupying each state at time t. "
   ]
  },
  {
   "cell_type": "code",
   "execution_count": 35,
   "metadata": {},
   "outputs": [
    {
     "data": {
      "text/plain": [
       "[0.0,\n",
       " 0.5561531639166896,\n",
       " 0.07040541534825098,\n",
       " 0.0,\n",
       " 0.007095725804629082,\n",
       " 0.016348108066650276,\n",
       " 0.03374890558205247]"
      ]
     },
     "execution_count": 35,
     "metadata": {},
     "output_type": "execute_result"
    }
   ],
   "source": [
    "graph.stop_probability(0.2)"
   ]
  },
  {
   "cell_type": "markdown",
   "metadata": {},
   "source": [
    "We can use that to compute the expected number of rabbits across time:"
   ]
  },
  {
   "cell_type": "code",
   "execution_count": 36,
   "metadata": {},
   "outputs": [
    {
     "data": {
      "image/png": "[encoded data removed]",
      "text/plain": [
       "<Figure size 400x300 with 1 Axes>"
      ]
     },
     "metadata": {
      "image/png": {
       "height": 294,
       "width": 385
      }
     },
     "output_type": "display_data"
    }
   ],
   "source": [
    "times = np.arange(0, 2, 0.05)\n",
    "expected_rabbits_left = [\n",
    "    np.sum(graph.stop_probability(i) \n",
    "           * np.sum(graph.states(), axis=1)) \n",
    "    for i in times\n",
    "    ]\n",
    "\n",
    "fig, ax = plt.subplots(1, 1, figsize=(4, 3))\n",
    "ax.plot(times, expected_rabbits_left)\n",
    "ax.set_xlabel('time')\n",
    "ax.set_ylabel(\"Expected nr rabbits\")\n",
    "sns.despine()\n"
   ]
  },
  {
   "cell_type": "markdown",
   "metadata": {},
   "source": [
    "We can also get the accumulated visiting time of a particular state. E.g. the total time before time t=0.5 where there was a rabbit on the right island:"
   ]
  },
  {
   "cell_type": "code",
   "execution_count": 37,
   "metadata": {},
   "outputs": [
    {
     "data": {
      "text/plain": [
       "np.float64(0.04053231796047568)"
      ]
     },
     "execution_count": 37,
     "metadata": {},
     "output_type": "execute_result"
    }
   ],
   "source": [
    "rewards = (graph.states()[:,1]>0).astype(int)\n",
    "np.sum(graph.accumulated_visiting_time(time=0.5) * rewards)"
   ]
  },
  {
   "cell_type": "code",
   "execution_count": 38,
   "metadata": {},
   "outputs": [
    {
     "data": {
      "text/plain": [
       "[0.0, 0.5038265306122448, 0.0, 0.0, 0.0, 0.0, 0.0]"
      ]
     },
     "execution_count": 38,
     "metadata": {},
     "output_type": "execute_result"
    }
   ],
   "source": [
    "graph.expected_residence_time()"
   ]
  },
  {
   "cell_type": "markdown",
   "metadata": {},
   "source": [
    "# Random sampling"
   ]
  },
  {
   "cell_type": "markdown",
   "metadata": {},
   "source": [
    "The library includes functions to do random sampling. These are useful to also validate the computations"
   ]
  },
  {
   "cell_type": "code",
   "execution_count": 39,
   "metadata": {},
   "outputs": [
    {
     "data": {
      "text/plain": [
       "[0.10654450534134478,\n",
       " 0.2096468961770757,\n",
       " 0.15551459579961166,\n",
       " 0.1302728624634086,\n",
       " 0.008689251706179528]"
      ]
     },
     "execution_count": 39,
     "metadata": {},
     "output_type": "execute_result"
    }
   ],
   "source": [
    "graph.sample(5)"
   ]
  },
  {
   "cell_type": "code",
   "execution_count": 40,
   "metadata": {},
   "outputs": [
    {
     "data": {
      "image/png": "[encoded data removed]",
      "text/plain": [
       "<Figure size 400x300 with 1 Axes>"
      ]
     },
     "metadata": {
      "image/png": {
       "height": 274,
       "width": 372
      }
     },
     "output_type": "display_data"
    }
   ],
   "source": [
    "fig, ax = plt.subplots(figsize=(4, 3))\n",
    "samples = graph.sample(1000000)\n",
    "\n",
    "ax.hist(samples, bins=50, density=True, label='Samples')\n",
    "x = np.arange(0, 2, 0.05)\n",
    "\n",
    "ax.plot(x, [graph.pdf(t) for t in x], label='PDF')\n",
    "\n",
    "ax.set_xlim(0, 2)\n",
    "ax.legend()\n",
    "sns.despine()"
   ]
  },
  {
   "cell_type": "markdown",
   "metadata": {},
   "source": [
    "You can produce the moments from sampling if needed. Compare to the sampled and exact second moments:"
   ]
  },
  {
   "cell_type": "code",
   "execution_count": 41,
   "metadata": {},
   "outputs": [
    {
     "data": {
      "text/plain": [
       "(np.float64(0.4802356496588736), 0.48029792274052463)"
      ]
     },
     "execution_count": 41,
     "metadata": {},
     "output_type": "execute_result"
    }
   ],
   "source": [
    "np.sum(np.array(graph.sample(1000000))**2)/1000000, graph.moments(2)[1]"
   ]
  },
  {
   "cell_type": "code",
   "execution_count": 42,
   "metadata": {},
   "outputs": [
    {
     "data": {
      "text/plain": [
       "(np.float64(0.05480396506822537), 0.055256924198250706)"
      ]
     },
     "execution_count": 42,
     "metadata": {},
     "output_type": "execute_result"
    }
   ],
   "source": [
    "rewards = graph.states()[:,1]\n",
    "np.sum(np.array(graph.sample(1000000, rewards))**2)/1000000, graph.moments(2, rewards)[1]"
   ]
  },
  {
   "cell_type": "markdown",
   "metadata": {},
   "source": [
    "Reward-transforming first and then computing without rewards achieves the same thing:"
   ]
  },
  {
   "cell_type": "code",
   "execution_count": 43,
   "metadata": {},
   "outputs": [
    {
     "name": "stderr",
     "output_type": "stream",
     "text": [
      "INFO: building reward compute graph...\n"
     ]
    },
    {
     "data": {
      "text/plain": [
       "(np.float64(0.05577553177571136), 0.05525692419825069)"
      ]
     },
     "execution_count": 43,
     "metadata": {},
     "output_type": "execute_result"
    }
   ],
   "source": [
    "revtr_graph = graph.reward_transform(rewards)\n",
    "np.sum(np.array(revtr_graph.sample(1000000))**2)/1000000, revtr_graph.moments(2)[1]"
   ]
  },
  {
   "cell_type": "markdown",
   "metadata": {},
   "source": [
    "## Discrete phase-type distributions"
   ]
  },
  {
   "cell_type": "markdown",
   "metadata": {},
   "source": [
    "We can also work with discrete phase-type distributions. This is the number of jumps in a Markov Chain before absorption. We will model that any rabbit can find a carrot at each time with rate 0.1 and see how many carrots the rabbits will have found. We could of course just make a new state-space creation function, but we can also manipulate existing."
   ]
  },
  {
   "cell_type": "code",
   "execution_count": 44,
   "metadata": {},
   "outputs": [],
   "source": [
    "carrot_graph = graph.copy()\n",
    "vlength = carrot_graph.vertices_length()\n",
    "carrot_vertices = np.repeat(False, vlength*2)\n",
    "\n",
    "\n",
    "for i in range(vlength):\n",
    "    vertex = carrot_graph.vertex_at(i)\n",
    "    rabbits = sum(vertex.state())\n",
    "    \n",
    "    if rabbits > 0:\n",
    "        obtained_carrot_vertex = carrot_graph.create_vertex([0])\n",
    "        # Go directly back to the state we came from\n",
    "        obtained_carrot_vertex.add_edge(vertex, 1)\n",
    "        # Rate of finding carrot\n",
    "        vertex.add_edge(obtained_carrot_vertex, rabbits * 0.1)\n",
    "        carrot_vertices[obtained_carrot_vertex.index()] = True"
   ]
  },
  {
   "cell_type": "code",
   "execution_count": 45,
   "metadata": {},
   "outputs": [
    {
     "data": {
      "image/svg+xml": [
       "<?xml version=\"1.0\" encoding=\"UTF-8\" standalone=\"no\"?>\n",
       "<!DOCTYPE svg PUBLIC \"-//W3C//DTD SVG 1.1//EN\"\n",
       " \"http://www.w3.org/Graphics/SVG/1.1/DTD/svg11.dtd\">\n",
       "<!-- Generated by graphviz version 13.1.2 (0)\n",
       " -->\n",
       "<!-- Pages: 1 -->\n",
       "<svg width=\"504pt\" height=\"430pt\"\n",
       " viewBox=\"0.00 0.00 504.00 430.00\" xmlns=\"http://www.w3.org/2000/svg\" xmlns:xlink=\"http://www.w3.org/1999/xlink\">\n",
       "<g id=\"graph0\" class=\"graph\" transform=\"scale(0.666667 0.666667) rotate(0) translate(36 609.43)\">\n",
       "<!-- 0 -->\n",
       "<g id=\"node1\" class=\"node\">\n",
       "<title>0</title>\n",
       "<ellipse fill=\"#eeeeee\" stroke=\"black\" cx=\"27\" cy=\"-401.75\" rx=\"27\" ry=\"18\"/>\n",
       "<text xml:space=\"preserve\" text-anchor=\"middle\" x=\"27\" y=\"-396.72\" font-family=\"Helvetica,Arial,sans-serif\" font-size=\"12.00\">S</text>\n",
       "</g>\n",
       "<!-- 1 -->\n",
       "<g id=\"node2\" class=\"node\">\n",
       "<title>1</title>\n",
       "<ellipse fill=\"#eeeeee\" stroke=\"black\" cx=\"153\" cy=\"-401.75\" rx=\"27\" ry=\"18\"/>\n",
       "<text xml:space=\"preserve\" text-anchor=\"middle\" x=\"153\" y=\"-396.72\" font-family=\"Helvetica,Arial,sans-serif\" font-size=\"12.00\">2,0</text>\n",
       "</g>\n",
       "<!-- 0&#45;&gt;1 -->\n",
       "<g id=\"edge1\" class=\"edge\">\n",
       "<title>0&#45;&gt;1</title>\n",
       "<path fill=\"none\" stroke=\"#b41c46\" d=\"M54.3,-401.75C71.72,-401.75 94.86,-401.75 114.24,-401.75\"/>\n",
       "<polygon fill=\"#b41c46\" stroke=\"#b41c46\" points=\"114.23,-405.25 124.23,-401.75 114.23,-398.25 114.23,-405.25\"/>\n",
       "<text xml:space=\"preserve\" text-anchor=\"middle\" x=\"78.26\" y=\"-390.35\" font-family=\"Helvetica,Arial,sans-serif\" font-size=\"12.00\" fill=\"#b41c46\">1.00</text>\n",
       "</g>\n",
       "<!-- 2 -->\n",
       "<g id=\"node3\" class=\"node\">\n",
       "<title>2</title>\n",
       "<ellipse fill=\"#eeeeee\" stroke=\"black\" cx=\"279\" cy=\"-401.75\" rx=\"27\" ry=\"18\"/>\n",
       "<text xml:space=\"preserve\" text-anchor=\"middle\" x=\"279\" y=\"-396.72\" font-family=\"Helvetica,Arial,sans-serif\" font-size=\"12.00\">1,1</text>\n",
       "</g>\n",
       "<!-- 1&#45;&gt;2 -->\n",
       "<g id=\"edge2\" class=\"edge\">\n",
       "<title>1&#45;&gt;2</title>\n",
       "<path fill=\"none\" stroke=\"#85511a\" d=\"M165.44,-385.3C186.11,-372.99 229.98,-371.45 256.43,-380.69\"/>\n",
       "<polygon fill=\"#85511a\" stroke=\"#85511a\" points=\"254.66,-383.73 265.21,-384.69 257.55,-377.36 254.66,-383.73\"/>\n",
       "<text xml:space=\"preserve\" text-anchor=\"middle\" x=\"204.28\" y=\"-363.35\" font-family=\"Helvetica,Arial,sans-serif\" font-size=\"12.00\" fill=\"#85511a\">1.00</text>\n",
       "</g>\n",
       "<!-- 3 -->\n",
       "<g id=\"node4\" class=\"node\">\n",
       "<title>3</title>\n",
       "<ellipse fill=\"#eeeeee\" stroke=\"black\" cx=\"657\" cy=\"-401.75\" rx=\"27\" ry=\"18\"/>\n",
       "<text xml:space=\"preserve\" text-anchor=\"middle\" x=\"657\" y=\"-396.72\" font-family=\"Helvetica,Arial,sans-serif\" font-size=\"12.00\">0,0</text>\n",
       "</g>\n",
       "<!-- 1&#45;&gt;3 -->\n",
       "<g id=\"edge3\" class=\"edge\">\n",
       "<title>1&#45;&gt;3</title>\n",
       "<path fill=\"none\" stroke=\"#685e1a\" d=\"M168.11,-417.11C200.9,-451.53 286.45,-534.11 378,-563.75 457.11,-589.36 490.14,-560.8 558,-512.75 591.34,-489.15 621.05,-452.08 638.79,-427.35\"/>\n",
       "<polygon fill=\"#685e1a\" stroke=\"#685e1a\" points=\"641.45,-429.65 644.33,-419.46 635.72,-425.63 641.45,-429.65\"/>\n",
       "<text xml:space=\"preserve\" text-anchor=\"middle\" x=\"366.38\" y=\"-552.35\" font-family=\"Helvetica,Arial,sans-serif\" font-size=\"12.00\" fill=\"#685e1a\">2.00</text>\n",
       "</g>\n",
       "<!-- 7 -->\n",
       "<g id=\"node5\" class=\"node\">\n",
       "<title>7</title>\n",
       "<ellipse fill=\"#eeeeee\" stroke=\"black\" cx=\"279\" cy=\"-293.75\" rx=\"27\" ry=\"18\"/>\n",
       "<text xml:space=\"preserve\" text-anchor=\"middle\" x=\"279\" y=\"-288.72\" font-family=\"Helvetica,Arial,sans-serif\" font-size=\"12.00\">0,0</text>\n",
       "</g>\n",
       "<!-- 1&#45;&gt;7 -->\n",
       "<g id=\"edge4\" class=\"edge\">\n",
       "<title>1&#45;&gt;7</title>\n",
       "<path fill=\"none\" stroke=\"#46671a\" d=\"M159.98,-384.1C174.58,-357.87 212.99,-320.31 242.06,-300.29\"/>\n",
       "<polygon fill=\"#46671a\" stroke=\"#46671a\" points=\"243.72,-303.39 250.24,-295.04 239.93,-297.5 243.72,-303.39\"/>\n",
       "<text xml:space=\"preserve\" text-anchor=\"middle\" x=\"177.34\" y=\"-323.17\" font-family=\"Helvetica,Arial,sans-serif\" font-size=\"12.00\" fill=\"#46671a\">2.00e&#45;01</text>\n",
       "</g>\n",
       "<!-- 2&#45;&gt;1 -->\n",
       "<g id=\"edge7\" class=\"edge\">\n",
       "<title>2&#45;&gt;1</title>\n",
       "<path fill=\"none\" stroke=\"#1e6577\" d=\"M266.58,-418.19C245.94,-430.51 202.07,-432.05 175.6,-422.82\"/>\n",
       "<polygon fill=\"#1e6577\" stroke=\"#1e6577\" points=\"177.37,-419.78 166.82,-418.83 174.48,-426.15 177.37,-419.78\"/>\n",
       "<text xml:space=\"preserve\" text-anchor=\"middle\" x=\"204.51\" y=\"-417.35\" font-family=\"Helvetica,Arial,sans-serif\" font-size=\"12.00\" fill=\"#1e6577\">1.00</text>\n",
       "</g>\n",
       "<!-- 4 -->\n",
       "<g id=\"node6\" class=\"node\">\n",
       "<title>4</title>\n",
       "<ellipse fill=\"#eeeeee\" stroke=\"black\" cx=\"405\" cy=\"-401.75\" rx=\"27\" ry=\"18\"/>\n",
       "<text xml:space=\"preserve\" text-anchor=\"middle\" x=\"405\" y=\"-396.72\" font-family=\"Helvetica,Arial,sans-serif\" font-size=\"12.00\">0,2</text>\n",
       "</g>\n",
       "<!-- 2&#45;&gt;4 -->\n",
       "<g id=\"edge5\" class=\"edge\">\n",
       "<title>2&#45;&gt;4</title>\n",
       "<path fill=\"none\" stroke=\"#1b6a48\" d=\"M291.44,-385.3C312.11,-372.99 355.98,-371.45 382.43,-380.69\"/>\n",
       "<polygon fill=\"#1b6a48\" stroke=\"#1b6a48\" points=\"380.66,-383.73 391.21,-384.69 383.55,-377.36 380.66,-383.73\"/>\n",
       "<text xml:space=\"preserve\" text-anchor=\"middle\" x=\"330.28\" y=\"-363.35\" font-family=\"Helvetica,Arial,sans-serif\" font-size=\"12.00\" fill=\"#1b6a48\">1.00</text>\n",
       "</g>\n",
       "<!-- 5 -->\n",
       "<g id=\"node7\" class=\"node\">\n",
       "<title>5</title>\n",
       "<ellipse fill=\"#eeeeee\" stroke=\"black\" cx=\"405\" cy=\"-157.75\" rx=\"27\" ry=\"18\"/>\n",
       "<text xml:space=\"preserve\" text-anchor=\"middle\" x=\"405\" y=\"-152.72\" font-family=\"Helvetica,Arial,sans-serif\" font-size=\"12.00\">0,1</text>\n",
       "</g>\n",
       "<!-- 2&#45;&gt;5 -->\n",
       "<g id=\"edge6\" class=\"edge\">\n",
       "<title>2&#45;&gt;5</title>\n",
       "<path fill=\"none\" stroke=\"#1d6862\" d=\"M288.72,-384.59C309.93,-342.85 364.37,-235.74 390.11,-185.08\"/>\n",
       "<polygon fill=\"#1d6862\" stroke=\"#1d6862\" points=\"393.19,-186.74 394.6,-176.24 386.95,-183.57 393.19,-186.74\"/>\n",
       "<text xml:space=\"preserve\" text-anchor=\"middle\" x=\"330.43\" y=\"-268.24\" font-family=\"Helvetica,Arial,sans-serif\" font-size=\"12.00\" fill=\"#1d6862\">2.00</text>\n",
       "</g>\n",
       "<!-- 6 -->\n",
       "<g id=\"node8\" class=\"node\">\n",
       "<title>6</title>\n",
       "<ellipse fill=\"#eeeeee\" stroke=\"black\" cx=\"531\" cy=\"-39.75\" rx=\"27\" ry=\"18\"/>\n",
       "<text xml:space=\"preserve\" text-anchor=\"middle\" x=\"531\" y=\"-34.72\" font-family=\"Helvetica,Arial,sans-serif\" font-size=\"12.00\">1,0</text>\n",
       "</g>\n",
       "<!-- 2&#45;&gt;6 -->\n",
       "<g id=\"edge8\" class=\"edge\">\n",
       "<title>2&#45;&gt;6</title>\n",
       "<path fill=\"none\" stroke=\"#235cad\" d=\"M288.91,-385.04C294.3,-374.52 301.06,-360.57 306,-347.75 346.66,-242.25 302.63,-188.03 378,-103.75 408.09,-70.1 458.78,-53.62 493.27,-45.93\"/>\n",
       "<polygon fill=\"#235cad\" stroke=\"#235cad\" points=\"493.73,-49.41 502.82,-43.95 492.31,-42.55 493.73,-49.41\"/>\n",
       "<text xml:space=\"preserve\" text-anchor=\"middle\" x=\"318.7\" y=\"-194.24\" font-family=\"Helvetica,Arial,sans-serif\" font-size=\"12.00\" fill=\"#235cad\">4.00</text>\n",
       "</g>\n",
       "<!-- 8 -->\n",
       "<g id=\"node9\" class=\"node\">\n",
       "<title>8</title>\n",
       "<ellipse fill=\"#eeeeee\" stroke=\"black\" cx=\"405\" cy=\"-509.75\" rx=\"27\" ry=\"18\"/>\n",
       "<text xml:space=\"preserve\" text-anchor=\"middle\" x=\"405\" y=\"-504.72\" font-family=\"Helvetica,Arial,sans-serif\" font-size=\"12.00\">0,0</text>\n",
       "</g>\n",
       "<!-- 2&#45;&gt;8 -->\n",
       "<g id=\"edge9\" class=\"edge\">\n",
       "<title>2&#45;&gt;8</title>\n",
       "<path fill=\"none\" stroke=\"#9225ba\" d=\"M306.3,-402.11C332.75,-417.68 372.36,-454.11 392.03,-482.57\"/>\n",
       "<polygon fill=\"#9225ba\" stroke=\"#9225ba\" points=\"389.02,-484.36 397.3,-490.97 394.95,-480.64 389.02,-484.36\"/>\n",
       "<text xml:space=\"preserve\" text-anchor=\"middle\" x=\"333.19\" y=\"-430.95\" font-family=\"Helvetica,Arial,sans-serif\" font-size=\"12.00\" fill=\"#9225ba\">2.00e&#45;01</text>\n",
       "</g>\n",
       "<!-- 7&#45;&gt;1 -->\n",
       "<g id=\"edge19\" class=\"edge\">\n",
       "<title>7&#45;&gt;1</title>\n",
       "<path fill=\"none\" stroke=\"#9225ba\" d=\"M272.1,-311.25C257.53,-337.54 218.91,-375.3 189.77,-395.32\"/>\n",
       "<polygon fill=\"#9225ba\" stroke=\"#9225ba\" points=\"188.1,-392.23 181.57,-400.57 191.88,-398.13 188.1,-392.23\"/>\n",
       "<text xml:space=\"preserve\" text-anchor=\"middle\" x=\"219.39\" y=\"-349.55\" font-family=\"Helvetica,Arial,sans-serif\" font-size=\"12.00\" fill=\"#9225ba\">1.00</text>\n",
       "</g>\n",
       "<!-- 4&#45;&gt;2 -->\n",
       "<g id=\"edge10\" class=\"edge\">\n",
       "<title>4&#45;&gt;2</title>\n",
       "<path fill=\"none\" stroke=\"#a72086\" d=\"M392.58,-418.19C371.94,-430.51 328.07,-432.05 301.6,-422.82\"/>\n",
       "<polygon fill=\"#a72086\" stroke=\"#a72086\" points=\"303.37,-419.78 292.82,-418.83 300.48,-426.15 303.37,-419.78\"/>\n",
       "<text xml:space=\"preserve\" text-anchor=\"middle\" x=\"330.51\" y=\"-417.35\" font-family=\"Helvetica,Arial,sans-serif\" font-size=\"12.00\" fill=\"#a72086\">1.00</text>\n",
       "</g>\n",
       "<!-- 4&#45;&gt;3 -->\n",
       "<g id=\"edge11\" class=\"edge\">\n",
       "<title>4&#45;&gt;3</title>\n",
       "<path fill=\"none\" stroke=\"#b41c46\" d=\"M423.61,-415.07C442.37,-428.37 473.52,-447.91 504,-455.75 527.24,-461.73 534.76,-461.73 558,-455.75 583.83,-449.1 610.15,-434.05 629,-421.52\"/>\n",
       "<polygon fill=\"#b41c46\" stroke=\"#b41c46\" points=\"630.88,-424.48 637.14,-415.93 626.92,-418.7 630.88,-424.48\"/>\n",
       "<text xml:space=\"preserve\" text-anchor=\"middle\" x=\"519.38\" y=\"-448.83\" font-family=\"Helvetica,Arial,sans-serif\" font-size=\"12.00\" fill=\"#b41c46\">4.00</text>\n",
       "</g>\n",
       "<!-- 9 -->\n",
       "<g id=\"node10\" class=\"node\">\n",
       "<title>9</title>\n",
       "<ellipse fill=\"#eeeeee\" stroke=\"black\" cx=\"531\" cy=\"-401.75\" rx=\"27\" ry=\"18\"/>\n",
       "<text xml:space=\"preserve\" text-anchor=\"middle\" x=\"531\" y=\"-396.72\" font-family=\"Helvetica,Arial,sans-serif\" font-size=\"12.00\">0,0</text>\n",
       "</g>\n",
       "<!-- 4&#45;&gt;9 -->\n",
       "<g id=\"edge12\" class=\"edge\">\n",
       "<title>4&#45;&gt;9</title>\n",
       "<path fill=\"none\" stroke=\"#85511a\" d=\"M417.44,-385.3C438.11,-372.99 481.98,-371.45 508.43,-380.69\"/>\n",
       "<polygon fill=\"#85511a\" stroke=\"#85511a\" points=\"506.66,-383.73 517.21,-384.69 509.55,-377.36 506.66,-383.73\"/>\n",
       "<text xml:space=\"preserve\" text-anchor=\"middle\" x=\"444.28\" y=\"-363.35\" font-family=\"Helvetica,Arial,sans-serif\" font-size=\"12.00\" fill=\"#85511a\">2.00e&#45;01</text>\n",
       "</g>\n",
       "<!-- 5&#45;&gt;3 -->\n",
       "<g id=\"edge14\" class=\"edge\">\n",
       "<title>5&#45;&gt;3</title>\n",
       "<path fill=\"none\" stroke=\"#46671a\" d=\"M421.26,-172.65C463.55,-213.92 582.44,-329.96 632.9,-379.2\"/>\n",
       "<polygon fill=\"#46671a\" stroke=\"#46671a\" points=\"630.25,-381.51 639.85,-385.99 635.14,-376.5 630.25,-381.51\"/>\n",
       "<text xml:space=\"preserve\" text-anchor=\"middle\" x=\"519.66\" y=\"-268.63\" font-family=\"Helvetica,Arial,sans-serif\" font-size=\"12.00\" fill=\"#46671a\">4.00</text>\n",
       "</g>\n",
       "<!-- 5&#45;&gt;6 -->\n",
       "<g id=\"edge13\" class=\"edge\">\n",
       "<title>5&#45;&gt;6</title>\n",
       "<path fill=\"none\" stroke=\"#685e1a\" d=\"M411.81,-139.93C426.42,-112.28 465.56,-70.92 494.83,-48.61\"/>\n",
       "<polygon fill=\"#685e1a\" stroke=\"#685e1a\" points=\"496.62,-51.63 502.71,-42.96 492.54,-45.94 496.62,-51.63\"/>\n",
       "<text xml:space=\"preserve\" text-anchor=\"middle\" x=\"441.63\" y=\"-75.07\" font-family=\"Helvetica,Arial,sans-serif\" font-size=\"12.00\" fill=\"#685e1a\">1.00</text>\n",
       "</g>\n",
       "<!-- 10 -->\n",
       "<g id=\"node11\" class=\"node\">\n",
       "<title>10</title>\n",
       "<ellipse fill=\"#eeeeee\" stroke=\"black\" cx=\"531\" cy=\"-147.75\" rx=\"27\" ry=\"18\"/>\n",
       "<text xml:space=\"preserve\" text-anchor=\"middle\" x=\"531\" y=\"-142.72\" font-family=\"Helvetica,Arial,sans-serif\" font-size=\"12.00\">0,0</text>\n",
       "</g>\n",
       "<!-- 5&#45;&gt;10 -->\n",
       "<g id=\"edge15\" class=\"edge\">\n",
       "<title>5&#45;&gt;10</title>\n",
       "<path fill=\"none\" stroke=\"#1b6a48\" d=\"M416.57,-140.98C436.47,-126.82 479.9,-121.43 506.87,-128.03\"/>\n",
       "<polygon fill=\"#1b6a48\" stroke=\"#1b6a48\" points=\"505.61,-131.3 516.21,-131.27 507.91,-124.69 505.61,-131.3\"/>\n",
       "<text xml:space=\"preserve\" text-anchor=\"middle\" x=\"442.54\" y=\"-114.51\" font-family=\"Helvetica,Arial,sans-serif\" font-size=\"12.00\" fill=\"#1b6a48\">1.00e&#45;01</text>\n",
       "</g>\n",
       "<!-- 6&#45;&gt;3 -->\n",
       "<g id=\"edge17\" class=\"edge\">\n",
       "<title>6&#45;&gt;3</title>\n",
       "<path fill=\"none\" stroke=\"#1e6577\" d=\"M540.82,-56.5C546.17,-67.03 552.93,-80.99 558,-93.75 597.88,-194.07 633.17,-317.55 648.24,-372.73\"/>\n",
       "<polygon fill=\"#1e6577\" stroke=\"#1e6577\" points=\"644.83,-373.54 650.83,-382.27 651.59,-371.71 644.83,-373.54\"/>\n",
       "<text xml:space=\"preserve\" text-anchor=\"middle\" x=\"590.67\" y=\"-206.9\" font-family=\"Helvetica,Arial,sans-serif\" font-size=\"12.00\" fill=\"#1e6577\">2.00</text>\n",
       "</g>\n",
       "<!-- 6&#45;&gt;5 -->\n",
       "<g id=\"edge16\" class=\"edge\">\n",
       "<title>6&#45;&gt;5</title>\n",
       "<path fill=\"none\" stroke=\"#1d6862\" d=\"M524.3,-57.34C509.79,-85.01 470.48,-126.57 441.13,-148.93\"/>\n",
       "<polygon fill=\"#1d6862\" stroke=\"#1d6862\" points=\"439.32,-145.92 433.22,-154.59 443.39,-151.61 439.32,-145.92\"/>\n",
       "<text xml:space=\"preserve\" text-anchor=\"middle\" x=\"471.2\" y=\"-99.54\" font-family=\"Helvetica,Arial,sans-serif\" font-size=\"12.00\" fill=\"#1d6862\">1.00</text>\n",
       "</g>\n",
       "<!-- 11 -->\n",
       "<g id=\"node12\" class=\"node\">\n",
       "<title>11</title>\n",
       "<ellipse fill=\"#eeeeee\" stroke=\"black\" cx=\"657\" cy=\"-39.75\" rx=\"27\" ry=\"18\"/>\n",
       "<text xml:space=\"preserve\" text-anchor=\"middle\" x=\"657\" y=\"-34.72\" font-family=\"Helvetica,Arial,sans-serif\" font-size=\"12.00\">0,0</text>\n",
       "</g>\n",
       "<!-- 6&#45;&gt;11 -->\n",
       "<g id=\"edge18\" class=\"edge\">\n",
       "<title>6&#45;&gt;11</title>\n",
       "<path fill=\"none\" stroke=\"#235cad\" d=\"M543.44,-23.3C564.11,-10.99 607.98,-9.45 634.43,-18.69\"/>\n",
       "<polygon fill=\"#235cad\" stroke=\"#235cad\" points=\"632.66,-21.73 643.21,-22.69 635.55,-15.36 632.66,-21.73\"/>\n",
       "<text xml:space=\"preserve\" text-anchor=\"middle\" x=\"570.28\" y=\"-1.35\" font-family=\"Helvetica,Arial,sans-serif\" font-size=\"12.00\" fill=\"#235cad\">1.00e&#45;01</text>\n",
       "</g>\n",
       "<!-- 8&#45;&gt;2 -->\n",
       "<g id=\"edge20\" class=\"edge\">\n",
       "<title>8&#45;&gt;2</title>\n",
       "<path fill=\"none\" stroke=\"#a72086\" d=\"M377.51,-509.28C351.1,-493.67 311.71,-457.43 292.05,-429.06\"/>\n",
       "<polygon fill=\"#a72086\" stroke=\"#a72086\" points=\"295.07,-427.28 286.79,-420.68 289.15,-431.01 295.07,-427.28\"/>\n",
       "<text xml:space=\"preserve\" text-anchor=\"middle\" x=\"315.54\" y=\"-457.73\" font-family=\"Helvetica,Arial,sans-serif\" font-size=\"12.00\" fill=\"#a72086\">1.00</text>\n",
       "</g>\n",
       "<!-- 9&#45;&gt;4 -->\n",
       "<g id=\"edge21\" class=\"edge\">\n",
       "<title>9&#45;&gt;4</title>\n",
       "<path fill=\"none\" stroke=\"#b41c46\" d=\"M518.58,-418.19C497.94,-430.51 454.07,-432.05 427.6,-422.82\"/>\n",
       "<polygon fill=\"#b41c46\" stroke=\"#b41c46\" points=\"429.37,-419.78 418.82,-418.83 426.48,-426.15 429.37,-419.78\"/>\n",
       "<text xml:space=\"preserve\" text-anchor=\"middle\" x=\"456.51\" y=\"-417.35\" font-family=\"Helvetica,Arial,sans-serif\" font-size=\"12.00\" fill=\"#b41c46\">1.00</text>\n",
       "</g>\n",
       "<!-- 10&#45;&gt;5 -->\n",
       "<g id=\"edge22\" class=\"edge\">\n",
       "<title>10&#45;&gt;5</title>\n",
       "<path fill=\"none\" stroke=\"#85511a\" d=\"M519.48,-164.48C499.61,-178.67 456.11,-184.08 429.12,-177.46\"/>\n",
       "<polygon fill=\"#85511a\" stroke=\"#85511a\" points=\"430.37,-174.19 419.77,-174.22 428.07,-180.81 430.37,-174.19\"/>\n",
       "<text xml:space=\"preserve\" text-anchor=\"middle\" x=\"458.25\" y=\"-168.19\" font-family=\"Helvetica,Arial,sans-serif\" font-size=\"12.00\" fill=\"#85511a\">1.00</text>\n",
       "</g>\n",
       "<!-- 11&#45;&gt;6 -->\n",
       "<g id=\"edge23\" class=\"edge\">\n",
       "<title>11&#45;&gt;6</title>\n",
       "<path fill=\"none\" stroke=\"#685e1a\" d=\"M644.58,-56.19C623.94,-68.51 580.07,-70.05 553.6,-60.82\"/>\n",
       "<polygon fill=\"#685e1a\" stroke=\"#685e1a\" points=\"555.37,-57.78 544.82,-56.83 552.48,-64.15 555.37,-57.78\"/>\n",
       "<text xml:space=\"preserve\" text-anchor=\"middle\" x=\"582.51\" y=\"-55.35\" font-family=\"Helvetica,Arial,sans-serif\" font-size=\"12.00\" fill=\"#685e1a\">1.00</text>\n",
       "</g>\n",
       "</g>\n",
       "</svg>\n"
      ],
      "text/plain": [
       "<graphviz.graphs.Digraph at 0x309fe8c00>"
      ]
     },
     "execution_count": 45,
     "metadata": {},
     "output_type": "execute_result"
    }
   ],
   "source": [
    "carrot_graph.plot()"
   ]
  },
  {
   "cell_type": "code",
   "execution_count": 46,
   "metadata": {},
   "outputs": [
    {
     "name": "stdout",
     "output_type": "stream",
     "text": [
      "This is the discrete state space as a sub-transition matrix:\n",
      "GRAPH AS MATRIX MAKES THE KERNEL DIE...\n"
     ]
    }
   ],
   "source": [
    "\n",
    "\n",
    "\n",
    "vlength = carrot_graph.vertices_length()\n",
    "carrot_vertices = np.repeat(False, vlength*2)\n",
    "\n",
    "for i in range(vlength):\n",
    "    vertex = carrot_graph.vertex_at(i)\n",
    "    rabbits = sum(vertex.state())\n",
    "    \n",
    "    if rabbits > 0:\n",
    "        obtained_carrot_vertex = carrot_graph.create_vertex([0])\n",
    "        # Go directly back to the state we came from\n",
    "        obtained_carrot_vertex.add_edge(vertex, 1)\n",
    "        # Rate of finding carrot\n",
    "        vertex.add_edge(obtained_carrot_vertex, rabbits * 0.1)\n",
    "        carrot_vertices[obtained_carrot_vertex.index()] = True\n",
    "\n",
    "carrot_vertices = carrot_vertices[np.arange(carrot_graph.vertices_length())]\n",
    "\n",
    "# We now want to make the graph discrete. We do this by 'normalizing' the edges\n",
    "# This is imply scaling the vertices such that the total out-going rate is 1\n",
    "# As it is now the probability of transitions\n",
    "weights_were_multiplied_with = carrot_graph.normalize()\n",
    "\n",
    "print(\"This is the discrete state space as a sub-transition matrix:\")\n",
    "#carrot_graph.as_matrices()\n",
    "print('GRAPH AS MATRIX MAKES THE KERNEL DIE...')"
   ]
  },
  {
   "cell_type": "code",
   "execution_count": 47,
   "metadata": {},
   "outputs": [],
   "source": [
    "# for vertex in carrot_graph.vertices():\n",
    "#     print(vertex.index(),vertex.state(), vertex.edges())"
   ]
  },
  {
   "cell_type": "code",
   "execution_count": 48,
   "metadata": {},
   "outputs": [],
   "source": [
    "# for vertex in carrot_graph.vertices():\n",
    "#     print(vertex)\n",
    "#     for edge in vertex.edges():\n",
    "#         print(\"  \", edge)"
   ]
  },
  {
   "cell_type": "code",
   "execution_count": 49,
   "metadata": {},
   "outputs": [],
   "source": [
    "# carrot_vertices.astype(int)"
   ]
  },
  {
   "cell_type": "markdown",
   "metadata": {},
   "source": [
    "We now want to find the expected number of eaten carrots. We set the reward such that the carrot vertex has a reward of '1'.\n"
   ]
  },
  {
   "cell_type": "code",
   "execution_count": 50,
   "metadata": {},
   "outputs": [
    {
     "name": "stderr",
     "output_type": "stream",
     "text": [
      "INFO: building reward compute graph...\n"
     ]
    },
    {
     "data": {
      "text/plain": [
       "0.09056122448979592"
      ]
     },
     "execution_count": 50,
     "metadata": {},
     "output_type": "execute_result"
    }
   ],
   "source": [
    "rewards = carrot_vertices.astype(int)\n",
    "carrot_graph.expectation_discrete(rewards)"
   ]
  },
  {
   "cell_type": "markdown",
   "metadata": {},
   "source": [
    "We can verify that the number of carrots correspond to scaling the continuous graph:"
   ]
  },
  {
   "cell_type": "code",
   "execution_count": 51,
   "metadata": {},
   "outputs": [
    {
     "data": {
      "text/plain": [
       "0.09056122448979591"
      ]
     },
     "execution_count": 51,
     "metadata": {},
     "output_type": "execute_result"
    }
   ],
   "source": [
    "graph.expectation(graph.states().sum(axis=1)) * 0.1"
   ]
  },
  {
   "cell_type": "markdown",
   "metadata": {},
   "source": [
    "Of course we cannot do this for other moments:"
   ]
  },
  {
   "cell_type": "code",
   "execution_count": 52,
   "metadata": {},
   "outputs": [
    {
     "data": {
      "text/plain": [
       "0.09723142700957937"
      ]
     },
     "execution_count": 52,
     "metadata": {},
     "output_type": "execute_result"
    }
   ],
   "source": [
    "carrot_graph.variance_discrete(rewards)"
   ]
  },
  {
   "cell_type": "markdown",
   "metadata": {},
   "source": [
    "Verified by sampling:"
   ]
  },
  {
   "cell_type": "code",
   "execution_count": 53,
   "metadata": {},
   "outputs": [
    {
     "data": {
      "text/plain": [
       "np.float64(0.096806053376)"
      ]
     },
     "execution_count": 53,
     "metadata": {},
     "output_type": "execute_result"
    }
   ],
   "source": [
    "samples = carrot_graph.sample_discrete(1000000, rewards)\n",
    "samples = np.array(samples)\n",
    "np.sum(samples**2) / 1000000 - ((np.sum(samples)) / 1000000)**2"
   ]
  },
  {
   "cell_type": "code",
   "execution_count": 54,
   "metadata": {},
   "outputs": [],
   "source": [
    "# We can find the distribution function for the the total number of carrots found\n",
    "carrots = np.arange(10)\n",
    "# Notice that with this reward transformation the graph is no longer sparse, as all paths through\n",
    "# the graph are represented!!\n",
    "found_carrots_graph  = carrot_graph.reward_transform_discrete(rewards)\n",
    "pmf = found_carrots_graph.pmf_discrete(carrots)\n",
    "cdf = found_carrots_graph.cdf_discrete(carrots)\n"
   ]
  },
  {
   "cell_type": "code",
   "execution_count": 55,
   "metadata": {},
   "outputs": [
    {
     "data": {
      "image/png": "[encoded data removed]",
      "text/plain": [
       "<Figure size 800x300 with 2 Axes>"
      ]
     },
     "metadata": {
      "image/png": {
       "height": 315,
       "width": 671
      }
     },
     "output_type": "display_data"
    }
   ],
   "source": [
    "fig, (ax1, ax2) = plt.subplots(1, 2, figsize=(8, 3), sharey=True)\n",
    "x = np.arange(0, 10, 1)\n",
    "ax1.bar(x, pmf)\n",
    "ax1.set_title(\"PDF\")\n",
    "ax1.set_xlabel('Total number of carrots found')\n",
    "# ax1.set_ylim(bottom=0)\n",
    "#ax2.plot(x, cdf)\n",
    "left, right = x, np.arange(1, x.size+1, 1)\n",
    "ax2.hlines(y=cdf, xmin=left, xmax=right, zorder=1)\n",
    "ax2.scatter(left, cdf, s=18, zorder=2)\n",
    "ax2.set_title(\"CDF\")\n",
    "# ax2.set_ylim(bottom=0)\n",
    "ax2.set_xlabel('Total number of carrots found')\n",
    "ax2.axhline(y=right_graph.defect(), linestyle='dotted')\n",
    "sns.despine()"
   ]
  },
  {
   "cell_type": "markdown",
   "metadata": {},
   "source": [
    "# Multivariate phase-type distributions"
   ]
  },
  {
   "cell_type": "markdown",
   "metadata": {},
   "source": [
    "Instead of a univariate reward, we can have the distribution earn a \n",
    "*vector* of rewards for each time unit spent at a vertex.\n",
    "We will continue with the rabbit example. We will now show the relationship\n",
    "between total time spent by any rabbit on either of the two islands."
   ]
  },
  {
   "cell_type": "code",
   "execution_count": 56,
   "metadata": {},
   "outputs": [
    {
     "data": {
      "text/plain": [
       "array([0, 0, 1, 0, 2, 1, 0], dtype=int32)"
      ]
     },
     "execution_count": 56,
     "metadata": {},
     "output_type": "execute_result"
    }
   ],
   "source": [
    "states = graph.states()\n",
    "states[:, 1]"
   ]
  },
  {
   "cell_type": "code",
   "execution_count": 57,
   "metadata": {},
   "outputs": [
    {
     "data": {
      "text/plain": [
       "0.030003774468971296"
      ]
     },
     "execution_count": 57,
     "metadata": {},
     "output_type": "execute_result"
    }
   ],
   "source": [
    "states = graph.states()\n",
    "graph.covariance(states[:,0], states[:,1])"
   ]
  },
  {
   "cell_type": "code",
   "execution_count": 58,
   "metadata": {},
   "outputs": [
    {
     "data": {
      "text/plain": [
       "np.float64(0.03018146675774415)"
      ]
     },
     "execution_count": 58,
     "metadata": {},
     "output_type": "execute_result"
    }
   ],
   "source": [
    "\n",
    "simulations = graph.sample_multivariate(100000, graph.states())\n",
    "simulated_cov = sum(simulations[0,:]*simulations[1,:])/100000 - \\\n",
    "                    sum(simulations[0,:])/100000*sum(simulations[1,:])/100000\n",
    "simulated_cov"
   ]
  },
  {
   "cell_type": "markdown",
   "metadata": {},
   "source": [
    "The api also supports multivariate *discrete* phase-type distributions. We show the covariance between carrots found on either island."
   ]
  },
  {
   "cell_type": "code",
   "execution_count": 59,
   "metadata": {},
   "outputs": [],
   "source": [
    "\n",
    "mdph_carrot_graph = graph.clone()\n",
    "\n",
    "vlength = mdph_carrot_graph.vertices_length()\n",
    "carrot_vertices_left = np.repeat(False, vlength*2)\n",
    "carrot_vertices_right = np.repeat(False, vlength*2)\n",
    "\n",
    "\n",
    "for i in range(vlength):\n",
    "    vertex = mdph_carrot_graph.vertex_at(i)\n",
    "    rabbits = vertex.state()\n",
    "    \n",
    "    if rabbits[0] > 0:\n",
    "        obtained_carrot_vertex = mdph_carrot_graph.create_vertex([0])\n",
    "        # Go directly back to the state we came from\n",
    "        obtained_carrot_vertex.add_edge(vertex, 1)\n",
    "        # Rate of finding carrot\n",
    "        vertex.add_edge(obtained_carrot_vertex, rabbits[0] * 0.1)\n",
    "        carrot_vertices_left[obtained_carrot_vertex.index()] = True\n",
    "    \n",
    "    if rabbits[1] > 0:\n",
    "        obtained_carrot_vertex = mdph_carrot_graph.create_vertex([0])\n",
    "        # Go directly back to the state we came from\n",
    "        obtained_carrot_vertex.add_edge(vertex, 1)\n",
    "        # Rate of finding carrot\n",
    "        vertex.add_edge(obtained_carrot_vertex, rabbits[1] * 0.1)\n",
    "        carrot_vertices_right[obtained_carrot_vertex.index()] = True\n"
   ]
  },
  {
   "cell_type": "markdown",
   "metadata": {},
   "source": [
    "Covariance:"
   ]
  },
  {
   "cell_type": "code",
   "execution_count": 60,
   "metadata": {},
   "outputs": [
    {
     "name": "stderr",
     "output_type": "stream",
     "text": [
      "INFO: building reward compute graph...\n"
     ]
    },
    {
     "data": {
      "text/plain": [
       "-0.0005338270512286547"
      ]
     },
     "execution_count": 60,
     "metadata": {},
     "output_type": "execute_result"
    }
   ],
   "source": [
    "\n",
    "carrot_vertices_left = carrot_vertices_left[0:mdph_carrot_graph.vertices_length()]\n",
    "carrot_vertices_right = carrot_vertices_right[0:mdph_carrot_graph.vertices_length()]\n",
    "mdph_carrot_graph.normalize()\n",
    "rewards = np.column_stack((carrot_vertices_left, carrot_vertices_right)).astype(int)\n",
    "mdph_carrot_graph.covariance_discrete(rewards[:,0], rewards[:,1])\n"
   ]
  },
  {
   "cell_type": "markdown",
   "metadata": {},
   "source": [
    "Sampled covariance:"
   ]
  },
  {
   "cell_type": "code",
   "execution_count": 61,
   "metadata": {},
   "outputs": [
    {
     "data": {
      "text/plain": [
       "np.float64(0.03018146675774415)"
      ]
     },
     "execution_count": 61,
     "metadata": {},
     "output_type": "execute_result"
    }
   ],
   "source": [
    "\n",
    "simulations = mdph_carrot_graph.sample_multivariate_discrete(1000000, rewards)\n",
    "simulated_cov <- np.sum(simulations[0,:]*simulations[1,:])/1000000 - \\\n",
    "                    np.sum(simulations[0,:])/1000000*np.sum(simulations[1,:])/1000000\n",
    "simulated_cov"
   ]
  },
  {
   "cell_type": "markdown",
   "metadata": {},
   "source": [
    "# Parameterized edges"
   ]
  },
  {
   "cell_type": "markdown",
   "metadata": {},
   "source": [
    "We can *parameterize* the edges to easily update the weights of the edge\n",
    "\n",
    "We do this by assigning a *state* to the *edge*.\n",
    "\n",
    "We will now also say that the rate of rabbits jumping is proportional to the\n",
    "number of rabbits on the island.\n",
    "\n",
    "Our state is [rabbits able to jump, left flooding, right flooding]\n"
   ]
  },
  {
   "cell_type": "code",
   "execution_count": 62,
   "metadata": {},
   "outputs": [],
   "source": [
    "\n",
    "def construct_rabbit_graph_params(nr_rabbits):\n",
    "    # We represent the vector as two integers, the number of rabbits on the left and right island\n",
    "    state_vector_length = 2\n",
    "    graph = Graph(state_vector_length)\n",
    "    initial_state = [nr_rabbits, 0]\n",
    "    # The initial state is the only starting state, with 100% starting probability\n",
    "    graph.starting_vertex().add_edge(\n",
    "      graph.find_or_create_vertex(initial_state),\n",
    "      1\n",
    "    )\n",
    "    index = 1\n",
    "    # Iterate over all unvisited vertices\n",
    "    while index < graph.vertices_length():\n",
    "      vertex = graph.vertex_at(index)\n",
    "      state = vertex.state()\n",
    "      if state[0] > 0:\n",
    "        # Rabbit jump left to right\n",
    "        child_state = [state[0] - 1, state[1] + 1]\n",
    "        vertex.add_edge_parameterized(\n",
    "          graph.find_or_create_vertex(child_state),\n",
    "          0,\n",
    "          [state[0],0,0]\n",
    "        )\n",
    "        # Left island flooding\n",
    "        child_state = c(0, state[1])\n",
    "        vertex.add_edge_parameterized(\n",
    "          graph.find_or_create_vertex(child_state),\n",
    "          0,\n",
    "          [0,1,0]\n",
    "        )\n",
    "      if state[1] > 0:\n",
    "        # Rabbit jump right to left\n",
    "        child_state = [state[0] + 1, state[1] - 1]\n",
    "        vertex.add_edge_parameterized(\n",
    "          graph.find_or_create_vertex(child_state),\n",
    "          0, \n",
    "          [state[1],0,0]\n",
    "        )\n",
    "        # Right island flooding with rate of 4\n",
    "        child_state = [state[0], 0]\n",
    "        vertex.add_edge_parameterized(\n",
    "          graph.find_or_create_vertex(child_state),\n",
    "          0,\n",
    "          [0,0,1]\n",
    "        )\n",
    "      index = index + 1\n",
    "\n",
    "    return(graph)"
   ]
  },
  {
   "cell_type": "markdown",
   "metadata": {},
   "source": [
    "The parameterized edges have what ever weight is assigned to them,\n",
    "and the state does not by itself mean anything."
   ]
  },
  {
   "cell_type": "code",
   "execution_count": null,
   "metadata": {},
   "outputs": [],
   "source": [
    "param_graph = construct_rabbit_graph_params(2)"
   ]
  },
  {
   "cell_type": "markdown",
   "metadata": {},
   "source": [
    "\n",
    "If we let the edge have a state, this gives us an easy way of changing the weights\n",
    "based on some model parameters. In this case, it is the rate of jumping\n",
    "left rate of flooding and right rate of flooding.\n",
    "\n",
    "The update simply takes the inner product of the state vector and the model parameters, e.g. if the state is x1, x2 and the parameters are p1, p2, then the weight of the edge become x1*p1+x2*p2"
   ]
  },
  {
   "cell_type": "code",
   "execution_count": 65,
   "metadata": {},
   "outputs": [
    {
     "name": "stdout",
     "output_type": "stream",
     "text": [
      "Expectation (1,2,4): 0.453843669250646\n",
      "Expectation (1,2,4): 0.3829988851727981\n",
      "Expectation (1,2,4): 0.2558080808080808\n",
      "Expectation (1,2,4): 0.2123466140255808\n",
      "Expectation (1,2,4): 0.1274895365841465\n"
     ]
    },
    {
     "name": "stderr",
     "output_type": "stream",
     "text": [
      "INFO: recording elimination trace for parameterized graph...\n",
      "INFO: using trace-based path for reward compute graph...\n",
      "INFO: trace-based reward compute graph built successfully\n",
      "INFO: using trace-based path for reward compute graph...\n",
      "INFO: trace-based reward compute graph built successfully\n",
      "INFO: using trace-based path for reward compute graph...\n",
      "INFO: trace-based reward compute graph built successfully\n",
      "INFO: using trace-based path for reward compute graph...\n",
      "INFO: trace-based reward compute graph built successfully\n",
      "INFO: using trace-based path for reward compute graph...\n",
      "INFO: trace-based reward compute graph built successfully\n"
     ]
    }
   ],
   "source": [
    "param_graph.update_parameterized_weights([1, 2, 4])\n",
    "print(\"Expectation (1,2,4):\", param_graph.expectation())\n",
    "\n",
    "param_graph.update_parameterized_weights([2, 2, 4])\n",
    "print(\"Expectation (1,2,4):\", param_graph.expectation())\n",
    "\n",
    "param_graph.update_parameterized_weights([2, 4, 4])\n",
    "print(\"Expectation (1,2,4):\", param_graph.expectation())\n",
    "\n",
    "param_graph.update_parameterized_weights([2, 4, 18])\n",
    "print(\"Expectation (1,2,4):\", param_graph.expectation())\n",
    "\n",
    "param_graph.update_parameterized_weights([8, 4, 18])\n",
    "print(\"Expectation (1,2,4):\", param_graph.expectation())"
   ]
  },
  {
   "cell_type": "markdown",
   "metadata": {},
   "source": [
    "Note that the moment graph *has* to be recalculated after updating weights"
   ]
  },
  {
   "cell_type": "code",
   "execution_count": 66,
   "metadata": {},
   "outputs": [],
   "source": [
    "param_graph.update_parameterized_weights([1, 2, 4])\n",
    "#param_graph.as_matrices()\n",
    "      \n",
    "param_graph.update_parameterized_weights([8, 4, 18])\n",
    "#param_graph.as_matrices()"
   ]
  },
  {
   "cell_type": "markdown",
   "metadata": {},
   "source": [
    "# Precomputing trace for DAG"
   ]
  },
  {
   "cell_type": "code",
   "execution_count": null,
   "metadata": {},
   "outputs": [
    {
     "name": "stdout",
     "output_type": "stream",
     "text": [
      "Created parameterized model with 67 states\n"
     ]
    },
    {
     "ename": "",
     "evalue": "",
     "output_type": "error",
     "traceback": [
      "\u001b[1;31mThe Kernel crashed while executing code in the current cell or a previous cell. \n",
      "\u001b[1;31mPlease review the code in the cell(s) to identify a possible cause of the failure. \n",
      "\u001b[1;31mClick <a href='https://aka.ms/vscodeJupyterKernelCrash'>here</a> for more info. \n",
      "\u001b[1;31mView Jupyter <a href='command:jupyter.viewOutput'>log</a> for further details."
     ]
    }
   ],
   "source": [
    "# First, let's create a parameterized rabbit model with more rabbits to see the performance benefit\n",
    "def construct_parameterized_rabbit_model(nr_rabbits):\n",
    "    \"\"\"\n",
    "    Construct a parameterized rabbit model where edge weights are linear combinations of parameters.\n",
    "    Parameters: [jump_rate, flood_left_rate, flood_right_rate]\n",
    "    \"\"\"\n",
    "    import ptdalgorithms as ptd\n",
    "\n",
    "    graph = ptd.Graph(state_length=2)\n",
    "    initial_state = [nr_rabbits, 0]\n",
    "    graph.starting_vertex().add_edge(graph.find_or_create_vertex(initial_state), 1)\n",
    "\n",
    "    index = 1\n",
    "    while index < graph.vertices_length():\n",
    "        vertex = graph.vertex_at(index)\n",
    "        state = vertex.state()\n",
    "\n",
    "        if state[0] > 0:\n",
    "            # Jump left to right - rate proportional to number of rabbits\n",
    "            child_state = [state[0] - 1, state[1] + 1]\n",
    "            vertex.add_edge_parameterized(\n",
    "                graph.find_or_create_vertex(child_state),\n",
    "                0,\n",
    "                [state[0], 0, 0]  # jump_rate * n_rabbits\n",
    "            )\n",
    "            # Left island flooding\n",
    "            child_state = [0, state[1]]\n",
    "            vertex.add_edge_parameterized(\n",
    "                graph.find_or_create_vertex(child_state),\n",
    "                0,\n",
    "                [0, 1, 0]  # flood_left_rate\n",
    "            )\n",
    "\n",
    "        if state[1] > 0:\n",
    "            # Jump right to left\n",
    "            child_state = [state[0] + 1, state[1] - 1]\n",
    "            vertex.add_edge_parameterized(\n",
    "                graph.find_or_create_vertex(child_state),\n",
    "                0,\n",
    "                [state[1], 0, 0]  # jump_rate * n_rabbits\n",
    "            )\n",
    "            # Right island flooding\n",
    "            child_state = [state[0], 0]\n",
    "            vertex.add_edge_parameterized(\n",
    "                graph.find_or_create_vertex(child_state),\n",
    "                0,\n",
    "                [0, 0, 1]  # flood_right_rate\n",
    "            )\n",
    "\n",
    "        index += 1\n",
    "\n",
    "    return graph\n",
    "\n",
    "# Create a model with 5 rabbits\n",
    "symbolic_graph = construct_parameterized_rabbit_model(5)\n",
    "print(f\"Created parameterized model with {symbolic_graph.vertices_length()} states\")"
   ]
  },
  {
   "cell_type": "markdown",
   "metadata": {},
   "source": [
    "Now we perform the key operation: symbolic elimination. This analyzes the graph structure and builds a directed acyclic graph (DAG) of symbolic expressions. The DAG encodes all the dependencies and operations needed to compute moments and distribution functions as a function of the parameter vector. This is the expensive O(n³) operation, but we only do it once."
   ]
  },
  {
   "cell_type": "code",
   "execution_count": null,
   "metadata": {},
   "outputs": [
    {
     "ename": "",
     "evalue": "",
     "output_type": "error",
     "traceback": [
      "\u001b[1;31mThe Kernel crashed while executing code in the current cell or a previous cell. \n",
      "\u001b[1;31mPlease review the code in the cell(s) to identify a possible cause of the failure. \n",
      "\u001b[1;31mClick <a href='https://aka.ms/vscodeJupyterKernelCrash'>here</a> for more info. \n",
      "\u001b[1;31mView Jupyter <a href='command:jupyter.viewOutput'>log</a> for further details."
     ]
    }
   ],
   "source": [
    "# First set initial parameters (required before elimination)\n",
    "initial_params = np.array([1.0, 2.0, 4.0])  # jump_rate, flood_left, flood_right\n",
    "symbolic_graph.update_parameterized_weights(initial_params)\n",
    "\n",
    "# Perform symbolic elimination - this is O(n³) but done once\n",
    "print(\"Performing symbolic Gaussian elimination...\")\n",
    "dag = symbolic_graph.eliminate_to_dag()\n",
    "print(f\"Created symbolic DAG with {dag.vertices_length} expression nodes\")\n",
    "print(\"This DAG can now be evaluated in O(n) time for any parameter vector\")"
   ]
  },
  {
   "cell_type": "markdown",
   "metadata": {},
   "source": [
    "With the symbolic DAG created, we can now evaluate it rapidly for different parameter values. Each evaluation is O(n) instead of O(n³). Let's compare the performance of the traditional approach (updating weights and recomputing) versus the symbolic approach (instantiating the DAG)."
   ]
  },
  {
   "cell_type": "code",
   "execution_count": 1,
   "metadata": {},
   "outputs": [
    {
     "ename": "SyntaxError",
     "evalue": "unterminated f-string literal (detected at line 32) (345730925.py, line 32)",
     "output_type": "error",
     "traceback": [
      "  \u001b[36mCell\u001b[39m\u001b[36m \u001b[39m\u001b[32mIn[1]\u001b[39m\u001b[32m, line 32\u001b[39m\n\u001b[31m    \u001b[39m\u001b[31mprint(f\"\\nVerification: expectations match = {np.allclose(traditional_expectations, symbolic_expectations[:100], rtol=1e-10)}\u001b[39m\n          ^\n\u001b[31mSyntaxError\u001b[39m\u001b[31m:\u001b[39m unterminated f-string literal (detected at line 32)\n"
     ]
    }
   ],
   "source": [
    "import time\n",
    "\n",
    "# Generate 1000 random parameter vectors to test\n",
    "n_evaluations = 1000\n",
    "param_vectors = np.random.uniform(0.5, 5.0, size=(n_evaluations, 3))\n",
    "\n",
    "# Method 1: Traditional approach - update weights each time\n",
    "print(\"Method 1: Traditional update_parameterized_weights approach\")\n",
    "start = time.time()\n",
    "traditional_expectations = []\n",
    "for params in param_vectors[:100]:  # Just 100 to avoid taking too long\n",
    "    symbolic_graph.update_parameterized_weights(params)\n",
    "    traditional_expectations.append(symbolic_graph.expectation())\n",
    "traditional_time = time.time() - start\n",
    "print(f\"  Time for 100 evaluations: {traditional_time:.3f} seconds\")\n",
    "print(f\"  Time per evaluation: {traditional_time/100*1000:.2f} ms\")\n",
    "\n",
    "# Method 2: Symbolic elimination approach - instantiate DAG\n",
    "print(\"\\nMethod 2: Symbolic elimination with DAG instantiation\")\n",
    "start = time.time()\n",
    "symbolic_expectations = []\n",
    "for params in param_vectors:\n",
    "    concrete_dag = dag.instantiate(params)\n",
    "    symbolic_expectations.append(concrete_dag.expectation())\n",
    "symbolic_time = time.time() - start\n",
    "print(f\"  Time for 1000 evaluations: {symbolic_time:.3f} seconds\")\n",
    "print(f\"  Time per evaluation: {symbolic_time/1000*1000:.2f} ms\")\n",
    "\n",
    "print(f\"\\nSpeedup: {(traditional_time/100) / (symbolic_time/1000):.1f}x faster\")\n",
    "\n",
    "# Verify results match\n",
    "print(f\"\\nVerification: expectations match = {np.allclose(traditional_expectations, symbolic_expectations[:100], rtol=1e-10)}"
   ]
  },
  {
   "cell_type": "markdown",
   "metadata": {},
   "source": [
    "The speedup is substantial even for this modestly-sized model with only ~10 states. For larger models with hundreds or thousands of states, the speedup can easily reach 100× or 1000×. This makes the difference between inference being computationally infeasible and running in reasonable time.\n",
    "\n",
    "The symbolic elimination approach is particularly powerful when combined with JAX for automatic differentiation and JIT compilation. The JAX integration allows us to convert the symbolic DAG into a JAX function that can be differentiated (for gradient-based inference) and compiled to highly optimized machine code. Let's see how this works."
   ]
  },
  {
   "cell_type": "code",
   "execution_count": null,
   "metadata": {},
   "outputs": [],
   "source": [
    "# Check if JAX is available\n",
    "try:\n",
    "    import jax\n",
    "    import jax.numpy as jnp\n",
    "    HAS_JAX = True\n",
    "except ImportError:\n",
    "    HAS_JAX = False\n",
    "    print(\"JAX not available - install with: pip install jax\")\n",
    "\n",
    "if HAS_JAX:\n",
    "    # Convert the symbolic DAG to a JAX-compatible function\n",
    "    # This creates a pure function that can be JIT compiled and differentiated\n",
    "    def expectation_fn(theta):\n",
    "        \"\"\"Compute expectation given parameter vector theta\"\"\"\n",
    "        concrete = dag.instantiate(theta)\n",
    "        return concrete.expectation()\n",
    "\n",
    "    # JIT compile the function for maximum performance\n",
    "    expectation_jit = jax.jit(expectation_fn)\n",
    "\n",
    "    # Create a gradient function for gradient-based optimization/inference\n",
    "    grad_expectation = jax.grad(expectation_fn)\n",
    "    grad_expectation_jit = jax.jit(grad_expectation)\n",
    "\n",
    "    # Test the JIT-compiled function\n",
    "    test_params = jnp.array([1.0, 2.0, 4.0])\n",
    "\n",
    "    # First call includes compilation time\n",
    "    start = time.time()\n",
    "    result1 = expectation_jit(test_params)\n",
    "    first_time = time.time() - start\n",
    "    print(f\"First JIT call (includes compilation): {first_time*1000:.2f} ms\")\n",
    "\n",
    "    # Subsequent calls use compiled code\n",
    "    start = time.time()\n",
    "    result2 = expectation_jit(test_params)\n",
    "    second_time = time.time() - start\n",
    "    print(f\"Second JIT call (compiled): {second_time*1000:.2f} ms\")\n",
    "    print(f\"Expectation: {result2:.6f}\")\n",
    "\n",
    "    # Compute gradient\n",
    "    start = time.time()\n",
    "    gradient = grad_expectation_jit(test_params)\n",
    "    grad_time = time.time() - start\n",
    "    print(f\"\\nGradient computation: {grad_time*1000:.2f} ms\")\n",
    "    print(f\"Gradient: {gradient}\")\n",
    "    print(\"\\nThese gradients are exact (via automatic differentiation) and can be used\")\n",
    "    print(\"for gradient-based inference methods like SVGD, HMC, or variational inference\")"
   ]
  },
  {
   "cell_type": "markdown",
   "metadata": {},
   "source": [
    "The combination of symbolic elimination, JAX compilation, and automatic differentiation creates a powerful workflow for parameter inference. The symbolic DAG removes the O(n³) bottleneck, JIT compilation optimizes the resulting O(n) evaluation, and automatic differentiation provides exact gradients without manual derivation or finite differences. This is precisely the workflow we will use in the SVGD section later in this tutorial, where we will estimate rabbit model parameters from observed data.\n",
    "\n",
    "For now, the key takeaway is that whenever you have a parameterized model that you need to evaluate many times—whether for parameter exploration, sensitivity analysis, or Bayesian inference—symbolic elimination should be your default choice. The performance improvement is dramatic, and the integration with JAX opens the door to gradient-based methods and GPU acceleration."
   ]
  },
  {
   "cell_type": "markdown",
   "metadata": {},
   "source": [
    "# Caching DAGs\n",
    "\n",
    "## Across Sessions\n",
    "\n",
    "Discription here..."
   ]
  },
  {
   "cell_type": "markdown",
   "metadata": {},
   "source": [
    "Now let's see caching in action by creating models and observing cache hits and misses. When we create a model for the first time, \n",
    "the cache will miss (no entry exists) and symbolic elimination will run normally. When we create the same model again—even with different \n",
    "initial parameter values—the cache will hit and return the pre-computed symbolic DAG instantly."
   ]
  },
  {
   "cell_type": "code",
   "execution_count": null,
   "metadata": {},
   "outputs": [
    {
     "name": "stdout",
     "output_type": "stream",
     "text": [
      "First construction (cache miss expected)...\n"
     ]
    },
    {
     "name": "stderr",
     "output_type": "stream",
     "text": [
      "/Users/kmt/PtDAlgorithms/src/ptdalgorithms/__init__.py:1161: UserWarning: Symbolic cache unavailable: Object of type ndarray is not JSON serializable\n",
      "  warnings.warn(f\"Symbolic cache unavailable: {e}\", UserWarning)\n"
     ]
    },
    {
     "ename": "RuntimeError",
     "evalue": "Compilation failed:\nclang++: warning: treating 'c' input as 'c++' when in C++ mode, this behavior is deprecated [-Wdeprecated]\n/Users/kmt/PtDAlgorithms/src/c/ptdalgorithms.c:6351:33: error: cannot initialize a variable of type 'struct ptd_trace_operation *' with an rvalue of type 'void *'\n 6351 |     struct ptd_trace_operation *new_ops = realloc(\n      |                                 ^         ~~~~~~~~\n 6352 |         trace->operations,\n      |         ~~~~~~~~~~~~~~~~~~\n 6353 |         new_capacity * sizeof(struct ptd_trace_operation)\n      |         ~~~~~~~~~~~~~~~~~~~~~~~~~~~~~~~~~~~~~~~~~~~~~~~~~\n 6354 |     );\n      |     ~\n/Users/kmt/PtDAlgorithms/src/c/ptdalgorithms.c:6408:24: error: assigning to 'double *' from incompatible type 'void *'\n 6408 |     op->coefficients = malloc(coefficients_length * sizeof(double));\n      |                        ^~~~~~~~~~~~~~~~~~~~~~~~~~~~~~~~~~~~~~~~~~~~\n/Users/kmt/PtDAlgorithms/src/c/ptdalgorithms.c:6442:20: error: assigning to 'size_t *' (aka 'unsigned long *') from incompatible type 'void *'\n 6442 |     op->operands = malloc(2 * sizeof(size_t));\n      |                    ^~~~~~~~~~~~~~~~~~~~~~~~~~\n/Users/kmt/PtDAlgorithms/src/c/ptdalgorithms.c:6477:20: error: assigning to 'size_t *' (aka 'unsigned long *') from incompatible type 'void *'\n 6477 |     op->operands = malloc(2 * sizeof(size_t));\n      |                    ^~~~~~~~~~~~~~~~~~~~~~~~~~\n/Users/kmt/PtDAlgorithms/src/c/ptdalgorithms.c:6512:20: error: assigning to 'size_t *' (aka 'unsigned long *') from incompatible type 'void *'\n 6512 |     op->operands = malloc(2 * sizeof(size_t));\n      |                    ^~~~~~~~~~~~~~~~~~~~~~~~~~\n/Users/kmt/PtDAlgorithms/src/c/ptdalgorithms.c:6546:20: error: assigning to 'size_t *' (aka 'unsigned long *') from incompatible type 'void *'\n 6546 |     op->operands = malloc(1 * sizeof(size_t));\n      |                    ^~~~~~~~~~~~~~~~~~~~~~~~~~\n/Users/kmt/PtDAlgorithms/src/c/ptdalgorithms.c:6580:20: error: assigning to 'size_t *' (aka 'unsigned long *') from incompatible type 'void *'\n 6580 |     op->operands = malloc(n_operands * sizeof(size_t));\n      |                    ^~~~~~~~~~~~~~~~~~~~~~~~~~~~~~~~~~~\n/Users/kmt/PtDAlgorithms/src/c/ptdalgorithms.c:6606:9: warning: 'sprintf' is deprecated: This function is provided for compatibility reasons only.  Due to security concerns inherent in the design of sprintf(3), it is highly recommended that you use snprintf(3) instead. [-Wdeprecated-declarations]\n 6606 |         sprintf((char*)ptd_err, \"ptd_record_elimination_trace: graph is not parameterized\");\n      |         ^\n/Library/Developer/CommandLineTools/SDKs/MacOSX.sdk/usr/include/_stdio.h:278:1: note: 'sprintf' has been explicitly marked deprecated here\n  278 | __deprecated_msg(\"This function is provided for compatibility reasons only.  Due to security concerns inherent in the design of sprintf(3), it is highly recommended that you use snprintf(3) instead.\")\n      | ^\n/Library/Developer/CommandLineTools/SDKs/MacOSX.sdk/usr/include/sys/cdefs.h:218:48: note: expanded from macro '__deprecated_msg'\n  218 |         #define __deprecated_msg(_msg) __attribute__((__deprecated__(_msg)))\n      |                                                       ^\n/Users/kmt/PtDAlgorithms/src/c/ptdalgorithms.c:6611:35: error: cannot initialize a variable of type 'struct ptd_elimination_trace *' with an rvalue of type 'void *'\n 6611 |     struct ptd_elimination_trace *trace = malloc(sizeof(*trace));\n      |                                   ^       ~~~~~~~~~~~~~~~~~~~~~~\n/Users/kmt/PtDAlgorithms/src/c/ptdalgorithms.c:6613:9: warning: 'sprintf' is deprecated: This function is provided for compatibility reasons only.  Due to security concerns inherent in the design of sprintf(3), it is highly recommended that you use snprintf(3) instead. [-Wdeprecated-declarations]\n 6613 |         sprintf((char*)ptd_err, \"ptd_record_elimination_trace: failed to allocate trace\");\n      |         ^\n/Library/Developer/CommandLineTools/SDKs/MacOSX.sdk/usr/include/_stdio.h:278:1: note: 'sprintf' has been explicitly marked deprecated here\n  278 | __deprecated_msg(\"This function is provided for compatibility reasons only.  Due to security concerns inherent in the design of sprintf(3), it is highly recommended that you use snprintf(3) instead.\")\n      | ^\n/Library/Developer/CommandLineTools/SDKs/MacOSX.sdk/usr/include/sys/cdefs.h:218:48: note: expanded from macro '__deprecated_msg'\n  218 |         #define __deprecated_msg(_msg) __attribute__((__deprecated__(_msg)))\n      |                                                       ^\n/Users/kmt/PtDAlgorithms/src/c/ptdalgorithms.c:6631:25: error: assigning to 'struct ptd_trace_operation *' from incompatible type 'void *'\n 6631 |     trace->operations = malloc(operations_capacity * sizeof(struct ptd_trace_operation));\n      |                         ^~~~~~~~~~~~~~~~~~~~~~~~~~~~~~~~~~~~~~~~~~~~~~~~~~~~~~~~~~~~~~~~\n/Users/kmt/PtDAlgorithms/src/c/ptdalgorithms.c:6633:9: warning: 'sprintf' is deprecated: This function is provided for compatibility reasons only.  Due to security concerns inherent in the design of sprintf(3), it is highly recommended that you use snprintf(3) instead. [-Wdeprecated-declarations]\n 6633 |         sprintf((char*)ptd_err, \"ptd_record_elimination_trace: failed to allocate operations\");\n      |         ^\n/Library/Developer/CommandLineTools/SDKs/MacOSX.sdk/usr/include/_stdio.h:278:1: note: 'sprintf' has been explicitly marked deprecated here\n  278 | __deprecated_msg(\"This function is provided for compatibility reasons only.  Due to security concerns inherent in the design of sprintf(3), it is highly recommended that you use snprintf(3) instead.\")\n      | ^\n/Library/Developer/CommandLineTools/SDKs/MacOSX.sdk/usr/include/sys/cdefs.h:218:48: note: expanded from macro '__deprecated_msg'\n  218 |         #define __deprecated_msg(_msg) __attribute__((__deprecated__(_msg)))\n      |                                                       ^\n/Users/kmt/PtDAlgorithms/src/c/ptdalgorithms.c:6640:27: error: assigning to 'size_t *' (aka 'unsigned long *') from incompatible type 'void *'\n 6640 |     trace->vertex_rates = malloc(trace->n_vertices * sizeof(size_t));\n      |                           ^~~~~~~~~~~~~~~~~~~~~~~~~~~~~~~~~~~~~~~~~~\n/Users/kmt/PtDAlgorithms/src/c/ptdalgorithms.c:6641:25: error: assigning to 'size_t **' (aka 'unsigned long **') from incompatible type 'void *'\n 6641 |     trace->edge_probs = malloc(trace->n_vertices * sizeof(size_t*));\n      |                         ^~~~~~~~~~~~~~~~~~~~~~~~~~~~~~~~~~~~~~~~~~~\n/Users/kmt/PtDAlgorithms/src/c/ptdalgorithms.c:6642:33: error: assigning to 'size_t *' (aka 'unsigned long *') from incompatible type 'void *'\n 6642 |     trace->edge_probs_lengths = calloc(trace->n_vertices, sizeof(size_t));\n      |                                 ^~~~~~~~~~~~~~~~~~~~~~~~~~~~~~~~~~~~~~~~~\n/Users/kmt/PtDAlgorithms/src/c/ptdalgorithms.c:6643:29: error: assigning to 'size_t **' (aka 'unsigned long **') from incompatible type 'void *'\n 6643 |     trace->vertex_targets = malloc(trace->n_vertices * sizeof(size_t*));\n      |                             ^~~~~~~~~~~~~~~~~~~~~~~~~~~~~~~~~~~~~~~~~~~\n/Users/kmt/PtDAlgorithms/src/c/ptdalgorithms.c:6644:37: error: assigning to 'size_t *' (aka 'unsigned long *') from incompatible type 'void *'\n 6644 |     trace->vertex_targets_lengths = calloc(trace->n_vertices, sizeof(size_t));\n      |                                     ^~~~~~~~~~~~~~~~~~~~~~~~~~~~~~~~~~~~~~~~~\n/Users/kmt/PtDAlgorithms/src/c/ptdalgorithms.c:6649:9: warning: 'sprintf' is deprecated: This function is provided for compatibility reasons only.  Due to security concerns inherent in the design of sprintf(3), it is highly recommended that you use snprintf(3) instead. [-Wdeprecated-declarations]\n 6649 |         sprintf((char*)ptd_err, \"ptd_record_elimination_trace: failed to allocate vertex mappings\");\n      |         ^\n/Library/Developer/CommandLineTools/SDKs/MacOSX.sdk/usr/include/_stdio.h:278:1: note: 'sprintf' has been explicitly marked deprecated here\n  278 | __deprecated_msg(\"This function is provided for compatibility reasons only.  Due to security concerns inherent in the design of sprintf(3), it is highly recommended that you use snprintf(3) instead.\")\n      | ^\n/Library/Developer/CommandLineTools/SDKs/MacOSX.sdk/usr/include/sys/cdefs.h:218:48: note: expanded from macro '__deprecated_msg'\n  218 |         #define __deprecated_msg(_msg) __attribute__((__deprecated__(_msg)))\n      |                                                       ^\n/Users/kmt/PtDAlgorithms/src/c/ptdalgorithms.c:6661:21: error: assigning to 'int **' from incompatible type 'void *'\n 6661 |     trace->states = malloc(trace->n_vertices * sizeof(int*));\n      |                     ^~~~~~~~~~~~~~~~~~~~~~~~~~~~~~~~~~~~~~~~\n/Users/kmt/PtDAlgorithms/src/c/ptdalgorithms.c:6663:9: warning: 'sprintf' is deprecated: This function is provided for compatibility reasons only.  Due to security concerns inherent in the design of sprintf(3), it is highly recommended that you use snprintf(3) instead. [-Wdeprecated-declarations]\n 6663 |         sprintf((char*)ptd_err, \"ptd_record_elimination_trace: failed to allocate states\");\n      |         ^\n/Library/Developer/CommandLineTools/SDKs/MacOSX.sdk/usr/include/_stdio.h:278:1: note: 'sprintf' has been explicitly marked deprecated here\n  278 | __deprecated_msg(\"This function is provided for compatibility reasons only.  Due to security concerns inherent in the design of sprintf(3), it is highly recommended that you use snprintf(3) instead.\")\n      | ^\n/Library/Developer/CommandLineTools/SDKs/MacOSX.sdk/usr/include/sys/cdefs.h:218:48: note: expanded from macro '__deprecated_msg'\n  218 |         #define __deprecated_msg(_msg) __attribute__((__deprecated__(_msg)))\n      |                                                       ^\n/Users/kmt/PtDAlgorithms/src/c/ptdalgorithms.c:6669:28: error: assigning to 'int *' from incompatible type 'void *'\n 6669 |         trace->states[i] = malloc(trace->state_length * sizeof(int));\n      |                            ^~~~~~~~~~~~~~~~~~~~~~~~~~~~~~~~~~~~~~~~~\n/Users/kmt/PtDAlgorithms/src/c/ptdalgorithms.c:6671:13: warning: 'sprintf' is deprecated: This function is provided for compatibility reasons only.  Due to security concerns inherent in the design of sprintf(3), it is highly recommended that you use snprintf(3) instead. [-Wdeprecated-declarations]\n 6671 |             sprintf((char*)ptd_err, \"ptd_record_elimination_trace: failed to allocate state for vertex %zu\", i);\n      |             ^\n/Library/Developer/CommandLineTools/SDKs/MacOSX.sdk/usr/include/_stdio.h:278:1: note: 'sprintf' has been explicitly marked deprecated here\n  278 | __deprecated_msg(\"This function is provided for compatibility reasons only.  Due to security concerns inherent in the design of sprintf(3), it is highly recommended that you use snprintf(3) instead.\")\n      | ^\n/Library/Developer/CommandLineTools/SDKs/MacOSX.sdk/usr/include/sys/cdefs.h:218:48: note: expanded from macro '__deprecated_msg'\n  218 |         #define __deprecated_msg(_msg) __attribute__((__deprecated__(_msg)))\n      |                                                       ^\n/Users/kmt/PtDAlgorithms/src/c/ptdalgorithms.c:6699:21: error: cannot initialize a variable of type 'size_t *' (aka 'unsigned long *') with an rvalue of type 'void *'\n 6699 |             size_t *weight_indices = malloc(v->edges_length * sizeof(size_t));\n      |                     ^                ~~~~~~~~~~~~~~~~~~~~~~~~~~~~~~~~~~~~~~~~\n/Users/kmt/PtDAlgorithms/src/c/ptdalgorithms.c:6701:17: warning: 'sprintf' is deprecated: This function is provided for compatibility reasons only.  Due to security concerns inherent in the design of sprintf(3), it is highly recommended that you use snprintf(3) instead. [-Wdeprecated-declarations]\n 6701 |                 sprintf((char*)ptd_err, \"ptd_record_elimination_trace: failed to allocate weight_indices\");\n      |                 ^\n/Library/Developer/CommandLineTools/SDKs/MacOSX.sdk/usr/include/_stdio.h:278:1: note: 'sprintf' has been explicitly marked deprecated here\n  278 | __deprecated_msg(\"This function is provided for compatibility reasons only.  Due to security concerns inherent in the design of sprintf(3), it is highly recommended that you use snprintf(3) instead.\")\n      | ^\n/Library/Developer/CommandLineTools/SDKs/MacOSX.sdk/usr/include/sys/cdefs.h:218:48: note: expanded from macro '__deprecated_msg'\n  218 |         #define __deprecated_msg(_msg) __attribute__((__deprecated__(_msg)))\n      |                                                       ^\n/Users/kmt/PtDAlgorithms/src/c/ptdalgorithms.c:6759:13: error: cannot initialize a variable of type 'size_t *' (aka 'unsigned long *') with an rvalue of type 'void *'\n 6759 |     size_t *edge_capacities = malloc(trace->n_vertices * sizeof(size_t));\n      |             ^                 ~~~~~~~~~~~~~~~~~~~~~~~~~~~~~~~~~~~~~~~~~~\n/Users/kmt/PtDAlgorithms/src/c/ptdalgorithms.c:6761:9: warning: 'sprintf' is deprecated: This function is provided for compatibility reasons only.  Due to security concerns inherent in the design of sprintf(3), it is highly recommended that you use snprintf(3) instead. [-Wdeprecated-declarations]\n 6761 |         sprintf((char*)ptd_err, \"ptd_record_elimination_trace: failed to allocate edge_capacities\");\n      |         ^\n/Library/Developer/CommandLineTools/SDKs/MacOSX.sdk/usr/include/_stdio.h:278:1: note: 'sprintf' has been explicitly marked deprecated here\n  278 | __deprecated_msg(\"This function is provided for compatibility reasons only.  Due to security concerns inherent in the design of sprintf(3), it is highly recommended that you use snprintf(3) instead.\")\n      | ^\n/Library/Developer/CommandLineTools/SDKs/MacOSX.sdk/usr/include/sys/cdefs.h:218:48: note: expanded from macro '__deprecated_msg'\n  218 |         #define __deprecated_msg(_msg) __attribute__((__deprecated__(_msg)))\n      |                                                       ^\n/Users/kmt/PtDAlgorithms/src/c/ptdalgorithms.c:6775:36: error: assigning to 'size_t *' (aka 'unsigned long *') from incompatible type 'void *'\n 6775 |             trace->edge_probs[i] = malloc(edge_capacities[i] * sizeof(size_t));\n      |                                    ^~~~~~~~~~~~~~~~~~~~~~~~~~~~~~~~~~~~~~~~~~~\nfatal error: too many errors emitted, stopping now [-ferror-limit=]\n8 warnings and 20 errors generated.\n",
     "output_type": "error",
     "traceback": [
      "\u001b[31m---------------------------------------------------------------------------\u001b[39m",
      "\u001b[31mRuntimeError\u001b[39m                              Traceback (most recent call last)",
      "\u001b[36mCell\u001b[39m\u001b[36m \u001b[39m\u001b[32mIn[67]\u001b[39m\u001b[32m, line 37\u001b[39m\n\u001b[32m     35\u001b[39m start = time.time()\n\u001b[32m     36\u001b[39m graph1 = Graph(callback=larger_rabbit_callback, parameterized=\u001b[38;5;28;01mTrue\u001b[39;00m, max_rabbits=\u001b[32m5\u001b[39m)\n\u001b[32m---> \u001b[39m\u001b[32m37\u001b[39m model1 = \u001b[43mGraph\u001b[49m\u001b[43m.\u001b[49m\u001b[43mpmf_from_graph\u001b[49m\u001b[43m(\u001b[49m\u001b[43mgraph1\u001b[49m\u001b[43m,\u001b[49m\u001b[43m \u001b[49m\u001b[43muse_cache\u001b[49m\u001b[43m=\u001b[49m\u001b[38;5;28;43;01mTrue\u001b[39;49;00m\u001b[43m)\u001b[49m\n\u001b[32m     38\u001b[39m time1 = time.time() - start\n\u001b[32m     39\u001b[39m \u001b[38;5;28mprint\u001b[39m(\u001b[33mf\u001b[39m\u001b[33m\"\u001b[39m\u001b[33m✓ Completed in \u001b[39m\u001b[38;5;132;01m{\u001b[39;00mtime1\u001b[38;5;132;01m:\u001b[39;00m\u001b[33m.4f\u001b[39m\u001b[38;5;132;01m}\u001b[39;00m\u001b[33ms (includes symbolic elimination + caching)\u001b[39m\u001b[38;5;130;01m\\n\u001b[39;00m\u001b[33m\"\u001b[39m)\n",
      "\u001b[36mFile \u001b[39m\u001b[32m~/PtDAlgorithms/src/ptdalgorithms/__init__.py:1181\u001b[39m, in \u001b[36mGraph.pmf_from_graph\u001b[39m\u001b[34m(cls, graph, discrete, use_cache)\u001b[39m\n\u001b[32m   1177\u001b[39m     f.write(cpp_code)\n\u001b[32m   1179\u001b[39m \u001b[38;5;66;03m# Use pmf_from_cpp() to compile and create JAX-compatible function\u001b[39;00m\n\u001b[32m   1180\u001b[39m \u001b[38;5;66;03m# This gives us full JAX support (jit, grad, vmap)\u001b[39;00m\n\u001b[32m-> \u001b[39m\u001b[32m1181\u001b[39m base_model = \u001b[38;5;28;43mcls\u001b[39;49m\u001b[43m.\u001b[49m\u001b[43mpmf_from_cpp\u001b[49m\u001b[43m(\u001b[49m\u001b[43mtemp_file\u001b[49m\u001b[43m,\u001b[49m\u001b[43m \u001b[49m\u001b[43mdiscrete\u001b[49m\u001b[43m=\u001b[49m\u001b[43mdiscrete\u001b[49m\u001b[43m)\u001b[49m\n\u001b[32m   1183\u001b[39m \u001b[38;5;66;03m# Return appropriate signature based on parameterization\u001b[39;00m\n\u001b[32m   1184\u001b[39m \u001b[38;5;28;01mif\u001b[39;00m has_param_edges:\n\u001b[32m   1185\u001b[39m     \u001b[38;5;66;03m# Parameterized: return (theta, times) -> pmf\u001b[39;00m\n",
      "\u001b[36mFile \u001b[39m\u001b[32m~/PtDAlgorithms/src/ptdalgorithms/__init__.py:1471\u001b[39m, in \u001b[36mGraph.pmf_from_cpp\u001b[39m\u001b[34m(cls, cpp_file, discrete)\u001b[39m\n\u001b[32m   1469\u001b[39m cache_key = \u001b[33mf\u001b[39m\u001b[33m\"\u001b[39m\u001b[38;5;132;01m{\u001b[39;00mlib_name\u001b[38;5;132;01m}\u001b[39;00m\u001b[33m_discrete_\u001b[39m\u001b[38;5;132;01m{\u001b[39;00mdiscrete\u001b[38;5;132;01m}\u001b[39;00m\u001b[33m\"\u001b[39m\n\u001b[32m   1470\u001b[39m \u001b[38;5;28;01mif\u001b[39;00m cache_key \u001b[38;5;129;01mnot\u001b[39;00m \u001b[38;5;129;01min\u001b[39;00m _lib_cache:\n\u001b[32m-> \u001b[39m\u001b[32m1471\u001b[39m     lib_path = \u001b[43m_compile_wrapper_library\u001b[49m\u001b[43m(\u001b[49m\u001b[43mwrapper_code\u001b[49m\u001b[43m,\u001b[49m\u001b[43m \u001b[49m\u001b[43mlib_name\u001b[49m\u001b[43m)\u001b[49m\n\u001b[32m   1472\u001b[39m     \u001b[38;5;66;03m# Use PyDLL instead of CDLL to manage GIL automatically\u001b[39;00m\n\u001b[32m   1473\u001b[39m     lib = ctypes.PyDLL(lib_path)\n",
      "\u001b[36mFile \u001b[39m\u001b[32m~/PtDAlgorithms/src/ptdalgorithms/__init__.py:605\u001b[39m, in \u001b[36m_compile_wrapper_library\u001b[39m\u001b[34m(wrapper_code, lib_name, extra_includes)\u001b[39m\n\u001b[32m    603\u001b[39m     result = subprocess.run(cmd, capture_output=\u001b[38;5;28;01mTrue\u001b[39;00m, text=\u001b[38;5;28;01mTrue\u001b[39;00m)\n\u001b[32m    604\u001b[39m     \u001b[38;5;28;01mif\u001b[39;00m result.returncode != \u001b[32m0\u001b[39m:\n\u001b[32m--> \u001b[39m\u001b[32m605\u001b[39m         \u001b[38;5;28;01mraise\u001b[39;00m \u001b[38;5;167;01mRuntimeError\u001b[39;00m(\u001b[33mf\u001b[39m\u001b[33m\"\u001b[39m\u001b[33mCompilation failed:\u001b[39m\u001b[38;5;130;01m\\n\u001b[39;00m\u001b[38;5;132;01m{\u001b[39;00mresult.stderr\u001b[38;5;132;01m}\u001b[39;00m\u001b[33m\"\u001b[39m)\n\u001b[32m    606\u001b[39m \u001b[38;5;28;01mfinally\u001b[39;00m:\n\u001b[32m    607\u001b[39m     os.unlink(wrapper_file)\n",
      "\u001b[31mRuntimeError\u001b[39m: Compilation failed:\nclang++: warning: treating 'c' input as 'c++' when in C++ mode, this behavior is deprecated [-Wdeprecated]\n/Users/kmt/PtDAlgorithms/src/c/ptdalgorithms.c:6351:33: error: cannot initialize a variable of type 'struct ptd_trace_operation *' with an rvalue of type 'void *'\n 6351 |     struct ptd_trace_operation *new_ops = realloc(\n      |                                 ^         ~~~~~~~~\n 6352 |         trace->operations,\n      |         ~~~~~~~~~~~~~~~~~~\n 6353 |         new_capacity * sizeof(struct ptd_trace_operation)\n      |         ~~~~~~~~~~~~~~~~~~~~~~~~~~~~~~~~~~~~~~~~~~~~~~~~~\n 6354 |     );\n      |     ~\n/Users/kmt/PtDAlgorithms/src/c/ptdalgorithms.c:6408:24: error: assigning to 'double *' from incompatible type 'void *'\n 6408 |     op->coefficients = malloc(coefficients_length * sizeof(double));\n      |                        ^~~~~~~~~~~~~~~~~~~~~~~~~~~~~~~~~~~~~~~~~~~~\n/Users/kmt/PtDAlgorithms/src/c/ptdalgorithms.c:6442:20: error: assigning to 'size_t *' (aka 'unsigned long *') from incompatible type 'void *'\n 6442 |     op->operands = malloc(2 * sizeof(size_t));\n      |                    ^~~~~~~~~~~~~~~~~~~~~~~~~~\n/Users/kmt/PtDAlgorithms/src/c/ptdalgorithms.c:6477:20: error: assigning to 'size_t *' (aka 'unsigned long *') from incompatible type 'void *'\n 6477 |     op->operands = malloc(2 * sizeof(size_t));\n      |                    ^~~~~~~~~~~~~~~~~~~~~~~~~~\n/Users/kmt/PtDAlgorithms/src/c/ptdalgorithms.c:6512:20: error: assigning to 'size_t *' (aka 'unsigned long *') from incompatible type 'void *'\n 6512 |     op->operands = malloc(2 * sizeof(size_t));\n      |                    ^~~~~~~~~~~~~~~~~~~~~~~~~~\n/Users/kmt/PtDAlgorithms/src/c/ptdalgorithms.c:6546:20: error: assigning to 'size_t *' (aka 'unsigned long *') from incompatible type 'void *'\n 6546 |     op->operands = malloc(1 * sizeof(size_t));\n      |                    ^~~~~~~~~~~~~~~~~~~~~~~~~~\n/Users/kmt/PtDAlgorithms/src/c/ptdalgorithms.c:6580:20: error: assigning to 'size_t *' (aka 'unsigned long *') from incompatible type 'void *'\n 6580 |     op->operands = malloc(n_operands * sizeof(size_t));\n      |                    ^~~~~~~~~~~~~~~~~~~~~~~~~~~~~~~~~~~\n/Users/kmt/PtDAlgorithms/src/c/ptdalgorithms.c:6606:9: warning: 'sprintf' is deprecated: This function is provided for compatibility reasons only.  Due to security concerns inherent in the design of sprintf(3), it is highly recommended that you use snprintf(3) instead. [-Wdeprecated-declarations]\n 6606 |         sprintf((char*)ptd_err, \"ptd_record_elimination_trace: graph is not parameterized\");\n      |         ^\n/Library/Developer/CommandLineTools/SDKs/MacOSX.sdk/usr/include/_stdio.h:278:1: note: 'sprintf' has been explicitly marked deprecated here\n  278 | __deprecated_msg(\"This function is provided for compatibility reasons only.  Due to security concerns inherent in the design of sprintf(3), it is highly recommended that you use snprintf(3) instead.\")\n      | ^\n/Library/Developer/CommandLineTools/SDKs/MacOSX.sdk/usr/include/sys/cdefs.h:218:48: note: expanded from macro '__deprecated_msg'\n  218 |         #define __deprecated_msg(_msg) __attribute__((__deprecated__(_msg)))\n      |                                                       ^\n/Users/kmt/PtDAlgorithms/src/c/ptdalgorithms.c:6611:35: error: cannot initialize a variable of type 'struct ptd_elimination_trace *' with an rvalue of type 'void *'\n 6611 |     struct ptd_elimination_trace *trace = malloc(sizeof(*trace));\n      |                                   ^       ~~~~~~~~~~~~~~~~~~~~~~\n/Users/kmt/PtDAlgorithms/src/c/ptdalgorithms.c:6613:9: warning: 'sprintf' is deprecated: This function is provided for compatibility reasons only.  Due to security concerns inherent in the design of sprintf(3), it is highly recommended that you use snprintf(3) instead. [-Wdeprecated-declarations]\n 6613 |         sprintf((char*)ptd_err, \"ptd_record_elimination_trace: failed to allocate trace\");\n      |         ^\n/Library/Developer/CommandLineTools/SDKs/MacOSX.sdk/usr/include/_stdio.h:278:1: note: 'sprintf' has been explicitly marked deprecated here\n  278 | __deprecated_msg(\"This function is provided for compatibility reasons only.  Due to security concerns inherent in the design of sprintf(3), it is highly recommended that you use snprintf(3) instead.\")\n      | ^\n/Library/Developer/CommandLineTools/SDKs/MacOSX.sdk/usr/include/sys/cdefs.h:218:48: note: expanded from macro '__deprecated_msg'\n  218 |         #define __deprecated_msg(_msg) __attribute__((__deprecated__(_msg)))\n      |                                                       ^\n/Users/kmt/PtDAlgorithms/src/c/ptdalgorithms.c:6631:25: error: assigning to 'struct ptd_trace_operation *' from incompatible type 'void *'\n 6631 |     trace->operations = malloc(operations_capacity * sizeof(struct ptd_trace_operation));\n      |                         ^~~~~~~~~~~~~~~~~~~~~~~~~~~~~~~~~~~~~~~~~~~~~~~~~~~~~~~~~~~~~~~~\n/Users/kmt/PtDAlgorithms/src/c/ptdalgorithms.c:6633:9: warning: 'sprintf' is deprecated: This function is provided for compatibility reasons only.  Due to security concerns inherent in the design of sprintf(3), it is highly recommended that you use snprintf(3) instead. [-Wdeprecated-declarations]\n 6633 |         sprintf((char*)ptd_err, \"ptd_record_elimination_trace: failed to allocate operations\");\n      |         ^\n/Library/Developer/CommandLineTools/SDKs/MacOSX.sdk/usr/include/_stdio.h:278:1: note: 'sprintf' has been explicitly marked deprecated here\n  278 | __deprecated_msg(\"This function is provided for compatibility reasons only.  Due to security concerns inherent in the design of sprintf(3), it is highly recommended that you use snprintf(3) instead.\")\n      | ^\n/Library/Developer/CommandLineTools/SDKs/MacOSX.sdk/usr/include/sys/cdefs.h:218:48: note: expanded from macro '__deprecated_msg'\n  218 |         #define __deprecated_msg(_msg) __attribute__((__deprecated__(_msg)))\n      |                                                       ^\n/Users/kmt/PtDAlgorithms/src/c/ptdalgorithms.c:6640:27: error: assigning to 'size_t *' (aka 'unsigned long *') from incompatible type 'void *'\n 6640 |     trace->vertex_rates = malloc(trace->n_vertices * sizeof(size_t));\n      |                           ^~~~~~~~~~~~~~~~~~~~~~~~~~~~~~~~~~~~~~~~~~\n/Users/kmt/PtDAlgorithms/src/c/ptdalgorithms.c:6641:25: error: assigning to 'size_t **' (aka 'unsigned long **') from incompatible type 'void *'\n 6641 |     trace->edge_probs = malloc(trace->n_vertices * sizeof(size_t*));\n      |                         ^~~~~~~~~~~~~~~~~~~~~~~~~~~~~~~~~~~~~~~~~~~\n/Users/kmt/PtDAlgorithms/src/c/ptdalgorithms.c:6642:33: error: assigning to 'size_t *' (aka 'unsigned long *') from incompatible type 'void *'\n 6642 |     trace->edge_probs_lengths = calloc(trace->n_vertices, sizeof(size_t));\n      |                                 ^~~~~~~~~~~~~~~~~~~~~~~~~~~~~~~~~~~~~~~~~\n/Users/kmt/PtDAlgorithms/src/c/ptdalgorithms.c:6643:29: error: assigning to 'size_t **' (aka 'unsigned long **') from incompatible type 'void *'\n 6643 |     trace->vertex_targets = malloc(trace->n_vertices * sizeof(size_t*));\n      |                             ^~~~~~~~~~~~~~~~~~~~~~~~~~~~~~~~~~~~~~~~~~~\n/Users/kmt/PtDAlgorithms/src/c/ptdalgorithms.c:6644:37: error: assigning to 'size_t *' (aka 'unsigned long *') from incompatible type 'void *'\n 6644 |     trace->vertex_targets_lengths = calloc(trace->n_vertices, sizeof(size_t));\n      |                                     ^~~~~~~~~~~~~~~~~~~~~~~~~~~~~~~~~~~~~~~~~\n/Users/kmt/PtDAlgorithms/src/c/ptdalgorithms.c:6649:9: warning: 'sprintf' is deprecated: This function is provided for compatibility reasons only.  Due to security concerns inherent in the design of sprintf(3), it is highly recommended that you use snprintf(3) instead. [-Wdeprecated-declarations]\n 6649 |         sprintf((char*)ptd_err, \"ptd_record_elimination_trace: failed to allocate vertex mappings\");\n      |         ^\n/Library/Developer/CommandLineTools/SDKs/MacOSX.sdk/usr/include/_stdio.h:278:1: note: 'sprintf' has been explicitly marked deprecated here\n  278 | __deprecated_msg(\"This function is provided for compatibility reasons only.  Due to security concerns inherent in the design of sprintf(3), it is highly recommended that you use snprintf(3) instead.\")\n      | ^\n/Library/Developer/CommandLineTools/SDKs/MacOSX.sdk/usr/include/sys/cdefs.h:218:48: note: expanded from macro '__deprecated_msg'\n  218 |         #define __deprecated_msg(_msg) __attribute__((__deprecated__(_msg)))\n      |                                                       ^\n/Users/kmt/PtDAlgorithms/src/c/ptdalgorithms.c:6661:21: error: assigning to 'int **' from incompatible type 'void *'\n 6661 |     trace->states = malloc(trace->n_vertices * sizeof(int*));\n      |                     ^~~~~~~~~~~~~~~~~~~~~~~~~~~~~~~~~~~~~~~~\n/Users/kmt/PtDAlgorithms/src/c/ptdalgorithms.c:6663:9: warning: 'sprintf' is deprecated: This function is provided for compatibility reasons only.  Due to security concerns inherent in the design of sprintf(3), it is highly recommended that you use snprintf(3) instead. [-Wdeprecated-declarations]\n 6663 |         sprintf((char*)ptd_err, \"ptd_record_elimination_trace: failed to allocate states\");\n      |         ^\n/Library/Developer/CommandLineTools/SDKs/MacOSX.sdk/usr/include/_stdio.h:278:1: note: 'sprintf' has been explicitly marked deprecated here\n  278 | __deprecated_msg(\"This function is provided for compatibility reasons only.  Due to security concerns inherent in the design of sprintf(3), it is highly recommended that you use snprintf(3) instead.\")\n      | ^\n/Library/Developer/CommandLineTools/SDKs/MacOSX.sdk/usr/include/sys/cdefs.h:218:48: note: expanded from macro '__deprecated_msg'\n  218 |         #define __deprecated_msg(_msg) __attribute__((__deprecated__(_msg)))\n      |                                                       ^\n/Users/kmt/PtDAlgorithms/src/c/ptdalgorithms.c:6669:28: error: assigning to 'int *' from incompatible type 'void *'\n 6669 |         trace->states[i] = malloc(trace->state_length * sizeof(int));\n      |                            ^~~~~~~~~~~~~~~~~~~~~~~~~~~~~~~~~~~~~~~~~\n/Users/kmt/PtDAlgorithms/src/c/ptdalgorithms.c:6671:13: warning: 'sprintf' is deprecated: This function is provided for compatibility reasons only.  Due to security concerns inherent in the design of sprintf(3), it is highly recommended that you use snprintf(3) instead. [-Wdeprecated-declarations]\n 6671 |             sprintf((char*)ptd_err, \"ptd_record_elimination_trace: failed to allocate state for vertex %zu\", i);\n      |             ^\n/Library/Developer/CommandLineTools/SDKs/MacOSX.sdk/usr/include/_stdio.h:278:1: note: 'sprintf' has been explicitly marked deprecated here\n  278 | __deprecated_msg(\"This function is provided for compatibility reasons only.  Due to security concerns inherent in the design of sprintf(3), it is highly recommended that you use snprintf(3) instead.\")\n      | ^\n/Library/Developer/CommandLineTools/SDKs/MacOSX.sdk/usr/include/sys/cdefs.h:218:48: note: expanded from macro '__deprecated_msg'\n  218 |         #define __deprecated_msg(_msg) __attribute__((__deprecated__(_msg)))\n      |                                                       ^\n/Users/kmt/PtDAlgorithms/src/c/ptdalgorithms.c:6699:21: error: cannot initialize a variable of type 'size_t *' (aka 'unsigned long *') with an rvalue of type 'void *'\n 6699 |             size_t *weight_indices = malloc(v->edges_length * sizeof(size_t));\n      |                     ^                ~~~~~~~~~~~~~~~~~~~~~~~~~~~~~~~~~~~~~~~~\n/Users/kmt/PtDAlgorithms/src/c/ptdalgorithms.c:6701:17: warning: 'sprintf' is deprecated: This function is provided for compatibility reasons only.  Due to security concerns inherent in the design of sprintf(3), it is highly recommended that you use snprintf(3) instead. [-Wdeprecated-declarations]\n 6701 |                 sprintf((char*)ptd_err, \"ptd_record_elimination_trace: failed to allocate weight_indices\");\n      |                 ^\n/Library/Developer/CommandLineTools/SDKs/MacOSX.sdk/usr/include/_stdio.h:278:1: note: 'sprintf' has been explicitly marked deprecated here\n  278 | __deprecated_msg(\"This function is provided for compatibility reasons only.  Due to security concerns inherent in the design of sprintf(3), it is highly recommended that you use snprintf(3) instead.\")\n      | ^\n/Library/Developer/CommandLineTools/SDKs/MacOSX.sdk/usr/include/sys/cdefs.h:218:48: note: expanded from macro '__deprecated_msg'\n  218 |         #define __deprecated_msg(_msg) __attribute__((__deprecated__(_msg)))\n      |                                                       ^\n/Users/kmt/PtDAlgorithms/src/c/ptdalgorithms.c:6759:13: error: cannot initialize a variable of type 'size_t *' (aka 'unsigned long *') with an rvalue of type 'void *'\n 6759 |     size_t *edge_capacities = malloc(trace->n_vertices * sizeof(size_t));\n      |             ^                 ~~~~~~~~~~~~~~~~~~~~~~~~~~~~~~~~~~~~~~~~~~\n/Users/kmt/PtDAlgorithms/src/c/ptdalgorithms.c:6761:9: warning: 'sprintf' is deprecated: This function is provided for compatibility reasons only.  Due to security concerns inherent in the design of sprintf(3), it is highly recommended that you use snprintf(3) instead. [-Wdeprecated-declarations]\n 6761 |         sprintf((char*)ptd_err, \"ptd_record_elimination_trace: failed to allocate edge_capacities\");\n      |         ^\n/Library/Developer/CommandLineTools/SDKs/MacOSX.sdk/usr/include/_stdio.h:278:1: note: 'sprintf' has been explicitly marked deprecated here\n  278 | __deprecated_msg(\"This function is provided for compatibility reasons only.  Due to security concerns inherent in the design of sprintf(3), it is highly recommended that you use snprintf(3) instead.\")\n      | ^\n/Library/Developer/CommandLineTools/SDKs/MacOSX.sdk/usr/include/sys/cdefs.h:218:48: note: expanded from macro '__deprecated_msg'\n  218 |         #define __deprecated_msg(_msg) __attribute__((__deprecated__(_msg)))\n      |                                                       ^\n/Users/kmt/PtDAlgorithms/src/c/ptdalgorithms.c:6775:36: error: assigning to 'size_t *' (aka 'unsigned long *') from incompatible type 'void *'\n 6775 |             trace->edge_probs[i] = malloc(edge_capacities[i] * sizeof(size_t));\n      |                                    ^~~~~~~~~~~~~~~~~~~~~~~~~~~~~~~~~~~~~~~~~~~\nfatal error: too many errors emitted, stopping now [-ferror-limit=]\n8 warnings and 20 errors generated.\n"
     ]
    }
   ],
   "source": [
    "import time\n",
    "\n",
    "# Create a larger rabbit model to see timing differences more clearly\n",
    "def larger_rabbit_callback(state, max_rabbits=5):\n",
    "    if len(state) == 0:\n",
    "        return [([5, 5], 1.0, [1.0, 0.0, 0.0])]\n",
    "    \n",
    "    n1, n2 = state[0], state[1]\n",
    "    transitions = []\n",
    "    \n",
    "    if n1 + n2 == 0:\n",
    "        return []  # Absorbing state\n",
    "    \n",
    "    # Births (parameter 0)\n",
    "    if n1 > 0 and n1 + n2 < max_rabbits:\n",
    "        transitions.append(([n1 + 1, n2], 0.0, [n1 * 0.5, 0.0, 0.0]))\n",
    "    if n2 > 0 and n1 + n2 < max_rabbits:\n",
    "        transitions.append(([n1, n2 + 1], 0.0, [n2 * 0.5, 0.0, 0.0]))\n",
    "    \n",
    "    # Deaths (parameter 1)\n",
    "    if n1 > 0:\n",
    "        transitions.append(([n1 - 1, n2], 0.0, [0.0, n1 * 0.3, 0.0]))\n",
    "    if n2 > 0:\n",
    "        transitions.append(([n1, n2 - 1], 0.0, [0.0, n2 * 0.3, 0.0]))\n",
    "    \n",
    "    # Migration (parameter 2)\n",
    "    if n1 > 0:\n",
    "        transitions.append(([n1 - 1, n2 + 1], 0.0, [0.0, 0.0, n1 * 0.2]))\n",
    "    if n2 > 0:\n",
    "        transitions.append(([n1 + 1, n2 - 1], 0.0, [0.0, 0.0, n2 * 0.2]))\n",
    "    \n",
    "    return transitions\n",
    "\n",
    "print(\"First construction (cache miss expected)...\")\n",
    "start = time.time()\n",
    "graph1 = Graph(callback=larger_rabbit_callback, parameterized=True, max_rabbits=5)\n",
    "model1 = Graph.pmf_from_graph(graph1, use_cache=True)\n",
    "time1 = time.time() - start\n",
    "print(f\"✓ Completed in {time1:.4f}s (includes symbolic elimination + caching)\\n\")\n",
    "\n",
    "# Simulate a new Python session: create the same model with different initial parameters\n",
    "print(\"Second construction with same structure (cache hit expected)...\")\n",
    "start = time.time()\n",
    "graph2 = Graph(callback=larger_rabbit_callback, parameterized=True, max_rabbits=5)\n",
    "model2 = Graph.pmf_from_graph(graph2, use_cache=True)\n",
    "time2 = time.time() - start\n",
    "print(f\"✓ Completed in {time2:.4f}s (loaded from cache!)\\n\")\n",
    "\n",
    "speedup = time1 / time2 if time2 > 0 else 0\n",
    "print(f\"🚀 Speedup from caching: {speedup:.1f}×\")\n",
    "print(f\"\\nKey Insight:\")\n",
    "print(f\"  • Graph topology and parameterization are identical\")\n",
    "print(f\"  • Symbolic DAG is the same regardless of parameter values\")\n",
    "print(f\"  • Cache recognizes this and avoids redundant computation\")\n",
    "print(f\"  • This speedup applies across all Python sessions!\")"
   ]
  },
  {
   "cell_type": "markdown",
   "metadata": {},
   "source": [
    "## Cache Management and Collaboration\n",
    "\n",
    "The cache is designed to be low-maintenance, but several tools are available for power users:\n",
    "\n",
    "**Inspecting the cache:** Use `cache.info()` to see summary statistics, or `cache.list_entries(limit=N)` to see individual entries \n",
    "with their hashes, timestamps, and sizes.\n",
    "\n",
    "**Sharing with collaborators:** Export your cache with `cache.export_library(output_dir)` to create a shareable directory containing \n",
    "symbolic DAGs. Collaborators can then run `cache.import_library(exported_dir)` to add these pre-computed models to their cache. This is \n",
    "especially useful for complex models that take minutes to eliminate—once one person computes it, everyone else gets instant loading.\n",
    "\n",
    "**CLI tool:** The `ptd-cache` command-line tool provides convenient cache management:\n",
    "```bash\n",
    "# Show cache statistics\n",
    "ptd-cache info\n",
    "\n",
    "# List cached models\n",
    "ptd-cache list --limit 10\n",
    "\n",
    "# Export cache for sharing\n",
    "ptd-cache export my_models.tar.gz\n",
    "\n",
    "# Import someone else's cache\n",
    "ptd-cache import downloaded_models.tar.gz\n",
    "\n",
    "# Clean up old entries\n",
    "ptd-cache vacuum --max-age-days 30\n",
    "```\n",
    "\n",
    "**Distributed computing:** In HPC environments with shared filesystems, you can configure multiple compute nodes to share a cache by \n",
    "pointing the cache directory to network storage. The cache uses file locking to safely handle concurrent access, allowing distributed \n",
    "jobs to share symbolic DAGs without redundant computation. See the [distributed computing guide](../distributed/distributed_computing_complete_guide.ipynb) \n",
    "for details.\n",
    "\n",
    "**Disabling caching:** If needed, you can disable automatic caching with `use_cache=False`:\n",
    "```python\n",
    "model = Graph.pmf_from_graph(graph, use_cache=False)  # Always recompute\n",
    "```\n",
    "This is rarely necessary but can be useful for testing or when you suspect cache corruption."
   ]
  },
  {
   "cell_type": "markdown",
   "metadata": {},
   "source": [
    "# State space modelling"
   ]
  },
  {
   "cell_type": "markdown",
   "metadata": {},
   "source": [
    "## Time inhomogeneity"
   ]
  },
  {
   "cell_type": "markdown",
   "metadata": {},
   "source": [
    "If the weights change over time - or new edges are added!\n",
    "\n",
    "Then the distribution is time inhomogeneous. The api also\n",
    "supports such distributions, but in limited manner.\n",
    "\n",
    "Like the pph, dph, etc. functions, it is a (very good) approximation based\n",
    "on very small steps. If the rates change dramatically, set the granularity\n",
    "as an argument to the functions!! E.g. set it to a high enough value.\n",
    "\n",
    "If we pick a time far into the future, we can integrate under the pdf to find the expectation!"
   ]
  },
  {
   "cell_type": "markdown",
   "metadata": {},
   "source": [
    "Integrating over accumulated visiting time:"
   ]
  },
  {
   "cell_type": "code",
   "execution_count": null,
   "metadata": {},
   "outputs": [
    {
     "data": {
      "text/plain": [
       "0.5038265306014538"
      ]
     },
     "execution_count": 64,
     "metadata": {},
     "output_type": "execute_result"
    }
   ],
   "source": [
    "sum(graph.accumulated_visiting_time(10))"
   ]
  },
  {
   "cell_type": "markdown",
   "metadata": {},
   "source": [
    "The first moment (expectation):"
   ]
  },
  {
   "cell_type": "code",
   "execution_count": null,
   "metadata": {},
   "outputs": [
    {
     "data": {
      "text/plain": [
       "0.5038265306122448"
      ]
     },
     "execution_count": 65,
     "metadata": {},
     "output_type": "execute_result"
    }
   ],
   "source": [
    "graph.expectation()"
   ]
  },
  {
   "cell_type": "markdown",
   "metadata": {},
   "source": [
    "Say at a certain point in time, the flooding starts!\n",
    "\n",
    "In the beginning, there is *no* flooding"
   ]
  },
  {
   "cell_type": "code",
   "execution_count": null,
   "metadata": {},
   "outputs": [],
   "source": [
    "param_graph.update_parameterized_weights([1, 0, 0])"
   ]
  },
  {
   "cell_type": "markdown",
   "metadata": {},
   "source": [
    "\n",
    "We can build a context to step over the distribution.\n",
    "Weights can be freely changed and edges added in such a context\n"
   ]
  },
  {
   "cell_type": "code",
   "execution_count": null,
   "metadata": {},
   "outputs": [],
   "source": [
    "# import ptdalgorithms as ptd\n",
    "# import numpy as np\n",
    "\n",
    "# def c(*args):\n",
    "#     elem = []\n",
    "#     for arg in args:\n",
    "#         if hasattr(arg, '__len__') and len(arg) > 1:\n",
    "#             elem.extend(arg)\n",
    "#         else:\n",
    "#             elem.append(arg)\n",
    "#     return np.array(elem)\n",
    "\n",
    "\n",
    "# nr_rabbits, flood_left, flood_right = 2, 2, 4\n",
    "\n",
    "# # we represent the vector as two integers, the number of \n",
    "# # rabbits on the left and right island\n",
    "# state_vector_length = 2\n",
    "# graph = ptd.Graph(state_vector_length)\n",
    "\n",
    "# # the initial state is the only starting state, with probability 1\n",
    "# initial_state = c(nr_rabbits, 0)\n",
    "# vertex = graph.find_or_create_vertex(initial_state)\n",
    "# graph.starting_vertex().add_edge(vertex, 1)\n",
    "\n",
    "# index = 1\n",
    "# # iterate over all unvisited vertices\n",
    "# while index < graph.vertices_length():\n",
    "#     vertex = graph.vertex_at(index)\n",
    "#     state = vertex.state()\n",
    "    \n",
    "#     if state[0] > 0:\n",
    "#         # rabbit jump left to right\n",
    "#         child_state = c(state[0] - 1, state[1] + 1)\n",
    "#         vertex.add_edge(\n",
    "#             graph.find_or_create_vertex(child_state),\n",
    "#             weight=1\n",
    "#         )\n",
    "#         # left island flooding\n",
    "#         child_state = c(0, state[1])\n",
    "#         vertex.add_edge(\n",
    "#             graph.find_or_create_vertex(child_state), \n",
    "#             weight=flood_left\n",
    "#         )\n",
    "#     if state[1] > 0:   \n",
    "#         child_state = c(state[0] + 1, state[1] - 1)\n",
    "#         vertex.add_edge(\n",
    "#             graph.find_or_create_vertex(child_state),\n",
    "#             weight=1\n",
    "#         )\n",
    "#         # right island flooding\n",
    "#         child_state = c(state[0], 0)\n",
    "#         vertex.add_edge(\n",
    "#             graph.find_or_create_vertex(child_state), \n",
    "#             weight=flood_right\n",
    "#         )\n",
    "\n",
    "#     index += 1\n",
    "    \n",
    "# # graph.plot(nodesep=1, ranksep=0.1)"
   ]
  },
  {
   "cell_type": "code",
   "execution_count": null,
   "metadata": {},
   "outputs": [],
   "source": [
    "\n",
    "# ctx = graph.distribution_context()\n",
    "# cdfs = []\n",
    "# times = []\n",
    "\n",
    "# # while ctx.time() < 1.5:\n",
    "# while ctx.cdf() < 0.999:\n",
    "\n",
    "#     cdfs.append(ctx.cdf())\n",
    "#     times.append(ctx.time())\n",
    "#     param_graph.update_parameterized_weights(\n",
    "#         [1,\n",
    "#         ctx.time() - 1.5, \n",
    "#         2 * ctx.time() - 1.5\n",
    "#         ]\n",
    "#     )\n",
    "#     ctx.step()"
   ]
  },
  {
   "cell_type": "markdown",
   "metadata": {},
   "source": [
    "It increases by every time step. Time until all rabbits are dead. Flooding increases linearly after 1.5 time units:"
   ]
  },
  {
   "cell_type": "code",
   "execution_count": null,
   "metadata": {},
   "outputs": [
    {
     "data": {
      "image/png": "[encoded data removed]",
      "text/plain": [
       "<Figure size 400x300 with 1 Axes>"
      ]
     },
     "metadata": {
      "image/png": {
       "height": 274,
       "width": 361
      }
     },
     "output_type": "display_data"
    }
   ],
   "source": [
    "param_graph.update_parameterized_weights([1, 0, 0])\n",
    "\n",
    "ctx = param_graph.distribution_context()\n",
    "cdfs = []\n",
    "times = []\n",
    "\n",
    "while ctx.time() < 1.5:\n",
    "    cdfs.append(ctx.cdf())\n",
    "    times.append(ctx.time())\n",
    "    ctx.step()\n",
    "\n",
    "#param_graph.update_parameterized_weights([1, 1, 1])\n",
    "\n",
    "# at time 1.5, the flooding starts!\n",
    "while ctx.cdf() < 0.999:\n",
    "    cdfs.append(ctx.cdf())\n",
    "    times.append(ctx.time())\n",
    "    param_graph.update_parameterized_weights(\n",
    "        [1,\n",
    "        ctx.time() - 1.5, \n",
    "        2 * ctx.time() - 1.5\n",
    "        ]\n",
    "    )\n",
    "    ctx.step()\n",
    "\n",
    "fig, ax = plt.subplots(1, 1, figsize=(4, 3))\n",
    "ax.plot(times, cdfs)\n",
    "sns.despine()"
   ]
  },
  {
   "cell_type": "markdown",
   "metadata": {},
   "source": [
    "If we pick a time far into the future, we can integrate under it to find the expectation. This means that we can scale by a reward, and thereby find the marginal expectation."
   ]
  },
  {
   "cell_type": "markdown",
   "metadata": {},
   "source": [
    "Summing over accumulated visiting time (with reward):"
   ]
  },
  {
   "cell_type": "code",
   "execution_count": null,
   "metadata": {},
   "outputs": [
    {
     "data": {
      "text/plain": [
       "np.float64(0.09438775509887067)"
      ]
     },
     "execution_count": 70,
     "metadata": {},
     "output_type": "execute_result"
    }
   ],
   "source": [
    "np.sum(graph.accumulated_visiting_time(10)*graph.states()[:,1])"
   ]
  },
  {
   "cell_type": "markdown",
   "metadata": {},
   "source": [
    "The first moment (expectation) (with reward):"
   ]
  },
  {
   "cell_type": "code",
   "execution_count": null,
   "metadata": {},
   "outputs": [
    {
     "data": {
      "text/plain": [
       "0.09438775510204081"
      ]
     },
     "execution_count": 71,
     "metadata": {},
     "output_type": "execute_result"
    }
   ],
   "source": [
    "graph.expectation(graph.states()[:,1])"
   ]
  },
  {
   "cell_type": "markdown",
   "metadata": {},
   "source": [
    "But if the time is *not* far into the future, we get the expectation up to a certain point in time."
   ]
  },
  {
   "cell_type": "markdown",
   "metadata": {},
   "source": [
    "Expectation (rewarded) when truncating at 0.05 time:          "
   ]
  },
  {
   "cell_type": "code",
   "execution_count": null,
   "metadata": {},
   "outputs": [
    {
     "data": {
      "text/plain": [
       "np.float64(0.0011713234985744549)"
      ]
     },
     "execution_count": 72,
     "metadata": {},
     "output_type": "execute_result"
    }
   ],
   "source": [
    "np.sum(graph.accumulated_visiting_time(0.05)*graph.states()[:,1])"
   ]
  },
  {
   "cell_type": "markdown",
   "metadata": {},
   "source": [
    "Untruncated expectation:"
   ]
  },
  {
   "cell_type": "code",
   "execution_count": null,
   "metadata": {},
   "outputs": [
    {
     "data": {
      "text/plain": [
       "0.09438775510204081"
      ]
     },
     "execution_count": 73,
     "metadata": {},
     "output_type": "execute_result"
    }
   ],
   "source": [
    "graph.expectation(graph.states()[:,1])"
   ]
  },
  {
   "cell_type": "markdown",
   "metadata": {},
   "source": [
    "Expectation (rewarded) when *starting* at 0.05 time:          "
   ]
  },
  {
   "cell_type": "code",
   "execution_count": null,
   "metadata": {},
   "outputs": [],
   "source": []
  },
  {
   "cell_type": "markdown",
   "metadata": {},
   "source": [
    "## Modelling epochs in state space"
   ]
  },
  {
   "cell_type": "code",
   "execution_count": null,
   "metadata": {},
   "outputs": [],
   "source": []
  },
  {
   "cell_type": "code",
   "execution_count": null,
   "metadata": {},
   "outputs": [],
   "source": []
  },
  {
   "cell_type": "markdown",
   "metadata": {},
   "source": [
    "## Laplace transform\n",
    "\n",
    "The Laplace transform is a fundamental tool for analyzing continuous phase-type distributions. For a random variable T with probability density function f(t), the Laplace transform is defined as L(s) = E[e^(-sT)] = ∫₀^∞ e^(-st) f(t) dt. For phase-type distributions represented as absorbing Markov chains, the Laplace transform has an elegant matrix form that can be computed efficiently from the graph structure.\n",
    "\n",
    "The Laplace transform is particularly useful because it provides an alternative characterization of the distribution that often simplifies analytical calculations. Moments can be recovered by differentiating the Laplace transform: the n-th moment is E[T^n] = (-1)^n (d^n L/ds^n)|_{s=0}. The Laplace transform also plays a crucial role in analyzing time-inhomogeneous processes and in computing convolutions of distributions.\n",
    "\n",
    "In our rabbit model, the Laplace transform captures the moment generating function of the time until all rabbits have died. Let's compute it and verify that we can recover moments by differentiation."
   ]
  },
  {
   "cell_type": "code",
   "execution_count": null,
   "metadata": {},
   "outputs": [],
   "source": [
    "# Compute Laplace transform for several values of s\n",
    "s_values = np.array([0.1, 0.5, 1.0, 2.0, 5.0, 10.0])\n",
    "laplace_values = graph.laplace_transform(s_values)\n",
    "\n",
    "print(\"Laplace transform L(s) = E[e^(-sT)]:\")\n",
    "for s, L_s in zip(s_values, laplace_values):\n",
    "    print(f\"  L({s:4.1f}) = {L_s:.6f}\")\n",
    "\n",
    "# Verify that L(0) = 1 (certain event)\n",
    "L_0 = graph.laplace_transform(np.array([0.0]))[0]\n",
    "print(f\"\\nVerification: L(0) = {L_0:.10f} (should be 1.0)\")\n",
    "\n",
    "# Verify relationship to moments using numerical differentiation\n",
    "# E[T] = -L'(0), so we approximate with finite differences\n",
    "h = 1e-6\n",
    "L_h = graph.laplace_transform(np.array([h]))[0]\n",
    "L_0 = graph.laplace_transform(np.array([0.0]))[0]\n",
    "numerical_expectation = -(L_h - L_0) / h\n",
    "analytical_expectation = graph.expectation()\n",
    "\n",
    "print(f\"\\nExpectation from Laplace derivative: {numerical_expectation:.6f}\")\n",
    "print(f\"Expectation from direct computation: {analytical_expectation:.6f}\")\n",
    "print(f\"Relative error: {abs(numerical_expectation - analytical_expectation)/analytical_expectation * 100:.4f}%\")"
   ]
  },
  {
   "cell_type": "markdown",
   "metadata": {},
   "source": [
    "## Joint probability\n",
    "\n",
    "Phase-type distributions can be extended to model joint probabilities of multiple random variables. This is particularly important in applications like population genetics, where we might be interested in the joint distribution of coalescence times for multiple lineages, or in reliability theory, where we might want the joint distribution of failure times for multiple components. The library provides tools for constructing and analyzing such joint distributions through the concept of multi-dimensional phase-type distributions.\n",
    "\n",
    "The key idea is that we can embed multiple independent or dependent processes into a single state space, where the state vector encodes the progress of all processes simultaneously. Transitions in this joint state space then correspond to events in any of the individual processes. By carefully constructing the edge weights and using reward transformations, we can extract marginal distributions, conditional distributions, and joint distribution functions.\n",
    "\n",
    "In our rabbit model, we might be interested in the joint distribution of two quantities: the time until the left island is depleted (either by jumping or flooding) and the time until the right island is depleted. These two times are not independent—they are coupled through the rabbits jumping between islands. Let's construct a model that tracks both times simultaneously."
   ]
  },
  {
   "cell_type": "code",
   "execution_count": 70,
   "metadata": {},
   "outputs": [
    {
     "name": "stdout",
     "output_type": "stream",
     "text": [
      "Created joint model with 24 states\n",
      "\n",
      "First few states (rabbits_left, rabbits_right, left_depleted, right_depleted):\n",
      "  State 0: [0 0 0 0]\n",
      "  State 1: [3 0 0 0]\n",
      "  State 2: [2 1 0 0]\n",
      "  State 3: [0 0 1 0]\n",
      "  State 4: [1 2 0 0]\n",
      "  State 5: [0 1 1 0]\n",
      "  State 6: [3 0 0 1]\n",
      "  State 7: [2 0 0 1]\n",
      "  State 8: [0 3 1 0]\n",
      "  State 9: [0 2 1 0]\n"
     ]
    }
   ],
   "source": [
    "# Construct a rabbit model that tracks time to depletion for each island separately\n",
    "def construct_joint_time_model(nr_rabbits, flood_left, flood_right):\n",
    "    \"\"\"\n",
    "    Construct a model tracking joint distribution of depletion times.\n",
    "    State: [rabbits_left, rabbits_right, left_depleted, right_depleted]\n",
    "    \"\"\"\n",
    "    graph = Graph(state_length=4)\n",
    "\n",
    "    initial_state = [nr_rabbits, 0, 0, 0]  # Start with all rabbits on left\n",
    "    graph.starting_vertex().add_edge(graph.find_or_create_vertex(initial_state), 1)\n",
    "\n",
    "    index = 1\n",
    "    while index < graph.vertices_length():\n",
    "        vertex = graph.vertex_at(index)\n",
    "        state = list(vertex.state())\n",
    "\n",
    "        # If left island has rabbits and not yet depleted\n",
    "        if state[0] > 0 and state[2] == 0:\n",
    "            # Jump to right\n",
    "            child_state = [state[0] - 1, state[1] + 1, state[2], state[3]]\n",
    "            if child_state[0] == 0:\n",
    "                child_state[2] = 1  # Mark left as depleted\n",
    "            vertex.add_edge(graph.find_or_create_vertex(child_state), weight=1)\n",
    "\n",
    "            # Left flooding\n",
    "            child_state = [0, state[1], 1, state[3]]  # All left rabbits die, mark depleted\n",
    "            vertex.add_edge(graph.find_or_create_vertex(child_state), weight=flood_left)\n",
    "\n",
    "        # If right island has rabbits and not yet depleted\n",
    "        if state[1] > 0 and state[3] == 0:\n",
    "            # Jump to left\n",
    "            child_state = [state[0] + 1, state[1] - 1, state[2], state[3]]\n",
    "            if child_state[1] == 0:\n",
    "                child_state[3] = 1  # Mark right as depleted\n",
    "            vertex.add_edge(graph.find_or_create_vertex(child_state), weight=1)\n",
    "\n",
    "            # Right flooding\n",
    "            child_state = [state[0], 0, state[2], 1]  # All right rabbits die, mark depleted\n",
    "            vertex.add_edge(graph.find_or_create_vertex(child_state), weight=flood_right)\n",
    "\n",
    "        index += 1\n",
    "\n",
    "    return graph\n",
    "\n",
    "# Create the joint model\n",
    "joint_graph = construct_joint_time_model(3, 2.0, 4.0)\n",
    "print(f\"Created joint model with {joint_graph.vertices_length()} states\")\n",
    "print(f\"\\nFirst few states (rabbits_left, rabbits_right, left_depleted, right_depleted):\")\n",
    "for i in range(min(10, joint_graph.vertices_length())):\n",
    "    print(f\"  State {i}: {joint_graph.vertex_at(i).state()}\")"
   ]
  },
  {
   "cell_type": "markdown",
   "metadata": {},
   "source": [
    "Now we can use rewards to extract information about the joint distribution. By defining rewards that are non-zero only until each island is depleted, we can compute the marginal time until depletion for each island. By looking at the joint accumulated rewards, we can explore the correlation between these depletion times."
   ]
  },
  {
   "cell_type": "code",
   "execution_count": 71,
   "metadata": {},
   "outputs": [
    {
     "name": "stdout",
     "output_type": "stream",
     "text": [
      "Expected time until left island depleted: 0.4836\n",
      "Expected time until right island depleted: 0.4017\n",
      "\n",
      "Covariance between depletion times: 0.131722\n",
      "Correlation: 0.7704\n",
      "\n",
      "The positive correlation indicates that when the left island takes longer to deplete,\n",
      "the right island also tends to take longer (rabbits jumping back and forth prolongs both)\n"
     ]
    },
    {
     "name": "stderr",
     "output_type": "stream",
     "text": [
      "INFO: building reward compute graph...\n"
     ]
    }
   ],
   "source": [
    "# Define rewards: earn reward while island is not depleted\n",
    "states = joint_graph.states()\n",
    "\n",
    "# Reward 1: time spent before left depletion (left_depleted == 0)\n",
    "reward_before_left_depletion = (states[:, 2] == 0).astype(float)\n",
    "\n",
    "# Reward 2: time spent before right depletion (right_depleted == 0)\n",
    "reward_before_right_depletion = (states[:, 3] == 0).astype(float)\n",
    "\n",
    "# Compute expectations\n",
    "E_time_to_left_depletion = joint_graph.expectation(reward_before_left_depletion)\n",
    "E_time_to_right_depletion = joint_graph.expectation(reward_before_right_depletion)\n",
    "\n",
    "print(f\"Expected time until left island depleted: {E_time_to_left_depletion:.4f}\")\n",
    "print(f\"Expected time until right island depleted: {E_time_to_right_depletion:.4f}\")\n",
    "\n",
    "# Compute covariance between the two times\n",
    "cov = joint_graph.covariance(reward_before_left_depletion, reward_before_right_depletion)\n",
    "var_left = joint_graph.variance(reward_before_left_depletion)\n",
    "var_right = joint_graph.variance(reward_before_right_depletion)\n",
    "correlation = cov / np.sqrt(var_left * var_right)\n",
    "\n",
    "print(f\"\\nCovariance between depletion times: {cov:.6f}\")\n",
    "print(f\"Correlation: {correlation:.4f}\")\n",
    "print(\"\\nThe positive correlation indicates that when the left island takes longer to deplete,\")\n",
    "print(\"the right island also tends to take longer (rabbits jumping back and forth prolongs both)\")"
   ]
  },
  {
   "cell_type": "markdown",
   "metadata": {},
   "source": [
    "This framework for joint probabilities extends naturally to more complex scenarios. We can model multiple dependent processes, extract conditional distributions, and analyze the dependencies between different random variables in our model. The key is careful state space construction that encodes all relevant information, combined with judicious use of rewards to extract the quantities of interest. In population genetics applications, this approach is used to model the joint distribution of coalescence times across multiple loci or populations, capturing the complex dependencies induced by recombination and migration."
   ]
  },
  {
   "cell_type": "markdown",
   "metadata": {},
   "source": [
    "We can increase granularity for better performance:"
   ]
  },
  {
   "cell_type": "code",
   "execution_count": 72,
   "metadata": {},
   "outputs": [
    {
     "data": {
      "text/plain": [
       "np.float64(0.0011138317897953385)"
      ]
     },
     "execution_count": 72,
     "metadata": {},
     "output_type": "execute_result"
    }
   ],
   "source": [
    "np.sum(graph.accumulated_visiting_time(0.05, granularity=1000000)*graph.states()[:,1])"
   ]
  },
  {
   "cell_type": "markdown",
   "metadata": {},
   "source": [
    "# Building the state space in C"
   ]
  },
  {
   "cell_type": "markdown",
   "metadata": {},
   "source": [
    "Very very large models can be take a long time to construct. So if you have deloped a model that you need to construct repeatedly, the library allow you to implement the state construction as a stand-alone C/C++ extension available as python module. "
   ]
  },
  {
   "cell_type": "markdown",
   "metadata": {},
   "source": [
    "The C code building the state space for the rabit model looks like this:"
   ]
  },
  {
   "cell_type": "markdown",
   "metadata": {},
   "source": [
    "```{c}\n",
    "ptdalgorithms::Graph build(int starting_rabbits, float flooding_left, float flooding_right) {\n",
    "\n",
    "    size_t state_size = 2;\n",
    "    struct ptd_graph *graph = ptd_graph_create(state_size);\n",
    "    struct ptd_avl_tree *avl_tree = ptd_avl_tree_create(state_size);\n",
    "    int *initial_state = (int*)calloc(graph->state_length, sizeof(*initial_state));\n",
    "    int *child_state = (int*)calloc(graph->state_length, sizeof(*initial_state));\n",
    "    initial_state[0] = starting_rabbits;\n",
    "    ptd_graph_add_edge(\n",
    "            graph->starting_vertex,\n",
    "            ptd_find_or_create_vertex(graph, avl_tree, initial_state),\n",
    "            1\n",
    "    );\n",
    "    for (size_t k = 1; k < graph->vertices_length; k++) {\n",
    "        struct ptd_vertex *vertex = graph->vertices[k];\n",
    "        int *state = vertex->state;\n",
    "        if (state[0] > 0) {\n",
    "            memcpy(child_state, vertex->state, graph->state_length * sizeof(int));\n",
    "            child_state[0] -= 1;\n",
    "            child_state[1] += 1;\n",
    "\n",
    "            ptd_graph_add_edge(\n",
    "                    vertex,\n",
    "                    ptd_find_or_create_vertex(graph, avl_tree, child_state),\n",
    "                    1\n",
    "            );\n",
    "            memcpy(child_state, vertex->state, graph->state_length * sizeof(int));\n",
    "            child_state[0] = 0;\n",
    "            ptd_graph_add_edge(\n",
    "                    vertex,\n",
    "                    ptd_find_or_create_vertex(graph, avl_tree, child_state),\n",
    "                    flooding_left\n",
    "            );\n",
    "        }\n",
    "        if (state[1] > 0) {\n",
    "            memcpy(child_state, vertex->state, graph->state_length * sizeof(int));\n",
    "            child_state[1] -= 1;\n",
    "            child_state[0] += 1;\n",
    "            ptd_graph_add_edge(\n",
    "                    vertex,\n",
    "                    ptd_find_or_create_vertex(graph, avl_tree, child_state),\n",
    "                    1\n",
    "            );\n",
    "            memcpy(child_state, vertex->state, graph->state_length * sizeof(int));\n",
    "            child_state[1] = 0;\n",
    "            ptd_graph_add_edge(\n",
    "                    vertex,\n",
    "                    ptd_find_or_create_vertex(graph, avl_tree, child_state),\n",
    "                    flooding_right\n",
    "            );\n",
    "        }\n",
    "    }\n",
    "    free(child_state);\n",
    "    ptdalgorithms::Graph *result = new ptdalgorithms::Graph(graph, avl_tree);\n",
    "    return *result;\n",
    "}"
   ]
  },
  {
   "cell_type": "markdown",
   "metadata": {},
   "source": [
    "To access the function from python, you need to put it a separate file (`rabbit_state_space.cpp`) with the header and footer shown below:"
   ]
  },
  {
   "cell_type": "markdown",
   "metadata": {},
   "source": [
    "```{c}\n",
    "#include <pybind11/pybind11.h>\n",
    "#include <ptdalgorithms.h>\n",
    "#include \"stdint.h\"\n",
    "#include \"stdlib.h\"\n",
    "\n",
    "namespace py = pybind11;\n",
    "using namespace pybind11::literals;\n",
    "/*******************************************/\n",
    "\n",
    "\n",
    "/* Your build function goes here */\n",
    "\n",
    "\n",
    "/********************************************/\n",
    "PYBIND11_MODULE(rabbit_state_space, m) {     /* <- NB: the model name must match the file name */\n",
    "     m.def(\"build\", &build);\n",
    "}\n",
    "\n",
    "/*\n",
    "<%\n",
    "setup_pybind11(cfg)\n",
    "%>\n",
    "*/\n",
    "```"
   ]
  },
  {
   "cell_type": "markdown",
   "metadata": {},
   "source": [
    "You can see the complete code in [rabbit_state_space.cpp](rabbit_state_space.cpp)."
   ]
  },
  {
   "cell_type": "markdown",
   "metadata": {},
   "source": [
    "Then all you need to do is install cppimport\n",
    "\n",
    "    pixi add cppimport\n",
    "\n",
    "or\n",
    "    \n",
    "    pip install cppimport\n",
    "\n",
    "and then run this code to import your build function.\n",
    "\n",
    "```python\n",
    "# import ptdalgorithms\n",
    "import cppimport.import_hook\n",
    "import rabbit_state_space # this will pause for a moment to compile the module\n",
    "```\n",
    "\n",
    "Then you can use it to construct your graph like this:\n",
    "\n",
    "```python\n",
    "graph = ptd.Graph(rabbit_state_space.build(2, 2, 4))\n",
    "graph.plot()\n",
    "```"
   ]
  },
  {
   "cell_type": "markdown",
   "metadata": {},
   "source": []
  },
  {
   "cell_type": "markdown",
   "metadata": {},
   "source": [
    "# Inference"
   ]
  },
  {
   "cell_type": "markdown",
   "metadata": {},
   "source": [
    "## Bayesian Inference with SVGD (Stein Variational Gradient Descent)"
   ]
  },
  {
   "cell_type": "markdown",
   "metadata": {},
   "source": [
    "Having explored how to construct models, compute their properties, evaluate them efficiently, and scale computations across distributed clusters, we now turn to a fundamental question: given observed data, how do we estimate the parameters of our model? This is the domain of statistical inference. In a Bayesian framework, we seek not just point estimates but entire posterior distributions over parameters, quantifying our uncertainty about parameter values given the data we have observed.\n",
    "\n",
    "Traditional Markov Chain Monte Carlo (MCMC) methods like Metropolis-Hastings and Hamiltonian Monte Carlo have been the workhorses of Bayesian inference for decades. However, these methods face challenges with high-dimensional parameter spaces, complex posterior geometries, and the need for many sequential samples to achieve convergence. Stein Variational Gradient Descent (SVGD) offers a compelling alternative. Instead of generating samples sequentially through a Markov chain, SVGD represents the posterior with a set of particles (parameter vectors) and updates these particles iteratively to move them toward the posterior distribution. The method combines ideas from optimization, kernel methods, and functional analysis to create a deterministic algorithm that is highly parallelizable and works well in high dimensions.\n",
    "\n",
    "The key insight of SVGD is to treat inference as an optimization problem in the space of probability distributions. We start with an initial set of particles (typically drawn from the prior or from a simple distribution) and iteratively transport these particles toward the posterior using gradient information. Each particle interacts with all other particles through a kernel function, with the interaction strength depending on the distance between particles. This interaction ensures that particles spread out to cover the posterior distribution rather than collapsing to a single mode. The updates use gradients of the log-likelihood and log-prior, which we can compute efficiently using JAX's automatic differentiation.\n",
    "\n",
    "For our rabbit model, imagine we have observed data: the time until all rabbits died. Based on this observation, we want to estimate the three parameters of our model—jump rate, left flooding rate, and right flooding rate—along with quantifying our uncertainty about these parameters. We will set up a likelihood function, specify a prior distribution, and use SVGD to approximate the posterior distribution with a set of particles. This workflow showcases the entire pipeline: model construction, JAX integration, gradient-based inference, and (optionally) distributed computing.\n",
    "Now we need to define our inference problem in terms of a log-posterior function. According to Bayes' theorem, the posterior is proportional to the likelihood times the prior: p(θ|data) ∝ p(data|θ) × p(θ). Taking logarithms gives us log p(θ|data) = log p(data|θ) + log p(θ) + constant. The SVGD algorithm requires us to provide a function that computes this log-posterior (up to an additive constant, which doesn't affect gradients).\n",
    "\n",
    "For the likelihood, we use the probability density function of our phase-type distribution evaluated at the observed times. For the prior, we will use independent log-normal distributions for each parameter, reflecting our prior belief that parameters are positive with uncertainty spanning orders of magnitude."
   ]
  },
  {
   "cell_type": "code",
   "execution_count": null,
   "metadata": {},
   "outputs": [],
   "source": [
    "# graph = \n",
    "# "
   ]
  },
  {
   "cell_type": "markdown",
   "metadata": {},
   "source": [
    "The SVGD particles now represent our posterior distribution. Each particle is a plausible set of parameter values given the observed data, and the collection of particles approximates the full posterior. We can use these particles to compute posterior summaries (means, quantiles, credible intervals), make predictions, or perform model checking. The spread of the particles reflects our uncertainty—parameters with wide spread are less constrained by the data, while parameters with narrow spread are well-determined.\n",
    "\n",
    "This inference workflow showcases the full power of the ptdalgorithms ecosystem. We constructed a complex stochastic model using graph-based state space representation. We parameterized it for efficient exploration of parameter space. We performed symbolic Gaussian elimination to enable ultra-fast repeated evaluation. We integrated with JAX for automatic differentiation and JIT compilation. We implemented a gradient-based inference algorithm (SVGD) that can be parallelized across devices and nodes. And we can scale this entire workflow to much larger problems—more complex models, more observations, more particles—by leveraging distributed computing.\n",
    "\n",
    "For production inference runs, you would typically use more particles (100-1000), run for more iterations (1000-10000), use adaptive step sizes, monitor convergence diagnostics, and leverage the distributed computing infrastructure we described earlier to parallelize across many nodes. The combination of symbolic elimination (100× faster evaluation), distributed computing (100× more parallel evaluations), and gradient-based inference (100× fewer iterations than MCMC) can easily provide five or six orders of magnitude of speedup compared to naive approaches, transforming intractable problems into routine computations."
   ]
  },
  {
   "cell_type": "markdown",
   "metadata": {},
   "source": [
    "Modern computational infrastructure offers substantial computing power not just through faster processors, but through massive parallelism across multiple machines. A typical high-performance computing (HPC) cluster might have dozens to hundreds of compute nodes, each with dozens of CPU cores, representing thousands of processor cores working in parallel. For computationally intensive tasks like Bayesian inference, where we need to evaluate a complex model millions of times, this parallel computing power is transformative. What might take days on a single machine can complete in hours or minutes when distributed across a cluster.\n",
    "\n",
    "The ptdalgorithms library is designed from the ground up to leverage this distributed computing infrastructure. Through tight integration with JAX's distributed computing capabilities and support for SLURM (Simple Linux Utility for Resource Management), the standard job scheduler on HPC clusters, the library makes it straightforward to scale from running on your laptop to running on hundreds of nodes. The key insight is that many inference algorithms—particularly particle-based methods like Stein Variational Gradient Descent (SVGD)—are naturally parallel. Each particle can be evaluated independently, and gradients can be computed in parallel across all particles. With the right infrastructure, we can distribute these particles across many machines and aggregate results efficiently.\n",
    "\n",
    "This section demonstrates how to set up and run distributed computations with ptdalgorithms. We will see how the library automatically detects whether it is running on a SLURM cluster, how it coordinates multiple processes across different nodes, and how JAX distributes computations across available resources. We will work with our rabbit model, showing how the combination of symbolic elimination (for fast per-particle evaluation) and distributed computing (for parallel particle evaluation) enables inference at scales that would be impossible on a single machine.\n",
    "\n",
    "The workflow has three main components: (1) initialization, where we detect the distributed environment and set up JAX for multi-node computation; (2) model setup, where we construct our parameterized model and perform symbolic elimination; and (3) distributed evaluation, where we leverage JAX's `pmap` (parallel map) to evaluate the model across all available devices in parallel. Let's see each component in detail."
   ]
  },
  {
   "cell_type": "markdown",
   "metadata": {},
   "source": [
    "## Distributed Computing"
   ]
  },
  {
   "cell_type": "code",
   "execution_count": null,
   "metadata": {},
   "outputs": [
    {
     "name": "stderr",
     "output_type": "stream",
     "text": [
      "[INFO] Not running under SLURM - using single-node setup\n",
      "[INFO] Configured JAX for 1 CPU devices\n",
      "[INFO] JAX x64 precision enabled\n",
      "[INFO] Single-node setup - no distributed initialization needed\n",
      "[INFO] \n",
      "Distributed Configuration:\n",
      "  Job ID: N/A\n",
      "  Process: 0/1\n",
      "  Coordinator: localhost:12345 (this node)\n",
      "  Local devices: 1\n",
      "  Global devices: 1\n",
      "  Platform: cpu\n"
     ]
    },
    {
     "name": "stdout",
     "output_type": "stream",
     "text": [
      "Distributed computing initialized:\n"
     ]
    },
    {
     "ename": "AttributeError",
     "evalue": "'DistributedConfig' object has no attribute 'global_rank'",
     "output_type": "error",
     "traceback": [
      "\u001b[31m---------------------------------------------------------------------------\u001b[39m",
      "\u001b[31mAttributeError\u001b[39m                            Traceback (most recent call last)",
      "\u001b[36mCell\u001b[39m\u001b[36m \u001b[39m\u001b[32mIn[73]\u001b[39m\u001b[32m, line 21\u001b[39m\n\u001b[32m     14\u001b[39m dist_info = initialize_distributed(\n\u001b[32m     15\u001b[39m     coordinator_port=\u001b[32m12345\u001b[39m,  \u001b[38;5;66;03m# Port for process coordination\u001b[39;00m\n\u001b[32m     16\u001b[39m     platform=\u001b[33m\"\u001b[39m\u001b[33mcpu\u001b[39m\u001b[33m\"\u001b[39m,           \u001b[38;5;66;03m# or \"gpu\" for GPU clusters\u001b[39;00m\n\u001b[32m     17\u001b[39m     enable_x64=\u001b[38;5;28;01mTrue\u001b[39;00m          \u001b[38;5;66;03m# Enable 64-bit precision\u001b[39;00m\n\u001b[32m     18\u001b[39m )\n\u001b[32m     20\u001b[39m \u001b[38;5;28mprint\u001b[39m(\u001b[33mf\u001b[39m\u001b[33m\"\u001b[39m\u001b[33mDistributed computing initialized:\u001b[39m\u001b[33m\"\u001b[39m)\n\u001b[32m---> \u001b[39m\u001b[32m21\u001b[39m \u001b[38;5;28mprint\u001b[39m(\u001b[33mf\u001b[39m\u001b[33m\"\u001b[39m\u001b[33m  Process rank: \u001b[39m\u001b[38;5;132;01m{\u001b[39;00m\u001b[43mdist_info\u001b[49m\u001b[43m.\u001b[49m\u001b[43mglobal_rank\u001b[49m\u001b[38;5;132;01m}\u001b[39;00m\u001b[33m\"\u001b[39m)\n\u001b[32m     22\u001b[39m \u001b[38;5;28mprint\u001b[39m(\u001b[33mf\u001b[39m\u001b[33m\"\u001b[39m\u001b[33m  Total processes: \u001b[39m\u001b[38;5;132;01m{\u001b[39;00mdist_info.num_processes\u001b[38;5;132;01m}\u001b[39;00m\u001b[33m\"\u001b[39m)\n\u001b[32m     23\u001b[39m \u001b[38;5;28mprint\u001b[39m(\u001b[33mf\u001b[39m\u001b[33m\"\u001b[39m\u001b[33m  Local devices: \u001b[39m\u001b[38;5;132;01m{\u001b[39;00mdist_info.num_local_devices\u001b[38;5;132;01m}\u001b[39;00m\u001b[33m\"\u001b[39m)\n",
      "\u001b[31mAttributeError\u001b[39m: 'DistributedConfig' object has no attribute 'global_rank'"
     ]
    }
   ],
   "source": [
    "\n",
    "# code here\n"
   ]
  }
 ],
 "metadata": {
  "kernelspec": {
   "display_name": "default",
   "language": "python",
   "name": "python3"
  },
  "language_info": {
   "codemirror_mode": {
    "name": "ipython",
    "version": 3
   },
   "file_extension": ".py",
   "mimetype": "text/x-python",
   "name": "python",
   "nbconvert_exporter": "python",
   "pygments_lexer": "ipython3",
   "version": "3.13.7"
  }
 },
 "nbformat": 4,
 "nbformat_minor": 4
}
