{
 "cells": [
  {
   "cell_type": "raw",
   "id": "yaml-header",
   "metadata": {
    "vscode": {
     "languageId": "raw"
    }
   },
   "source": [
    "---\n",
    "title: CPU monitoring\n",
    "---"
   ]
  },
  {
   "cell_type": "code",
   "execution_count": 55,
   "id": "setup",
   "metadata": {},
   "outputs": [],
   "source": [
    "import ptdalgorithms as ptd\n",
    "import numpy as np\n",
    "import time"
   ]
  },
  {
   "cell_type": "code",
   "execution_count": null,
   "id": "192f5ad8",
   "metadata": {},
   "outputs": [],
   "source": []
  },
  {
   "cell_type": "markdown",
   "id": "cell-magic-header",
   "metadata": {},
   "source": [
    "## Cell Magic\n",
    "\n",
    "The `%%usage` cell magic is the simplest way to monitor CPU usage in Jupyter.\n",
    "Just add it at the top of any cell!\n",
    "\n",
    "Basic Usage:"
   ]
  },
  {
   "cell_type": "code",
   "execution_count": 56,
   "id": "magic-basic",
   "metadata": {},
   "outputs": [],
   "source": [
    "%%usage\n",
    "\n",
    "# A simple computation\n",
    "for i in range(20):\n",
    "    result = sum(range(5_000_000))\n",
    "    time.sleep(0.5)"
   ]
  },
  {
   "cell_type": "markdown",
   "id": "magic-options",
   "metadata": {},
   "source": [
    "You can customize the display width:"
   ]
  },
  {
   "cell_type": "code",
   "execution_count": 57,
   "id": "magic-width",
   "metadata": {},
   "outputs": [],
   "source": [
    "%%usage -w 100\n",
    "\n",
    "print(\"Running with custom width...\")\n",
    "for i in range(4):\n",
    "    x = sum(range(3_000_000))\n",
    "    time.sleep(0.5)\n",
    "print(\"Complete!\")"
   ]
  },
  {
   "cell_type": "markdown",
   "id": "magic-interval",
   "metadata": {},
   "source": [
    "Increase update frequency for smoother visualization:"
   ]
  },
  {
   "cell_type": "code",
   "execution_count": 58,
   "id": "magic-fast",
   "metadata": {},
   "outputs": [],
   "source": [
    "%%usage -i 0.25\n",
    "\n",
    "# Updates 4 times per second\n",
    "print(\"Fast updates enabled...\")\n",
    "for i in range(8):\n",
    "    result = sum(range(2_000_000))\n",
    "    time.sleep(0.3)\n",
    "print(\"Done with fast updates!\")"
   ]
  },
  {
   "cell_type": "markdown",
   "id": "context-header",
   "metadata": {},
   "source": [
    "## 3. Context Manager: For Scripts <a id=\"context-manager\"></a>\n",
    "\n",
    "The context manager gives you explicit control over monitoring.\n",
    "Perfect for Python scripts or when you want programmatic control.\n",
    "\n",
    "### Example 3.1: Basic Context Manager"
   ]
  },
  {
   "cell_type": "code",
   "execution_count": 59,
   "id": "context-basic",
   "metadata": {},
   "outputs": [
    {
     "name": "stdout",
     "output_type": "stream",
     "text": [
      "Monitoring complete!\n"
     ]
    }
   ],
   "source": [
    "print(\"Using context manager...\")\n",
    "\n",
    "with ptd.CPUMonitor():\n",
    "    # Your computation here\n",
    "    for i in range(5):\n",
    "        result = sum(range(4_000_000))\n",
    "        time.sleep(0.5)\n",
    "\n",
    "print(\"Monitoring complete!\")"
   ]
  },
  {
   "cell_type": "markdown",
   "id": "context-custom",
   "metadata": {},
   "source": [
    "### Example 3.2: Custom Configuration"
   ]
  },
  {
   "cell_type": "code",
   "execution_count": 60,
   "id": "context-config",
   "metadata": {},
   "outputs": [
    {
     "name": "stdout",
     "output_type": "stream",
     "text": [
      "Both phases complete!\n"
     ]
    }
   ],
   "source": [
    "print(\"Custom configuration...\")\n",
    "\n",
    "with ptd.CPUMonitor(update_interval=0.3, width=120):\n",
    "    print(\"  Phase 1: Light computation\")\n",
    "    for i in range(3):\n",
    "        x = sum(range(1_000_000))\n",
    "        time.sleep(0.4)\n",
    "    \n",
    "    print(\"  Phase 2: Heavy computation\")\n",
    "    for i in range(3):\n",
    "        x = sum(range(5_000_000))\n",
    "        time.sleep(0.4)\n",
    "\n",
    "print(\"Both phases complete!\")"
   ]
  },
  {
   "cell_type": "markdown",
   "id": "context-nosummary",
   "metadata": {},
   "source": [
    "### Example 3.3: Disable Summary (for quick tests)"
   ]
  },
  {
   "cell_type": "code",
   "execution_count": 61,
   "id": "context-nosummary-code",
   "metadata": {},
   "outputs": [
    {
     "name": "stdout",
     "output_type": "stream",
     "text": [
      "Done (no summary)\n"
     ]
    }
   ],
   "source": [
    "# No summary statistics - just live monitoring\n",
    "with ptd.CPUMonitor(show_summary=False):\n",
    "    for i in range(4):\n",
    "        x = sum(range(2_000_000))\n",
    "        time.sleep(0.4)\n",
    "\n",
    "print(\"Done (no summary)\")"
   ]
  },
  {
   "cell_type": "markdown",
   "id": "decorator-header",
   "metadata": {},
   "source": [
    "## 4. Decorator: For Functions <a id=\"decorator\"></a>\n",
    "\n",
    "Wrap any function with `@monitor_cpu` to automatically monitor its execution.\n",
    "\n",
    "### Example 4.1: Basic Decorator"
   ]
  },
  {
   "cell_type": "code",
   "execution_count": 62,
   "id": "decorator-basic",
   "metadata": {},
   "outputs": [
    {
     "name": "stdout",
     "output_type": "stream",
     "text": [
      "\n",
      "Saved to: model.pkl\n"
     ]
    }
   ],
   "source": [
    "@ptd.monitor_cpu\n",
    "def simulate_training():\n",
    "    \"\"\"Simulate a training process.\"\"\"\n",
    "    print(\"Training started...\")\n",
    "    for epoch in range(5):\n",
    "        print(f\"  Epoch {epoch+1}/5\")\n",
    "        # Simulate computation\n",
    "        loss = sum(range(3_000_000))\n",
    "        time.sleep(0.5)\n",
    "    print(\"Training complete!\")\n",
    "    return \"model.pkl\"\n",
    "\n",
    "# Run the decorated function\n",
    "model_file = simulate_training()\n",
    "print(f\"\\nSaved to: {model_file}\")"
   ]
  },
  {
   "cell_type": "markdown",
   "id": "decorator-config",
   "metadata": {},
   "source": [
    "### Example 4.2: Decorator with Custom Settings"
   ]
  },
  {
   "cell_type": "code",
   "execution_count": 63,
   "id": "decorator-custom",
   "metadata": {},
   "outputs": [
    {
     "name": "stdout",
     "output_type": "stream",
     "text": [
      "\n",
      "Processed 6 batches\n"
     ]
    }
   ],
   "source": [
    "@ptd.monitor_cpu(update_interval=0.25, show_summary=True)\n",
    "def process_data(n_iterations):\n",
    "    \"\"\"Process data in batches.\"\"\"\n",
    "    print(f\"Processing {n_iterations} batches...\")\n",
    "    results = []\n",
    "    for i in range(n_iterations):\n",
    "        # Simulate batch processing\n",
    "        batch_result = sum(range(2_000_000))\n",
    "        results.append(batch_result)\n",
    "        time.sleep(0.3)\n",
    "    return results\n",
    "\n",
    "# Execute\n",
    "results = process_data(6)\n",
    "print(f\"\\nProcessed {len(results)} batches\")"
   ]
  },
  {
   "cell_type": "markdown",
   "id": "real-header",
   "metadata": {},
   "source": [
    "## 5. Real Computations <a id=\"real-computations\"></a>\n",
    "\n",
    "Let's monitor some actual computational work!\n",
    "\n",
    "### Example 5.1: Matrix Operations"
   ]
  },
  {
   "cell_type": "code",
   "execution_count": 64,
   "id": "real-matrix",
   "metadata": {},
   "outputs": [],
   "source": [
    "%%usage\n",
    "\n",
    "print(\"Performing large matrix operations...\\n\")\n",
    "\n",
    "# Create large matrices\n",
    "n = 1500\n",
    "print(f\"1. Creating {n}*{n} matrices...\")\n",
    "A = np.random.randn(n, n)\n",
    "B = np.random.randn(n, n)\n",
    "\n",
    "print(f\"2. Matrix multiplication...\")\n",
    "C = np.dot(A, B)\n",
    "\n",
    "print(f\"3. Computing eigenvalues...\")\n",
    "eigenvalues = np.linalg.eigvals(C[:400, :400])\n",
    "\n",
    "print(f\"4. SVD decomposition...\")\n",
    "U, s, Vh = np.linalg.svd(C[:400, :400], full_matrices=False)\n",
    "\n",
    "print(f\"\\nComplete!\")\n",
    "print(f\"  Eigenvalues computed: {len(eigenvalues)}\")\n",
    "print(f\"  Singular values computed: {len(s)}\")"
   ]
  },
  {
   "cell_type": "markdown",
   "id": "real-fft",
   "metadata": {},
   "source": [
    "### Example 5.2: FFT and Signal Processing"
   ]
  },
  {
   "cell_type": "code",
   "execution_count": 65,
   "id": "real-fft-code",
   "metadata": {},
   "outputs": [],
   "source": [
    "%%usage -i 0.3\n",
    "\n",
    "print(\"Signal processing tasks...\\n\")\n",
    "\n",
    "# Generate signal\n",
    "print(\"1. Generating signal...\")\n",
    "t = np.linspace(0, 10, 10_000_000)\n",
    "signal = np.sin(2 * np.pi * 5 * t) + 0.5 * np.sin(2 * np.pi * 10 * t)\n",
    "\n",
    "print(\"2. Computing FFT...\")\n",
    "fft_result = np.fft.fft(signal)\n",
    "\n",
    "print(\"3. Computing power spectrum...\")\n",
    "power = np.abs(fft_result)**2\n",
    "\n",
    "print(\"4. Finding peaks...\")\n",
    "peaks = power[power > np.percentile(power, 99.9)]\n",
    "\n",
    "print(f\"\\nProcessing complete!\")\n",
    "print(f\"  Signal length: {len(signal):,}\")\n",
    "print(f\"  Peaks found: {len(peaks)}\")"
   ]
  },
  {
   "cell_type": "markdown",
   "id": "real-graph",
   "metadata": {},
   "source": [
    "### Example 5.3: PtDAlgorithms Graph Operations"
   ]
  },
  {
   "cell_type": "code",
   "execution_count": 66,
   "id": "real-graph-build",
   "metadata": {},
   "outputs": [
    {
     "name": "stdout",
     "output_type": "stream",
     "text": [
      "Building phase-type distribution...\n",
      "  Graph created with 6 vertices\n",
      "  Ready for computation!\n"
     ]
    }
   ],
   "source": [
    "# Monitor phase-type distribution computations:\n",
    "\n",
    "# First, create a phase-type distribution\n",
    "print(\"Building phase-type distribution...\")\n",
    "\n",
    "g = ptd.Graph(1)\n",
    "start = g.starting_vertex()\n",
    "\n",
    "# Create a 5-phase Erlang-like distribution\n",
    "vertices = []\n",
    "for i in range(5):\n",
    "    v = g.find_or_create_vertex([i])\n",
    "    vertices.append(v)\n",
    "\n",
    "# Connect phases\n",
    "start.add_edge(vertices[0], 1.0)\n",
    "for i in range(4):\n",
    "    vertices[i].add_edge(vertices[i+1], 2.0 + i * 0.5)\n",
    "\n",
    "g.normalize()\n",
    "\n",
    "print(f\"  Graph created with {g.vertices_length()} vertices\")\n",
    "print(f\"  Ready for computation!\")"
   ]
  },
  {
   "cell_type": "code",
   "execution_count": 67,
   "id": "real-graph-compute",
   "metadata": {},
   "outputs": [],
   "source": [
    "%%usage\n",
    "\n",
    "print(\"Computing phase-type distribution PDF...\\n\")\n",
    "\n",
    "# Evaluate PDF at many time points\n",
    "print(\"1. Generating time points...\")\n",
    "times = np.linspace(0.01, 10.0, 50_000)\n",
    "\n",
    "print(\"2. Computing PDF values...\")\n",
    "pdf_values = g.pdf_batch(times)\n",
    "\n",
    "print(\"3. Analyzing results...\")\n",
    "max_pdf = np.max(pdf_values)\n",
    "argmax = times[np.argmax(pdf_values)]\n",
    "total_prob = np.trapz(pdf_values, times)\n",
    "\n",
    "print(f\"\\n  PDF computation complete!\")\n",
    "print(f\"  Time points: {len(times):,}\")\n",
    "print(f\"  Max PDF: {max_pdf:.4f} at t={argmax:.2f}\")\n",
    "print(f\"  Total probability: {total_prob:.4f}\")"
   ]
  },
  {
   "cell_type": "markdown",
   "id": "real-moments",
   "metadata": {},
   "source": [
    "### Example 5.4: Batch Moments Calculation"
   ]
  },
  {
   "cell_type": "code",
   "execution_count": 68,
   "id": "real-moments-code",
   "metadata": {},
   "outputs": [],
   "source": [
    "%%usage\n",
    "\n",
    "print(\"Computing distribution moments...\\n\")\n",
    "\n",
    "# Compute moments 1 through 10\n",
    "moment_orders = np.arange(1, 11)\n",
    "print(f\"Computing moments {moment_orders[0]} through {moment_orders[-1]}...\")\n",
    "\n",
    "moments = g.moments_batch(moment_orders)\n",
    "\n",
    "# Calculate statistics\n",
    "mean = moments[0]\n",
    "variance = moments[1] - mean**2\n",
    "std_dev = np.sqrt(variance)\n",
    "\n",
    "print(f\"\\n  Moments computed!\")\n",
    "print(f\"  Mean: {mean:.4f}\")\n",
    "print(f\"  Variance: {variance:.4f}\")\n",
    "print(f\"  Std Dev: {std_dev:.4f}\")\n",
    "print(f\"\\n  First 5 moments:\")\n",
    "for i in range(5):\n",
    "    print(f\"    E[T^{i+1}] = {moments[i]:.4f}\")"
   ]
  },
  {
   "cell_type": "markdown",
   "id": "advanced-header",
   "metadata": {},
   "source": [
    "## 6. Advanced Configuration <a id=\"advanced\"></a>\n",
    "\n",
    "### Example 6.1: Comparing Different Workloads"
   ]
  },
  {
   "cell_type": "code",
   "execution_count": 69,
   "id": "advanced-compare",
   "metadata": {},
   "outputs": [
    {
     "name": "stdout",
     "output_type": "stream",
     "text": [
      "\n",
      "  Comparison complete!\n"
     ]
    }
   ],
   "source": [
    "def workload_light():\n",
    "    \"\"\"Light CPU usage.\"\"\"\n",
    "    for _ in range(5):\n",
    "        x = sum(range(500_000))\n",
    "        time.sleep(0.5)\n",
    "\n",
    "def workload_heavy():\n",
    "    \"\"\"Heavy CPU usage.\"\"\"\n",
    "    for _ in range(5):\n",
    "        x = sum(range(5_000_000))\n",
    "        time.sleep(0.1)\n",
    "\n",
    "print(\"=\" * 60)\n",
    "print(\"LIGHT WORKLOAD\")\n",
    "print(\"=\" * 60)\n",
    "with ptd.CPUMonitor():\n",
    "    workload_light()\n",
    "\n",
    "print(\"\\n\" + \"=\" * 60)\n",
    "print(\"HEAVY WORKLOAD\")\n",
    "print(\"=\" * 60)\n",
    "with ptd.CPUMonitor():\n",
    "    workload_heavy()\n",
    "\n",
    "print(\"\\n  Comparison complete!\")"
   ]
  },
  {
   "cell_type": "markdown",
   "id": "advanced-nested",
   "metadata": {},
   "source": [
    "### Example 6.2: Monitoring Multiple Phases"
   ]
  },
  {
   "cell_type": "code",
   "execution_count": 70,
   "id": "advanced-phases",
   "metadata": {},
   "outputs": [],
   "source": [
    "%%usage\n",
    "\n",
    "phases = [\n",
    "    (\"Data Loading\", 1_000_000, 3),\n",
    "    (\"Preprocessing\", 2_000_000, 3),\n",
    "    (\"Training\", 4_000_000, 4),\n",
    "    (\"Validation\", 1_500_000, 2),\n",
    "]\n",
    "\n",
    "print(\"Multi-phase computation...\\n\")\n",
    "\n",
    "for phase_name, workload, iterations in phases:\n",
    "    print(f\"Phase: {phase_name}\")\n",
    "    for i in range(iterations):\n",
    "        result = sum(range(workload))\n",
    "        time.sleep(0.3)\n",
    "    print(f\"  {phase_name} complete\\n\")\n",
    "\n",
    "print(\"\\nAll phases complete!\")"
   ]
  },
  {
   "cell_type": "markdown",
   "id": "c1f236a1",
   "metadata": {},
   "source": [
    "## SLURM usage\n",
    "\n",
    "### Check Current Environment"
   ]
  },
  {
   "cell_type": "code",
   "execution_count": 71,
   "id": "slurm-check",
   "metadata": {},
   "outputs": [
    {
     "name": "stdout",
     "output_type": "stream",
     "text": [
      "Current Environment:\n",
      "============================================================\n",
      " Running locally (not on SLURM)\n",
      "\n",
      "Detected Resources:\n",
      "  • perry: 10 CPUs\n",
      "    Allocated cores: 10\n"
     ]
    }
   ],
   "source": [
    "import os\n",
    "\n",
    "print(\"Current Environment:\")\n",
    "print(\"=\" * 60)\n",
    "\n",
    "# Check if we're on SLURM\n",
    "if 'SLURM_JOB_ID' in os.environ:\n",
    "    print(\" Running on SLURM\")\n",
    "    print(f\"  Job ID: {os.environ.get('SLURM_JOB_ID')}\")\n",
    "    print(f\"  Nodes: {os.environ.get('SLURM_JOB_NUM_NODES', 'N/A')}\")\n",
    "    print(f\"  CPUs per task: {os.environ.get('SLURM_CPUS_PER_TASK', 'N/A')}\")\n",
    "    print(f\"  Node list: {os.environ.get('SLURM_JOB_NODELIST', 'N/A')}\")\n",
    "else:\n",
    "    print(\" Running locally (not on SLURM)\")\n",
    "\n",
    "# Show detected nodes\n",
    "print(f\"\\nDetected Resources:\")\n",
    "nodes = ptd.detect_compute_nodes()\n",
    "for node in nodes:\n",
    "    print(f\"  • {node.name}: {node.cpu_count} CPUs\")\n",
    "    if node.allocated_cpus:\n",
    "        print(f\"    Allocated cores: {len(node.allocated_cpus)}\")"
   ]
  },
  {
   "cell_type": "markdown",
   "id": "tips-header",
   "metadata": {},
   "source": [
    "## 8. Tips and Tricks <a id=\"tips\"></a>\n",
    "\n",
    "### Tip 1: Quick Testing Without Summary"
   ]
  },
  {
   "cell_type": "code",
   "execution_count": 72,
   "id": "tips-quick",
   "metadata": {},
   "outputs": [
    {
     "name": "stdout",
     "output_type": "stream",
     "text": [
      "Quick test complete: 4499998500000\n"
     ]
    }
   ],
   "source": [
    "# For quick tests, disable summary\n",
    "with ptd.CPUMonitor(show_summary=False):\n",
    "    result = sum(range(3_000_000))\n",
    "\n",
    "print(f\"Quick test complete: {result}\")"
   ]
  },
  {
   "cell_type": "markdown",
   "id": "tips-parallel",
   "metadata": {},
   "source": [
    "### Tip 2: Combine with Parallel Configuration"
   ]
  },
  {
   "cell_type": "code",
   "execution_count": 73,
   "id": "tips-parallel-code",
   "metadata": {},
   "outputs": [],
   "source": [
    "# Initialize parallel configuration\n",
    "try:\n",
    "    config = ptd.init_parallel(cpus=4)\n",
    "    print(f\"Parallel config: {config.device_count} devices\")\n",
    "    print(f\"  Strategy: {config.strategy}\")\n",
    "except Exception as e:\n",
    "    print(f\"Could not initialize parallel: {e}\")\n",
    "\n",
    "# Now monitor with parallel execution\n",
    "with ptd.CPUMonitor():\n",
    "    times = np.linspace(0.1, 5.0, 10_000)\n",
    "    # This will use parallel configuration if available\n",
    "    try:\n",
    "        pdf = g.pdf_batch(times)\n",
    "        print(f\"Computed {len(pdf)} PDF values\")\n",
    "    except Exception as e:\n",
    "        print(f\"Computation not available: {e}\")"
   ]
  },
  {
   "cell_type": "markdown",
   "id": "tips-width",
   "metadata": {},
   "source": [
    "### Tip 3: Adjust Update Interval Based on Workload"
   ]
  },
  {
   "cell_type": "code",
   "execution_count": 74,
   "id": "tips-interval",
   "metadata": {},
   "outputs": [
    {
     "name": "stdout",
     "output_type": "stream",
     "text": [
      "\n",
      "Both complete!\n"
     ]
    }
   ],
   "source": [
    "print(\"Fast computation → frequent updates:\")\n",
    "with ptd.CPUMonitor(update_interval=0.2):\n",
    "    for _ in range(5):\n",
    "        x = sum(range(1_000_000))\n",
    "        time.sleep(0.3)\n",
    "\n",
    "print(\"\\nSlow computation → less frequent updates:\")\n",
    "with ptd.CPUMonitor(update_interval=1.0):\n",
    "    for _ in range(3):\n",
    "        x = sum(range(5_000_000))\n",
    "        time.sleep(1.0)\n",
    "\n",
    "print(\"\\nBoth complete!\")"
   ]
  },
  {
   "cell_type": "markdown",
   "id": "tips-function",
   "metadata": {},
   "source": [
    "### Tip 4: Monitor Specific Functions Only"
   ]
  },
  {
   "cell_type": "code",
   "execution_count": 75,
   "id": "tips-selective",
   "metadata": {},
   "outputs": [
    {
     "name": "stdout",
     "output_type": "stream",
     "text": [
      "Postprocessing (not monitored)...\n",
      "\n",
      "Pipeline complete!\n"
     ]
    }
   ],
   "source": [
    "def preprocessing():\n",
    "    \"\"\"Not monitored.\"\"\"\n",
    "    print(\"Preprocessing (not monitored)...\")\n",
    "    time.sleep(0.5)\n",
    "\n",
    "@ptd.monitor_cpu(show_summary=False)\n",
    "def expensive_computation():\n",
    "    \"\"\"Monitored.\"\"\"\n",
    "    print(\"Expensive computation (monitored)...\")\n",
    "    for _ in range(4):\n",
    "        x = sum(range(3_000_000))\n",
    "        time.sleep(0.4)\n",
    "\n",
    "def postprocessing():\n",
    "    \"\"\"Not monitored.\"\"\"\n",
    "    print(\"Postprocessing (not monitored)...\")\n",
    "    time.sleep(0.5)\n",
    "\n",
    "# Run pipeline\n",
    "preprocessing()\n",
    "expensive_computation()\n",
    "postprocessing()\n",
    "\n",
    "print(\"\\nPipeline complete!\")"
   ]
  },
  {
   "cell_type": "code",
   "execution_count": 76,
   "id": "b8742f67",
   "metadata": {},
   "outputs": [
    {
     "name": "stdout",
     "output_type": "stream",
     "text": [
      "\n",
      "\n",
      "================================================================================\n",
      "CPU Monitoring Examples Complete!\n",
      "================================================================================\n",
      "\n",
      "Key Features:\n",
      "  Context manager: with pta.CPUMonitor(): ...\n",
      "  Decorator: @pta.monitor_cpu\n",
      "  Custom settings: width, update_interval\n",
      "  Per-core monitoring with Unicode bars\n",
      "  Summary statistics after completion\n",
      "  SLURM-aware (detects allocated nodes/CPUs)\n",
      "\n",
      "For Jupyter notebook usage, see:\n",
      "  examples/cpu_monitoring_notebook.ipynb\n",
      "\n",
      "In Jupyter, you can use the %%usage cell magic:\n",
      "  %%usage\n",
      "  # your code here\n",
      "\n"
     ]
    }
   ],
   "source": [
    "#!/usr/bin/env python3\n",
    "\"\"\"\n",
    "CPU Monitoring Example for PtDAlgorithms\n",
    "\n",
    "This script demonstrates how to use the CPU monitoring features\n",
    "in PtDAlgorithms for both local and SLURM environments.\n",
    "\n",
    "Features demonstrated:\n",
    "- Context manager usage\n",
    "- Decorator usage\n",
    "- Custom width and update interval\n",
    "- Per-core CPU monitoring\n",
    "- Summary statistics\n",
    "\n",
    "Requirements:\n",
    "- ptdalgorithms with psutil and rich\n",
    "- Optional: JAX for parallel computations\n",
    "\n",
    "Author: PtDAlgorithms Team\n",
    "Date: 2025-10-08\n",
    "\"\"\"\n",
    "\n",
    "import time\n",
    "import numpy as np\n",
    "import ptdalgorithms as pta\n",
    "\n",
    "print(\"=\" * 80)\n",
    "print(\"CPU Monitoring Examples\")\n",
    "print(\"=\" * 80)\n",
    "print()\n",
    "\n",
    "# ============================================================================\n",
    "# Example 1: Basic Context Manager\n",
    "# ============================================================================\n",
    "\n",
    "print(\"Example 1: Basic CPU Monitoring with Context Manager\")\n",
    "print(\"-\" * 80)\n",
    "\n",
    "def simulate_computation(duration=3, intensity='medium'):\n",
    "    \"\"\"\n",
    "    Simulate CPU-intensive computation.\n",
    "\n",
    "    Parameters\n",
    "    ----------\n",
    "    duration : float\n",
    "        How long to run (seconds)\n",
    "    intensity : str\n",
    "        'light', 'medium', or 'heavy' - affects CPU load\n",
    "    \"\"\"\n",
    "    end_time = time.time() + duration\n",
    "\n",
    "    if intensity == 'light':\n",
    "        # Light computation - mostly sleeping\n",
    "        while time.time() < end_time:\n",
    "            x = sum(range(1000))\n",
    "            time.sleep(0.1)\n",
    "\n",
    "    elif intensity == 'medium':\n",
    "        # Medium computation - some work, some rest\n",
    "        while time.time() < end_time:\n",
    "            x = sum(range(100000))\n",
    "            time.sleep(0.01)\n",
    "\n",
    "    else:  # heavy\n",
    "        # Heavy computation - continuous work\n",
    "        while time.time() < end_time:\n",
    "            x = sum(range(1000000))\n",
    "\n",
    "\n",
    "print(\"Running light computation (3 seconds)...\")\n",
    "with pta.CPUMonitor():\n",
    "    simulate_computation(duration=3, intensity='light')\n",
    "\n",
    "print(\"\\n\")\n",
    "\n",
    "# ============================================================================\n",
    "# Example 2: Custom Configuration\n",
    "# ============================================================================\n",
    "\n",
    "print(\"Example 2: Custom Width and Update Interval\")\n",
    "print(\"-\" * 80)\n",
    "\n",
    "print(\"Running medium computation with custom settings...\")\n",
    "with pta.CPUMonitor(width=100, update_interval=0.25):\n",
    "    simulate_computation(duration=3, intensity='medium')\n",
    "\n",
    "print(\"\\n\")\n",
    "\n",
    "# ============================================================================\n",
    "# Example 3: Decorator Usage\n",
    "# ============================================================================\n",
    "\n",
    "print(\"Example 3: Using @monitor_cpu Decorator\")\n",
    "print(\"-\" * 80)\n",
    "\n",
    "@pta.monitor_cpu\n",
    "def my_computation():\n",
    "    \"\"\"A decorated function that will be monitored.\"\"\"\n",
    "    print(\"Running decorated computation...\")\n",
    "    simulate_computation(duration=3, intensity='heavy')\n",
    "    return \"Computation complete!\"\n",
    "\n",
    "result = my_computation()\n",
    "print(f\"Result: {result}\")\n",
    "\n",
    "print(\"\\n\")\n",
    "\n",
    "# ============================================================================\n",
    "# Example 4: Decorator with Custom Settings\n",
    "# ============================================================================\n",
    "\n",
    "print(\"Example 4: Decorator with Custom Settings\")\n",
    "print(\"-\" * 80)\n",
    "\n",
    "@pta.monitor_cpu(update_interval=1.0, width=80)\n",
    "def another_computation():\n",
    "    \"\"\"Another decorated function with custom monitor settings.\"\"\"\n",
    "    print(\"Running another computation...\")\n",
    "    simulate_computation(duration=4, intensity='medium')\n",
    "    return 42\n",
    "\n",
    "value = another_computation()\n",
    "print(f\"Returned value: {value}\")\n",
    "\n",
    "print(\"\\n\")\n",
    "\n",
    "# ============================================================================\n",
    "# Example 5: Real Computation with NumPy\n",
    "# ============================================================================\n",
    "\n",
    "print(\"Example 5: Real NumPy Computation\")\n",
    "print(\"-\" * 80)\n",
    "\n",
    "def matrix_operations():\n",
    "    \"\"\"Perform some real CPU-intensive matrix operations.\"\"\"\n",
    "    print(\"Performing matrix operations...\")\n",
    "\n",
    "    # Create large matrices\n",
    "    n = 2000\n",
    "    A = np.random.randn(n, n)\n",
    "    B = np.random.randn(n, n)\n",
    "\n",
    "    # Matrix multiplication\n",
    "    C = np.dot(A, B)\n",
    "\n",
    "    # Eigenvalue computation\n",
    "    eigenvalues = np.linalg.eigvals(C[:500, :500])\n",
    "\n",
    "    # SVD\n",
    "    U, s, Vh = np.linalg.svd(C[:500, :500], full_matrices=False)\n",
    "\n",
    "    return s\n",
    "\n",
    "print(\"Running matrix computations...\")\n",
    "with pta.CPUMonitor():\n",
    "    singular_values = matrix_operations()\n",
    "    print(f\"Computed {len(singular_values)} singular values\")\n",
    "\n",
    "print(\"\\n\")\n",
    "\n",
    "# ============================================================================\n",
    "# Example 6: With PtDAlgorithms Graph Operations (if available)\n",
    "# ============================================================================\n",
    "\n",
    "print(\"Example 6: Monitoring PtDAlgorithms Operations\")\n",
    "print(\"-\" * 80)\n",
    "\n",
    "try:\n",
    "    # Create a phase-type distribution\n",
    "    g = pta.Graph(1)\n",
    "    start = g.starting_vertex()\n",
    "\n",
    "    # Create vertices\n",
    "    v0 = g.find_or_create_vertex([0])\n",
    "    v1 = g.find_or_create_vertex([1])\n",
    "    v2 = g.find_or_create_vertex([2])\n",
    "\n",
    "    # Add transitions\n",
    "    start.add_edge(v0, 1.0)\n",
    "    v0.add_edge(v1, 2.0)\n",
    "    v1.add_edge(v2, 1.5)\n",
    "\n",
    "    g.normalize()\n",
    "\n",
    "    print(f\"Created graph with {g.vertices_length()} vertices\")\n",
    "\n",
    "    # Evaluate PDF with CPU monitoring\n",
    "    print(\"Evaluating PDF at 10,000 time points...\")\n",
    "    times = np.linspace(0.1, 10.0, 10000)\n",
    "\n",
    "    with pta.CPUMonitor():\n",
    "        pdf_values = g.pdf_batch(times)\n",
    "\n",
    "    print(f\"Computed PDF, max value: {np.max(pdf_values):.4f}\")\n",
    "\n",
    "except Exception as e:\n",
    "    print(f\"Could not run Graph example: {e}\")\n",
    "\n",
    "print(\"\\n\")\n",
    "\n",
    "# ============================================================================\n",
    "# Example 7: Multiple Sequential Operations\n",
    "# ============================================================================\n",
    "\n",
    "print(\"Example 7: Monitoring Multiple Operations\")\n",
    "print(\"-\" * 80)\n",
    "\n",
    "with pta.CPUMonitor():\n",
    "    print(\"Phase 1: Light computation (2s)\")\n",
    "    simulate_computation(duration=2, intensity='light')\n",
    "\n",
    "    print(\"Phase 2: Heavy computation (2s)\")\n",
    "    simulate_computation(duration=2, intensity='heavy')\n",
    "\n",
    "    print(\"Phase 3: Medium computation (2s)\")\n",
    "    simulate_computation(duration=2, intensity='medium')\n",
    "\n",
    "print(\"\\n\")\n",
    "\n",
    "# ============================================================================\n",
    "# Summary\n",
    "# ============================================================================\n",
    "\n",
    "print(\"=\" * 80)\n",
    "print(\"CPU Monitoring Examples Complete!\")\n",
    "print(\"=\" * 80)\n",
    "print()\n",
    "print(\"Key Features:\")\n",
    "print(\"  Context manager: with pta.CPUMonitor(): ...\")\n",
    "print(\"  Decorator: @pta.monitor_cpu\")\n",
    "print(\"  Custom settings: width, update_interval\")\n",
    "print(\"  Per-core monitoring with Unicode bars\")\n",
    "print(\"  Summary statistics after completion\")\n",
    "print(\"  SLURM-aware (detects allocated nodes/CPUs)\")\n",
    "print()\n",
    "print(\"For Jupyter notebook usage, see:\")\n",
    "print(\"  examples/cpu_monitoring_notebook.ipynb\")\n",
    "print()\n",
    "print(\"In Jupyter, you can use the %%usage cell magic:\")\n",
    "print(\"  %%usage\")\n",
    "print(\"  # your code here\")\n",
    "print()\n"
   ]
  },
  {
   "cell_type": "code",
   "execution_count": null,
   "id": "e6a72815",
   "metadata": {},
   "outputs": [],
   "source": []
  },
  {
   "cell_type": "code",
   "execution_count": null,
   "id": "eb7e1f88",
   "metadata": {},
   "outputs": [],
   "source": []
  }
 ],
 "metadata": {
  "kernelspec": {
   "display_name": "default",
   "language": "python",
   "name": "python3"
  },
  "language_info": {
   "codemirror_mode": {
    "name": "ipython",
    "version": 3
   },
   "file_extension": ".py",
   "mimetype": "text/x-python",
   "name": "python",
   "nbconvert_exporter": "python",
   "pygments_lexer": "ipython3",
   "version": "3.13.7"
  }
 },
 "nbformat": 4,
 "nbformat_minor": 5
}
