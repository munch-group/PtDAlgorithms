{
 "cells": [
  {
   "cell_type": "raw",
   "id": "856796ac-688d-45f3-83b7-3dd6c17e3353",
   "metadata": {
    "vscode": {
     "languageId": "raw"
    }
   },
   "source": [
    "---\n",
    "title: Distributions\n",
    "---"
   ]
  },
  {
   "cell_type": "markdown",
   "id": "6b86e828-32cf-4a2c-ad22-382c30d37be8",
   "metadata": {},
   "source": []
  },
  {
   "cell_type": "markdown",
   "id": "abc5dc1c-9606-469d-8c67-4e42bc59a26f",
   "metadata": {},
   "source": [
    "::: {.callout-caution }\n",
    "## This pages is under construction\n",
    "\n",
    ":::"
   ]
  },
  {
   "cell_type": "code",
   "execution_count": null,
   "id": "440707ea-8527-4c93-934d-73dd8cb5619d",
   "metadata": {},
   "outputs": [],
   "source": []
  }
 ],
 "metadata": {
  "kernelspec": {
   "display_name": "ptd",
   "language": "python",
   "name": "python3"
  },
  "language_info": {
   "codemirror_mode": {
    "name": "ipython",
    "version": 3
   },
   "file_extension": ".py",
   "mimetype": "text/x-python",
   "name": "python",
   "nbconvert_exporter": "python",
   "pygments_lexer": "ipython3",
   "version": "3.11.9"
  }
 },
 "nbformat": 4,
 "nbformat_minor": 5
}
