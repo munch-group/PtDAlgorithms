{
 "cells": [
  {
   "cell_type": "raw",
   "id": "43217d3b-656b-4b7c-b522-57a548952cb5",
   "metadata": {},
   "source": [
    "--\n",
    "title: Moments\n",
    "---"
   ]
  },
  {
   "cell_type": "code",
   "execution_count": null,
   "id": "db800429-2f8e-431a-aa69-30897d5979ae",
   "metadata": {},
   "outputs": [],
   "source": [
    "::: {.callout-caution }\n",
    "## This pages is under construction\n",
    "\n",
    ":::"
   ]
  }
 ],
 "metadata": {
  "kernelspec": {
   "display_name": "Python 3 (ipykernel)",
   "language": "python",
   "name": "python3"
  },
  "language_info": {
   "codemirror_mode": {
    "name": "ipython",
    "version": 3
   },
   "file_extension": ".py",
   "mimetype": "text/x-python",
   "name": "python",
   "nbconvert_exporter": "python",
   "pygments_lexer": "ipython3",
   "version": "3.11.9"
  }
 },
 "nbformat": 4,
 "nbformat_minor": 5
}
