{
 "cells": [
  {
   "cell_type": "raw",
   "id": "43217d3b-656b-4b7c-b522-57a548952cb5",
   "metadata": {
    "vscode": {
     "languageId": "raw"
    }
   },
   "source": [
    "---\n",
    "title: Moments\n",
    "---"
   ]
  },
  {
   "cell_type": "markdown",
   "id": "1510b660",
   "metadata": {},
   "source": []
  },
  {
   "cell_type": "markdown",
   "id": "db800429-2f8e-431a-aa69-30897d5979ae",
   "metadata": {},
   "source": [
    "::: {.callout-caution }\n",
    "## This pages is under construction\n",
    "\n",
    ":::"
   ]
  },
  {
   "cell_type": "code",
   "execution_count": null,
   "id": "8c496da3",
   "metadata": {},
   "outputs": [],
   "source": []
  }
 ],
 "metadata": {
  "kernelspec": {
   "display_name": "default",
   "language": "python",
   "name": "python3"
  },
  "language_info": {
   "codemirror_mode": {
    "name": "ipython",
    "version": 3
   },
   "file_extension": ".py",
   "mimetype": "text/x-python",
   "name": "python",
   "nbconvert_exporter": "python",
   "pygments_lexer": "ipython3",
   "version": "3.13.7"
  }
 },
 "nbformat": 4,
 "nbformat_minor": 5
}
