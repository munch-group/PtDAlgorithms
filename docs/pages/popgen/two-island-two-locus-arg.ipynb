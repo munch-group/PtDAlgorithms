{
 "cells": [
  {
   "cell_type": "raw",
   "id": "edf370c6",
   "metadata": {
    "vscode": {
     "languageId": "raw"
    }
   },
   "source": [
    "---\n",
    "title: Two Island Two Locus Argument\n",
    "---"
   ]
  },
  {
   "cell_type": "code",
   "execution_count": 1,
   "id": "328e2963-7af7-4d09-9966-0dcdc6966e83",
   "metadata": {},
   "outputs": [],
   "source": [
    "import pandas as pd\n",
    "import numpy as np\n",
    "np.random.seed(42)\n",
    "import matplotlib.pyplot as plt\n",
    "import seaborn as sns\n",
    "%config InlineBackend.figure_format = 'retina'\n",
    "import phasic as ptd"
   ]
  },
  {
   "cell_type": "code",
   "execution_count": null,
   "id": "9c79da84-20b3-4cc2-99c9-ef9bf6157602",
   "metadata": {},
   "outputs": [],
   "source": [
    "make_discrete <- function(mutation_graph, mutation_rate) {\n",
    "    # Takes a graph for a continuous distribution and turns\n",
    "    # it into a descrete one (inplace). Returns a matrix of\n",
    "    # rewards for computing marginal moments\n",
    "\n",
    "    # current nr of states in graph\n",
    "    vlength <- vertices_length(mutation_graph)\n",
    "\n",
    "    # number of fields in state vector (assumes all are the same length)\n",
    "    state_vector_length <- length(vertex_at(mutation_graph, 1)$state)\n",
    "\n",
    "    # list state vector fields to reward at each auxiliary node\n",
    "    rewarded_state_vector_indexes <- vector(mode = \"list\", length = state_vector_length)\n",
    "\n",
    "    # loop all but starting node\n",
    "    for (i in 2:vlength) {\n",
    "        vertex <- vertex_at(mutation_graph,i)\n",
    "        if (vertex$rate > 0) { # not absorbing\n",
    "            for (j in 1:length(vertex$state)) {\n",
    "                val <- vertex$state[j]\n",
    "                if (val > 0) { # only ones we may reward\n",
    "                    # add auxilliary node\n",
    "                    mutation_vertex <- create_vertex(mutation_graph, rep(0, state_vector_length))\n",
    "                    add_edge(mutation_vertex, vertex, 1)\n",
    "                    add_edge(vertex, mutation_vertex, mutation_rate*val)\n",
    "\n",
    "                    rewarded_state_vector_indexes[[mutation_vertex$index]] <- c(rewarded_state_vector_indexes[[j]], j)\n",
    "                }\n",
    "            }\n",
    "        }\n",
    "    }\n",
    "    # normalize graph\n",
    "    weights_were_multiplied_with <- normalize_graph(mutation_graph)\n",
    "\n",
    "    # build reward matrix\n",
    "    rewards <- matrix(nrow=vertices_length(mutation_graph),ncol=state_vector_length, 0)\n",
    "    for (state in seq_along(rewarded_state_vector_indexes)) {\n",
    "        for (i in rewarded_state_vector_indexes[[state]]) {\n",
    "            rewards[state, i] <- 1\n",
    "        }\n",
    "    }\n",
    "    rewards = t(rewards)\n",
    "    return(rewards)\n",
    "}\n",
    "# # self-transition rate:\n",
    "# mutation_rate <- 0.0001\n",
    "\n",
    "# # clone graph to get one to modify:\n",
    "# mutation_graph <- clone_graph(graph)\n",
    "\n",
    "# # add auxilliary states, normalize and return reward matrix:\n",
    "# rewards <- make_discrete(mutation_graph, mutation_rate)\n",
    "\n",
    "# # for plotting the new graph\n",
    "# gam <- graph_as_matrix(mutation_graph)\n",
    "\n",
    "# vertices_length(mutation_graph)"
   ]
  },
  {
   "cell_type": "code",
   "execution_count": null,
   "id": "c6ae93fc-5000-4e04-b76c-fc00f29e6258",
   "metadata": {},
   "outputs": [],
   "source": []
  }
 ],
 "metadata": {
  "kernelspec": {
   "display_name": "Python 3 (ipykernel)",
   "language": "python",
   "name": "python3"
  },
  "language_info": {
   "codemirror_mode": {
    "name": "ipython",
    "version": 3
   },
   "file_extension": ".py",
   "mimetype": "text/x-python",
   "name": "python",
   "nbconvert_exporter": "python",
   "pygments_lexer": "ipython3",
   "version": "3.11.9"
  }
 },
 "nbformat": 4,
 "nbformat_minor": 5
}
