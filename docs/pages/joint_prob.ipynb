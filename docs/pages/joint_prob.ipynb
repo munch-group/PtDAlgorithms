{
 "cells": [
  {
   "cell_type": "raw",
   "id": "79b7b845-1256-4f3f-a261-f20a681ae8d5",
   "metadata": {},
   "source": [
    "--\n",
    "title: Joint probabilities\n",
    "---"
   ]
  },
  {
   "cell_type": "code",
   "execution_count": null,
   "id": "424acdc3-d3f1-434a-bbe4-a2ea91dfdcd9",
   "metadata": {},
   "outputs": [],
   "source": []
  },
  {
   "cell_type": "markdown",
   "id": "f50f9061-db6f-49eb-a6c8-3caff0b3f0ae",
   "metadata": {},
   "source": []
  },
  {
   "cell_type": "markdown",
   "id": "0866fb05-6423-49f8-b0d7-735076793b39",
   "metadata": {},
   "source": [
    "::: {.callout-caution }\n",
    "## This pages is under construction\n",
    "\n",
    ":::"
   ]
  }
 ],
 "metadata": {
  "kernelspec": {
   "display_name": "Python 3 (ipykernel)",
   "language": "python",
   "name": "python3"
  },
  "language_info": {
   "codemirror_mode": {
    "name": "ipython",
    "version": 3
   },
   "file_extension": ".py",
   "mimetype": "text/x-python",
   "name": "python",
   "nbconvert_exporter": "python",
   "pygments_lexer": "ipython3",
   "version": "3.11.9"
  }
 },
 "nbformat": 4,
 "nbformat_minor": 5
}
