{
 "cells": [
  {
   "cell_type": "raw",
   "id": "yaml-header",
   "metadata": {
    "vscode": {
     "languageId": "raw"
    }
   },
   "source": [
    "---\n",
    "title: CPU monitoring\n",
    "---"
   ]
  },
  {
   "cell_type": "raw",
   "id": "2c3dc3ce",
   "metadata": {},
   "source": []
  },
  {
   "cell_type": "code",
   "execution_count": 1,
   "id": "setup",
   "metadata": {},
   "outputs": [],
   "source": [
    "import ptdalgorithms as ptd\n",
    "import numpy as np\n",
    "import time"
   ]
  },
  {
   "cell_type": "markdown",
   "id": "cell-magic-header",
   "metadata": {},
   "source": [
    "## Cell Magic\n",
    "\n",
    "The `%%usage` cell magic is the simplest way to monitor CPU usage in Jupyter.\n",
    "Just add it at the top of any cell!\n",
    "\n",
    "Basic Usage:"
   ]
  },
  {
   "cell_type": "markdown",
   "id": "e3ee8b7b",
   "metadata": {},
   "source": []
  },
  {
   "cell_type": "code",
   "execution_count": 3,
   "id": "magic-basic",
   "metadata": {},
   "outputs": [
    {
     "data": {
      "text/html": [
       "<div style=\"font-family: monospace; font-size: 10px; padding: 10px;\"><div style=\"margin-bottom: 12px;\"><div style=\"margin-bottom: 6px; font-size: 11px;\">perry <span style=\"font-weight: normal; color: #666;\">(37%/38% mem)</span></div><div style=\"display: flex; gap: 3px; width: 100%; margin-bottom: 3px;\">\n",
       "                        <div style=\"width: calc((100% - 27px) / 10); min-width: 20px; height: 8px; background: rgba(128, 128, 128, 0.2); border-radius: 2px; overflow: hidden;\" title=\"CPU 0: 42.9% avg\">\n",
       "                            <div style=\"width: 42.9%; height: 100%; background: #666666;\"></div>\n",
       "                        </div>\n",
       "                        \n",
       "                        <div style=\"width: calc((100% - 27px) / 10); min-width: 20px; height: 8px; background: rgba(128, 128, 128, 0.2); border-radius: 2px; overflow: hidden;\" title=\"CPU 1: 45.4% avg\">\n",
       "                            <div style=\"width: 45.4%; height: 100%; background: #666666;\"></div>\n",
       "                        </div>\n",
       "                        \n",
       "                        <div style=\"width: calc((100% - 27px) / 10); min-width: 20px; height: 8px; background: rgba(128, 128, 128, 0.2); border-radius: 2px; overflow: hidden;\" title=\"CPU 2: 33.7% avg\">\n",
       "                            <div style=\"width: 33.65833333333333%; height: 100%; background: #666666;\"></div>\n",
       "                        </div>\n",
       "                        \n",
       "                        <div style=\"width: calc((100% - 27px) / 10); min-width: 20px; height: 8px; background: rgba(128, 128, 128, 0.2); border-radius: 2px; overflow: hidden;\" title=\"CPU 3: 29.0% avg\">\n",
       "                            <div style=\"width: 29.025000000000002%; height: 100%; background: #666666;\"></div>\n",
       "                        </div>\n",
       "                        \n",
       "                        <div style=\"width: calc((100% - 27px) / 10); min-width: 20px; height: 8px; background: rgba(128, 128, 128, 0.2); border-radius: 2px; overflow: hidden;\" title=\"CPU 4: 24.4% avg\">\n",
       "                            <div style=\"width: 24.400000000000002%; height: 100%; background: #666666;\"></div>\n",
       "                        </div>\n",
       "                        \n",
       "                        <div style=\"width: calc((100% - 27px) / 10); min-width: 20px; height: 8px; background: rgba(128, 128, 128, 0.2); border-radius: 2px; overflow: hidden;\" title=\"CPU 5: 28.1% avg\">\n",
       "                            <div style=\"width: 28.108333333333334%; height: 100%; background: #666666;\"></div>\n",
       "                        </div>\n",
       "                        \n",
       "                        <div style=\"width: calc((100% - 27px) / 10); min-width: 20px; height: 8px; background: rgba(128, 128, 128, 0.2); border-radius: 2px; overflow: hidden;\" title=\"CPU 6: 9.7% avg\">\n",
       "                            <div style=\"width: 9.733333333333334%; height: 100%; background: #666666;\"></div>\n",
       "                        </div>\n",
       "                        \n",
       "                        <div style=\"width: calc((100% - 27px) / 10); min-width: 20px; height: 8px; background: rgba(128, 128, 128, 0.2); border-radius: 2px; overflow: hidden;\" title=\"CPU 7: 4.0% avg\">\n",
       "                            <div style=\"width: 4.041666666666667%; height: 100%; background: #666666;\"></div>\n",
       "                        </div>\n",
       "                        \n",
       "                        <div style=\"width: calc((100% - 27px) / 10); min-width: 20px; height: 8px; background: rgba(128, 128, 128, 0.2); border-radius: 2px; overflow: hidden;\" title=\"CPU 8: 1.3% avg\">\n",
       "                            <div style=\"width: 1.3333333333333333%; height: 100%; background: #666666;\"></div>\n",
       "                        </div>\n",
       "                        \n",
       "                        <div style=\"width: calc((100% - 27px) / 10); min-width: 20px; height: 8px; background: rgba(128, 128, 128, 0.2); border-radius: 2px; overflow: hidden;\" title=\"CPU 9: 1.2% avg\">\n",
       "                            <div style=\"width: 1.1666666666666667%; height: 100%; background: #666666;\"></div>\n",
       "                        </div>\n",
       "                        </div></div></div>"
      ],
      "text/plain": [
       "<IPython.core.display.HTML object>"
      ]
     },
     "metadata": {},
     "output_type": "display_data"
    }
   ],
   "source": [
    "%%monitor -p\n",
    "\n",
    "# A simple computation\n",
    "for i in range(10):\n",
    "    result = sum(range(5_000_000))\n",
    "    time.sleep(0.5)"
   ]
  },
  {
   "cell_type": "markdown",
   "id": "magic-options",
   "metadata": {},
   "source": [
    "You can customize the display width:"
   ]
  },
  {
   "cell_type": "code",
   "execution_count": null,
   "id": "magic-width",
   "metadata": {},
   "outputs": [
    {
     "name": "stderr",
     "output_type": "stream",
     "text": [
      "UsageError: Cell magic `%%usage` not found.\n"
     ]
    }
   ],
   "source": [
    "%%monitor -w 100\n",
    "\n",
    "print(\"Running with custom width...\")\n",
    "for i in range(4):\n",
    "    x = sum(range(3_000_000))\n",
    "    time.sleep(0.5)\n",
    "print(\"Complete!\")"
   ]
  },
  {
   "cell_type": "markdown",
   "id": "magic-interval",
   "metadata": {},
   "source": [
    "Increase update frequency for smoother visualization:"
   ]
  },
  {
   "cell_type": "code",
   "execution_count": null,
   "id": "magic-fast",
   "metadata": {},
   "outputs": [],
   "source": [
    "%%monitor -i 0.25\n",
    "\n",
    "# Updates 4 times per second\n",
    "print(\"Fast updates enabled...\")\n",
    "for i in range(8):\n",
    "    result = sum(range(2_000_000))\n",
    "    time.sleep(0.3)\n",
    "print(\"Done with fast updates!\")"
   ]
  },
  {
   "cell_type": "markdown",
   "id": "context-header",
   "metadata": {},
   "source": [
    "## Context Manager: For Scripts\n",
    "\n",
    "The context manager gives you explicit control over monitoring.\n",
    "Perfect for Python scripts or when you want programmatic control.\n",
    "\n",
    "### Basic Context Manager"
   ]
  },
  {
   "cell_type": "code",
   "execution_count": 59,
   "id": "context-basic",
   "metadata": {},
   "outputs": [
    {
     "name": "stdout",
     "output_type": "stream",
     "text": [
      "Monitoring complete!\n"
     ]
    }
   ],
   "source": [
    "print(\"Using context manager...\")\n",
    "\n",
    "with ptd.CPUMonitor():\n",
    "    # Your computation here\n",
    "    for i in range(5):\n",
    "        result = sum(range(4_000_000))\n",
    "        time.sleep(0.5)\n",
    "\n",
    "print(\"Monitoring complete!\")"
   ]
  },
  {
   "cell_type": "markdown",
   "id": "context-custom",
   "metadata": {},
   "source": [
    "### Custom Configuration"
   ]
  },
  {
   "cell_type": "code",
   "execution_count": 60,
   "id": "context-config",
   "metadata": {},
   "outputs": [
    {
     "name": "stdout",
     "output_type": "stream",
     "text": [
      "Both phases complete!\n"
     ]
    }
   ],
   "source": [
    "print(\"Custom configuration...\")\n",
    "\n",
    "with ptd.CPUMonitor(update_interval=0.3, width=120):\n",
    "    print(\"  Phase 1: Light computation\")\n",
    "    for i in range(3):\n",
    "        x = sum(range(1_000_000))\n",
    "        time.sleep(0.4)\n",
    "    \n",
    "    print(\"  Phase 2: Heavy computation\")\n",
    "    for i in range(3):\n",
    "        x = sum(range(5_000_000))\n",
    "        time.sleep(0.4)\n",
    "\n",
    "print(\"Both phases complete!\")"
   ]
  },
  {
   "cell_type": "markdown",
   "id": "context-nosummary",
   "metadata": {},
   "source": [
    "### Disable Summary (for quick tests)"
   ]
  },
  {
   "cell_type": "code",
   "execution_count": 61,
   "id": "context-nosummary-code",
   "metadata": {},
   "outputs": [
    {
     "name": "stdout",
     "output_type": "stream",
     "text": [
      "Done (no summary)\n"
     ]
    }
   ],
   "source": [
    "# No summary statistics - just live monitoring\n",
    "with ptd.CPUMonitor(show_summary=False):\n",
    "    for i in range(4):\n",
    "        x = sum(range(2_000_000))\n",
    "        time.sleep(0.4)\n",
    "\n",
    "print(\"Done (no summary)\")"
   ]
  },
  {
   "cell_type": "markdown",
   "id": "decorator-header",
   "metadata": {},
   "source": [
    "## Decorator: For Functions\n",
    "\n",
    "Wrap any function with `@monitor_cpu` to automatically monitor its execution.\n",
    "\n",
    "### Basic Decorator"
   ]
  },
  {
   "cell_type": "code",
   "execution_count": 62,
   "id": "decorator-basic",
   "metadata": {},
   "outputs": [
    {
     "name": "stdout",
     "output_type": "stream",
     "text": [
      "\n",
      "Saved to: model.pkl\n"
     ]
    }
   ],
   "source": [
    "@ptd.monitor_cpu\n",
    "def simulate_training():\n",
    "    \"\"\"Simulate a training process.\"\"\"\n",
    "    print(\"Training started...\")\n",
    "    for epoch in range(5):\n",
    "        print(f\"  Epoch {epoch+1}/5\")\n",
    "        # Simulate computation\n",
    "        loss = sum(range(3_000_000))\n",
    "        time.sleep(0.5)\n",
    "    print(\"Training complete!\")\n",
    "    return \"model.pkl\"\n",
    "\n",
    "# Run the decorated function\n",
    "model_file = simulate_training()\n",
    "print(f\"\\nSaved to: {model_file}\")"
   ]
  },
  {
   "cell_type": "markdown",
   "id": "decorator-config",
   "metadata": {},
   "source": [
    "### Decorator with Custom Settings"
   ]
  },
  {
   "cell_type": "code",
   "execution_count": 63,
   "id": "decorator-custom",
   "metadata": {},
   "outputs": [
    {
     "name": "stdout",
     "output_type": "stream",
     "text": [
      "\n",
      "Processed 6 batches\n"
     ]
    }
   ],
   "source": [
    "@ptd.monitor_cpu(update_interval=0.25, show_summary=True)\n",
    "def process_data(n_iterations):\n",
    "    \"\"\"Process data in batches.\"\"\"\n",
    "    print(f\"Processing {n_iterations} batches...\")\n",
    "    results = []\n",
    "    for i in range(n_iterations):\n",
    "        # Simulate batch processing\n",
    "        batch_result = sum(range(2_000_000))\n",
    "        results.append(batch_result)\n",
    "        time.sleep(0.3)\n",
    "    return results\n",
    "\n",
    "# Execute\n",
    "results = process_data(6)\n",
    "print(f\"\\nProcessed {len(results)} batches\")"
   ]
  },
  {
   "cell_type": "markdown",
   "id": "real-header",
   "metadata": {},
   "source": [
    "## Real Computations <a id=\"real-computations\"></a>\n",
    "\n",
    "Let's monitor some actual computational work!\n",
    "\n",
    "### Matrix Operations"
   ]
  },
  {
   "cell_type": "code",
   "execution_count": null,
   "id": "real-matrix",
   "metadata": {},
   "outputs": [],
   "source": [
    "%%monitor\n",
    "\n",
    "print(\"Performing large matrix operations...\\n\")\n",
    "\n",
    "# Create large matrices\n",
    "n = 1500\n",
    "print(f\"1. Creating {n}*{n} matrices...\")\n",
    "A = np.random.randn(n, n)\n",
    "B = np.random.randn(n, n)\n",
    "\n",
    "print(f\"2. Matrix multiplication...\")\n",
    "C = np.dot(A, B)\n",
    "\n",
    "print(f\"3. Computing eigenvalues...\")\n",
    "eigenvalues = np.linalg.eigvals(C[:400, :400])\n",
    "\n",
    "print(f\"4. SVD decomposition...\")\n",
    "U, s, Vh = np.linalg.svd(C[:400, :400], full_matrices=False)\n",
    "\n",
    "print(f\"\\nComplete!\")\n",
    "print(f\"  Eigenvalues computed: {len(eigenvalues)}\")\n",
    "print(f\"  Singular values computed: {len(s)}\")"
   ]
  },
  {
   "cell_type": "markdown",
   "id": "real-fft",
   "metadata": {},
   "source": [
    "### FFT and Signal Processing"
   ]
  },
  {
   "cell_type": "code",
   "execution_count": null,
   "id": "real-fft-code",
   "metadata": {},
   "outputs": [],
   "source": [
    "%%monitor -i 0.3\n",
    "\n",
    "print(\"Signal processing tasks...\\n\")\n",
    "\n",
    "# Generate signal\n",
    "print(\"1. Generating signal...\")\n",
    "t = np.linspace(0, 10, 10_000_000)\n",
    "signal = np.sin(2 * np.pi * 5 * t) + 0.5 * np.sin(2 * np.pi * 10 * t)\n",
    "\n",
    "print(\"2. Computing FFT...\")\n",
    "fft_result = np.fft.fft(signal)\n",
    "\n",
    "print(\"3. Computing power spectrum...\")\n",
    "power = np.abs(fft_result)**2\n",
    "\n",
    "print(\"4. Finding peaks...\")\n",
    "peaks = power[power > np.percentile(power, 99.9)]\n",
    "\n",
    "print(f\"\\nProcessing complete!\")\n",
    "print(f\"  Signal length: {len(signal):,}\")\n",
    "print(f\"  Peaks found: {len(peaks)}\")"
   ]
  },
  {
   "cell_type": "markdown",
   "id": "real-graph",
   "metadata": {},
   "source": [
    "### PtDAlgorithms Graph Operations"
   ]
  },
  {
   "cell_type": "code",
   "execution_count": 66,
   "id": "real-graph-build",
   "metadata": {},
   "outputs": [
    {
     "name": "stdout",
     "output_type": "stream",
     "text": [
      "Building phase-type distribution...\n",
      "  Graph created with 6 vertices\n",
      "  Ready for computation!\n"
     ]
    }
   ],
   "source": [
    "# Monitor phase-type distribution computations:\n",
    "\n",
    "# First, create a phase-type distribution\n",
    "print(\"Building phase-type distribution...\")\n",
    "\n",
    "g = ptd.Graph(1)\n",
    "start = g.starting_vertex()\n",
    "\n",
    "# Create a 5-phase Erlang-like distribution\n",
    "vertices = []\n",
    "for i in range(5):\n",
    "    v = g.find_or_create_vertex([i])\n",
    "    vertices.append(v)\n",
    "\n",
    "# Connect phases\n",
    "start.add_edge(vertices[0], 1.0)\n",
    "for i in range(4):\n",
    "    vertices[i].add_edge(vertices[i+1], 2.0 + i * 0.5)\n",
    "\n",
    "g.normalize()\n",
    "\n",
    "print(f\"  Graph created with {g.vertices_length()} vertices\")\n",
    "print(f\"  Ready for computation!\")"
   ]
  },
  {
   "cell_type": "code",
   "execution_count": null,
   "id": "real-graph-compute",
   "metadata": {},
   "outputs": [],
   "source": [
    "%%monitor\n",
    "\n",
    "print(\"Computing phase-type distribution PDF...\\n\")\n",
    "\n",
    "# Evaluate PDF at many time points\n",
    "print(\"1. Generating time points...\")\n",
    "times = np.linspace(0.01, 10.0, 50_000)\n",
    "\n",
    "print(\"2. Computing PDF values...\")\n",
    "pdf_values = g.pdf_batch(times)\n",
    "\n",
    "print(\"3. Analyzing results...\")\n",
    "max_pdf = np.max(pdf_values)\n",
    "argmax = times[np.argmax(pdf_values)]\n",
    "total_prob = np.trapz(pdf_values, times)\n",
    "\n",
    "print(f\"\\n  PDF computation complete!\")\n",
    "print(f\"  Time points: {len(times):,}\")\n",
    "print(f\"  Max PDF: {max_pdf:.4f} at t={argmax:.2f}\")\n",
    "print(f\"  Total probability: {total_prob:.4f}\")"
   ]
  },
  {
   "cell_type": "markdown",
   "id": "real-moments",
   "metadata": {},
   "source": [
    "### Batch Moments Calculation"
   ]
  },
  {
   "cell_type": "code",
   "execution_count": null,
   "id": "real-moments-code",
   "metadata": {},
   "outputs": [],
   "source": [
    "%%monitor\n",
    "\n",
    "print(\"Computing distribution moments...\\n\")\n",
    "\n",
    "# Compute moments 1 through 10\n",
    "moment_orders = np.arange(1, 11)\n",
    "print(f\"Computing moments {moment_orders[0]} through {moment_orders[-1]}...\")\n",
    "\n",
    "moments = g.moments_batch(moment_orders)\n",
    "\n",
    "# Calculate statistics\n",
    "mean = moments[0]\n",
    "variance = moments[1] - mean**2\n",
    "std_dev = np.sqrt(variance)\n",
    "\n",
    "print(f\"\\n  Moments computed!\")\n",
    "print(f\"  Mean: {mean:.4f}\")\n",
    "print(f\"  Variance: {variance:.4f}\")\n",
    "print(f\"  Std Dev: {std_dev:.4f}\")\n",
    "print(f\"\\n  First 5 moments:\")\n",
    "for i in range(5):\n",
    "    print(f\"    E[T^{i+1}] = {moments[i]:.4f}\")"
   ]
  },
  {
   "cell_type": "markdown",
   "id": "advanced-header",
   "metadata": {},
   "source": [
    "## Advanced Configuration <a id=\"advanced\"></a>\n",
    "\n",
    "### Comparing Different Workloads"
   ]
  },
  {
   "cell_type": "code",
   "execution_count": 69,
   "id": "advanced-compare",
   "metadata": {},
   "outputs": [
    {
     "name": "stdout",
     "output_type": "stream",
     "text": [
      "\n",
      "  Comparison complete!\n"
     ]
    }
   ],
   "source": [
    "def workload_light():\n",
    "    \"\"\"Light CPU usage.\"\"\"\n",
    "    for _ in range(5):\n",
    "        x = sum(range(500_000))\n",
    "        time.sleep(0.5)\n",
    "\n",
    "def workload_heavy():\n",
    "    \"\"\"Heavy CPU usage.\"\"\"\n",
    "    for _ in range(5):\n",
    "        x = sum(range(5_000_000))\n",
    "        time.sleep(0.1)\n",
    "\n",
    "print(\"=\" * 60)\n",
    "print(\"LIGHT WORKLOAD\")\n",
    "print(\"=\" * 60)\n",
    "with ptd.CPUMonitor():\n",
    "    workload_light()\n",
    "\n",
    "print(\"\\n\" + \"=\" * 60)\n",
    "print(\"HEAVY WORKLOAD\")\n",
    "print(\"=\" * 60)\n",
    "with ptd.CPUMonitor():\n",
    "    workload_heavy()\n",
    "\n",
    "print(\"\\n  Comparison complete!\")"
   ]
  },
  {
   "cell_type": "markdown",
   "id": "advanced-nested",
   "metadata": {},
   "source": [
    "### Monitoring Multiple Phases"
   ]
  },
  {
   "cell_type": "code",
   "execution_count": null,
   "id": "advanced-phases",
   "metadata": {},
   "outputs": [],
   "source": [
    "%%monitor\n",
    "\n",
    "phases = [\n",
    "    (\"Data Loading\", 1_000_000, 3),\n",
    "    (\"Preprocessing\", 2_000_000, 3),\n",
    "    (\"Training\", 4_000_000, 4),\n",
    "    (\"Validation\", 1_500_000, 2),\n",
    "]\n",
    "\n",
    "print(\"Multi-phase computation...\\n\")\n",
    "\n",
    "for phase_name, workload, iterations in phases:\n",
    "    print(f\"Phase: {phase_name}\")\n",
    "    for i in range(iterations):\n",
    "        result = sum(range(workload))\n",
    "        time.sleep(0.3)\n",
    "    print(f\"  {phase_name} complete\\n\")\n",
    "\n",
    "print(\"\\nAll phases complete!\")"
   ]
  },
  {
   "cell_type": "markdown",
   "id": "c1f236a1",
   "metadata": {},
   "source": [
    "## SLURM usage\n",
    "\n",
    "### Check Current Environment"
   ]
  },
  {
   "cell_type": "code",
   "execution_count": 71,
   "id": "slurm-check",
   "metadata": {},
   "outputs": [
    {
     "name": "stdout",
     "output_type": "stream",
     "text": [
      "Current Environment:\n",
      "============================================================\n",
      " Running locally (not on SLURM)\n",
      "\n",
      "Detected Resources:\n",
      "  • perry: 10 CPUs\n",
      "    Allocated cores: 10\n"
     ]
    }
   ],
   "source": [
    "import os\n",
    "\n",
    "print(\"Current Environment:\")\n",
    "print(\"=\" * 60)\n",
    "\n",
    "# Check if we're on SLURM\n",
    "if 'SLURM_JOB_ID' in os.environ:\n",
    "    print(\" Running on SLURM\")\n",
    "    print(f\"  Job ID: {os.environ.get('SLURM_JOB_ID')}\")\n",
    "    print(f\"  Nodes: {os.environ.get('SLURM_JOB_NUM_NODES', 'N/A')}\")\n",
    "    print(f\"  CPUs per task: {os.environ.get('SLURM_CPUS_PER_TASK', 'N/A')}\")\n",
    "    print(f\"  Node list: {os.environ.get('SLURM_JOB_NODELIST', 'N/A')}\")\n",
    "else:\n",
    "    print(\" Running locally (not on SLURM)\")\n",
    "\n",
    "# Show detected nodes\n",
    "print(f\"\\nDetected Resources:\")\n",
    "nodes = ptd.detect_compute_nodes()\n",
    "for node in nodes:\n",
    "    print(f\"  • {node.name}: {node.cpu_count} CPUs\")\n",
    "    if node.allocated_cpus:\n",
    "        print(f\"    Allocated cores: {len(node.allocated_cpus)}\")"
   ]
  },
  {
   "cell_type": "markdown",
   "id": "tips-header",
   "metadata": {},
   "source": [
    "## Tips and Tricks <a id=\"tips\"></a>\n",
    "\n",
    "### Quick Testing Without Summary"
   ]
  },
  {
   "cell_type": "code",
   "execution_count": 72,
   "id": "tips-quick",
   "metadata": {},
   "outputs": [
    {
     "name": "stdout",
     "output_type": "stream",
     "text": [
      "Quick test complete: 4499998500000\n"
     ]
    }
   ],
   "source": [
    "# For quick tests, disable summary\n",
    "with ptd.CPUMonitor(show_summary=False):\n",
    "    result = sum(range(3_000_000))\n",
    "\n",
    "print(f\"Quick test complete: {result}\")"
   ]
  },
  {
   "cell_type": "markdown",
   "id": "tips-parallel",
   "metadata": {},
   "source": [
    "### Combine with Parallel Configuration"
   ]
  },
  {
   "cell_type": "code",
   "execution_count": 73,
   "id": "tips-parallel-code",
   "metadata": {},
   "outputs": [],
   "source": [
    "# Initialize parallel configuration\n",
    "try:\n",
    "    config = ptd.init_parallel(cpus=4)\n",
    "    print(f\"Parallel config: {config.device_count} devices\")\n",
    "    print(f\"  Strategy: {config.strategy}\")\n",
    "except Exception as e:\n",
    "    print(f\"Could not initialize parallel: {e}\")\n",
    "\n",
    "# Now monitor with parallel execution\n",
    "with ptd.CPUMonitor():\n",
    "    times = np.linspace(0.1, 5.0, 10_000)\n",
    "    # This will use parallel configuration if available\n",
    "    try:\n",
    "        pdf = g.pdf_batch(times)\n",
    "        print(f\"Computed {len(pdf)} PDF values\")\n",
    "    except Exception as e:\n",
    "        print(f\"Computation not available: {e}\")"
   ]
  },
  {
   "cell_type": "markdown",
   "id": "tips-width",
   "metadata": {},
   "source": [
    "### Adjust Update Interval Based on Workload"
   ]
  },
  {
   "cell_type": "code",
   "execution_count": 74,
   "id": "tips-interval",
   "metadata": {},
   "outputs": [
    {
     "name": "stdout",
     "output_type": "stream",
     "text": [
      "\n",
      "Both complete!\n"
     ]
    }
   ],
   "source": [
    "print(\"Fast computation → frequent updates:\")\n",
    "with ptd.CPUMonitor(update_interval=0.2):\n",
    "    for _ in range(5):\n",
    "        x = sum(range(1_000_000))\n",
    "        time.sleep(0.3)\n",
    "\n",
    "print(\"\\nSlow computation → less frequent updates:\")\n",
    "with ptd.CPUMonitor(update_interval=1.0):\n",
    "    for _ in range(3):\n",
    "        x = sum(range(5_000_000))\n",
    "        time.sleep(1.0)\n",
    "\n",
    "print(\"\\nBoth complete!\")"
   ]
  },
  {
   "cell_type": "markdown",
   "id": "tips-function",
   "metadata": {},
   "source": [
    "### Monitor Specific Functions Only"
   ]
  },
  {
   "cell_type": "code",
   "execution_count": 75,
   "id": "tips-selective",
   "metadata": {},
   "outputs": [
    {
     "name": "stdout",
     "output_type": "stream",
     "text": [
      "Postprocessing (not monitored)...\n",
      "\n",
      "Pipeline complete!\n"
     ]
    }
   ],
   "source": [
    "def preprocessing():\n",
    "    \"\"\"Not monitored.\"\"\"\n",
    "    print(\"Preprocessing (not monitored)...\")\n",
    "    time.sleep(0.5)\n",
    "\n",
    "@ptd.monitor_cpu(show_summary=False)\n",
    "def expensive_computation():\n",
    "    \"\"\"Monitored.\"\"\"\n",
    "    print(\"Expensive computation (monitored)...\")\n",
    "    for _ in range(4):\n",
    "        x = sum(range(3_000_000))\n",
    "        time.sleep(0.4)\n",
    "\n",
    "def postprocessing():\n",
    "    \"\"\"Not monitored.\"\"\"\n",
    "    print(\"Postprocessing (not monitored)...\")\n",
    "    time.sleep(0.5)\n",
    "\n",
    "# Run pipeline\n",
    "preprocessing()\n",
    "expensive_computation()\n",
    "postprocessing()\n",
    "\n",
    "print(\"\\nPipeline complete!\")"
   ]
  },
  {
   "cell_type": "code",
   "execution_count": null,
   "id": "e6a72815",
   "metadata": {},
   "outputs": [],
   "source": []
  },
  {
   "cell_type": "code",
   "execution_count": null,
   "id": "eb7e1f88",
   "metadata": {},
   "outputs": [],
   "source": []
  }
 ],
 "metadata": {
  "kernelspec": {
   "display_name": "default",
   "language": "python",
   "name": "python3"
  },
  "language_info": {
   "codemirror_mode": {
    "name": "ipython",
    "version": 3
   },
   "file_extension": ".py",
   "mimetype": "text/x-python",
   "name": "python",
   "nbconvert_exporter": "python",
   "pygments_lexer": "ipython3",
   "version": "3.13.7"
  }
 },
 "nbformat": 4,
 "nbformat_minor": 5
}
