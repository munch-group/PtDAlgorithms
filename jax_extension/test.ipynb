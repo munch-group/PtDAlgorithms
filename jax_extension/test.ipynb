{
 "cells": [
  {
   "cell_type": "code",
   "execution_count": 15,
   "id": "390bb158",
   "metadata": {},
   "outputs": [
    {
     "name": "stdout",
     "output_type": "stream",
     "text": [
      ">> {} Times: [1 2 3]\n",
      ">> {} \"building\" graph\n",
      "\n",
      "[(array([2], dtype=int32), np.float64(3.0))]\n",
      "[(array([1], dtype=int32), np.float64(1.0))]\n",
      "[]\n"
     ]
    },
    {
     "data": {
      "text/plain": [
       "array([[0],\n",
       "       [3],\n",
       "       [2],\n",
       "       [1],\n",
       "       [0],\n",
       "       [0]], dtype=int32)"
      ]
     },
     "execution_count": 15,
     "metadata": {},
     "output_type": "execute_result"
    }
   ],
   "source": [
    "import os\n",
    "from collections import defaultdict\n",
    "os.environ['JAX_ENABLE_X64'] = 'True'\n",
    "# Disable JAX compilation cache to avoid HDF5 issues\n",
    "# os.environ['JAX_COMPILATION_CACHE_DIR'] = ''\n",
    "# os.environ['JAX_DISABLE_JIT'] = '0'  # Keep JIT enabled but disable caching\n",
    "\n",
    "import numpy as np\n",
    "import numpy as jnp\n",
    "\n",
    "from ptdalgorithms import Graph\n",
    "\n",
    "def echo(*args):\n",
    "    print('>>'+' {}'*len(args), *args)\n",
    "\n",
    "\n",
    "# TODO: make this a method of Graph\n",
    "def make_discrete(cont_graph, mutation_rate, skip_states=[], skip_slots=[]):\n",
    "    \"\"\"\n",
    "    Takes a graph for a continuous distribution and turns\n",
    "    it into a descrete one (inplace). Returns a matrix of\n",
    "    rewards for computing marginal moments\n",
    "    \"\"\"\n",
    "\n",
    "    graph = cont_graph.copy()\n",
    "\n",
    "    # save current nr of states in graph\n",
    "    vlength = graph.vertices_length()\n",
    "\n",
    "    # number of fields in state vector (assumes all are the same length)\n",
    "    state_vector_length = len(graph.vertex_at(1).state())\n",
    "\n",
    "    # list state vector fields to reward at each auxiliary node\n",
    "    # rewarded_state_vector_indexes = [[] for _ in range(state_vector_length)]\n",
    "    rewarded_state_vector_indexes = defaultdict(list)\n",
    "\n",
    "    # loop all but starting node\n",
    "    for i in range(1, vlength):\n",
    "        if i in skip_states:\n",
    "            continue\n",
    "        vertex = graph.vertex_at(i)\n",
    "        if vertex.rate() > 0: # not absorbing\n",
    "            for j in range(state_vector_length):\n",
    "                if j in skip_slots:\n",
    "                    continue\n",
    "                val = vertex.state()[j]\n",
    "                if val > 0: # only ones we may reward\n",
    "                    # add auxilliary node\n",
    "                    mutation_vertex = graph.create_vertex(np.repeat(0, state_vector_length))\n",
    "                    mutation_vertex.add_edge(vertex, 1)\n",
    "                    vertex.add_edge(mutation_vertex, mutation_rate*val)\n",
    "                    # print(mutation_vertex.index(), rewarded_state_vector_indexes[j], j)\n",
    "                    # rewarded_state_vector_indexes[mutation_vertex.index()] = rewarded_state_vector_indexes[j] + [j]\n",
    "                    rewarded_state_vector_indexes[mutation_vertex.index()].append(j)\n",
    "\n",
    "    # print(rewarded_state_vector_indexes)\n",
    "\n",
    "    # normalize graph\n",
    "    weights_were_multiplied_with = graph.normalize()\n",
    "\n",
    "    # build reward matrix\n",
    "    rewards = np.zeros((graph.vertices_length(), state_vector_length))\n",
    "    for state in rewarded_state_vector_indexes:\n",
    "        for i in rewarded_state_vector_indexes[state]:\n",
    "            rewards[state, i] = 1\n",
    "\n",
    "    rewards = np.transpose(rewards)\n",
    "    return graph, rewards\n",
    "\n",
    "# def build_graph(theta, cache_key=None): \n",
    "#     # cache_key is a dummy static argument that only serve to make jax\n",
    "#     # cache on those values and not just on shape and dtype of theta\n",
    "#     echo('\"building\" graph\\n')\n",
    "\n",
    "#     pop_size, mutation_rate = theta\n",
    "\n",
    "#     def coalescent(state, nr_samples=None):\n",
    "#         if not state.size:\n",
    "#             ipv = [([nr_samples]+[0]*nr_samples, 1)]\n",
    "#             return ipv\n",
    "#         else:\n",
    "#             transitions = []\n",
    "#             for i in range(nr_samples):\n",
    "#                 for j in range(i, nr_samples):            \n",
    "#                     same = int(i == j)\n",
    "#                     if same and state[i] < 2:\n",
    "#                         continue\n",
    "#                     if not same and (state[i] < 1 or state[j] < 1):\n",
    "#                         continue \n",
    "#                     new = state.copy()\n",
    "#                     new[i] -= 1\n",
    "#                     new[j] -= 1\n",
    "#                     new[i+j+1] += 1\n",
    "#                     transitions.append((new, state[i]*(state[j]-same)/(1+same)))\n",
    "#             return transitions\n",
    "\n",
    "#     graph = Graph(callback=coalescent, nr_samples=3)\n",
    "\n",
    "#     discrete_graph, rewards = make_discrete(graph, mutation_rate=mutation_rate)\n",
    "\n",
    "#     return discrete_graph, rewards\n",
    "\n",
    "\n",
    "def build_graph(theta, cache_key=None): \n",
    "    # cache_key is a dummy static argument that only serve to make jax\n",
    "    # cache on those values and not just on shape and dtype of theta\n",
    "    echo('\"building\" graph\\n')\n",
    "\n",
    "    pop_size, mutation_rate = theta\n",
    "\n",
    "    def block_coalescent(state, nr_samples=None):\n",
    "        if not state.size:\n",
    "            return [([nr_samples], 1)]\n",
    "        transitions = []\n",
    "        if state[0] > 1:\n",
    "            new = state.copy()\n",
    "            new[0] -= 1\n",
    "            transitions.append((new, state[0]*(state[0]-1)/2))\n",
    "        print(transitions)\n",
    "        return transitions\n",
    "\n",
    "    graph = Graph(callback=block_coalescent, nr_samples=3)\n",
    "\n",
    "    discrete_graph, rewards = make_discrete(graph, mutation_rate=mutation_rate)\n",
    "\n",
    "    return discrete_graph, rewards\n",
    "\n",
    "\n",
    "\n",
    "data = jnp.array([1, 2, 3], dtype=jnp.int64)\n",
    "echo(f\"Times: {data}\")\n",
    "\n",
    "_N, _u = 1000, 1/10 # just pop size times mut rate for testing (nonsensical of cause)\n",
    "theta = jnp.array([_N, _u ], dtype=jnp.float64)  # Ensure double precision\n",
    "\n",
    "\n",
    "###################################\n",
    "\n",
    "\n",
    "graph, rewards = build_graph(theta)\n",
    "#print(jnp.apply_along_axis(graph.expectation, 1, rewards))\n",
    "graph.states()\n"
   ]
  },
  {
   "cell_type": "code",
   "execution_count": 17,
   "id": "9f13ddde",
   "metadata": {},
   "outputs": [
    {
     "data": {
      "text/plain": [
       "array([0.19513315, 0.03878315, 0.00703304])"
      ]
     },
     "execution_count": 17,
     "metadata": {},
     "output_type": "execute_result"
    }
   ],
   "source": [
    "\n",
    "rev_trans_graph = graph.reward_transform(rewards[0])\n",
    "rev_trans_graph.pmf_discrete(data)\n",
    "\n",
    "# g, r = build_graph(theta, mutation_rate=0.1)\n",
    "# echo('states:', g.states())\n",
    "# echo('rewards:', r)\n",
    "\n",
    "#echo('python log_pmf: ', python_jax_dph_pmf(theta, data))\n",
    "\n"
   ]
  },
  {
   "cell_type": "code",
   "execution_count": 18,
   "id": "c2316f61",
   "metadata": {},
   "outputs": [
    {
     "data": {
      "text/plain": [
       "[<matplotlib.lines.Line2D at 0x16a145cd0>]"
      ]
     },
     "execution_count": 18,
     "metadata": {},
     "output_type": "execute_result"
    },
    {
     "data": {
      "image/png": "[encoded data removed]",
      "text/plain": [
       "<Figure size 640x480 with 1 Axes>"
      ]
     },
     "metadata": {},
     "output_type": "display_data"
    }
   ],
   "source": [
    "from matplotlib import pyplot as plt\n",
    "x = np.arange(0, 10, 1)\n",
    "plt.plot(rev_trans_graph.pmf_discrete(x))"
   ]
  },
  {
   "cell_type": "code",
   "execution_count": null,
   "id": "8582cb42",
   "metadata": {},
   "outputs": [],
   "source": []
  }
 ],
 "metadata": {
  "kernelspec": {
   "display_name": "default",
   "language": "python",
   "name": "python3"
  },
  "language_info": {
   "codemirror_mode": {
    "name": "ipython",
    "version": 3
   },
   "file_extension": ".py",
   "mimetype": "text/x-python",
   "name": "python",
   "nbconvert_exporter": "python",
   "pygments_lexer": "ipython3",
   "version": "3.11.12"
  }
 },
 "nbformat": 4,
 "nbformat_minor": 5
}
