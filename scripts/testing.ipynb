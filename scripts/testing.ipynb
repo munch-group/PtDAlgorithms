{
 "cells": [
  {
   "cell_type": "code",
   "execution_count": 1,
   "id": "fdcdab73-9c4b-44e2-9e3f-b3561961b014",
   "metadata": {
    "vscode": {
     "languageId": "r"
    }
   },
   "outputs": [],
   "source": [
    "# # install.packages(\"remotes\")\n",
    "# remotes::install_github(\"Thell/RcppMP\")"
   ]
  },
  {
   "cell_type": "code",
   "execution_count": 2,
   "id": "2746ebb6-4ac8-4f31-bb6a-265637f364ca",
   "metadata": {
    "vscode": {
     "languageId": "r"
    }
   },
   "outputs": [
    {
     "name": "stderr",
     "output_type": "stream",
     "text": [
      "Indlæser krævet pakke: viridisLite\n",
      "\n",
      "── \u001b[1mAttaching core tidyverse packages\u001b[22m ──────────────────────────────────────────────────────────────── tidyverse 2.0.0 ──\n",
      "\u001b[32m✔\u001b[39m \u001b[34mdplyr    \u001b[39m 1.1.4     \u001b[32m✔\u001b[39m \u001b[34mreadr    \u001b[39m 2.1.5\n",
      "\u001b[32m✔\u001b[39m \u001b[34mforcats  \u001b[39m 1.0.0     \u001b[32m✔\u001b[39m \u001b[34mstringr  \u001b[39m 1.5.1\n",
      "\u001b[32m✔\u001b[39m \u001b[34mlubridate\u001b[39m 1.9.3     \u001b[32m✔\u001b[39m \u001b[34mtibble   \u001b[39m 3.2.1\n",
      "\u001b[32m✔\u001b[39m \u001b[34mpurrr    \u001b[39m 1.0.2     \u001b[32m✔\u001b[39m \u001b[34mtidyr    \u001b[39m 1.3.1\n",
      "── \u001b[1mConflicts\u001b[22m ────────────────────────────────────────────────────────────────────────────────── tidyverse_conflicts() ──\n",
      "\u001b[31m✖\u001b[39m \u001b[34mdplyr\u001b[39m::\u001b[32mcombine()\u001b[39m masks \u001b[34mgridExtra\u001b[39m::combine()\n",
      "\u001b[31m✖\u001b[39m \u001b[34mdplyr\u001b[39m::\u001b[32mfilter()\u001b[39m  masks \u001b[34mstats\u001b[39m::filter()\n",
      "\u001b[31m✖\u001b[39m \u001b[34mdplyr\u001b[39m::\u001b[32mlag()\u001b[39m     masks \u001b[34mstats\u001b[39m::lag()\n",
      "\u001b[36mℹ\u001b[39m Use the conflicted package (\u001b[3m\u001b[34m<http://conflicted.r-lib.org/>\u001b[39m\u001b[23m) to force all conflicts to become errors\n"
     ]
    }
   ],
   "source": [
    "library(ggplot2)\n",
    "library(viridis)\n",
    "library(grid)\n",
    "library(gridExtra)\n",
    "library(\"IRdisplay\")\n",
    "library(tidyverse)"
   ]
  },
  {
   "cell_type": "code",
   "execution_count": 3,
   "id": "a2556e65-d1b2-4b12-987d-2bb1dd97b52d",
   "metadata": {
    "collapsed": true,
    "jupyter": {
     "outputs_hidden": true
    },
    "vscode": {
     "languageId": "r"
    }
   },
   "outputs": [
    {
     "name": "stderr",
     "output_type": "stream",
     "text": [
      "Indlæser krævet pakke: usethis\n",
      "\n",
      "\u001b[1m\u001b[22m\u001b[36mℹ\u001b[39m Loading \u001b[34mptdalgorithms\u001b[39m\n"
     ]
    },
    {
     "name": "stdout",
     "output_type": "stream",
     "text": [
      "Exports from /Users/kmt/PtDalgorithms/src/ptdalgorithms.cpp:\n",
      "   SEXP create_graph(size_t state_length)\n",
      "   List find_or_create_vertex(SEXP phase_type_graph, IntegerVector state)\n",
      "   void add_edge(SEXP phase_type_vertex_from, SEXP phase_type_vertex_to, double weight, NumericVector parameterized_edge_state = NumericVector::create())\n",
      "   void graph_update_weights_parameterized(SEXP phase_type_graph, NumericVector scalars)\n",
      "   List vertices(SEXP phase_type_graph)\n",
      "   IntegerMatrix states(SEXP phase_type_graph)\n",
      "   int vertices_length(SEXP phase_type_graph)\n",
      "   List vertex_at(SEXP phase_type_graph, int index)\n",
      "   List starting_vertex(SEXP phase_type_graph)\n",
      "   List edges(SEXP phase_type_vertex)\n",
      "   SEXP create_vertex(SEXP phase_type_graph, IntegerVector state)\n",
      "   SEXP find_vertex(SEXP phase_type_graph, IntegerVector state)\n",
      "   List graph_as_matrix(SEXP phase_type_graph)\n",
      "   SEXP matrix_as_graph(NumericVector IPV, NumericMatrix SIM, Nullable <NumericMatrix> rewards = R_NilValue)\n",
      "   SEXP clone_graph(SEXP phase_type_graph)\n",
      "   List graph_as_dph_matrix(SEXP phase_type_graph)\n",
      "   SEXP expectation_dag(SEXP phase_type_graph, Nullable <NumericVector> rewards = R_NilValue)\n",
      "   SEXP reward_transform(SEXP phase_type_graph, NumericVector rewards)\n",
      "   SEXP dph_reward_transform(SEXP phase_type_graph, IntegerVector rewards)\n",
      "   NumericVector normalize_graph(SEXP phase_type_graph)\n",
      "   NumericVector normalize_dph_graph(SEXP phase_type_graph)\n",
      "   NumericVector expected_waiting_time(SEXP phase_type_graph, Nullable <NumericVector> rewards = R_NilValue)\n",
      "   NumericVector expected_residence_time(SEXP phase_type_graph, Nullable <NumericVector> rewards = R_NilValue)\n",
      "   NumericVector dph_expected_visits(SEXP phase_type_graph, Nullable <NumericVector> rewards = R_NilValue)\n",
      "   NumericVector moments(SEXP phase_type_graph, int power, Nullable <NumericVector> rewards = R_NilValue)\n",
      "   double expectation(SEXP phase_type_graph, Nullable <NumericVector> rewards = R_NilValue)\n",
      "   double variance(SEXP phase_type_graph, Nullable <NumericVector> rewards = R_NilValue)\n",
      "   double covariance(SEXP phase_type_graph, NumericVector rewards1, NumericVector rewards2)\n",
      "   double dph_expectation(SEXP phase_type_graph, Nullable <NumericVector> rewards = R_NilValue)\n",
      "   double dph_variance(SEXP phase_type_graph, Nullable <NumericVector> rewards = R_NilValue)\n",
      "   double dph_covariance(SEXP phase_type_graph, NumericVector rewards1, NumericVector rewards2)\n",
      "   bool is_graph_acyclic(SEXP phase_type_graph)\n",
      "   double defect(SEXP phase_type_graph)\n",
      "   NumericVector rph(int n, SEXP phase_type_graph, Nullable <NumericVector> rewards = R_NilValue)\n",
      "   NumericVector dph(NumericVector x, SEXP phase_type_graph, int granularity = 0)\n",
      "   NumericVector pph(NumericVector q, SEXP phase_type_graph, int granularity = 0)\n",
      "   NumericVector stop_probability(SEXP phase_type_graph, double time, int granularity = 0)\n",
      "   NumericVector accumulated_visiting_time(SEXP phase_type_graph, double time, int granularity = 0)\n",
      "   NumericMatrix rmph(int n, SEXP phase_type_graph, NumericMatrix rewards)\n",
      "   NumericVector random_sample_stop_vertex(int n, SEXP phase_type_graph, double time)\n",
      "   NumericVector rdph(int n, SEXP phase_type_graph, Nullable <NumericVector> rewards = R_NilValue)\n",
      "   NumericVector ddph(IntegerVector x, SEXP phase_type_graph)\n",
      "   NumericVector pdph(IntegerVector q, SEXP phase_type_graph)\n",
      "   NumericVector dph_stop_probability(SEXP phase_type_graph, int jumps)\n",
      "   NumericVector dph_accumulated_visits(SEXP phase_type_graph, int jumps)\n",
      "   NumericMatrix rmdph(int n, SEXP phase_type_graph, NumericMatrix rewards)\n",
      "   NumericVector dph_random_sample_stop_vertex(int n, SEXP phase_type_graph, int jumps)\n",
      "   SEXP distribution_context(SEXP phase_type_graph, int granularity = 0)\n",
      "   void distribution_context_step(SEXP probability_distribution_context)\n",
      "   List distribution_context_state(SEXP probability_distribution_context)\n",
      "   NumericVector distribution_context_stop_probability(SEXP probability_distribution_context)\n",
      "   NumericVector distribution_context_accumulated_visiting_time(SEXP probability_distribution_context)\n",
      "   SEXP dph_distribution_context(SEXP phase_type_graph)\n",
      "   void dph_distribution_context_step(SEXP probability_distribution_context)\n",
      "   List dph_distribution_context_state(SEXP probability_distribution_context)\n",
      "   NumericVector dph_distribution_context_stop_probability(SEXP probability_distribution_context)\n",
      "   NumericVector dph_distribution_context_accumulated_visits(SEXP probability_distribution_context)\n",
      "\n",
      "/Users/kmt/PtDalgorithms/src/RcppExports.cpp updated.\n",
      "/Users/kmt/PtDalgorithms/R/RcppExports.R updated.\n"
     ]
    },
    {
     "name": "stderr",
     "output_type": "stream",
     "text": [
      "\u001b[36mℹ\u001b[39m Re-compiling \u001b[34m\u001b[34mptdalgorithms\u001b[34m\u001b[39m (debug build)\n",
      "\n"
     ]
    },
    {
     "name": "stdout",
     "output_type": "stream",
     "text": [
      "\u001b[36m──\u001b[39m \u001b[36mR CMD INSTALL\u001b[39m \u001b[36m───────────────────────────────────────────────────────────────────────────────────────────────────────\u001b[39m\n",
      "\u001b[90m─\u001b[39m\u001b[90m  \u001b[39m\u001b[90minstalling *source* package ‘ptdalgorithms’ ...\u001b[39m\u001b[36m\u001b[36m (498ms)\u001b[36m\u001b[39m\n",
      "   ** using staged installation\n",
      "   ** libs\n",
      "   using C++ compiler: ‘clang version 18.1.8’\n",
      "   using SDK: ‘MacOSX14.4.sdk’\n",
      "   arm64-apple-darwin20.0.0-clang++ -std=gnu++17 -I\"/Users/kmt/miniconda3/envs/phasetype/lib/R/include\" -DNDEBUG  -I'/Users/kmt/miniconda3/envs/phasetype/lib/R/library/Rcpp/include' -D_FORTIFY_SOURCE=2 -isystem /Users/kmt/miniconda3/envs/phasetype/include -mmacosx-version-min=11.0 -mmacosx-version-min=11.0 -I/Users/kmt/miniconda3/envs/phasetype/include   -I../api/cpp -I../api/c -Ic/ -Icpp/ -fPIC  -ftree-vectorize -fPIC -fstack-protector-strong -O2 -pipe -stdlib=libc++ -fvisibility-inlines-hidden -fmessage-length=0 -isystem /Users/kmt/miniconda3/envs/phasetype/include -fdebug-prefix-map=/Users/runner/miniforge3/conda-bld/r-base-split_1723488724675/work=/usr/local/src/conda/r-base-4.4.1 -fdebug-prefix-map=/Users/kmt/miniconda3/envs/phasetype=/usr/local/src/conda-prefix  -UNDEBUG -Wall -pedantic -g -O0 -fdiagnostics-color=always  -c RcppExports.cpp -o RcppExports.o\n",
      "   In file included from RcppExports.cpp:4:\n",
      "   In file included from ./ptdalgorithms_types.h:10:\n",
      "   In file included from ./c/ptdalgorithms.h:1:\n",
      "   \u001b[1m./c/../../api/c/ptdalgorithms.h:208:22: \u001b[0m\u001b[0;1;35mwarning: \u001b[0m\u001b[1m'ptd_graph_expectation_dag' has C-linkage specified, but returns incomplete type 'struct ptd_clone_res' which could be incompatible with C [-Wreturn-type-c-linkage]\u001b[0m\n",
      "     208 | struct ptd_clone_res ptd_graph_expectation_dag(struct ptd_graph *graph, double *rewards);\u001b[0m\n",
      "         | \u001b[0;1;32m                     ^\n",
      "   \u001b[0mIn file included from RcppExports.cpp:4:\n",
      "   In file included from ./ptdalgorithms_types.h:11:\n",
      "   In file included from ./cpp/ptdalgorithmscpp.h:1:\n",
      "   \u001b[1m./cpp/../../api/cpp/ptdalgorithmscpp.h:813:16: \u001b[0m\u001b[0;1;35mwarning: \u001b[0m\u001b[1mclass 'ParameterizedEdge' was previously declared as a struct; this is valid, but may result in linker errors under the Microsoft C++ ABI [-Wmismatched-tags]\u001b[0m\n",
      "     813 |         friend class ParameterizedEdge;\u001b[0m\n",
      "         | \u001b[0;1;32m               ^\n",
      "   \u001b[0m\u001b[1m./cpp/../../api/cpp/ptdalgorithmscpp.h:52:12: \u001b[0m\u001b[0;1;36mnote: \u001b[0mprevious use is here\u001b[0m\n",
      "      52 |     struct ParameterizedEdge;\u001b[0m\n",
      "         | \u001b[0;1;32m           ^\n",
      "   \u001b[0m\u001b[1m./cpp/../../api/cpp/ptdalgorithmscpp.h:994:16: \u001b[0m\u001b[0;1;35mwarning: \u001b[0m\u001b[1mprivate field 'graph' is not used [-Wunused-private-field]\u001b[0m\n",
      "     994 |         Graph &graph;\u001b[0m\n",
      "         | \u001b[0;1;32m               ^\n",
      "   \u001b[0m\u001b[1m./cpp/../../api/cpp/ptdalgorithmscpp.h:1037:16: \u001b[0m\u001b[0;1;35mwarning: \u001b[0m\u001b[1mprivate field 'graph' is not used [-Wunused-private-field]\u001b[0m\n",
      "    1037 |         Graph &graph;\u001b[0m\n",
      "         | \u001b[0;1;32m               ^\n",
      "   \u001b[0m4 warnings generated.\n",
      "   arm64-apple-darwin20.0.0-clang++ -std=gnu++17 -I\"/Users/kmt/miniconda3/envs/phasetype/lib/R/include\" -DNDEBUG  -I'/Users/kmt/miniconda3/envs/phasetype/lib/R/library/Rcpp/include' -D_FORTIFY_SOURCE=2 -isystem /Users/kmt/miniconda3/envs/phasetype/include -mmacosx-version-min=11.0 -mmacosx-version-min=11.0 -I/Users/kmt/miniconda3/envs/phasetype/include   -I../api/cpp -I../api/c -Ic/ -Icpp/ -fPIC  -ftree-vectorize -fPIC -fstack-protector-strong -O2 -pipe -stdlib=libc++ -fvisibility-inlines-hidden -fmessage-length=0 -isystem /Users/kmt/miniconda3/envs/phasetype/include -fdebug-prefix-map=/Users/runner/miniforge3/conda-bld/r-base-split_1723488724675/work=/usr/local/src/conda/r-base-4.4.1 -fdebug-prefix-map=/Users/kmt/miniconda3/envs/phasetype=/usr/local/src/conda-prefix  -UNDEBUG -Wall -pedantic -g -O0 -fdiagnostics-color=always  -c ptdalgorithms.cpp -o ptdalgorithms.o\n",
      "   In file included from ptdalgorithms.cpp:42:\n",
      "   In file included from ./ptdalgorithms_types.h:10:\n",
      "   In file included from ./c/ptdalgorithms.h:1:\n",
      "   \u001b[1m./c/../../api/c/ptdalgorithms.h:208:22: \u001b[0m\u001b[0;1;35mwarning: \u001b[0m\u001b[1m'ptd_graph_expectation_dag' has C-linkage specified, but returns incomplete type 'struct ptd_clone_res' which could be incompatible with C [-Wreturn-type-c-linkage]\u001b[0m\n",
      "     208 | struct ptd_clone_res ptd_graph_expectation_dag(struct ptd_graph *graph, double *rewards);\u001b[0m\n",
      "         | \u001b[0;1;32m                     ^\n",
      "   \u001b[0mIn file included from ptdalgorithms.cpp:42:\n",
      "   In file included from ./ptdalgorithms_types.h:11:\n",
      "   In file included from ./cpp/ptdalgorithmscpp.h:1:\n",
      "   \u001b[1m./cpp/../../api/cpp/ptdalgorithmscpp.h:813:16: \u001b[0m\u001b[0;1;35mwarning: \u001b[0m\u001b[1mclass 'ParameterizedEdge' was previously declared as a struct; this is valid, but may result in linker errors under the Microsoft C++ ABI [-Wmismatched-tags]\u001b[0m\n",
      "     813 |         friend class ParameterizedEdge;\u001b[0m\n",
      "         | \u001b[0;1;32m               ^\n",
      "   \u001b[0m\u001b[1m./cpp/../../api/cpp/ptdalgorithmscpp.h:52:12: \u001b[0m\u001b[0;1;36mnote: \u001b[0mprevious use is here\u001b[0m\n",
      "      52 |     struct ParameterizedEdge;\u001b[0m\n",
      "         | \u001b[0;1;32m           ^\n",
      "   \u001b[0mIn file included from ptdalgorithms.cpp:42:\n",
      "   In file included from ./ptdalgorithms_types.h:10:\n",
      "   In file included from ./c/ptdalgorithms.h:1:\n",
      "   \u001b[1m./c/../../api/c/ptdalgorithms.h:407:17: \u001b[0m\u001b[0;1;35mwarning: \u001b[0m\u001b[1mtoken pasting of ',' and __VA_ARGS__ is a GNU extension [-Wgnu-zero-variadic-macro-arguments]\u001b[0m\n",
      "     407 |          message, ##__VA_ARGS__);                  \\\u001b[0m\n",
      "         | \u001b[0;1;32m                ^\n",
      "   \u001b[0m\u001b[1m./c/../../api/c/ptdalgorithms.h:407:17: \u001b[0m\u001b[0;1;35mwarning: \u001b[0m\u001b[1mtoken pasting of ',' and __VA_ARGS__ is a GNU extension [-Wgnu-zero-variadic-macro-arguments]\u001b[0m\n",
      "   \u001b[1m./c/../../api/c/ptdalgorithms.h:407:17: \u001b[0m\u001b[0;1;35mwarning: \u001b[0m\u001b[1mtoken pasting of ',' and __VA_ARGS__ is a GNU extension [-Wgnu-zero-variadic-macro-arguments]\u001b[0m\n",
      "   \u001b[1m./c/../../api/c/ptdalgorithms.h:391:15: \u001b[0m\u001b[0;1;35mwarning: \u001b[0m\u001b[1mtoken pasting of ',' and __VA_ARGS__ is a GNU extension [-Wgnu-zero-variadic-macro-arguments]\u001b[0m\n",
      "     391 |          error, ##__VA_ARGS__);                    \\\u001b[0m\n",
      "         | \u001b[0;1;32m              ^\n",
      "   \u001b[0mIn file included from ptdalgorithms.cpp:46:\n",
      "   \u001b[1m./c/ptdalgorithms.c:3328:9: \u001b[0m\u001b[0;1;35mwarning: \u001b[0m\u001b[1mvariable 'ri' set but not used [-Wunused-but-set-variable]\u001b[0m\n",
      "    3328 |     int ri = 0;\u001b[0m\n",
      "         | \u001b[0;1;32m        ^\n",
      "   \u001b[0mIn file included from ptdalgorithms.cpp:42:\n",
      "   In file included from ./ptdalgorithms_types.h:10:\n",
      "   In file included from ./c/ptdalgorithms.h:1:\n",
      "   \u001b[1m./c/../../api/c/ptdalgorithms.h:391:15: \u001b[0m\u001b[0;1;35mwarning: \u001b[0m\u001b[1mtoken pasting of ',' and __VA_ARGS__ is a GNU extension [-Wgnu-zero-variadic-macro-arguments]\u001b[0m\n",
      "     391 |          error, ##__VA_ARGS__);                    \\\u001b[0m\n",
      "         | \u001b[0;1;32m              ^\n",
      "   \u001b[0mIn file included from ptdalgorithms.cpp:46:\n",
      "   \u001b[1m./c/ptdalgorithms.c:296:13: \u001b[0m\u001b[0;1;35mwarning: \u001b[0m\u001b[1m'static' function 'ptd_avl_node_destroy' declared in header file should be declared 'static inline' [-Wunneeded-internal-declaration]\u001b[0m\n",
      "     296 | static void ptd_avl_node_destroy(struct ptd_avl_node *vertex) {\u001b[0m\n",
      "         | \u001b[0;1;32m            ^~~~~~~~~~~~~~~~~~~~\n",
      "   \u001b[0m\u001b[1m./c/ptdalgorithms.c:307:13: \u001b[0m\u001b[0;1;35mwarning: \u001b[0m\u001b[1m'static' function 'avl_free' declared in header file should be declared 'static inline' [-Wunneeded-internal-declaration]\u001b[0m\n",
      "     307 | static void avl_free(struct ptd_avl_node *vertex) {\u001b[0m\n",
      "         | \u001b[0;1;32m            ^~~~~~~~\n",
      "   \u001b[0m\u001b[1m./c/ptdalgorithms.c:453:15: \u001b[0m\u001b[0;1;35mwarning: \u001b[0m\u001b[1m'static' function 'avl_vec_get_size' declared in header file should be declared 'static inline' [-Wunneeded-internal-declaration]\u001b[0m\n",
      "     453 | static size_t avl_vec_get_size(struct ptd_avl_node *vertex) {\u001b[0m\n",
      "         | \u001b[0;1;32m              ^~~~~~~~~~~~~~~~\n",
      "   \u001b[0mIn file included from ptdalgorithms.cpp:42:\n",
      "   In file included from ./ptdalgorithms_types.h:11:\n",
      "   In file included from ./cpp/ptdalgorithmscpp.h:1:\n",
      "   \u001b[1m./cpp/../../api/cpp/ptdalgorithmscpp.h:830:16: \u001b[0m\u001b[0;1;35mwarning: \u001b[0m\u001b[1mprivate field 'state_size' is not used [-Wunused-private-field]\u001b[0m\n",
      "     830 |         size_t state_size;\u001b[0m\n",
      "         | \u001b[0;1;32m               ^\n",
      "   \u001b[0m\u001b[1m./cpp/../../api/cpp/ptdalgorithmscpp.h:994:16: \u001b[0m\u001b[0;1;35mwarning: \u001b[0m\u001b[1mprivate field 'graph' is not used [-Wunused-private-field]\u001b[0m\n",
      "     994 |         Graph &graph;\u001b[0m\n",
      "         | \u001b[0;1;32m               ^\n",
      "   \u001b[0m\u001b[1m./cpp/../../api/cpp/ptdalgorithmscpp.h:1037:16: \u001b[0m\u001b[0;1;35mwarning: \u001b[0m\u001b[1mprivate field 'graph' is not used [-Wunused-private-field]\u001b[0m\n",
      "    1037 |         Graph &graph;\u001b[0m\n",
      "         | \u001b[0;1;32m               ^\n",
      "   \u001b[0m14 warnings generated.\n",
      "   arm64-apple-darwin20.0.0-clang++ -std=gnu++17 -dynamiclib -Wl,-headerpad_max_install_names -undefined dynamic_lookup -L/Users/kmt/miniconda3/envs/phasetype/lib/R/lib -Wl,-dead_strip_dylibs -Wl,-headerpad_max_install_names -Wl,-dead_strip_dylibs -Wl,-rpath,/Users/kmt/miniconda3/envs/phasetype/lib -L/Users/kmt/miniconda3/envs/phasetype/lib -o ptdalgorithms.so RcppExports.o ptdalgorithms.o -L/Users/kmt/miniconda3/envs/phasetype/lib/R/lib -lR -Wl,-framework -Wl,CoreFoundation\n",
      "   installing to /private/var/folders/s6/srs8qkh52w1_h32d65z95tth0000gn/T/Rtmp8iN6cY/devtools_install_a60c301506a3/00LOCK-PtDalgorithms/00new/ptdalgorithms/libs\n",
      "   ** checking absolute paths in shared objects and dynamic libraries\n",
      "\u001b[90m─\u001b[39m\u001b[90m  \u001b[39m\u001b[90mDONE (ptdalgorithms)\u001b[39m\u001b[36m\u001b[39m\n",
      "\r"
     ]
    }
   ],
   "source": [
    "library(devtools)\n",
    "\n",
    "#remove.packages(\"ptdalgorithms\")\n",
    "# #devtools::install_github(\"kaspermunch/PtDAlgorithms\")\n",
    "# devtools::install_local('../PtDAlgorithms', quiet=FALSE)\n",
    "#devtools::install_local()\n",
    "devtools::load_all(path=\"./\", quiet=FALSE, recompile=TRUE)\n",
    "\n",
    "library(ptdalgorithms)"
   ]
  },
  {
   "cell_type": "markdown",
   "id": "cce207ef-1da4-4b67-94d4-855eff9383a7",
   "metadata": {},
   "source": [
    "## Rebuild Rcpp interface"
   ]
  },
  {
   "cell_type": "code",
   "execution_count": 9,
   "id": "0d0dd83f-38f7-4b66-885b-4e354504fe59",
   "metadata": {
    "vscode": {
     "languageId": "r"
    }
   },
   "outputs": [],
   "source": [
    "Rcpp::compileAttributes() "
   ]
  },
  {
   "cell_type": "markdown",
   "id": "05104dbb-49c4-4ca3-aa9c-552361d3c883",
   "metadata": {},
   "source": [
    "## Generate documentation"
   ]
  },
  {
   "cell_type": "code",
   "execution_count": 10,
   "id": "21b5c7c0-af6d-4518-8b81-e539b03bf503",
   "metadata": {
    "vscode": {
     "languageId": "r"
    }
   },
   "outputs": [
    {
     "name": "stderr",
     "output_type": "stream",
     "text": [
      "Updating HTML index of packages in '.Library'\n",
      "\n",
      "Making 'packages.html' ...\n",
      " done\n",
      "\n"
     ]
    }
   ],
   "source": [
    "install.packages(\"roxygen2md\")"
   ]
  },
  {
   "cell_type": "code",
   "execution_count": 11,
   "id": "5792b789",
   "metadata": {
    "collapsed": true,
    "jupyter": {
     "outputs_hidden": true
    },
    "vscode": {
     "languageId": "r"
    }
   },
   "outputs": [
    {
     "name": "stderr",
     "output_type": "stream",
     "text": [
      "\u001b[1m\u001b[22m\u001b[36mℹ\u001b[39m Loading \u001b[34mptdalgorithms\u001b[39m\n"
     ]
    },
    {
     "name": "stdout",
     "output_type": "stream",
     "text": [
      "Exports from /Users/kmt/PtDalgorithms/src/ptdalgorithms.cpp:\n",
      "   SEXP create_graph(size_t state_length)\n",
      "   List find_or_create_vertex(SEXP phase_type_graph, IntegerVector state)\n",
      "   void add_edge(SEXP phase_type_vertex_from, SEXP phase_type_vertex_to, double weight, NumericVector parameterized_edge_state = NumericVector::create())\n",
      "   void graph_update_weights_parameterized(SEXP phase_type_graph, NumericVector scalars)\n",
      "   List vertices(SEXP phase_type_graph)\n",
      "   IntegerMatrix states(SEXP phase_type_graph)\n",
      "   int vertices_length(SEXP phase_type_graph)\n",
      "   List vertex_at(SEXP phase_type_graph, int index)\n",
      "   List starting_vertex(SEXP phase_type_graph)\n",
      "   List edges(SEXP phase_type_vertex)\n",
      "   SEXP create_vertex(SEXP phase_type_graph, IntegerVector state)\n",
      "   SEXP find_vertex(SEXP phase_type_graph, IntegerVector state)\n",
      "   List graph_as_matrix(SEXP phase_type_graph)\n",
      "   SEXP matrix_as_graph(NumericVector IPV, NumericMatrix SIM, Nullable <NumericMatrix> rewards = R_NilValue)\n",
      "   SEXP clone_graph(SEXP phase_type_graph)\n",
      "   List graph_as_dph_matrix(SEXP phase_type_graph)\n",
      "   SEXP expectation_dag(SEXP phase_type_graph, Nullable <NumericVector> rewards = R_NilValue)\n",
      "   SEXP reward_transform(SEXP phase_type_graph, NumericVector rewards)\n",
      "   SEXP dph_reward_transform(SEXP phase_type_graph, IntegerVector rewards)\n",
      "   NumericVector normalize_graph(SEXP phase_type_graph)\n",
      "   NumericVector normalize_dph_graph(SEXP phase_type_graph)\n",
      "   NumericVector expected_waiting_time(SEXP phase_type_graph, Nullable <NumericVector> rewards = R_NilValue)\n",
      "   NumericVector expected_residence_time(SEXP phase_type_graph, Nullable <NumericVector> rewards = R_NilValue)\n",
      "   NumericVector dph_expected_visits(SEXP phase_type_graph, Nullable <NumericVector> rewards = R_NilValue)\n",
      "   NumericVector moments(SEXP phase_type_graph, int power, Nullable <NumericVector> rewards = R_NilValue)\n",
      "   double expectation(SEXP phase_type_graph, Nullable <NumericVector> rewards = R_NilValue)\n",
      "   double variance(SEXP phase_type_graph, Nullable <NumericVector> rewards = R_NilValue)\n",
      "   double covariance(SEXP phase_type_graph, NumericVector rewards1, NumericVector rewards2)\n",
      "   double dph_expectation(SEXP phase_type_graph, Nullable <NumericVector> rewards = R_NilValue)\n",
      "   double dph_variance(SEXP phase_type_graph, Nullable <NumericVector> rewards = R_NilValue)\n",
      "   double dph_covariance(SEXP phase_type_graph, NumericVector rewards1, NumericVector rewards2)\n",
      "   bool is_graph_acyclic(SEXP phase_type_graph)\n",
      "   double defect(SEXP phase_type_graph)\n",
      "   NumericVector rph(int n, SEXP phase_type_graph, Nullable <NumericVector> rewards = R_NilValue)\n",
      "   NumericVector dph(NumericVector x, SEXP phase_type_graph, int granularity = 0)\n",
      "   NumericVector pph(NumericVector q, SEXP phase_type_graph, int granularity = 0)\n",
      "   NumericVector stop_probability(SEXP phase_type_graph, double time, int granularity = 0)\n",
      "   NumericVector accumulated_visiting_time(SEXP phase_type_graph, double time, int granularity = 0)\n",
      "   NumericMatrix rmph(int n, SEXP phase_type_graph, NumericMatrix rewards)\n",
      "   NumericVector random_sample_stop_vertex(int n, SEXP phase_type_graph, double time)\n",
      "   NumericVector rdph(int n, SEXP phase_type_graph, Nullable <NumericVector> rewards = R_NilValue)\n",
      "   NumericVector ddph(IntegerVector x, SEXP phase_type_graph)\n",
      "   NumericVector pdph(IntegerVector q, SEXP phase_type_graph)\n",
      "   NumericVector dph_stop_probability(SEXP phase_type_graph, int jumps)\n",
      "   NumericVector dph_accumulated_visits(SEXP phase_type_graph, int jumps)\n",
      "   NumericMatrix rmdph(int n, SEXP phase_type_graph, NumericMatrix rewards)\n",
      "   NumericVector dph_random_sample_stop_vertex(int n, SEXP phase_type_graph, int jumps)\n",
      "   SEXP distribution_context(SEXP phase_type_graph, int granularity = 0)\n",
      "   void distribution_context_step(SEXP probability_distribution_context)\n",
      "   List distribution_context_state(SEXP probability_distribution_context)\n",
      "   NumericVector distribution_context_stop_probability(SEXP probability_distribution_context)\n",
      "   NumericVector distribution_context_accumulated_visiting_time(SEXP probability_distribution_context)\n",
      "   SEXP dph_distribution_context(SEXP phase_type_graph)\n",
      "   void dph_distribution_context_step(SEXP probability_distribution_context)\n",
      "   List dph_distribution_context_state(SEXP probability_distribution_context)\n",
      "   NumericVector dph_distribution_context_stop_probability(SEXP probability_distribution_context)\n",
      "   NumericVector dph_distribution_context_accumulated_visits(SEXP probability_distribution_context)\n",
      "\n",
      "/Users/kmt/PtDalgorithms/src/RcppExports.cpp updated.\n",
      "/Users/kmt/PtDalgorithms/R/RcppExports.R updated.\n"
     ]
    },
    {
     "name": "stderr",
     "output_type": "stream",
     "text": [
      "\u001b[36mℹ\u001b[39m Re-compiling \u001b[34m\u001b[34mptdalgorithms\u001b[34m\u001b[39m (debug build)\n",
      "\n"
     ]
    },
    {
     "name": "stdout",
     "output_type": "stream",
     "text": [
      "\u001b[36m──\u001b[39m \u001b[36mR CMD INSTALL\u001b[39m \u001b[36m───────────────────────────────────────────────────────────────\u001b[39m\n",
      "* installing *source* package ‘ptdalgorithms’ ...\n",
      "** using staged installation\n",
      "** libs\n",
      "using C++ compiler: ‘clang version 18.1.8’\n",
      "using SDK: ‘MacOSX14.4.sdk’\n",
      "arm64-apple-darwin20.0.0-clang++ -std=gnu++17 -I\"/Users/kmt/miniconda3/envs/test/lib/R/include\" -DNDEBUG  -I'/Users/kmt/miniconda3/envs/test/lib/R/library/Rcpp/include' -D_FORTIFY_SOURCE=2 -isystem /Users/kmt/miniconda3/envs/test/include -mmacosx-version-min=11.0 -mmacosx-version-min=11.0 -I/Users/kmt/miniconda3/envs/test/include   -I../api/cpp -I../api/c -Ic/ -Icpp/ -fPIC  -ftree-vectorize -fPIC -fstack-protector-strong -O2 -pipe -stdlib=libc++ -fvisibility-inlines-hidden -fmessage-length=0 -isystem /Users/kmt/miniconda3/envs/test/include -fdebug-prefix-map=/Users/runner/miniforge3/conda-bld/r-base-split_1723488724675/work=/usr/local/src/conda/r-base-4.4.1 -fdebug-prefix-map=/Users/kmt/miniconda3/envs/test=/usr/local/src/conda-prefix  -UNDEBUG -Wall -pedantic -g -O0 -fdiagnostics-color=always  -c RcppExports.cpp -o RcppExports.o\n",
      "In file included from RcppExports.cpp:4:\n",
      "In file included from ./ptdalgorithms_types.h:10:\n",
      "In file included from ./c/ptdalgorithms.h:1:\n",
      "\u001b[1m./c/../../api/c/ptdalgorithms.h:208:22: \u001b[0m\u001b[0;1;35mwarning: \u001b[0m\u001b[1m'ptd_graph_expectation_dag' has C-linkage specified, but returns incomplete type 'struct ptd_clone_res' which could be incompatible with C [-Wreturn-type-c-linkage]\u001b[0m\n",
      "  208 | struct ptd_clone_res ptd_graph_expectation_dag(struct ptd_graph *graph, double *rewards);\u001b[0m\n",
      "      | \u001b[0;1;32m                     ^\n",
      "\u001b[0mIn file included from RcppExports.cpp:4:\n",
      "In file included from ./ptdalgorithms_types.h:11:\n",
      "In file included from ./cpp/ptdalgorithmscpp.h:1:\n",
      "\u001b[1m./cpp/../../api/cpp/ptdalgorithmscpp.h:337:15: \u001b[0m\u001b[0;1;31merror: \u001b[0m\u001b[1mclass member cannot be redeclared\u001b[0m\n",
      "  337 |         Graph expectation_dag(std::vector<double> rewards) {\u001b[0m\n",
      "      | \u001b[0;1;32m              ^\n",
      "\u001b[0m\u001b[1m./cpp/../../api/cpp/ptdalgorithmscpp.h:333:15: \u001b[0m\u001b[0;1;36mnote: \u001b[0mprevious declaration is here\u001b[0m\n",
      "  333 |         Graph expectation_dag(std::vector<double> rewards);\u001b[0m\n",
      "      | \u001b[0;1;32m              ^\n",
      "\u001b[0m\u001b[1m./cpp/../../api/cpp/ptdalgorithmscpp.h:814:16: \u001b[0m\u001b[0;1;35mwarning: \u001b[0m\u001b[1mclass 'ParameterizedEdge' was previously declared as a struct; this is valid, but may result in linker errors under the Microsoft C++ ABI [-Wmismatched-tags]\u001b[0m\n",
      "  814 |         friend class ParameterizedEdge;\u001b[0m\n",
      "      | \u001b[0;1;32m               ^\n",
      "\u001b[0m\u001b[1m./cpp/../../api/cpp/ptdalgorithmscpp.h:52:12: \u001b[0m\u001b[0;1;36mnote: \u001b[0mprevious use is here\u001b[0m\n",
      "   52 |     struct ParameterizedEdge;\u001b[0m\n",
      "      | \u001b[0;1;32m           ^\n",
      "\u001b[0m\u001b[1m./cpp/../../api/cpp/ptdalgorithmscpp.h:995:16: \u001b[0m\u001b[0;1;35mwarning: \u001b[0m\u001b[1mprivate field 'graph' is not used [-Wunused-private-field]\u001b[0m\n",
      "  995 |         Graph &graph;\u001b[0m\n",
      "      | \u001b[0;1;32m               ^\n",
      "\u001b[0m\u001b[1m./cpp/../../api/cpp/ptdalgorithmscpp.h:1038:16: \u001b[0m\u001b[0;1;35mwarning: \u001b[0m\u001b[1mprivate field 'graph' is not used [-Wunused-private-field]\u001b[0m\n",
      " 1038 |         Graph &graph;\u001b[0m\n",
      "      | \u001b[0;1;32m               ^\n",
      "\u001b[0m4 warnings and 1 error generated.\n",
      "make: *** [/Users/kmt/miniconda3/envs/test/lib/R/etc/Makeconf:204: RcppExports.o] Error 1\n",
      "ERROR: compilation failed for package ‘ptdalgorithms’\n",
      "* removing ‘/private/var/folders/s6/srs8qkh52w1_h32d65z95tth0000gn/T/RtmpA2J3Mt/devtools_install_12ef1b08f0d4/ptdalgorithms’\n"
     ]
    },
    {
     "ename": "ERROR",
     "evalue": "Error in c(\"(function (command = NULL, args = character(), error_on_status = TRUE, \", : \u001b[33m!\u001b[39m System command 'R' failed\n",
     "output_type": "error",
     "traceback": [
      "Error in c(\"(function (command = NULL, args = character(), error_on_status = TRUE, \", : \u001b[33m!\u001b[39m System command 'R' failed\nTraceback:\n",
      "1. roxygen2::roxygenize(roclets = \"rd\")",
      "2. load_code(base_path)",
      "3. pkgload::load_all(path, helpers = FALSE, attach_testthat = FALSE)",
      "4. pkgbuild::compile_dll(path, quiet = quiet)",
      "5. withr_with_makevars(compiler_flags(debug), {\n .     if (debug) {\n .         withr_with_envvar(c(DEBUG = \"true\"), build())\n .     }\n .     else {\n .         build()\n .     }\n . })",
      "6. withr_with_envvar(c(R_MAKEVARS_USER = makevars_file), {\n .     withr_set_makevars(new, path, makevars_file)\n .     force(code)\n . })",
      "7. force(code)",
      "8. force(code)",
      "9. withr_with_envvar(c(DEBUG = \"true\"), build())",
      "10. force(code)",
      "11. build()",
      "12. install_min(path, dest = install_dir, components = \"libs\", args = if (needs_clean(path)) \"--preclean\", \n  .     quiet = quiet)",
      "13. rcmd_build_tools(\"INSTALL\", c(path, paste(\"--library=\", dest, \n  .     sep = \"\"), no_args, \"--no-multiarch\", \"--no-test-load\", args), \n  .     fail_on_status = TRUE, quiet = quiet)",
      "14. with_build_tools({\n  .     withCallingHandlers(callr::rcmd_safe(..., env = env, spinner = FALSE, \n  .         show = FALSE, echo = FALSE, block_callback = callback, \n  .         stderr = \"2>&1\"), error = function(e) {\n  .         if (!quiet) \n  .             e$echo <- TRUE\n  .         asNamespace(\"callr\")$err$throw(e)\n  .     })\n  . }, required = required)",
      "15. withCallingHandlers(callr::rcmd_safe(..., env = env, spinner = FALSE, \n  .     show = FALSE, echo = FALSE, block_callback = callback, stderr = \"2>&1\"), \n  .     error = function(e) {\n  .         if (!quiet) \n  .             e$echo <- TRUE\n  .         asNamespace(\"callr\")$err$throw(e)\n  .     })",
      "16. callr::rcmd_safe(..., env = env, spinner = FALSE, show = FALSE, \n  .     echo = FALSE, block_callback = callback, stderr = \"2>&1\")",
      "17. run_r(options)",
      "18. with(options, with_envvar(env, do.call(processx::run, c(list(bin, \n  .     args = real_cmdargs, stdout_line_callback = real_callback(stdout), \n  .     stderr_line_callback = real_callback(stderr), stdout_callback = real_block_callback, \n  .     stderr_callback = real_block_callback, stderr_to_stdout = stderr_to_stdout, \n  .     echo_cmd = echo, echo = show, spinner = spinner, error_on_status = fail_on_status, \n  .     timeout = timeout), extra))))",
      "19. with.default(options, with_envvar(env, do.call(processx::run, \n  .     c(list(bin, args = real_cmdargs, stdout_line_callback = real_callback(stdout), \n  .         stderr_line_callback = real_callback(stderr), stdout_callback = real_block_callback, \n  .         stderr_callback = real_block_callback, stderr_to_stdout = stderr_to_stdout, \n  .         echo_cmd = echo, echo = show, spinner = spinner, error_on_status = fail_on_status, \n  .         timeout = timeout), extra))))",
      "20. eval(substitute(expr), data, enclos = parent.frame())",
      "21. eval(substitute(expr), data, enclos = parent.frame())",
      "22. with_envvar(env, do.call(processx::run, c(list(bin, args = real_cmdargs, \n  .     stdout_line_callback = real_callback(stdout), stderr_line_callback = real_callback(stderr), \n  .     stdout_callback = real_block_callback, stderr_callback = real_block_callback, \n  .     stderr_to_stdout = stderr_to_stdout, echo_cmd = echo, echo = show, \n  .     spinner = spinner, error_on_status = fail_on_status, timeout = timeout), \n  .     extra)))",
      "23. force(code)",
      "24. do.call(processx::run, c(list(bin, args = real_cmdargs, stdout_line_callback = real_callback(stdout), \n  .     stderr_line_callback = real_callback(stderr), stdout_callback = real_block_callback, \n  .     stderr_callback = real_block_callback, stderr_to_stdout = stderr_to_stdout, \n  .     echo_cmd = echo, echo = show, spinner = spinner, error_on_status = fail_on_status, \n  .     timeout = timeout), extra))",
      "25. (function (command = NULL, args = character(), error_on_status = TRUE, \n  .     wd = NULL, echo_cmd = FALSE, echo = FALSE, spinner = FALSE, \n  .     timeout = Inf, stdout = \"|\", stderr = \"|\", stdout_line_callback = NULL, \n  .     stdout_callback = NULL, stderr_line_callback = NULL, stderr_callback = NULL, \n  .     stderr_to_stdout = FALSE, env = NULL, windows_verbatim_args = FALSE, \n  .     windows_hide_window = FALSE, encoding = \"\", cleanup_tree = FALSE, \n  .     ...) \n  . {\n  .     assert_that(is_flag(error_on_status))\n  .     assert_that(is_time_interval(timeout))\n  .     assert_that(is_flag(spinner))\n  .     assert_that(is_string_or_null(stdout))\n  .     assert_that(is_string_or_null(stderr))\n  .     assert_that(is.null(stdout_line_callback) || is.function(stdout_line_callback))\n  .     assert_that(is.null(stderr_line_callback) || is.function(stderr_line_callback))\n  .     assert_that(is.null(stdout_callback) || is.function(stdout_callback))\n  .     assert_that(is.null(stderr_callback) || is.function(stderr_callback))\n  .     assert_that(is_flag(cleanup_tree))\n  .     assert_that(is_flag(stderr_to_stdout))\n  .     \"!DEBUG run() Checked arguments\"\n  .     if (!interactive()) \n  .         spinner <- FALSE\n  .     if (stderr_to_stdout) \n  .         stderr <- \"2>&1\"\n  .     pr <- process$new(command, args, echo_cmd = echo_cmd, wd = wd, \n  .         windows_verbatim_args = windows_verbatim_args, windows_hide_window = windows_hide_window, \n  .         stdout = stdout, stderr = stderr, env = env, encoding = encoding, \n  .         cleanup_tree = cleanup_tree, ...)\n  .     \"#!DEBUG run() Started the process: `pr$get_pid()`\"\n  .     if (cleanup_tree) {\n  .         on.exit(pr$kill_tree(), add = TRUE)\n  .     }\n  .     else {\n  .         on.exit(pr$kill(), add = TRUE)\n  .     }\n  .     if (echo) {\n  .         stdout_callback <- echo_callback(stdout_callback, \"stdout\")\n  .         stderr_callback <- echo_callback(stderr_callback, \"stderr\")\n  .     }\n  .     runcall <- sys.call()\n  .     resenv <- new.env(parent = emptyenv())\n  .     has_stdout <- !is.null(stdout) && stdout == \"|\"\n  .     has_stderr <- !is.null(stderr) && stderr == \"|\"\n  .     if (has_stdout) {\n  .         resenv$outbuf <- make_buffer()\n  .         on.exit(resenv$outbuf$done(), add = TRUE)\n  .     }\n  .     if (has_stderr) {\n  .         resenv$errbuf <- make_buffer()\n  .         on.exit(resenv$errbuf$done(), add = TRUE)\n  .     }\n  .     res <- tryCatch(run_manage(pr, timeout, spinner, stdout, \n  .         stderr, stdout_line_callback, stdout_callback, stderr_line_callback, \n  .         stderr_callback, resenv), interrupt = function(e) {\n  .         \"!DEBUG run() process `pr$get_pid()` killed on interrupt\"\n  .         out <- if (has_stdout) {\n  .             resenv$outbuf$push(pr$read_output())\n  .             resenv$outbuf$push(pr$read_output())\n  .             resenv$outbuf$read()\n  .         }\n  .         err <- if (has_stderr) {\n  .             resenv$errbuf$push(pr$read_error())\n  .             resenv$errbuf$push(pr$read_error())\n  .             resenv$errbuf$read()\n  .         }\n  .         tryCatch(pr$kill(), error = function(e) NULL)\n  .         signalCondition(new_process_interrupt_cond(list(interrupt = TRUE, \n  .             stderr = err, stdout = out, command = command, args = args), \n  .             runcall, echo = echo, stderr_to_stdout = stderr_to_stdout))\n  .         cat(\"\\n\")\n  .         invokeRestart(\"abort\")\n  .     })\n  .     if (error_on_status && (is.na(res$status) || res$status != \n  .         0)) {\n  .         \"!DEBUG run() error on status `res$status` for process `pr$get_pid()`\"\n  .         throw(new_process_error(res, call = sys.call(), echo = echo, \n  .             stderr_to_stdout, res$status, command = command, \n  .             args = args))\n  .     }\n  .     res\n  . })(\"/Users/kmt/miniconda3/envs/test/lib/R/bin/R\", args = c(\"CMD\", \n  . \"INSTALL\", \"/Users/kmt/PtDalgorithms\", \"--library=/var/folders/s6/srs8qkh52w1_h32d65z95tth0000gn/T//RtmpA2J3Mt/devtools_install_12ef1b08f0d4\", \n  . \"--no-R\", \"--no-data\", \"--no-help\", \"--no-demo\", \"--no-inst\", \n  . \"--no-docs\", \"--no-exec\", \"--no-multiarch\", \"--no-test-load\", \n  . \"--preclean\"), stdout_line_callback = function (x, proc) \n  . {\n  .     if (!is.null(stream)) \n  .         cat(x, file = stream, sep = \"\\n\", append = TRUE)\n  . }, stderr_line_callback = function (x, proc) \n  . {\n  .     if (!is.null(stream)) \n  .         cat(x, file = stream, sep = \"\\n\", append = TRUE)\n  . }, stdout_callback = function (x, proc) \n  . block_cb(x), stderr_callback = function (x, proc) \n  . block_cb(x), stderr_to_stdout = TRUE, echo_cmd = FALSE, echo = FALSE, \n  .     spinner = FALSE, error_on_status = TRUE, timeout = structure(Inf, class = \"difftime\", units = \"secs\"))",
      "26. throw(new_process_error(res, call = sys.call(), echo = echo, \n  .     stderr_to_stdout, res$status, command = command, args = args))",
      "27. signalCondition(cond)",
      "28. (function (e) \n  . {\n  .     if (!quiet) \n  .         e$echo <- TRUE\n  .     asNamespace(\"callr\")$err$throw(e)\n  . })(structure(list(message = \"System command 'R' failed\", call = c(\"(function (command = NULL, args = character(), error_on_status = TRUE, \", \n  . \"    wd = NULL, echo_cmd = FALSE, echo = FALSE, spinner = FALSE, \"\n  . ), srcref = NULL, stderr = \"* installing *source* package ‘ptdalgorithms’ ...\\n** using staged installation\\n** libs\\nusing C++ compiler: ‘clang version 18.1.8’\\nusing SDK: ‘MacOSX14.4.sdk’\\narm64-apple-darwin20.0.0-clang++ -std=gnu++17 -I\\\"/Users/kmt/miniconda3/envs/test/lib/R/include\\\" -DNDEBUG  -I'/Users/kmt/miniconda3/envs/test/lib/R/library/Rcpp/include' -D_FORTIFY_SOURCE=2 -isystem /Users/kmt/miniconda3/envs/test/include -mmacosx-version-min=11.0 -mmacosx-version-min=11.0 -I/Users/kmt/miniconda3/envs/test/include   -I../api/cpp -I../api/c -Ic/ -Icpp/ -fPIC  -ftree-vectorize -fPIC -fstack-protector-strong -O2 -pipe -stdlib=libc++ -fvisibility-inlines-hidden -fmessage-length=0 -isystem /Users/kmt/miniconda3/envs/test/include -fdebug-prefix-map=/Users/runner/miniforge3/conda-bld/r-base-split_1723488724675/work=/usr/local/src/conda/r-base-4.4.1 -fdebug-prefix-map=/Users/kmt/miniconda3/envs/test=/usr/local/src/conda-prefix  -UNDEBUG -Wall -pedantic -g -O0 -fdiagnostics-color=always  -c RcppExports.cpp -o RcppExports.o\\nIn file included from RcppExports.cpp:4:\\nIn file included from ./ptdalgorithms_types.h:10:\\nIn file included from ./c/ptdalgorithms.h:1:\\n\\033[1m./c/../../api/c/ptdalgorithms.h:208:22: \\033[0m\\033[0;1;35mwarning: \\033[0m\\033[1m'ptd_graph_expectation_dag' has C-linkage specified, but returns incomplete type 'struct ptd_clone_res' which could be incompatible with C [-Wreturn-type-c-linkage]\\033[0m\\n  208 | struct ptd_clone_res ptd_graph_expectation_dag(struct ptd_graph *graph, double *rewards);\\033[0m\\n      | \\033[0;1;32m                     ^\\n\\033[0mIn file included from RcppExports.cpp:4:\\nIn file included from ./ptdalgorithms_types.h:11:\\nIn file included from ./cpp/ptdalgorithmscpp.h:1:\\n\\033[1m./cpp/../../api/cpp/ptdalgorithmscpp.h:337:15: \\033[0m\\033[0;1;31merror: \\033[0m\\033[1mclass member cannot be redeclared\\033[0m\\n  337 |         Graph expectation_dag(std::vector<double> rewards) {\\033[0m\\n      | \\033[0;1;32m              ^\\n\\033[0m\\033[1m./cpp/../../api/cpp/ptdalgorithmscpp.h:333:15: \\033[0m\\033[0;1;36mnote: \\033[0mprevious declaration is here\\033[0m\\n  333 |         Graph expectation_dag(std::vector<double> rewards);\\033[0m\\n      | \\033[0;1;32m              ^\\n\\033[0m\\033[1m./cpp/../../api/cpp/ptdalgorithmscpp.h:814:16: \\033[0m\\033[0;1;35mwarning: \\033[0m\\033[1mclass 'ParameterizedEdge' was previously declared as a struct; this is valid, but may result in linker errors under the Microsoft C++ ABI [-Wmismatched-tags]\\033[0m\\n  814 |         friend class ParameterizedEdge;\\033[0m\\n      | \\033[0;1;32m               ^\\n\\033[0m\\033[1m./cpp/../../api/cpp/ptdalgorithmscpp.h:52:12: \\033[0m\\033[0;1;36mnote: \\033[0mprevious use is here\\033[0m\\n   52 |     struct ParameterizedEdge;\\033[0m\\n      | \\033[0;1;32m           ^\\n\\033[0m\\033[1m./cpp/../../api/cpp/ptdalgorithmscpp.h:995:16: \\033[0m\\033[0;1;35mwarning: \\033[0m\\033[1mprivate field 'graph' is not used [-Wunused-private-field]\\033[0m\\n  995 |         Graph &graph;\\033[0m\\n      | \\033[0;1;32m               ^\\n\\033[0m\\033[1m./cpp/../../api/cpp/ptdalgorithmscpp.h:1038:16: \\033[0m\\033[0;1;35mwarning: \\033[0m\\033[1mprivate field 'graph' is not used [-Wunused-private-field]\\033[0m\\n 1038 |         Graph &graph;\\033[0m\\n      | \\033[0;1;32m               ^\\n\\033[0m4 warnings and 1 error generated.\\nmake: *** [/Users/kmt/miniconda3/envs/test/lib/R/etc/Makeconf:204: RcppExports.o] Error 1\\nERROR: compilation failed for package ‘ptdalgorithms’\\n* removing ‘/private/var/folders/s6/srs8qkh52w1_h32d65z95tth0000gn/T/RtmpA2J3Mt/devtools_install_12ef1b08f0d4/ptdalgorithms’\\n\", \n  .     echo = FALSE, stderr_to_stdout = TRUE, status = 1L, procsrcref = NULL), class = c(\"system_command_status_error\", \n  . \"system_command_error\", \"rlib_error_3_0\", \"rlib_error\", \"error\", \n  . \"condition\")))",
      "29. asNamespace(\"callr\")$err$throw(e)"
     ]
    }
   ],
   "source": [
    "library(roxygen2)\n",
    "Rcpp::compileAttributes()           # this updates the Rcpp layer from C++ to R\n",
    "roxygen2::roxygenize(roclets=\"rd\")  # this updates the documentation based on roxygen comments"
   ]
  },
  {
   "cell_type": "code",
   "execution_count": 12,
   "id": "4846d3b9-b5ef-412e-b09e-6b1808fbd2fe",
   "metadata": {
    "collapsed": true,
    "jupyter": {
     "outputs_hidden": true
    },
    "vscode": {
     "languageId": "r"
    }
   },
   "outputs": [
    {
     "name": "stderr",
     "output_type": "stream",
     "text": [
      "\u001b[32m✔\u001b[39m Setting active project to \u001b[34m\"/Users/kmt/PtDalgorithms\"\u001b[39m.\n",
      "\n"
     ]
    },
    {
     "name": "stderr",
     "output_type": "stream",
     "text": [
      "\u001b[33mℹ\u001b[39m Running \u001b[90m`devtools::document()`\u001b[39m\n",
      "\u001b[1m\u001b[22m\u001b[36mℹ\u001b[39m Updating \u001b[34mptdalgorithms\u001b[39m documentation\n",
      "\u001b[1m\u001b[22m\u001b[36mℹ\u001b[39m Loading \u001b[34mptdalgorithms\u001b[39m\n"
     ]
    },
    {
     "name": "stdout",
     "output_type": "stream",
     "text": [
      "Exports from /Users/kmt/PtDalgorithms/src/ptdalgorithms.cpp:\n",
      "   SEXP create_graph(size_t state_length)\n",
      "   List find_or_create_vertex(SEXP phase_type_graph, IntegerVector state)\n",
      "   void add_edge(SEXP phase_type_vertex_from, SEXP phase_type_vertex_to, double weight, NumericVector parameterized_edge_state = NumericVector::create())\n",
      "   void graph_update_weights_parameterized(SEXP phase_type_graph, NumericVector scalars)\n",
      "   List vertices(SEXP phase_type_graph)\n",
      "   IntegerMatrix states(SEXP phase_type_graph)\n",
      "   int vertices_length(SEXP phase_type_graph)\n",
      "   List vertex_at(SEXP phase_type_graph, int index)\n",
      "   List starting_vertex(SEXP phase_type_graph)\n",
      "   List edges(SEXP phase_type_vertex)\n",
      "   SEXP create_vertex(SEXP phase_type_graph, IntegerVector state)\n",
      "   SEXP find_vertex(SEXP phase_type_graph, IntegerVector state)\n",
      "   List graph_as_matrix(SEXP phase_type_graph)\n",
      "   SEXP matrix_as_graph(NumericVector IPV, NumericMatrix SIM, Nullable <NumericMatrix> rewards = R_NilValue)\n",
      "   SEXP clone_graph(SEXP phase_type_graph)\n",
      "   List graph_as_dph_matrix(SEXP phase_type_graph)\n",
      "   SEXP expectation_dag(SEXP phase_type_graph, Nullable <NumericVector> rewards = R_NilValue)\n",
      "   SEXP reward_transform(SEXP phase_type_graph, NumericVector rewards)\n",
      "   SEXP dph_reward_transform(SEXP phase_type_graph, IntegerVector rewards)\n",
      "   NumericVector normalize_graph(SEXP phase_type_graph)\n",
      "   NumericVector normalize_dph_graph(SEXP phase_type_graph)\n",
      "   NumericVector expected_waiting_time(SEXP phase_type_graph, Nullable <NumericVector> rewards = R_NilValue)\n",
      "   NumericVector expected_residence_time(SEXP phase_type_graph, Nullable <NumericVector> rewards = R_NilValue)\n",
      "   NumericVector dph_expected_visits(SEXP phase_type_graph, Nullable <NumericVector> rewards = R_NilValue)\n",
      "   NumericVector moments(SEXP phase_type_graph, int power, Nullable <NumericVector> rewards = R_NilValue)\n",
      "   double expectation(SEXP phase_type_graph, Nullable <NumericVector> rewards = R_NilValue)\n",
      "   double variance(SEXP phase_type_graph, Nullable <NumericVector> rewards = R_NilValue)\n",
      "   double covariance(SEXP phase_type_graph, NumericVector rewards1, NumericVector rewards2)\n",
      "   double dph_expectation(SEXP phase_type_graph, Nullable <NumericVector> rewards = R_NilValue)\n",
      "   double dph_variance(SEXP phase_type_graph, Nullable <NumericVector> rewards = R_NilValue)\n",
      "   double dph_covariance(SEXP phase_type_graph, NumericVector rewards1, NumericVector rewards2)\n",
      "   bool is_graph_acyclic(SEXP phase_type_graph)\n",
      "   double defect(SEXP phase_type_graph)\n",
      "   NumericVector rph(int n, SEXP phase_type_graph, Nullable <NumericVector> rewards = R_NilValue)\n",
      "   NumericVector dph(NumericVector x, SEXP phase_type_graph, int granularity = 0)\n",
      "   NumericVector pph(NumericVector q, SEXP phase_type_graph, int granularity = 0)\n",
      "   NumericVector stop_probability(SEXP phase_type_graph, double time, int granularity = 0)\n",
      "   NumericVector accumulated_visiting_time(SEXP phase_type_graph, double time, int granularity = 0)\n",
      "   NumericMatrix rmph(int n, SEXP phase_type_graph, NumericMatrix rewards)\n",
      "   NumericVector random_sample_stop_vertex(int n, SEXP phase_type_graph, double time)\n",
      "   NumericVector rdph(int n, SEXP phase_type_graph, Nullable <NumericVector> rewards = R_NilValue)\n",
      "   NumericVector ddph(IntegerVector x, SEXP phase_type_graph)\n",
      "   NumericVector pdph(IntegerVector q, SEXP phase_type_graph)\n",
      "   NumericVector dph_stop_probability(SEXP phase_type_graph, int jumps)\n",
      "   NumericVector dph_accumulated_visits(SEXP phase_type_graph, int jumps)\n",
      "   NumericMatrix rmdph(int n, SEXP phase_type_graph, NumericMatrix rewards)\n",
      "   NumericVector dph_random_sample_stop_vertex(int n, SEXP phase_type_graph, int jumps)\n",
      "   SEXP distribution_context(SEXP phase_type_graph, int granularity = 0)\n",
      "   void distribution_context_step(SEXP probability_distribution_context)\n",
      "   List distribution_context_state(SEXP probability_distribution_context)\n",
      "   NumericVector distribution_context_stop_probability(SEXP probability_distribution_context)\n",
      "   NumericVector distribution_context_accumulated_visiting_time(SEXP probability_distribution_context)\n",
      "   SEXP dph_distribution_context(SEXP phase_type_graph)\n",
      "   void dph_distribution_context_step(SEXP probability_distribution_context)\n",
      "   List dph_distribution_context_state(SEXP probability_distribution_context)\n",
      "   NumericVector dph_distribution_context_stop_probability(SEXP probability_distribution_context)\n",
      "   NumericVector dph_distribution_context_accumulated_visits(SEXP probability_distribution_context)\n",
      "\n",
      "/Users/kmt/PtDalgorithms/src/RcppExports.cpp updated.\n",
      "/Users/kmt/PtDalgorithms/R/RcppExports.R updated.\n"
     ]
    },
    {
     "name": "stderr",
     "output_type": "stream",
     "text": [
      "\u001b[36mℹ\u001b[39m Re-compiling \u001b[34m\u001b[34mptdalgorithms\u001b[34m\u001b[39m (debug build)\n",
      "\n"
     ]
    },
    {
     "name": "stdout",
     "output_type": "stream",
     "text": [
      "\u001b[36m──\u001b[39m \u001b[36mR CMD INSTALL\u001b[39m \u001b[36m───────────────────────────────────────────────────────────────\u001b[39m\n",
      "* installing *source* package ‘ptdalgorithms’ ...\n",
      "** using staged installation\n",
      "** libs\n",
      "using C++ compiler: ‘clang version 18.1.8’\n",
      "using SDK: ‘MacOSX14.4.sdk’\n",
      "arm64-apple-darwin20.0.0-clang++ -std=gnu++17 -I\"/Users/kmt/miniconda3/envs/test/lib/R/include\" -DNDEBUG  -I'/Users/kmt/miniconda3/envs/test/lib/R/library/Rcpp/include' -D_FORTIFY_SOURCE=2 -isystem /Users/kmt/miniconda3/envs/test/include -mmacosx-version-min=11.0 -mmacosx-version-min=11.0 -I/Users/kmt/miniconda3/envs/test/include   -I../api/cpp -I../api/c -Ic/ -Icpp/ -fPIC  -ftree-vectorize -fPIC -fstack-protector-strong -O2 -pipe -stdlib=libc++ -fvisibility-inlines-hidden -fmessage-length=0 -isystem /Users/kmt/miniconda3/envs/test/include -fdebug-prefix-map=/Users/runner/miniforge3/conda-bld/r-base-split_1723488724675/work=/usr/local/src/conda/r-base-4.4.1 -fdebug-prefix-map=/Users/kmt/miniconda3/envs/test=/usr/local/src/conda-prefix  -UNDEBUG -Wall -pedantic -g -O0 -fdiagnostics-color=always  -c RcppExports.cpp -o RcppExports.o\n",
      "In file included from RcppExports.cpp:4:\n",
      "In file included from ./ptdalgorithms_types.h:10:\n",
      "In file included from ./c/ptdalgorithms.h:1:\n",
      "\u001b[1m./c/../../api/c/ptdalgorithms.h:208:22: \u001b[0m\u001b[0;1;35mwarning: \u001b[0m\u001b[1m'ptd_graph_expectation_dag' has C-linkage specified, but returns incomplete type 'struct ptd_clone_res' which could be incompatible with C [-Wreturn-type-c-linkage]\u001b[0m\n",
      "  208 | struct ptd_clone_res ptd_graph_expectation_dag(struct ptd_graph *graph, double *rewards);\u001b[0m\n",
      "      | \u001b[0;1;32m                     ^\n",
      "\u001b[0mIn file included from RcppExports.cpp:4:\n",
      "In file included from ./ptdalgorithms_types.h:11:\n",
      "In file included from ./cpp/ptdalgorithmscpp.h:1:\n",
      "\u001b[1m./cpp/../../api/cpp/ptdalgorithmscpp.h:337:15: \u001b[0m\u001b[0;1;31merror: \u001b[0m\u001b[1mclass member cannot be redeclared\u001b[0m\n",
      "  337 |         Graph expectation_dag(std::vector<double> rewards) {\u001b[0m\n",
      "      | \u001b[0;1;32m              ^\n",
      "\u001b[0m\u001b[1m./cpp/../../api/cpp/ptdalgorithmscpp.h:333:15: \u001b[0m\u001b[0;1;36mnote: \u001b[0mprevious declaration is here\u001b[0m\n",
      "  333 |         Graph expectation_dag(std::vector<double> rewards);\u001b[0m\n",
      "      | \u001b[0;1;32m              ^\n",
      "\u001b[0m\u001b[1m./cpp/../../api/cpp/ptdalgorithmscpp.h:814:16: \u001b[0m\u001b[0;1;35mwarning: \u001b[0m\u001b[1mclass 'ParameterizedEdge' was previously declared as a struct; this is valid, but may result in linker errors under the Microsoft C++ ABI [-Wmismatched-tags]\u001b[0m\n",
      "  814 |         friend class ParameterizedEdge;\u001b[0m\n",
      "      | \u001b[0;1;32m               ^\n",
      "\u001b[0m\u001b[1m./cpp/../../api/cpp/ptdalgorithmscpp.h:52:12: \u001b[0m\u001b[0;1;36mnote: \u001b[0mprevious use is here\u001b[0m\n",
      "   52 |     struct ParameterizedEdge;\u001b[0m\n",
      "      | \u001b[0;1;32m           ^\n",
      "\u001b[0m\u001b[1m./cpp/../../api/cpp/ptdalgorithmscpp.h:995:16: \u001b[0m\u001b[0;1;35mwarning: \u001b[0m\u001b[1mprivate field 'graph' is not used [-Wunused-private-field]\u001b[0m\n",
      "  995 |         Graph &graph;\u001b[0m\n",
      "      | \u001b[0;1;32m               ^\n",
      "\u001b[0m\u001b[1m./cpp/../../api/cpp/ptdalgorithmscpp.h:1038:16: \u001b[0m\u001b[0;1;35mwarning: \u001b[0m\u001b[1mprivate field 'graph' is not used [-Wunused-private-field]\u001b[0m\n",
      " 1038 |         Graph &graph;\u001b[0m\n",
      "      | \u001b[0;1;32m               ^\n",
      "\u001b[0m4 warnings and 1 error generated.\n",
      "make: *** [/Users/kmt/miniconda3/envs/test/lib/R/etc/Makeconf:204: RcppExports.o] Error 1\n",
      "ERROR: compilation failed for package ‘ptdalgorithms’\n",
      "* removing ‘/private/var/folders/s6/srs8qkh52w1_h32d65z95tth0000gn/T/RtmpA2J3Mt/devtools_install_12ef728a62ae/ptdalgorithms’\n"
     ]
    },
    {
     "ename": "ERROR",
     "evalue": "Error in c(\"(function (command = NULL, args = character(), error_on_status = TRUE, \", : \u001b[33m!\u001b[39m System command 'R' failed\n",
     "output_type": "error",
     "traceback": [
      "Error in c(\"(function (command = NULL, args = character(), error_on_status = TRUE, \", : \u001b[33m!\u001b[39m System command 'R' failed\nTraceback:\n",
      "1. roxygen2md::roxygen2md(scope = \"none\")",
      "2. with_project(code = roxygen2md_local(scope))",
      "3. force(code)",
      "4. roxygen2md_local(scope)",
      "5. transform_files(files, scope)",
      "6. devtools::document(proj_get())",
      "7. roxygen2::roxygenise(pkg$path, roclets)",
      "8. load_code(base_path)",
      "9. pkgload::load_all(path, helpers = FALSE, attach_testthat = FALSE)",
      "10. pkgbuild::compile_dll(path, quiet = quiet)",
      "11. withr_with_makevars(compiler_flags(debug), {\n  .     if (debug) {\n  .         withr_with_envvar(c(DEBUG = \"true\"), build())\n  .     }\n  .     else {\n  .         build()\n  .     }\n  . })",
      "12. withr_with_envvar(c(R_MAKEVARS_USER = makevars_file), {\n  .     withr_set_makevars(new, path, makevars_file)\n  .     force(code)\n  . })",
      "13. force(code)",
      "14. force(code)",
      "15. withr_with_envvar(c(DEBUG = \"true\"), build())",
      "16. force(code)",
      "17. build()",
      "18. install_min(path, dest = install_dir, components = \"libs\", args = if (needs_clean(path)) \"--preclean\", \n  .     quiet = quiet)",
      "19. rcmd_build_tools(\"INSTALL\", c(path, paste(\"--library=\", dest, \n  .     sep = \"\"), no_args, \"--no-multiarch\", \"--no-test-load\", args), \n  .     fail_on_status = TRUE, quiet = quiet)",
      "20. with_build_tools({\n  .     withCallingHandlers(callr::rcmd_safe(..., env = env, spinner = FALSE, \n  .         show = FALSE, echo = FALSE, block_callback = callback, \n  .         stderr = \"2>&1\"), error = function(e) {\n  .         if (!quiet) \n  .             e$echo <- TRUE\n  .         asNamespace(\"callr\")$err$throw(e)\n  .     })\n  . }, required = required)",
      "21. withCallingHandlers(callr::rcmd_safe(..., env = env, spinner = FALSE, \n  .     show = FALSE, echo = FALSE, block_callback = callback, stderr = \"2>&1\"), \n  .     error = function(e) {\n  .         if (!quiet) \n  .             e$echo <- TRUE\n  .         asNamespace(\"callr\")$err$throw(e)\n  .     })",
      "22. callr::rcmd_safe(..., env = env, spinner = FALSE, show = FALSE, \n  .     echo = FALSE, block_callback = callback, stderr = \"2>&1\")",
      "23. run_r(options)",
      "24. with(options, with_envvar(env, do.call(processx::run, c(list(bin, \n  .     args = real_cmdargs, stdout_line_callback = real_callback(stdout), \n  .     stderr_line_callback = real_callback(stderr), stdout_callback = real_block_callback, \n  .     stderr_callback = real_block_callback, stderr_to_stdout = stderr_to_stdout, \n  .     echo_cmd = echo, echo = show, spinner = spinner, error_on_status = fail_on_status, \n  .     timeout = timeout), extra))))",
      "25. with.default(options, with_envvar(env, do.call(processx::run, \n  .     c(list(bin, args = real_cmdargs, stdout_line_callback = real_callback(stdout), \n  .         stderr_line_callback = real_callback(stderr), stdout_callback = real_block_callback, \n  .         stderr_callback = real_block_callback, stderr_to_stdout = stderr_to_stdout, \n  .         echo_cmd = echo, echo = show, spinner = spinner, error_on_status = fail_on_status, \n  .         timeout = timeout), extra))))",
      "26. eval(substitute(expr), data, enclos = parent.frame())",
      "27. eval(substitute(expr), data, enclos = parent.frame())",
      "28. with_envvar(env, do.call(processx::run, c(list(bin, args = real_cmdargs, \n  .     stdout_line_callback = real_callback(stdout), stderr_line_callback = real_callback(stderr), \n  .     stdout_callback = real_block_callback, stderr_callback = real_block_callback, \n  .     stderr_to_stdout = stderr_to_stdout, echo_cmd = echo, echo = show, \n  .     spinner = spinner, error_on_status = fail_on_status, timeout = timeout), \n  .     extra)))",
      "29. force(code)",
      "30. do.call(processx::run, c(list(bin, args = real_cmdargs, stdout_line_callback = real_callback(stdout), \n  .     stderr_line_callback = real_callback(stderr), stdout_callback = real_block_callback, \n  .     stderr_callback = real_block_callback, stderr_to_stdout = stderr_to_stdout, \n  .     echo_cmd = echo, echo = show, spinner = spinner, error_on_status = fail_on_status, \n  .     timeout = timeout), extra))",
      "31. (function (command = NULL, args = character(), error_on_status = TRUE, \n  .     wd = NULL, echo_cmd = FALSE, echo = FALSE, spinner = FALSE, \n  .     timeout = Inf, stdout = \"|\", stderr = \"|\", stdout_line_callback = NULL, \n  .     stdout_callback = NULL, stderr_line_callback = NULL, stderr_callback = NULL, \n  .     stderr_to_stdout = FALSE, env = NULL, windows_verbatim_args = FALSE, \n  .     windows_hide_window = FALSE, encoding = \"\", cleanup_tree = FALSE, \n  .     ...) \n  . {\n  .     assert_that(is_flag(error_on_status))\n  .     assert_that(is_time_interval(timeout))\n  .     assert_that(is_flag(spinner))\n  .     assert_that(is_string_or_null(stdout))\n  .     assert_that(is_string_or_null(stderr))\n  .     assert_that(is.null(stdout_line_callback) || is.function(stdout_line_callback))\n  .     assert_that(is.null(stderr_line_callback) || is.function(stderr_line_callback))\n  .     assert_that(is.null(stdout_callback) || is.function(stdout_callback))\n  .     assert_that(is.null(stderr_callback) || is.function(stderr_callback))\n  .     assert_that(is_flag(cleanup_tree))\n  .     assert_that(is_flag(stderr_to_stdout))\n  .     \"!DEBUG run() Checked arguments\"\n  .     if (!interactive()) \n  .         spinner <- FALSE\n  .     if (stderr_to_stdout) \n  .         stderr <- \"2>&1\"\n  .     pr <- process$new(command, args, echo_cmd = echo_cmd, wd = wd, \n  .         windows_verbatim_args = windows_verbatim_args, windows_hide_window = windows_hide_window, \n  .         stdout = stdout, stderr = stderr, env = env, encoding = encoding, \n  .         cleanup_tree = cleanup_tree, ...)\n  .     \"#!DEBUG run() Started the process: `pr$get_pid()`\"\n  .     if (cleanup_tree) {\n  .         on.exit(pr$kill_tree(), add = TRUE)\n  .     }\n  .     else {\n  .         on.exit(pr$kill(), add = TRUE)\n  .     }\n  .     if (echo) {\n  .         stdout_callback <- echo_callback(stdout_callback, \"stdout\")\n  .         stderr_callback <- echo_callback(stderr_callback, \"stderr\")\n  .     }\n  .     runcall <- sys.call()\n  .     resenv <- new.env(parent = emptyenv())\n  .     has_stdout <- !is.null(stdout) && stdout == \"|\"\n  .     has_stderr <- !is.null(stderr) && stderr == \"|\"\n  .     if (has_stdout) {\n  .         resenv$outbuf <- make_buffer()\n  .         on.exit(resenv$outbuf$done(), add = TRUE)\n  .     }\n  .     if (has_stderr) {\n  .         resenv$errbuf <- make_buffer()\n  .         on.exit(resenv$errbuf$done(), add = TRUE)\n  .     }\n  .     res <- tryCatch(run_manage(pr, timeout, spinner, stdout, \n  .         stderr, stdout_line_callback, stdout_callback, stderr_line_callback, \n  .         stderr_callback, resenv), interrupt = function(e) {\n  .         \"!DEBUG run() process `pr$get_pid()` killed on interrupt\"\n  .         out <- if (has_stdout) {\n  .             resenv$outbuf$push(pr$read_output())\n  .             resenv$outbuf$push(pr$read_output())\n  .             resenv$outbuf$read()\n  .         }\n  .         err <- if (has_stderr) {\n  .             resenv$errbuf$push(pr$read_error())\n  .             resenv$errbuf$push(pr$read_error())\n  .             resenv$errbuf$read()\n  .         }\n  .         tryCatch(pr$kill(), error = function(e) NULL)\n  .         signalCondition(new_process_interrupt_cond(list(interrupt = TRUE, \n  .             stderr = err, stdout = out, command = command, args = args), \n  .             runcall, echo = echo, stderr_to_stdout = stderr_to_stdout))\n  .         cat(\"\\n\")\n  .         invokeRestart(\"abort\")\n  .     })\n  .     if (error_on_status && (is.na(res$status) || res$status != \n  .         0)) {\n  .         \"!DEBUG run() error on status `res$status` for process `pr$get_pid()`\"\n  .         throw(new_process_error(res, call = sys.call(), echo = echo, \n  .             stderr_to_stdout, res$status, command = command, \n  .             args = args))\n  .     }\n  .     res\n  . })(\"/Users/kmt/miniconda3/envs/test/lib/R/bin/R\", args = c(\"CMD\", \n  . \"INSTALL\", \"/Users/kmt/PtDalgorithms\", \"--library=/var/folders/s6/srs8qkh52w1_h32d65z95tth0000gn/T//RtmpA2J3Mt/devtools_install_12ef728a62ae\", \n  . \"--no-R\", \"--no-data\", \"--no-help\", \"--no-demo\", \"--no-inst\", \n  . \"--no-docs\", \"--no-exec\", \"--no-multiarch\", \"--no-test-load\", \n  . \"--preclean\"), stdout_line_callback = function (x, proc) \n  . {\n  .     if (!is.null(stream)) \n  .         cat(x, file = stream, sep = \"\\n\", append = TRUE)\n  . }, stderr_line_callback = function (x, proc) \n  . {\n  .     if (!is.null(stream)) \n  .         cat(x, file = stream, sep = \"\\n\", append = TRUE)\n  . }, stdout_callback = function (x, proc) \n  . block_cb(x), stderr_callback = function (x, proc) \n  . block_cb(x), stderr_to_stdout = TRUE, echo_cmd = FALSE, echo = FALSE, \n  .     spinner = FALSE, error_on_status = TRUE, timeout = structure(Inf, class = \"difftime\", units = \"secs\"))",
      "32. throw(new_process_error(res, call = sys.call(), echo = echo, \n  .     stderr_to_stdout, res$status, command = command, args = args))",
      "33. signalCondition(cond)",
      "34. (function (e) \n  . {\n  .     if (!quiet) \n  .         e$echo <- TRUE\n  .     asNamespace(\"callr\")$err$throw(e)\n  . })(structure(list(message = \"System command 'R' failed\", call = c(\"(function (command = NULL, args = character(), error_on_status = TRUE, \", \n  . \"    wd = NULL, echo_cmd = FALSE, echo = FALSE, spinner = FALSE, \"\n  . ), srcref = NULL, stderr = \"* installing *source* package ‘ptdalgorithms’ ...\\n** using staged installation\\n** libs\\nusing C++ compiler: ‘clang version 18.1.8’\\nusing SDK: ‘MacOSX14.4.sdk’\\narm64-apple-darwin20.0.0-clang++ -std=gnu++17 -I\\\"/Users/kmt/miniconda3/envs/test/lib/R/include\\\" -DNDEBUG  -I'/Users/kmt/miniconda3/envs/test/lib/R/library/Rcpp/include' -D_FORTIFY_SOURCE=2 -isystem /Users/kmt/miniconda3/envs/test/include -mmacosx-version-min=11.0 -mmacosx-version-min=11.0 -I/Users/kmt/miniconda3/envs/test/include   -I../api/cpp -I../api/c -Ic/ -Icpp/ -fPIC  -ftree-vectorize -fPIC -fstack-protector-strong -O2 -pipe -stdlib=libc++ -fvisibility-inlines-hidden -fmessage-length=0 -isystem /Users/kmt/miniconda3/envs/test/include -fdebug-prefix-map=/Users/runner/miniforge3/conda-bld/r-base-split_1723488724675/work=/usr/local/src/conda/r-base-4.4.1 -fdebug-prefix-map=/Users/kmt/miniconda3/envs/test=/usr/local/src/conda-prefix  -UNDEBUG -Wall -pedantic -g -O0 -fdiagnostics-color=always  -c RcppExports.cpp -o RcppExports.o\\nIn file included from RcppExports.cpp:4:\\nIn file included from ./ptdalgorithms_types.h:10:\\nIn file included from ./c/ptdalgorithms.h:1:\\n\\033[1m./c/../../api/c/ptdalgorithms.h:208:22: \\033[0m\\033[0;1;35mwarning: \\033[0m\\033[1m'ptd_graph_expectation_dag' has C-linkage specified, but returns incomplete type 'struct ptd_clone_res' which could be incompatible with C [-Wreturn-type-c-linkage]\\033[0m\\n  208 | struct ptd_clone_res ptd_graph_expectation_dag(struct ptd_graph *graph, double *rewards);\\033[0m\\n      | \\033[0;1;32m                     ^\\n\\033[0mIn file included from RcppExports.cpp:4:\\nIn file included from ./ptdalgorithms_types.h:11:\\nIn file included from ./cpp/ptdalgorithmscpp.h:1:\\n\\033[1m./cpp/../../api/cpp/ptdalgorithmscpp.h:337:15: \\033[0m\\033[0;1;31merror: \\033[0m\\033[1mclass member cannot be redeclared\\033[0m\\n  337 |         Graph expectation_dag(std::vector<double> rewards) {\\033[0m\\n      | \\033[0;1;32m              ^\\n\\033[0m\\033[1m./cpp/../../api/cpp/ptdalgorithmscpp.h:333:15: \\033[0m\\033[0;1;36mnote: \\033[0mprevious declaration is here\\033[0m\\n  333 |         Graph expectation_dag(std::vector<double> rewards);\\033[0m\\n      | \\033[0;1;32m              ^\\n\\033[0m\\033[1m./cpp/../../api/cpp/ptdalgorithmscpp.h:814:16: \\033[0m\\033[0;1;35mwarning: \\033[0m\\033[1mclass 'ParameterizedEdge' was previously declared as a struct; this is valid, but may result in linker errors under the Microsoft C++ ABI [-Wmismatched-tags]\\033[0m\\n  814 |         friend class ParameterizedEdge;\\033[0m\\n      | \\033[0;1;32m               ^\\n\\033[0m\\033[1m./cpp/../../api/cpp/ptdalgorithmscpp.h:52:12: \\033[0m\\033[0;1;36mnote: \\033[0mprevious use is here\\033[0m\\n   52 |     struct ParameterizedEdge;\\033[0m\\n      | \\033[0;1;32m           ^\\n\\033[0m\\033[1m./cpp/../../api/cpp/ptdalgorithmscpp.h:995:16: \\033[0m\\033[0;1;35mwarning: \\033[0m\\033[1mprivate field 'graph' is not used [-Wunused-private-field]\\033[0m\\n  995 |         Graph &graph;\\033[0m\\n      | \\033[0;1;32m               ^\\n\\033[0m\\033[1m./cpp/../../api/cpp/ptdalgorithmscpp.h:1038:16: \\033[0m\\033[0;1;35mwarning: \\033[0m\\033[1mprivate field 'graph' is not used [-Wunused-private-field]\\033[0m\\n 1038 |         Graph &graph;\\033[0m\\n      | \\033[0;1;32m               ^\\n\\033[0m4 warnings and 1 error generated.\\nmake: *** [/Users/kmt/miniconda3/envs/test/lib/R/etc/Makeconf:204: RcppExports.o] Error 1\\nERROR: compilation failed for package ‘ptdalgorithms’\\n* removing ‘/private/var/folders/s6/srs8qkh52w1_h32d65z95tth0000gn/T/RtmpA2J3Mt/devtools_install_12ef728a62ae/ptdalgorithms’\\n\", \n  .     echo = FALSE, stderr_to_stdout = TRUE, status = 1L, procsrcref = NULL), class = c(\"system_command_status_error\", \n  . \"system_command_error\", \"rlib_error_3_0\", \"rlib_error\", \"error\", \n  . \"condition\")))",
      "35. asNamespace(\"callr\")$err$throw(e)"
     ]
    },
    {
     "name": "stderr",
     "output_type": "stream",
     "text": [
      "\u001b[32m✔\u001b[39m Setting active project to \u001b[34m\"<no active project>\"\u001b[39m.\n",
      "\n"
     ]
    }
   ],
   "source": [
    "roxygen2md::roxygen2md(scope = \"none\")          # \"none\" only adds list(markdown = TRUE) to the Roxygen field in DESCRIPTION"
   ]
  },
  {
   "cell_type": "code",
   "execution_count": 13,
   "id": "459f4246-023f-482e-979f-711b4fe26cbf",
   "metadata": {
    "collapsed": true,
    "jupyter": {
     "outputs_hidden": true
    },
    "vscode": {
     "languageId": "r"
    }
   },
   "outputs": [
    {
     "name": "stderr",
     "output_type": "stream",
     "text": [
      "\u001b[32m✔\u001b[39m Setting active project to \u001b[34m\"/Users/kmt/PtDalgorithms\"\u001b[39m.\n",
      "\n"
     ]
    },
    {
     "name": "stderr",
     "output_type": "stream",
     "text": [
      "\u001b[33mℹ\u001b[39m Running \u001b[90m`devtools::document()`\u001b[39m\n",
      "\u001b[1m\u001b[22m\u001b[36mℹ\u001b[39m Updating \u001b[34mptdalgorithms\u001b[39m documentation\n",
      "\u001b[1m\u001b[22m\u001b[36mℹ\u001b[39m Loading \u001b[34mptdalgorithms\u001b[39m\n"
     ]
    },
    {
     "name": "stdout",
     "output_type": "stream",
     "text": [
      "Exports from /Users/kmt/PtDalgorithms/src/ptdalgorithms.cpp:\n",
      "   SEXP create_graph(size_t state_length)\n",
      "   List find_or_create_vertex(SEXP phase_type_graph, IntegerVector state)\n",
      "   void add_edge(SEXP phase_type_vertex_from, SEXP phase_type_vertex_to, double weight, NumericVector parameterized_edge_state = NumericVector::create())\n",
      "   void graph_update_weights_parameterized(SEXP phase_type_graph, NumericVector scalars)\n",
      "   List vertices(SEXP phase_type_graph)\n",
      "   IntegerMatrix states(SEXP phase_type_graph)\n",
      "   int vertices_length(SEXP phase_type_graph)\n",
      "   List vertex_at(SEXP phase_type_graph, int index)\n",
      "   List starting_vertex(SEXP phase_type_graph)\n",
      "   List edges(SEXP phase_type_vertex)\n",
      "   SEXP create_vertex(SEXP phase_type_graph, IntegerVector state)\n",
      "   SEXP find_vertex(SEXP phase_type_graph, IntegerVector state)\n",
      "   List graph_as_matrix(SEXP phase_type_graph)\n",
      "   SEXP matrix_as_graph(NumericVector IPV, NumericMatrix SIM, Nullable <NumericMatrix> rewards = R_NilValue)\n",
      "   SEXP clone_graph(SEXP phase_type_graph)\n",
      "   List graph_as_dph_matrix(SEXP phase_type_graph)\n",
      "   SEXP expectation_dag(SEXP phase_type_graph, Nullable <NumericVector> rewards = R_NilValue)\n",
      "   SEXP reward_transform(SEXP phase_type_graph, NumericVector rewards)\n",
      "   SEXP dph_reward_transform(SEXP phase_type_graph, IntegerVector rewards)\n",
      "   NumericVector normalize_graph(SEXP phase_type_graph)\n",
      "   NumericVector normalize_dph_graph(SEXP phase_type_graph)\n",
      "   NumericVector expected_waiting_time(SEXP phase_type_graph, Nullable <NumericVector> rewards = R_NilValue)\n",
      "   NumericVector expected_residence_time(SEXP phase_type_graph, Nullable <NumericVector> rewards = R_NilValue)\n",
      "   NumericVector dph_expected_visits(SEXP phase_type_graph, Nullable <NumericVector> rewards = R_NilValue)\n",
      "   NumericVector moments(SEXP phase_type_graph, int power, Nullable <NumericVector> rewards = R_NilValue)\n",
      "   double expectation(SEXP phase_type_graph, Nullable <NumericVector> rewards = R_NilValue)\n",
      "   double variance(SEXP phase_type_graph, Nullable <NumericVector> rewards = R_NilValue)\n",
      "   double covariance(SEXP phase_type_graph, NumericVector rewards1, NumericVector rewards2)\n",
      "   double dph_expectation(SEXP phase_type_graph, Nullable <NumericVector> rewards = R_NilValue)\n",
      "   double dph_variance(SEXP phase_type_graph, Nullable <NumericVector> rewards = R_NilValue)\n",
      "   double dph_covariance(SEXP phase_type_graph, NumericVector rewards1, NumericVector rewards2)\n",
      "   bool is_graph_acyclic(SEXP phase_type_graph)\n",
      "   double defect(SEXP phase_type_graph)\n",
      "   NumericVector rph(int n, SEXP phase_type_graph, Nullable <NumericVector> rewards = R_NilValue)\n",
      "   NumericVector dph(NumericVector x, SEXP phase_type_graph, int granularity = 0)\n",
      "   NumericVector pph(NumericVector q, SEXP phase_type_graph, int granularity = 0)\n",
      "   NumericVector stop_probability(SEXP phase_type_graph, double time, int granularity = 0)\n",
      "   NumericVector accumulated_visiting_time(SEXP phase_type_graph, double time, int granularity = 0)\n",
      "   NumericMatrix rmph(int n, SEXP phase_type_graph, NumericMatrix rewards)\n",
      "   NumericVector random_sample_stop_vertex(int n, SEXP phase_type_graph, double time)\n",
      "   NumericVector rdph(int n, SEXP phase_type_graph, Nullable <NumericVector> rewards = R_NilValue)\n",
      "   NumericVector ddph(IntegerVector x, SEXP phase_type_graph)\n",
      "   NumericVector pdph(IntegerVector q, SEXP phase_type_graph)\n",
      "   NumericVector dph_stop_probability(SEXP phase_type_graph, int jumps)\n",
      "   NumericVector dph_accumulated_visits(SEXP phase_type_graph, int jumps)\n",
      "   NumericMatrix rmdph(int n, SEXP phase_type_graph, NumericMatrix rewards)\n",
      "   NumericVector dph_random_sample_stop_vertex(int n, SEXP phase_type_graph, int jumps)\n",
      "   SEXP distribution_context(SEXP phase_type_graph, int granularity = 0)\n",
      "   void distribution_context_step(SEXP probability_distribution_context)\n",
      "   List distribution_context_state(SEXP probability_distribution_context)\n",
      "   NumericVector distribution_context_stop_probability(SEXP probability_distribution_context)\n",
      "   NumericVector distribution_context_accumulated_visiting_time(SEXP probability_distribution_context)\n",
      "   SEXP dph_distribution_context(SEXP phase_type_graph)\n",
      "   void dph_distribution_context_step(SEXP probability_distribution_context)\n",
      "   List dph_distribution_context_state(SEXP probability_distribution_context)\n",
      "   NumericVector dph_distribution_context_stop_probability(SEXP probability_distribution_context)\n",
      "   NumericVector dph_distribution_context_accumulated_visits(SEXP probability_distribution_context)\n",
      "\n",
      "/Users/kmt/PtDalgorithms/src/RcppExports.cpp updated.\n",
      "/Users/kmt/PtDalgorithms/R/RcppExports.R updated.\n"
     ]
    },
    {
     "name": "stderr",
     "output_type": "stream",
     "text": [
      "\u001b[36mℹ\u001b[39m Re-compiling \u001b[34m\u001b[34mptdalgorithms\u001b[34m\u001b[39m (debug build)\n",
      "\n"
     ]
    },
    {
     "name": "stdout",
     "output_type": "stream",
     "text": [
      "\u001b[36m──\u001b[39m \u001b[36mR CMD INSTALL\u001b[39m \u001b[36m───────────────────────────────────────────────────────────────\u001b[39m\n",
      "* installing *source* package ‘ptdalgorithms’ ...\n",
      "** using staged installation\n",
      "** libs\n",
      "using C++ compiler: ‘clang version 18.1.8’\n",
      "using SDK: ‘MacOSX14.4.sdk’\n",
      "arm64-apple-darwin20.0.0-clang++ -std=gnu++17 -I\"/Users/kmt/miniconda3/envs/test/lib/R/include\" -DNDEBUG  -I'/Users/kmt/miniconda3/envs/test/lib/R/library/Rcpp/include' -D_FORTIFY_SOURCE=2 -isystem /Users/kmt/miniconda3/envs/test/include -mmacosx-version-min=11.0 -mmacosx-version-min=11.0 -I/Users/kmt/miniconda3/envs/test/include   -I../api/cpp -I../api/c -Ic/ -Icpp/ -fPIC  -ftree-vectorize -fPIC -fstack-protector-strong -O2 -pipe -stdlib=libc++ -fvisibility-inlines-hidden -fmessage-length=0 -isystem /Users/kmt/miniconda3/envs/test/include -fdebug-prefix-map=/Users/runner/miniforge3/conda-bld/r-base-split_1723488724675/work=/usr/local/src/conda/r-base-4.4.1 -fdebug-prefix-map=/Users/kmt/miniconda3/envs/test=/usr/local/src/conda-prefix  -UNDEBUG -Wall -pedantic -g -O0 -fdiagnostics-color=always  -c RcppExports.cpp -o RcppExports.o\n",
      "In file included from RcppExports.cpp:4:\n",
      "In file included from ./ptdalgorithms_types.h:10:\n",
      "In file included from ./c/ptdalgorithms.h:1:\n",
      "\u001b[1m./c/../../api/c/ptdalgorithms.h:208:22: \u001b[0m\u001b[0;1;35mwarning: \u001b[0m\u001b[1m'ptd_graph_expectation_dag' has C-linkage specified, but returns incomplete type 'struct ptd_clone_res' which could be incompatible with C [-Wreturn-type-c-linkage]\u001b[0m\n",
      "  208 | struct ptd_clone_res ptd_graph_expectation_dag(struct ptd_graph *graph, double *rewards);\u001b[0m\n",
      "      | \u001b[0;1;32m                     ^\n",
      "\u001b[0mIn file included from RcppExports.cpp:4:\n",
      "In file included from ./ptdalgorithms_types.h:11:\n",
      "In file included from ./cpp/ptdalgorithmscpp.h:1:\n",
      "\u001b[1m./cpp/../../api/cpp/ptdalgorithmscpp.h:337:15: \u001b[0m\u001b[0;1;31merror: \u001b[0m\u001b[1mclass member cannot be redeclared\u001b[0m\n",
      "  337 |         Graph expectation_dag(std::vector<double> rewards) {\u001b[0m\n",
      "      | \u001b[0;1;32m              ^\n",
      "\u001b[0m\u001b[1m./cpp/../../api/cpp/ptdalgorithmscpp.h:333:15: \u001b[0m\u001b[0;1;36mnote: \u001b[0mprevious declaration is here\u001b[0m\n",
      "  333 |         Graph expectation_dag(std::vector<double> rewards);\u001b[0m\n",
      "      | \u001b[0;1;32m              ^\n",
      "\u001b[0m\u001b[1m./cpp/../../api/cpp/ptdalgorithmscpp.h:814:16: \u001b[0m\u001b[0;1;35mwarning: \u001b[0m\u001b[1mclass 'ParameterizedEdge' was previously declared as a struct; this is valid, but may result in linker errors under the Microsoft C++ ABI [-Wmismatched-tags]\u001b[0m\n",
      "  814 |         friend class ParameterizedEdge;\u001b[0m\n",
      "      | \u001b[0;1;32m               ^\n",
      "\u001b[0m\u001b[1m./cpp/../../api/cpp/ptdalgorithmscpp.h:52:12: \u001b[0m\u001b[0;1;36mnote: \u001b[0mprevious use is here\u001b[0m\n",
      "   52 |     struct ParameterizedEdge;\u001b[0m\n",
      "      | \u001b[0;1;32m           ^\n",
      "\u001b[0m\u001b[1m./cpp/../../api/cpp/ptdalgorithmscpp.h:995:16: \u001b[0m\u001b[0;1;35mwarning: \u001b[0m\u001b[1mprivate field 'graph' is not used [-Wunused-private-field]\u001b[0m\n",
      "  995 |         Graph &graph;\u001b[0m\n",
      "      | \u001b[0;1;32m               ^\n",
      "\u001b[0m\u001b[1m./cpp/../../api/cpp/ptdalgorithmscpp.h:1038:16: \u001b[0m\u001b[0;1;35mwarning: \u001b[0m\u001b[1mprivate field 'graph' is not used [-Wunused-private-field]\u001b[0m\n",
      " 1038 |         Graph &graph;\u001b[0m\n",
      "      | \u001b[0;1;32m               ^\n",
      "\u001b[0m4 warnings and 1 error generated.\n",
      "make: *** [/Users/kmt/miniconda3/envs/test/lib/R/etc/Makeconf:204: RcppExports.o] Error 1\n",
      "ERROR: compilation failed for package ‘ptdalgorithms’\n",
      "* removing ‘/private/var/folders/s6/srs8qkh52w1_h32d65z95tth0000gn/T/RtmpA2J3Mt/devtools_install_12ef6e493caa/ptdalgorithms’\n"
     ]
    },
    {
     "ename": "ERROR",
     "evalue": "Error in c(\"(function (command = NULL, args = character(), error_on_status = TRUE, \", : \u001b[33m!\u001b[39m System command 'R' failed\n",
     "output_type": "error",
     "traceback": [
      "Error in c(\"(function (command = NULL, args = character(), error_on_status = TRUE, \", : \u001b[33m!\u001b[39m System command 'R' failed\nTraceback:\n",
      "1. roxygen2md::roxygen2md(scope = \"simple\")",
      "2. with_project(code = roxygen2md_local(scope))",
      "3. force(code)",
      "4. roxygen2md_local(scope)",
      "5. transform_files(files, scope)",
      "6. devtools::document(proj_get())",
      "7. roxygen2::roxygenise(pkg$path, roclets)",
      "8. load_code(base_path)",
      "9. pkgload::load_all(path, helpers = FALSE, attach_testthat = FALSE)",
      "10. pkgbuild::compile_dll(path, quiet = quiet)",
      "11. withr_with_makevars(compiler_flags(debug), {\n  .     if (debug) {\n  .         withr_with_envvar(c(DEBUG = \"true\"), build())\n  .     }\n  .     else {\n  .         build()\n  .     }\n  . })",
      "12. withr_with_envvar(c(R_MAKEVARS_USER = makevars_file), {\n  .     withr_set_makevars(new, path, makevars_file)\n  .     force(code)\n  . })",
      "13. force(code)",
      "14. force(code)",
      "15. withr_with_envvar(c(DEBUG = \"true\"), build())",
      "16. force(code)",
      "17. build()",
      "18. install_min(path, dest = install_dir, components = \"libs\", args = if (needs_clean(path)) \"--preclean\", \n  .     quiet = quiet)",
      "19. rcmd_build_tools(\"INSTALL\", c(path, paste(\"--library=\", dest, \n  .     sep = \"\"), no_args, \"--no-multiarch\", \"--no-test-load\", args), \n  .     fail_on_status = TRUE, quiet = quiet)",
      "20. with_build_tools({\n  .     withCallingHandlers(callr::rcmd_safe(..., env = env, spinner = FALSE, \n  .         show = FALSE, echo = FALSE, block_callback = callback, \n  .         stderr = \"2>&1\"), error = function(e) {\n  .         if (!quiet) \n  .             e$echo <- TRUE\n  .         asNamespace(\"callr\")$err$throw(e)\n  .     })\n  . }, required = required)",
      "21. withCallingHandlers(callr::rcmd_safe(..., env = env, spinner = FALSE, \n  .     show = FALSE, echo = FALSE, block_callback = callback, stderr = \"2>&1\"), \n  .     error = function(e) {\n  .         if (!quiet) \n  .             e$echo <- TRUE\n  .         asNamespace(\"callr\")$err$throw(e)\n  .     })",
      "22. callr::rcmd_safe(..., env = env, spinner = FALSE, show = FALSE, \n  .     echo = FALSE, block_callback = callback, stderr = \"2>&1\")",
      "23. run_r(options)",
      "24. with(options, with_envvar(env, do.call(processx::run, c(list(bin, \n  .     args = real_cmdargs, stdout_line_callback = real_callback(stdout), \n  .     stderr_line_callback = real_callback(stderr), stdout_callback = real_block_callback, \n  .     stderr_callback = real_block_callback, stderr_to_stdout = stderr_to_stdout, \n  .     echo_cmd = echo, echo = show, spinner = spinner, error_on_status = fail_on_status, \n  .     timeout = timeout), extra))))",
      "25. with.default(options, with_envvar(env, do.call(processx::run, \n  .     c(list(bin, args = real_cmdargs, stdout_line_callback = real_callback(stdout), \n  .         stderr_line_callback = real_callback(stderr), stdout_callback = real_block_callback, \n  .         stderr_callback = real_block_callback, stderr_to_stdout = stderr_to_stdout, \n  .         echo_cmd = echo, echo = show, spinner = spinner, error_on_status = fail_on_status, \n  .         timeout = timeout), extra))))",
      "26. eval(substitute(expr), data, enclos = parent.frame())",
      "27. eval(substitute(expr), data, enclos = parent.frame())",
      "28. with_envvar(env, do.call(processx::run, c(list(bin, args = real_cmdargs, \n  .     stdout_line_callback = real_callback(stdout), stderr_line_callback = real_callback(stderr), \n  .     stdout_callback = real_block_callback, stderr_callback = real_block_callback, \n  .     stderr_to_stdout = stderr_to_stdout, echo_cmd = echo, echo = show, \n  .     spinner = spinner, error_on_status = fail_on_status, timeout = timeout), \n  .     extra)))",
      "29. force(code)",
      "30. do.call(processx::run, c(list(bin, args = real_cmdargs, stdout_line_callback = real_callback(stdout), \n  .     stderr_line_callback = real_callback(stderr), stdout_callback = real_block_callback, \n  .     stderr_callback = real_block_callback, stderr_to_stdout = stderr_to_stdout, \n  .     echo_cmd = echo, echo = show, spinner = spinner, error_on_status = fail_on_status, \n  .     timeout = timeout), extra))",
      "31. (function (command = NULL, args = character(), error_on_status = TRUE, \n  .     wd = NULL, echo_cmd = FALSE, echo = FALSE, spinner = FALSE, \n  .     timeout = Inf, stdout = \"|\", stderr = \"|\", stdout_line_callback = NULL, \n  .     stdout_callback = NULL, stderr_line_callback = NULL, stderr_callback = NULL, \n  .     stderr_to_stdout = FALSE, env = NULL, windows_verbatim_args = FALSE, \n  .     windows_hide_window = FALSE, encoding = \"\", cleanup_tree = FALSE, \n  .     ...) \n  . {\n  .     assert_that(is_flag(error_on_status))\n  .     assert_that(is_time_interval(timeout))\n  .     assert_that(is_flag(spinner))\n  .     assert_that(is_string_or_null(stdout))\n  .     assert_that(is_string_or_null(stderr))\n  .     assert_that(is.null(stdout_line_callback) || is.function(stdout_line_callback))\n  .     assert_that(is.null(stderr_line_callback) || is.function(stderr_line_callback))\n  .     assert_that(is.null(stdout_callback) || is.function(stdout_callback))\n  .     assert_that(is.null(stderr_callback) || is.function(stderr_callback))\n  .     assert_that(is_flag(cleanup_tree))\n  .     assert_that(is_flag(stderr_to_stdout))\n  .     \"!DEBUG run() Checked arguments\"\n  .     if (!interactive()) \n  .         spinner <- FALSE\n  .     if (stderr_to_stdout) \n  .         stderr <- \"2>&1\"\n  .     pr <- process$new(command, args, echo_cmd = echo_cmd, wd = wd, \n  .         windows_verbatim_args = windows_verbatim_args, windows_hide_window = windows_hide_window, \n  .         stdout = stdout, stderr = stderr, env = env, encoding = encoding, \n  .         cleanup_tree = cleanup_tree, ...)\n  .     \"#!DEBUG run() Started the process: `pr$get_pid()`\"\n  .     if (cleanup_tree) {\n  .         on.exit(pr$kill_tree(), add = TRUE)\n  .     }\n  .     else {\n  .         on.exit(pr$kill(), add = TRUE)\n  .     }\n  .     if (echo) {\n  .         stdout_callback <- echo_callback(stdout_callback, \"stdout\")\n  .         stderr_callback <- echo_callback(stderr_callback, \"stderr\")\n  .     }\n  .     runcall <- sys.call()\n  .     resenv <- new.env(parent = emptyenv())\n  .     has_stdout <- !is.null(stdout) && stdout == \"|\"\n  .     has_stderr <- !is.null(stderr) && stderr == \"|\"\n  .     if (has_stdout) {\n  .         resenv$outbuf <- make_buffer()\n  .         on.exit(resenv$outbuf$done(), add = TRUE)\n  .     }\n  .     if (has_stderr) {\n  .         resenv$errbuf <- make_buffer()\n  .         on.exit(resenv$errbuf$done(), add = TRUE)\n  .     }\n  .     res <- tryCatch(run_manage(pr, timeout, spinner, stdout, \n  .         stderr, stdout_line_callback, stdout_callback, stderr_line_callback, \n  .         stderr_callback, resenv), interrupt = function(e) {\n  .         \"!DEBUG run() process `pr$get_pid()` killed on interrupt\"\n  .         out <- if (has_stdout) {\n  .             resenv$outbuf$push(pr$read_output())\n  .             resenv$outbuf$push(pr$read_output())\n  .             resenv$outbuf$read()\n  .         }\n  .         err <- if (has_stderr) {\n  .             resenv$errbuf$push(pr$read_error())\n  .             resenv$errbuf$push(pr$read_error())\n  .             resenv$errbuf$read()\n  .         }\n  .         tryCatch(pr$kill(), error = function(e) NULL)\n  .         signalCondition(new_process_interrupt_cond(list(interrupt = TRUE, \n  .             stderr = err, stdout = out, command = command, args = args), \n  .             runcall, echo = echo, stderr_to_stdout = stderr_to_stdout))\n  .         cat(\"\\n\")\n  .         invokeRestart(\"abort\")\n  .     })\n  .     if (error_on_status && (is.na(res$status) || res$status != \n  .         0)) {\n  .         \"!DEBUG run() error on status `res$status` for process `pr$get_pid()`\"\n  .         throw(new_process_error(res, call = sys.call(), echo = echo, \n  .             stderr_to_stdout, res$status, command = command, \n  .             args = args))\n  .     }\n  .     res\n  . })(\"/Users/kmt/miniconda3/envs/test/lib/R/bin/R\", args = c(\"CMD\", \n  . \"INSTALL\", \"/Users/kmt/PtDalgorithms\", \"--library=/var/folders/s6/srs8qkh52w1_h32d65z95tth0000gn/T//RtmpA2J3Mt/devtools_install_12ef6e493caa\", \n  . \"--no-R\", \"--no-data\", \"--no-help\", \"--no-demo\", \"--no-inst\", \n  . \"--no-docs\", \"--no-exec\", \"--no-multiarch\", \"--no-test-load\", \n  . \"--preclean\"), stdout_line_callback = function (x, proc) \n  . {\n  .     if (!is.null(stream)) \n  .         cat(x, file = stream, sep = \"\\n\", append = TRUE)\n  . }, stderr_line_callback = function (x, proc) \n  . {\n  .     if (!is.null(stream)) \n  .         cat(x, file = stream, sep = \"\\n\", append = TRUE)\n  . }, stdout_callback = function (x, proc) \n  . block_cb(x), stderr_callback = function (x, proc) \n  . block_cb(x), stderr_to_stdout = TRUE, echo_cmd = FALSE, echo = FALSE, \n  .     spinner = FALSE, error_on_status = TRUE, timeout = structure(Inf, class = \"difftime\", units = \"secs\"))",
      "32. throw(new_process_error(res, call = sys.call(), echo = echo, \n  .     stderr_to_stdout, res$status, command = command, args = args))",
      "33. signalCondition(cond)",
      "34. (function (e) \n  . {\n  .     if (!quiet) \n  .         e$echo <- TRUE\n  .     asNamespace(\"callr\")$err$throw(e)\n  . })(structure(list(message = \"System command 'R' failed\", call = c(\"(function (command = NULL, args = character(), error_on_status = TRUE, \", \n  . \"    wd = NULL, echo_cmd = FALSE, echo = FALSE, spinner = FALSE, \"\n  . ), srcref = NULL, stderr = \"* installing *source* package ‘ptdalgorithms’ ...\\n** using staged installation\\n** libs\\nusing C++ compiler: ‘clang version 18.1.8’\\nusing SDK: ‘MacOSX14.4.sdk’\\narm64-apple-darwin20.0.0-clang++ -std=gnu++17 -I\\\"/Users/kmt/miniconda3/envs/test/lib/R/include\\\" -DNDEBUG  -I'/Users/kmt/miniconda3/envs/test/lib/R/library/Rcpp/include' -D_FORTIFY_SOURCE=2 -isystem /Users/kmt/miniconda3/envs/test/include -mmacosx-version-min=11.0 -mmacosx-version-min=11.0 -I/Users/kmt/miniconda3/envs/test/include   -I../api/cpp -I../api/c -Ic/ -Icpp/ -fPIC  -ftree-vectorize -fPIC -fstack-protector-strong -O2 -pipe -stdlib=libc++ -fvisibility-inlines-hidden -fmessage-length=0 -isystem /Users/kmt/miniconda3/envs/test/include -fdebug-prefix-map=/Users/runner/miniforge3/conda-bld/r-base-split_1723488724675/work=/usr/local/src/conda/r-base-4.4.1 -fdebug-prefix-map=/Users/kmt/miniconda3/envs/test=/usr/local/src/conda-prefix  -UNDEBUG -Wall -pedantic -g -O0 -fdiagnostics-color=always  -c RcppExports.cpp -o RcppExports.o\\nIn file included from RcppExports.cpp:4:\\nIn file included from ./ptdalgorithms_types.h:10:\\nIn file included from ./c/ptdalgorithms.h:1:\\n\\033[1m./c/../../api/c/ptdalgorithms.h:208:22: \\033[0m\\033[0;1;35mwarning: \\033[0m\\033[1m'ptd_graph_expectation_dag' has C-linkage specified, but returns incomplete type 'struct ptd_clone_res' which could be incompatible with C [-Wreturn-type-c-linkage]\\033[0m\\n  208 | struct ptd_clone_res ptd_graph_expectation_dag(struct ptd_graph *graph, double *rewards);\\033[0m\\n      | \\033[0;1;32m                     ^\\n\\033[0mIn file included from RcppExports.cpp:4:\\nIn file included from ./ptdalgorithms_types.h:11:\\nIn file included from ./cpp/ptdalgorithmscpp.h:1:\\n\\033[1m./cpp/../../api/cpp/ptdalgorithmscpp.h:337:15: \\033[0m\\033[0;1;31merror: \\033[0m\\033[1mclass member cannot be redeclared\\033[0m\\n  337 |         Graph expectation_dag(std::vector<double> rewards) {\\033[0m\\n      | \\033[0;1;32m              ^\\n\\033[0m\\033[1m./cpp/../../api/cpp/ptdalgorithmscpp.h:333:15: \\033[0m\\033[0;1;36mnote: \\033[0mprevious declaration is here\\033[0m\\n  333 |         Graph expectation_dag(std::vector<double> rewards);\\033[0m\\n      | \\033[0;1;32m              ^\\n\\033[0m\\033[1m./cpp/../../api/cpp/ptdalgorithmscpp.h:814:16: \\033[0m\\033[0;1;35mwarning: \\033[0m\\033[1mclass 'ParameterizedEdge' was previously declared as a struct; this is valid, but may result in linker errors under the Microsoft C++ ABI [-Wmismatched-tags]\\033[0m\\n  814 |         friend class ParameterizedEdge;\\033[0m\\n      | \\033[0;1;32m               ^\\n\\033[0m\\033[1m./cpp/../../api/cpp/ptdalgorithmscpp.h:52:12: \\033[0m\\033[0;1;36mnote: \\033[0mprevious use is here\\033[0m\\n   52 |     struct ParameterizedEdge;\\033[0m\\n      | \\033[0;1;32m           ^\\n\\033[0m\\033[1m./cpp/../../api/cpp/ptdalgorithmscpp.h:995:16: \\033[0m\\033[0;1;35mwarning: \\033[0m\\033[1mprivate field 'graph' is not used [-Wunused-private-field]\\033[0m\\n  995 |         Graph &graph;\\033[0m\\n      | \\033[0;1;32m               ^\\n\\033[0m\\033[1m./cpp/../../api/cpp/ptdalgorithmscpp.h:1038:16: \\033[0m\\033[0;1;35mwarning: \\033[0m\\033[1mprivate field 'graph' is not used [-Wunused-private-field]\\033[0m\\n 1038 |         Graph &graph;\\033[0m\\n      | \\033[0;1;32m               ^\\n\\033[0m4 warnings and 1 error generated.\\nmake: *** [/Users/kmt/miniconda3/envs/test/lib/R/etc/Makeconf:204: RcppExports.o] Error 1\\nERROR: compilation failed for package ‘ptdalgorithms’\\n* removing ‘/private/var/folders/s6/srs8qkh52w1_h32d65z95tth0000gn/T/RtmpA2J3Mt/devtools_install_12ef6e493caa/ptdalgorithms’\\n\", \n  .     echo = FALSE, stderr_to_stdout = TRUE, status = 1L, procsrcref = NULL), class = c(\"system_command_status_error\", \n  . \"system_command_error\", \"rlib_error_3_0\", \"rlib_error\", \"error\", \n  . \"condition\")))",
      "35. asNamespace(\"callr\")$err$throw(e)"
     ]
    },
    {
     "name": "stderr",
     "output_type": "stream",
     "text": [
      "\u001b[32m✔\u001b[39m Setting active project to \u001b[34m\"<no active project>\"\u001b[39m.\n",
      "\n"
     ]
    }
   ],
   "source": [
    "roxygen2md::roxygen2md(scope = \"simple\")        # \"simple\" only converts elements like \\code{} and \\emph{}"
   ]
  },
  {
   "cell_type": "code",
   "execution_count": 14,
   "id": "35486fd9-48b9-4590-9e04-84f327b09e91",
   "metadata": {
    "collapsed": true,
    "jupyter": {
     "outputs_hidden": true
    },
    "vscode": {
     "languageId": "r"
    }
   },
   "outputs": [
    {
     "name": "stderr",
     "output_type": "stream",
     "text": [
      "\u001b[32m✔\u001b[39m Setting active project to \u001b[34m\"/Users/kmt/PtDalgorithms\"\u001b[39m.\n",
      "\n",
      "\u001b[33mℹ\u001b[39m Running \u001b[90m`devtools::document()`\u001b[39m\n",
      "\u001b[1m\u001b[22m\u001b[36mℹ\u001b[39m Updating \u001b[34mptdalgorithms\u001b[39m documentation\n",
      "\u001b[1m\u001b[22m\u001b[36mℹ\u001b[39m Loading \u001b[34mptdalgorithms\u001b[39m\n"
     ]
    },
    {
     "name": "stdout",
     "output_type": "stream",
     "text": [
      "Exports from /Users/kmt/PtDalgorithms/src/ptdalgorithms.cpp:\n",
      "   SEXP create_graph(size_t state_length)\n",
      "   List find_or_create_vertex(SEXP phase_type_graph, IntegerVector state)\n",
      "   void add_edge(SEXP phase_type_vertex_from, SEXP phase_type_vertex_to, double weight, NumericVector parameterized_edge_state = NumericVector::create())\n",
      "   void graph_update_weights_parameterized(SEXP phase_type_graph, NumericVector scalars)\n",
      "   List vertices(SEXP phase_type_graph)\n",
      "   IntegerMatrix states(SEXP phase_type_graph)\n",
      "   int vertices_length(SEXP phase_type_graph)\n",
      "   List vertex_at(SEXP phase_type_graph, int index)\n",
      "   List starting_vertex(SEXP phase_type_graph)\n",
      "   List edges(SEXP phase_type_vertex)\n",
      "   SEXP create_vertex(SEXP phase_type_graph, IntegerVector state)\n",
      "   SEXP find_vertex(SEXP phase_type_graph, IntegerVector state)\n",
      "   List graph_as_matrix(SEXP phase_type_graph)\n",
      "   SEXP matrix_as_graph(NumericVector IPV, NumericMatrix SIM, Nullable <NumericMatrix> rewards = R_NilValue)\n",
      "   SEXP clone_graph(SEXP phase_type_graph)\n",
      "   List graph_as_dph_matrix(SEXP phase_type_graph)\n",
      "   SEXP expectation_dag(SEXP phase_type_graph, Nullable <NumericVector> rewards = R_NilValue)\n",
      "   SEXP reward_transform(SEXP phase_type_graph, NumericVector rewards)\n",
      "   SEXP dph_reward_transform(SEXP phase_type_graph, IntegerVector rewards)\n",
      "   NumericVector normalize_graph(SEXP phase_type_graph)\n",
      "   NumericVector normalize_dph_graph(SEXP phase_type_graph)\n",
      "   NumericVector expected_waiting_time(SEXP phase_type_graph, Nullable <NumericVector> rewards = R_NilValue)\n",
      "   NumericVector expected_residence_time(SEXP phase_type_graph, Nullable <NumericVector> rewards = R_NilValue)\n",
      "   NumericVector dph_expected_visits(SEXP phase_type_graph, Nullable <NumericVector> rewards = R_NilValue)\n",
      "   NumericVector moments(SEXP phase_type_graph, int power, Nullable <NumericVector> rewards = R_NilValue)\n",
      "   double expectation(SEXP phase_type_graph, Nullable <NumericVector> rewards = R_NilValue)\n",
      "   double variance(SEXP phase_type_graph, Nullable <NumericVector> rewards = R_NilValue)\n",
      "   double covariance(SEXP phase_type_graph, NumericVector rewards1, NumericVector rewards2)\n",
      "   double dph_expectation(SEXP phase_type_graph, Nullable <NumericVector> rewards = R_NilValue)\n",
      "   double dph_variance(SEXP phase_type_graph, Nullable <NumericVector> rewards = R_NilValue)\n",
      "   double dph_covariance(SEXP phase_type_graph, NumericVector rewards1, NumericVector rewards2)\n",
      "   bool is_graph_acyclic(SEXP phase_type_graph)\n",
      "   double defect(SEXP phase_type_graph)\n",
      "   NumericVector rph(int n, SEXP phase_type_graph, Nullable <NumericVector> rewards = R_NilValue)\n",
      "   NumericVector dph(NumericVector x, SEXP phase_type_graph, int granularity = 0)\n",
      "   NumericVector pph(NumericVector q, SEXP phase_type_graph, int granularity = 0)\n",
      "   NumericVector stop_probability(SEXP phase_type_graph, double time, int granularity = 0)\n",
      "   NumericVector accumulated_visiting_time(SEXP phase_type_graph, double time, int granularity = 0)\n",
      "   NumericMatrix rmph(int n, SEXP phase_type_graph, NumericMatrix rewards)\n",
      "   NumericVector random_sample_stop_vertex(int n, SEXP phase_type_graph, double time)\n",
      "   NumericVector rdph(int n, SEXP phase_type_graph, Nullable <NumericVector> rewards = R_NilValue)\n",
      "   NumericVector ddph(IntegerVector x, SEXP phase_type_graph)\n",
      "   NumericVector pdph(IntegerVector q, SEXP phase_type_graph)\n",
      "   NumericVector dph_stop_probability(SEXP phase_type_graph, int jumps)\n",
      "   NumericVector dph_accumulated_visits(SEXP phase_type_graph, int jumps)\n",
      "   NumericMatrix rmdph(int n, SEXP phase_type_graph, NumericMatrix rewards)\n",
      "   NumericVector dph_random_sample_stop_vertex(int n, SEXP phase_type_graph, int jumps)\n",
      "   SEXP distribution_context(SEXP phase_type_graph, int granularity = 0)\n",
      "   void distribution_context_step(SEXP probability_distribution_context)\n",
      "   List distribution_context_state(SEXP probability_distribution_context)\n",
      "   NumericVector distribution_context_stop_probability(SEXP probability_distribution_context)\n",
      "   NumericVector distribution_context_accumulated_visiting_time(SEXP probability_distribution_context)\n",
      "   SEXP dph_distribution_context(SEXP phase_type_graph)\n",
      "   void dph_distribution_context_step(SEXP probability_distribution_context)\n",
      "   List dph_distribution_context_state(SEXP probability_distribution_context)\n",
      "   NumericVector dph_distribution_context_stop_probability(SEXP probability_distribution_context)\n",
      "   NumericVector dph_distribution_context_accumulated_visits(SEXP probability_distribution_context)\n",
      "\n",
      "/Users/kmt/PtDalgorithms/src/RcppExports.cpp updated.\n",
      "/Users/kmt/PtDalgorithms/R/RcppExports.R updated.\n"
     ]
    },
    {
     "name": "stderr",
     "output_type": "stream",
     "text": [
      "\u001b[36mℹ\u001b[39m Re-compiling \u001b[34m\u001b[34mptdalgorithms\u001b[34m\u001b[39m (debug build)\n",
      "\n"
     ]
    },
    {
     "name": "stdout",
     "output_type": "stream",
     "text": [
      "\u001b[36m──\u001b[39m \u001b[36mR CMD INSTALL\u001b[39m \u001b[36m───────────────────────────────────────────────────────────────\u001b[39m\n",
      "* installing *source* package ‘ptdalgorithms’ ...\n",
      "** using staged installation\n",
      "** libs\n",
      "using C++ compiler: ‘clang version 18.1.8’\n",
      "using SDK: ‘MacOSX14.4.sdk’\n",
      "arm64-apple-darwin20.0.0-clang++ -std=gnu++17 -I\"/Users/kmt/miniconda3/envs/test/lib/R/include\" -DNDEBUG  -I'/Users/kmt/miniconda3/envs/test/lib/R/library/Rcpp/include' -D_FORTIFY_SOURCE=2 -isystem /Users/kmt/miniconda3/envs/test/include -mmacosx-version-min=11.0 -mmacosx-version-min=11.0 -I/Users/kmt/miniconda3/envs/test/include   -I../api/cpp -I../api/c -Ic/ -Icpp/ -fPIC  -ftree-vectorize -fPIC -fstack-protector-strong -O2 -pipe -stdlib=libc++ -fvisibility-inlines-hidden -fmessage-length=0 -isystem /Users/kmt/miniconda3/envs/test/include -fdebug-prefix-map=/Users/runner/miniforge3/conda-bld/r-base-split_1723488724675/work=/usr/local/src/conda/r-base-4.4.1 -fdebug-prefix-map=/Users/kmt/miniconda3/envs/test=/usr/local/src/conda-prefix  -UNDEBUG -Wall -pedantic -g -O0 -fdiagnostics-color=always  -c RcppExports.cpp -o RcppExports.o\n",
      "In file included from RcppExports.cpp:4:\n",
      "In file included from ./ptdalgorithms_types.h:10:\n",
      "In file included from ./c/ptdalgorithms.h:1:\n",
      "\u001b[1m./c/../../api/c/ptdalgorithms.h:208:22: \u001b[0m\u001b[0;1;35mwarning: \u001b[0m\u001b[1m'ptd_graph_expectation_dag' has C-linkage specified, but returns incomplete type 'struct ptd_clone_res' which could be incompatible with C [-Wreturn-type-c-linkage]\u001b[0m\n",
      "  208 | struct ptd_clone_res ptd_graph_expectation_dag(struct ptd_graph *graph, double *rewards);\u001b[0m\n",
      "      | \u001b[0;1;32m                     ^\n",
      "\u001b[0mIn file included from RcppExports.cpp:4:\n",
      "In file included from ./ptdalgorithms_types.h:11:\n",
      "In file included from ./cpp/ptdalgorithmscpp.h:1:\n",
      "\u001b[1m./cpp/../../api/cpp/ptdalgorithmscpp.h:337:15: \u001b[0m\u001b[0;1;31merror: \u001b[0m\u001b[1mclass member cannot be redeclared\u001b[0m\n",
      "  337 |         Graph expectation_dag(std::vector<double> rewards) {\u001b[0m\n",
      "      | \u001b[0;1;32m              ^\n",
      "\u001b[0m\u001b[1m./cpp/../../api/cpp/ptdalgorithmscpp.h:333:15: \u001b[0m\u001b[0;1;36mnote: \u001b[0mprevious declaration is here\u001b[0m\n",
      "  333 |         Graph expectation_dag(std::vector<double> rewards);\u001b[0m\n",
      "      | \u001b[0;1;32m              ^\n",
      "\u001b[0m\u001b[1m./cpp/../../api/cpp/ptdalgorithmscpp.h:814:16: \u001b[0m\u001b[0;1;35mwarning: \u001b[0m\u001b[1mclass 'ParameterizedEdge' was previously declared as a struct; this is valid, but may result in linker errors under the Microsoft C++ ABI [-Wmismatched-tags]\u001b[0m\n",
      "  814 |         friend class ParameterizedEdge;\u001b[0m\n",
      "      | \u001b[0;1;32m               ^\n",
      "\u001b[0m\u001b[1m./cpp/../../api/cpp/ptdalgorithmscpp.h:52:12: \u001b[0m\u001b[0;1;36mnote: \u001b[0mprevious use is here\u001b[0m\n",
      "   52 |     struct ParameterizedEdge;\u001b[0m\n",
      "      | \u001b[0;1;32m           ^\n",
      "\u001b[0m\u001b[1m./cpp/../../api/cpp/ptdalgorithmscpp.h:995:16: \u001b[0m\u001b[0;1;35mwarning: \u001b[0m\u001b[1mprivate field 'graph' is not used [-Wunused-private-field]\u001b[0m\n",
      "  995 |         Graph &graph;\u001b[0m\n",
      "      | \u001b[0;1;32m               ^\n",
      "\u001b[0m\u001b[1m./cpp/../../api/cpp/ptdalgorithmscpp.h:1038:16: \u001b[0m\u001b[0;1;35mwarning: \u001b[0m\u001b[1mprivate field 'graph' is not used [-Wunused-private-field]\u001b[0m\n",
      " 1038 |         Graph &graph;\u001b[0m\n",
      "      | \u001b[0;1;32m               ^\n",
      "\u001b[0m4 warnings and 1 error generated.\n",
      "make: *** [/Users/kmt/miniconda3/envs/test/lib/R/etc/Makeconf:204: RcppExports.o] Error 1\n",
      "ERROR: compilation failed for package ‘ptdalgorithms’\n",
      "* removing ‘/private/var/folders/s6/srs8qkh52w1_h32d65z95tth0000gn/T/RtmpA2J3Mt/devtools_install_12ef5df3b437/ptdalgorithms’\n"
     ]
    },
    {
     "ename": "ERROR",
     "evalue": "Error in c(\"(function (command = NULL, args = character(), error_on_status = TRUE, \", : \u001b[33m!\u001b[39m System command 'R' failed\n",
     "output_type": "error",
     "traceback": [
      "Error in c(\"(function (command = NULL, args = character(), error_on_status = TRUE, \", : \u001b[33m!\u001b[39m System command 'R' failed\nTraceback:\n",
      "1. roxygen2md::roxygen2md(scope = \"full\")",
      "2. with_project(code = roxygen2md_local(scope))",
      "3. force(code)",
      "4. roxygen2md_local(scope)",
      "5. transform_files(files, scope)",
      "6. devtools::document(proj_get())",
      "7. roxygen2::roxygenise(pkg$path, roclets)",
      "8. load_code(base_path)",
      "9. pkgload::load_all(path, helpers = FALSE, attach_testthat = FALSE)",
      "10. pkgbuild::compile_dll(path, quiet = quiet)",
      "11. withr_with_makevars(compiler_flags(debug), {\n  .     if (debug) {\n  .         withr_with_envvar(c(DEBUG = \"true\"), build())\n  .     }\n  .     else {\n  .         build()\n  .     }\n  . })",
      "12. withr_with_envvar(c(R_MAKEVARS_USER = makevars_file), {\n  .     withr_set_makevars(new, path, makevars_file)\n  .     force(code)\n  . })",
      "13. force(code)",
      "14. force(code)",
      "15. withr_with_envvar(c(DEBUG = \"true\"), build())",
      "16. force(code)",
      "17. build()",
      "18. install_min(path, dest = install_dir, components = \"libs\", args = if (needs_clean(path)) \"--preclean\", \n  .     quiet = quiet)",
      "19. rcmd_build_tools(\"INSTALL\", c(path, paste(\"--library=\", dest, \n  .     sep = \"\"), no_args, \"--no-multiarch\", \"--no-test-load\", args), \n  .     fail_on_status = TRUE, quiet = quiet)",
      "20. with_build_tools({\n  .     withCallingHandlers(callr::rcmd_safe(..., env = env, spinner = FALSE, \n  .         show = FALSE, echo = FALSE, block_callback = callback, \n  .         stderr = \"2>&1\"), error = function(e) {\n  .         if (!quiet) \n  .             e$echo <- TRUE\n  .         asNamespace(\"callr\")$err$throw(e)\n  .     })\n  . }, required = required)",
      "21. withCallingHandlers(callr::rcmd_safe(..., env = env, spinner = FALSE, \n  .     show = FALSE, echo = FALSE, block_callback = callback, stderr = \"2>&1\"), \n  .     error = function(e) {\n  .         if (!quiet) \n  .             e$echo <- TRUE\n  .         asNamespace(\"callr\")$err$throw(e)\n  .     })",
      "22. callr::rcmd_safe(..., env = env, spinner = FALSE, show = FALSE, \n  .     echo = FALSE, block_callback = callback, stderr = \"2>&1\")",
      "23. run_r(options)",
      "24. with(options, with_envvar(env, do.call(processx::run, c(list(bin, \n  .     args = real_cmdargs, stdout_line_callback = real_callback(stdout), \n  .     stderr_line_callback = real_callback(stderr), stdout_callback = real_block_callback, \n  .     stderr_callback = real_block_callback, stderr_to_stdout = stderr_to_stdout, \n  .     echo_cmd = echo, echo = show, spinner = spinner, error_on_status = fail_on_status, \n  .     timeout = timeout), extra))))",
      "25. with.default(options, with_envvar(env, do.call(processx::run, \n  .     c(list(bin, args = real_cmdargs, stdout_line_callback = real_callback(stdout), \n  .         stderr_line_callback = real_callback(stderr), stdout_callback = real_block_callback, \n  .         stderr_callback = real_block_callback, stderr_to_stdout = stderr_to_stdout, \n  .         echo_cmd = echo, echo = show, spinner = spinner, error_on_status = fail_on_status, \n  .         timeout = timeout), extra))))",
      "26. eval(substitute(expr), data, enclos = parent.frame())",
      "27. eval(substitute(expr), data, enclos = parent.frame())",
      "28. with_envvar(env, do.call(processx::run, c(list(bin, args = real_cmdargs, \n  .     stdout_line_callback = real_callback(stdout), stderr_line_callback = real_callback(stderr), \n  .     stdout_callback = real_block_callback, stderr_callback = real_block_callback, \n  .     stderr_to_stdout = stderr_to_stdout, echo_cmd = echo, echo = show, \n  .     spinner = spinner, error_on_status = fail_on_status, timeout = timeout), \n  .     extra)))",
      "29. force(code)",
      "30. do.call(processx::run, c(list(bin, args = real_cmdargs, stdout_line_callback = real_callback(stdout), \n  .     stderr_line_callback = real_callback(stderr), stdout_callback = real_block_callback, \n  .     stderr_callback = real_block_callback, stderr_to_stdout = stderr_to_stdout, \n  .     echo_cmd = echo, echo = show, spinner = spinner, error_on_status = fail_on_status, \n  .     timeout = timeout), extra))",
      "31. (function (command = NULL, args = character(), error_on_status = TRUE, \n  .     wd = NULL, echo_cmd = FALSE, echo = FALSE, spinner = FALSE, \n  .     timeout = Inf, stdout = \"|\", stderr = \"|\", stdout_line_callback = NULL, \n  .     stdout_callback = NULL, stderr_line_callback = NULL, stderr_callback = NULL, \n  .     stderr_to_stdout = FALSE, env = NULL, windows_verbatim_args = FALSE, \n  .     windows_hide_window = FALSE, encoding = \"\", cleanup_tree = FALSE, \n  .     ...) \n  . {\n  .     assert_that(is_flag(error_on_status))\n  .     assert_that(is_time_interval(timeout))\n  .     assert_that(is_flag(spinner))\n  .     assert_that(is_string_or_null(stdout))\n  .     assert_that(is_string_or_null(stderr))\n  .     assert_that(is.null(stdout_line_callback) || is.function(stdout_line_callback))\n  .     assert_that(is.null(stderr_line_callback) || is.function(stderr_line_callback))\n  .     assert_that(is.null(stdout_callback) || is.function(stdout_callback))\n  .     assert_that(is.null(stderr_callback) || is.function(stderr_callback))\n  .     assert_that(is_flag(cleanup_tree))\n  .     assert_that(is_flag(stderr_to_stdout))\n  .     \"!DEBUG run() Checked arguments\"\n  .     if (!interactive()) \n  .         spinner <- FALSE\n  .     if (stderr_to_stdout) \n  .         stderr <- \"2>&1\"\n  .     pr <- process$new(command, args, echo_cmd = echo_cmd, wd = wd, \n  .         windows_verbatim_args = windows_verbatim_args, windows_hide_window = windows_hide_window, \n  .         stdout = stdout, stderr = stderr, env = env, encoding = encoding, \n  .         cleanup_tree = cleanup_tree, ...)\n  .     \"#!DEBUG run() Started the process: `pr$get_pid()`\"\n  .     if (cleanup_tree) {\n  .         on.exit(pr$kill_tree(), add = TRUE)\n  .     }\n  .     else {\n  .         on.exit(pr$kill(), add = TRUE)\n  .     }\n  .     if (echo) {\n  .         stdout_callback <- echo_callback(stdout_callback, \"stdout\")\n  .         stderr_callback <- echo_callback(stderr_callback, \"stderr\")\n  .     }\n  .     runcall <- sys.call()\n  .     resenv <- new.env(parent = emptyenv())\n  .     has_stdout <- !is.null(stdout) && stdout == \"|\"\n  .     has_stderr <- !is.null(stderr) && stderr == \"|\"\n  .     if (has_stdout) {\n  .         resenv$outbuf <- make_buffer()\n  .         on.exit(resenv$outbuf$done(), add = TRUE)\n  .     }\n  .     if (has_stderr) {\n  .         resenv$errbuf <- make_buffer()\n  .         on.exit(resenv$errbuf$done(), add = TRUE)\n  .     }\n  .     res <- tryCatch(run_manage(pr, timeout, spinner, stdout, \n  .         stderr, stdout_line_callback, stdout_callback, stderr_line_callback, \n  .         stderr_callback, resenv), interrupt = function(e) {\n  .         \"!DEBUG run() process `pr$get_pid()` killed on interrupt\"\n  .         out <- if (has_stdout) {\n  .             resenv$outbuf$push(pr$read_output())\n  .             resenv$outbuf$push(pr$read_output())\n  .             resenv$outbuf$read()\n  .         }\n  .         err <- if (has_stderr) {\n  .             resenv$errbuf$push(pr$read_error())\n  .             resenv$errbuf$push(pr$read_error())\n  .             resenv$errbuf$read()\n  .         }\n  .         tryCatch(pr$kill(), error = function(e) NULL)\n  .         signalCondition(new_process_interrupt_cond(list(interrupt = TRUE, \n  .             stderr = err, stdout = out, command = command, args = args), \n  .             runcall, echo = echo, stderr_to_stdout = stderr_to_stdout))\n  .         cat(\"\\n\")\n  .         invokeRestart(\"abort\")\n  .     })\n  .     if (error_on_status && (is.na(res$status) || res$status != \n  .         0)) {\n  .         \"!DEBUG run() error on status `res$status` for process `pr$get_pid()`\"\n  .         throw(new_process_error(res, call = sys.call(), echo = echo, \n  .             stderr_to_stdout, res$status, command = command, \n  .             args = args))\n  .     }\n  .     res\n  . })(\"/Users/kmt/miniconda3/envs/test/lib/R/bin/R\", args = c(\"CMD\", \n  . \"INSTALL\", \"/Users/kmt/PtDalgorithms\", \"--library=/var/folders/s6/srs8qkh52w1_h32d65z95tth0000gn/T//RtmpA2J3Mt/devtools_install_12ef5df3b437\", \n  . \"--no-R\", \"--no-data\", \"--no-help\", \"--no-demo\", \"--no-inst\", \n  . \"--no-docs\", \"--no-exec\", \"--no-multiarch\", \"--no-test-load\", \n  . \"--preclean\"), stdout_line_callback = function (x, proc) \n  . {\n  .     if (!is.null(stream)) \n  .         cat(x, file = stream, sep = \"\\n\", append = TRUE)\n  . }, stderr_line_callback = function (x, proc) \n  . {\n  .     if (!is.null(stream)) \n  .         cat(x, file = stream, sep = \"\\n\", append = TRUE)\n  . }, stdout_callback = function (x, proc) \n  . block_cb(x), stderr_callback = function (x, proc) \n  . block_cb(x), stderr_to_stdout = TRUE, echo_cmd = FALSE, echo = FALSE, \n  .     spinner = FALSE, error_on_status = TRUE, timeout = structure(Inf, class = \"difftime\", units = \"secs\"))",
      "32. throw(new_process_error(res, call = sys.call(), echo = echo, \n  .     stderr_to_stdout, res$status, command = command, args = args))",
      "33. signalCondition(cond)",
      "34. (function (e) \n  . {\n  .     if (!quiet) \n  .         e$echo <- TRUE\n  .     asNamespace(\"callr\")$err$throw(e)\n  . })(structure(list(message = \"System command 'R' failed\", call = c(\"(function (command = NULL, args = character(), error_on_status = TRUE, \", \n  . \"    wd = NULL, echo_cmd = FALSE, echo = FALSE, spinner = FALSE, \"\n  . ), srcref = NULL, stderr = \"* installing *source* package ‘ptdalgorithms’ ...\\n** using staged installation\\n** libs\\nusing C++ compiler: ‘clang version 18.1.8’\\nusing SDK: ‘MacOSX14.4.sdk’\\narm64-apple-darwin20.0.0-clang++ -std=gnu++17 -I\\\"/Users/kmt/miniconda3/envs/test/lib/R/include\\\" -DNDEBUG  -I'/Users/kmt/miniconda3/envs/test/lib/R/library/Rcpp/include' -D_FORTIFY_SOURCE=2 -isystem /Users/kmt/miniconda3/envs/test/include -mmacosx-version-min=11.0 -mmacosx-version-min=11.0 -I/Users/kmt/miniconda3/envs/test/include   -I../api/cpp -I../api/c -Ic/ -Icpp/ -fPIC  -ftree-vectorize -fPIC -fstack-protector-strong -O2 -pipe -stdlib=libc++ -fvisibility-inlines-hidden -fmessage-length=0 -isystem /Users/kmt/miniconda3/envs/test/include -fdebug-prefix-map=/Users/runner/miniforge3/conda-bld/r-base-split_1723488724675/work=/usr/local/src/conda/r-base-4.4.1 -fdebug-prefix-map=/Users/kmt/miniconda3/envs/test=/usr/local/src/conda-prefix  -UNDEBUG -Wall -pedantic -g -O0 -fdiagnostics-color=always  -c RcppExports.cpp -o RcppExports.o\\nIn file included from RcppExports.cpp:4:\\nIn file included from ./ptdalgorithms_types.h:10:\\nIn file included from ./c/ptdalgorithms.h:1:\\n\\033[1m./c/../../api/c/ptdalgorithms.h:208:22: \\033[0m\\033[0;1;35mwarning: \\033[0m\\033[1m'ptd_graph_expectation_dag' has C-linkage specified, but returns incomplete type 'struct ptd_clone_res' which could be incompatible with C [-Wreturn-type-c-linkage]\\033[0m\\n  208 | struct ptd_clone_res ptd_graph_expectation_dag(struct ptd_graph *graph, double *rewards);\\033[0m\\n      | \\033[0;1;32m                     ^\\n\\033[0mIn file included from RcppExports.cpp:4:\\nIn file included from ./ptdalgorithms_types.h:11:\\nIn file included from ./cpp/ptdalgorithmscpp.h:1:\\n\\033[1m./cpp/../../api/cpp/ptdalgorithmscpp.h:337:15: \\033[0m\\033[0;1;31merror: \\033[0m\\033[1mclass member cannot be redeclared\\033[0m\\n  337 |         Graph expectation_dag(std::vector<double> rewards) {\\033[0m\\n      | \\033[0;1;32m              ^\\n\\033[0m\\033[1m./cpp/../../api/cpp/ptdalgorithmscpp.h:333:15: \\033[0m\\033[0;1;36mnote: \\033[0mprevious declaration is here\\033[0m\\n  333 |         Graph expectation_dag(std::vector<double> rewards);\\033[0m\\n      | \\033[0;1;32m              ^\\n\\033[0m\\033[1m./cpp/../../api/cpp/ptdalgorithmscpp.h:814:16: \\033[0m\\033[0;1;35mwarning: \\033[0m\\033[1mclass 'ParameterizedEdge' was previously declared as a struct; this is valid, but may result in linker errors under the Microsoft C++ ABI [-Wmismatched-tags]\\033[0m\\n  814 |         friend class ParameterizedEdge;\\033[0m\\n      | \\033[0;1;32m               ^\\n\\033[0m\\033[1m./cpp/../../api/cpp/ptdalgorithmscpp.h:52:12: \\033[0m\\033[0;1;36mnote: \\033[0mprevious use is here\\033[0m\\n   52 |     struct ParameterizedEdge;\\033[0m\\n      | \\033[0;1;32m           ^\\n\\033[0m\\033[1m./cpp/../../api/cpp/ptdalgorithmscpp.h:995:16: \\033[0m\\033[0;1;35mwarning: \\033[0m\\033[1mprivate field 'graph' is not used [-Wunused-private-field]\\033[0m\\n  995 |         Graph &graph;\\033[0m\\n      | \\033[0;1;32m               ^\\n\\033[0m\\033[1m./cpp/../../api/cpp/ptdalgorithmscpp.h:1038:16: \\033[0m\\033[0;1;35mwarning: \\033[0m\\033[1mprivate field 'graph' is not used [-Wunused-private-field]\\033[0m\\n 1038 |         Graph &graph;\\033[0m\\n      | \\033[0;1;32m               ^\\n\\033[0m4 warnings and 1 error generated.\\nmake: *** [/Users/kmt/miniconda3/envs/test/lib/R/etc/Makeconf:204: RcppExports.o] Error 1\\nERROR: compilation failed for package ‘ptdalgorithms’\\n* removing ‘/private/var/folders/s6/srs8qkh52w1_h32d65z95tth0000gn/T/RtmpA2J3Mt/devtools_install_12ef5df3b437/ptdalgorithms’\\n\", \n  .     echo = FALSE, stderr_to_stdout = TRUE, status = 1L, procsrcref = NULL), class = c(\"system_command_status_error\", \n  . \"system_command_error\", \"rlib_error_3_0\", \"rlib_error\", \"error\", \n  . \"condition\")))",
      "35. asNamespace(\"callr\")$err$throw(e)"
     ]
    },
    {
     "name": "stderr",
     "output_type": "stream",
     "text": [
      "\u001b[32m✔\u001b[39m Setting active project to \u001b[34m\"<no active project>\"\u001b[39m.\n",
      "\n"
     ]
    }
   ],
   "source": [
    "roxygen2md::roxygen2md(scope = \"full\")          # \"full\" runs all conversions"
   ]
  },
  {
   "cell_type": "markdown",
   "id": "bda3bae2-1451-4521-8e72-94ea04182170",
   "metadata": {
    "vscode": {
     "languageId": "r"
    }
   },
   "source": [
    "## Testing expected residence time"
   ]
  },
  {
   "cell_type": "code",
   "execution_count": 10,
   "id": "bfce48f0-53dd-4ad5-ac41-df71bf7d5966",
   "metadata": {
    "vscode": {
     "languageId": "r"
    }
   },
   "outputs": [],
   "source": [
    "source(\"./utils/plotting.R\")\n",
    "\n",
    "theme_set(theme_bw())\n",
    "despine <- theme(panel.border = element_blank(), panel.grid.major = element_blank(),\n",
    "panel.grid.minor = element_blank(), axis.line = element_line(colour = \"black\"),\n",
    "                # text=element_text(family=\"Arial\")\n",
    "                )"
   ]
  },
  {
   "cell_type": "code",
   "execution_count": 11,
   "id": "4ff54e88-a3fc-4587-a062-792b18315a6a",
   "metadata": {
    "vscode": {
     "languageId": "r"
    }
   },
   "outputs": [],
   "source": [
    "standard_coalescent <- function(n, size, graph=NULL, edge_trans=NULL, epoque=0) {\n",
    "\n",
    "    state_vector_length <- n + 1\n",
    "\n",
    "    if (is.null(graph)) {\n",
    "    \n",
    "        graph <- create_graph(state_vector_length)\n",
    "        starting_vertex <- vertex_at(graph, 1)\n",
    "        initial_state <- c(rep(0, n), epoque)\n",
    "        initial_state[1] <- n\n",
    "        \n",
    "        add_edge(\n",
    "          starting_vertex,\n",
    "          create_vertex(graph, initial_state),\n",
    "          1\n",
    "        )\n",
    "        index <- 2\n",
    "        \n",
    "    } else {\n",
    "        nr_states <- vertices_length(graph)\n",
    "        for (i in 2:(nr_states-1)) {\n",
    "            if (is.nan(edge_trans[i-1])) {\n",
    "                next;\n",
    "            }\n",
    "            vertex <- vertex_at(graph, i)\n",
    "            state <- vertex$state\n",
    "            sister_state <- state\n",
    "            sister_state[length(sister_state)] <- epoque\n",
    "            add_edge(\n",
    "              vertex,\n",
    "              find_or_create_vertex(graph, sister_state),\n",
    "              edge_trans[i-1], c(edge_trans[i-1]) # -1 becuase first index is 2 and first element of edge_trans is 1\n",
    "            )\n",
    "        }\n",
    "        index <- nr_states + 1\n",
    "    }\n",
    "\n",
    "    while (index <= vertices_length(graph)) {\n",
    "      vertex <- vertex_at(graph, index)\n",
    "\n",
    "        # loop over all classes of lineages\n",
    "      for (i in 1:n) {\n",
    "        for (j in i:n) {\n",
    "          state <- vertex$state\n",
    "\n",
    "          # if same class, there need to be at least two to coalesce\n",
    "          if (i == j) {\n",
    "            if (state[i] < 2) {\n",
    "              next; # an absorbing state that is not the last state\n",
    "            }\n",
    "            # coal rate\n",
    "            rate <- state[i] * (state[i] - 1) / 2\n",
    "          } else {\n",
    "            # else at least one in each class to coalesce\n",
    "            if (state[i] < 1 || state[j] < 1) {\n",
    "              next;\n",
    "            }\n",
    "            # number of combinations\n",
    "            rate <- state[i] * state[j]\n",
    "          }\n",
    "\n",
    "          rate = rate / size\n",
    "            \n",
    "          # copy state\n",
    "          child_state <- state\n",
    "            \n",
    "          # update child state\n",
    "          child_state[i] <- child_state[i] - 1\n",
    "          child_state[j] <- child_state[j] - 1\n",
    "          child_state[i+j] <- child_state[i+j] + 1\n",
    "\n",
    "          add_edge(\n",
    "              vertex,\n",
    "              find_or_create_vertex(graph, child_state),\n",
    "              rate, c(rate)\n",
    "            )\n",
    "        }\n",
    "      }\n",
    "        \n",
    "      index <- index + 1\n",
    "    }\n",
    "    if (epoque == 0) {\n",
    "        return(graph)\n",
    "    }\n",
    "}\n",
    "\n",
    "r_add_epoque <- function(n, size, graph, epoque_trans, epoque)\n",
    "    return(standard_coalescent(n, size, graph, epoque_trans, epoque))"
   ]
  },
  {
   "cell_type": "markdown",
   "id": "595cb32b-bbc4-43a1-a3f4-bd5959fc159d",
   "metadata": {},
   "source": [
    "### This R version works (but on DAGs like the coalescent only)"
   ]
  },
  {
   "cell_type": "code",
   "execution_count": 15,
   "id": "5f80932b-b8fe-4095-9893-810bab7d5228",
   "metadata": {
    "vscode": {
     "languageId": "r"
    }
   },
   "outputs": [],
   "source": [
    "residence_times <- function(graph) {\n",
    "    res <- rep(0, vertices_length(graph))\n",
    "    res[1] <- expectation(graph)\n",
    "    sca <- rep(0, vertices_length(graph))\n",
    "    sca[1] <- 1\n",
    "    start_idx <- starting_vertex(graph)$index\n",
    "    for (vertex in vertices(graph)) {\n",
    "        idx <- vertex$index\n",
    "        pushed <- 0\n",
    "        for (edge in edges(vertex)) {\n",
    "            child_idx <- edge$child$index\n",
    "            child_prob <- edge$weight / vertex$rate\n",
    "            wt <- 1/vertex$rate * sca[idx]            \n",
    "            # if (vertex$index == 1) {\n",
    "            if (idx == start_idx) {\n",
    "                wt <- 0\n",
    "            } \n",
    "            if (length(edges(edge$child)) > 0) { # don't push to absorbing\n",
    "                push <- (res[idx] - wt) * child_prob\n",
    "                res[child_idx] <- res[child_idx] + push\n",
    "                sca[child_idx] <- sca[child_idx] + sca[idx] * child_prob\n",
    "                pushed <- pushed + push\n",
    "            }\n",
    "        }\n",
    "        res[idx] <- res[idx] - pushed\n",
    "    }\n",
    "    return(res)\n",
    "}\n",
    "#residence_times(graph)"
   ]
  },
  {
   "cell_type": "code",
   "execution_count": 16,
   "id": "809fec86-8097-4164-b725-44137a2962df",
   "metadata": {
    "vscode": {
     "languageId": "r"
    }
   },
   "outputs": [],
   "source": [
    "n_samples <- 4"
   ]
  },
  {
   "cell_type": "code",
   "execution_count": 17,
   "id": "0af55d6e-4672-477a-973d-5808950abdb8",
   "metadata": {
    "vscode": {
     "languageId": "r"
    }
   },
   "outputs": [
    {
     "data": {
      "text/html": [
       "<dl>\n",
       "\t<dt>$states</dt>\n",
       "\t\t<dd><table class=\"dataframe\">\n",
       "<caption>A matrix: 4 × 5 of type dbl</caption>\n",
       "<tbody>\n",
       "\t<tr><td>4</td><td>0</td><td>0</td><td>0</td><td>0</td></tr>\n",
       "\t<tr><td>2</td><td>1</td><td>0</td><td>0</td><td>0</td></tr>\n",
       "\t<tr><td>0</td><td>2</td><td>0</td><td>0</td><td>0</td></tr>\n",
       "\t<tr><td>1</td><td>0</td><td>1</td><td>0</td><td>0</td></tr>\n",
       "</tbody>\n",
       "</table>\n",
       "</dd>\n",
       "\t<dt>$SIM</dt>\n",
       "\t\t<dd><table class=\"dataframe\">\n",
       "<caption>A matrix: 4 × 4 of type dbl</caption>\n",
       "<tbody>\n",
       "\t<tr><td>-6</td><td> 6</td><td> 0</td><td> 0</td></tr>\n",
       "\t<tr><td> 0</td><td>-3</td><td> 1</td><td> 2</td></tr>\n",
       "\t<tr><td> 0</td><td> 0</td><td>-1</td><td> 0</td></tr>\n",
       "\t<tr><td> 0</td><td> 0</td><td> 0</td><td>-1</td></tr>\n",
       "</tbody>\n",
       "</table>\n",
       "</dd>\n",
       "\t<dt>$IPV</dt>\n",
       "\t\t<dd><style>\n",
       ".list-inline {list-style: none; margin:0; padding: 0}\n",
       ".list-inline>li {display: inline-block}\n",
       ".list-inline>li:not(:last-child)::after {content: \"\\00b7\"; padding: 0 .5ex}\n",
       "</style>\n",
       "<ol class=list-inline><li>1</li><li>0</li><li>0</li><li>0</li></ol>\n",
       "</dd>\n",
       "\t<dt>$indices</dt>\n",
       "\t\t<dd><style>\n",
       ".list-inline {list-style: none; margin:0; padding: 0}\n",
       ".list-inline>li {display: inline-block}\n",
       ".list-inline>li:not(:last-child)::after {content: \"\\00b7\"; padding: 0 .5ex}\n",
       "</style>\n",
       "<ol class=list-inline><li>2</li><li>3</li><li>4</li><li>5</li></ol>\n",
       "</dd>\n",
       "</dl>\n"
      ],
      "text/latex": [
       "\\begin{description}\n",
       "\\item[\\$states] A matrix: 4 × 5 of type dbl\n",
       "\\begin{tabular}{lllll}\n",
       "\t 4 & 0 & 0 & 0 & 0\\\\\n",
       "\t 2 & 1 & 0 & 0 & 0\\\\\n",
       "\t 0 & 2 & 0 & 0 & 0\\\\\n",
       "\t 1 & 0 & 1 & 0 & 0\\\\\n",
       "\\end{tabular}\n",
       "\n",
       "\\item[\\$SIM] A matrix: 4 × 4 of type dbl\n",
       "\\begin{tabular}{llll}\n",
       "\t -6 &  6 &  0 &  0\\\\\n",
       "\t  0 & -3 &  1 &  2\\\\\n",
       "\t  0 &  0 & -1 &  0\\\\\n",
       "\t  0 &  0 &  0 & -1\\\\\n",
       "\\end{tabular}\n",
       "\n",
       "\\item[\\$IPV] \\begin{enumerate*}\n",
       "\\item 1\n",
       "\\item 0\n",
       "\\item 0\n",
       "\\item 0\n",
       "\\end{enumerate*}\n",
       "\n",
       "\\item[\\$indices] \\begin{enumerate*}\n",
       "\\item 2\n",
       "\\item 3\n",
       "\\item 4\n",
       "\\item 5\n",
       "\\end{enumerate*}\n",
       "\n",
       "\\end{description}\n"
      ],
      "text/markdown": [
       "$states\n",
       ":   \n",
       "A matrix: 4 × 5 of type dbl\n",
       "\n",
       "| 4 | 0 | 0 | 0 | 0 |\n",
       "| 2 | 1 | 0 | 0 | 0 |\n",
       "| 0 | 2 | 0 | 0 | 0 |\n",
       "| 1 | 0 | 1 | 0 | 0 |\n",
       "\n",
       "\n",
       "$SIM\n",
       ":   \n",
       "A matrix: 4 × 4 of type dbl\n",
       "\n",
       "| -6 |  6 |  0 |  0 |\n",
       "|  0 | -3 |  1 |  2 |\n",
       "|  0 |  0 | -1 |  0 |\n",
       "|  0 |  0 |  0 | -1 |\n",
       "\n",
       "\n",
       "$IPV\n",
       ":   1. 1\n",
       "2. 0\n",
       "3. 0\n",
       "4. 0\n",
       "\n",
       "\n",
       "\n",
       "$indices\n",
       ":   1. 2\n",
       "2. 3\n",
       "3. 4\n",
       "4. 5\n",
       "\n",
       "\n",
       "\n",
       "\n",
       "\n"
      ],
      "text/plain": [
       "$states\n",
       "     [,1] [,2] [,3] [,4] [,5]\n",
       "[1,]    4    0    0    0    0\n",
       "[2,]    2    1    0    0    0\n",
       "[3,]    0    2    0    0    0\n",
       "[4,]    1    0    1    0    0\n",
       "\n",
       "$SIM\n",
       "     [,1] [,2] [,3] [,4]\n",
       "[1,]   -6    6    0    0\n",
       "[2,]    0   -3    1    2\n",
       "[3,]    0    0   -1    0\n",
       "[4,]    0    0    0   -1\n",
       "\n",
       "$IPV\n",
       "[1] 1 0 0 0\n",
       "\n",
       "$indices\n",
       "[1] 2 3 4 5\n"
      ]
     },
     "metadata": {},
     "output_type": "display_data"
    }
   ],
   "source": [
    "graph <- standard_coalescent(n_samples, 1)\n",
    "graph_as_matrix(graph)"
   ]
  },
  {
   "cell_type": "code",
   "execution_count": 87,
   "id": "5f9505c6-5e8d-42b0-830b-3030dc6147a3",
   "metadata": {
    "scrolled": true,
    "vscode": {
     "languageId": "r"
    }
   },
   "outputs": [
    {
     "name": "stderr",
     "output_type": "stream",
     "text": [
      "\u001b[1m\u001b[22m\u001b[36mℹ\u001b[39m Loading \u001b[34mptdalgorithms\u001b[39m\n"
     ]
    },
    {
     "name": "stdout",
     "output_type": "stream",
     "text": [
      "Exports from /Users/kmt/PtDalgorithms/src/ptdalgorithms.cpp:\n",
      "   SEXP create_graph(size_t state_length)\n",
      "   List find_or_create_vertex(SEXP phase_type_graph, IntegerVector state)\n",
      "   void add_edge(SEXP phase_type_vertex_from, SEXP phase_type_vertex_to, double weight, NumericVector parameterized_edge_state = NumericVector::create())\n",
      "   void graph_update_weights_parameterized(SEXP phase_type_graph, NumericVector scalars)\n",
      "   List vertices(SEXP phase_type_graph)\n",
      "   IntegerMatrix states(SEXP phase_type_graph)\n",
      "   int vertices_length(SEXP phase_type_graph)\n",
      "   List vertex_at(SEXP phase_type_graph, int index)\n",
      "   List starting_vertex(SEXP phase_type_graph)\n",
      "   List edges(SEXP phase_type_vertex)\n",
      "   SEXP create_vertex(SEXP phase_type_graph, IntegerVector state)\n",
      "   SEXP find_vertex(SEXP phase_type_graph, IntegerVector state)\n",
      "   List graph_as_matrix(SEXP phase_type_graph)\n",
      "   SEXP matrix_as_graph(NumericVector IPV, NumericMatrix SIM, Nullable <NumericMatrix> rewards = R_NilValue)\n",
      "   SEXP clone_graph(SEXP phase_type_graph)\n",
      "   List graph_as_dph_matrix(SEXP phase_type_graph)\n",
      "   SEXP expectation_dag(SEXP phase_type_graph, Nullable <NumericVector> rewards = R_NilValue)\n",
      "   SEXP reward_transform(SEXP phase_type_graph, NumericVector rewards)\n",
      "   SEXP dph_reward_transform(SEXP phase_type_graph, IntegerVector rewards)\n",
      "   NumericVector normalize_graph(SEXP phase_type_graph)\n",
      "   NumericVector normalize_dph_graph(SEXP phase_type_graph)\n",
      "   NumericVector expected_waiting_time(SEXP phase_type_graph, Nullable <NumericVector> rewards = R_NilValue)\n",
      "   NumericVector expected_residence_time(SEXP phase_type_graph, Nullable <NumericVector> rewards = R_NilValue)\n",
      "   NumericVector dph_expected_visits(SEXP phase_type_graph, Nullable <NumericVector> rewards = R_NilValue)\n",
      "   NumericVector moments(SEXP phase_type_graph, int power, Nullable <NumericVector> rewards = R_NilValue)\n",
      "   double expectation(SEXP phase_type_graph, Nullable <NumericVector> rewards = R_NilValue)\n",
      "   double variance(SEXP phase_type_graph, Nullable <NumericVector> rewards = R_NilValue)\n",
      "   double covariance(SEXP phase_type_graph, NumericVector rewards1, NumericVector rewards2)\n",
      "   double dph_expectation(SEXP phase_type_graph, Nullable <NumericVector> rewards = R_NilValue)\n",
      "   double dph_variance(SEXP phase_type_graph, Nullable <NumericVector> rewards = R_NilValue)\n",
      "   double dph_covariance(SEXP phase_type_graph, NumericVector rewards1, NumericVector rewards2)\n",
      "   bool is_graph_acyclic(SEXP phase_type_graph)\n",
      "   double defect(SEXP phase_type_graph)\n",
      "   NumericVector rph(int n, SEXP phase_type_graph, Nullable <NumericVector> rewards = R_NilValue)\n",
      "   NumericVector dph(NumericVector x, SEXP phase_type_graph, int granularity = 0)\n",
      "   NumericVector pph(NumericVector q, SEXP phase_type_graph, int granularity = 0)\n",
      "   NumericVector stop_probability(SEXP phase_type_graph, double time, int granularity = 0)\n",
      "   NumericVector accumulated_visiting_time(SEXP phase_type_graph, double time, int granularity = 0)\n",
      "   NumericMatrix rmph(int n, SEXP phase_type_graph, NumericMatrix rewards)\n",
      "   NumericVector random_sample_stop_vertex(int n, SEXP phase_type_graph, double time)\n",
      "   NumericVector rdph(int n, SEXP phase_type_graph, Nullable <NumericVector> rewards = R_NilValue)\n",
      "   NumericVector ddph(IntegerVector x, SEXP phase_type_graph)\n",
      "   NumericVector pdph(IntegerVector q, SEXP phase_type_graph)\n",
      "   NumericVector dph_stop_probability(SEXP phase_type_graph, int jumps)\n",
      "   NumericVector dph_accumulated_visits(SEXP phase_type_graph, int jumps)\n",
      "   NumericMatrix rmdph(int n, SEXP phase_type_graph, NumericMatrix rewards)\n",
      "   NumericVector dph_random_sample_stop_vertex(int n, SEXP phase_type_graph, int jumps)\n",
      "   SEXP distribution_context(SEXP phase_type_graph, int granularity = 0)\n",
      "   void distribution_context_step(SEXP probability_distribution_context)\n",
      "   List distribution_context_state(SEXP probability_distribution_context)\n",
      "   NumericVector distribution_context_stop_probability(SEXP probability_distribution_context)\n",
      "   NumericVector distribution_context_accumulated_visiting_time(SEXP probability_distribution_context)\n",
      "   SEXP dph_distribution_context(SEXP phase_type_graph)\n",
      "   void dph_distribution_context_step(SEXP probability_distribution_context)\n",
      "   List dph_distribution_context_state(SEXP probability_distribution_context)\n",
      "   NumericVector dph_distribution_context_stop_probability(SEXP probability_distribution_context)\n",
      "   NumericVector dph_distribution_context_accumulated_visits(SEXP probability_distribution_context)\n",
      "\n",
      "/Users/kmt/PtDalgorithms/src/RcppExports.cpp updated.\n",
      "/Users/kmt/PtDalgorithms/R/RcppExports.R updated.\n"
     ]
    },
    {
     "name": "stderr",
     "output_type": "stream",
     "text": [
      "\u001b[36mℹ\u001b[39m Re-compiling \u001b[34m\u001b[34mptdalgorithms\u001b[34m\u001b[39m (debug build)\n",
      "\n"
     ]
    },
    {
     "name": "stdout",
     "output_type": "stream",
     "text": [
      "\u001b[36m──\u001b[39m \u001b[36mR CMD INSTALL\u001b[39m \u001b[36m───────────────────────────────────────────────────────────────────────────────────────────────────────\u001b[39m\n",
      "\u001b[90m─\u001b[39m\u001b[90m  \u001b[39m\u001b[90minstalling *source* package ‘ptdalgorithms’ ...\u001b[39m\u001b[36m\u001b[36m (560ms)\u001b[36m\u001b[39m\n",
      "   ** using staged installation\n",
      "   ** libs\n",
      "   using C++ compiler: ‘clang version 18.1.8’\n",
      "   using SDK: ‘MacOSX14.4.sdk’\n",
      "   arm64-apple-darwin20.0.0-clang++ -std=gnu++17 -I\"/Users/kmt/miniconda3/envs/phasetype/lib/R/include\" -DNDEBUG  -I'/Users/kmt/miniconda3/envs/phasetype/lib/R/library/Rcpp/include' -D_FORTIFY_SOURCE=2 -isystem /Users/kmt/miniconda3/envs/phasetype/include -mmacosx-version-min=11.0 -mmacosx-version-min=11.0 -I/Users/kmt/miniconda3/envs/phasetype/include   -I../api/cpp -I../api/c -Ic/ -Icpp/ -fPIC  -ftree-vectorize -fPIC -fstack-protector-strong -O2 -pipe -stdlib=libc++ -fvisibility-inlines-hidden -fmessage-length=0 -isystem /Users/kmt/miniconda3/envs/phasetype/include -fdebug-prefix-map=/Users/runner/miniforge3/conda-bld/r-base-split_1723488724675/work=/usr/local/src/conda/r-base-4.4.1 -fdebug-prefix-map=/Users/kmt/miniconda3/envs/phasetype=/usr/local/src/conda-prefix  -UNDEBUG -Wall -pedantic -g -O0 -fdiagnostics-color=always  -c RcppExports.cpp -o RcppExports.o\n",
      "   In file included from RcppExports.cpp:4:\n",
      "   In file included from ./ptdalgorithms_types.h:10:\n",
      "   In file included from ./c/ptdalgorithms.h:1:\n",
      "   \u001b[1m./c/../../api/c/ptdalgorithms.h:208:22: \u001b[0m\u001b[0;1;35mwarning: \u001b[0m\u001b[1m'ptd_graph_expectation_dag' has C-linkage specified, but returns incomplete type 'struct ptd_clone_res' which could be incompatible with C [-Wreturn-type-c-linkage]\u001b[0m\n",
      "     208 | struct ptd_clone_res ptd_graph_expectation_dag(struct ptd_graph *graph, double *rewards);\u001b[0m\n",
      "         | \u001b[0;1;32m                     ^\n",
      "   \u001b[0mIn file included from RcppExports.cpp:4:\n",
      "   In file included from ./ptdalgorithms_types.h:11:\n",
      "   In file included from ./cpp/ptdalgorithmscpp.h:1:\n",
      "   \u001b[1m./cpp/../../api/cpp/ptdalgorithmscpp.h:813:16: \u001b[0m\u001b[0;1;35mwarning: \u001b[0m\u001b[1mclass 'ParameterizedEdge' was previously declared as a struct; this is valid, but may result in linker errors under the Microsoft C++ ABI [-Wmismatched-tags]\u001b[0m\n",
      "     813 |         friend class ParameterizedEdge;\u001b[0m\n",
      "         | \u001b[0;1;32m               ^\n",
      "   \u001b[0m\u001b[1m./cpp/../../api/cpp/ptdalgorithmscpp.h:52:12: \u001b[0m\u001b[0;1;36mnote: \u001b[0mprevious use is here\u001b[0m\n",
      "      52 |     struct ParameterizedEdge;\u001b[0m\n",
      "         | \u001b[0;1;32m           ^\n",
      "   \u001b[0m\u001b[1m./cpp/../../api/cpp/ptdalgorithmscpp.h:994:16: \u001b[0m\u001b[0;1;35mwarning: \u001b[0m\u001b[1mprivate field 'graph' is not used [-Wunused-private-field]\u001b[0m\n",
      "     994 |         Graph &graph;\u001b[0m\n",
      "         | \u001b[0;1;32m               ^\n",
      "   \u001b[0m\u001b[1m./cpp/../../api/cpp/ptdalgorithmscpp.h:1037:16: \u001b[0m\u001b[0;1;35mwarning: \u001b[0m\u001b[1mprivate field 'graph' is not used [-Wunused-private-field]\u001b[0m\n",
      "    1037 |         Graph &graph;\u001b[0m\n",
      "         | \u001b[0;1;32m               ^\n",
      "   \u001b[0m4 warnings generated.\n",
      "   arm64-apple-darwin20.0.0-clang++ -std=gnu++17 -I\"/Users/kmt/miniconda3/envs/phasetype/lib/R/include\" -DNDEBUG  -I'/Users/kmt/miniconda3/envs/phasetype/lib/R/library/Rcpp/include' -D_FORTIFY_SOURCE=2 -isystem /Users/kmt/miniconda3/envs/phasetype/include -mmacosx-version-min=11.0 -mmacosx-version-min=11.0 -I/Users/kmt/miniconda3/envs/phasetype/include   -I../api/cpp -I../api/c -Ic/ -Icpp/ -fPIC  -ftree-vectorize -fPIC -fstack-protector-strong -O2 -pipe -stdlib=libc++ -fvisibility-inlines-hidden -fmessage-length=0 -isystem /Users/kmt/miniconda3/envs/phasetype/include -fdebug-prefix-map=/Users/runner/miniforge3/conda-bld/r-base-split_1723488724675/work=/usr/local/src/conda/r-base-4.4.1 -fdebug-prefix-map=/Users/kmt/miniconda3/envs/phasetype=/usr/local/src/conda-prefix  -UNDEBUG -Wall -pedantic -g -O0 -fdiagnostics-color=always  -c ptdalgorithms.cpp -o ptdalgorithms.o\n",
      "   In file included from ptdalgorithms.cpp:42:\n",
      "   In file included from ./ptdalgorithms_types.h:10:\n",
      "   In file included from ./c/ptdalgorithms.h:1:\n",
      "   \u001b[1m./c/../../api/c/ptdalgorithms.h:208:22: \u001b[0m\u001b[0;1;35mwarning: \u001b[0m\u001b[1m'ptd_graph_expectation_dag' has C-linkage specified, but returns incomplete type 'struct ptd_clone_res' which could be incompatible with C [-Wreturn-type-c-linkage]\u001b[0m\n",
      "     208 | struct ptd_clone_res ptd_graph_expectation_dag(struct ptd_graph *graph, double *rewards);\u001b[0m\n",
      "         | \u001b[0;1;32m                     ^\n",
      "   \u001b[0mIn file included from ptdalgorithms.cpp:42:\n",
      "   In file included from ./ptdalgorithms_types.h:11:\n",
      "   In file included from ./cpp/ptdalgorithmscpp.h:1:\n",
      "   \u001b[1m./cpp/../../api/cpp/ptdalgorithmscpp.h:813:16: \u001b[0m\u001b[0;1;35mwarning: \u001b[0m\u001b[1mclass 'ParameterizedEdge' was previously declared as a struct; this is valid, but may result in linker errors under the Microsoft C++ ABI [-Wmismatched-tags]\u001b[0m\n",
      "     813 |         friend class ParameterizedEdge;\u001b[0m\n",
      "         | \u001b[0;1;32m               ^\n",
      "   \u001b[0m\u001b[1m./cpp/../../api/cpp/ptdalgorithmscpp.h:52:12: \u001b[0m\u001b[0;1;36mnote: \u001b[0mprevious use is here\u001b[0m\n",
      "      52 |     struct ParameterizedEdge;\u001b[0m\n",
      "         | \u001b[0;1;32m           ^\n",
      "   \u001b[0mIn file included from ptdalgorithms.cpp:42:\n",
      "   In file included from ./ptdalgorithms_types.h:10:\n",
      "   In file included from ./c/ptdalgorithms.h:1:\n",
      "   \u001b[1m./c/../../api/c/ptdalgorithms.h:407:17: \u001b[0m\u001b[0;1;35mwarning: \u001b[0m\u001b[1mtoken pasting of ',' and __VA_ARGS__ is a GNU extension [-Wgnu-zero-variadic-macro-arguments]\u001b[0m\n",
      "     407 |          message, ##__VA_ARGS__);                  \\\u001b[0m\n",
      "         | \u001b[0;1;32m                ^\n",
      "   \u001b[0m\u001b[1m./c/../../api/c/ptdalgorithms.h:407:17: \u001b[0m\u001b[0;1;35mwarning: \u001b[0m\u001b[1mtoken pasting of ',' and __VA_ARGS__ is a GNU extension [-Wgnu-zero-variadic-macro-arguments]\u001b[0m\n",
      "   \u001b[1m./c/../../api/c/ptdalgorithms.h:407:17: \u001b[0m\u001b[0;1;35mwarning: \u001b[0m\u001b[1mtoken pasting of ',' and __VA_ARGS__ is a GNU extension [-Wgnu-zero-variadic-macro-arguments]\u001b[0m\n",
      "   \u001b[1m./c/../../api/c/ptdalgorithms.h:391:15: \u001b[0m\u001b[0;1;35mwarning: \u001b[0m\u001b[1mtoken pasting of ',' and __VA_ARGS__ is a GNU extension [-Wgnu-zero-variadic-macro-arguments]\u001b[0m\n",
      "     391 |          error, ##__VA_ARGS__);                    \\\u001b[0m\n",
      "         | \u001b[0;1;32m              ^\n",
      "   \u001b[0mIn file included from ptdalgorithms.cpp:46:\n",
      "   \u001b[1m./c/ptdalgorithms.c:3329:9: \u001b[0m\u001b[0;1;35mwarning: \u001b[0m\u001b[1mvariable 'ri' set but not used [-Wunused-but-set-variable]\u001b[0m\n",
      "    3329 |     int ri = 0;\u001b[0m\n",
      "         | \u001b[0;1;32m        ^\n",
      "   \u001b[0mIn file included from ptdalgorithms.cpp:42:\n",
      "   In file included from ./ptdalgorithms_types.h:10:\n",
      "   In file included from ./c/ptdalgorithms.h:1:\n",
      "   \u001b[1m./c/../../api/c/ptdalgorithms.h:391:15: \u001b[0m\u001b[0;1;35mwarning: \u001b[0m\u001b[1mtoken pasting of ',' and __VA_ARGS__ is a GNU extension [-Wgnu-zero-variadic-macro-arguments]\u001b[0m\n",
      "     391 |          error, ##__VA_ARGS__);                    \\\u001b[0m\n",
      "         | \u001b[0;1;32m              ^\n",
      "   \u001b[0mIn file included from ptdalgorithms.cpp:46:\n",
      "   \u001b[1m./c/ptdalgorithms.c:297:13: \u001b[0m\u001b[0;1;35mwarning: \u001b[0m\u001b[1m'static' function 'ptd_avl_node_destroy' declared in header file should be declared 'static inline' [-Wunneeded-internal-declaration]\u001b[0m\n",
      "     297 | static void ptd_avl_node_destroy(struct ptd_avl_node *vertex) {\u001b[0m\n",
      "         | \u001b[0;1;32m            ^~~~~~~~~~~~~~~~~~~~\n",
      "   \u001b[0m\u001b[1m./c/ptdalgorithms.c:308:13: \u001b[0m\u001b[0;1;35mwarning: \u001b[0m\u001b[1m'static' function 'avl_free' declared in header file should be declared 'static inline' [-Wunneeded-internal-declaration]\u001b[0m\n",
      "     308 | static void avl_free(struct ptd_avl_node *vertex) {\u001b[0m\n",
      "         | \u001b[0;1;32m            ^~~~~~~~\n",
      "   \u001b[0m\u001b[1m./c/ptdalgorithms.c:454:15: \u001b[0m\u001b[0;1;35mwarning: \u001b[0m\u001b[1m'static' function 'avl_vec_get_size' declared in header file should be declared 'static inline' [-Wunneeded-internal-declaration]\u001b[0m\n",
      "     454 | static size_t avl_vec_get_size(struct ptd_avl_node *vertex) {\u001b[0m\n",
      "         | \u001b[0;1;32m              ^~~~~~~~~~~~~~~~\n",
      "   \u001b[0mIn file included from ptdalgorithms.cpp:42:\n",
      "   In file included from ./ptdalgorithms_types.h:11:\n",
      "   In file included from ./cpp/ptdalgorithmscpp.h:1:\n",
      "   \u001b[1m./cpp/../../api/cpp/ptdalgorithmscpp.h:830:16: \u001b[0m\u001b[0;1;35mwarning: \u001b[0m\u001b[1mprivate field 'state_size' is not used [-Wunused-private-field]\u001b[0m\n",
      "     830 |         size_t state_size;\u001b[0m\n",
      "         | \u001b[0;1;32m               ^\n",
      "   \u001b[0m\u001b[1m./cpp/../../api/cpp/ptdalgorithmscpp.h:994:16: \u001b[0m\u001b[0;1;35mwarning: \u001b[0m\u001b[1mprivate field 'graph' is not used [-Wunused-private-field]\u001b[0m\n",
      "     994 |         Graph &graph;\u001b[0m\n",
      "         | \u001b[0;1;32m               ^\n",
      "   \u001b[0m\u001b[1m./cpp/../../api/cpp/ptdalgorithmscpp.h:1037:16: \u001b[0m\u001b[0;1;35mwarning: \u001b[0m\u001b[1mprivate field 'graph' is not used [-Wunused-private-field]\u001b[0m\n",
      "    1037 |         Graph &graph;\u001b[0m\n",
      "         | \u001b[0;1;32m               ^\n",
      "   \u001b[0m14 warnings generated.\n",
      "   arm64-apple-darwin20.0.0-clang++ -std=gnu++17 -dynamiclib -Wl,-headerpad_max_install_names -undefined dynamic_lookup -L/Users/kmt/miniconda3/envs/phasetype/lib/R/lib -Wl,-dead_strip_dylibs -Wl,-headerpad_max_install_names -Wl,-dead_strip_dylibs -Wl,-rpath,/Users/kmt/miniconda3/envs/phasetype/lib -L/Users/kmt/miniconda3/envs/phasetype/lib -o ptdalgorithms.so RcppExports.o ptdalgorithms.o -L/Users/kmt/miniconda3/envs/phasetype/lib/R/lib -lR -Wl,-framework -Wl,CoreFoundation\n",
      "   installing to /private/var/folders/s6/srs8qkh52w1_h32d65z95tth0000gn/T/Rtmp8iN6cY/devtools_install_a60c3a290b0b/00LOCK-PtDalgorithms/00new/ptdalgorithms/libs\n",
      "   ** checking absolute paths in shared objects and dynamic libraries\n",
      "\u001b[90m─\u001b[39m\u001b[90m  \u001b[39m\u001b[90mDONE (ptdalgorithms)\u001b[39m\u001b[36m\u001b[39m\n",
      "\r"
     ]
    }
   ],
   "source": [
    "devtools::load_all(path=\"./\", quiet=FALSE, recompile=TRUE)"
   ]
  },
  {
   "cell_type": "code",
   "execution_count": 88,
   "id": "39f5d355",
   "metadata": {
    "vscode": {
     "languageId": "r"
    }
   },
   "outputs": [
    {
     "data": {
      "text/html": [
       "<style>\n",
       ".list-inline {list-style: none; margin:0; padding: 0}\n",
       ".list-inline>li {display: inline-block}\n",
       ".list-inline>li:not(:last-child)::after {content: \"\\00b7\"; padding: 0 .5ex}\n",
       "</style>\n",
       "<ol class=list-inline><li>1.5</li><li>1.5</li><li>1.33333333333333</li><li>1</li><li>1</li><li>0</li></ol>\n"
      ],
      "text/latex": [
       "\\begin{enumerate*}\n",
       "\\item 1.5\n",
       "\\item 1.5\n",
       "\\item 1.33333333333333\n",
       "\\item 1\n",
       "\\item 1\n",
       "\\item 0\n",
       "\\end{enumerate*}\n"
      ],
      "text/markdown": [
       "1. 1.5\n",
       "2. 1.5\n",
       "3. 1.33333333333333\n",
       "4. 1\n",
       "5. 1\n",
       "6. 0\n",
       "\n",
       "\n"
      ],
      "text/plain": [
       "[1] 1.500000 1.500000 1.333333 1.000000 1.000000 0.000000"
      ]
     },
     "metadata": {},
     "output_type": "display_data"
    }
   ],
   "source": [
    "expected_waiting_time(graph)"
   ]
  },
  {
   "cell_type": "code",
   "execution_count": 89,
   "id": "7a206261-e533-4967-a701-a8c73b3f9f39",
   "metadata": {
    "vscode": {
     "languageId": "r"
    }
   },
   "outputs": [
    {
     "data": {
      "text/html": [
       "<style>\n",
       ".list-inline {list-style: none; margin:0; padding: 0}\n",
       ".list-inline>li {display: inline-block}\n",
       ".list-inline>li:not(:last-child)::after {content: \"\\00b7\"; padding: 0 .5ex}\n",
       "</style>\n",
       "<ol class=list-inline><li>0</li><li>0.166666666666666</li><li>0.333333333333326</li><li>0.333333333333316</li><li>0.666666666666633</li><li>0</li></ol>\n"
      ],
      "text/latex": [
       "\\begin{enumerate*}\n",
       "\\item 0\n",
       "\\item 0.166666666666666\n",
       "\\item 0.333333333333326\n",
       "\\item 0.333333333333316\n",
       "\\item 0.666666666666633\n",
       "\\item 0\n",
       "\\end{enumerate*}\n"
      ],
      "text/markdown": [
       "1. 0\n",
       "2. 0.166666666666666\n",
       "3. 0.333333333333326\n",
       "4. 0.333333333333316\n",
       "5. 0.666666666666633\n",
       "6. 0\n",
       "\n",
       "\n"
      ],
      "text/plain": [
       "[1] 0.0000000 0.1666667 0.3333333 0.3333333 0.6666667 0.0000000"
      ]
     },
     "metadata": {},
     "output_type": "display_data"
    }
   ],
   "source": [
    "accumulated_visiting_time(graph, 1000)"
   ]
  },
  {
   "cell_type": "code",
   "execution_count": 90,
   "id": "9389c6fb-17d5-4e56-81a1-e9654f9f2e53",
   "metadata": {
    "vscode": {
     "languageId": "r"
    }
   },
   "outputs": [
    {
     "data": {
      "text/html": [
       "<style>\n",
       ".list-inline {list-style: none; margin:0; padding: 0}\n",
       ".list-inline>li {display: inline-block}\n",
       ".list-inline>li:not(:last-child)::after {content: \"\\00b7\"; padding: 0 .5ex}\n",
       "</style>\n",
       "<ol class=list-inline><li>0</li><li>0.166666666666667</li><li>0.333333333333333</li><li>0.333333333333333</li><li>0.666666666666666</li><li>0</li></ol>\n"
      ],
      "text/latex": [
       "\\begin{enumerate*}\n",
       "\\item 0\n",
       "\\item 0.166666666666667\n",
       "\\item 0.333333333333333\n",
       "\\item 0.333333333333333\n",
       "\\item 0.666666666666666\n",
       "\\item 0\n",
       "\\end{enumerate*}\n"
      ],
      "text/markdown": [
       "1. 0\n",
       "2. 0.166666666666667\n",
       "3. 0.333333333333333\n",
       "4. 0.333333333333333\n",
       "5. 0.666666666666666\n",
       "6. 0\n",
       "\n",
       "\n"
      ],
      "text/plain": [
       "[1] 0.0000000 0.1666667 0.3333333 0.3333333 0.6666667 0.0000000"
      ]
     },
     "metadata": {},
     "output_type": "display_data"
    }
   ],
   "source": [
    "residence_times(graph)"
   ]
  },
  {
   "cell_type": "code",
   "execution_count": 91,
   "id": "8d92800e",
   "metadata": {
    "vscode": {
     "languageId": "r"
    }
   },
   "outputs": [
    {
     "ename": "ERROR",
     "evalue": "Error in eval(expr, envir, enclos): 0 -> 1, 1.000000, inf\n\n",
     "output_type": "error",
     "traceback": [
      "Error in eval(expr, envir, enclos): 0 -> 1, 1.000000, inf\n\nTraceback:\n",
      "1. expected_residence_time(graph)"
     ]
    }
   ],
   "source": [
    "expected_residence_time(graph)"
   ]
  },
  {
   "cell_type": "code",
   "execution_count": 21,
   "id": "04bd692d-658e-4cea-9556-22fe13ff41a5",
   "metadata": {
    "vscode": {
     "languageId": "r"
    }
   },
   "outputs": [
    {
     "data": {
      "image/svg+xml": [
       "<?xml version=\"1.0\" encoding=\"UTF-8\" standalone=\"no\"?>\n",
       "<!DOCTYPE svg PUBLIC \"-//W3C//DTD SVG 1.1//EN\"\n",
       " \"http://www.w3.org/Graphics/SVG/1.1/DTD/svg11.dtd\">\n",
       "<!-- Generated by graphviz version 12.0.0 (0)\n",
       " -->\n",
       "<!-- Title: G Pages: 1 -->\n",
       "<svg width=\"576pt\" height=\"180pt\"\n",
       " viewBox=\"0.00 0.00 576.00 179.93\" xmlns=\"http://www.w3.org/2000/svg\" xmlns:xlink=\"http://www.w3.org/1999/xlink\">\n",
       "<g id=\"graph0\" class=\"graph\" transform=\"scale(0.731434 0.731434) rotate(0) translate(36 210)\">\n",
       "<title>G</title>\n",
       "<polygon fill=\"white\" stroke=\"none\" points=\"-36,36 -36,-210 751.49,-210 751.49,36 -36,36\"/>\n",
       "<g id=\"clust5\" class=\"cluster\">\n",
       "<title>cluster_4000</title>\n",
       "<polygon fill=\"whitesmoke\" stroke=\"whitesmoke\" points=\"125.5,-36 125.5,-111 230.54,-111 230.54,-36 125.5,-36\"/>\n",
       "<text text-anchor=\"middle\" x=\"178.02\" y=\"-93.7\" font-family=\"Helvetica,Arial,sans-serif\" font-size=\"14.00\">4000</text>\n",
       "</g>\n",
       "<g id=\"clust6\" class=\"cluster\">\n",
       "<title>cluster_2100</title>\n",
       "<polygon fill=\"whitesmoke\" stroke=\"whitesmoke\" points=\"294.04,-36 294.04,-111 399.08,-111 399.08,-36 294.04,-36\"/>\n",
       "<text text-anchor=\"middle\" x=\"346.56\" y=\"-93.7\" font-family=\"Helvetica,Arial,sans-serif\" font-size=\"14.00\">2100</text>\n",
       "</g>\n",
       "<g id=\"clust7\" class=\"cluster\">\n",
       "<title>cluster_0200</title>\n",
       "<polygon fill=\"whitesmoke\" stroke=\"whitesmoke\" points=\"462.58,-91 462.58,-166 567.63,-166 567.63,-91 462.58,-91\"/>\n",
       "<text text-anchor=\"middle\" x=\"515.11\" y=\"-148.7\" font-family=\"Helvetica,Arial,sans-serif\" font-size=\"14.00\">0200</text>\n",
       "</g>\n",
       "<g id=\"clust8\" class=\"cluster\">\n",
       "<title>cluster_1010</title>\n",
       "<polygon fill=\"whitesmoke\" stroke=\"whitesmoke\" points=\"462.58,-8 462.58,-83 567.63,-83 567.63,-8 462.58,-8\"/>\n",
       "<text text-anchor=\"middle\" x=\"515.11\" y=\"-65.7\" font-family=\"Helvetica,Arial,sans-serif\" font-size=\"14.00\">1010</text>\n",
       "</g>\n",
       "<!-- Absorb -->\n",
       "<g id=\"node1\" class=\"node\">\n",
       "<title>Absorb</title>\n",
       "<ellipse fill=\"white\" stroke=\"lightgrey\" cx=\"677.31\" cy=\"-78\" rx=\"38.18\" ry=\"18\"/>\n",
       "<text text-anchor=\"middle\" x=\"677.31\" y=\"-72.2\" font-family=\"Helvetica,Arial,sans-serif\" font-size=\"14.00\">Absorb</text>\n",
       "</g>\n",
       "<!-- IPV -->\n",
       "<g id=\"node2\" class=\"node\">\n",
       "<title>IPV</title>\n",
       "<ellipse fill=\"white\" stroke=\"lightgrey\" cx=\"27\" cy=\"-62\" rx=\"27\" ry=\"18\"/>\n",
       "<text text-anchor=\"middle\" x=\"27\" y=\"-56.2\" font-family=\"Helvetica,Arial,sans-serif\" font-size=\"14.00\">IPV</text>\n",
       "</g>\n",
       "<!-- 4,0,0,0,0 -->\n",
       "<g id=\"node3\" class=\"node\">\n",
       "<title>4,0,0,0,0</title>\n",
       "<ellipse fill=\"white\" stroke=\"black\" cx=\"178.02\" cy=\"-62\" rx=\"44.52\" ry=\"18\"/>\n",
       "<text text-anchor=\"middle\" x=\"178.02\" y=\"-56.2\" font-family=\"Helvetica,Arial,sans-serif\" font-size=\"14.00\">4,0,0,0,0</text>\n",
       "</g>\n",
       "<!-- IPV&#45;&gt;4,0,0,0,0 -->\n",
       "<g id=\"edge1\" class=\"edge\">\n",
       "<title>IPV&#45;&gt;4,0,0,0,0</title>\n",
       "<path fill=\"none\" stroke=\"#b611e4\" d=\"M54.3,-62C72.96,-62 98.68,-62 121.76,-62\"/>\n",
       "<polygon fill=\"#b611e4\" stroke=\"#b611e4\" points=\"121.67,-65.5 131.67,-62 121.67,-58.5 121.67,-65.5\"/>\n",
       "<text text-anchor=\"middle\" x=\"93.75\" y=\"-63.7\" font-family=\"Helvetica,Arial,sans-serif\" font-size=\"14.00\" fill=\"#b611e4\">1</text>\n",
       "</g>\n",
       "<!-- 2,1,0,0,0 -->\n",
       "<g id=\"node4\" class=\"node\">\n",
       "<title>2,1,0,0,0</title>\n",
       "<ellipse fill=\"white\" stroke=\"black\" cx=\"346.56\" cy=\"-62\" rx=\"44.52\" ry=\"18\"/>\n",
       "<text text-anchor=\"middle\" x=\"346.56\" y=\"-56.2\" font-family=\"Helvetica,Arial,sans-serif\" font-size=\"14.00\">2,1,0,0,0</text>\n",
       "</g>\n",
       "<!-- 4,0,0,0,0&#45;&gt;2,1,0,0,0 -->\n",
       "<g id=\"edge2\" class=\"edge\">\n",
       "<title>4,0,0,0,0&#45;&gt;2,1,0,0,0</title>\n",
       "<path fill=\"none\" stroke=\"#a58e9f\" d=\"M222.78,-62C243.45,-62 268.34,-62 290.3,-62\"/>\n",
       "<polygon fill=\"#a58e9f\" stroke=\"#a58e9f\" points=\"290.3,-65.5 300.3,-62 290.3,-58.5 290.3,-65.5\"/>\n",
       "<text text-anchor=\"middle\" x=\"262.29\" y=\"-63.7\" font-family=\"Helvetica,Arial,sans-serif\" font-size=\"14.00\" fill=\"#a58e9f\">6</text>\n",
       "</g>\n",
       "<!-- 0,2,0,0,0 -->\n",
       "<g id=\"node5\" class=\"node\">\n",
       "<title>0,2,0,0,0</title>\n",
       "<ellipse fill=\"white\" stroke=\"black\" cx=\"515.11\" cy=\"-117\" rx=\"44.52\" ry=\"18\"/>\n",
       "<text text-anchor=\"middle\" x=\"515.11\" y=\"-111.2\" font-family=\"Helvetica,Arial,sans-serif\" font-size=\"14.00\">0,2,0,0,0</text>\n",
       "</g>\n",
       "<!-- 2,1,0,0,0&#45;&gt;0,2,0,0,0 -->\n",
       "<g id=\"edge3\" class=\"edge\">\n",
       "<title>2,1,0,0,0&#45;&gt;0,2,0,0,0</title>\n",
       "<path fill=\"none\" stroke=\"#abb4d0\" d=\"M381.67,-73.26C406.84,-81.58 441.36,-92.98 468.84,-102.05\"/>\n",
       "<polygon fill=\"#abb4d0\" stroke=\"#abb4d0\" points=\"467.73,-105.37 478.32,-105.18 469.93,-98.72 467.73,-105.37\"/>\n",
       "<text text-anchor=\"middle\" x=\"430.83\" y=\"-90.7\" font-family=\"Helvetica,Arial,sans-serif\" font-size=\"14.00\" fill=\"#abb4d0\">1</text>\n",
       "</g>\n",
       "<!-- 1,0,1,0,0 -->\n",
       "<g id=\"node6\" class=\"node\">\n",
       "<title>1,0,1,0,0</title>\n",
       "<ellipse fill=\"white\" stroke=\"black\" cx=\"515.11\" cy=\"-34\" rx=\"44.52\" ry=\"18\"/>\n",
       "<text text-anchor=\"middle\" x=\"515.11\" y=\"-28.2\" font-family=\"Helvetica,Arial,sans-serif\" font-size=\"14.00\">1,0,1,0,0</text>\n",
       "</g>\n",
       "<!-- 2,1,0,0,0&#45;&gt;1,0,1,0,0 -->\n",
       "<g id=\"edge4\" class=\"edge\">\n",
       "<title>2,1,0,0,0&#45;&gt;1,0,1,0,0</title>\n",
       "<path fill=\"none\" stroke=\"#05ec88\" d=\"M388.3,-55.15C410.57,-51.41 438.37,-46.73 462.17,-42.73\"/>\n",
       "<polygon fill=\"#05ec88\" stroke=\"#05ec88\" points=\"462.72,-46.19 472,-41.08 461.56,-39.28 462.72,-46.19\"/>\n",
       "<text text-anchor=\"middle\" x=\"430.83\" y=\"-49.7\" font-family=\"Helvetica,Arial,sans-serif\" font-size=\"14.00\" fill=\"#05ec88\">2</text>\n",
       "</g>\n",
       "<!-- 0,2,0,0,0&#45;&gt;Absorb -->\n",
       "<g id=\"edge5\" class=\"edge\">\n",
       "<title>0,2,0,0,0&#45;&gt;Absorb</title>\n",
       "<path fill=\"none\" stroke=\"#d55c72\" d=\"M554.07,-107.76C577.32,-102.1 607.18,-94.83 631.57,-88.89\"/>\n",
       "<polygon fill=\"#d55c72\" stroke=\"#d55c72\" points=\"632.34,-92.31 641.23,-86.54 630.68,-85.51 632.34,-92.31\"/>\n",
       "<text text-anchor=\"middle\" x=\"599.38\" y=\"-98.7\" font-family=\"Helvetica,Arial,sans-serif\" font-size=\"14.00\" fill=\"#d55c72\">1</text>\n",
       "</g>\n",
       "<!-- 1,0,1,0,0&#45;&gt;Absorb -->\n",
       "<g id=\"edge6\" class=\"edge\">\n",
       "<title>1,0,1,0,0&#45;&gt;Absorb</title>\n",
       "<path fill=\"none\" stroke=\"#2df013\" d=\"M552.46,-43.98C576.24,-50.51 607.43,-59.08 632.57,-65.99\"/>\n",
       "<polygon fill=\"#2df013\" stroke=\"#2df013\" points=\"631.61,-69.35 642.18,-68.63 633.46,-62.6 631.61,-69.35\"/>\n",
       "<text text-anchor=\"middle\" x=\"599.38\" y=\"-58.7\" font-family=\"Helvetica,Arial,sans-serif\" font-size=\"14.00\" fill=\"#2df013\">1</text>\n",
       "</g>\n",
       "</g>\n",
       "</svg>\n"
      ]
     },
     "metadata": {},
     "output_type": "display_data"
    }
   ],
   "source": [
    "gam <- graph_as_matrix(graph)\n",
    "plot_graph(gam, subgraphs=TRUE, rainbow=TRUE, size=c(8, 8), align=TRUE,\n",
    "           fontsize=14, ranksep=1, nodesep=0.5,          \n",
    "           subgraphfun=function(state) paste(state[-length(state)], collapse=\"\"))"
   ]
  },
  {
   "cell_type": "code",
   "execution_count": 24,
   "id": "b8bff248-0bc5-4eb5-8083-a78730f38f03",
   "metadata": {
    "vscode": {
     "languageId": "r"
    }
   },
   "outputs": [
    {
     "data": {
      "text/html": [
       "<style>\n",
       ".list-inline {list-style: none; margin:0; padding: 0}\n",
       ".list-inline>li {display: inline-block}\n",
       ".list-inline>li:not(:last-child)::after {content: \"\\00b7\"; padding: 0 .5ex}\n",
       "</style>\n",
       "<ol class=list-inline><li>0</li><li>0.00243539311311421</li><li>0.0942658761556706</li><li>0.172025669701058</li><li>0.344051339402117</li><li>0</li></ol>\n"
      ],
      "text/latex": [
       "\\begin{enumerate*}\n",
       "\\item 0\n",
       "\\item 0.00243539311311421\n",
       "\\item 0.0942658761556706\n",
       "\\item 0.172025669701058\n",
       "\\item 0.344051339402117\n",
       "\\item 0\n",
       "\\end{enumerate*}\n"
      ],
      "text/markdown": [
       "1. 0\n",
       "2. 0.00243539311311421\n",
       "3. 0.0942658761556706\n",
       "4. 0.172025669701058\n",
       "5. 0.344051339402117\n",
       "6. 0\n",
       "\n",
       "\n"
      ],
      "text/plain": [
       "[1] 0.000000000 0.002435393 0.094265876 0.172025670 0.344051339 0.000000000"
      ]
     },
     "metadata": {},
     "output_type": "display_data"
    },
    {
     "data": {
      "text/html": [
       "<style>\n",
       ".list-inline {list-style: none; margin:0; padding: 0}\n",
       ".list-inline>li {display: inline-block}\n",
       ".list-inline>li:not(:last-child)::after {content: \"\\00b7\"; padding: 0 .5ex}\n",
       "</style>\n",
       "<ol class=list-inline><li>0</li><li>0.166666666666666</li><li>0.333333333333326</li><li>0.333333333333316</li><li>0.666666666666633</li><li>0</li></ol>\n"
      ],
      "text/latex": [
       "\\begin{enumerate*}\n",
       "\\item 0\n",
       "\\item 0.166666666666666\n",
       "\\item 0.333333333333326\n",
       "\\item 0.333333333333316\n",
       "\\item 0.666666666666633\n",
       "\\item 0\n",
       "\\end{enumerate*}\n"
      ],
      "text/markdown": [
       "1. 0\n",
       "2. 0.166666666666666\n",
       "3. 0.333333333333326\n",
       "4. 0.333333333333316\n",
       "5. 0.666666666666633\n",
       "6. 0\n",
       "\n",
       "\n"
      ],
      "text/plain": [
       "[1] 0.0000000 0.1666667 0.3333333 0.3333333 0.6666667 0.0000000"
      ]
     },
     "metadata": {},
     "output_type": "display_data"
    }
   ],
   "source": [
    "stop_probability(graph, 1)\n",
    "accumulated_visiting_time(graph, 10000)"
   ]
  },
  {
   "cell_type": "markdown",
   "id": "723ce857-4053-43d3-9216-275691df231e",
   "metadata": {},
   "source": [
    "## Testing epochs"
   ]
  },
  {
   "cell_type": "code",
   "execution_count": 23,
   "id": "f7762405-1f98-412e-8795-e4523b8c0d82",
   "metadata": {
    "vscode": {
     "languageId": "r"
    }
   },
   "outputs": [
    {
     "ename": "ERROR",
     "evalue": "Error in add_epoque(n_samples, 5, graph, epoque_trans_rates, 1): could not find function \"add_epoque\"\n",
     "output_type": "error",
     "traceback": [
      "Error in add_epoque(n_samples, 5, graph, epoque_trans_rates, 1): could not find function \"add_epoque\"\nTraceback:\n"
     ]
    }
   ],
   "source": [
    "x <- stop_probability(graph, 1)\n",
    "stop_probs <- x[2:(length(x)-1)]\n",
    "x <- accumulated_visiting_time(graph, 1)\n",
    "accum_v_time <- x[2:(length(x)-1)]\n",
    "epoque_trans_rates <- stop_probs / accum_v_time\n",
    "\n",
    "add_epoque(n_samples, 5, graph, epoque_trans_rates, 1)\n",
    "graph_as_matrix(graph)"
   ]
  },
  {
   "cell_type": "code",
   "execution_count": null,
   "id": "c81c5464-dbdf-42fe-8ad6-c40fab948edb",
   "metadata": {
    "vscode": {
     "languageId": "r"
    }
   },
   "outputs": [],
   "source": [
    "gam <- graph_as_matrix(graph)\n",
    "plot_graph(gam, subgraphs=TRUE, rainbow=TRUE, size=c(8, 8), align=TRUE,\n",
    "           fontsize=14, ranksep=1, nodesep=0.5,          \n",
    "           subgraphfun=function(state) paste(state[-length(state)], collapse=\"\"))"
   ]
  },
  {
   "cell_type": "code",
   "execution_count": null,
   "id": "81ae74e2-a45e-4201-8dd3-a0bfc8b7c2d7",
   "metadata": {
    "vscode": {
     "languageId": "r"
    }
   },
   "outputs": [],
   "source": [
    "stop_probability(graph, 1)\n",
    "accumulated_visiting_time(graph, 1)"
   ]
  },
  {
   "cell_type": "code",
   "execution_count": null,
   "id": "3ed223c6-3e05-469a-94b3-d52df6b99033",
   "metadata": {
    "vscode": {
     "languageId": "r"
    }
   },
   "outputs": [],
   "source": [
    "x <- stop_probability(graph, 1)\n",
    "stop_probs <- x[2:(length(x)-1)]\n",
    "x <- accumulated_visiting_time(graph, 1)\n",
    "accum_v_time <- x[2:(length(x)-1)]\n",
    "epoque_trans_rates <- stop_probs / accum_v_time\n",
    "\n",
    "add_epoque(n_samples, 10, graph, epoque_trans_rates, 2)\n",
    "graph_as_matrix(graph)"
   ]
  },
  {
   "cell_type": "code",
   "execution_count": null,
   "id": "fe994da5-6c98-4be9-972a-7f3d1761c79d",
   "metadata": {
    "vscode": {
     "languageId": "r"
    }
   },
   "outputs": [],
   "source": [
    "gam <- graph_as_matrix(graph)\n",
    "plot_graph(gam, subgraphs=TRUE, rainbow=TRUE, size=c(8, 8), align=TRUE,\n",
    "           fontsize=14, ranksep=1, nodesep=0.5,          \n",
    "           subgraphfun=function(state) paste(state[-length(state)], collapse=\"\"))"
   ]
  },
  {
   "cell_type": "code",
   "execution_count": null,
   "id": "9001f9bd-4fab-4eb6-b678-bdb48b87eb90",
   "metadata": {
    "vscode": {
     "languageId": "r"
    }
   },
   "outputs": [],
   "source": [
    "stop_probability(graph, 1)\n",
    "accumulated_visiting_time(graph, 1)"
   ]
  },
  {
   "cell_type": "code",
   "execution_count": null,
   "id": "8407b476-fd59-4f4e-90d8-058d906a1e3a",
   "metadata": {
    "vscode": {
     "languageId": "r"
    }
   },
   "outputs": [],
   "source": [
    "graph <- standard_coalescent(n_samples, 1)\n",
    "graph_as_matrix(graph)"
   ]
  },
  {
   "cell_type": "code",
   "execution_count": null,
   "id": "7865d84d",
   "metadata": {
    "vscode": {
     "languageId": "r"
    }
   },
   "outputs": [],
   "source": [
    "add_epoque(graph, 1/5, 1)"
   ]
  },
  {
   "cell_type": "code",
   "execution_count": null,
   "id": "7914c4e9",
   "metadata": {
    "vscode": {
     "languageId": "r"
    }
   },
   "outputs": [],
   "source": []
  }
 ],
 "metadata": {
  "kernelspec": {
   "display_name": "R",
   "language": "R",
   "name": "ir"
  },
  "language_info": {
   "codemirror_mode": "r",
   "file_extension": ".r",
   "mimetype": "text/x-r-source",
   "name": "R",
   "pygments_lexer": "r",
   "version": "4.4.1"
  }
 },
 "nbformat": 4,
 "nbformat_minor": 5
}
