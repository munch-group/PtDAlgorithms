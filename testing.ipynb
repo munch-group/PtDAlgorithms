{
 "cells": [
  {
   "cell_type": "code",
   "execution_count": 1,
   "id": "fdcdab73-9c4b-44e2-9e3f-b3561961b014",
   "metadata": {
    "vscode": {
     "languageId": "r"
    }
   },
   "outputs": [],
   "source": [
    "# # install.packages(\"remotes\")\n",
    "# remotes::install_github(\"Thell/RcppMP\")"
   ]
  },
  {
   "cell_type": "code",
   "execution_count": 2,
   "id": "2746ebb6-4ac8-4f31-bb6a-265637f364ca",
   "metadata": {
    "vscode": {
     "languageId": "r"
    }
   },
   "outputs": [
    {
     "name": "stderr",
     "output_type": "stream",
     "text": [
      "Warning message:\n",
      "“package ‘ggplot2’ was built under R version 4.2.3”\n",
      "Warning message:\n",
      "“package ‘viridis’ was built under R version 4.2.3”\n",
      "Loading required package: viridisLite\n",
      "\n",
      "Warning message:\n",
      "“package ‘viridisLite’ was built under R version 4.2.3”\n",
      "Warning message:\n",
      "“package ‘gridExtra’ was built under R version 4.2.3”\n",
      "Warning message:\n",
      "“package ‘tidyverse’ was built under R version 4.2.3”\n",
      "Warning message:\n",
      "“package ‘tibble’ was built under R version 4.2.3”\n",
      "Warning message:\n",
      "“package ‘tidyr’ was built under R version 4.2.3”\n",
      "Warning message:\n",
      "“package ‘readr’ was built under R version 4.2.3”\n",
      "Warning message:\n",
      "“package ‘purrr’ was built under R version 4.2.3”\n",
      "Warning message:\n",
      "“package ‘dplyr’ was built under R version 4.2.3”\n",
      "Warning message:\n",
      "“package ‘stringr’ was built under R version 4.2.3”\n",
      "Warning message:\n",
      "“package ‘forcats’ was built under R version 4.2.3”\n",
      "Warning message:\n",
      "“package ‘lubridate’ was built under R version 4.2.3”\n",
      "── \u001b[1mAttaching core tidyverse packages\u001b[22m ──────────────────────── tidyverse 2.0.0 ──\n",
      "\u001b[32m✔\u001b[39m \u001b[34mdplyr    \u001b[39m 1.1.4     \u001b[32m✔\u001b[39m \u001b[34mreadr    \u001b[39m 2.1.5\n",
      "\u001b[32m✔\u001b[39m \u001b[34mforcats  \u001b[39m 1.0.0     \u001b[32m✔\u001b[39m \u001b[34mstringr  \u001b[39m 1.5.1\n",
      "\u001b[32m✔\u001b[39m \u001b[34mlubridate\u001b[39m 1.9.3     \u001b[32m✔\u001b[39m \u001b[34mtibble   \u001b[39m 3.2.1\n",
      "\u001b[32m✔\u001b[39m \u001b[34mpurrr    \u001b[39m 1.0.2     \u001b[32m✔\u001b[39m \u001b[34mtidyr    \u001b[39m 1.3.1\n",
      "── \u001b[1mConflicts\u001b[22m ────────────────────────────────────────── tidyverse_conflicts() ──\n",
      "\u001b[31m✖\u001b[39m \u001b[34mdplyr\u001b[39m::\u001b[32mcombine()\u001b[39m masks \u001b[34mgridExtra\u001b[39m::combine()\n",
      "\u001b[31m✖\u001b[39m \u001b[34mdplyr\u001b[39m::\u001b[32mfilter()\u001b[39m  masks \u001b[34mstats\u001b[39m::filter()\n",
      "\u001b[31m✖\u001b[39m \u001b[34mdplyr\u001b[39m::\u001b[32mlag()\u001b[39m     masks \u001b[34mstats\u001b[39m::lag()\n",
      "\u001b[36mℹ\u001b[39m Use the conflicted package (\u001b[3m\u001b[34m<http://conflicted.r-lib.org/>\u001b[39m\u001b[23m) to force all conflicts to become errors\n"
     ]
    }
   ],
   "source": [
    "library(ggplot2)\n",
    "library(viridis)\n",
    "library(grid)\n",
    "library(gridExtra)\n",
    "library(\"IRdisplay\")\n",
    "library(tidyverse)"
   ]
  },
  {
   "cell_type": "code",
   "execution_count": 4,
   "id": "a2556e65-d1b2-4b12-987d-2bb1dd97b52d",
   "metadata": {
    "vscode": {
     "languageId": "r"
    }
   },
   "outputs": [
    {
     "name": "stderr",
     "output_type": "stream",
     "text": [
      "\u001b[1m\u001b[22m\u001b[36mℹ\u001b[39m Loading \u001b[34mptdalgorithms\u001b[39m\n"
     ]
    },
    {
     "name": "stdout",
     "output_type": "stream",
     "text": [
      "Exports from /workspaces/PtDAlgorithms/src/ptdalgorithms.cpp:\n",
      "   SEXP create_graph(size_t state_length)\n",
      "   List find_or_create_vertex(SEXP phase_type_graph, IntegerVector state)\n",
      "   void add_edge(SEXP phase_type_vertex_from, SEXP phase_type_vertex_to, double weight, NumericVector parameterized_edge_state = NumericVector::create())\n",
      "   void graph_update_weights_parameterized(SEXP phase_type_graph, NumericVector scalars)\n",
      "   List vertices(SEXP phase_type_graph)\n",
      "   IntegerMatrix states(SEXP phase_type_graph)\n",
      "   int vertices_length(SEXP phase_type_graph)\n",
      "   List vertex_at(SEXP phase_type_graph, int index)\n",
      "   List starting_vertex(SEXP phase_type_graph)\n",
      "   List edges(SEXP phase_type_vertex)\n",
      "   SEXP create_vertex(SEXP phase_type_graph, IntegerVector state)\n",
      "   SEXP find_vertex(SEXP phase_type_graph, IntegerVector state)\n",
      "   List graph_as_matrix(SEXP phase_type_graph)\n",
      "   SEXP matrix_as_graph(NumericVector IPV, NumericMatrix SIM, Nullable <NumericMatrix> rewards = R_NilValue)\n",
      "   SEXP clone_graph(SEXP phase_type_graph)\n",
      "   List graph_as_dph_matrix(SEXP phase_type_graph)\n",
      "   SEXP reward_transform(SEXP phase_type_graph, NumericVector rewards)\n",
      "   SEXP dph_reward_transform(SEXP phase_type_graph, IntegerVector rewards)\n",
      "   NumericVector normalize_graph(SEXP phase_type_graph)\n",
      "   NumericVector normalize_dph_graph(SEXP phase_type_graph)\n",
      "   NumericVector expected_waiting_time(SEXP phase_type_graph, Nullable <NumericVector> rewards = R_NilValue)\n",
      "   NumericVector expected_residence_time(SEXP phase_type_graph, Nullable <NumericVector> rewards = R_NilValue)\n",
      "   NumericVector dph_expected_visits(SEXP phase_type_graph, Nullable <NumericVector> rewards = R_NilValue)\n",
      "   NumericVector moments(SEXP phase_type_graph, int power, Nullable <NumericVector> rewards = R_NilValue)\n",
      "   double expectation(SEXP phase_type_graph, Nullable <NumericVector> rewards = R_NilValue)\n",
      "   double variance(SEXP phase_type_graph, Nullable <NumericVector> rewards = R_NilValue)\n",
      "   double covariance(SEXP phase_type_graph, NumericVector rewards1, NumericVector rewards2)\n",
      "   double dph_expectation(SEXP phase_type_graph, Nullable <NumericVector> rewards = R_NilValue)\n",
      "   double dph_variance(SEXP phase_type_graph, Nullable <NumericVector> rewards = R_NilValue)\n",
      "   double dph_covariance(SEXP phase_type_graph, NumericVector rewards1, NumericVector rewards2)\n",
      "   bool is_graph_acyclic(SEXP phase_type_graph)\n",
      "   double defect(SEXP phase_type_graph)\n",
      "   NumericVector rph(int n, SEXP phase_type_graph, Nullable <NumericVector> rewards = R_NilValue)\n",
      "   NumericVector dph(NumericVector x, SEXP phase_type_graph, int granularity = 0)\n",
      "   NumericVector pph(NumericVector q, SEXP phase_type_graph, int granularity = 0)\n",
      "   NumericVector stop_probability(SEXP phase_type_graph, double time, int granularity = 0)\n",
      "   NumericVector accumulated_visiting_time(SEXP phase_type_graph, double time, int granularity = 0)\n",
      "   NumericMatrix rmph(int n, SEXP phase_type_graph, NumericMatrix rewards)\n",
      "   NumericVector random_sample_stop_vertex(int n, SEXP phase_type_graph, double time)\n",
      "   NumericVector rdph(int n, SEXP phase_type_graph, Nullable <NumericVector> rewards = R_NilValue)\n",
      "   NumericVector ddph(IntegerVector x, SEXP phase_type_graph)\n",
      "   NumericVector pdph(IntegerVector q, SEXP phase_type_graph)\n",
      "   NumericVector dph_stop_probability(SEXP phase_type_graph, int jumps)\n",
      "   NumericVector dph_accumulated_visits(SEXP phase_type_graph, int jumps)\n",
      "   NumericMatrix rmdph(int n, SEXP phase_type_graph, NumericMatrix rewards)\n",
      "   NumericVector dph_random_sample_stop_vertex(int n, SEXP phase_type_graph, int jumps)\n",
      "   SEXP distribution_context(SEXP phase_type_graph, int granularity = 0)\n",
      "   void distribution_context_step(SEXP probability_distribution_context)\n",
      "   List distribution_context_state(SEXP probability_distribution_context)\n",
      "   NumericVector distribution_context_stop_probability(SEXP probability_distribution_context)\n",
      "   NumericVector distribution_context_accumulated_visiting_time(SEXP probability_distribution_context)\n",
      "   SEXP dph_distribution_context(SEXP phase_type_graph)\n",
      "   void dph_distribution_context_step(SEXP probability_distribution_context)\n",
      "   List dph_distribution_context_state(SEXP probability_distribution_context)\n",
      "   NumericVector dph_distribution_context_stop_probability(SEXP probability_distribution_context)\n",
      "   NumericVector dph_distribution_context_accumulated_visits(SEXP probability_distribution_context)\n",
      "\n",
      "/workspaces/PtDAlgorithms/src/RcppExports.cpp updated.\n",
      "/workspaces/PtDAlgorithms/R/RcppExports.R updated.\n"
     ]
    },
    {
     "name": "stderr",
     "output_type": "stream",
     "text": [
      "\u001b[36mℹ\u001b[39m Re-compiling \u001b[34m\u001b[34mptdalgorithms\u001b[34m\u001b[39m (debug build)\n",
      "\n"
     ]
    },
    {
     "name": "stdout",
     "output_type": "stream",
     "text": [
      "\u001b[36m──\u001b[39m \u001b[36mR CMD INSTALL\u001b[39m \u001b[36m───────────────────────────────────────────────────────────────\u001b[39m\n",
      "* installing *source* package ‘ptdalgorithms’ ...\n",
      "** using staged installation\n",
      "** libs\n",
      "x86_64-conda-linux-gnu-c++ -std=gnu++14 -I\"/opt/conda/lib/R/include\" -DNDEBUG  -I'/opt/conda/lib/R/library/Rcpp/include' -DNDEBUG -D_FORTIFY_SOURCE=2 -O2 -isystem /opt/conda/include -I/opt/conda/include -Wl,-rpath-link,/opt/conda/lib  -I../api/cpp -I../api/c -Ic/ -Icpp/ -fpic  -fvisibility-inlines-hidden  -fmessage-length=0 -march=nocona -mtune=haswell -ftree-vectorize -fPIC -fstack-protector-strong -fno-plt -O2 -ffunction-sections -pipe -isystem /opt/conda/include -fdebug-prefix-map=/home/builder/r-4.2.0/miniconda/envs/r-4.2.0/conda-bld/r-base_1653520836469/work=/usr/local/src/conda/r-base-4.2.0 -fdebug-prefix-map=/opt/conda=/usr/local/src/conda-prefix  -UNDEBUG -Wall -pedantic -g -O0 -fdiagnostics-color=always -c RcppExports.cpp -o RcppExports.o\n",
      "In file included from \u001b[01m\u001b[K/opt/conda/x86_64-conda-linux-gnu/include/c++/11.2.0/x86_64-conda-linux-gnu/bits/os_defines.h:39\u001b[m\u001b[K,\n",
      "                 from \u001b[01m\u001b[K/opt/conda/x86_64-conda-linux-gnu/include/c++/11.2.0/x86_64-conda-linux-gnu/bits/c++config.h:586\u001b[m\u001b[K,\n",
      "                 from \u001b[01m\u001b[K/opt/conda/x86_64-conda-linux-gnu/include/c++/11.2.0/cstdlib:41\u001b[m\u001b[K,\n",
      "                 from \u001b[01m\u001b[K/opt/conda/x86_64-conda-linux-gnu/include/c++/11.2.0/stdlib.h:36\u001b[m\u001b[K,\n",
      "                 from \u001b[01m\u001b[Kptdalgorithms_types.h:6\u001b[m\u001b[K,\n",
      "                 from \u001b[01m\u001b[KRcppExports.cpp:4\u001b[m\u001b[K:\n",
      "\u001b[01m\u001b[K/opt/conda/x86_64-conda-linux-gnu/sysroot/usr/include/features.h:330:4:\u001b[m\u001b[K \u001b[01;35m\u001b[Kwarning: \u001b[m\u001b[K#warning _FORTIFY_SOURCE requires compiling with optimization (-O) [\u001b[01;35m\u001b[K-Wcpp\u001b[m\u001b[K]\n",
      "  330 | #  \u001b[01;35m\u001b[Kwarning\u001b[m\u001b[K _FORTIFY_SOURCE requires compiling with optimization (-O)\n",
      "      |    \u001b[01;35m\u001b[K^~~~~~~\u001b[m\u001b[K\n",
      "x86_64-conda-linux-gnu-c++ -std=gnu++14 -I\"/opt/conda/lib/R/include\" -DNDEBUG  -I'/opt/conda/lib/R/library/Rcpp/include' -DNDEBUG -D_FORTIFY_SOURCE=2 -O2 -isystem /opt/conda/include -I/opt/conda/include -Wl,-rpath-link,/opt/conda/lib  -I../api/cpp -I../api/c -Ic/ -Icpp/ -fpic  -fvisibility-inlines-hidden  -fmessage-length=0 -march=nocona -mtune=haswell -ftree-vectorize -fPIC -fstack-protector-strong -fno-plt -O2 -ffunction-sections -pipe -isystem /opt/conda/include -fdebug-prefix-map=/home/builder/r-4.2.0/miniconda/envs/r-4.2.0/conda-bld/r-base_1653520836469/work=/usr/local/src/conda/r-base-4.2.0 -fdebug-prefix-map=/opt/conda=/usr/local/src/conda-prefix  -UNDEBUG -Wall -pedantic -g -O0 -fdiagnostics-color=always -c ptdalgorithms.cpp -o ptdalgorithms.o\n",
      "In file included from \u001b[01m\u001b[K/opt/conda/x86_64-conda-linux-gnu/include/c++/11.2.0/x86_64-conda-linux-gnu/bits/os_defines.h:39\u001b[m\u001b[K,\n",
      "                 from \u001b[01m\u001b[K/opt/conda/x86_64-conda-linux-gnu/include/c++/11.2.0/x86_64-conda-linux-gnu/bits/c++config.h:586\u001b[m\u001b[K,\n",
      "                 from \u001b[01m\u001b[K/opt/conda/x86_64-conda-linux-gnu/include/c++/11.2.0/climits:41\u001b[m\u001b[K,\n",
      "                 from \u001b[01m\u001b[Kptdalgorithms.cpp:40\u001b[m\u001b[K:\n",
      "\u001b[01m\u001b[K/opt/conda/x86_64-conda-linux-gnu/sysroot/usr/include/features.h:330:4:\u001b[m\u001b[K \u001b[01;35m\u001b[Kwarning: \u001b[m\u001b[K#warning _FORTIFY_SOURCE requires compiling with optimization (-O) [\u001b[01;35m\u001b[K-Wcpp\u001b[m\u001b[K]\n",
      "  330 | #  \u001b[01;35m\u001b[Kwarning\u001b[m\u001b[K _FORTIFY_SOURCE requires compiling with optimization (-O)\n",
      "      |    \u001b[01;35m\u001b[K^~~~~~~\u001b[m\u001b[K\n",
      "In file included from \u001b[01m\u001b[Kptdalgorithms.cpp:46\u001b[m\u001b[K:\n",
      "\u001b[01m\u001b[Kc/ptdalgorithms.c:\u001b[m\u001b[K In function '\u001b[01m\u001b[Kdouble* ptd_expected_residence_time(ptd_graph*, double*)\u001b[m\u001b[K':\n",
      "\u001b[01m\u001b[Kc/ptdalgorithms.c:3702:17:\u001b[m\u001b[K \u001b[01;35m\u001b[Kwarning: \u001b[m\u001b[Kcomparison of integer expressions of different signedness: '\u001b[01m\u001b[Kint\u001b[m\u001b[K' and '\u001b[01m\u001b[Ksize_t\u001b[m\u001b[K' {aka '\u001b[01m\u001b[Klong unsigned int\u001b[m\u001b[K'} [\u001b[01;35m\u001b[K-Wsign-compare\u001b[m\u001b[K]\n",
      " 3702 |         if (\u001b[01;35m\u001b[Kidx == start_vertex->index\u001b[m\u001b[K) {\n",
      "      |             \u001b[01;35m\u001b[K~~~~^~~~~~~~~~~~~~~~~~~~~~\u001b[m\u001b[K\n",
      "In file included from \u001b[01m\u001b[Kc/ptdalgorithms.h:1\u001b[m\u001b[K,\n",
      "                 from \u001b[01m\u001b[Kptdalgorithms_types.h:10\u001b[m\u001b[K,\n",
      "                 from \u001b[01m\u001b[Kptdalgorithms.cpp:42\u001b[m\u001b[K:\n",
      "\u001b[01m\u001b[Kc/ptdalgorithms.c:\u001b[m\u001b[K In function '\u001b[01m\u001b[Kint strongconnect2(ptd_vertex*)\u001b[m\u001b[K':\n",
      "\u001b[01m\u001b[Kc/../../api/c/ptdalgorithms.h:392:10:\u001b[m\u001b[K \u001b[01;35m\u001b[Kwarning: \u001b[m\u001b[K'\u001b[01m\u001b[K @ \u001b[m\u001b[K' directive output may be truncated writing 3 bytes into a region of size between 1 and 1024 [\u001b[01;35m\u001b[K-Wformat-truncation=\u001b[m\u001b[K]\n",
      "  392 |          \u001b[01;35m\u001b[K\"%s @ %s (%d)\"\u001b[m\u001b[K, error_formatted,          \\\n",
      "      |          \u001b[01;35m\u001b[K^~~~~~~~~~~~~~\u001b[m\u001b[K\n",
      "\u001b[01m\u001b[Kc/ptdalgorithms.c:651:17:\u001b[m\u001b[K \u001b[01;36m\u001b[Knote: \u001b[m\u001b[Kin expansion of macro '\u001b[01m\u001b[KDIE_ERROR\u001b[m\u001b[K'\n",
      "  651 |                 \u001b[01;36m\u001b[KDIE_ERROR\u001b[m\u001b[K(1, \"Stack is empty.\\n\");\n",
      "      |                 \u001b[01;36m\u001b[K^~~~~~~~~\u001b[m\u001b[K\n",
      "\u001b[01m\u001b[Kc/../../api/c/ptdalgorithms.h:392:13:\u001b[m\u001b[K \u001b[01;36m\u001b[Knote: \u001b[m\u001b[Kformat string is defined here\n",
      "  392 |          \"%s\u001b[01;36m\u001b[K @ \u001b[m\u001b[K%s (%d)\", error_formatted,          \\\n",
      "      |             \u001b[01;36m\u001b[K^~~\u001b[m\u001b[K\n",
      "\u001b[01m\u001b[Kc/../../api/c/ptdalgorithms.h:390:9:\u001b[m\u001b[K \u001b[01;36m\u001b[Knote: \u001b[m\u001b[K'\u001b[01m\u001b[Ksnprintf\u001b[m\u001b[K' output between 27 and 1050 bytes into a destination of size 1024\n",
      "  390 | \u001b[01;36m\u001b[Ksnprintf(error_formatted_line,                     \\\u001b[m\u001b[K\n",
      "      | \u001b[01;36m\u001b[K~~~~~~~~^~~~~~~~~~~~~~~~~~~~~~~~~~~~~~~~~~~~~~~~~~~~\u001b[m\u001b[K\n",
      "  391 | \u001b[01;36m\u001b[K         sizeof(error_formatted_line),             \\\u001b[m\u001b[K\n",
      "      |          \u001b[01;36m\u001b[K~~~~~~~~~~~~~~~~~~~~~~~~~~~~~~~~~~~~~~~~~~~\u001b[m\u001b[K\n",
      "  392 | \u001b[01;36m\u001b[K         \"%s @ %s (%d)\", error_formatted,          \\\u001b[m\u001b[K\n",
      "      |          \u001b[01;36m\u001b[K~~~~~~~~~~~~~~~~~~~~~~~~~~~~~~~~~~~~~~~~~~~\u001b[m\u001b[K\n",
      "  393 | \u001b[01;36m\u001b[K         __FILE__, __LINE__)\u001b[m\u001b[K;                      \\\n",
      "      |          \u001b[01;36m\u001b[K~~~~~~~~~~~~~~~~~~~\u001b[m\u001b[K\n",
      "\u001b[01m\u001b[Kc/ptdalgorithms.c:651:17:\u001b[m\u001b[K \u001b[01;36m\u001b[Knote: \u001b[m\u001b[Kin expansion of macro '\u001b[01m\u001b[KDIE_ERROR\u001b[m\u001b[K'\n",
      "  651 |                 \u001b[01;36m\u001b[KDIE_ERROR\u001b[m\u001b[K(1, \"Stack is empty.\\n\");\n",
      "      |                 \u001b[01;36m\u001b[K^~~~~~~~~\u001b[m\u001b[K\n",
      "\u001b[01m\u001b[Kc/ptdalgorithms.c:\u001b[m\u001b[K In function '\u001b[01m\u001b[Kptd_desc_reward_compute* ptd_graph_build_ex_absorbation_time_comp_graph_parameterized(ptd_desc_reward_compute_parameterized*)\u001b[m\u001b[K':\n",
      "\u001b[01m\u001b[Kc/../../api/c/ptdalgorithms.h:392:10:\u001b[m\u001b[K \u001b[01;35m\u001b[Kwarning: \u001b[m\u001b[K'\u001b[01m\u001b[K @ \u001b[m\u001b[K' directive output may be truncated writing 3 bytes into a region of size between 1 and 1024 [\u001b[01;35m\u001b[K-Wformat-truncation=\u001b[m\u001b[K]\n",
      "  392 |          \u001b[01;35m\u001b[K\"%s @ %s (%d)\"\u001b[m\u001b[K, error_formatted,          \\\n",
      "      |          \u001b[01;35m\u001b[K^~~~~~~~~~~~~~\u001b[m\u001b[K\n",
      "\u001b[01m\u001b[Kc/ptdalgorithms.c:3602:17:\u001b[m\u001b[K \u001b[01;36m\u001b[Knote: \u001b[m\u001b[Kin expansion of macro '\u001b[01m\u001b[KDIE_ERROR\u001b[m\u001b[K'\n",
      " 3602 |                 \u001b[01;36m\u001b[KDIE_ERROR\u001b[m\u001b[K(1, \"Unknown command\\n\");\n",
      "      |                 \u001b[01;36m\u001b[K^~~~~~~~~\u001b[m\u001b[K\n",
      "\u001b[01m\u001b[Kc/../../api/c/ptdalgorithms.h:392:13:\u001b[m\u001b[K \u001b[01;36m\u001b[Knote: \u001b[m\u001b[Kformat string is defined here\n",
      "  392 |          \"%s\u001b[01;36m\u001b[K @ \u001b[m\u001b[K%s (%d)\", error_formatted,          \\\n",
      "      |             \u001b[01;36m\u001b[K^~~\u001b[m\u001b[K\n",
      "\u001b[01m\u001b[Kc/../../api/c/ptdalgorithms.h:390:9:\u001b[m\u001b[K \u001b[01;36m\u001b[Knote: \u001b[m\u001b[K'\u001b[01m\u001b[Ksnprintf\u001b[m\u001b[K' output between 28 and 1051 bytes into a destination of size 1024\n",
      "  390 | \u001b[01;36m\u001b[Ksnprintf(error_formatted_line,                     \\\u001b[m\u001b[K\n",
      "      | \u001b[01;36m\u001b[K~~~~~~~~^~~~~~~~~~~~~~~~~~~~~~~~~~~~~~~~~~~~~~~~~~~~\u001b[m\u001b[K\n",
      "  391 | \u001b[01;36m\u001b[K         sizeof(error_formatted_line),             \\\u001b[m\u001b[K\n",
      "      |          \u001b[01;36m\u001b[K~~~~~~~~~~~~~~~~~~~~~~~~~~~~~~~~~~~~~~~~~~~\u001b[m\u001b[K\n",
      "  392 | \u001b[01;36m\u001b[K         \"%s @ %s (%d)\", error_formatted,          \\\u001b[m\u001b[K\n",
      "      |          \u001b[01;36m\u001b[K~~~~~~~~~~~~~~~~~~~~~~~~~~~~~~~~~~~~~~~~~~~\u001b[m\u001b[K\n",
      "  393 | \u001b[01;36m\u001b[K         __FILE__, __LINE__)\u001b[m\u001b[K;                      \\\n",
      "      |          \u001b[01;36m\u001b[K~~~~~~~~~~~~~~~~~~~\u001b[m\u001b[K\n",
      "\u001b[01m\u001b[Kc/ptdalgorithms.c:3602:17:\u001b[m\u001b[K \u001b[01;36m\u001b[Knote: \u001b[m\u001b[Kin expansion of macro '\u001b[01m\u001b[KDIE_ERROR\u001b[m\u001b[K'\n",
      " 3602 |                 \u001b[01;36m\u001b[KDIE_ERROR\u001b[m\u001b[K(1, \"Unknown command\\n\");\n",
      "      |                 \u001b[01;36m\u001b[K^~~~~~~~~\u001b[m\u001b[K\n",
      "\u001b[01m\u001b[Kptdalgorithms.cpp:\u001b[m\u001b[K In function '\u001b[01m\u001b[KSEXPREC* get_first_list_entry(SEXP, std::string)\u001b[m\u001b[K':\n",
      "\u001b[01m\u001b[Kptdalgorithms.cpp:1358:43:\u001b[m\u001b[K \u001b[01;35m\u001b[Kwarning: \u001b[m\u001b[K'\u001b[01m\u001b[K%s\u001b[m\u001b[K' directive output may be truncated writing up to 1023 bytes into a region of size 1003 [\u001b[01;35m\u001b[K-Wformat-truncation=\u001b[m\u001b[K]\n",
      " 1358 |                     \"Failed: When finding \u001b[01;35m\u001b[K%s\u001b[m\u001b[K of a list-type of vertices, list can only contain 1 vertex, it contained %i. Did you use [] as lookup instead of [[]]?\",\n",
      "      |                                           \u001b[01;35m\u001b[K^~\u001b[m\u001b[K\n",
      " 1359 |                     \u001b[32m\u001b[Kmessage\u001b[m\u001b[K,\n",
      "      |                     \u001b[32m\u001b[K~~~~~~~\u001b[m\u001b[K                \n",
      "\u001b[01m\u001b[Kptdalgorithms.cpp:1358:21:\u001b[m\u001b[K \u001b[01;36m\u001b[Knote: \u001b[m\u001b[Kusing the range [-2147483648, 2147483647] for directive argument\n",
      " 1358 |                     \u001b[01;36m\u001b[K\"Failed: When finding %s of a list-type of vertices, list can only contain 1 vertex, it contained %i. Did you use [] as lookup instead of [[]]?\"\u001b[m\u001b[K,\n",
      "      |                     \u001b[01;36m\u001b[K^~~~~~~~~~~~~~~~~~~~~~~~~~~~~~~~~~~~~~~~~~~~~~~~~~~~~~~~~~~~~~~~~~~~~~~~~~~~~~~~~~~~~~~~~~~~~~~~~~~~~~~~~~~~~~~~~~~~~~~~~~~~~~~~~~~~~~~~~~~~~~~~\u001b[m\u001b[K\n",
      "\u001b[01m\u001b[Kptdalgorithms.cpp:1355:21:\u001b[m\u001b[K \u001b[01;36m\u001b[Knote: \u001b[m\u001b[K'\u001b[01m\u001b[Ksnprintf\u001b[m\u001b[K' output between 140 and 1173 bytes into a destination of size 1024\n",
      " 1355 |             \u001b[01;36m\u001b[Ksnprintf(\u001b[m\u001b[K\n",
      "      |             \u001b[01;36m\u001b[K~~~~~~~~^\u001b[m\u001b[K\n",
      " 1356 | \u001b[01;36m\u001b[K                    message,\u001b[m\u001b[K\n",
      "      |                     \u001b[01;36m\u001b[K~~~~~~~~\u001b[m\u001b[K\n",
      " 1357 | \u001b[01;36m\u001b[K                    1024,\u001b[m\u001b[K\n",
      "      |                     \u001b[01;36m\u001b[K~~~~~\u001b[m\u001b[K\n",
      " 1358 | \u001b[01;36m\u001b[K                    \"Failed: When finding %s of a list-type of vertices, list can only contain 1 vertex, it contained %i. Did you use [] as lookup instead of [[]]?\",\u001b[m\u001b[K\n",
      "      |                     \u001b[01;36m\u001b[K~~~~~~~~~~~~~~~~~~~~~~~~~~~~~~~~~~~~~~~~~~~~~~~~~~~~~~~~~~~~~~~~~~~~~~~~~~~~~~~~~~~~~~~~~~~~~~~~~~~~~~~~~~~~~~~~~~~~~~~~~~~~~~~~~~~~~~~~~~~~~~~~~\u001b[m\u001b[K\n",
      " 1359 | \u001b[01;36m\u001b[K                    message,\u001b[m\u001b[K\n",
      "      |                     \u001b[01;36m\u001b[K~~~~~~~~\u001b[m\u001b[K\n",
      " 1360 | \u001b[01;36m\u001b[K                    (int) list.size()\u001b[m\u001b[K\n",
      "      |                     \u001b[01;36m\u001b[K~~~~~~~~~~~~~~~~~\u001b[m\u001b[K\n",
      " 1361 | \u001b[01;36m\u001b[K            )\u001b[m\u001b[K;\n",
      "      |             \u001b[01;36m\u001b[K~\u001b[m\u001b[K        \n",
      "\u001b[01m\u001b[Kptdalgorithms.cpp:1355:21:\u001b[m\u001b[K \u001b[01;35m\u001b[Kwarning: \u001b[m\u001b[K'\u001b[01m\u001b[Ksnprintf\u001b[m\u001b[K' argument 4 overlaps destination object '\u001b[01m\u001b[Kmessage\u001b[m\u001b[K' [\u001b[01;35m\u001b[K-Wrestrict\u001b[m\u001b[K]\n",
      "\u001b[01m\u001b[Kptdalgorithms.cpp:1353:18:\u001b[m\u001b[K \u001b[01;36m\u001b[Knote: \u001b[m\u001b[Kdestination object referenced by '\u001b[01m\u001b[Krestrict\u001b[m\u001b[K'-qualified argument 1 was declared here\n",
      " 1353 |             char \u001b[01;36m\u001b[Kmessage\u001b[m\u001b[K[1024];\n",
      "      |                  \u001b[01;36m\u001b[K^~~~~~~\u001b[m\u001b[K\n",
      "x86_64-conda-linux-gnu-c++ -std=gnu++14 -shared -L/opt/conda/lib/R/lib -Wl,-O2 -Wl,--sort-common -Wl,--as-needed -Wl,-z,relro -Wl,-z,now -Wl,--disable-new-dtags -Wl,--gc-sections -Wl,-rpath,/opt/conda/lib -Wl,-rpath-link,/opt/conda/lib -L/opt/conda/lib -Wl,-rpath-link,/opt/conda/lib -Wl,-rpath-link,/opt/conda/lib -o ptdalgorithms.so RcppExports.o ptdalgorithms.o -L/opt/conda/lib/R/lib -lR\n",
      "installing to /tmp/RtmpZQ9XVv/devtools_install_4626154fc1ad/00LOCK-PtDAlgorithms/00new/ptdalgorithms/libs\n",
      "** checking absolute paths in shared objects and dynamic libraries\n",
      "* DONE (ptdalgorithms)\n"
     ]
    },
    {
     "name": "stderr",
     "output_type": "stream",
     "text": [
      "Warning message:\n",
      "“package ‘testthat’ was built under R version 4.2.3”\n"
     ]
    }
   ],
   "source": [
    "library(devtools)\n",
    "\n",
    "#remove.packages(\"ptdalgorithms\")\n",
    "# #devtools::install_github(\"kaspermunch/PtDAlgorithms\")\n",
    "# devtools::install_local('../PtDAlgorithms', quiet=FALSE)\n",
    "#devtools::install_local()\n",
    "devtools::load_all(path=\"./\", quiet=FALSE, recompile=TRUE)\n",
    "\n",
    "library(ptdalgorithms)"
   ]
  },
  {
   "cell_type": "markdown",
   "id": "cce207ef-1da4-4b67-94d4-855eff9383a7",
   "metadata": {},
   "source": [
    "## Rebuild Rcpp interface"
   ]
  },
  {
   "cell_type": "code",
   "execution_count": null,
   "id": "0d0dd83f-38f7-4b66-885b-4e354504fe59",
   "metadata": {
    "vscode": {
     "languageId": "r"
    }
   },
   "outputs": [],
   "source": [
    "Rcpp::compileAttributes() "
   ]
  },
  {
   "cell_type": "markdown",
   "id": "05104dbb-49c4-4ca3-aa9c-552361d3c883",
   "metadata": {},
   "source": [
    "## Generate documentation"
   ]
  },
  {
   "cell_type": "code",
   "execution_count": 19,
   "id": "21b5c7c0-af6d-4518-8b81-e539b03bf503",
   "metadata": {
    "vscode": {
     "languageId": "r"
    }
   },
   "outputs": [
    {
     "name": "stderr",
     "output_type": "stream",
     "text": [
      "also installing the dependency ‘rex’\n",
      "\n",
      "\n",
      "Updating HTML index of packages in '.Library'\n",
      "\n",
      "Making 'packages.html' ...\n",
      " done\n",
      "\n"
     ]
    }
   ],
   "source": [
    "install.packages(\"roxygen2md\")"
   ]
  },
  {
   "cell_type": "code",
   "execution_count": 17,
   "id": "5792b789",
   "metadata": {
    "vscode": {
     "languageId": "r"
    }
   },
   "outputs": [
    {
     "name": "stderr",
     "output_type": "stream",
     "text": [
      "\u001b[1m\u001b[22m\u001b[36mℹ\u001b[39m Loading \u001b[34mptdalgorithms\u001b[39m\n"
     ]
    }
   ],
   "source": [
    "library(roxygen2)\n",
    "Rcpp::compileAttributes()           # this updates the Rcpp layer from C++ to R\n",
    "roxygen2::roxygenize(roclets=\"rd\")  # this updates the documentation based on roxygen comments"
   ]
  },
  {
   "cell_type": "code",
   "execution_count": 20,
   "id": "4846d3b9-b5ef-412e-b09e-6b1808fbd2fe",
   "metadata": {
    "vscode": {
     "languageId": "r"
    }
   },
   "outputs": [
    {
     "name": "stderr",
     "output_type": "stream",
     "text": [
      "\u001b[32m✔\u001b[39m Setting active project to \u001b[34m\"/Users/kmt/google_drive/projects/phasestype/PtDAlgorithms\"\u001b[39m.\n",
      "\n",
      "\u001b[33mℹ\u001b[39m Running \u001b[90m`devtools::document()`\u001b[39m\n",
      "\u001b[1m\u001b[22m\u001b[36mℹ\u001b[39m Updating \u001b[34mptdalgorithms\u001b[39m documentation\n",
      "\u001b[1m\u001b[22m\u001b[36mℹ\u001b[39m Loading \u001b[34mptdalgorithms\u001b[39m\n",
      "\u001b[1m\u001b[22m\u001b[31m✖\u001b[39m Skipping \u001b[34mNAMESPACE\u001b[39m\n",
      "\u001b[36mℹ\u001b[39m It already exists and was not generated by roxygen2.\n",
      "\u001b[31m•\u001b[39m Review the changes carefully\n",
      "\u001b[31m•\u001b[39m Commit the changes to version control\n",
      "\u001b[31m•\u001b[39m Run \u001b[90m`roxygen2md::roxygen2md()`\u001b[39m with a stricter \u001b[90m`scope`\u001b[39m argument\n",
      "\u001b[32m✔\u001b[39m Setting active project to \u001b[34m\"<no active project>\"\u001b[39m.\n",
      "\n"
     ]
    }
   ],
   "source": [
    "roxygen2md::roxygen2md(scope = \"none\")          # \"none\" only adds list(markdown = TRUE) to the Roxygen field in DESCRIPTION"
   ]
  },
  {
   "cell_type": "code",
   "execution_count": 21,
   "id": "459f4246-023f-482e-979f-711b4fe26cbf",
   "metadata": {
    "vscode": {
     "languageId": "r"
    }
   },
   "outputs": [
    {
     "name": "stderr",
     "output_type": "stream",
     "text": [
      "\u001b[32m✔\u001b[39m Setting active project to \u001b[34m\"/Users/kmt/google_drive/projects/phasestype/PtDAlgorithms\"\u001b[39m.\n",
      "\n",
      "\u001b[33mℹ\u001b[39m Running \u001b[90m`devtools::document()`\u001b[39m\n",
      "\u001b[1m\u001b[22m\u001b[36mℹ\u001b[39m Updating \u001b[34mptdalgorithms\u001b[39m documentation\n",
      "\u001b[1m\u001b[22m\u001b[36mℹ\u001b[39m Loading \u001b[34mptdalgorithms\u001b[39m\n",
      "\u001b[1m\u001b[22m\u001b[31m✖\u001b[39m Skipping \u001b[34mNAMESPACE\u001b[39m\n",
      "\u001b[36mℹ\u001b[39m It already exists and was not generated by roxygen2.\n",
      "\u001b[31m•\u001b[39m Review the changes carefully\n",
      "\u001b[31m•\u001b[39m Commit the changes to version control\n",
      "\u001b[31m•\u001b[39m Run \u001b[90m`roxygen2md::roxygen2md()`\u001b[39m with a stricter \u001b[90m`scope`\u001b[39m argument\n",
      "\u001b[32m✔\u001b[39m Setting active project to \u001b[34m\"<no active project>\"\u001b[39m.\n",
      "\n"
     ]
    }
   ],
   "source": [
    "roxygen2md::roxygen2md(scope = \"simple\")        # \"simple\" only converts elements like \\code{} and \\emph{}"
   ]
  },
  {
   "cell_type": "code",
   "execution_count": 22,
   "id": "35486fd9-48b9-4590-9e04-84f327b09e91",
   "metadata": {
    "vscode": {
     "languageId": "r"
    }
   },
   "outputs": [
    {
     "name": "stderr",
     "output_type": "stream",
     "text": [
      "\u001b[32m✔\u001b[39m Setting active project to \u001b[34m\"/Users/kmt/google_drive/projects/phasestype/PtDAlgorithms\"\u001b[39m.\n",
      "\n",
      "\u001b[33mℹ\u001b[39m Running \u001b[90m`devtools::document()`\u001b[39m\n",
      "\u001b[1m\u001b[22m\u001b[36mℹ\u001b[39m Updating \u001b[34mptdalgorithms\u001b[39m documentation\n",
      "\u001b[1m\u001b[22m\u001b[36mℹ\u001b[39m Loading \u001b[34mptdalgorithms\u001b[39m\n",
      "\u001b[1m\u001b[22m\u001b[31m✖\u001b[39m Skipping \u001b[34mNAMESPACE\u001b[39m\n",
      "\u001b[36mℹ\u001b[39m It already exists and was not generated by roxygen2.\n",
      "\u001b[31m•\u001b[39m Review the changes carefully\n",
      "\u001b[31m•\u001b[39m Commit the changes to version control\n",
      "\u001b[32m✔\u001b[39m Setting active project to \u001b[34m\"<no active project>\"\u001b[39m.\n",
      "\n"
     ]
    }
   ],
   "source": [
    "roxygen2md::roxygen2md(scope = \"full\")          # \"full\" runs all conversions"
   ]
  },
  {
   "cell_type": "markdown",
   "id": "bda3bae2-1451-4521-8e72-94ea04182170",
   "metadata": {
    "vscode": {
     "languageId": "r"
    }
   },
   "source": [
    "## Testing"
   ]
  },
  {
   "cell_type": "code",
   "execution_count": 5,
   "id": "bfce48f0-53dd-4ad5-ac41-df71bf7d5966",
   "metadata": {
    "vscode": {
     "languageId": "r"
    }
   },
   "outputs": [],
   "source": [
    "source(\"./utils/plotting.R\")\n",
    "\n",
    "theme_set(theme_bw())\n",
    "despine <- theme(panel.border = element_blank(), panel.grid.major = element_blank(),\n",
    "panel.grid.minor = element_blank(), axis.line = element_line(colour = \"black\"),\n",
    "                # text=element_text(family=\"Arial\")\n",
    "                )"
   ]
  },
  {
   "cell_type": "code",
   "execution_count": 6,
   "id": "4ff54e88-a3fc-4587-a062-792b18315a6a",
   "metadata": {
    "vscode": {
     "languageId": "r"
    }
   },
   "outputs": [],
   "source": [
    "standard_coalescent <- function(n, size, graph=NULL, edge_trans=NULL, epoque=0) {\n",
    "\n",
    "    state_vector_length <- n + 1\n",
    "\n",
    "    if (is.null(graph)) {\n",
    "    \n",
    "        graph <- create_graph(state_vector_length)\n",
    "        starting_vertex <- vertex_at(graph, 1)\n",
    "        initial_state <- c(rep(0, n), epoque)\n",
    "        initial_state[1] <- n\n",
    "        \n",
    "        add_edge(\n",
    "          starting_vertex,\n",
    "          create_vertex(graph, initial_state),\n",
    "          1\n",
    "        )\n",
    "        index <- 2\n",
    "        \n",
    "    } else {\n",
    "        nr_states <- vertices_length(graph)\n",
    "        for (i in 2:(nr_states-1)) {\n",
    "            if (is.nan(edge_trans[i-1])) {\n",
    "                next;\n",
    "            }\n",
    "            vertex <- vertex_at(graph, i)\n",
    "            state <- vertex$state\n",
    "            sister_state <- state\n",
    "            sister_state[length(sister_state)] <- epoque\n",
    "            add_edge(\n",
    "              vertex,\n",
    "              find_or_create_vertex(graph, sister_state),\n",
    "              edge_trans[i-1], c(edge_trans[i-1]) # -1 becuase first index is 2 and first element of edge_trans is 1\n",
    "            )\n",
    "        }\n",
    "        index <- nr_states + 1\n",
    "    }\n",
    "\n",
    "    while (index <= vertices_length(graph)) {\n",
    "      vertex <- vertex_at(graph, index)\n",
    "\n",
    "        # loop over all classes of lineages\n",
    "      for (i in 1:n) {\n",
    "        for (j in i:n) {\n",
    "          state <- vertex$state\n",
    "\n",
    "          # if same class, there need to be at least two to coalesce\n",
    "          if (i == j) {\n",
    "            if (state[i] < 2) {\n",
    "              next; # an absorbing state that is not the last state\n",
    "            }\n",
    "            # coal rate\n",
    "            rate <- state[i] * (state[i] - 1) / 2\n",
    "          } else {\n",
    "            # else at least one in each class to coalesce\n",
    "            if (state[i] < 1 || state[j] < 1) {\n",
    "              next;\n",
    "            }\n",
    "            # number of combinations\n",
    "            rate <- state[i] * state[j]\n",
    "          }\n",
    "\n",
    "          rate = rate / size\n",
    "            \n",
    "          # copy state\n",
    "          child_state <- state\n",
    "            \n",
    "          # update child state\n",
    "          child_state[i] <- child_state[i] - 1\n",
    "          child_state[j] <- child_state[j] - 1\n",
    "          child_state[i+j] <- child_state[i+j] + 1\n",
    "\n",
    "          add_edge(\n",
    "              vertex,\n",
    "              find_or_create_vertex(graph, child_state),\n",
    "              rate, c(rate)\n",
    "            )\n",
    "        }\n",
    "      }\n",
    "        \n",
    "      index <- index + 1\n",
    "    }\n",
    "    if (epoque == 0) {\n",
    "        return(graph)\n",
    "    }\n",
    "}\n",
    "\n",
    "r_add_epoque <- function(n, size, graph, epoque_trans, epoque)\n",
    "    return(standard_coalescent(n, size, graph, epoque_trans, epoque))"
   ]
  },
  {
   "cell_type": "code",
   "execution_count": 7,
   "id": "809fec86-8097-4164-b725-44137a2962df",
   "metadata": {
    "vscode": {
     "languageId": "r"
    }
   },
   "outputs": [],
   "source": [
    "n_samples <- 4"
   ]
  },
  {
   "cell_type": "code",
   "execution_count": 8,
   "id": "0af55d6e-4672-477a-973d-5808950abdb8",
   "metadata": {
    "vscode": {
     "languageId": "r"
    }
   },
   "outputs": [
    {
     "data": {
      "text/html": [
       "<dl>\n",
       "\t<dt>$states</dt>\n",
       "\t\t<dd><table class=\"dataframe\">\n",
       "<caption>A matrix: 4 × 5 of type dbl</caption>\n",
       "<tbody>\n",
       "\t<tr><td>4</td><td>0</td><td>0</td><td>0</td><td>0</td></tr>\n",
       "\t<tr><td>2</td><td>1</td><td>0</td><td>0</td><td>0</td></tr>\n",
       "\t<tr><td>0</td><td>2</td><td>0</td><td>0</td><td>0</td></tr>\n",
       "\t<tr><td>1</td><td>0</td><td>1</td><td>0</td><td>0</td></tr>\n",
       "</tbody>\n",
       "</table>\n",
       "</dd>\n",
       "\t<dt>$SIM</dt>\n",
       "\t\t<dd><table class=\"dataframe\">\n",
       "<caption>A matrix: 4 × 4 of type dbl</caption>\n",
       "<tbody>\n",
       "\t<tr><td>-6</td><td> 6</td><td> 0</td><td> 0</td></tr>\n",
       "\t<tr><td> 0</td><td>-3</td><td> 1</td><td> 2</td></tr>\n",
       "\t<tr><td> 0</td><td> 0</td><td>-1</td><td> 0</td></tr>\n",
       "\t<tr><td> 0</td><td> 0</td><td> 0</td><td>-1</td></tr>\n",
       "</tbody>\n",
       "</table>\n",
       "</dd>\n",
       "\t<dt>$IPV</dt>\n",
       "\t\t<dd><style>\n",
       ".list-inline {list-style: none; margin:0; padding: 0}\n",
       ".list-inline>li {display: inline-block}\n",
       ".list-inline>li:not(:last-child)::after {content: \"\\00b7\"; padding: 0 .5ex}\n",
       "</style>\n",
       "<ol class=list-inline><li>1</li><li>0</li><li>0</li><li>0</li></ol>\n",
       "</dd>\n",
       "\t<dt>$indices</dt>\n",
       "\t\t<dd><style>\n",
       ".list-inline {list-style: none; margin:0; padding: 0}\n",
       ".list-inline>li {display: inline-block}\n",
       ".list-inline>li:not(:last-child)::after {content: \"\\00b7\"; padding: 0 .5ex}\n",
       "</style>\n",
       "<ol class=list-inline><li>2</li><li>3</li><li>4</li><li>5</li></ol>\n",
       "</dd>\n",
       "</dl>\n"
      ],
      "text/latex": [
       "\\begin{description}\n",
       "\\item[\\$states] A matrix: 4 × 5 of type dbl\n",
       "\\begin{tabular}{lllll}\n",
       "\t 4 & 0 & 0 & 0 & 0\\\\\n",
       "\t 2 & 1 & 0 & 0 & 0\\\\\n",
       "\t 0 & 2 & 0 & 0 & 0\\\\\n",
       "\t 1 & 0 & 1 & 0 & 0\\\\\n",
       "\\end{tabular}\n",
       "\n",
       "\\item[\\$SIM] A matrix: 4 × 4 of type dbl\n",
       "\\begin{tabular}{llll}\n",
       "\t -6 &  6 &  0 &  0\\\\\n",
       "\t  0 & -3 &  1 &  2\\\\\n",
       "\t  0 &  0 & -1 &  0\\\\\n",
       "\t  0 &  0 &  0 & -1\\\\\n",
       "\\end{tabular}\n",
       "\n",
       "\\item[\\$IPV] \\begin{enumerate*}\n",
       "\\item 1\n",
       "\\item 0\n",
       "\\item 0\n",
       "\\item 0\n",
       "\\end{enumerate*}\n",
       "\n",
       "\\item[\\$indices] \\begin{enumerate*}\n",
       "\\item 2\n",
       "\\item 3\n",
       "\\item 4\n",
       "\\item 5\n",
       "\\end{enumerate*}\n",
       "\n",
       "\\end{description}\n"
      ],
      "text/markdown": [
       "$states\n",
       ":   \n",
       "A matrix: 4 × 5 of type dbl\n",
       "\n",
       "| 4 | 0 | 0 | 0 | 0 |\n",
       "| 2 | 1 | 0 | 0 | 0 |\n",
       "| 0 | 2 | 0 | 0 | 0 |\n",
       "| 1 | 0 | 1 | 0 | 0 |\n",
       "\n",
       "\n",
       "$SIM\n",
       ":   \n",
       "A matrix: 4 × 4 of type dbl\n",
       "\n",
       "| -6 |  6 |  0 |  0 |\n",
       "|  0 | -3 |  1 |  2 |\n",
       "|  0 |  0 | -1 |  0 |\n",
       "|  0 |  0 |  0 | -1 |\n",
       "\n",
       "\n",
       "$IPV\n",
       ":   1. 1\n",
       "2. 0\n",
       "3. 0\n",
       "4. 0\n",
       "\n",
       "\n",
       "\n",
       "$indices\n",
       ":   1. 2\n",
       "2. 3\n",
       "3. 4\n",
       "4. 5\n",
       "\n",
       "\n",
       "\n",
       "\n",
       "\n"
      ],
      "text/plain": [
       "$states\n",
       "     [,1] [,2] [,3] [,4] [,5]\n",
       "[1,]    4    0    0    0    0\n",
       "[2,]    2    1    0    0    0\n",
       "[3,]    0    2    0    0    0\n",
       "[4,]    1    0    1    0    0\n",
       "\n",
       "$SIM\n",
       "     [,1] [,2] [,3] [,4]\n",
       "[1,]   -6    6    0    0\n",
       "[2,]    0   -3    1    2\n",
       "[3,]    0    0   -1    0\n",
       "[4,]    0    0    0   -1\n",
       "\n",
       "$IPV\n",
       "[1] 1 0 0 0\n",
       "\n",
       "$indices\n",
       "[1] 2 3 4 5\n"
      ]
     },
     "metadata": {},
     "output_type": "display_data"
    }
   ],
   "source": [
    "graph <- standard_coalescent(n_samples, 1)\n",
    "graph_as_matrix(graph)"
   ]
  },
  {
   "cell_type": "code",
   "execution_count": 27,
   "id": "39f5d355",
   "metadata": {
    "vscode": {
     "languageId": "r"
    }
   },
   "outputs": [
    {
     "data": {
      "text/html": [
       "<style>\n",
       ".list-inline {list-style: none; margin:0; padding: 0}\n",
       ".list-inline>li {display: inline-block}\n",
       ".list-inline>li:not(:last-child)::after {content: \"\\00b7\"; padding: 0 .5ex}\n",
       "</style>\n",
       "<ol class=list-inline><li>1.5</li><li>1.5</li><li>1.33333333333333</li><li>1</li><li>1</li><li>0</li></ol>\n"
      ],
      "text/latex": [
       "\\begin{enumerate*}\n",
       "\\item 1.5\n",
       "\\item 1.5\n",
       "\\item 1.33333333333333\n",
       "\\item 1\n",
       "\\item 1\n",
       "\\item 0\n",
       "\\end{enumerate*}\n"
      ],
      "text/markdown": [
       "1. 1.5\n",
       "2. 1.5\n",
       "3. 1.33333333333333\n",
       "4. 1\n",
       "5. 1\n",
       "6. 0\n",
       "\n",
       "\n"
      ],
      "text/plain": [
       "[1] 1.500000 1.500000 1.333333 1.000000 1.000000 0.000000"
      ]
     },
     "metadata": {},
     "output_type": "display_data"
    }
   ],
   "source": [
    "expected_waiting_time(graph)"
   ]
  },
  {
   "cell_type": "code",
   "execution_count": 28,
   "id": "8d92800e",
   "metadata": {
    "vscode": {
     "languageId": "r"
    }
   },
   "outputs": [
    {
     "data": {
      "text/html": [
       "<style>\n",
       ".list-inline {list-style: none; margin:0; padding: 0}\n",
       ".list-inline>li {display: inline-block}\n",
       ".list-inline>li:not(:last-child)::after {content: \"\\00b7\"; padding: 0 .5ex}\n",
       "</style>\n",
       "<ol class=list-inline><li>0</li><li>6</li><li>1.33333333333333</li><li>-2.5</li><li>-3.33333333333333</li><li>0</li></ol>\n"
      ],
      "text/latex": [
       "\\begin{enumerate*}\n",
       "\\item 0\n",
       "\\item 6\n",
       "\\item 1.33333333333333\n",
       "\\item -2.5\n",
       "\\item -3.33333333333333\n",
       "\\item 0\n",
       "\\end{enumerate*}\n"
      ],
      "text/markdown": [
       "1. 0\n",
       "2. 6\n",
       "3. 1.33333333333333\n",
       "4. -2.5\n",
       "5. -3.33333333333333\n",
       "6. 0\n",
       "\n",
       "\n"
      ],
      "text/plain": [
       "[1]  0.000000  6.000000  1.333333 -2.500000 -3.333333  0.000000"
      ]
     },
     "metadata": {},
     "output_type": "display_data"
    }
   ],
   "source": [
    "expected_residence_time(graph)"
   ]
  },
  {
   "cell_type": "code",
   "execution_count": null,
   "id": "04bd692d-658e-4cea-9556-22fe13ff41a5",
   "metadata": {
    "vscode": {
     "languageId": "r"
    }
   },
   "outputs": [],
   "source": [
    "gam <- graph_as_matrix(graph)\n",
    "plot_graph(gam, subgraphs=TRUE, rainbow=TRUE, size=c(8, 8), align=TRUE,\n",
    "           fontsize=14, ranksep=1, nodesep=0.5,          \n",
    "           subgraphfun=function(state) paste(state[-length(state)], collapse=\"\"))"
   ]
  },
  {
   "cell_type": "code",
   "execution_count": null,
   "id": "b8bff248-0bc5-4eb5-8083-a78730f38f03",
   "metadata": {
    "vscode": {
     "languageId": "r"
    }
   },
   "outputs": [],
   "source": [
    "stop_probability(graph, 1)\n",
    "accumulated_visiting_time(graph, 1)"
   ]
  },
  {
   "cell_type": "code",
   "execution_count": null,
   "id": "f7762405-1f98-412e-8795-e4523b8c0d82",
   "metadata": {
    "vscode": {
     "languageId": "r"
    }
   },
   "outputs": [],
   "source": [
    "x <- stop_probability(graph, 1)\n",
    "stop_probs <- x[2:(length(x)-1)]\n",
    "x <- accumulated_visiting_time(graph, 1)\n",
    "accum_v_time <- x[2:(length(x)-1)]\n",
    "epoque_trans_rates <- stop_probs / accum_v_time\n",
    "\n",
    "add_epoque(n_samples, 5, graph, epoque_trans_rates, 1)\n",
    "graph_as_matrix(graph)"
   ]
  },
  {
   "cell_type": "code",
   "execution_count": null,
   "id": "c81c5464-dbdf-42fe-8ad6-c40fab948edb",
   "metadata": {
    "vscode": {
     "languageId": "r"
    }
   },
   "outputs": [],
   "source": [
    "gam <- graph_as_matrix(graph)\n",
    "plot_graph(gam, subgraphs=TRUE, rainbow=TRUE, size=c(8, 8), align=TRUE,\n",
    "           fontsize=14, ranksep=1, nodesep=0.5,          \n",
    "           subgraphfun=function(state) paste(state[-length(state)], collapse=\"\"))"
   ]
  },
  {
   "cell_type": "code",
   "execution_count": null,
   "id": "81ae74e2-a45e-4201-8dd3-a0bfc8b7c2d7",
   "metadata": {
    "vscode": {
     "languageId": "r"
    }
   },
   "outputs": [],
   "source": [
    "stop_probability(graph, 1)\n",
    "accumulated_visiting_time(graph, 1)"
   ]
  },
  {
   "cell_type": "code",
   "execution_count": null,
   "id": "3ed223c6-3e05-469a-94b3-d52df6b99033",
   "metadata": {
    "vscode": {
     "languageId": "r"
    }
   },
   "outputs": [],
   "source": [
    "x <- stop_probability(graph, 1)\n",
    "stop_probs <- x[2:(length(x)-1)]\n",
    "x <- accumulated_visiting_time(graph, 1)\n",
    "accum_v_time <- x[2:(length(x)-1)]\n",
    "epoque_trans_rates <- stop_probs / accum_v_time\n",
    "\n",
    "add_epoque(n_samples, 10, graph, epoque_trans_rates, 2)\n",
    "graph_as_matrix(graph)"
   ]
  },
  {
   "cell_type": "code",
   "execution_count": null,
   "id": "fe994da5-6c98-4be9-972a-7f3d1761c79d",
   "metadata": {
    "vscode": {
     "languageId": "r"
    }
   },
   "outputs": [],
   "source": [
    "gam <- graph_as_matrix(graph)\n",
    "plot_graph(gam, subgraphs=TRUE, rainbow=TRUE, size=c(8, 8), align=TRUE,\n",
    "           fontsize=14, ranksep=1, nodesep=0.5,          \n",
    "           subgraphfun=function(state) paste(state[-length(state)], collapse=\"\"))"
   ]
  },
  {
   "cell_type": "code",
   "execution_count": null,
   "id": "9001f9bd-4fab-4eb6-b678-bdb48b87eb90",
   "metadata": {
    "vscode": {
     "languageId": "r"
    }
   },
   "outputs": [],
   "source": [
    "stop_probability(graph, 1)\n",
    "accumulated_visiting_time(graph, 1)"
   ]
  },
  {
   "cell_type": "code",
   "execution_count": null,
   "id": "8407b476-fd59-4f4e-90d8-058d906a1e3a",
   "metadata": {
    "vscode": {
     "languageId": "r"
    }
   },
   "outputs": [],
   "source": [
    "graph <- standard_coalescent(n_samples, 1)\n",
    "graph_as_matrix(graph)"
   ]
  },
  {
   "cell_type": "code",
   "execution_count": null,
   "id": "7865d84d",
   "metadata": {
    "vscode": {
     "languageId": "r"
    }
   },
   "outputs": [],
   "source": [
    "add_epoque(graph, 1/5, 1)"
   ]
  },
  {
   "cell_type": "code",
   "execution_count": null,
   "id": "7914c4e9",
   "metadata": {
    "vscode": {
     "languageId": "r"
    }
   },
   "outputs": [],
   "source": []
  }
 ],
 "metadata": {
  "kernelspec": {
   "display_name": "R",
   "language": "R",
   "name": "ir"
  },
  "language_info": {
   "codemirror_mode": "r",
   "file_extension": ".r",
   "mimetype": "text/x-r-source",
   "name": "R",
   "pygments_lexer": "r",
   "version": "4.2.0"
  }
 },
 "nbformat": 4,
 "nbformat_minor": 5
}
