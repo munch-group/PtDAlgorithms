{
 "cells": [
  {
   "cell_type": "code",
   "execution_count": 1,
   "id": "fdcdab73-9c4b-44e2-9e3f-b3561961b014",
   "metadata": {
    "vscode": {
     "languageId": "r"
    }
   },
   "outputs": [
    {
     "name": "stderr",
     "output_type": "stream",
     "text": [
      "Downloading GitHub repo Thell/RcppMP@HEAD\n",
      "\n"
     ]
    },
    {
     "name": "stdout",
     "output_type": "stream",
     "text": [
      "\n",
      "\u001b[36m──\u001b[39m \u001b[36mR CMD build\u001b[39m \u001b[36m─────────────────────────────────────────────────────────────────────────────────────────────────────────\u001b[39m\n",
      "\u001b[32m✔\u001b[39m  \u001b[90mchecking for file ‘/private/var/folders/s6/srs8qkh52w1_h32d65z95tth0000gn/T/RtmprQMTdH/remotesf730647d984b/Thell-RcppMP-eaf57ae/DESCRIPTION’\u001b[39m\u001b[36m\u001b[36m (441ms)\u001b[36m\u001b[39m\n",
      "\u001b[90m─\u001b[39m\u001b[90m  \u001b[39m\u001b[90mpreparing ‘RcppMP’:\u001b[39m\u001b[36m\u001b[39m\n",
      "\u001b[32m✔\u001b[39m  \u001b[90mchecking DESCRIPTION meta-information\u001b[39m\u001b[36m\u001b[39m\n",
      "\u001b[90m─\u001b[39m\u001b[90m  \u001b[39m\u001b[90mcleaning src\u001b[39m\u001b[36m\u001b[39m\n",
      "\u001b[90m─\u001b[39m\u001b[90m  \u001b[39m\u001b[90mchecking for LF line-endings in source and make files and shell scripts\u001b[39m\u001b[36m\u001b[39m\n",
      "\u001b[90m─\u001b[39m\u001b[90m  \u001b[39m\u001b[90mchecking for empty or unneeded directories\u001b[39m\u001b[36m\u001b[39m\n",
      "   Omitted ‘LazyData’ from DESCRIPTION\n",
      "\u001b[90m─\u001b[39m\u001b[90m  \u001b[39m\u001b[90mbuilding ‘RcppMP_0.1.1.tar.gz’\u001b[39m\u001b[36m\u001b[39m\n",
      "   \n",
      "\r"
     ]
    },
    {
     "name": "stderr",
     "output_type": "stream",
     "text": [
      "Warning message in i.p(...):\n",
      "“installation of package ‘/var/folders/s6/srs8qkh52w1_h32d65z95tth0000gn/T//RtmprQMTdH/filef73034a35978/RcppMP_0.1.1.tar.gz’ had non-zero exit status”\n"
     ]
    }
   ],
   "source": [
    "# install.packages(\"remotes\")\n",
    "remotes::install_github(\"Thell/RcppMP\")"
   ]
  },
  {
   "cell_type": "code",
   "execution_count": 1,
   "id": "2746ebb6-4ac8-4f31-bb6a-265637f364ca",
   "metadata": {
    "vscode": {
     "languageId": "r"
    }
   },
   "outputs": [
    {
     "name": "stderr",
     "output_type": "stream",
     "text": [
      "Indlæser krævet pakke: viridisLite\n",
      "\n",
      "── \u001b[1mAttaching core tidyverse packages\u001b[22m ──────────────────────── tidyverse 2.0.0 ──\n",
      "\u001b[32m✔\u001b[39m \u001b[34mdplyr    \u001b[39m 1.1.2     \u001b[32m✔\u001b[39m \u001b[34mreadr    \u001b[39m 2.1.4\n",
      "\u001b[32m✔\u001b[39m \u001b[34mforcats  \u001b[39m 1.0.0     \u001b[32m✔\u001b[39m \u001b[34mstringr  \u001b[39m 1.5.1\n",
      "\u001b[32m✔\u001b[39m \u001b[34mlubridate\u001b[39m 1.9.2     \u001b[32m✔\u001b[39m \u001b[34mtibble   \u001b[39m 3.2.1\n",
      "\u001b[32m✔\u001b[39m \u001b[34mpurrr    \u001b[39m 1.0.1     \u001b[32m✔\u001b[39m \u001b[34mtidyr    \u001b[39m 1.3.0\n",
      "── \u001b[1mConflicts\u001b[22m ────────────────────────────────────────── tidyverse_conflicts() ──\n",
      "\u001b[31m✖\u001b[39m \u001b[34mdplyr\u001b[39m::\u001b[32mcombine()\u001b[39m masks \u001b[34mgridExtra\u001b[39m::combine()\n",
      "\u001b[31m✖\u001b[39m \u001b[34mdplyr\u001b[39m::\u001b[32mfilter()\u001b[39m  masks \u001b[34mstats\u001b[39m::filter()\n",
      "\u001b[31m✖\u001b[39m \u001b[34mdplyr\u001b[39m::\u001b[32mlag()\u001b[39m     masks \u001b[34mstats\u001b[39m::lag()\n",
      "\u001b[36mℹ\u001b[39m Use the conflicted package (\u001b[3m\u001b[34m<http://conflicted.r-lib.org/>\u001b[39m\u001b[23m) to force all conflicts to become errors\n"
     ]
    }
   ],
   "source": [
    "library(ggplot2)\n",
    "library(viridis)\n",
    "library(grid)\n",
    "library(gridExtra)\n",
    "library(\"IRdisplay\")\n",
    "library(tidyverse)"
   ]
  },
  {
   "cell_type": "code",
   "execution_count": 2,
   "id": "5792b789",
   "metadata": {
    "vscode": {
     "languageId": "r"
    }
   },
   "outputs": [
    {
     "name": "stderr",
     "output_type": "stream",
     "text": [
      "\u001b[1m\u001b[22m\u001b[36mℹ\u001b[39m Loading \u001b[34mptdalgorithms\u001b[39m\n"
     ]
    },
    {
     "name": "stdout",
     "output_type": "stream",
     "text": [
      "Exports from /Users/kmt/google_drive/projects/phasestype/PtDAlgorithms/src/ptdalgorithms.cpp:\n",
      "   SEXP create_graph(size_t state_length)\n",
      "   List find_or_create_vertex(SEXP phase_type_graph, IntegerVector state)\n",
      "   void add_edge(SEXP phase_type_vertex_from, SEXP phase_type_vertex_to, double weight, NumericVector parameterized_edge_state = NumericVector::create())\n",
      "   void graph_update_weights_parameterized(SEXP phase_type_graph, NumericVector scalars)\n",
      "   List vertices(SEXP phase_type_graph)\n",
      "   IntegerMatrix states(SEXP phase_type_graph)\n",
      "   int vertices_length(SEXP phase_type_graph)\n",
      "   List vertex_at(SEXP phase_type_graph, int index)\n",
      "   List starting_vertex(SEXP phase_type_graph)\n",
      "   List edges(SEXP phase_type_vertex)\n",
      "   SEXP create_vertex(SEXP phase_type_graph, IntegerVector state)\n",
      "   SEXP find_vertex(SEXP phase_type_graph, IntegerVector state)\n",
      "   List graph_as_matrix(SEXP phase_type_graph)\n",
      "   SEXP matrix_as_graph(NumericVector IPV, NumericMatrix SIM, Nullable <NumericMatrix> rewards = R_NilValue)\n",
      "   SEXP clone_graph(SEXP phase_type_graph)\n",
      "   List graph_as_dph_matrix(SEXP phase_type_graph)\n",
      "   SEXP reward_transform(SEXP phase_type_graph, NumericVector rewards)\n",
      "   SEXP dph_reward_transform(SEXP phase_type_graph, IntegerVector rewards)\n",
      "   NumericVector normalize_graph(SEXP phase_type_graph)\n",
      "   NumericVector normalize_dph_graph(SEXP phase_type_graph)\n",
      "   NumericVector expected_waiting_time(SEXP phase_type_graph, Nullable <NumericVector> rewards = R_NilValue)\n",
      "   NumericVector dph_expected_visits(SEXP phase_type_graph, Nullable <NumericVector> rewards = R_NilValue)\n",
      "   NumericVector moments(SEXP phase_type_graph, int power, Nullable <NumericVector> rewards = R_NilValue)\n",
      "   double expectation(SEXP phase_type_graph, Nullable <NumericVector> rewards = R_NilValue)\n",
      "   double variance(SEXP phase_type_graph, Nullable <NumericVector> rewards = R_NilValue)\n",
      "   double covariance(SEXP phase_type_graph, NumericVector rewards1, NumericVector rewards2)\n",
      "   double dph_expectation(SEXP phase_type_graph, Nullable <NumericVector> rewards = R_NilValue)\n",
      "   double dph_variance(SEXP phase_type_graph, Nullable <NumericVector> rewards = R_NilValue)\n",
      "   double dph_covariance(SEXP phase_type_graph, NumericVector rewards1, NumericVector rewards2)\n",
      "   bool is_graph_acyclic(SEXP phase_type_graph)\n",
      "   double defect(SEXP phase_type_graph)\n",
      "   NumericVector rph(int n, SEXP phase_type_graph, Nullable <NumericVector> rewards = R_NilValue)\n",
      "   NumericVector dph(NumericVector x, SEXP phase_type_graph, int granularity = 0)\n",
      "   NumericVector pph(NumericVector q, SEXP phase_type_graph, int granularity = 0)\n",
      "   NumericVector stop_probability(SEXP phase_type_graph, double time, int granularity = 0)\n",
      "   NumericVector accumulated_visiting_time(SEXP phase_type_graph, double time, int granularity = 0)\n",
      "   NumericMatrix rmph(int n, SEXP phase_type_graph, NumericMatrix rewards)\n",
      "   NumericVector random_sample_stop_vertex(int n, SEXP phase_type_graph, double time)\n",
      "   NumericVector rdph(int n, SEXP phase_type_graph, Nullable <NumericVector> rewards = R_NilValue)\n",
      "   NumericVector ddph(IntegerVector x, SEXP phase_type_graph)\n",
      "   NumericVector pdph(IntegerVector q, SEXP phase_type_graph)\n",
      "   NumericVector dph_stop_probability(SEXP phase_type_graph, int jumps)\n",
      "   NumericVector dph_accumulated_visits(SEXP phase_type_graph, int jumps)\n",
      "   NumericMatrix rmdph(int n, SEXP phase_type_graph, NumericMatrix rewards)\n",
      "   NumericVector dph_random_sample_stop_vertex(int n, SEXP phase_type_graph, int jumps)\n",
      "   SEXP distribution_context(SEXP phase_type_graph, int granularity = 0)\n",
      "   void distribution_context_step(SEXP probability_distribution_context)\n",
      "   List distribution_context_state(SEXP probability_distribution_context)\n",
      "   NumericVector distribution_context_stop_probability(SEXP probability_distribution_context)\n",
      "   NumericVector distribution_context_accumulated_visiting_time(SEXP probability_distribution_context)\n",
      "   SEXP dph_distribution_context(SEXP phase_type_graph)\n",
      "   void dph_distribution_context_step(SEXP probability_distribution_context)\n",
      "   List dph_distribution_context_state(SEXP probability_distribution_context)\n",
      "   NumericVector dph_distribution_context_stop_probability(SEXP probability_distribution_context)\n",
      "   NumericVector dph_distribution_context_accumulated_visits(SEXP probability_distribution_context)\n",
      "\n",
      "/Users/kmt/google_drive/projects/phasestype/PtDAlgorithms/src/RcppExports.cpp updated.\n",
      "/Users/kmt/google_drive/projects/phasestype/PtDAlgorithms/R/RcppExports.R updated.\n"
     ]
    },
    {
     "name": "stderr",
     "output_type": "stream",
     "text": [
      "\u001b[36mℹ\u001b[39m Re-compiling \u001b[34m\u001b[34mptdalgorithms\u001b[34m\u001b[39m (debug build)\n",
      "\n"
     ]
    },
    {
     "name": "stdout",
     "output_type": "stream",
     "text": [
      "\u001b[36m──\u001b[39m \u001b[36mR CMD INSTALL\u001b[39m \u001b[36m───────────────────────────────────────────────────────────────\u001b[39m\n",
      "* installing *source* package ‘ptdalgorithms’ ...\n",
      "** using staged installation\n",
      "** libs\n",
      "using C++ compiler: ‘clang version 16.0.6’\n",
      "using SDK: ‘MacOSX14.2.sdk’\n",
      "arm64-apple-darwin20.0.0-clang++ -std=gnu++17 -I\"/Users/kmt/miniconda3/envs/phasetype/lib/R/include\" -DNDEBUG  -I'/Users/kmt/miniconda3/envs/phasetype/lib/R/library/Rcpp/include' -D_FORTIFY_SOURCE=2 -isystem /Users/kmt/miniconda3/envs/phasetype/include -mmacosx-version-min=11.0 -I/Users/kmt/miniconda3/envs/phasetype/include   -I../api/cpp -I../api/c -Ic/ -Icpp/ -fPIC  -ftree-vectorize -fPIC -fPIE -fstack-protector-strong -O2 -pipe -stdlib=libc++ -fvisibility-inlines-hidden -fmessage-length=0 -isystem /Users/kmt/miniconda3/envs/phasetype/include -fdebug-prefix-map=/Users/runner/miniforge3/conda-bld/r-base-split_1689933325543/work=/usr/local/src/conda/r-base-4.3.1 -fdebug-prefix-map=/Users/kmt/miniconda3/envs/phasetype=/usr/local/src/conda-prefix  -UNDEBUG -Wall -pedantic -g -O0 -fdiagnostics-color=always -c RcppExports.cpp -o RcppExports.o\n",
      "In file included from RcppExports.cpp:4:\n",
      "In file included from ./ptdalgorithms_types.h:11:\n",
      "In file included from ./cpp/ptdalgorithmscpp.h:1:\n",
      "\u001b[1mcpp/../../api/cpp/ptdalgorithmscpp.h:779:16: \u001b[0m\u001b[0;1;35mwarning: \u001b[0m\u001b[1mclass 'ParameterizedEdge' was previously declared as a struct; this is valid, but may result in linker errors under the Microsoft C++ ABI [-Wmismatched-tags]\u001b[0m\n",
      "        friend class ParameterizedEdge;\n",
      "\u001b[0;1;32m               ^\n",
      "\u001b[0m\u001b[1mcpp/../../api/cpp/ptdalgorithmscpp.h:52:12: \u001b[0m\u001b[0;1;30mnote: \u001b[0mprevious use is here\u001b[0m\n",
      "    struct ParameterizedEdge;\n",
      "\u001b[0;1;32m           ^\n",
      "\u001b[0m\u001b[1mcpp/../../api/cpp/ptdalgorithmscpp.h:960:16: \u001b[0m\u001b[0;1;35mwarning: \u001b[0m\u001b[1mprivate field 'graph' is not used [-Wunused-private-field]\u001b[0m\n",
      "        Graph &graph;\n",
      "\u001b[0;1;32m               ^\n",
      "\u001b[0m\u001b[1mcpp/../../api/cpp/ptdalgorithmscpp.h:1003:16: \u001b[0m\u001b[0;1;35mwarning: \u001b[0m\u001b[1mprivate field 'graph' is not used [-Wunused-private-field]\u001b[0m\n",
      "        Graph &graph;\n",
      "\u001b[0;1;32m               ^\n",
      "\u001b[0m3 warnings generated.\n",
      "arm64-apple-darwin20.0.0-clang++ -std=gnu++17 -I\"/Users/kmt/miniconda3/envs/phasetype/lib/R/include\" -DNDEBUG  -I'/Users/kmt/miniconda3/envs/phasetype/lib/R/library/Rcpp/include' -D_FORTIFY_SOURCE=2 -isystem /Users/kmt/miniconda3/envs/phasetype/include -mmacosx-version-min=11.0 -I/Users/kmt/miniconda3/envs/phasetype/include   -I../api/cpp -I../api/c -Ic/ -Icpp/ -fPIC  -ftree-vectorize -fPIC -fPIE -fstack-protector-strong -O2 -pipe -stdlib=libc++ -fvisibility-inlines-hidden -fmessage-length=0 -isystem /Users/kmt/miniconda3/envs/phasetype/include -fdebug-prefix-map=/Users/runner/miniforge3/conda-bld/r-base-split_1689933325543/work=/usr/local/src/conda/r-base-4.3.1 -fdebug-prefix-map=/Users/kmt/miniconda3/envs/phasetype=/usr/local/src/conda-prefix  -UNDEBUG -Wall -pedantic -g -O0 -fdiagnostics-color=always -c ptdalgorithms.cpp -o ptdalgorithms.o\n",
      "In file included from ptdalgorithms.cpp:42:\n",
      "In file included from ./ptdalgorithms_types.h:11:\n",
      "In file included from ./cpp/ptdalgorithmscpp.h:1:\n",
      "\u001b[1mcpp/../../api/cpp/ptdalgorithmscpp.h:779:16: \u001b[0m\u001b[0;1;35mwarning: \u001b[0m\u001b[1mclass 'ParameterizedEdge' was previously declared as a struct; this is valid, but may result in linker errors under the Microsoft C++ ABI [-Wmismatched-tags]\u001b[0m\n",
      "        friend class ParameterizedEdge;\n",
      "\u001b[0;1;32m               ^\n",
      "\u001b[0m\u001b[1mcpp/../../api/cpp/ptdalgorithmscpp.h:52:12: \u001b[0m\u001b[0;1;30mnote: \u001b[0mprevious use is here\u001b[0m\n",
      "    struct ParameterizedEdge;\n",
      "\u001b[0;1;32m           ^\n",
      "\u001b[0mIn file included from ptdalgorithms.cpp:42:\n",
      "In file included from ./ptdalgorithms_types.h:10:\n",
      "In file included from ./c/ptdalgorithms.h:1:\n",
      "\u001b[1mc/../../api/c/ptdalgorithms.h:403:17: \u001b[0m\u001b[0;1;35mwarning: \u001b[0m\u001b[1mtoken pasting of ',' and __VA_ARGS__ is a GNU extension [-Wgnu-zero-variadic-macro-arguments]\u001b[0m\n",
      "         message, ##__VA_ARGS__);                  \\\n",
      "\u001b[0;1;32m                ^\n",
      "\u001b[0m\u001b[1mc/../../api/c/ptdalgorithms.h:403:17: \u001b[0m\u001b[0;1;35mwarning: \u001b[0m\u001b[1mtoken pasting of ',' and __VA_ARGS__ is a GNU extension [-Wgnu-zero-variadic-macro-arguments]\u001b[0m\n",
      "\u001b[1mc/../../api/c/ptdalgorithms.h:403:17: \u001b[0m\u001b[0;1;35mwarning: \u001b[0m\u001b[1mtoken pasting of ',' and __VA_ARGS__ is a GNU extension [-Wgnu-zero-variadic-macro-arguments]\u001b[0m\n",
      "\u001b[1mc/../../api/c/ptdalgorithms.h:387:15: \u001b[0m\u001b[0;1;35mwarning: \u001b[0m\u001b[1mtoken pasting of ',' and __VA_ARGS__ is a GNU extension [-Wgnu-zero-variadic-macro-arguments]\u001b[0m\n",
      "         error, ##__VA_ARGS__);                    \\\n",
      "\u001b[0;1;32m              ^\n",
      "\u001b[0mIn file included from ptdalgorithms.cpp:46:\n",
      "\u001b[1m./c/ptdalgorithms.c:3242:9: \u001b[0m\u001b[0;1;35mwarning: \u001b[0m\u001b[1mvariable 'ri' set but not used [-Wunused-but-set-variable]\u001b[0m\n",
      "    int ri = 0;\n",
      "\u001b[0;1;32m        ^\n",
      "\u001b[0mIn file included from ptdalgorithms.cpp:42:\n",
      "In file included from ./ptdalgorithms_types.h:10:\n",
      "In file included from ./c/ptdalgorithms.h:1:\n",
      "\u001b[1mc/../../api/c/ptdalgorithms.h:387:15: \u001b[0m\u001b[0;1;35mwarning: \u001b[0m\u001b[1mtoken pasting of ',' and __VA_ARGS__ is a GNU extension [-Wgnu-zero-variadic-macro-arguments]\u001b[0m\n",
      "         error, ##__VA_ARGS__);                    \\\n",
      "\u001b[0;1;32m              ^\n",
      "\u001b[0mIn file included from ptdalgorithms.cpp:46:\n",
      "\u001b[1m./c/ptdalgorithms.c:296:13: \u001b[0m\u001b[0;1;35mwarning: \u001b[0m\u001b[1m'static' function 'ptd_avl_node_destroy' declared in header file should be declared 'static inline' [-Wunneeded-internal-declaration]\u001b[0m\n",
      "static void ptd_avl_node_destroy(struct ptd_avl_node *vertex) {\n",
      "\u001b[0;1;32m            ^\n",
      "\u001b[0m\u001b[1m./c/ptdalgorithms.c:307:13: \u001b[0m\u001b[0;1;35mwarning: \u001b[0m\u001b[1m'static' function 'avl_free' declared in header file should be declared 'static inline' [-Wunneeded-internal-declaration]\u001b[0m\n",
      "static void avl_free(struct ptd_avl_node *vertex) {\n",
      "\u001b[0;1;32m            ^\n",
      "\u001b[0m\u001b[1m./c/ptdalgorithms.c:453:15: \u001b[0m\u001b[0;1;35mwarning: \u001b[0m\u001b[1m'static' function 'avl_vec_get_size' declared in header file should be declared 'static inline' [-Wunneeded-internal-declaration]\u001b[0m\n",
      "static size_t avl_vec_get_size(struct ptd_avl_node *vertex) {\n",
      "\u001b[0;1;32m              ^\n",
      "\u001b[0mIn file included from ptdalgorithms.cpp:42:\n",
      "In file included from ./ptdalgorithms_types.h:11:\n",
      "In file included from ./cpp/ptdalgorithmscpp.h:1:\n",
      "\u001b[1mcpp/../../api/cpp/ptdalgorithmscpp.h:796:16: \u001b[0m\u001b[0;1;35mwarning: \u001b[0m\u001b[1mprivate field 'state_size' is not used [-Wunused-private-field]\u001b[0m\n",
      "        size_t state_size;\n",
      "\u001b[0;1;32m               ^\n",
      "\u001b[0m\u001b[1mcpp/../../api/cpp/ptdalgorithmscpp.h:960:16: \u001b[0m\u001b[0;1;35mwarning: \u001b[0m\u001b[1mprivate field 'graph' is not used [-Wunused-private-field]\u001b[0m\n",
      "        Graph &graph;\n",
      "\u001b[0;1;32m               ^\n",
      "\u001b[0m\u001b[1mcpp/../../api/cpp/ptdalgorithmscpp.h:1003:16: \u001b[0m\u001b[0;1;35mwarning: \u001b[0m\u001b[1mprivate field 'graph' is not used [-Wunused-private-field]\u001b[0m\n",
      "        Graph &graph;\n",
      "\u001b[0;1;32m               ^\n",
      "\u001b[0m13 warnings generated.\n",
      "arm64-apple-darwin20.0.0-clang++ -std=gnu++17 -dynamiclib -Wl,-headerpad_max_install_names -undefined dynamic_lookup -single_module -multiply_defined suppress -L/Users/kmt/miniconda3/envs/phasetype/lib/R/lib -Wl,-dead_strip_dylibs -Wl,-pie -Wl,-headerpad_max_install_names -Wl,-dead_strip_dylibs -Wl,-rpath,/Users/kmt/miniconda3/envs/phasetype/lib -L/Users/kmt/miniconda3/envs/phasetype/lib -o ptdalgorithms.dylib RcppExports.o ptdalgorithms.o -L/Users/kmt/miniconda3/envs/phasetype/lib/R/lib -lR -Wl,-framework -Wl,CoreFoundation\n",
      "ld: warning: -pie being ignored. It is only used when linking a main executable\n",
      "installing to /private/var/folders/s6/srs8qkh52w1_h32d65z95tth0000gn/T/Rtmp9fzRcJ/devtools_install_7ff94f7ecf8c/00LOCK-PtDAlgorithms/00new/ptdalgorithms/libs\n",
      "** checking absolute paths in shared objects and dynamic libraries\n",
      "* DONE (ptdalgorithms)\n"
     ]
    }
   ],
   "source": [
    "Rcpp::compileAttributes()           # this updates the Rcpp layer from C++ to R\n",
    "roxygen2::roxygenize(roclets=\"rd\")  # this updates the documentation based on roxygen comments"
   ]
  },
  {
   "cell_type": "code",
   "execution_count": 3,
   "id": "f8acd782-3032-4f53-b130-db36a0c789d1",
   "metadata": {
    "vscode": {
     "languageId": "r"
    }
   },
   "outputs": [
    {
     "name": "stderr",
     "output_type": "stream",
     "text": [
      "Updating HTML index of packages in '.Library'\n",
      "\n",
      "Making 'packages.html' ...\n",
      " done\n",
      "\n"
     ]
    }
   ],
   "source": [
    "install.packages(\"roxygen2md\")"
   ]
  },
  {
   "cell_type": "code",
   "execution_count": 4,
   "id": "4846d3b9-b5ef-412e-b09e-6b1808fbd2fe",
   "metadata": {
    "vscode": {
     "languageId": "r"
    }
   },
   "outputs": [
    {
     "name": "stderr",
     "output_type": "stream",
     "text": [
      "\u001b[32m✔\u001b[39m Setting active project to \u001b[34m'/Users/kmt/google_drive/projects/phasestype/PtDAlgorithms'\u001b[39m\n",
      "\u001b[33mℹ\u001b[39m Running \u001b[90m`devtools::document()`\u001b[39m\n",
      "\u001b[1m\u001b[22m\u001b[36mℹ\u001b[39m Updating \u001b[34mptdalgorithms\u001b[39m documentation\n",
      "\u001b[1m\u001b[22m\u001b[36mℹ\u001b[39m Loading \u001b[34mptdalgorithms\u001b[39m\n",
      "\u001b[1m\u001b[22m\u001b[31m✖\u001b[39m Skipping \u001b[34mNAMESPACE\u001b[39m\n",
      "\u001b[36mℹ\u001b[39m It already exists and was not generated by roxygen2.\n",
      "\u001b[31m•\u001b[39m Review the changes carefully\n",
      "\u001b[31m•\u001b[39m Commit the changes to version control\n",
      "\u001b[31m•\u001b[39m Run \u001b[90m`roxygen2md::roxygen2md()`\u001b[39m with a stricter \u001b[90m`scope`\u001b[39m argument\n",
      "\u001b[32m✔\u001b[39m Setting active project to \u001b[34m'<no active project>'\u001b[39m\n"
     ]
    }
   ],
   "source": [
    "roxygen2md::roxygen2md(scope = \"none\")          # \"none\" only adds list(markdown = TRUE) to the Roxygen field in DESCRIPTION"
   ]
  },
  {
   "cell_type": "code",
   "execution_count": 5,
   "id": "459f4246-023f-482e-979f-711b4fe26cbf",
   "metadata": {
    "vscode": {
     "languageId": "r"
    }
   },
   "outputs": [
    {
     "name": "stderr",
     "output_type": "stream",
     "text": [
      "\u001b[32m✔\u001b[39m Setting active project to \u001b[34m'/Users/kmt/google_drive/projects/phasestype/PtDAlgorithms'\u001b[39m\n"
     ]
    },
    {
     "name": "stderr",
     "output_type": "stream",
     "text": [
      "\u001b[33mℹ\u001b[39m Running \u001b[90m`devtools::document()`\u001b[39m\n",
      "\u001b[1m\u001b[22m\u001b[36mℹ\u001b[39m Updating \u001b[34mptdalgorithms\u001b[39m documentation\n",
      "\u001b[1m\u001b[22m\u001b[36mℹ\u001b[39m Loading \u001b[34mptdalgorithms\u001b[39m\n",
      "\u001b[1m\u001b[22m\u001b[31m✖\u001b[39m Skipping \u001b[34mNAMESPACE\u001b[39m\n",
      "\u001b[36mℹ\u001b[39m It already exists and was not generated by roxygen2.\n",
      "\u001b[31m•\u001b[39m Review the changes carefully\n",
      "\u001b[31m•\u001b[39m Commit the changes to version control\n",
      "\u001b[31m•\u001b[39m Run \u001b[90m`roxygen2md::roxygen2md()`\u001b[39m with a stricter \u001b[90m`scope`\u001b[39m argument\n",
      "\u001b[32m✔\u001b[39m Setting active project to \u001b[34m'<no active project>'\u001b[39m\n"
     ]
    }
   ],
   "source": [
    "roxygen2md::roxygen2md(scope = \"simple\")        # \"simple\" only converts elements like \\code{} and \\emph{}"
   ]
  },
  {
   "cell_type": "code",
   "execution_count": 6,
   "id": "35486fd9-48b9-4590-9e04-84f327b09e91",
   "metadata": {
    "vscode": {
     "languageId": "r"
    }
   },
   "outputs": [
    {
     "name": "stderr",
     "output_type": "stream",
     "text": [
      "\u001b[32m✔\u001b[39m Setting active project to \u001b[34m'/Users/kmt/google_drive/projects/phasestype/PtDAlgorithms'\u001b[39m\n",
      "\u001b[33mℹ\u001b[39m Running \u001b[90m`devtools::document()`\u001b[39m\n",
      "\u001b[1m\u001b[22m\u001b[36mℹ\u001b[39m Updating \u001b[34mptdalgorithms\u001b[39m documentation\n",
      "\u001b[1m\u001b[22m\u001b[36mℹ\u001b[39m Loading \u001b[34mptdalgorithms\u001b[39m\n",
      "\u001b[1m\u001b[22m\u001b[31m✖\u001b[39m Skipping \u001b[34mNAMESPACE\u001b[39m\n",
      "\u001b[36mℹ\u001b[39m It already exists and was not generated by roxygen2.\n",
      "\u001b[31m•\u001b[39m Review the changes carefully\n",
      "\u001b[31m•\u001b[39m Commit the changes to version control\n",
      "\u001b[32m✔\u001b[39m Setting active project to \u001b[34m'<no active project>'\u001b[39m\n"
     ]
    }
   ],
   "source": [
    "roxygen2md::roxygen2md(scope = \"full\")          # \"full\" runs all conversions"
   ]
  },
  {
   "cell_type": "code",
   "execution_count": 7,
   "id": "5362e46a-c33e-4b01-afae-36a32471bfa1",
   "metadata": {
    "vscode": {
     "languageId": "r"
    }
   },
   "outputs": [
    {
     "name": "stderr",
     "output_type": "stream",
     "text": [
      "Indlæser krævet pakke: usethis\n",
      "\n",
      "\u001b[1m\u001b[22m\u001b[36mℹ\u001b[39m Loading \u001b[34mptdalgorithms\u001b[39m\n"
     ]
    }
   ],
   "source": [
    "library(devtools)\n",
    "# load_all(\"./\", reset=TRUE)\n",
    "load_all(\"./\")"
   ]
  },
  {
   "cell_type": "code",
   "execution_count": 2,
   "id": "2c71e480-4841-4940-9249-6d0b6638a49b",
   "metadata": {
    "vscode": {
     "languageId": "r"
    }
   },
   "outputs": [],
   "source": [
    "# #remove.packages(\"ptdalgorithms\")\n",
    "# #devtools::install_github(\"kaspermunch/PtDAlgorithms\")\n",
    "# devtools::install_local('../../PtDAlgorithms', quiet=FALSE)\n",
    "\n",
    "library(ptdalgorithms)"
   ]
  },
  {
   "cell_type": "code",
   "execution_count": 3,
   "id": "bfce48f0-53dd-4ad5-ac41-df71bf7d5966",
   "metadata": {
    "vscode": {
     "languageId": "r"
    }
   },
   "outputs": [],
   "source": [
    "source(\"./utils/plotting.R\")\n",
    "\n",
    "theme_set(theme_bw())\n",
    "despine <- theme(panel.border = element_blank(), panel.grid.major = element_blank(),\n",
    "panel.grid.minor = element_blank(), axis.line = element_line(colour = \"black\"),\n",
    "                # text=element_text(family=\"Arial\")\n",
    "                )"
   ]
  },
  {
   "cell_type": "code",
   "execution_count": 11,
   "id": "4ff54e88-a3fc-4587-a062-792b18315a6a",
   "metadata": {
    "vscode": {
     "languageId": "r"
    }
   },
   "outputs": [],
   "source": [
    "standard_coalescent <- function(n, size, graph=NULL, edge_trans=NULL, epoque=0) {\n",
    "\n",
    "    state_vector_length <- n + 1\n",
    "\n",
    "    if (is.null(graph)) {\n",
    "    \n",
    "        graph <- create_graph(state_vector_length)\n",
    "        starting_vertex <- vertex_at(graph, 1)\n",
    "        initial_state <- c(rep(0, n), epoque)\n",
    "        initial_state[1] <- n\n",
    "        \n",
    "        add_edge(\n",
    "          starting_vertex,\n",
    "          create_vertex(graph, initial_state),\n",
    "          1\n",
    "        )\n",
    "        index <- 2\n",
    "        \n",
    "    } else {\n",
    "        nr_states <- vertices_length(graph)\n",
    "        for (i in 2:(nr_states-1)) {\n",
    "            if (is.nan(edge_trans[i-1])) {\n",
    "                next;\n",
    "            }\n",
    "            vertex <- vertex_at(graph, i)\n",
    "            state <- vertex$state\n",
    "            sister_state <- state\n",
    "            sister_state[length(sister_state)] <- epoque\n",
    "            add_edge(\n",
    "              vertex,\n",
    "              find_or_create_vertex(graph, sister_state),\n",
    "              edge_trans[i-1], c(edge_trans[i-1]) # -1 becuase first index is 2 and first element of edge_trans is 1\n",
    "            )\n",
    "        }\n",
    "        index <- nr_states + 1\n",
    "    }\n",
    "\n",
    "    while (index <= vertices_length(graph)) {\n",
    "      vertex <- vertex_at(graph, index)\n",
    "\n",
    "        # loop over all classes of lineages\n",
    "      for (i in 1:n) {\n",
    "        for (j in i:n) {\n",
    "          state <- vertex$state\n",
    "\n",
    "          # if same class, there need to be at least two to coalesce\n",
    "          if (i == j) {\n",
    "            if (state[i] < 2) {\n",
    "              next; # an absorbing state that is not the last state\n",
    "            }\n",
    "            # coal rate\n",
    "            rate <- state[i] * (state[i] - 1) / 2\n",
    "          } else {\n",
    "            # else at least one in each class to coalesce\n",
    "            if (state[i] < 1 || state[j] < 1) {\n",
    "              next;\n",
    "            }\n",
    "            # number of combinations\n",
    "            rate <- state[i] * state[j]\n",
    "          }\n",
    "\n",
    "          rate = rate / size\n",
    "            \n",
    "          # copy state\n",
    "          child_state <- state\n",
    "            \n",
    "          # update child state\n",
    "          child_state[i] <- child_state[i] - 1\n",
    "          child_state[j] <- child_state[j] - 1\n",
    "          child_state[i+j] <- child_state[i+j] + 1\n",
    "\n",
    "          add_edge(\n",
    "              vertex,\n",
    "              find_or_create_vertex(graph, child_state),\n",
    "              rate, c(rate)\n",
    "            )\n",
    "        }\n",
    "      }\n",
    "        \n",
    "      index <- index + 1\n",
    "    }\n",
    "    if (epoque == 0) {\n",
    "        return(graph)\n",
    "    }\n",
    "}\n",
    "\n",
    "r_add_epoque <- function(n, size, graph, epoque_trans, epoque)\n",
    "    return(standard_coalescent(n, size, graph, epoque_trans, epoque))"
   ]
  },
  {
   "cell_type": "code",
   "execution_count": 12,
   "id": "809fec86-8097-4164-b725-44137a2962df",
   "metadata": {
    "vscode": {
     "languageId": "r"
    }
   },
   "outputs": [],
   "source": [
    "n_samples <- 2"
   ]
  },
  {
   "cell_type": "code",
   "execution_count": 13,
   "id": "0af55d6e-4672-477a-973d-5808950abdb8",
   "metadata": {
    "vscode": {
     "languageId": "r"
    }
   },
   "outputs": [
    {
     "data": {
      "text/html": [
       "<dl>\n",
       "\t<dt>$states</dt>\n",
       "\t\t<dd><table class=\"dataframe\">\n",
       "<caption>A matrix: 1 × 3 of type dbl</caption>\n",
       "<tbody>\n",
       "\t<tr><td>2</td><td>0</td><td>0</td></tr>\n",
       "</tbody>\n",
       "</table>\n",
       "</dd>\n",
       "\t<dt>$SIM</dt>\n",
       "\t\t<dd><table class=\"dataframe\">\n",
       "<caption>A matrix: 1 × 1 of type dbl</caption>\n",
       "<tbody>\n",
       "\t<tr><td>-1</td></tr>\n",
       "</tbody>\n",
       "</table>\n",
       "</dd>\n",
       "\t<dt>$IPV</dt>\n",
       "\t\t<dd>1</dd>\n",
       "\t<dt>$indices</dt>\n",
       "\t\t<dd>2</dd>\n",
       "</dl>\n"
      ],
      "text/latex": [
       "\\begin{description}\n",
       "\\item[\\$states] A matrix: 1 × 3 of type dbl\n",
       "\\begin{tabular}{lll}\n",
       "\t 2 & 0 & 0\\\\\n",
       "\\end{tabular}\n",
       "\n",
       "\\item[\\$SIM] A matrix: 1 × 1 of type dbl\n",
       "\\begin{tabular}{l}\n",
       "\t -1\\\\\n",
       "\\end{tabular}\n",
       "\n",
       "\\item[\\$IPV] 1\n",
       "\\item[\\$indices] 2\n",
       "\\end{description}\n"
      ],
      "text/markdown": [
       "$states\n",
       ":   \n",
       "A matrix: 1 × 3 of type dbl\n",
       "\n",
       "| 2 | 0 | 0 |\n",
       "\n",
       "\n",
       "$SIM\n",
       ":   \n",
       "A matrix: 1 × 1 of type dbl\n",
       "\n",
       "| -1 |\n",
       "\n",
       "\n",
       "$IPV\n",
       ":   1\n",
       "$indices\n",
       ":   2\n",
       "\n",
       "\n"
      ],
      "text/plain": [
       "$states\n",
       "     [,1] [,2] [,3]\n",
       "[1,]    2    0    0\n",
       "\n",
       "$SIM\n",
       "     [,1]\n",
       "[1,]   -1\n",
       "\n",
       "$IPV\n",
       "[1] 1\n",
       "\n",
       "$indices\n",
       "[1] 2\n"
      ]
     },
     "metadata": {},
     "output_type": "display_data"
    }
   ],
   "source": [
    "graph <- standard_coalescent(n_samples, 1)\n",
    "graph_as_matrix(graph)"
   ]
  },
  {
   "cell_type": "code",
   "execution_count": 14,
   "id": "04bd692d-658e-4cea-9556-22fe13ff41a5",
   "metadata": {
    "vscode": {
     "languageId": "r"
    }
   },
   "outputs": [
    {
     "data": {
      "image/svg+xml": [
       "<?xml version=\"1.0\" encoding=\"UTF-8\" standalone=\"no\"?>\n",
       "<!DOCTYPE svg PUBLIC \"-//W3C//DTD SVG 1.1//EN\"\n",
       " \"http://www.w3.org/Graphics/SVG/1.1/DTD/svg11.dtd\">\n",
       "<!-- Generated by graphviz version 8.1.0 (0)\n",
       " -->\n",
       "<!-- Title: G Pages: 1 -->\n",
       "<svg width=\"421pt\" height=\"163pt\"\n",
       " viewBox=\"0.00 0.00 421.16 163.00\" xmlns=\"http://www.w3.org/2000/svg\" xmlns:xlink=\"http://www.w3.org/1999/xlink\">\n",
       "<g id=\"graph0\" class=\"graph\" transform=\"scale(1 1) rotate(0) translate(36 127)\">\n",
       "<title>G</title>\n",
       "<polygon fill=\"white\" stroke=\"none\" points=\"-36,36 -36,-127 385.16,-127 385.16,36 -36,36\"/>\n",
       "<g id=\"clust2\" class=\"cluster\">\n",
       "<title>cluster_20</title>\n",
       "<polygon fill=\"whitesmoke\" stroke=\"whitesmoke\" points=\"125.5,-8 125.5,-83 201.29,-83 201.29,-8 125.5,-8\"/>\n",
       "<text text-anchor=\"middle\" x=\"163.4\" y=\"-65.7\" font-family=\"Helvetica,Arial,sans-serif\" font-size=\"14.00\">20</text>\n",
       "</g>\n",
       "<!-- Absorb -->\n",
       "<g id=\"node1\" class=\"node\">\n",
       "<title>Absorb</title>\n",
       "<ellipse fill=\"white\" stroke=\"lightgrey\" cx=\"310.98\" cy=\"-34\" rx=\"38.18\" ry=\"18\"/>\n",
       "<text text-anchor=\"middle\" x=\"310.98\" y=\"-28.2\" font-family=\"Helvetica,Arial,sans-serif\" font-size=\"14.00\">Absorb</text>\n",
       "</g>\n",
       "<!-- IPV -->\n",
       "<g id=\"node2\" class=\"node\">\n",
       "<title>IPV</title>\n",
       "<ellipse fill=\"white\" stroke=\"lightgrey\" cx=\"27\" cy=\"-34\" rx=\"27\" ry=\"18\"/>\n",
       "<text text-anchor=\"middle\" x=\"27\" y=\"-28.2\" font-family=\"Helvetica,Arial,sans-serif\" font-size=\"14.00\">IPV</text>\n",
       "</g>\n",
       "<!-- 2,0,0 -->\n",
       "<g id=\"node3\" class=\"node\">\n",
       "<title>2,0,0</title>\n",
       "<ellipse fill=\"white\" stroke=\"black\" cx=\"163.4\" cy=\"-34\" rx=\"29.9\" ry=\"18\"/>\n",
       "<text text-anchor=\"middle\" x=\"163.4\" y=\"-28.2\" font-family=\"Helvetica,Arial,sans-serif\" font-size=\"14.00\">2,0,0</text>\n",
       "</g>\n",
       "<!-- IPV&#45;&gt;2,0,0 -->\n",
       "<g id=\"edge1\" class=\"edge\">\n",
       "<title>IPV&#45;&gt;2,0,0</title>\n",
       "<path fill=\"none\" stroke=\"#f4516d\" d=\"M54.23,-34C73.71,-34 100.6,-34 122.7,-34\"/>\n",
       "<polygon fill=\"#f4516d\" stroke=\"#f4516d\" points=\"122.44,-37.5 132.44,-34 122.44,-30.5 122.44,-37.5\"/>\n",
       "<text text-anchor=\"middle\" x=\"93.75\" y=\"-35.7\" font-family=\"Helvetica,Arial,sans-serif\" font-size=\"14.00\" fill=\"#f4516d\">1</text>\n",
       "</g>\n",
       "<!-- 2,0,0&#45;&gt;Absorb -->\n",
       "<g id=\"edge2\" class=\"edge\">\n",
       "<title>2,0,0&#45;&gt;Absorb</title>\n",
       "<path fill=\"none\" stroke=\"#0f2552\" d=\"M193.51,-34C212.98,-34 239.06,-34 261.6,-34\"/>\n",
       "<polygon fill=\"#0f2552\" stroke=\"#0f2552\" points=\"261.34,-37.5 271.34,-34 261.34,-30.5 261.34,-37.5\"/>\n",
       "<text text-anchor=\"middle\" x=\"233.04\" y=\"-35.7\" font-family=\"Helvetica,Arial,sans-serif\" font-size=\"14.00\" fill=\"#0f2552\">1</text>\n",
       "</g>\n",
       "</g>\n",
       "</svg>\n"
      ]
     },
     "metadata": {},
     "output_type": "display_data"
    }
   ],
   "source": [
    "gam <- graph_as_matrix(graph)\n",
    "plot_graph(gam, subgraphs=TRUE, rainbow=TRUE, size=c(8, 8), align=TRUE,\n",
    "           fontsize=14, ranksep=1, nodesep=0.5,          \n",
    "           subgraphfun=function(state) paste(state[-length(state)], collapse=\"\"))"
   ]
  },
  {
   "cell_type": "code",
   "execution_count": 15,
   "id": "b8bff248-0bc5-4eb5-8083-a78730f38f03",
   "metadata": {
    "vscode": {
     "languageId": "r"
    }
   },
   "outputs": [
    {
     "data": {
      "text/html": [
       "<style>\n",
       ".list-inline {list-style: none; margin:0; padding: 0}\n",
       ".list-inline>li {display: inline-block}\n",
       ".list-inline>li:not(:last-child)::after {content: \"\\00b7\"; padding: 0 .5ex}\n",
       "</style>\n",
       "<ol class=list-inline><li>0</li><li>0.367699739411271</li><li>0</li></ol>\n"
      ],
      "text/latex": [
       "\\begin{enumerate*}\n",
       "\\item 0\n",
       "\\item 0.367699739411271\n",
       "\\item 0\n",
       "\\end{enumerate*}\n"
      ],
      "text/markdown": [
       "1. 0\n",
       "2. 0.367699739411271\n",
       "3. 0\n",
       "\n",
       "\n"
      ],
      "text/plain": [
       "[1] 0.0000000 0.3676997 0.0000000"
      ]
     },
     "metadata": {},
     "output_type": "display_data"
    },
    {
     "data": {
      "text/html": [
       "<style>\n",
       ".list-inline {list-style: none; margin:0; padding: 0}\n",
       ".list-inline>li {display: inline-block}\n",
       ".list-inline>li:not(:last-child)::after {content: \"\\00b7\"; padding: 0 .5ex}\n",
       "</style>\n",
       "<ol class=list-inline><li>0</li><li>0.632659342365497</li><li>0</li></ol>\n"
      ],
      "text/latex": [
       "\\begin{enumerate*}\n",
       "\\item 0\n",
       "\\item 0.632659342365497\n",
       "\\item 0\n",
       "\\end{enumerate*}\n"
      ],
      "text/markdown": [
       "1. 0\n",
       "2. 0.632659342365497\n",
       "3. 0\n",
       "\n",
       "\n"
      ],
      "text/plain": [
       "[1] 0.0000000 0.6326593 0.0000000"
      ]
     },
     "metadata": {},
     "output_type": "display_data"
    }
   ],
   "source": [
    "stop_probability(graph, 1)\n",
    "accumulated_visiting_time(graph, 1)"
   ]
  },
  {
   "cell_type": "code",
   "execution_count": 50,
   "id": "f7762405-1f98-412e-8795-e4523b8c0d82",
   "metadata": {
    "vscode": {
     "languageId": "r"
    }
   },
   "outputs": [
    {
     "data": {
      "text/html": [
       "<dl>\n",
       "\t<dt>$states</dt>\n",
       "\t\t<dd><table class=\"dataframe\">\n",
       "<caption>A matrix: 2 × 3 of type dbl</caption>\n",
       "<tbody>\n",
       "\t<tr><td>2</td><td>0</td><td>0</td></tr>\n",
       "\t<tr><td>2</td><td>0</td><td>1</td></tr>\n",
       "</tbody>\n",
       "</table>\n",
       "</dd>\n",
       "\t<dt>$SIM</dt>\n",
       "\t\t<dd><table class=\"dataframe\">\n",
       "<caption>A matrix: 2 × 2 of type dbl</caption>\n",
       "<tbody>\n",
       "\t<tr><td>-1.581197</td><td> 0.581197</td></tr>\n",
       "\t<tr><td> 0.000000</td><td>-0.200000</td></tr>\n",
       "</tbody>\n",
       "</table>\n",
       "</dd>\n",
       "\t<dt>$IPV</dt>\n",
       "\t\t<dd><style>\n",
       ".list-inline {list-style: none; margin:0; padding: 0}\n",
       ".list-inline>li {display: inline-block}\n",
       ".list-inline>li:not(:last-child)::after {content: \"\\00b7\"; padding: 0 .5ex}\n",
       "</style>\n",
       "<ol class=list-inline><li>1</li><li>0</li></ol>\n",
       "</dd>\n",
       "\t<dt>$indices</dt>\n",
       "\t\t<dd><style>\n",
       ".list-inline {list-style: none; margin:0; padding: 0}\n",
       ".list-inline>li {display: inline-block}\n",
       ".list-inline>li:not(:last-child)::after {content: \"\\00b7\"; padding: 0 .5ex}\n",
       "</style>\n",
       "<ol class=list-inline><li>2</li><li>4</li></ol>\n",
       "</dd>\n",
       "</dl>\n"
      ],
      "text/latex": [
       "\\begin{description}\n",
       "\\item[\\$states] A matrix: 2 × 3 of type dbl\n",
       "\\begin{tabular}{lll}\n",
       "\t 2 & 0 & 0\\\\\n",
       "\t 2 & 0 & 1\\\\\n",
       "\\end{tabular}\n",
       "\n",
       "\\item[\\$SIM] A matrix: 2 × 2 of type dbl\n",
       "\\begin{tabular}{ll}\n",
       "\t -1.581197 &  0.581197\\\\\n",
       "\t  0.000000 & -0.200000\\\\\n",
       "\\end{tabular}\n",
       "\n",
       "\\item[\\$IPV] \\begin{enumerate*}\n",
       "\\item 1\n",
       "\\item 0\n",
       "\\end{enumerate*}\n",
       "\n",
       "\\item[\\$indices] \\begin{enumerate*}\n",
       "\\item 2\n",
       "\\item 4\n",
       "\\end{enumerate*}\n",
       "\n",
       "\\end{description}\n"
      ],
      "text/markdown": [
       "$states\n",
       ":   \n",
       "A matrix: 2 × 3 of type dbl\n",
       "\n",
       "| 2 | 0 | 0 |\n",
       "| 2 | 0 | 1 |\n",
       "\n",
       "\n",
       "$SIM\n",
       ":   \n",
       "A matrix: 2 × 2 of type dbl\n",
       "\n",
       "| -1.581197 |  0.581197 |\n",
       "|  0.000000 | -0.200000 |\n",
       "\n",
       "\n",
       "$IPV\n",
       ":   1. 1\n",
       "2. 0\n",
       "\n",
       "\n",
       "\n",
       "$indices\n",
       ":   1. 2\n",
       "2. 4\n",
       "\n",
       "\n",
       "\n",
       "\n",
       "\n"
      ],
      "text/plain": [
       "$states\n",
       "     [,1] [,2] [,3]\n",
       "[1,]    2    0    0\n",
       "[2,]    2    0    1\n",
       "\n",
       "$SIM\n",
       "          [,1]      [,2]\n",
       "[1,] -1.581197  0.581197\n",
       "[2,]  0.000000 -0.200000\n",
       "\n",
       "$IPV\n",
       "[1] 1 0\n",
       "\n",
       "$indices\n",
       "[1] 2 4\n"
      ]
     },
     "metadata": {},
     "output_type": "display_data"
    }
   ],
   "source": [
    "x <- stop_probability(graph, 1)\n",
    "stop_probs <- x[2:(length(x)-1)]\n",
    "x <- accumulated_visiting_time(graph, 1)\n",
    "accum_v_time <- x[2:(length(x)-1)]\n",
    "epoque_trans_rates <- stop_probs / accum_v_time\n",
    "\n",
    "add_epoque(n_samples, 5, graph, epoque_trans_rates, 1)\n",
    "graph_as_matrix(graph)"
   ]
  },
  {
   "cell_type": "code",
   "execution_count": 51,
   "id": "c81c5464-dbdf-42fe-8ad6-c40fab948edb",
   "metadata": {
    "vscode": {
     "languageId": "r"
    }
   },
   "outputs": [
    {
     "data": {
      "image/svg+xml": [
       "<?xml version=\"1.0\" encoding=\"UTF-8\" standalone=\"no\"?>\n",
       "<!DOCTYPE svg PUBLIC \"-//W3C//DTD SVG 1.1//EN\"\n",
       " \"http://www.w3.org/Graphics/SVG/1.1/DTD/svg11.dtd\">\n",
       "<!-- Generated by graphviz version 8.1.0 (0)\n",
       " -->\n",
       "<!-- Title: G Pages: 1 -->\n",
       "<svg width=\"432pt\" height=\"271pt\"\n",
       " viewBox=\"0.00 0.00 432.41 271.00\" xmlns=\"http://www.w3.org/2000/svg\" xmlns:xlink=\"http://www.w3.org/1999/xlink\">\n",
       "<g id=\"graph0\" class=\"graph\" transform=\"scale(1 1) rotate(0) translate(36 235)\">\n",
       "<title>G</title>\n",
       "<polygon fill=\"white\" stroke=\"none\" points=\"-36,36 -36,-235 396.41,-235 396.41,36 -36,36\"/>\n",
       "<g id=\"clust2\" class=\"cluster\">\n",
       "<title>cluster_20</title>\n",
       "<polygon fill=\"whitesmoke\" stroke=\"whitesmoke\" points=\"125.5,-8 125.5,-191 201.29,-191 201.29,-8 125.5,-8\"/>\n",
       "<text text-anchor=\"middle\" x=\"163.4\" y=\"-173.7\" font-family=\"Helvetica,Arial,sans-serif\" font-size=\"14.00\">20</text>\n",
       "</g>\n",
       "<!-- Absorb -->\n",
       "<g id=\"node1\" class=\"node\">\n",
       "<title>Absorb</title>\n",
       "<ellipse fill=\"white\" stroke=\"lightgrey\" cx=\"322.23\" cy=\"-88\" rx=\"38.18\" ry=\"18\"/>\n",
       "<text text-anchor=\"middle\" x=\"322.23\" y=\"-82.2\" font-family=\"Helvetica,Arial,sans-serif\" font-size=\"14.00\">Absorb</text>\n",
       "</g>\n",
       "<!-- IPV -->\n",
       "<g id=\"node2\" class=\"node\">\n",
       "<title>IPV</title>\n",
       "<ellipse fill=\"white\" stroke=\"lightgrey\" cx=\"27\" cy=\"-34\" rx=\"27\" ry=\"18\"/>\n",
       "<text text-anchor=\"middle\" x=\"27\" y=\"-28.2\" font-family=\"Helvetica,Arial,sans-serif\" font-size=\"14.00\">IPV</text>\n",
       "</g>\n",
       "<!-- 2,0,0 -->\n",
       "<g id=\"node3\" class=\"node\">\n",
       "<title>2,0,0</title>\n",
       "<ellipse fill=\"white\" stroke=\"black\" cx=\"163.4\" cy=\"-34\" rx=\"29.9\" ry=\"18\"/>\n",
       "<text text-anchor=\"middle\" x=\"163.4\" y=\"-28.2\" font-family=\"Helvetica,Arial,sans-serif\" font-size=\"14.00\">2,0,0</text>\n",
       "</g>\n",
       "<!-- IPV&#45;&gt;2,0,0 -->\n",
       "<g id=\"edge1\" class=\"edge\">\n",
       "<title>IPV&#45;&gt;2,0,0</title>\n",
       "<path fill=\"none\" stroke=\"#5997b6\" d=\"M54.23,-34C73.71,-34 100.6,-34 122.7,-34\"/>\n",
       "<polygon fill=\"#5997b6\" stroke=\"#5997b6\" points=\"122.44,-37.5 132.44,-34 122.44,-30.5 122.44,-37.5\"/>\n",
       "<text text-anchor=\"middle\" x=\"93.75\" y=\"-35.7\" font-family=\"Helvetica,Arial,sans-serif\" font-size=\"14.00\" fill=\"#5997b6\">1</text>\n",
       "</g>\n",
       "<!-- 2,0,0&#45;&gt;Absorb -->\n",
       "<g id=\"edge3\" class=\"edge\">\n",
       "<title>2,0,0&#45;&gt;Absorb</title>\n",
       "<path fill=\"none\" stroke=\"#546d3f\" d=\"M189.94,-42.8C214.45,-51.23 251.85,-64.11 280.47,-73.97\"/>\n",
       "<polygon fill=\"#546d3f\" stroke=\"#546d3f\" points=\"278.98,-77.5 289.58,-77.45 281.26,-70.88 278.98,-77.5\"/>\n",
       "<text text-anchor=\"middle\" x=\"238.67\" y=\"-63.7\" font-family=\"Helvetica,Arial,sans-serif\" font-size=\"14.00\" fill=\"#546d3f\">1</text>\n",
       "</g>\n",
       "<!-- 2,0,1 -->\n",
       "<g id=\"node4\" class=\"node\">\n",
       "<title>2,0,1</title>\n",
       "<ellipse fill=\"white\" stroke=\"black\" cx=\"163.4\" cy=\"-142\" rx=\"29.9\" ry=\"18\"/>\n",
       "<text text-anchor=\"middle\" x=\"163.4\" y=\"-136.2\" font-family=\"Helvetica,Arial,sans-serif\" font-size=\"14.00\">2,0,1</text>\n",
       "</g>\n",
       "<!-- 2,0,0&#45;&gt;2,0,1 -->\n",
       "<g id=\"edge2\" class=\"edge\">\n",
       "<title>2,0,0&#45;&gt;2,0,1</title>\n",
       "<path fill=\"none\" stroke=\"#db56eb\" d=\"M163.4,-52.32C163.4,-68.84 163.4,-93.44 163.4,-112.69\"/>\n",
       "<polygon fill=\"#db56eb\" stroke=\"#db56eb\" points=\"159.9,-112.59 163.4,-122.59 166.9,-112.59 159.9,-112.59\"/>\n",
       "<text text-anchor=\"middle\" x=\"152.9\" y=\"-82.2\" font-family=\"Helvetica,Arial,sans-serif\" font-size=\"14.00\" fill=\"#db56eb\">5.81e&#45;01</text>\n",
       "</g>\n",
       "<!-- 2,0,1&#45;&gt;Absorb -->\n",
       "<g id=\"edge4\" class=\"edge\">\n",
       "<title>2,0,1&#45;&gt;Absorb</title>\n",
       "<path fill=\"none\" stroke=\"#b39005\" d=\"M189.94,-133.2C214.45,-124.77 251.85,-111.89 280.47,-102.03\"/>\n",
       "<polygon fill=\"#b39005\" stroke=\"#b39005\" points=\"281.26,-105.12 289.58,-98.55 278.98,-98.5 281.26,-105.12\"/>\n",
       "<text text-anchor=\"middle\" x=\"238.67\" y=\"-119.7\" font-family=\"Helvetica,Arial,sans-serif\" font-size=\"14.00\" fill=\"#b39005\">0.2</text>\n",
       "</g>\n",
       "</g>\n",
       "</svg>\n"
      ]
     },
     "metadata": {},
     "output_type": "display_data"
    }
   ],
   "source": [
    "gam <- graph_as_matrix(graph)\n",
    "plot_graph(gam, subgraphs=TRUE, rainbow=TRUE, size=c(8, 8), align=TRUE,\n",
    "           fontsize=14, ranksep=1, nodesep=0.5,          \n",
    "           subgraphfun=function(state) paste(state[-length(state)], collapse=\"\"))"
   ]
  },
  {
   "cell_type": "code",
   "execution_count": 52,
   "id": "81ae74e2-a45e-4201-8dd3-a0bfc8b7c2d7",
   "metadata": {
    "vscode": {
     "languageId": "r"
    }
   },
   "outputs": [
    {
     "data": {
      "text/html": [
       "<style>\n",
       ".list-inline {list-style: none; margin:0; padding: 0}\n",
       ".list-inline>li {display: inline-block}\n",
       ".list-inline>li:not(:last-child)::after {content: \"\\00b7\"; padding: 0 .5ex}\n",
       "</style>\n",
       "<ol class=list-inline><li>0</li><li>0.205477427111056</li><li>0</li><li>0.25804553140945</li><li>0</li></ol>\n"
      ],
      "text/latex": [
       "\\begin{enumerate*}\n",
       "\\item 0\n",
       "\\item 0.205477427111056\n",
       "\\item 0\n",
       "\\item 0.25804553140945\n",
       "\\item 0\n",
       "\\end{enumerate*}\n"
      ],
      "text/markdown": [
       "1. 0\n",
       "2. 0.205477427111056\n",
       "3. 0\n",
       "4. 0.25804553140945\n",
       "5. 0\n",
       "\n",
       "\n"
      ],
      "text/plain": [
       "[1] 0.0000000 0.2054774 0.0000000 0.2580455 0.0000000"
      ]
     },
     "metadata": {},
     "output_type": "display_data"
    },
    {
     "data": {
      "text/html": [
       "<style>\n",
       ".list-inline {list-style: none; margin:0; padding: 0}\n",
       ".list-inline>li {display: inline-block}\n",
       ".list-inline>li:not(:last-child)::after {content: \"\\00b7\"; padding: 0 .5ex}\n",
       "</style>\n",
       "<ol class=list-inline><li>0</li><li>0.502682357988026</li><li>0</li><li>0.17022872279618</li><li>0</li></ol>\n"
      ],
      "text/latex": [
       "\\begin{enumerate*}\n",
       "\\item 0\n",
       "\\item 0.502682357988026\n",
       "\\item 0\n",
       "\\item 0.17022872279618\n",
       "\\item 0\n",
       "\\end{enumerate*}\n"
      ],
      "text/markdown": [
       "1. 0\n",
       "2. 0.502682357988026\n",
       "3. 0\n",
       "4. 0.17022872279618\n",
       "5. 0\n",
       "\n",
       "\n"
      ],
      "text/plain": [
       "[1] 0.0000000 0.5026824 0.0000000 0.1702287 0.0000000"
      ]
     },
     "metadata": {},
     "output_type": "display_data"
    }
   ],
   "source": [
    "stop_probability(graph, 1)\n",
    "accumulated_visiting_time(graph, 1)"
   ]
  },
  {
   "cell_type": "code",
   "execution_count": 53,
   "id": "3ed223c6-3e05-469a-94b3-d52df6b99033",
   "metadata": {
    "vscode": {
     "languageId": "r"
    }
   },
   "outputs": [
    {
     "data": {
      "text/html": [
       "<dl>\n",
       "\t<dt>$states</dt>\n",
       "\t\t<dd><table class=\"dataframe\">\n",
       "<caption>A matrix: 3 × 3 of type dbl</caption>\n",
       "<tbody>\n",
       "\t<tr><td>2</td><td>0</td><td>0</td></tr>\n",
       "\t<tr><td>2</td><td>0</td><td>1</td></tr>\n",
       "\t<tr><td>2</td><td>0</td><td>2</td></tr>\n",
       "</tbody>\n",
       "</table>\n",
       "</dd>\n",
       "\t<dt>$SIM</dt>\n",
       "\t\t<dd><table class=\"dataframe\">\n",
       "<caption>A matrix: 3 × 3 of type dbl</caption>\n",
       "<tbody>\n",
       "\t<tr><td>-1.989959</td><td> 0.581197</td><td> 0.408762</td></tr>\n",
       "\t<tr><td> 0.000000</td><td>-1.715875</td><td> 1.515875</td></tr>\n",
       "\t<tr><td> 0.000000</td><td> 0.000000</td><td>-0.100000</td></tr>\n",
       "</tbody>\n",
       "</table>\n",
       "</dd>\n",
       "\t<dt>$IPV</dt>\n",
       "\t\t<dd><style>\n",
       ".list-inline {list-style: none; margin:0; padding: 0}\n",
       ".list-inline>li {display: inline-block}\n",
       ".list-inline>li:not(:last-child)::after {content: \"\\00b7\"; padding: 0 .5ex}\n",
       "</style>\n",
       "<ol class=list-inline><li>1</li><li>0</li><li>0</li></ol>\n",
       "</dd>\n",
       "\t<dt>$indices</dt>\n",
       "\t\t<dd><style>\n",
       ".list-inline {list-style: none; margin:0; padding: 0}\n",
       ".list-inline>li {display: inline-block}\n",
       ".list-inline>li:not(:last-child)::after {content: \"\\00b7\"; padding: 0 .5ex}\n",
       "</style>\n",
       "<ol class=list-inline><li>2</li><li>4</li><li>6</li></ol>\n",
       "</dd>\n",
       "</dl>\n"
      ],
      "text/latex": [
       "\\begin{description}\n",
       "\\item[\\$states] A matrix: 3 × 3 of type dbl\n",
       "\\begin{tabular}{lll}\n",
       "\t 2 & 0 & 0\\\\\n",
       "\t 2 & 0 & 1\\\\\n",
       "\t 2 & 0 & 2\\\\\n",
       "\\end{tabular}\n",
       "\n",
       "\\item[\\$SIM] A matrix: 3 × 3 of type dbl\n",
       "\\begin{tabular}{lll}\n",
       "\t -1.989959 &  0.581197 &  0.408762\\\\\n",
       "\t  0.000000 & -1.715875 &  1.515875\\\\\n",
       "\t  0.000000 &  0.000000 & -0.100000\\\\\n",
       "\\end{tabular}\n",
       "\n",
       "\\item[\\$IPV] \\begin{enumerate*}\n",
       "\\item 1\n",
       "\\item 0\n",
       "\\item 0\n",
       "\\end{enumerate*}\n",
       "\n",
       "\\item[\\$indices] \\begin{enumerate*}\n",
       "\\item 2\n",
       "\\item 4\n",
       "\\item 6\n",
       "\\end{enumerate*}\n",
       "\n",
       "\\end{description}\n"
      ],
      "text/markdown": [
       "$states\n",
       ":   \n",
       "A matrix: 3 × 3 of type dbl\n",
       "\n",
       "| 2 | 0 | 0 |\n",
       "| 2 | 0 | 1 |\n",
       "| 2 | 0 | 2 |\n",
       "\n",
       "\n",
       "$SIM\n",
       ":   \n",
       "A matrix: 3 × 3 of type dbl\n",
       "\n",
       "| -1.989959 |  0.581197 |  0.408762 |\n",
       "|  0.000000 | -1.715875 |  1.515875 |\n",
       "|  0.000000 |  0.000000 | -0.100000 |\n",
       "\n",
       "\n",
       "$IPV\n",
       ":   1. 1\n",
       "2. 0\n",
       "3. 0\n",
       "\n",
       "\n",
       "\n",
       "$indices\n",
       ":   1. 2\n",
       "2. 4\n",
       "3. 6\n",
       "\n",
       "\n",
       "\n",
       "\n",
       "\n"
      ],
      "text/plain": [
       "$states\n",
       "     [,1] [,2] [,3]\n",
       "[1,]    2    0    0\n",
       "[2,]    2    0    1\n",
       "[3,]    2    0    2\n",
       "\n",
       "$SIM\n",
       "          [,1]      [,2]      [,3]\n",
       "[1,] -1.989959  0.581197  0.408762\n",
       "[2,]  0.000000 -1.715875  1.515875\n",
       "[3,]  0.000000  0.000000 -0.100000\n",
       "\n",
       "$IPV\n",
       "[1] 1 0 0\n",
       "\n",
       "$indices\n",
       "[1] 2 4 6\n"
      ]
     },
     "metadata": {},
     "output_type": "display_data"
    }
   ],
   "source": [
    "x <- stop_probability(graph, 1)\n",
    "stop_probs <- x[2:(length(x)-1)]\n",
    "x <- accumulated_visiting_time(graph, 1)\n",
    "accum_v_time <- x[2:(length(x)-1)]\n",
    "epoque_trans_rates <- stop_probs / accum_v_time\n",
    "\n",
    "add_epoque(n_samples, 10, graph, epoque_trans_rates, 2)\n",
    "graph_as_matrix(graph)"
   ]
  },
  {
   "cell_type": "code",
   "execution_count": 54,
   "id": "fe994da5-6c98-4be9-972a-7f3d1761c79d",
   "metadata": {
    "vscode": {
     "languageId": "r"
    }
   },
   "outputs": [
    {
     "data": {
      "image/svg+xml": [
       "<?xml version=\"1.0\" encoding=\"UTF-8\" standalone=\"no\"?>\n",
       "<!DOCTYPE svg PUBLIC \"-//W3C//DTD SVG 1.1//EN\"\n",
       " \"http://www.w3.org/Graphics/SVG/1.1/DTD/svg11.dtd\">\n",
       "<!-- Generated by graphviz version 8.1.0 (0)\n",
       " -->\n",
       "<!-- Title: G Pages: 1 -->\n",
       "<svg width=\"478pt\" height=\"379pt\"\n",
       " viewBox=\"0.00 0.00 478.16 379.00\" xmlns=\"http://www.w3.org/2000/svg\" xmlns:xlink=\"http://www.w3.org/1999/xlink\">\n",
       "<g id=\"graph0\" class=\"graph\" transform=\"scale(1 1) rotate(0) translate(36 343)\">\n",
       "<title>G</title>\n",
       "<polygon fill=\"white\" stroke=\"none\" points=\"-36,36 -36,-343 442.16,-343 442.16,36 -36,36\"/>\n",
       "<g id=\"clust2\" class=\"cluster\">\n",
       "<title>cluster_20</title>\n",
       "<polygon fill=\"whitesmoke\" stroke=\"whitesmoke\" points=\"171.25,-8 171.25,-299 247.04,-299 247.04,-8 171.25,-8\"/>\n",
       "<text text-anchor=\"middle\" x=\"209.15\" y=\"-281.7\" font-family=\"Helvetica,Arial,sans-serif\" font-size=\"14.00\">20</text>\n",
       "</g>\n",
       "<!-- Absorb -->\n",
       "<g id=\"node1\" class=\"node\">\n",
       "<title>Absorb</title>\n",
       "<ellipse fill=\"white\" stroke=\"lightgrey\" cx=\"367.98\" cy=\"-142\" rx=\"38.18\" ry=\"18\"/>\n",
       "<text text-anchor=\"middle\" x=\"367.98\" y=\"-136.2\" font-family=\"Helvetica,Arial,sans-serif\" font-size=\"14.00\">Absorb</text>\n",
       "</g>\n",
       "<!-- IPV -->\n",
       "<g id=\"node2\" class=\"node\">\n",
       "<title>IPV</title>\n",
       "<ellipse fill=\"white\" stroke=\"lightgrey\" cx=\"27\" cy=\"-34\" rx=\"27\" ry=\"18\"/>\n",
       "<text text-anchor=\"middle\" x=\"27\" y=\"-28.2\" font-family=\"Helvetica,Arial,sans-serif\" font-size=\"14.00\">IPV</text>\n",
       "</g>\n",
       "<!-- 2,0,0 -->\n",
       "<g id=\"node3\" class=\"node\">\n",
       "<title>2,0,0</title>\n",
       "<ellipse fill=\"white\" stroke=\"black\" cx=\"209.15\" cy=\"-34\" rx=\"29.9\" ry=\"18\"/>\n",
       "<text text-anchor=\"middle\" x=\"209.15\" y=\"-28.2\" font-family=\"Helvetica,Arial,sans-serif\" font-size=\"14.00\">2,0,0</text>\n",
       "</g>\n",
       "<!-- IPV&#45;&gt;2,0,0 -->\n",
       "<g id=\"edge1\" class=\"edge\">\n",
       "<title>IPV&#45;&gt;2,0,0</title>\n",
       "<path fill=\"none\" stroke=\"#f47d5d\" d=\"M54.19,-34C84.13,-34 133.47,-34 168.21,-34\"/>\n",
       "<polygon fill=\"#f47d5d\" stroke=\"#f47d5d\" points=\"167.93,-37.5 177.93,-34 167.93,-30.5 167.93,-37.5\"/>\n",
       "<text text-anchor=\"middle\" x=\"116.62\" y=\"-35.7\" font-family=\"Helvetica,Arial,sans-serif\" font-size=\"14.00\" fill=\"#f47d5d\">1</text>\n",
       "</g>\n",
       "<!-- 2,0,0&#45;&gt;Absorb -->\n",
       "<g id=\"edge5\" class=\"edge\">\n",
       "<title>2,0,0&#45;&gt;Absorb</title>\n",
       "<path fill=\"none\" stroke=\"#d9bd9b\" d=\"M229.69,-47.46C256.52,-65.94 305.02,-99.33 336.6,-121.08\"/>\n",
       "<polygon fill=\"#d9bd9b\" stroke=\"#d9bd9b\" points=\"334.2,-124.37 344.42,-127.16 338.17,-118.6 334.2,-124.37\"/>\n",
       "<text text-anchor=\"middle\" x=\"284.42\" y=\"-92.7\" font-family=\"Helvetica,Arial,sans-serif\" font-size=\"14.00\" fill=\"#d9bd9b\">1</text>\n",
       "</g>\n",
       "<!-- 2,0,1 -->\n",
       "<g id=\"node4\" class=\"node\">\n",
       "<title>2,0,1</title>\n",
       "<ellipse fill=\"white\" stroke=\"black\" cx=\"209.15\" cy=\"-142\" rx=\"29.9\" ry=\"18\"/>\n",
       "<text text-anchor=\"middle\" x=\"209.15\" y=\"-136.2\" font-family=\"Helvetica,Arial,sans-serif\" font-size=\"14.00\">2,0,1</text>\n",
       "</g>\n",
       "<!-- 2,0,0&#45;&gt;2,0,1 -->\n",
       "<g id=\"edge2\" class=\"edge\">\n",
       "<title>2,0,0&#45;&gt;2,0,1</title>\n",
       "<path fill=\"none\" stroke=\"#268e2e\" d=\"M209.15,-52.32C209.15,-68.84 209.15,-93.44 209.15,-112.69\"/>\n",
       "<polygon fill=\"#268e2e\" stroke=\"#268e2e\" points=\"205.65,-112.59 209.15,-122.59 212.65,-112.59 205.65,-112.59\"/>\n",
       "<text text-anchor=\"middle\" x=\"198.65\" y=\"-82.2\" font-family=\"Helvetica,Arial,sans-serif\" font-size=\"14.00\" fill=\"#268e2e\">5.81e&#45;01</text>\n",
       "</g>\n",
       "<!-- 2,0,2 -->\n",
       "<g id=\"node5\" class=\"node\">\n",
       "<title>2,0,2</title>\n",
       "<ellipse fill=\"white\" stroke=\"black\" cx=\"209.15\" cy=\"-250\" rx=\"29.9\" ry=\"18\"/>\n",
       "<text text-anchor=\"middle\" x=\"209.15\" y=\"-244.2\" font-family=\"Helvetica,Arial,sans-serif\" font-size=\"14.00\">2,0,2</text>\n",
       "</g>\n",
       "<!-- 2,0,0&#45;&gt;2,0,2 -->\n",
       "<g id=\"edge3\" class=\"edge\">\n",
       "<title>2,0,0&#45;&gt;2,0,2</title>\n",
       "<path fill=\"none\" stroke=\"#e46cd5\" d=\"M187.97,-46.82C162.81,-63.44 122.14,-95.02 105.42,-134.5 87.57,-176.65 139.05,-213.7 175.73,-233.88\"/>\n",
       "<polygon fill=\"#e46cd5\" stroke=\"#e46cd5\" points=\"173.68,-237.28 184.15,-238.87 176.96,-231.09 173.68,-237.28\"/>\n",
       "<text text-anchor=\"middle\" x=\"116.62\" y=\"-136.2\" font-family=\"Helvetica,Arial,sans-serif\" font-size=\"14.00\" fill=\"#e46cd5\">4.09e&#45;01</text>\n",
       "</g>\n",
       "<!-- 2,0,1&#45;&gt;Absorb -->\n",
       "<g id=\"edge6\" class=\"edge\">\n",
       "<title>2,0,1&#45;&gt;Absorb</title>\n",
       "<path fill=\"none\" stroke=\"#14ea6a\" d=\"M239.28,-142C261.52,-142 292.67,-142 318.63,-142\"/>\n",
       "<polygon fill=\"#14ea6a\" stroke=\"#14ea6a\" points=\"318.4,-145.5 328.4,-142 318.4,-138.5 318.4,-145.5\"/>\n",
       "<text text-anchor=\"middle\" x=\"284.42\" y=\"-143.7\" font-family=\"Helvetica,Arial,sans-serif\" font-size=\"14.00\" fill=\"#14ea6a\">0.2</text>\n",
       "</g>\n",
       "<!-- 2,0,1&#45;&gt;2,0,2 -->\n",
       "<g id=\"edge4\" class=\"edge\">\n",
       "<title>2,0,1&#45;&gt;2,0,2</title>\n",
       "<path fill=\"none\" stroke=\"#6bdda4\" d=\"M209.15,-160.32C209.15,-176.84 209.15,-201.44 209.15,-220.69\"/>\n",
       "<polygon fill=\"#6bdda4\" stroke=\"#6bdda4\" points=\"205.65,-220.59 209.15,-230.59 212.65,-220.59 205.65,-220.59\"/>\n",
       "<text text-anchor=\"middle\" x=\"198.65\" y=\"-190.2\" font-family=\"Helvetica,Arial,sans-serif\" font-size=\"14.00\" fill=\"#6bdda4\">1.52e+00</text>\n",
       "</g>\n",
       "<!-- 2,0,2&#45;&gt;Absorb -->\n",
       "<g id=\"edge7\" class=\"edge\">\n",
       "<title>2,0,2&#45;&gt;Absorb</title>\n",
       "<path fill=\"none\" stroke=\"#8b6590\" d=\"M229.69,-236.54C256.52,-218.06 305.02,-184.67 336.6,-162.92\"/>\n",
       "<polygon fill=\"#8b6590\" stroke=\"#8b6590\" points=\"338.17,-165.4 344.42,-156.84 334.2,-159.63 338.17,-165.4\"/>\n",
       "<text text-anchor=\"middle\" x=\"284.42\" y=\"-203.7\" font-family=\"Helvetica,Arial,sans-serif\" font-size=\"14.00\" fill=\"#8b6590\">0.1</text>\n",
       "</g>\n",
       "</g>\n",
       "</svg>\n"
      ]
     },
     "metadata": {},
     "output_type": "display_data"
    }
   ],
   "source": [
    "gam <- graph_as_matrix(graph)\n",
    "plot_graph(gam, subgraphs=TRUE, rainbow=TRUE, size=c(8, 8), align=TRUE,\n",
    "           fontsize=14, ranksep=1, nodesep=0.5,          \n",
    "           subgraphfun=function(state) paste(state[-length(state)], collapse=\"\"))"
   ]
  },
  {
   "cell_type": "code",
   "execution_count": 55,
   "id": "9001f9bd-4fab-4eb6-b678-bdb48b87eb90",
   "metadata": {
    "vscode": {
     "languageId": "r"
    }
   },
   "outputs": [
    {
     "data": {
      "text/html": [
       "<style>\n",
       ".list-inline {list-style: none; margin:0; padding: 0}\n",
       ".list-inline>li {display: inline-block}\n",
       ".list-inline>li:not(:last-child)::after {content: \"\\00b7\"; padding: 0 .5ex}\n",
       "</style>\n",
       "<ol class=list-inline><li>0</li><li>0.136436622307823</li><li>0</li><li>0.0914173787463299</li><li>0</li><li>0.302102074225121</li><li>0</li></ol>\n"
      ],
      "text/latex": [
       "\\begin{enumerate*}\n",
       "\\item 0\n",
       "\\item 0.136436622307823\n",
       "\\item 0\n",
       "\\item 0.0914173787463299\n",
       "\\item 0\n",
       "\\item 0.302102074225121\n",
       "\\item 0\n",
       "\\end{enumerate*}\n"
      ],
      "text/markdown": [
       "1. 0\n",
       "2. 0.136436622307823\n",
       "3. 0\n",
       "4. 0.0914173787463299\n",
       "5. 0\n",
       "6. 0.302102074225121\n",
       "7. 0\n",
       "\n",
       "\n"
      ],
      "text/plain": [
       "[1] 0.00000000 0.13643662 0.00000000 0.09141738 0.00000000 0.30210207 0.00000000"
      ]
     },
     "metadata": {},
     "output_type": "display_data"
    },
    {
     "data": {
      "text/html": [
       "<style>\n",
       ".list-inline {list-style: none; margin:0; padding: 0}\n",
       ".list-inline>li {display: inline-block}\n",
       ".list-inline>li:not(:last-child)::after {content: \"\\00b7\"; padding: 0 .5ex}\n",
       "</style>\n",
       "<ol class=list-inline><li>0</li><li>0.434093624543353</li><li>0</li><li>0.0938018575680832</li><li>0</li><li>0.173705246651991</li><li>0</li></ol>\n"
      ],
      "text/latex": [
       "\\begin{enumerate*}\n",
       "\\item 0\n",
       "\\item 0.434093624543353\n",
       "\\item 0\n",
       "\\item 0.0938018575680832\n",
       "\\item 0\n",
       "\\item 0.173705246651991\n",
       "\\item 0\n",
       "\\end{enumerate*}\n"
      ],
      "text/markdown": [
       "1. 0\n",
       "2. 0.434093624543353\n",
       "3. 0\n",
       "4. 0.0938018575680832\n",
       "5. 0\n",
       "6. 0.173705246651991\n",
       "7. 0\n",
       "\n",
       "\n"
      ],
      "text/plain": [
       "[1] 0.00000000 0.43409362 0.00000000 0.09380186 0.00000000 0.17370525 0.00000000"
      ]
     },
     "metadata": {},
     "output_type": "display_data"
    }
   ],
   "source": [
    "stop_probability(graph, 1)\n",
    "accumulated_visiting_time(graph, 1)"
   ]
  },
  {
   "cell_type": "code",
   "execution_count": 17,
   "id": "8407b476-fd59-4f4e-90d8-058d906a1e3a",
   "metadata": {
    "vscode": {
     "languageId": "r"
    }
   },
   "outputs": [
    {
     "data": {
      "text/html": [
       "<dl>\n",
       "\t<dt>$states</dt>\n",
       "\t\t<dd><table class=\"dataframe\">\n",
       "<caption>A matrix: 1 × 3 of type dbl</caption>\n",
       "<tbody>\n",
       "\t<tr><td>2</td><td>0</td><td>0</td></tr>\n",
       "</tbody>\n",
       "</table>\n",
       "</dd>\n",
       "\t<dt>$SIM</dt>\n",
       "\t\t<dd><table class=\"dataframe\">\n",
       "<caption>A matrix: 1 × 1 of type dbl</caption>\n",
       "<tbody>\n",
       "\t<tr><td>-1</td></tr>\n",
       "</tbody>\n",
       "</table>\n",
       "</dd>\n",
       "\t<dt>$IPV</dt>\n",
       "\t\t<dd>1</dd>\n",
       "\t<dt>$indices</dt>\n",
       "\t\t<dd>2</dd>\n",
       "</dl>\n"
      ],
      "text/latex": [
       "\\begin{description}\n",
       "\\item[\\$states] A matrix: 1 × 3 of type dbl\n",
       "\\begin{tabular}{lll}\n",
       "\t 2 & 0 & 0\\\\\n",
       "\\end{tabular}\n",
       "\n",
       "\\item[\\$SIM] A matrix: 1 × 1 of type dbl\n",
       "\\begin{tabular}{l}\n",
       "\t -1\\\\\n",
       "\\end{tabular}\n",
       "\n",
       "\\item[\\$IPV] 1\n",
       "\\item[\\$indices] 2\n",
       "\\end{description}\n"
      ],
      "text/markdown": [
       "$states\n",
       ":   \n",
       "A matrix: 1 × 3 of type dbl\n",
       "\n",
       "| 2 | 0 | 0 |\n",
       "\n",
       "\n",
       "$SIM\n",
       ":   \n",
       "A matrix: 1 × 1 of type dbl\n",
       "\n",
       "| -1 |\n",
       "\n",
       "\n",
       "$IPV\n",
       ":   1\n",
       "$indices\n",
       ":   2\n",
       "\n",
       "\n"
      ],
      "text/plain": [
       "$states\n",
       "     [,1] [,2] [,3]\n",
       "[1,]    2    0    0\n",
       "\n",
       "$SIM\n",
       "     [,1]\n",
       "[1,]   -1\n",
       "\n",
       "$IPV\n",
       "[1] 1\n",
       "\n",
       "$indices\n",
       "[1] 2\n"
      ]
     },
     "metadata": {},
     "output_type": "display_data"
    }
   ],
   "source": [
    "graph <- standard_coalescent(n_samples, 1)\n",
    "graph_as_matrix(graph)"
   ]
  },
  {
   "cell_type": "code",
   "execution_count": 18,
   "id": "7865d84d",
   "metadata": {
    "vscode": {
     "languageId": "r"
    }
   },
   "outputs": [
    {
     "ename": "ERROR",
     "evalue": "Error in add_epoque(graph, 1/5, 1): could not find function \"add_epoque\"\n",
     "output_type": "error",
     "traceback": [
      "Error in add_epoque(graph, 1/5, 1): could not find function \"add_epoque\"\nTraceback:\n"
     ]
    }
   ],
   "source": [
    "add_epoque(graph, 1/5, 1)"
   ]
  },
  {
   "cell_type": "code",
   "execution_count": null,
   "id": "7914c4e9",
   "metadata": {
    "vscode": {
     "languageId": "r"
    }
   },
   "outputs": [],
   "source": []
  }
 ],
 "metadata": {
  "kernelspec": {
   "display_name": "R",
   "language": "R",
   "name": "ir"
  },
  "language_info": {
   "codemirror_mode": "r",
   "file_extension": ".r",
   "mimetype": "text/x-r-source",
   "name": "R",
   "pygments_lexer": "r",
   "version": "4.3.1"
  }
 },
 "nbformat": 4,
 "nbformat_minor": 5
}
